{
 "cells": [
  {
   "cell_type": "code",
   "execution_count": null,
   "metadata": {},
   "outputs": [],
   "source": [
    "###########################################################\n",
    "#                                                         #\n",
    "#                         CSV                             #\n",
    "#                                                         #\n",
    "#                         avec                            #\n",
    "#                                                         #\n",
    "#                          10/2018     Adrien Poindron    #\n",
    "###########################################################"
   ]
  },
  {
   "cell_type": "code",
   "execution_count": 1,
   "metadata": {},
   "outputs": [],
   "source": [
    "# %pylab\n",
    "\n",
    "import numpy\n",
    "import matplotlib\n",
    "from matplotlib import pylab, mlab, pyplot\n",
    "from mpl_toolkits.mplot3d import Axes3D\n",
    "np = numpy\n",
    "plt = pyplot\n",
    "\n",
    "matplotlib.rcParams.update({'font.size': 17})\n",
    "matplotlib.rcParams[\"figure.dpi\"] = 100\n",
    "\n",
    "from IPython.display import display\n",
    "from IPython.core.pylabtools import figsize, getfigs\n",
    "\n",
    "from pylab import *\n",
    "from numpy import *\n",
    "\n",
    "from scipy.optimize import curve_fit"
   ]
  },
  {
   "cell_type": "code",
   "execution_count": 2,
   "metadata": {},
   "outputs": [],
   "source": [
    "import os\n",
    "from os import listdir\n",
    "from os.path import isfile, join\n",
    "\n",
    "import tkinter as tk\n",
    "from tkinter import filedialog\n",
    "%matplotlib qt\n",
    "\n",
    "from pathlib import Path\n",
    "from matplotlib import gridspec\n",
    "from mpl_toolkits.axes_grid1.inset_locator import zoomed_inset_axes\n",
    "from mpl_toolkits.axes_grid1.inset_locator import mark_inset"
   ]
  },
  {
   "cell_type": "code",
   "execution_count": 3,
   "metadata": {},
   "outputs": [],
   "source": [
    "from scipy.signal import argrelextrema, find_peaks\n",
    "from scipy.optimize import curve_fit"
   ]
  },
  {
   "cell_type": "code",
   "execution_count": 4,
   "metadata": {},
   "outputs": [],
   "source": [
    "%run /home/adrian/PycharmProjects/data_analysis/data_fct_Adrien.py"
   ]
  },
  {
   "cell_type": "code",
   "execution_count": null,
   "metadata": {},
   "outputs": [],
   "source": []
  },
  {
   "cell_type": "markdown",
   "metadata": {},
   "source": [
    "# Sélection fichiers"
   ]
  },
  {
   "cell_type": "code",
   "execution_count": 35,
   "metadata": {},
   "outputs": [],
   "source": [
    "# sélection des fichiers donnée (Python 3)\n",
    "file_path = load_file_GUI('/home/adrian/Documents/Mesures/')\n",
    "filename = file_path\n",
    "# print(file_path)"
   ]
  },
  {
   "cell_type": "code",
   "execution_count": 36,
   "metadata": {},
   "outputs": [
    {
     "data": {
      "text/plain": [
       "('/home/adrian/Documents/Mesures/Electrospray/20191105/WA000013.CSV',\n",
       " '/home/adrian/Documents/Mesures/Electrospray/20191105/WA000014.CSV',\n",
       " '/home/adrian/Documents/Mesures/Electrospray/20191105/WA000015.CSV',\n",
       " '/home/adrian/Documents/Mesures/Electrospray/20191105/WA000016.CSV',\n",
       " '/home/adrian/Documents/Mesures/Electrospray/20191105/WA000017.CSV',\n",
       " '/home/adrian/Documents/Mesures/Electrospray/20191105/WA000018.CSV',\n",
       " '/home/adrian/Documents/Mesures/Electrospray/20191105/WA000019.CSV',\n",
       " '/home/adrian/Documents/Mesures/Electrospray/20191105/WA000020.CSV',\n",
       " '/home/adrian/Documents/Mesures/Electrospray/20191105/WA000021.CSV',\n",
       " '/home/adrian/Documents/Mesures/Electrospray/20191105/WA000022.CSV',\n",
       " '/home/adrian/Documents/Mesures/Electrospray/20191105/WA000023.CSV',\n",
       " '/home/adrian/Documents/Mesures/Electrospray/20191105/WA000024.CSV')"
      ]
     },
     "execution_count": 36,
     "metadata": {},
     "output_type": "execute_result"
    }
   ],
   "source": [
    "file_path # 2 5 8 9"
   ]
  },
  {
   "cell_type": "markdown",
   "metadata": {},
   "source": [
    "# Importation des fichiers"
   ]
  },
  {
   "cell_type": "code",
   "execution_count": 37,
   "metadata": {},
   "outputs": [],
   "source": [
    "the_col_to_read = (3,4,5)     # lecroy  (3,4,5) (0,1,2)     labview  (0,1)\n",
    "the_row_to_skip = 11           # lecroy  11         2        labview  1\n",
    "the_delim = ','               # lecroy  ','       ','       labview  '\\t'\n",
    "\n",
    "data_dico = {}\n",
    "data_dico = import_data(file_path,\n",
    "                        row_skip=the_row_to_skip,\n",
    "                        col_to_read=the_col_to_read,\n",
    "                        delim=the_delim)\n",
    "\n",
    "TP,CH = convert_dico_to_var(data_dico)"
   ]
  },
  {
   "cell_type": "code",
   "execution_count": 38,
   "metadata": {},
   "outputs": [
    {
     "name": "stdout",
     "output_type": "stream",
     "text": [
      "dt[0] = 2.0000e-08sec\n",
      "dt[1] = 2.0000e-08sec\n",
      "dt[2] = 2.0000e-08sec\n",
      "dt[3] = 2.0000e-08sec\n",
      "dt[4] = 2.0000e-08sec\n",
      "dt[5] = 2.0000e-08sec\n",
      "dt[6] = 2.0000e-08sec\n",
      "dt[7] = 2.0000e-08sec\n",
      "dt[8] = 2.0000e-08sec\n",
      "dt[9] = 2.0000e-08sec\n",
      "dt[10] = 2.0000e-08sec\n",
      "dt[11] = 2.0000e-08sec\n"
     ]
    }
   ],
   "source": [
    "# temps entre deux échantillons (si constant)\n",
    "dt = [TP[k][590] - TP[k][589] for k in range(0,len(file_path))]\n",
    "# sample_start = 50000\n",
    "# sample_end = 25000*60+50000\n",
    "for k in range(0,len(file_path)):\n",
    "    print('{}{}{}{:.4e}{}'.format('dt[', k, '] = ',dt[k],'sec'))"
   ]
  },
  {
   "cell_type": "code",
   "execution_count": 46,
   "metadata": {},
   "outputs": [],
   "source": [
    "cl = [ cm.gist_rainbow(x) for x in linspace(0,1,len(TP))] # gist_rainbow"
   ]
  },
  {
   "cell_type": "code",
   "execution_count": 47,
   "metadata": {},
   "outputs": [
    {
     "name": "stdout",
     "output_type": "stream",
     "text": [
      "/home/adrian/Documents/Mesures/Electrospray/20191105/WA000017.CSV\n",
      "/home/adrian/Documents/Mesures/Electrospray/20191105/WA000016.CSV\n",
      "/home/adrian/Documents/Mesures/Electrospray/20191105/WA000015.CSV\n",
      "/home/adrian/Documents/Mesures/Electrospray/20191105/WA000014.CSV\n",
      "/home/adrian/Documents/Mesures/Electrospray/20191105/WA000013.CSV\n",
      "/home/adrian/Documents/Mesures/Electrospray/20191105/WA000018.CSV\n",
      "/home/adrian/Documents/Mesures/Electrospray/20191105/WA000019.CSV\n",
      "/home/adrian/Documents/Mesures/Electrospray/20191105/WA000020.CSV\n",
      "/home/adrian/Documents/Mesures/Electrospray/20191105/WA000021.CSV\n",
      "/home/adrian/Documents/Mesures/Electrospray/20191105/WA000024.CSV\n",
      "/home/adrian/Documents/Mesures/Electrospray/20191105/WA000023.CSV\n",
      "/home/adrian/Documents/Mesures/Electrospray/20191105/WA000022.CSV\n"
     ]
    }
   ],
   "source": [
    "# plot all\n",
    "# start = 4000\n",
    "# end = 33200\n",
    "# sc = ['U1','U7','U111']\n",
    "my_order = [4,3,2,1,0,5,6,7,8,11,10,9]\n",
    "my_label = ['15.55/16.20','14.05/14.66','12.85/13.50', '11.63/12.23', '05.35/05.98','17.75/18.00','18.40/18.75','23.45/23.80','25.95/26.52','36.30/36.70','31.05/31.30','28.55,28.65']\n",
    "fname='MCP Bender'\n",
    "fig,ax = plt.subplots(1,1,num=fname,clear=True)\n",
    "# fig.suptitle('Tension C12 lentille centre | 0/X/0')\n",
    "# clf()\n",
    "fig.set_size_inches(11.69,8.27)\n",
    "\n",
    "# title('Scans 866')\n",
    "# ax2 = fig.add_subplot(212,sharex=ax1)\n",
    "# cl = [ cm.cool(x) for x in linspace(0,1,len(TP)) ]\n",
    "cnt = 0\n",
    "for to_plot in my_order:\n",
    "    print(file_path[to_plot])\n",
    "    ax.plot(TP[to_plot]*1e6, -CH[to_plot,0]*1000,color=cl[cnt],marker='',ms=2,ls='-',lw=0.5, label = f'{my_label[to_plot]} µs')\n",
    "    ax.set_xlabel('[µs]')\n",
    "    ax.set_ylabel('[mV]')    \n",
    "    ax.set_xlim(-0,70)\n",
    "    ax.set_ylim(-4.5,11)\n",
    "    leg = ax.legend(loc=1,ncol = 2,fancybox=True,shadow=True,\n",
    "                    title=f'{file_path[to_plot][6:52]}')\n",
    "    # ax1.set_ylim(0,4)\n",
    "\n",
    "    cnt += 1\n",
    "# ax1.set_xlim(-3,128)\n",
    "# ax1.set_ylim(-7,1.5)\n",
    "ax.grid()\n",
    "\n",
    "plt.tight_layout()\n",
    "savefig(fname,dpi=300)\n",
    "# fig.subplots_adjust(hspace=0.020, wspace=0.020,top=0.94)"
   ]
  },
  {
   "cell_type": "code",
   "execution_count": 40,
   "metadata": {},
   "outputs": [
    {
     "data": {
      "text/plain": [
       "'/home/adrian/Documents/Mesures/Electrospray/20191105'"
      ]
     },
     "execution_count": 40,
     "metadata": {},
     "output_type": "execute_result"
    }
   ],
   "source": [
    "file_path[to_plot][0:52]"
   ]
  },
  {
   "cell_type": "code",
   "execution_count": 41,
   "metadata": {},
   "outputs": [],
   "source": [
    "test_min = []\n",
    "for k in range(len(TP)):\n",
    "    when_pos = argmin(abs(TP[k,:]))\n",
    "    test_min.append( find_peaks( -CH[my_order[k],0,when_pos:-50], threshold = 0.5*1e-3 , height = 0.2*1e-3, distance = 50) )\n",
    "# test_min = delete(testm_min,(0,2,3,7,8))"
   ]
  },
  {
   "cell_type": "code",
   "execution_count": 42,
   "metadata": {},
   "outputs": [],
   "source": [
    "test_min = []\n",
    "for k in range(len(TP)):\n",
    "    when_pos = argmin(abs(TP[k,:]))\n",
    "    x = -CH[k,0,:]\n",
    "    # detecte pics\n",
    "    peaks, properties = find_peaks(x, distance = 400, width=30, height = -4*1e-4) # , prominence=(0.5e-3, None)\n",
    "    # dégage valeurs temporelles des minimums fantaisistes\n",
    "    peaks = [peaks[w] for w in range(len(peaks)) if 0 < TP[k,peaks[w]]*1e6 < 100]\n",
    "    test_min.append(peaks )\n",
    "    \n",
    "# test_min = delete(testm_min,(0,2,3,7,8))"
   ]
  },
  {
   "cell_type": "code",
   "execution_count": 43,
   "metadata": {},
   "outputs": [
    {
     "data": {
      "text/plain": [
       "[6643]"
      ]
     },
     "execution_count": 43,
     "metadata": {},
     "output_type": "execute_result"
    }
   ],
   "source": [
    "test_min[my_order[11]]"
   ]
  },
  {
   "cell_type": "code",
   "execution_count": 48,
   "metadata": {},
   "outputs": [
    {
     "name": "stdout",
     "output_type": "stream",
     "text": [
      "/home/adrian/Documents/Mesures/Electrospray/20191105/WA000016.CSV\n",
      "/home/adrian/Documents/Mesures/Electrospray/20191105/WA000018.CSV\n",
      "/home/adrian/Documents/Mesures/Electrospray/20191105/WA000020.CSV\n",
      "/home/adrian/Documents/Mesures/Electrospray/20191105/WA000024.CSV\n"
     ]
    }
   ],
   "source": [
    "# plot all\n",
    "# start = 4000\n",
    "# end = 33200\n",
    "# sc = ['U1','U7','U111']\n",
    "my_order = [4,3,2,1,0,5,6,7,8,11,10,9]\n",
    "my_label = ['15.55/16.20','14.05/14.66','12.85/13.50', '11.63/12.23', '05.35/05.98','17.75/18.00','18.40/18.75','23.45/23.80','25.95/26.52','36.30/36.70','31.05/31.30','28.55/28.65']\n",
    "fname='mini MCP Bender'\n",
    "fig,ax = plt.subplots(1,1,num=fname,clear=True)\n",
    "# fig.suptitle('Tension C12 lentille centre | 0/X/0')\n",
    "# clf()\n",
    "fig.set_size_inches(11.69,8.27)\n",
    "\n",
    "# title('Scans 866')\n",
    "# ax2 = fig.add_subplot(212,sharex=ax1)\n",
    "# cl = [ cm.cool(x) for x in linspace(0,1,len(TP)) ]\n",
    "cnt = 0\n",
    "for to_plot in [1,5,7,9]:   #  range(len(TP))\n",
    "    m = my_order[to_plot]\n",
    "#     m = to_plot\n",
    "    print(file_path[m])\n",
    "    ax.plot(TP[m]*1e6, CH[m,0]*1000,color=cl[to_plot],marker='',ms=2,ls='-',lw=0.5, label = f'{my_label[my_order[to_plot]]} µs')\n",
    "    ax.hlines(-4*1e-4,TP[0]*1e6,TP[-1]*1e6)\n",
    "    for k in range(len(test_min[m])):\n",
    "        ax.vlines(TP[m,test_min[m][k]]*1e6,-10,0.5,linestyle=':',color=cl[to_plot])\n",
    "    ax.set_xlabel('[µs]')\n",
    "    ax.set_ylabel('[mV]')    \n",
    "    ax.set_xlim(-0,70)\n",
    "    ax.set_ylim(-7,3.5)\n",
    "    leg = ax.legend(loc=0,ncol = 1,fancybox=True,shadow=True,\n",
    "                    title=f'{file_path[to_plot][6:52]}')\n",
    "    # ax1.set_ylim(0,4)\n",
    "\n",
    "    cnt += 1\n",
    "# ax1.set_xlim(-3,128)\n",
    "# ax1.set_ylim(-7,1.5)\n",
    "ax.grid()\n",
    "\n",
    "plt.tight_layout()\n",
    "savefig(fname,dpi=300)\n",
    "# fig.subplots_adjust(hspace=0.020, wspace=0.020,top=0.94)"
   ]
  },
  {
   "cell_type": "code",
   "execution_count": 49,
   "metadata": {},
   "outputs": [
    {
     "name": "stdout",
     "output_type": "stream",
     "text": [
      "/home/adrian/Documents/Mesures/Electrospray/20191105/WA000017.CSV\n",
      "/home/adrian/Documents/Mesures/Electrospray/20191105/WA000016.CSV\n",
      "/home/adrian/Documents/Mesures/Electrospray/20191105/WA000015.CSV\n",
      "/home/adrian/Documents/Mesures/Electrospray/20191105/WA000014.CSV\n",
      "/home/adrian/Documents/Mesures/Electrospray/20191105/WA000013.CSV\n",
      "/home/adrian/Documents/Mesures/Electrospray/20191105/WA000018.CSV\n",
      "/home/adrian/Documents/Mesures/Electrospray/20191105/WA000019.CSV\n",
      "/home/adrian/Documents/Mesures/Electrospray/20191105/WA000020.CSV\n",
      "/home/adrian/Documents/Mesures/Electrospray/20191105/WA000021.CSV\n",
      "/home/adrian/Documents/Mesures/Electrospray/20191105/WA000024.CSV\n",
      "/home/adrian/Documents/Mesures/Electrospray/20191105/WA000023.CSV\n",
      "/home/adrian/Documents/Mesures/Electrospray/20191105/WA000022.CSV\n"
     ]
    }
   ],
   "source": [
    "# plot all\n",
    "# start = 4000\n",
    "# end = 33200\n",
    "# sc = ['U1','U7','U111']\n",
    "my_order = [4,3,2,1,0,5,6,7,8,11,10,9]\n",
    "my_label = ['15.55/16.20','14.05/14.66','12.85/13.50',\n",
    "            '11.63/12.23', '05.35/05.98','17.75/18.00',\n",
    "            '18.40/18.75','23.45/23.80','25.95/26.52',\n",
    "            '36.30/36.70','31.05/31.30','28.55/28.65']\n",
    "\n",
    "fname='pos min MCP Bender'\n",
    "fig,ax = plt.subplots(1,1,num=fname,clear=True)\n",
    "# fig.suptitle('Tension C12 lentille centre | 0/X/0')\n",
    "# clf()\n",
    "fig.set_size_inches(11.69,8.27)\n",
    "\n",
    "# title('Scans 866')\n",
    "# ax2 = fig.add_subplot(212,sharex=ax1)\n",
    "# cl = [ cm.cool(x) for x in linspace(0,1,len(TP)) ]\n",
    "cnt = 0\n",
    "for to_plot in range(len(my_order)):   # [1,7,9]\n",
    "    m = my_order[to_plot]\n",
    "#     m = to_plot\n",
    "    print(file_path[m])\n",
    "    for k in range(len(test_min[m])):\n",
    "        ax.plot(TP[m,test_min[m][k]]*1e6,CH[m,0,test_min[m][k]]*1000,color=cl[to_plot],\n",
    "                marker='+',ms=2,mew=8,ls='', label = f'{my_label[my_order[to_plot]]} µs')\n",
    "        if k ==0:\n",
    "            leg = ax.legend(loc=0,ncol = 2,fancybox=True,shadow=True,\n",
    "                title=f'{file_path[to_plot][6:52]}')\n",
    "    ax.set_xlabel('[µs]')\n",
    "    ax.set_ylabel('[mV]')    \n",
    "\n",
    "    cnt += 1\n",
    "\n",
    "# ax1.set_xlim(-3,128)\n",
    "# ax1.set_ylim(-7,1.5)\n",
    "ax.grid()\n",
    "\n",
    "plt.tight_layout()\n",
    "savefig(fname,dpi=300)\n",
    "# fig.subplots_adjust(hspace=0.020, wspace=0.020,top=0.94)"
   ]
  },
  {
   "cell_type": "code",
   "execution_count": 51,
   "metadata": {},
   "outputs": [
    {
     "name": "stdout",
     "output_type": "stream",
     "text": [
      "/home/adrian/Documents/Mesures/Electrospray/20191105/WA000017.CSV\n",
      "/home/adrian/Documents/Mesures/Electrospray/20191105/WA000016.CSV\n",
      "/home/adrian/Documents/Mesures/Electrospray/20191105/WA000015.CSV\n",
      "/home/adrian/Documents/Mesures/Electrospray/20191105/WA000014.CSV\n",
      "/home/adrian/Documents/Mesures/Electrospray/20191105/WA000013.CSV\n",
      "/home/adrian/Documents/Mesures/Electrospray/20191105/WA000018.CSV\n",
      "/home/adrian/Documents/Mesures/Electrospray/20191105/WA000019.CSV\n",
      "/home/adrian/Documents/Mesures/Electrospray/20191105/WA000020.CSV\n",
      "/home/adrian/Documents/Mesures/Electrospray/20191105/WA000021.CSV\n",
      "/home/adrian/Documents/Mesures/Electrospray/20191105/WA000024.CSV\n",
      "/home/adrian/Documents/Mesures/Electrospray/20191105/WA000023.CSV\n",
      "/home/adrian/Documents/Mesures/Electrospray/20191105/WA000022.CSV\n"
     ]
    }
   ],
   "source": [
    "# plot all\n",
    "# start = 4000\n",
    "# end = 33200\n",
    "# sc = ['U1','U7','U111']\n",
    "my_order = [4,3,2,1,0,5,6,7,8,11,10,9]\n",
    "my_label = ['15.55/16.20','14.05/14.66','12.85/13.50', '11.63/12.23', '05.35/05.98','17.75/18.00','18.40/18.75','23.45/23.80','25.95/26.52','36.30/36.70','31.05/31.30','28.55/28.65']\n",
    "molecules = [79, 448.51]\n",
    "masse = []\n",
    "for d in range(len(TP)) :\n",
    "    masse.append( [molecules[c] for c in range(len(test_min[d]))] )\n",
    "\n",
    "fname='t vs m'    \n",
    "fig,ax = plt.subplots(1,1,num=fname,clear=True)\n",
    "# fig.suptitle('Tension C12 lentille centre | 0/X/0')\n",
    "# clf()\n",
    "fig.set_size_inches(11.69,8.27)\n",
    "\n",
    "# title('Scans 866')\n",
    "# ax2 = fig.add_subplot(212,sharex=ax1)\n",
    "# cl = [ cm.cool(x) for x in linspace(0,1,len(TP)) ]\n",
    "cnt = 0\n",
    "for to_plot in range(len(TP)):   # [1,7,9]\n",
    "    m = my_order[to_plot]\n",
    "#     m = to_plot\n",
    "    print(file_path[m])\n",
    "# for k in range(len(test_min[m])):\n",
    "    ax.plot(masse[m],TP[m,test_min[m]]*1e6,color=cl[to_plot],\n",
    "            marker='+',ms=2,mew=8, label = f'{my_label[my_order[to_plot]]} µs')\n",
    "    leg = ax.legend(loc=0,ncol = 3,fancybox=True,shadow=True,\n",
    "                title=f'{file_path[to_plot][6:52]}')\n",
    "    ax.set_xlabel('[amu]')\n",
    "    ax.set_ylabel('[µs]')    \n",
    "#     ax.set_xlim(-0,70)\n",
    "    ax.set_ylim(15,56)\n",
    "#     leg = ax.legend(loc=4)\n",
    "    # ax1.set_ylim(0,4)\n",
    "\n",
    "    cnt += 1\n",
    "# ax1.set_xlim(-3,128)\n",
    "# ax1.set_ylim(-7,1.5)\n",
    "ax.grid()\n",
    "\n",
    "plt.tight_layout()\n",
    "savefig(fname,dpi=300)\n",
    "# fig.subplots_adjust(hspace=0.020, wspace=0.020,top=0.94)"
   ]
  },
  {
   "cell_type": "code",
   "execution_count": 52,
   "metadata": {},
   "outputs": [],
   "source": [
    "def my_lin(x,a,b):\n",
    "    y = a*x + b\n",
    "    return y\n",
    "\n",
    "def my_sqrt(x,a,b):\n",
    "    y = a*sqrt(x) + b\n",
    "    return y"
   ]
  },
  {
   "cell_type": "code",
   "execution_count": 55,
   "metadata": {},
   "outputs": [
    {
     "name": "stdout",
     "output_type": "stream",
     "text": [
      "/home/adrian/Documents/Mesures/Electrospray/20191105/WA000017.CSV\n",
      "/home/adrian/Documents/Mesures/Electrospray/20191105/WA000016.CSV\n",
      "/home/adrian/Documents/Mesures/Electrospray/20191105/WA000015.CSV\n",
      "/home/adrian/Documents/Mesures/Electrospray/20191105/WA000014.CSV\n",
      "/home/adrian/Documents/Mesures/Electrospray/20191105/WA000013.CSV\n",
      "/home/adrian/Documents/Mesures/Electrospray/20191105/WA000018.CSV\n",
      "/home/adrian/Documents/Mesures/Electrospray/20191105/WA000019.CSV\n",
      "/home/adrian/Documents/Mesures/Electrospray/20191105/WA000020.CSV\n",
      "/home/adrian/Documents/Mesures/Electrospray/20191105/WA000021.CSV\n",
      "/home/adrian/Documents/Mesures/Electrospray/20191105/WA000024.CSV\n",
      "/home/adrian/Documents/Mesures/Electrospray/20191105/WA000023.CSV\n",
      "/home/adrian/Documents/Mesures/Electrospray/20191105/WA000022.CSV\n"
     ]
    },
    {
     "name": "stderr",
     "output_type": "stream",
     "text": [
      "/home/adrian/.local/lib/python3.6/site-packages/ipykernel_launcher.py:30: DeprecationWarning: object of type <class 'float'> cannot be safely interpreted as an integer.\n",
      "/home/adrian/.local/lib/python3.6/site-packages/scipy/optimize/minpack.py:794: OptimizeWarning: Covariance of the parameters could not be estimated\n",
      "  category=OptimizeWarning)\n"
     ]
    }
   ],
   "source": [
    "# plot all AVEC FIT LIN\n",
    "# start = 4000\n",
    "# end = 33200\n",
    "# sc = ['U1','U7','U111']\n",
    "my_order = [4,3,2,1,0,5,6,7,8,11,10,9]\n",
    "my_label = ['15.55/16.20','14.05/14.66','12.85/13.50', '11.63/12.23', '05.35/05.98','17.75/18.00','18.40/18.75','23.45/23.80','25.95/26.52','36.30/36.70','31.05/31.30','28.55/28.65']\n",
    "molecules = [79, 448.51]\n",
    "masse = []\n",
    "for d in range(len(TP)) :\n",
    "    masse.append( [molecules[c] for c in range(len(test_min[d]))] )\n",
    "    \n",
    "fname='t vs m avec fit'\n",
    "fig,ax = plt.subplots(1,1,num=fname,clear=True)\n",
    "\n",
    "# fig.suptitle('Tension C12 lentille centre | 0/X/0')\n",
    "# clf()\n",
    "\n",
    "fig.suptitle(f'{file_path[to_plot][6:52]}')\n",
    "# title('Scans 866')\n",
    "# ax2 = fig.add_subplot(212,sharex=ax1)\n",
    "# cl = [ cm.cool(x) for x in linspace(0,1,len(TP)) ]\n",
    "cnt = 0\n",
    "for to_plot in range(len(TP)):   # [1,7,9]\n",
    "    m = my_order[to_plot]\n",
    "#     m = to_plot\n",
    "    print(file_path[m])\n",
    "# for k in range(len(test_min[m])):\n",
    "    ax.plot(masse[m],TP[m,test_min[m]]*1e6,color=cl[to_plot],\n",
    "                marker='+',ms=2,mew=8, label = f'{my_label[my_order[to_plot]]} µs')\n",
    "    my_TP = linspace(0,100,1e4)\n",
    "    if len(test_min[m]) == 2:\n",
    "        my_coeff_lin = curve_fit(my_lin,masse[m],TP[m,test_min[m]]*1e6)\n",
    "        aandb = my_coeff_lin[0]\n",
    "        a = aandb[0]\n",
    "        b = aandb[1]\n",
    "        my_curve = my_lin(my_TP,a,b)\n",
    "        ax.plot(my_TP,my_curve,color=cl[to_plot],\n",
    "                marker='',ls='-',ms=2,mew=8) \n",
    "    ax.set_xlim(-20,460)\n",
    "    ax.set_ylim(15,56)\n",
    "    leg = ax.legend(loc=4,ncol = 2,fancybox=True,shadow=True)\n",
    "    # ax1.set_ylim(0,4)\n",
    "\n",
    "    cnt += 1\n",
    "# ax1.set_xlim(-3,128)\n",
    "# ax1.set_ylim(-7,1.5)\n",
    "ax.grid()\n",
    "ax.set_xlabel('[amu]')\n",
    "ax.set_ylabel('[µs]')   \n",
    "plt.tight_layout()\n",
    "subplots_adjust(top=0.94)\n",
    "fig.set_size_inches(11.69,8.27)\n",
    "savefig(fname,dpi=300)\n",
    "# fig.subplots_adjust(hspace=0.020, wspace=0.020,top=0.94)"
   ]
  },
  {
   "cell_type": "code",
   "execution_count": 57,
   "metadata": {},
   "outputs": [
    {
     "name": "stdout",
     "output_type": "stream",
     "text": [
      "/home/adrian/Documents/Mesures/Electrospray/20191105/WA000015.CSV\n",
      "/home/adrian/Documents/Mesures/Electrospray/20191105/WA000018.CSV\n",
      "/home/adrian/Documents/Mesures/Electrospray/20191105/WA000021.CSV\n",
      "/home/adrian/Documents/Mesures/Electrospray/20191105/WA000022.CSV\n"
     ]
    },
    {
     "name": "stderr",
     "output_type": "stream",
     "text": [
      "/home/adrian/.local/lib/python3.6/site-packages/ipykernel_launcher.py:31: DeprecationWarning: object of type <class 'float'> cannot be safely interpreted as an integer.\n",
      "/home/adrian/.local/lib/python3.6/site-packages/matplotlib/cbook/__init__.py:2446: UserWarning: Saw kwargs ['mew', 'markeredgewidth'] which are all aliases for 'markeredgewidth'.  Kept value from 'markeredgewidth'\n",
      "  seen=seen, canon=canonical, used=seen[-1]))\n"
     ]
    }
   ],
   "source": [
    "# plot all AVEC SQRT LIN\n",
    "# start = 4000\n",
    "# end = 33200\n",
    "# sc = ['U1','U7','U111']\n",
    "my_order = [4,3,2,1,0,5,6,7,8,11,10,9]\n",
    "my_label = ['15.55/16.20','14.05/14.66','12.85/13.50', '11.63/12.23', '05.35/05.98','17.75/18.00','18.40/18.75','23.45/23.80','25.95/26.52','36.30/36.70','31.05/31.30','28.55/28.65']\n",
    "molecules = [79, 448.51]\n",
    "masse = []\n",
    "for d in range(len(TP)) :\n",
    "    masse.append( [molecules[c] for c in range(len(test_min[d]))] )\n",
    "\n",
    "fname='t vs m avec fit moins t pulse'\n",
    "fig,ax = plt.subplots(1,1,num=fname,clear=True)\n",
    "# fig.suptitle('Tension C12 lentille centre | 0/X/0')\n",
    "# clf()\n",
    "\n",
    "fig.suptitle(f'{file_path[to_plot][6:52]}')\n",
    "# title('Scans 866')\n",
    "# ax2 = fig.add_subplot(212,sharex=ax1)\n",
    "# cl = [ cm.cool(x) for x in linspace(0,1,len(TP)) ]\n",
    "cnt = 0\n",
    "\n",
    "for to_plot in range(2,len(TP),3):   # [1,7,9]\n",
    "    m = my_order[to_plot]\n",
    "#     m = to_plot\n",
    "    print(file_path[m])\n",
    "    t_pulse = float( my_label[m][:5] )\n",
    "# for k in range(len(test_min[m])):\n",
    "#     ax.plot(masse[m],(TP[m,test_min[m]])*1e6-t_pulse,color=cl[to_plot],\n",
    "#             marker='+',ms=2,mew=8,ls='', label = f'{my_label[my_order[to_plot]]} µs')\n",
    "    my_amu = linspace(0,450,1e4)\n",
    "    if len(test_min[m]) == 2:\n",
    "        my_coeff_lin , error = curve_fit(my_sqrt,masse[m],(TP[m,test_min[m]])*1e6-t_pulse,sigma = [1]*2,absolute_sigma=True)\n",
    "        aandb = my_coeff_lin\n",
    "        a = aandb[0]\n",
    "        b = aandb[1]\n",
    "        perr = np.sqrt(np.diag(error))[0]\n",
    "        my_curve = my_sqrt(my_amu,a,b)\n",
    "        ax.plot(my_amu,my_curve,\n",
    "                    color=cl[to_plot],marker='',ls='-',ms=2,mew=8) \n",
    "#     ax.set_xlim(-0,70)\n",
    "#     ax.set_ylim(-10.5,3)\n",
    "    ax.errorbar(masse[m],(TP[m,test_min[m]])*1e6-t_pulse,color=cl[to_plot],yerr=perr,\n",
    "            marker='x',ms=2,mew=8,ls='', label = f'{my_label[my_order[to_plot]]} µs',\n",
    "            capsize = 6,markeredgewidth=1,barsabove=True) \n",
    "    leg = ax.legend(loc=4)\n",
    "    # ax1.set_ylim(0,4)\n",
    "    cnt += 1\n",
    "    \n",
    "\n",
    "# ax1.set_xlim(-3,128)\n",
    "# ax1.set_ylim(-7,1.5)\n",
    "ax.grid()\n",
    "# ax.yaxis.set_major_locator(matplotlib.ticker.MultipleLocator(base=0.5))\n",
    "ax.set_xlabel('[amu]')\n",
    "ax.set_ylabel('[µs]')   \n",
    "fig.set_size_inches(11.69,8.27)\n",
    "plt.tight_layout()\n",
    "subplots_adjust(top=0.94)\n",
    "fig.set_size_inches(11.69,8.27)\n",
    "savefig(fname,dpi=300)\n",
    "# fig.subplots_adjust(hspace=0.020, wspace=0.020,top=0.94)"
   ]
  },
  {
   "cell_type": "code",
   "execution_count": 58,
   "metadata": {},
   "outputs": [
    {
     "data": {
      "text/plain": [
       "0.11507157361013576"
      ]
     },
     "execution_count": 58,
     "metadata": {},
     "output_type": "execute_result"
    }
   ],
   "source": [
    "perr"
   ]
  },
  {
   "cell_type": "code",
   "execution_count": 59,
   "metadata": {},
   "outputs": [
    {
     "ename": "TypeError",
     "evalue": "'numpy.float64' object cannot be interpreted as an integer",
     "output_type": "error",
     "traceback": [
      "\u001b[0;31m---------------------------------------------------------------------------\u001b[0m",
      "\u001b[0;31mTypeError\u001b[0m                                 Traceback (most recent call last)",
      "\u001b[0;32m<ipython-input-59-d9dde4cad10a>\u001b[0m in \u001b[0;36m<module>\u001b[0;34m()\u001b[0m\n\u001b[0;32m----> 1\u001b[0;31m \u001b[0mperr\u001b[0m\u001b[0;34m*\u001b[0m\u001b[0mmasse\u001b[0m\u001b[0;34m[\u001b[0m\u001b[0mm\u001b[0m\u001b[0;34m]\u001b[0m\u001b[0;34m\u001b[0m\u001b[0;34m\u001b[0m\u001b[0m\n\u001b[0m",
      "\u001b[0;31mTypeError\u001b[0m: 'numpy.float64' object cannot be interpreted as an integer"
     ]
    }
   ],
   "source": [
    "perr*masse[m]"
   ]
  },
  {
   "cell_type": "code",
   "execution_count": 155,
   "metadata": {},
   "outputs": [
    {
     "name": "stderr",
     "output_type": "stream",
     "text": [
      "/home/adrian/.local/lib/python3.6/site-packages/scipy/optimize/minpack.py:794: OptimizeWarning: Covariance of the parameters could not be estimated\n",
      "  category=OptimizeWarning)\n"
     ]
    }
   ],
   "source": [
    "a = []\n",
    "b = []\n",
    "perr = []\n",
    "pulse = [[],[]]\n",
    "time_offset = []\n",
    "\n",
    "\n",
    "for to_plot in range(len(TP)):   # [1,7,9]\n",
    "    m = my_order[to_plot]\n",
    "    if len(test_min[m]) == 2:\n",
    "        my_coeff_lin = curve_fit(my_sqrt,masse[m],(TP[m,test_min[m]])*1e6,sigma = [0.5]*2)\n",
    "        aandb = my_coeff_lin[0]\n",
    "        a.append(aandb[0])\n",
    "        b.append(aandb[1])\n",
    "        perr.append(np.sqrt(np.diag(error))[1])\n",
    "        pulse[0].append( float(my_label[m][0:5]) )\n",
    "        pulse[1].append( float(my_label[m][6:10]) )\n",
    "        time_offset.append( b[-1] - float(my_label[m][6:10]) )\n"
   ]
  },
  {
   "cell_type": "code",
   "execution_count": 125,
   "metadata": {},
   "outputs": [
    {
     "name": "stdout",
     "output_type": "stream",
     "text": [
      "[0.6500000000000004, 0.5499999999999989, 0.6499999999999986, 0.25, 0.3000000000000007, 0.3500000000000014, 0.5500000000000007, 0.05000000000000071, 0.25]\n",
      "[1.0505836575875487, 1.0391459074733096, 1.0418006430868165, 1.0140845070422535, 1.016304347826087, 1.0149253731343284, 1.0211946050096339, 1.001751313485114, 1.0080515297906603]\n"
     ]
    }
   ],
   "source": [
    "delta_pulse = []\n",
    "ratio_pulse = []\n",
    "\n",
    "for m in range(len(pulse[0])):\n",
    "    delta_pulse.append(pulse[1][m] - pulse[0][m])\n",
    "    ratio_pulse.append(pulse[1][m]/pulse[0][m])\n",
    "    \n",
    "print(delta_pulse)\n",
    "print(ratio_pulse)"
   ]
  },
  {
   "cell_type": "code",
   "execution_count": 164,
   "metadata": {},
   "outputs": [
    {
     "data": {
      "text/plain": [
       "([0.6851176352294078,\n",
       "  0.6786082040158266,\n",
       "  0.7144100756905224,\n",
       "  0.7469572317584284,\n",
       "  0.7274289381176844,\n",
       "  0.7192921491007086,\n",
       "  0.7079006444769418,\n",
       "  0.751839305168614,\n",
       "  0.7583487363821954],\n",
       " [20.810541259349517,\n",
       "  22.06839834952197,\n",
       "  23.11018435357349,\n",
       "  24.840898902711224,\n",
       "  25.774470173228593,\n",
       "  30.906791535944144,\n",
       "  33.50804144374594,\n",
       "  35.637506085081895,\n",
       "  38.09964899490944],\n",
       " [13.5, 14.6, 16.2, 18.0, 18.7, 23.8, 26.5, 28.6, 31.3])"
      ]
     },
     "execution_count": 164,
     "metadata": {},
     "output_type": "execute_result"
    }
   ],
   "source": [
    "a,b, pulse[1]"
   ]
  },
  {
   "cell_type": "code",
   "execution_count": 163,
   "metadata": {},
   "outputs": [
    {
     "name": "stdout",
     "output_type": "stream",
     "text": [
      "7.310541259349517\n",
      "7.468398349521971\n",
      "6.9101843535734915\n",
      "6.840898902711224\n",
      "7.074470173228594\n",
      "7.106791535944144\n",
      "7.008041443745938\n",
      "7.037506085081894\n"
     ]
    }
   ],
   "source": [
    "for o in range(len(b)-1):\n",
    "    print( b[o] - pulse[1][o])"
   ]
  },
  {
   "cell_type": "code",
   "execution_count": 135,
   "metadata": {},
   "outputs": [
    {
     "data": {
      "text/plain": [
       "([7.310541259349517,\n",
       "  7.468398349521971,\n",
       "  6.9101843535734915,\n",
       "  6.840898902711224,\n",
       "  7.074470173228594,\n",
       "  7.106791535944144,\n",
       "  7.008041443745938,\n",
       "  7.037506085081894,\n",
       "  6.799648994909436],\n",
       " [0.6500000000000004,\n",
       "  0.5499999999999989,\n",
       "  0.6499999999999986,\n",
       "  0.25,\n",
       "  0.3000000000000007,\n",
       "  0.3500000000000014,\n",
       "  0.5500000000000007,\n",
       "  0.05000000000000071,\n",
       "  0.25],\n",
       " [1.0505836575875487,\n",
       "  1.0391459074733096,\n",
       "  1.0418006430868165,\n",
       "  1.0140845070422535,\n",
       "  1.016304347826087,\n",
       "  1.0149253731343284,\n",
       "  1.0211946050096339,\n",
       "  1.001751313485114,\n",
       "  1.0080515297906603])"
      ]
     },
     "execution_count": 135,
     "metadata": {},
     "output_type": "execute_result"
    }
   ],
   "source": [
    "time_offset,delta_pulse,ratio_pulse"
   ]
  },
  {
   "cell_type": "code",
   "execution_count": 677,
   "metadata": {},
   "outputs": [
    {
     "data": {
      "text/plain": [
       "1.4647211896007055"
      ]
     },
     "execution_count": 677,
     "metadata": {},
     "output_type": "execute_result"
    }
   ],
   "source": [
    "( 1/( 1.4*sqrt(200) ) ) *29"
   ]
  },
  {
   "cell_type": "code",
   "execution_count": 790,
   "metadata": {},
   "outputs": [
    {
     "data": {
      "text/plain": [
       "[79, 448.51]"
      ]
     },
     "execution_count": 790,
     "metadata": {},
     "output_type": "execute_result"
    }
   ],
   "source": [
    "molecules[1]"
   ]
  },
  {
   "cell_type": "code",
   "execution_count": 799,
   "metadata": {},
   "outputs": [
    {
     "name": "stdout",
     "output_type": "stream",
     "text": [
      "29.010104787388848\n"
     ]
    }
   ],
   "source": [
    "V = 250\n",
    "d = 30                  # cm\n",
    "M = molecules[1]\n",
    "q = 1.602*1e-19 * 1\n",
    "my_coeff = sqrt(2*q/(1.67*1e-27)) *100/1e6\n",
    "v = my_coeff*sqrt(V/M) # cm/µs\n",
    "t = d/v                 # µs\n",
    "print(t)"
   ]
  },
  {
   "cell_type": "code",
   "execution_count": 798,
   "metadata": {},
   "outputs": [
    {
     "data": {
      "text/plain": [
       "13.851219708933568"
      ]
     },
     "execution_count": 798,
     "metadata": {},
     "output_type": "execute_result"
    }
   ],
   "source": [
    "my_coeff"
   ]
  },
  {
   "cell_type": "code",
   "execution_count": null,
   "metadata": {},
   "outputs": [],
   "source": []
  },
  {
   "cell_type": "code",
   "execution_count": null,
   "metadata": {},
   "outputs": [],
   "source": []
  },
  {
   "cell_type": "code",
   "execution_count": null,
   "metadata": {},
   "outputs": [],
   "source": []
  },
  {
   "cell_type": "code",
   "execution_count": 132,
   "metadata": {},
   "outputs": [
    {
     "name": "stdout",
     "output_type": "stream",
     "text": [
      "-0.05 0.03 0.07499999999999998\n",
      "0.12499999999999999\n",
      "0.12499999999999999\n"
     ]
    }
   ],
   "source": [
    "f = 3e-2\n",
    "p = -5e-2\n",
    "i = p*f/(p+f)\n",
    "\n",
    "g = i/p\n",
    "\n",
    "print(p,f,i)\n",
    "print(-p+i)\n",
    "\n",
    "aa = f/g * (-g**2 + 2*g - 1)\n",
    "\n",
    "print(aa)"
   ]
  }
 ],
 "metadata": {
  "kernelspec": {
   "display_name": "Python 3",
   "language": "python",
   "name": "python3"
  },
  "language_info": {
   "codemirror_mode": {
    "name": "ipython",
    "version": 3
   },
   "file_extension": ".py",
   "mimetype": "text/x-python",
   "name": "python",
   "nbconvert_exporter": "python",
   "pygments_lexer": "ipython3",
   "version": "3.6.7"
  }
 },
 "nbformat": 4,
 "nbformat_minor": 2
}
