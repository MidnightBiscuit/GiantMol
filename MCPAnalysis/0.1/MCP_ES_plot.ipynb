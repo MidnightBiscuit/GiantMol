{
 "cells": [
  {
   "cell_type": "code",
   "execution_count": 1,
   "metadata": {},
   "outputs": [],
   "source": [
    "###########################################################\n",
    "#                                                         #\n",
    "#                         CSV                             #\n",
    "#                                                         #\n",
    "#                         avec                            #\n",
    "#                                                         #\n",
    "#                          10/2018     Adrien Poindron    #\n",
    "###########################################################"
   ]
  },
  {
   "cell_type": "code",
   "execution_count": 30,
   "metadata": {},
   "outputs": [],
   "source": [
    "import pylab\n",
    "import numpy as np\n",
    "import scipy\n",
    "import matplotlib\n",
    "\n",
    "%matplotlib qt"
   ]
  },
  {
   "cell_type": "code",
   "execution_count": 2,
   "metadata": {},
   "outputs": [],
   "source": [
    "from scipy.signal import decimate, periodogram, welch, windows, argrelextrema, find_peaks\n",
    "from matplotlib import cm\n",
    "from scipy.optimize import curve_fit\n",
    "# cm = pylab.get_cmap('jet')\n",
    "from mpl_toolkits.axes_grid1.inset_locator import zoomed_inset_axes\n",
    "from mpl_toolkits.axes_grid1.inset_locator import mark_inset"
   ]
  },
  {
   "cell_type": "code",
   "execution_count": 54,
   "metadata": {},
   "outputs": [],
   "source": [
    "matplotlib.rcParams['figure.figsize'] = [10.5,7]\n",
    "matplotlib.rcParams.update({'font.size': 21})"
   ]
  },
  {
   "cell_type": "code",
   "execution_count": 9,
   "metadata": {},
   "outputs": [],
   "source": [
    "%run /home/adrian/PycharmProjects/data_analysis/data_fct_Adrien.py"
   ]
  },
  {
   "cell_type": "code",
   "execution_count": 5,
   "metadata": {},
   "outputs": [],
   "source": [
    "def gaussian_fit(x,A,mu,sigma):\n",
    "    return A*exp(-(x-mu)**2/(2*sigma**2))\n",
    "# 1/(sigma*sqrt(2*pi))*exp(-(x-mu)**2/(2*sigma**2))\n",
    "# A * exp(-(x-mu)**2 / sigma)\n",
    "\n",
    "def lorentzian_fit(x, *p):\n",
    "    I, gamma, x0 = p\n",
    "    return I / ((x - x0)**2 + gamma**2)"
   ]
  },
  {
   "cell_type": "markdown",
   "metadata": {},
   "source": [
    "# Sélection fichiers"
   ]
  },
  {
   "cell_type": "code",
   "execution_count": 10,
   "metadata": {
    "scrolled": true
   },
   "outputs": [],
   "source": [
    "# sélection des fichiers donnée (Python 3)\n",
    "file_path = load_file_GUI('/home/adrian/Documents/Mesures/')\n",
    "filename = file_path\n",
    "# print(file_path)"
   ]
  },
  {
   "cell_type": "code",
   "execution_count": 7,
   "metadata": {},
   "outputs": [
    {
     "ename": "NameError",
     "evalue": "name 'load_file_GUI' is not defined",
     "output_type": "error",
     "traceback": [
      "\u001b[0;31m---------------------------------------------------------------------------\u001b[0m",
      "\u001b[0;31mNameError\u001b[0m                                 Traceback (most recent call last)",
      "\u001b[0;32m<ipython-input-7-fb4820ccc195>\u001b[0m in \u001b[0;36m<module>\u001b[0;34m()\u001b[0m\n\u001b[1;32m      1\u001b[0m \u001b[0;31m# sélection d'autres fichiers donnée (Python 3)\u001b[0m\u001b[0;34m\u001b[0m\u001b[0;34m\u001b[0m\u001b[0;34m\u001b[0m\u001b[0m\n\u001b[0;32m----> 2\u001b[0;31m \u001b[0mfile_path_aux\u001b[0m \u001b[0;34m=\u001b[0m \u001b[0mload_file_GUI\u001b[0m\u001b[0;34m(\u001b[0m\u001b[0;34m'/home/adrian/Documents/Mesures/'\u001b[0m\u001b[0;34m)\u001b[0m\u001b[0;34m\u001b[0m\u001b[0;34m\u001b[0m\u001b[0m\n\u001b[0m\u001b[1;32m      3\u001b[0m \u001b[0mfilename_aux\u001b[0m \u001b[0;34m=\u001b[0m \u001b[0mfile_path\u001b[0m\u001b[0;34m\u001b[0m\u001b[0;34m\u001b[0m\u001b[0m\n\u001b[1;32m      4\u001b[0m \u001b[0;34m\u001b[0m\u001b[0m\n\u001b[1;32m      5\u001b[0m \u001b[0mprint\u001b[0m\u001b[0;34m(\u001b[0m\u001b[0mfile_path_aux\u001b[0m\u001b[0;34m)\u001b[0m\u001b[0;34m\u001b[0m\u001b[0;34m\u001b[0m\u001b[0m\n",
      "\u001b[0;31mNameError\u001b[0m: name 'load_file_GUI' is not defined"
     ]
    }
   ],
   "source": [
    "# sélection d'autres fichiers donnée (Python 3)\n",
    "file_path_aux = load_file_GUI('/home/adrian/Documents/Mesures/')\n",
    "filename_aux = file_path\n",
    "\n",
    "print(file_path_aux)\n",
    "\n",
    "data_dico_aux = {}\n",
    "data_dico_aux = import_data(file_path_aux,\n",
    "                        row_skip=the_row_to_skip,\n",
    "                        col_to_read=the_col_to_read,\n",
    "                        delim=the_delim)\n",
    "\n",
    "TP_aux,CH_aux = convert_dico_to_var(data_dico_aux)"
   ]
  },
  {
   "cell_type": "code",
   "execution_count": 11,
   "metadata": {},
   "outputs": [
    {
     "data": {
      "text/plain": [
       "('/home/adrian/Documents/Mesures/Electrospray/20191105/WA000001.CSV',\n",
       " '/home/adrian/Documents/Mesures/Electrospray/20191105/WA000002.CSV',\n",
       " '/home/adrian/Documents/Mesures/Electrospray/20191105/WA000003.CSV',\n",
       " '/home/adrian/Documents/Mesures/Electrospray/20191105/WA000004.CSV',\n",
       " '/home/adrian/Documents/Mesures/Electrospray/20191105/WA000005.CSV',\n",
       " '/home/adrian/Documents/Mesures/Electrospray/20191105/WA000006.CSV',\n",
       " '/home/adrian/Documents/Mesures/Electrospray/20191105/WA000007.CSV',\n",
       " '/home/adrian/Documents/Mesures/Electrospray/20191105/WA000008.CSV',\n",
       " '/home/adrian/Documents/Mesures/Electrospray/20191105/WA000009.CSV',\n",
       " '/home/adrian/Documents/Mesures/Electrospray/20191105/WA000010.CSV',\n",
       " '/home/adrian/Documents/Mesures/Electrospray/20191105/WA000011.CSV',\n",
       " '/home/adrian/Documents/Mesures/Electrospray/20191105/WA000012.CSV',\n",
       " '/home/adrian/Documents/Mesures/Electrospray/20191105/WA000013.CSV',\n",
       " '/home/adrian/Documents/Mesures/Electrospray/20191105/WA000014.CSV',\n",
       " '/home/adrian/Documents/Mesures/Electrospray/20191105/WA000015.CSV',\n",
       " '/home/adrian/Documents/Mesures/Electrospray/20191105/WA000016.CSV',\n",
       " '/home/adrian/Documents/Mesures/Electrospray/20191105/WA000017.CSV',\n",
       " '/home/adrian/Documents/Mesures/Electrospray/20191105/WA000018.CSV',\n",
       " '/home/adrian/Documents/Mesures/Electrospray/20191105/WA000019.CSV',\n",
       " '/home/adrian/Documents/Mesures/Electrospray/20191105/WA000020.CSV',\n",
       " '/home/adrian/Documents/Mesures/Electrospray/20191105/WA000021.CSV',\n",
       " '/home/adrian/Documents/Mesures/Electrospray/20191105/WA000022.CSV',\n",
       " '/home/adrian/Documents/Mesures/Electrospray/20191105/WA000023.CSV',\n",
       " '/home/adrian/Documents/Mesures/Electrospray/20191105/WA000024.CSV',\n",
       " '/home/adrian/Documents/Mesures/Electrospray/20191105/WA000025.CSV',\n",
       " '/home/adrian/Documents/Mesures/Electrospray/20191105/WA000026.CSV',\n",
       " '/home/adrian/Documents/Mesures/Electrospray/20191105/WA000027.CSV',\n",
       " '/home/adrian/Documents/Mesures/Electrospray/20191105/WA000028.CSV')"
      ]
     },
     "execution_count": 11,
     "metadata": {},
     "output_type": "execute_result"
    }
   ],
   "source": [
    "file_path # 2 5 8 9"
   ]
  },
  {
   "cell_type": "markdown",
   "metadata": {},
   "source": [
    "# Importation des fichiers"
   ]
  },
  {
   "cell_type": "code",
   "execution_count": 12,
   "metadata": {},
   "outputs": [],
   "source": [
    "the_col_to_read = (3,4,5)     # oscillo  3,4,5      labview  (0,1)\n",
    "the_row_to_skip = 2          # oscillo  11         labview  1\n",
    "the_delim = ','              # oscillo  ','        labview  '\\t'\n",
    "\n",
    "data_dico = {}\n",
    "data_dico = import_data(file_path,\n",
    "                        row_skip=the_row_to_skip,\n",
    "                        col_to_read=the_col_to_read,\n",
    "                        delim=the_delim)\n",
    "\n",
    "TP,CH = convert_dico_to_var(data_dico)"
   ]
  },
  {
   "cell_type": "code",
   "execution_count": 16,
   "metadata": {},
   "outputs": [
    {
     "name": "stdout",
     "output_type": "stream",
     "text": [
      "dt[0] = 2.0000e-08sec\n",
      "dt[1] = 2.0000e-08sec\n",
      "dt[2] = 2.0000e-08sec\n",
      "dt[3] = 2.0000e-08sec\n",
      "dt[4] = 2.0000e-08sec\n",
      "dt[5] = 2.0000e-08sec\n",
      "dt[6] = 2.0000e-08sec\n",
      "dt[7] = 2.0000e-08sec\n",
      "dt[8] = 2.0000e-08sec\n",
      "dt[9] = 2.0000e-08sec\n",
      "dt[10] = 2.0000e-08sec\n",
      "dt[11] = 2.0000e-08sec\n",
      "dt[12] = 2.0000e-08sec\n",
      "dt[13] = 2.0000e-08sec\n",
      "dt[14] = 2.0000e-08sec\n",
      "dt[15] = 2.0000e-08sec\n",
      "dt[16] = 2.0000e-08sec\n",
      "dt[17] = 2.0000e-08sec\n",
      "dt[18] = 2.0000e-08sec\n",
      "dt[19] = 2.0000e-08sec\n",
      "dt[20] = 2.0000e-08sec\n",
      "dt[21] = 2.0000e-08sec\n",
      "dt[22] = 2.0000e-08sec\n",
      "dt[23] = 2.0000e-08sec\n",
      "dt[24] = 2.0000e-08sec\n",
      "dt[25] = 2.0000e-08sec\n",
      "dt[26] = 2.0000e-08sec\n",
      "dt[27] = 2.0000e-08sec\n"
     ]
    }
   ],
   "source": [
    "# temps entre deux échantillons (si constant)\n",
    "dt = [TP[k][30] - TP[k][29] for k in range(0,len(file_path))]\n",
    "# sample_start = 50000\n",
    "# sample_end = 25000*60+50000\n",
    "for k in range(0,len(file_path)):\n",
    "    print('{}{}{}{:.4e}{}'.format('dt[', k, '] = ',dt[k],'sec'))"
   ]
  },
  {
   "cell_type": "markdown",
   "metadata": {},
   "source": [
    "# Affichage données"
   ]
  },
  {
   "cell_type": "code",
   "execution_count": 17,
   "metadata": {},
   "outputs": [
    {
     "ename": "NameError",
     "evalue": "name 'shift' is not defined",
     "output_type": "error",
     "traceback": [
      "\u001b[0;31m---------------------------------------------------------------------------\u001b[0m",
      "\u001b[0;31mNameError\u001b[0m                                 Traceback (most recent call last)",
      "\u001b[0;32m<ipython-input-17-a68fe7dac8c3>\u001b[0m in \u001b[0;36m<module>\u001b[0;34m()\u001b[0m\n\u001b[0;32m----> 1\u001b[0;31m \u001b[0mshift\u001b[0m\u001b[0;34m\u001b[0m\u001b[0;34m\u001b[0m\u001b[0m\n\u001b[0m",
      "\u001b[0;31mNameError\u001b[0m: name 'shift' is not defined"
     ]
    }
   ],
   "source": [
    "shift"
   ]
  },
  {
   "cell_type": "code",
   "execution_count": 19,
   "metadata": {
    "scrolled": true
   },
   "outputs": [
    {
     "name": "stdout",
     "output_type": "stream",
     "text": [
      "0\n",
      "[4145]\n",
      "1\n",
      "1\n",
      "[4153]\n",
      "2\n",
      "2\n",
      "[4153]\n",
      "3\n",
      "3\n",
      "[4153]\n",
      "4\n",
      "4\n",
      "[4153]\n",
      "5\n",
      "5\n",
      "[4153]\n",
      "6\n",
      "6\n",
      "[4153]\n",
      "7\n",
      "7\n",
      "[4153]\n",
      "8\n",
      "8\n",
      "[4153]\n",
      "9\n",
      "9\n",
      "[4152]\n",
      "10\n",
      "10\n",
      "[4153]\n"
     ]
    },
    {
     "ename": "IndexError",
     "evalue": "list index out of range",
     "output_type": "error",
     "traceback": [
      "\u001b[0;31m---------------------------------------------------------------------------\u001b[0m",
      "\u001b[0;31mIndexError\u001b[0m                                Traceback (most recent call last)",
      "\u001b[0;32m<ipython-input-19-76d90f24522a>\u001b[0m in \u001b[0;36m<module>\u001b[0;34m()\u001b[0m\n\u001b[1;32m     18\u001b[0m     \u001b[0mshift\u001b[0m\u001b[0;34m.\u001b[0m\u001b[0mappend\u001b[0m\u001b[0;34m(\u001b[0m\u001b[0mfloat\u001b[0m\u001b[0;34m(\u001b[0m \u001b[0mshift_tmp\u001b[0m\u001b[0;34m[\u001b[0m\u001b[0;36m0\u001b[0m\u001b[0;34m]\u001b[0m \u001b[0;34m*\u001b[0m\u001b[0;34m(\u001b[0m\u001b[0mmax\u001b[0m\u001b[0;34m(\u001b[0m\u001b[0mTP\u001b[0m\u001b[0;34m[\u001b[0m\u001b[0mk\u001b[0m\u001b[0;34m]\u001b[0m\u001b[0;34m)\u001b[0m \u001b[0;34m-\u001b[0m \u001b[0mmin\u001b[0m\u001b[0;34m(\u001b[0m\u001b[0mTP\u001b[0m\u001b[0;34m[\u001b[0m\u001b[0mk\u001b[0m\u001b[0;34m]\u001b[0m\u001b[0;34m)\u001b[0m\u001b[0;34m)\u001b[0m\u001b[0;34m/\u001b[0m\u001b[0mlen\u001b[0m\u001b[0;34m(\u001b[0m\u001b[0mdata\u001b[0m\u001b[0;34m)\u001b[0m \u001b[0;34m)\u001b[0m\u001b[0;34m+\u001b[0m\u001b[0mTP\u001b[0m\u001b[0;34m[\u001b[0m\u001b[0mk\u001b[0m\u001b[0;34m,\u001b[0m\u001b[0;36m0\u001b[0m\u001b[0;34m]\u001b[0m\u001b[0;34m)\u001b[0m\u001b[0;34m\u001b[0m\u001b[0;34m\u001b[0m\u001b[0m\n\u001b[1;32m     19\u001b[0m     ax1.plot(subtract(TP[k],shift[loop])*1e6,data,\n\u001b[0;32m---> 20\u001b[0;31m              color=cl[k],label='gate'+str(k),marker='+',ls='--')\n\u001b[0m\u001b[1;32m     21\u001b[0m     \u001b[0mloop\u001b[0m \u001b[0;34m=\u001b[0m \u001b[0mloop\u001b[0m \u001b[0;34m+\u001b[0m \u001b[0;36m1\u001b[0m\u001b[0;34m\u001b[0m\u001b[0;34m\u001b[0m\u001b[0m\n\u001b[1;32m     22\u001b[0m     \u001b[0mprint\u001b[0m\u001b[0;34m(\u001b[0m\u001b[0mloop\u001b[0m\u001b[0;34m)\u001b[0m\u001b[0;34m\u001b[0m\u001b[0;34m\u001b[0m\u001b[0m\n",
      "\u001b[0;31mIndexError\u001b[0m: list index out of range"
     ]
    },
    {
     "data": {
      "image/png": "[encoded data removed]",
      "text/plain": [
       "<Figure size 841.68x595.44 with 1 Axes>"
      ]
     },
     "metadata": {},
     "output_type": "display_data"
    }
   ],
   "source": [
    "# Plot des portes\n",
    "\n",
    "my_plot = [0,1,3,6,7,9]\n",
    "trigger_val = 2.5\n",
    "cl = [ cm.jet(x) for x in linspace(0,1,10)]\n",
    "\n",
    "fig = plt.figure('Portes ES')\n",
    "clf()\n",
    "fig.set_size_inches(11.69,8.27)\n",
    "ax1 = fig.add_subplot(111)\n",
    "shift = []\n",
    "loop = 0\n",
    "for k,_ in enumerate(TP[:]):\n",
    "    print(k)\n",
    "    data = np.array(CH[k,1])\n",
    "    shift_tmp = flatnonzero((data[:-1] < trigger_val) & (data[1:] > trigger_val))+1\n",
    "    print(shift_tmp)\n",
    "    shift.append(float( shift_tmp[0] *(max(TP[k]) - min(TP[k]))/len(data) )+TP[k,0])\n",
    "    ax1.plot(subtract(TP[k],shift[loop])*1e6,data,\n",
    "             color=cl[k],label='gate'+str(k),marker='+',ls='--')\n",
    "    loop = loop + 1\n",
    "    print(loop)\n",
    "ax1.set_xlim(-0.3,0.3)\n",
    "ax1.set_ylim(0,4)\n",
    "tight_layout()\n",
    "grid()\n",
    "ax1.set_xlabel('[µs]')"
   ]
  },
  {
   "cell_type": "code",
   "execution_count": 57,
   "metadata": {},
   "outputs": [
    {
     "name": "stdout",
     "output_type": "stream",
     "text": [
      "12\n",
      "[4152]\n",
      "1\n"
     ]
    }
   ],
   "source": [
    "# Plot des signaux MCP\n",
    "\n",
    "my_plot = [12]\n",
    "trigger_val = 2.5\n",
    "cl = [ cm.jet(x) for x in linspace(0,1,len(my_plot))]\n",
    "\n",
    "fig = plt.figure('Portes ES')\n",
    "clf()\n",
    "fig.set_size_inches(11.69,8.27)\n",
    "ax1 = fig.add_subplot(111)\n",
    "shift = []\n",
    "loop = 0\n",
    "for k in my_plot:\n",
    "    print(k)\n",
    "    data = np.array(CH[k,1])\n",
    "    shift_tmp = flatnonzero((data[:-1] < trigger_val) & (data[1:] > trigger_val))+1\n",
    "    print(shift_tmp)\n",
    "    shift.append(float( shift_tmp[0] *(max(TP[k]) - min(TP[k]))/len(data) )+TP[k,0])\n",
    "    ax1.plot(TP[k]*1e6,CH[k,0,:]*1000,color=cl[loop])\n",
    "    loop += 1\n",
    "    print(loop)\n",
    "ax1.set_xlim(-0,60)\n",
    "ax1.set_ylim(-4, 2)\n",
    "\n",
    "grid()\n",
    "ax1.set_xlabel('[µs]')\n",
    "ax1.set_ylabel('[mV]')\n",
    "tight_layout()"
   ]
  },
  {
   "cell_type": "code",
   "execution_count": 32,
   "metadata": {},
   "outputs": [
    {
     "name": "stdout",
     "output_type": "stream",
     "text": [
      "0\n",
      "[4145]\n",
      "1\n",
      "1\n",
      "[4153]\n",
      "2\n",
      "2\n",
      "[4153]\n",
      "3\n",
      "3\n",
      "[4153]\n",
      "4\n",
      "4\n",
      "[4153]\n",
      "5\n",
      "5\n",
      "[4153]\n",
      "6\n",
      "6\n",
      "[4153]\n",
      "7\n",
      "7\n",
      "[4153]\n",
      "8\n",
      "8\n",
      "[4153]\n",
      "9\n",
      "9\n",
      "[4152]\n",
      "10\n",
      "10\n",
      "[4153]\n",
      "11\n",
      "11\n",
      "[4153]\n",
      "12\n",
      "12\n",
      "[4152]\n",
      "13\n",
      "13\n",
      "[4152 4848]\n",
      "14\n",
      "14\n",
      "[4153]\n",
      "15\n",
      "15\n",
      "[4153]\n",
      "16\n",
      "16\n",
      "[4153]\n",
      "17\n",
      "17\n",
      "[4153]\n",
      "18\n",
      "18\n",
      "[4153]\n",
      "19\n",
      "19\n",
      "[4153]\n",
      "20\n",
      "20\n",
      "[4153]\n",
      "21\n",
      "21\n",
      "[4153]\n",
      "22\n",
      "22\n",
      "[4152]\n",
      "23\n",
      "23\n",
      "[4153]\n",
      "24\n",
      "24\n",
      "[4153]\n",
      "25\n",
      "25\n",
      "[4152 5289]\n",
      "26\n",
      "26\n",
      "[4153]\n",
      "27\n",
      "27\n",
      "[4152]\n",
      "28\n"
     ]
    },
    {
     "data": {
      "text/plain": [
       "Text(0.5,9.44444,'[µs]')"
      ]
     },
     "execution_count": 32,
     "metadata": {},
     "output_type": "execute_result"
    }
   ],
   "source": [
    "# Plot des signaux MCP\n",
    "\n",
    "my_plot = [0,1,3,6,7,9]\n",
    "trigger_val = 2.5\n",
    "cl = [ cm.jet(x) for x in linspace(0,1,len(CH[:]))]\n",
    "\n",
    "fig = plt.figure('Portes ES')\n",
    "clf()\n",
    "fig.set_size_inches(11.69,8.27)\n",
    "ax1 = fig.add_subplot(111)\n",
    "shift = []\n",
    "loop = 0\n",
    "for k,_ in enumerate(TP[:]):\n",
    "    print(k)\n",
    "    data = np.array(CH[k,1])\n",
    "    shift_tmp = flatnonzero((data[:-1] < trigger_val) & (data[1:] > trigger_val))+1\n",
    "    print(shift_tmp)\n",
    "    shift.append(float( shift_tmp[0] *(max(TP[k]) - min(TP[k]))/len(data) )+TP[k,0])\n",
    "    ax1.plot(TP[k]*1e6,CH[k,0,:]*1000,color=cl[k])\n",
    "    loop = loop + 1\n",
    "    print(loop)\n",
    "ax1.set_xlim(-0,140)\n",
    "ax1.set_ylim(-13, 2)\n",
    "tight_layout()\n",
    "grid()\n",
    "ax1.set_xlabel('[µs]')"
   ]
  },
  {
   "cell_type": "code",
   "execution_count": 80,
   "metadata": {},
   "outputs": [
    {
     "name": "stdout",
     "output_type": "stream",
     "text": [
      "0\n",
      "[3983]\n",
      "1\n",
      "[3984]\n",
      "2\n",
      "[3986]\n",
      "3\n",
      "[4023]\n",
      "4\n",
      "[5070]\n",
      "5\n",
      "[4023]\n",
      "6\n",
      "[4023]\n",
      "7\n",
      "[4024]\n"
     ]
    }
   ],
   "source": [
    "# Plot integrale signaux MCP\n",
    "\n",
    "my_plot = [0,1,3,6,7,9]\n",
    "my_label = [5, 10, 15, 20, 25]\n",
    "trigger_val = 2.5\n",
    "cl = [ cm.hsv(x) for x in linspace(0,1,10)]\n",
    "\n",
    "fig = plt.figure('Portes ES')\n",
    "clf()\n",
    "fig.set_size_inches(11.69,8.27)\n",
    "title('ES signal and integral')\n",
    "ax1 = fig.add_subplot(211)\n",
    "ax2 = fig.add_subplot(212,sharex=ax1)\n",
    "shift = []\n",
    "loop = 0\n",
    "int_CH = []\n",
    "for k,_ in enumerate(TP[:]):\n",
    "    print(k)\n",
    "    data = np.array(CH[k,1])\n",
    "    shift_tmp = flatnonzero((data[:-1] < trigger_val) & (data[1:] > trigger_val))+1\n",
    "    print(shift_tmp)\n",
    "    shift.append(float( shift_tmp[0] *(max(TP[k]) - min(TP[k]))/len(data) )+TP[k,0])\n",
    "    int_CH.append( scipy.integrate.cumtrapz(CH[k,0,:],TP[k]))\n",
    "    ax1.plot(TP[k]*1e6,CH[k,0,:]*1000,color=cl[k],ls='',marker='+',ms=0.81,label='')\n",
    "    ax2.plot(TP[k,:-1]*1e6,int_CH[k]*1e9,color=cl[k],ls='--')\n",
    "    loop = loop + 1\n",
    "    \n",
    "ax1.set_xlim(-0,140)\n",
    "ax1.set_ylim(-13.5, 2)\n",
    "ax1.yaxis.set_major_locator(matplotlib.ticker.MultipleLocator(base=1))\n",
    "ax1.xaxis.set_major_locator(matplotlib.ticker.MultipleLocator(base=5))\n",
    "\n",
    "ax1.grid()\n",
    "ax2.grid()\n",
    "ax1.set_ylabel('[mW]')\n",
    "ax2.set_ylabel('[mV.µs] ?')\n",
    "ax2.set_xlabel('[µs]')\n",
    "\n",
    "plt.setp(ax1.get_xticklabels(), visible=False)\n",
    "\n",
    "tight_layout()\n",
    "subplots_adjust(hspace=0)"
   ]
  },
  {
   "cell_type": "code",
   "execution_count": 173,
   "metadata": {},
   "outputs": [
    {
     "data": {
      "text/plain": [
       "0.0005392533333333333"
      ]
     },
     "execution_count": 173,
     "metadata": {},
     "output_type": "execute_result"
    }
   ],
   "source": [
    "mean(CH[k,0,1000:4000])"
   ]
  },
  {
   "cell_type": "code",
   "execution_count": 180,
   "metadata": {},
   "outputs": [
    {
     "name": "stdout",
     "output_type": "stream",
     "text": [
      "3\n",
      "2\n",
      "5\n",
      "6\n",
      "7\n"
     ]
    }
   ],
   "source": [
    "# plot var t pulse\n",
    "\n",
    "cl = [ cm.jet(x) for x in linspace(0,1,6)]\n",
    "\n",
    "my_label = [5, 10, 15, 20, 25]\n",
    "\n",
    "fig = plt.figure('all_MCP')\n",
    "clf()\n",
    "fig.set_size_inches(11.69,8.27)\n",
    "\n",
    "ax1 = fig.add_subplot(211)\n",
    "title('ES signal and integral')\n",
    "ax2 = fig.add_subplot(212,sharex=ax1)\n",
    "\n",
    "int_CH = []\n",
    "offset = []\n",
    "cnt = 0\n",
    "for k in [3,2,5,6,7]:\n",
    "    print(k)\n",
    "    offset.append( mean(CH[k,0,1000:4000]) )\n",
    "    ax1.plot(subtract(TP[k],shift[k]) *1e6,-(CH[k,0,:]-offset[cnt])*1000,\n",
    "             color=cl[cnt], label = f'{my_label[cnt]:2.0f}'+ ' µs',marker='+',ms=2,ls='')\n",
    "    ax1.plot(subtract(TP[k],shift[k]) *1e6,CH[k,1,:]/3+5.3,\n",
    "             color=cl[cnt],marker='',ms=2,ls='-')\n",
    "    int_CH.append( scipy.integrate.cumtrapz(CH[k,0,:]-offset[cnt],TP[k]))\n",
    "    ax2.plot(TP[k,:-1]*1e6,-int_CH[cnt]*1e9,\n",
    "             color=cl[cnt],label = f'{my_label[cnt]:2.0f}'+ ' µs',ls='-')\n",
    "    cnt += 1\n",
    "\n",
    "ax2.set_xlabel('[µs]')\n",
    "ax1.set_ylabel('[mV]')\n",
    "ax2.set_ylabel('[mV.µs] ?')\n",
    "leg = ax1.legend(title='$T_{pulse}$')\n",
    "leg.get_title().set_fontsize(20)\n",
    "legg = ax2.legend(title='$T_{pulse}$')\n",
    "legg.get_title().set_fontsize(20)\n",
    "\n",
    "ax1.set_xlim(-0.5,130)\n",
    "ax1.set_ylim(-0.5,7)\n",
    "ax1.yaxis.set_major_locator(matplotlib.ticker.MultipleLocator(base=1))\n",
    "ax1.xaxis.set_major_locator(matplotlib.ticker.MultipleLocator(base=5))\n",
    "ax1.grid()\n",
    "ax2.grid()\n",
    "\n",
    "plt.setp(ax1.get_xticklabels(), visible=False)\n",
    "\n",
    "tight_layout()\n",
    "subplots_adjust(hspace=0)\n",
    "\n",
    "\n",
    "# savefig('all_MCP_040419789789789789.png')"
   ]
  },
  {
   "cell_type": "code",
   "execution_count": 126,
   "metadata": {},
   "outputs": [
    {
     "name": "stdout",
     "output_type": "stream",
     "text": [
      "0 0\n",
      "1 0\n",
      "2 0\n",
      "0 1\n",
      "1 1\n"
     ]
    }
   ],
   "source": [
    "# plot var t pusle séparés\n",
    "\n",
    "cl = [ cm.spring(x) for x in linspace(0,1,6)]\n",
    "fig, ax = plt.subplots(3,2,num='all_MCP_sep',clear='True')\n",
    "# fig.clf()\n",
    "fig.set_size_inches(11.69,8.27)\n",
    "\n",
    "cnt = 0\n",
    "for k in [3,2,5,6,7]:\n",
    "    x_pos = cnt % 3\n",
    "    y_pos = int(floor(cnt/3))\n",
    "    \n",
    "    ax[x_pos,y_pos].plot(subtract(TP[k],shift[k]) *1e6,CH[k,0,:]*1000,\n",
    "             color=cl[cnt], label = '$t_{pulse} = ' + f'${my_label[cnt]:2.0f}'+ ' µs')\n",
    "    ax[x_pos,y_pos].grid()\n",
    "    ax[x_pos,y_pos].legend()\n",
    "    cnt += 1\n",
    "    \n",
    "    print(x_pos,y_pos)\n",
    "\n",
    "plt.tight_layout()\n",
    "savefig('all_MCP_sep_040419.png')"
   ]
  },
  {
   "cell_type": "code",
   "execution_count": 351,
   "metadata": {},
   "outputs": [
    {
     "name": "stderr",
     "output_type": "stream",
     "text": [
      "/home/adrian/.local/lib/python3.6/site-packages/matplotlib/cbook/deprecation.py:107: MatplotlibDeprecationWarning: Adding an axes using the same arguments as a previous axes currently reuses the earlier instance.  In a future version, a new instance will always be created and returned.  Meanwhile, this warning can be suppressed, and the future behavior ensured, by passing a unique label to each axes instance.\n",
      "  warnings.warn(message, mplDeprecation, stacklevel=1)\n",
      "/home/adrian/.local/lib/python3.6/site-packages/matplotlib/figure.py:2267: UserWarning: This figure includes Axes that are not compatible with tight_layout, so results might be incorrect.\n",
      "  warnings.warn(\"This figure includes Axes that are not compatible \"\n"
     ]
    },
    {
     "name": "stdout",
     "output_type": "stream",
     "text": [
      "6\n",
      "7\n"
     ]
    }
   ],
   "source": [
    "# var f 8pole\n",
    "\n",
    "cl = ['xkcd:rouge','xkcd:easter purple']\n",
    "\n",
    "fig = plt.figure('f1 vs. f2')\n",
    "clf()\n",
    "fig.set_size_inches(11.69,8.27)\n",
    "title('$f_1$ vs. $f_2$')\n",
    "ax1 = fig.add_subplot(111)\n",
    "\n",
    "for k in [6,7]:\n",
    "    print(k)\n",
    "    ax1.plot( subtract(TP[k],shift[k-3]) *1e6,CH[k,0,:]*1000,color=cl[k-6],marker='+',ls='')\n",
    "\n",
    "ax1.vlines(35.87,-8,-5,color='black',linestyle='--')\n",
    "ax1.vlines(41.06,-8,-5,color='black',linestyle='--')\n",
    "    \n",
    "ax1.set_xlim(5, 100)\n",
    "ax1.set_ylim(-8, 1)\n",
    "ax1.set_xlabel('[µs]')\n",
    "ax1.set_ylabel('[mV]')\n",
    "\n",
    "labels = ['$f_1$', '$f_2$']\n",
    "leg = ax1.legend(labels,title='$f_{8pôle}$',loc=3)\n",
    "# ax1.legend(title='ES',loc=1,fontsize=11)\n",
    "leg.get_title().set_fontsize(28)\n",
    "\n",
    "ax1.yaxis.set_major_locator(matplotlib.ticker.MultipleLocator(base=2))\n",
    "ax1.xaxis.set_major_locator(matplotlib.ticker.MultipleLocator(base=20))\n",
    "ax1.grid()\n",
    "\n",
    "\n",
    "left, bottom, width, height = [0.50, 0.13, 0.42, 0.45] # cadre zoom\n",
    "axins = fig.add_axes([left, bottom, width, height])\n",
    "\n",
    "axins.plot(TP[k]*1e6,CH[6,0,:]*1000,color=cl[0],marker='+',ls='')\n",
    "axins.plot(TP[k]*1e6,CH[7,0,:]*1000,color=cl[1],marker='+',ls='')\n",
    "axins.grid()\n",
    "x1, x2, y1, y2 = 21, 33, -3.5, -0.8 # limites zoom\n",
    "axins.set_xlim(x1, x2)\n",
    "axins.set_ylim(y1, y2)\n",
    "\n",
    "patch, pp1,pp2 = mark_inset(ax1, axins, loc1=1, loc2=1, fc=\"none\", ec=\"0.4\")\n",
    "pp1.loc1 = 3 # inset_axes connector at lower left\n",
    "pp2.loc2 = 1 # zoom patch connector at upper left\n",
    "axins.yaxis.tick_right()\n",
    "plt.setp(axins.get_xticklabels(), fontsize=12)\n",
    "plt.setp(axins.get_yticklabels(), fontsize=12)\n",
    "\n",
    "\n",
    "fig.tight_layout()\n",
    "\n",
    "savefig('f1vsf2.png')"
   ]
  },
  {
   "cell_type": "code",
   "execution_count": 17,
   "metadata": {},
   "outputs": [
    {
     "name": "stderr",
     "output_type": "stream",
     "text": [
      "/home/adrian/.local/lib/python3.6/site-packages/matplotlib/cbook/deprecation.py:107: MatplotlibDeprecationWarning: Adding an axes using the same arguments as a previous axes currently reuses the earlier instance.  In a future version, a new instance will always be created and returned.  Meanwhile, this warning can be suppressed, and the future behavior ensured, by passing a unique label to each axes instance.\n",
      "  warnings.warn(message, mplDeprecation, stacklevel=1)\n",
      "/home/adrian/.local/lib/python3.6/site-packages/matplotlib/figure.py:2267: UserWarning: This figure includes Axes that are not compatible with tight_layout, so results might be incorrect.\n",
      "  warnings.warn(\"This figure includes Axes that are not compatible \"\n"
     ]
    },
    {
     "name": "stdout",
     "output_type": "stream",
     "text": [
      "0\n",
      "3\n"
     ]
    }
   ],
   "source": [
    "# high res\n",
    "\n",
    "cl = ['xkcd:rouge','xkcd:blue with a hint of purple']\n",
    "\n",
    "fig = plt.figure('high-res')\n",
    "clf()\n",
    "fig.set_size_inches(11.69,8.27)\n",
    "title('V bloquage sortie 8-pôle')\n",
    "ax1 = fig.add_subplot(111)\n",
    "\n",
    "toto = 0\n",
    "tata = [0,2]\n",
    "for k in [0,3]:\n",
    "    print(k)\n",
    "    ax1.plot( subtract(TP[k],shift[tata[toto]]) *1e6,CH[k,0,:]*1000,color=cl[toto],ls='-')\n",
    "    toto += 1\n",
    "    \n",
    "ax1.vlines(38.45,-11,-8,color='black',linestyle='--')\n",
    "ax1.vlines(39.6,-11,-8,color='black',linestyle='--')\n",
    "plt.text(38.74, -11.2, \"$\\Delta_t = 1.15$ µs\",\n",
    "         va=\"baseline\", ha=\"center\", multialignment=\"right\",\n",
    "         bbox=dict(fc=\"white\"))\n",
    "    \n",
    "ax1.set_xlim(12, 120)\n",
    "ax1.set_ylim(-12, 1)\n",
    "# ax1.set_xlabel('[µs]')\n",
    "# ax1.set_ylabel('[mV]')\n",
    "\n",
    "labels = ['5 V', '57 V']\n",
    "leg = ax1.legend(labels,title='$V_{bloq}$',loc=3)\n",
    "# ax1.legend(title='ES',loc=1,fontsize=11)\n",
    "leg.get_title().set_fontsize(28)\n",
    "\n",
    "ax1.yaxis.set_major_locator(matplotlib.ticker.MultipleLocator(base=2))\n",
    "ax1.xaxis.set_major_locator(matplotlib.ticker.MultipleLocator(base=20))\n",
    "ax1.grid()\n",
    "\n",
    "\n",
    "left, bottom, width, height = [0.40, 0.13, 0.51, 0.55] # cadre zoom\n",
    "axins = fig.add_axes([left, bottom, width, height])\n",
    "\n",
    "axins.plot(subtract(TP[0],shift[0])*1e6,CH[0,0,:]*1000,color=cl[0],marker='+',ls='')\n",
    "axins.plot(subtract(TP[3],shift[2])*1e6,CH[3,0,:]*1000,color=cl[1],marker='+',ls='')\n",
    "axins.grid()\n",
    "x1, x2, y1, y2 = 19, 32, -4.2, -0.8 # limites zoom\n",
    "axins.set_xlim(x1, x2)\n",
    "axins.set_ylim(y1, y2)\n",
    "\n",
    "axins.vlines(22.06,-3.8,-1,color='black',linestyle='--')\n",
    "axins.vlines(22.977,-3.8,-1,color='black',linestyle='--')\n",
    "\n",
    "plt.text(22.45, -3.8, \"$\\Delta_t = 0.91$ µs\",\n",
    "         va=\"baseline\", ha=\"center\", multialignment=\"right\",\n",
    "         bbox=dict(fc=\"white\"))\n",
    "\n",
    "patch, pp1,pp2 = mark_inset(ax1, axins, loc1=1, loc2=1, fc=\"none\", ec=\"0.4\")\n",
    "pp1.loc1 = 3 # inset_axes connector at lower left\n",
    "pp2.loc2 = 1 # zoom patch connector at upper left\n",
    "axins.yaxis.tick_right()\n",
    "plt.setp(axins.get_xticklabels(), fontsize=12)\n",
    "plt.setp(axins.get_yticklabels(), fontsize=12)\n",
    "\n",
    "\n",
    "fig.tight_layout()\n",
    "\n",
    "savefig('Vbloq.png')"
   ]
  },
  {
   "cell_type": "code",
   "execution_count": 24,
   "metadata": {},
   "outputs": [
    {
     "name": "stderr",
     "output_type": "stream",
     "text": [
      "/home/adrian/.local/lib/python3.6/site-packages/matplotlib/cbook/deprecation.py:107: MatplotlibDeprecationWarning: Adding an axes using the same arguments as a previous axes currently reuses the earlier instance.  In a future version, a new instance will always be created and returned.  Meanwhile, this warning can be suppressed, and the future behavior ensured, by passing a unique label to each axes instance.\n",
      "  warnings.warn(message, mplDeprecation, stacklevel=1)\n"
     ]
    }
   ],
   "source": [
    "# Plot signaux high res\n",
    "\n",
    "cl = ['xkcd:dark blue','xkcd:vermillion']\n",
    "\n",
    "fig = plt.figure('high res.')\n",
    "clf()\n",
    "fig.set_size_inches(11.69,8.27)\n",
    "title('High res.')\n",
    "ax1 = fig.add_subplot(111)\n",
    "\n",
    "ax1.plot(subtract(TP_aux[0],0) *1e6,CH_aux[0,0,:]*1000,\n",
    "             color=cl[0])\n",
    "ax1.plot(subtract(TP_aux[0,0:5000],0) *1e6,CH_aux[0,1,0:5000]-10,\n",
    "             color=cl[1])\n",
    "\n",
    "\n",
    "ax1.set_xlabel('[µs]')\n",
    "ax1.set_ylabel('[mV]')\n",
    "my_label = ['MCP', 'Porte']\n",
    "leg = ax1.legend(title='$T_{pulse}$',labels=my_label)\n",
    "leg.get_title().set_fontsize(28)\n",
    "\n",
    "ax1.set_xlim(-2,80)\n",
    "ax1.set_ylim(-13,1)\n",
    "ax1.yaxis.set_major_locator(matplotlib.ticker.MultipleLocator(base=2))\n",
    "ax1.xaxis.set_major_locator(matplotlib.ticker.MultipleLocator(base=0.4))\n",
    "ax1.grid()\n",
    "fig.tight_layout()\n",
    "\n",
    "savefig('high_res.png')"
   ]
  },
  {
   "cell_type": "code",
   "execution_count": 641,
   "metadata": {},
   "outputs": [
    {
     "name": "stderr",
     "output_type": "stream",
     "text": [
      "/home/adrian/.local/lib/python3.6/site-packages/matplotlib/cbook/deprecation.py:107: MatplotlibDeprecationWarning: Adding an axes using the same arguments as a previous axes currently reuses the earlier instance.  In a future version, a new instance will always be created and returned.  Meanwhile, this warning can be suppressed, and the future behavior ensured, by passing a unique label to each axes instance.\n",
      "  warnings.warn(message, mplDeprecation, stacklevel=1)\n"
     ]
    },
    {
     "name": "stdout",
     "output_type": "stream",
     "text": [
      "0\n",
      "1\n"
     ]
    }
   ],
   "source": [
    "# Plot signaux calib\n",
    "\n",
    "# plot var t pulse\n",
    "\n",
    "cl = ['xkcd:neon green','xkcd:azul','xkcd:rouge']\n",
    "\n",
    "fig = plt.figure('no ES')\n",
    "clf()\n",
    "fig.set_size_inches(11.69,8.27)\n",
    "title('no ES')\n",
    "ax1 = fig.add_subplot(111)\n",
    "\n",
    "cnt = 0\n",
    "for k in [0,1]:\n",
    "    print(k)\n",
    "    ax1.plot(subtract(TP[k],shift[k]) *1e6,CH[k,0,:]*1000,\n",
    "             color=cl[cnt])\n",
    "    cnt += 1\n",
    "ax1.plot(subtract(TP[k,0:5000],shift[k]) *1e6,CH[k,1,0:5000]-10,\n",
    "             color=cl[2])\n",
    "\n",
    "\n",
    "ax1.set_xlabel('[µs]')\n",
    "ax1.set_ylabel('[mV]')\n",
    "my_label = ['Pas Bouchon', 'Bouchon']\n",
    "leg = ax1.legend(title='$T_{pulse}$',labels=my_label)\n",
    "leg.get_title().set_fontsize(28)\n",
    "\n",
    "ax1.set_xlim(-2,80)\n",
    "ax1.set_ylim(-13,1)\n",
    "ax1.yaxis.set_major_locator(matplotlib.ticker.MultipleLocator(base=2))\n",
    "ax1.xaxis.set_major_locator(matplotlib.ticker.MultipleLocator(base=10))\n",
    "ax1.grid()\n",
    "fig.tight_layout()\n",
    "\n",
    "savefig('no_ES.png')"
   ]
  },
  {
   "cell_type": "code",
   "execution_count": 654,
   "metadata": {},
   "outputs": [
    {
     "name": "stderr",
     "output_type": "stream",
     "text": [
      "/home/adrian/.local/lib/python3.6/site-packages/matplotlib/cbook/deprecation.py:107: MatplotlibDeprecationWarning: Adding an axes using the same arguments as a previous axes currently reuses the earlier instance.  In a future version, a new instance will always be created and returned.  Meanwhile, this warning can be suppressed, and the future behavior ensured, by passing a unique label to each axes instance.\n",
      "  warnings.warn(message, mplDeprecation, stacklevel=1)\n"
     ]
    },
    {
     "name": "stdout",
     "output_type": "stream",
     "text": [
      "0\n",
      "1\n"
     ]
    }
   ],
   "source": [
    "# Plot signaux calib\n",
    "\n",
    "# plot var t pulse\n",
    "\n",
    "cl = ['xkcd:neon green','xkcd:azul','xkcd:rouge','xkcd:vermillion','xkcd:dark blue']\n",
    "\n",
    "fig = plt.figure('compare')\n",
    "clf()\n",
    "fig.set_size_inches(11.69,8.27)\n",
    "title('compare')\n",
    "ax1 = fig.add_subplot(111)\n",
    "\n",
    "cnt = 0\n",
    "for k in [0,1]:\n",
    "    print(k)\n",
    "    ax1.plot(subtract(TP[k],shift[k]) *1e6,CH[k,0,:]*1000,\n",
    "             color=cl[cnt])\n",
    "    cnt += 1\n",
    "ax1.plot(subtract(TP[k,0:5000],shift[k]) *1e6,CH[k,1,0:5000]-10,\n",
    "             color=cl[2])\n",
    "\n",
    "ax1.plot(subtract(TP_aux[0],0) *1e6,CH_aux[0,0,:]*1000,\n",
    "             color=cl[4])\n",
    "ax1.plot(subtract(TP_aux[0,0:5000],shift[k]) *1e6,CH_aux[0,1,0:5000]-10,\n",
    "             color=cl[3])\n",
    "\n",
    "\n",
    "ax1.set_xlabel('[µs]')\n",
    "ax1.set_ylabel('[mV]')\n",
    "my_label = ['Pas Bouchon', 'Bouchon','Pulse bouchon','MCP','pulse MCP']\n",
    "leg = ax1.legend(title='$T_{pulse}$',labels=my_label)\n",
    "leg.get_title().set_fontsize(28)\n",
    "\n",
    "ax1.set_xlim(-2,120)\n",
    "ax1.set_ylim(-13,1)\n",
    "ax1.yaxis.set_major_locator(matplotlib.ticker.MultipleLocator(base=2))\n",
    "ax1.xaxis.set_major_locator(matplotlib.ticker.MultipleLocator(base=10))\n",
    "ax1.grid()\n",
    "fig.tight_layout()\n",
    "\n",
    "savefig('stack_compare.png')"
   ]
  },
  {
   "cell_type": "code",
   "execution_count": 87,
   "metadata": {},
   "outputs": [],
   "source": [
    "cl = [ cm.cool(x) for x in linspace(0,1,6)]\n",
    "\n",
    "fig = plt.figure('plot_flytime_MCP')\n",
    "fig.set_size_inches(11.69,8.27)\n",
    "clf()\n",
    "ax1 = fig.add_subplot(111)\n",
    "ax1.xaxis.set_major_formatter(FormatStrFormatter('%3.0f'))\n",
    "ax1.xaxis.set_major_locator(matplotlib.ticker.MultipleLocator(base=20))\n",
    "\n",
    "ax1.plot(TP[6]*1e6,CH[6,0,:]*1e3,\n",
    "    color=cl[2],label='Signal MCP')\n",
    "ax1.plot(TP[6]*1e6,(CH[6,1,:]/500-0.02)*1e3,\n",
    "    color=cl[4],label='Pulse')\n",
    "legend(title='',loc=1)\n",
    "ax1.set_xlabel('Temps [µs]')\n",
    "ax1.set_ylabel('Tension [mV]')\n",
    "ax1.grid()\n",
    "fig.tight_layout()\n",
    "# savefig('pire_lock.png')"
   ]
  }
 ],
 "metadata": {
  "kernelspec": {
   "display_name": "Python 3",
   "language": "python",
   "name": "python3"
  },
  "language_info": {
   "codemirror_mode": {
    "name": "ipython",
    "version": 3
   },
   "file_extension": ".py",
   "mimetype": "text/x-python",
   "name": "python",
   "nbconvert_exporter": "python",
   "pygments_lexer": "ipython3",
   "version": "3.6.7"
  }
 },
 "nbformat": 4,
 "nbformat_minor": 2
}
