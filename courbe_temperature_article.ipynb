{
 "cells": [
  {
   "cell_type": "code",
   "execution_count": null,
   "metadata": {},
   "outputs": [],
   "source": [
    "###########################################################\n",
    "#                                                         #\n",
    "#               TRAITEMENT SIMUS FORTRAN                  #\n",
    "#                     STATISTIQUES                        #\n",
    "#                                                         #\n",
    "#                         avec                            #\n",
    "#                   - lecture arborescence                #\n",
    "#                  analyse                                #\n",
    "#                   - Delta Fluo                          #\n",
    "#                   - Delta Energy GMol                   #\n",
    "#                   - R/L Ca+                             #\n",
    "#                   - distance inter ionique              #\n",
    "#                   - trajectoire GMol                    #\n",
    "#                                                         #\n",
    "#                          02/2020     Adrien Poindron    #\n",
    "###########################################################"
   ]
  },
  {
   "cell_type": "markdown",
   "metadata": {},
   "source": [
    "# Imports"
   ]
  },
  {
   "cell_type": "code",
   "execution_count": 1,
   "metadata": {},
   "outputs": [],
   "source": [
    "# %pylab\n",
    "\n",
    "import numpy\n",
    "import matplotlib\n",
    "from matplotlib import pylab, mlab, pyplot\n",
    "from mpl_toolkits.mplot3d import Axes3D\n",
    "np = numpy\n",
    "plt = pyplot\n",
    "\n",
    "from pylab import *\n",
    "from numpy import *"
   ]
  },
  {
   "cell_type": "code",
   "execution_count": 2,
   "metadata": {},
   "outputs": [],
   "source": [
    "import os\n",
    "from os import listdir\n",
    "from os.path import isfile, join\n",
    "\n",
    "import tkinter as tk\n",
    "from tkinter import filedialog\n",
    "%matplotlib qt\n",
    "\n",
    "from pathlib import Path"
   ]
  },
  {
   "cell_type": "code",
   "execution_count": 3,
   "metadata": {},
   "outputs": [],
   "source": [
    "from natsort import natsorted   # natural sort marche de ouf\n",
    "import re                       # find '/' in strings\n",
    "import timeit\n",
    "cm = pylab.get_cmap('summer')   # colormap par défaut color=cm(k/len(array))"
   ]
  },
  {
   "cell_type": "code",
   "execution_count": 4,
   "metadata": {},
   "outputs": [],
   "source": [
    "from pathlib import Path\n",
    "from matplotlib import gridspec\n",
    "from mpl_toolkits.axes_grid1.inset_locator import zoomed_inset_axes\n",
    "from mpl_toolkits.axes_grid1.inset_locator import mark_inset\n",
    "from scipy.signal import savgol_filter\n",
    "import matplotlib.patches as patches"
   ]
  },
  {
   "cell_type": "code",
   "execution_count": 5,
   "metadata": {},
   "outputs": [],
   "source": [
    "# Fonctions persos de Jofre et Adrien\n",
    "\n",
    "# %run function_jofre.ipy\n",
    "%run Functions/1.2/data_fct_Adrien_point_by_point\n",
    "\n",
    "matplotlib.rcParams.update({'font.size': 25})"
   ]
  },
  {
   "cell_type": "code",
   "execution_count": 6,
   "metadata": {},
   "outputs": [
    {
     "name": "stdout",
     "output_type": "stream",
     "text": [
      "$\\kappa_{simion}$ = 0.270471\n"
     ]
    }
   ],
   "source": [
    "# Constantes de la physique\n",
    "# ABSOLUMENT RECHARGER APRÈS AVOIR EXECUTÉ LES CASES D'IMPORT AU DESSUS\n",
    "\n",
    "C_e = 1.602e-19        # Coulomb\n",
    "kb = 1.38064852*1e-23  # Boltzman\n",
    "m_Ca = 40.078*1.66054e-27 # masse Ca 40.078\n",
    "m_GM = 1e6*1.66054e-27 # la masse de la GMol\n",
    "eps0 = 8.854187*1e-12  # permittivité électrique du vide\n",
    "\n",
    "r0 = 2.5e-3 # 2.5e-3   # rayon piège Ca+\n",
    "d0 = 4e-3/2            # longueur piège Ca+\n",
    "\n",
    "Omega = 2.05e6*2*pi # 2.047e6\n",
    "\n",
    "bk = 4 # nombre de barreaux par groupe (2 -> 4-pole , 4 -> 8-pole ...)\n",
    "\n",
    "mkappa = 0.23          # écrantage piège réel GiantMol\n",
    "wzLC = (2*pi*90806.9982303)**2\n",
    "kappa_simion = m_Ca*d0**2*wzLC/(2*C_e)\n",
    "print('%s = %f' % ('$\\kappa_{simion}$',kappa_simion) )\n",
    "\n",
    "zeta = kappa_simion*r0**2/d0**2"
   ]
  },
  {
   "cell_type": "markdown",
   "metadata": {},
   "source": [
    "# Sélection fichier"
   ]
  },
  {
   "cell_type": "code",
   "execution_count": 54,
   "metadata": {
    "scrolled": true
   },
   "outputs": [
    {
     "name": "stdout",
     "output_type": "stream",
     "text": [
      "> Répertoire : /home/adrian/RemoteFS/Rivendel/20210113_sansbump/DC05_RF10/Try00\n",
      "> Filename : Temp_SimuTypeQ_N01024_Vrf0064_Udc0.3000D+01V_D1.0_S1.0RFG.dat\n",
      "> myslashpos | [0, 5, 12, 21, 30, 48, 58]\n",
      "> slashcond | 5\n",
      "Points deleted because they were not complete []   0 pt(s)\n",
      "Total number of data directories 2\n"
     ]
    }
   ],
   "source": [
    "## GUI for data loading\n",
    "# Select one data file all the way down to the directories\n",
    "# SELECT Temp_SimuTypeQ_N ... .dat\n",
    "\n",
    "file_cfg, slash_cfg, all_subdir = load_gui(filter_nocomplete=1)\n",
    "\n",
    "file_path = file_cfg[0]\n",
    "dir_path = file_cfg[1]\n",
    "work_rep = file_cfg[2]\n",
    "filename = file_cfg[3]\n",
    "\n",
    "myslashpos = slash_cfg[0]\n",
    "slashcond = slash_cfg[1]"
   ]
  },
  {
   "cell_type": "code",
   "execution_count": 55,
   "metadata": {
    "scrolled": true
   },
   "outputs": [
    {
     "name": "stdout",
     "output_type": "stream",
     "text": [
      "['DC05_RF10']\n",
      "000 > DC05_RF10\n",
      "> condition names ['DC', 'RF']\n",
      "> number of points 1\n",
      "> N_ions = 1024\n",
      "> e_GMol = 50\n"
     ]
    }
   ],
   "source": [
    "## Condition for data\n",
    "points_and_coord, condition_parameters = simu_conditions(all_subdir, myslashpos, slashcond, filename)"
   ]
  },
  {
   "cell_type": "code",
   "execution_count": 56,
   "metadata": {
    "scrolled": true
   },
   "outputs": [
    {
     "name": "stdout",
     "output_type": "stream",
     "text": [
      "> Points | 1\n",
      "> Simulations pour chaque point | ['Try00', 'Try01']\n",
      "Hello\n",
      "Point n° 0\n",
      "00 - 00  >  /home/adrian/RemoteFS/Rivendel/20210113_sansbump/DC05_RF10/Try00/Temp_SimuTypeQ_N01024_Vrf0064_Udc0.3000D+01V_D1.0_S1.0RFG\n",
      "00 - 01  >  /home/adrian/RemoteFS/Rivendel/20210113_sansbump/DC05_RF10/Try01/Temp_SimuTypeQ_N01024_Vrf0064_Udc0.3000D+01V_D1.0_S1.0RFG\n",
      "Time elapsed:  2.205573000000001 s\n",
      "Time elapsed:  0.036759550000000016 m\n"
     ]
    }
   ],
   "source": [
    "## Data loading (1D arrays)\n",
    "data_name, num_runs, PMandT, Gmol_data, r_LC_clip, dim_nu \\\n",
    "= data_retrieve(all_subdir,points_and_coord,condition_parameters,slash_cfg) # stopping_power  ,forcenumtry=28\n",
    "\n",
    "data0 = data_name[0]\n",
    "Tvar = PMandT[1]"
   ]
  },
  {
   "cell_type": "code",
   "execution_count": 57,
   "metadata": {},
   "outputs": [
    {
     "name": "stdout",
     "output_type": "stream",
     "text": [
      "50eV\n",
      "50\n"
     ]
    }
   ],
   "source": [
    "# Automatic retrieve of GMol energy\n",
    "onlyfiles = [f for f in listdir(all_subdir[0]) if isfile(join(all_subdir[0], f)) and \"SimuType\" in f and \".dat\" in f]\n",
    "aux_energie = onlyfiles[1].find('0RFG')\n",
    "aux_energie_unit = onlyfiles[1].find('eV')\n",
    "E0_GMol = onlyfiles[1][aux_energie+4:aux_energie_unit+2]\n",
    "E0_GMol = re.sub('k','000',E0_GMol)\n",
    "print(E0_GMol)\n",
    "E0_GMol = int(E0_GMol.strip('eV'))\n",
    "print(E0_GMol)\n"
   ]
  },
  {
   "cell_type": "code",
   "execution_count": 58,
   "metadata": {},
   "outputs": [],
   "source": [
    "E0_GMol = 50"
   ]
  },
  {
   "cell_type": "markdown",
   "metadata": {},
   "source": [
    "# Plots\n",
    "Nuage d'ions, Temp et Pos"
   ]
  },
  {
   "cell_type": "markdown",
   "metadata": {},
   "source": [
    "## Load temperature from Langevin files"
   ]
  },
  {
   "cell_type": "code",
   "execution_count": 59,
   "metadata": {},
   "outputs": [
    {
     "name": "stdout",
     "output_type": "stream",
     "text": [
      "/home/adrian/RemoteFS/Rivendel/20210113_sansbump/DC05_RF10/Try01/\n",
      "Temp_3D_Harmo_N1024_T500uK_F0.15D-19Kg_s_5\n"
     ]
    }
   ],
   "source": [
    "## Data loading with hardcode names\n",
    "eta = 1.5e-20\n",
    "\n",
    "plot_point = 0\n",
    "plot_try = 1\n",
    "# str_eta_chiffre    = float(f'{eta[plot_point]:1.2e}'[:4])/10\n",
    "# str_eta_puissance  = int(re.sub('e','D',f'{eta[plot_point]:1.2e}'[6:]))-1\n",
    "# str_eta = f'{str_eta_chiffre:1.2f}'+'D-'+str(str_eta_puissance)\n",
    "str_eta = '0.15D-19'\n",
    "dirname_hc = str(data0[plot_point][plot_try])+'/'\n",
    "# Temp_3D_Harmo_N1024_T500uK_F0.20D-20Kg_s_5\n",
    "datainit_hc = 'Temp_3D_Harmo_N1024_T500uK_F'+str(str_eta)+'Kg_s_5'\n",
    "data0_hc    = '/Temp_SimuTypeQ_N01024_Vrf0070_Udc0.5000D+01V_D1.0_S1.0RFG'\n",
    "data4_hc    = '/Temp_SimuType4_01_N01024_Vrf0070_Udc0.5000D+01V_D1.0_S1.0RFG'\n",
    "data2_hc    = '/Temp_SimuType2_01_N01024_Vrf0070_Udc0.5000D+01V_D1.0_S1.0RFG'\n",
    "\n",
    "print(dirname_hc)\n",
    "print(datainit_hc)"
   ]
  },
  {
   "cell_type": "code",
   "execution_count": 60,
   "metadata": {},
   "outputs": [
    {
     "name": "stdout",
     "output_type": "stream",
     "text": [
      "len save_T [55440]\n",
      "[4] [4] [8] [8] [8] [55440]\n",
      "N_ions 1024\n",
      "j_save 990\n",
      "dt_j_save_next 5e-07\n",
      "eta 1.5e-20\n",
      "Temp [0.0005]\n",
      "[5.05000000e-07 3.16980250e-07 5.92120493e-04 4.89870552e-05\n",
      " 4.63123404e+01 1.44205099e+00 6.77007414e+01]\n"
     ]
    }
   ],
   "source": [
    "N_ions, j_save, dt_j_save_next, eta_float, Temp, save_T =\\\n",
    "load_Temp_init_bin_Lan(dirname_hc+datainit_hc,1)"
   ]
  },
  {
   "cell_type": "code",
   "execution_count": 61,
   "metadata": {},
   "outputs": [
    {
     "name": "stdout",
     "output_type": "stream",
     "text": [
      "/home/adrian/RemoteFS/Rivendel/20210113_sansbump/DC05_RF10/Try01/ Temp_SimuTypeQ_N01024_Vrf0064_Udc0.3000D+01V_D1.0_S1.0RFG\n"
     ]
    }
   ],
   "source": [
    "print(dirname_hc,only_init[0].strip('.dat'))"
   ]
  },
  {
   "cell_type": "code",
   "execution_count": 62,
   "metadata": {},
   "outputs": [
    {
     "name": "stdout",
     "output_type": "stream",
     "text": [
      "['Temp_SimuType2_01_N01024_Vrf0064_Udc0.3000D+01V_D1.0_S1.0RFG50eV.dat'\n",
      " 'Temp_SimuType4_01_N01024_Vrf0064_Udc0.3000D+01V_D1.0_S1.0RFG50eV.dat'\n",
      " 'Temp_SimuTypeQ_N01024_Vrf0064_Udc0.3000D+01V_D1.0_S1.0RFG.dat'\n",
      " 'xva_SimuType4_01_N01024_Vrf0064_Udc0.3000D+01V_D1.0_S1.0RFG50eV.dat']\n",
      "/home/adrian/RemoteFS/Rivendel/20210113_sansbump/DC05_RF10/Try01/ _SimuTypeQ_N01024_Vrf0064_Udc0.3000D+01V_D1.0_S1.0RFG\n"
     ]
    }
   ],
   "source": [
    "# Get T and fluo PM  All SimuType\n",
    "onlyfiles = [f for f in listdir(dirname_hc) if isfile(join(dirname_hc, f)) and \"SimuType\" in f and \".dat\" in f]\n",
    "print(sort(onlyfiles))\n",
    "only_init = [f for f in onlyfiles if \"SimuTypeQ\" in f]\n",
    "ta, te, ti = plot_T_and_PM_InitQ_Inje_Evol(dirname_hc,only_init[0].strip('.dat'),flag_plot=1,fig_name='0',xlim1=(0,11),ylim1=(2e-4,500),ylim2=(2,65))\n",
    "# tt2, T_CM2, T_aux2, PM2\n",
    "# ,xlim1=(3.458,3.582),ylim1=(2e-4,50),ylim2=(19.5,65)\n",
    "print(dirname_hc,only_init[0].strip('.dat')[4:])"
   ]
  },
  {
   "cell_type": "code",
   "execution_count": 82,
   "metadata": {},
   "outputs": [
    {
     "name": "stdout",
     "output_type": "stream",
     "text": [
      "72.82417000000001 12.658479999999999 60.16569000000001 334.8526203778965 4.985355492000767\n"
     ]
    }
   ],
   "source": [
    "def find_PM_variation_FinalT_absolute(file_dir2,file_name):\n",
    "    i_aux = file_name.find('_N')+1\n",
    "    file1 = 'SimuTypeQ_{}'.format(file_name[i_aux:].strip('50eV.dat'))    # for N=1024\n",
    "    file3 = 'SimuType2_01_{}50eV'.format(file_name[i_aux:].strip('50eV.dat'))\n",
    "    \n",
    "    tt1, T_CM1, T_aux1, PM1 = load_T_and_PM_simu(file_dir2+'/Temp_'+file1)\n",
    "    tt3, T_CM3, T_aux3, PM3 = load_T_and_PM_simu(file_dir2+'/Temp_'+file3)\n",
    "    \n",
    "    # 1ms is 2000 pts at 1pt/500ns\n",
    "    \n",
    "    aux = mean(PM1[-2000:])\n",
    "    PM_variation = aux - mean(PM3[-2000:])\n",
    "    T_variation  = ( mean(T_aux3[-2000:,0]) + mean(T_aux3[-2000:,1]) + mean(T_aux3[-2000:,2]) ) / 3\n",
    "    \n",
    "    SNR = np.abs( aux - mean(PM3[-2000:]) )/np.sqrt(aux) # Sig-to-Noi ratio considering Poisson noise\n",
    "    \n",
    "    return aux, mean(PM3[-2000:]), PM_variation, T_variation, SNR\n",
    "a,b,c,d,e = find_PM_variation_FinalT_absolute(dirname_hc,only_init[0].strip('.dat'))\n",
    "print(a*2,b*2,c*2,d,e)"
   ]
  },
  {
   "cell_type": "code",
   "execution_count": 63,
   "metadata": {},
   "outputs": [
    {
     "name": "stdout",
     "output_type": "stream",
     "text": [
      "/home/adrian/RemoteFS/Rivendel/20210113_sansbump/DC05_RF10/Try00\n",
      "['Langevin_cooling.info'\n",
      " 'xva_SimuType2_01_N01024_Vrf0064_Udc0.3000D+01V_D1.0_S1.0RFG50eV.info'\n",
      " 'xva_SimuType4_01_N01024_Vrf0064_Udc0.3000D+01V_D1.0_S1.0RFG50eV.info'\n",
      " 'xva_SimuTypeQ_N01024_Vrf0064_Udc0.3000D+01V_D1.0_S1.0RFG.info']\n",
      "1.5e-20\n",
      "1000.0\n",
      "8000.0\n",
      "6000.0\n"
     ]
    }
   ],
   "source": [
    "# recover duration for each step of simu (i_free__fly, i_laser_fly ...)\n",
    "\n",
    "address = all_subdir[plot_point]\n",
    "print(address)\n",
    "info_files = sort( [f for f in listdir(address) if isfile(join(address, f)) and \".info\" in f] )\n",
    "print(sort(info_files))\n",
    "\n",
    "\n",
    "tmp_info = loadtxt(data0[plot_point][plot_try]+'/'+info_files[0],encoding ='utf-8',\n",
    "            skiprows=1, usecols=(0),\n",
    "            unpack=True)\n",
    "eta = tmp_info[-2]\n",
    "i_free__fly_Lan = tmp_info[-1]\n",
    "\n",
    "tmp_info = loadtxt(data0[0][0]+'/'+'xva_SimuTypeQ_N01024_Vrf0064_Udc0.3000D+01V_D1.0_S1.0RFG.info',encoding ='utf-8',\n",
    "            skiprows=0, usecols=(0),\n",
    "            unpack=True)\n",
    "i_laser_fly_quench = tmp_info[-2]\n",
    "i_laser_fly = tmp_info[-1]\n",
    "\n",
    "n_dt = 100\n",
    "dt = 1/2e6\n",
    "\n",
    "print(eta)\n",
    "print(i_free__fly_Lan)\n",
    "print(i_laser_fly_quench)\n",
    "print(i_laser_fly)"
   ]
  },
  {
   "cell_type": "code",
   "execution_count": 25,
   "metadata": {
    "scrolled": true
   },
   "outputs": [
    {
     "name": "stderr",
     "output_type": "stream",
     "text": [
      "/home/adrian/.local/lib/python3.6/site-packages/matplotlib/figure.py:2267: UserWarning: This figure includes Axes that are not compatible with tight_layout, so results might be incorrect.\n",
      "  warnings.warn(\"This figure includes Axes that are not compatible \"\n"
     ]
    }
   ],
   "source": [
    "# Plot temperature Langevin + md laser  ALL SimuType   ALL TEMP SEPARATED\n",
    "\n",
    "tt_Lan = linspace(0,dt_j_save_next*j_save,j_save) # dt_j_save_next*100 duration of Langevin run  ,\n",
    "tt_md = ta[0]\n",
    "T_aux = te[0]\n",
    "\n",
    "tt = concatenate((tt_Lan,tt_md))\n",
    "T_all = concatenate((save_T[:,4:],T_aux),axis=0)\n",
    "\n",
    "PM = ti[0]\n",
    "\n",
    "#fig_name = file_name[-9:]\n",
    "figname = 'T_and_PM_plot_example'\n",
    "fig1 = plt.figure(num=figname,clear='True')\n",
    "fig1.set_size_inches(11.69,8.27)\n",
    "# set height ratios for sublots\n",
    "gs = gridspec.GridSpec(2, 1, height_ratios=[3, 1]) \n",
    "# the fisrt subplot\n",
    "ax1 = plt.subplot(gs[0])\n",
    "\n",
    "ax1.semilogy(tt*1e3,T_all[:,0], label='Tx',color='C0')\n",
    "ax1.semilogy(tt*1e3,T_all[:,1], label='Ty',color='C1')\n",
    "ax1.semilogy(tt*1e3,T_all[:,2], label='Tz',color='C2')\n",
    "#semilogy(tt_Lan*1.e3,save_T[:,0], label='Tx',color='C0')\n",
    "#semilogy(tt_Lan*1.e3,save_T[:,1], label='Ty',color='C1')\n",
    "#semilogy(tt_Lan*1.e3,save_T[:,2], label='Tz',color='C2')\n",
    "ax1.vlines(ta[1]*1e3,1e-4,1e4,color='red')\n",
    "ax1.vlines(ta[2]*1e3,1e-4,1e4,color='red')\n",
    "time_switch = i_free__fly_Lan*dt\n",
    "ax1.vlines(time_switch*1e3,1e-4,1e4,color='blue')\n",
    "time_switch = (i_free__fly_Lan+i_laser_fly)*dt\n",
    "ax1.vlines(time_switch*1e3,1e-4,1e4,color='green',linestyle='--')\n",
    "time_switch = (i_free__fly_Lan+i_laser_fly+i_laser_fly_quench)*dt\n",
    "ax1.vlines(time_switch*1e3,1e-4,1e4,color='orange',linestyle='-')\n",
    "time_switch = (i_free__fly_Lan+i_laser_fly*2+i_laser_fly_quench)*dt\n",
    "ax1.hlines(0.5,7.5,8.5, linestyle=':')\n",
    "# ax1.vlines((time_switch+ta[2]-ta[1])*1e3,1e-4,1e4,color='purple')\n",
    "ax1.grid()\n",
    "ylabel('T [K]')\n",
    "\n",
    "# annotate('Laser ON', xy=(0.5,350), xycoords='data',\n",
    "# size=24, ha='left', va='top', color='xkcd:azul',\n",
    "# bbox=dict(boxstyle='round', fc='white',edgecolor='xkcd:azul')\n",
    ",\n",
    "# ~ xlabel('time[ms]')\n",
    "# ~ ylabel('T[K]')\n",
    "plt.setp(ax1.get_xticklabels(),visible=False)\n",
    "\n",
    "# ax2 = subplot(212,sharex=ax1)\n",
    "ax2 = plt.subplot(gs[1], sharex = ax1)\n",
    "plot(tt_md*1e3,PM, label='Tx')\n",
    "time_switch = i_free__fly_Lan*dt\n",
    "ax2.vlines(time_switch*1e3,1e-4,70,color='blue')\n",
    "time_switch = (i_free__fly_Lan+i_laser_fly)*dt\n",
    "ax2.vlines(time_switch*1e3,1e-4,70,color='green',linestyle='--')\n",
    "time_switch = (i_free__fly_Lan+i_laser_fly+i_laser_fly_quench)*dt\n",
    "ax2.vlines(time_switch*1e3,1e-4,70,color='orange')\n",
    "time_switch = (i_free__fly_Lan+i_laser_fly*2+i_laser_fly_quench)*dt\n",
    "# ax2.vlines((time_switch+ta[2]-ta[1])*1e3,1e-4,90,color='purple')\n",
    "ax2.grid()\n",
    "# annotate('laser off après injection', xy=(0.5,350), xycoords='data',\n",
    "# size=24, ha='left', va='top', color='xkcd:azul',\n",
    "# bbox=dict(boxstyle='round', fc='white',edgecolor='xkcd:azul'))\n",
    "\n",
    "xlabel('time [ms]')\n",
    "ylabel('cts/500ns')\n",
    "\n",
    "left, bottom, width, height = [0.25, 0.56, 0.39, 0.38] # cadre zoom\n",
    "axins = fig1.add_axes([left, bottom, width, height])\n",
    "\n",
    "axins.semilogy(tt*1e3,T_all[:,0], label='Tx',color='C0')\n",
    "axins.semilogy(tt*1e3,T_all[:,1], label='Ty',color='C1')\n",
    "axins.semilogy(tt*1e3,T_all[:,2], label='Tz',color='C2')\n",
    "axins.hlines(0.5,7.4,7.66, linestyle=':')\n",
    "time_switch = (i_free__fly_Lan+i_laser_fly+i_laser_fly_quench)*dt\n",
    "axins.vlines(time_switch*1e3,1e-4,1e4,color='orange',linestyle='-')\n",
    "time_switch = (i_free__fly_Lan+i_laser_fly  +i_laser_fly_quench)*dt\n",
    "axins.vlines(ta[2]*1e3,1e-4,1e4,color='red')\n",
    "\n",
    "x1, x2, y1, y2 = 7.48, 7.65, 0.0002, 50 # limites zoom\n",
    "axins.set_xlim(x1, x2)\n",
    "axins.set_ylim(y1, y2)\n",
    "axins.yaxis.set_label_position(\"right\")\n",
    "axins.yaxis.tick_right()\n",
    "\n",
    "\n",
    "locmaj = matplotlib.ticker.LogLocator(base=10,numticks=12) \n",
    "axins.yaxis.set_major_locator(locmaj)\n",
    "locmin = matplotlib.ticker.LogLocator(base=10.0,subs=(0.2,0.4,0.6,0.8),numticks=12)\n",
    "axins.yaxis.set_minor_locator(locmin)\n",
    "axins.yaxis.set_minor_formatter(matplotlib.ticker.NullFormatter())\n",
    "\n",
    "axins.grid(b=True, which='major', linestyle='-')\n",
    "axins.grid(b=True, which='minor', linestyle='--')\n",
    "\n",
    "# axins.tick_params(axis=\"y\",direction=\"in\", pad=-53)\n",
    "mark_inset(ax1, axins, loc1=1, loc2=3, fc=\"none\", ec=\"0.25\")\n",
    "# axins.invert_yaxis()\n",
    "# plt.setp(axins.get_xticklabels(), visible=False)\n",
    "# plt.setp(axins.get_yticklabels(), fontsize=10)\n",
    "\n",
    "ax1.set_xlim(-0.15, 10.75)\n",
    "ax1.set_ylim(0.0001, 1200)\n",
    "\n",
    "plt.tight_layout()\n",
    "subplots_adjust(hspace=0.0)\n",
    "# savefig(fname = figname+'_'+re.sub('/','_',dirname_hc[31:-1])+'.png',dpi=300)\n",
    "# savefig(fname+'_D'+str(Detuning)+'_50eV'+'.png',dpi=300)"
   ]
  },
  {
   "cell_type": "code",
   "execution_count": 64,
   "metadata": {},
   "outputs": [],
   "source": [
    "final_tt = tt[-1]*1000\n",
    "final_tt = float(str(final_tt)[0:5])\n",
    "pts_to_1ms = round(len(tt)/final_tt) # 2 coups/µs * 1000 µs/ms\n",
    "PM_start_offset = pts_to_1ms*tt[-len(PM)]*1000\n",
    "index_ms = []\n",
    "PM_1ms = []\n",
    "tt_1ms_step = [2,3,4,5,6,7,8,9]\n",
    "detec_eff = 1e-3\n",
    "for k in tt_1ms_step:\n",
    "    index_ms_tmp = int(floor(k/final_tt*len(tt)) ) - int(round(PM_start_offset))\n",
    "    index_ms.append(index_ms_tmp)\n",
    "    PM_1ms.append(sum( PM[index_ms_tmp-pts_to_1ms//2:index_ms_tmp+pts_to_1ms//2] )*detec_eff)\n",
    "\n",
    "final_tt = tt[-1]*1000\n",
    "final_tt = float(str(final_tt)[0:5])\n",
    "pts_to_1us = 2 # 2 coups/µs\n",
    "index_us = []\n",
    "PM_1us = []\n",
    "tt_1us_step = tt[1::2]+i_free__fly_Lan*dt\n",
    "for k in range(1,2*len(tt_1us_step),2):\n",
    "    PM_1us.append(sum(PM[k:k+2]))"
   ]
  },
  {
   "cell_type": "code",
   "execution_count": 65,
   "metadata": {},
   "outputs": [
    {
     "name": "stdout",
     "output_type": "stream",
     "text": [
      "7.513257062044534 7.515781430329185\n"
     ]
    }
   ],
   "source": [
    "gmol_address = os.path.join(all_subdir[0],'trj_SimuType4_01_N01024_Vrf0064_Udc0.3000D+01V_D1.0_S1.0RFG50eV')\n",
    "tgmol, r_x,r_y,r_z, v_x,v_y,v_z, a_x,a_y,a_z = load_trj(gmol_address)\n",
    "t_in = 0\n",
    "t_out = 0\n",
    "for j,k in enumerate(r_z):\n",
    "    if k*1000 < -dim_nu[0,0,2]/2:\n",
    "        t_in = tgmol[j]\n",
    "    if k*1000 < dim_nu[0,0,2]/2:\n",
    "        t_out = tgmol[j]\n",
    "print(t_in*1000,t_out*1000)"
   ]
  },
  {
   "cell_type": "code",
   "execution_count": 80,
   "metadata": {},
   "outputs": [
    {
     "name": "stderr",
     "output_type": "stream",
     "text": [
      "/home/adrian/.local/lib/python3.6/site-packages/matplotlib/figure.py:2267: UserWarning: This figure includes Axes that are not compatible with tight_layout, so results might be incorrect.\n",
      "  warnings.warn(\"This figure includes Axes that are not compatible \"\n"
     ]
    }
   ],
   "source": [
    "# Plot temperature Langevin + md laser  ALL SimuType  ALL TEMP MEAN\n",
    "matplotlib.rcParams.update({'font.size': 25})\n",
    "\n",
    "tt_Lan = linspace(0,dt_j_save_next*j_save,j_save) # dt_j_save_next*100 duration of Langevin run  ,\n",
    "tt_md = ta[0]\n",
    "T_aux = te[0]\n",
    "\n",
    "tt = concatenate((tt_Lan,tt_md))\n",
    "T_all = concatenate((save_T[:,4:],T_aux),axis=0)\n",
    "\n",
    "PM = ti[0]\n",
    "\n",
    "#fig_name = file_name[-9:]\n",
    "figname = 'T_and_PM_plot_example'\n",
    "fig1 = plt.figure(num=figname,clear='True')\n",
    "fig1.set_size_inches(11.69,8.27)\n",
    "# set height ratios for sublots\n",
    "gs = gridspec.GridSpec(2, 1, height_ratios=[7, 3]) \n",
    "# the fisrt subplot\n",
    "ax1 = plt.subplot(gs[0])\n",
    "\n",
    "ax1.semilogy(tt*1e3,savgol_filter(mean(T_all,axis=1),25,1), label='Tx',color='red',lw=2.5) # savgol_filter(mean(T_all,axis=1),25,1)\n",
    "#semilogy(tt_Lan*1.e3,save_T[:,0], label='Tx',color='C0')\n",
    "#semilogy(tt_Lan*1.e3,save_T[:,1], label='Ty',color='C1')\n",
    "#semilogy(tt_Lan*1.e3,save_T[:,2], label='Tz',color='C2')\n",
    "# ax1.vlines(ta[1]*1e3,1e-4,1e4,color='red')\n",
    "# ax1.vlines(ta[2]*1e3,1e-4,1e4,color='red')\n",
    "time_switch = i_free__fly_Lan*dt\n",
    "ax1.vlines(time_switch*1e3,1e-5,1e4,color='black')\n",
    "time_switch = (i_free__fly_Lan+i_laser_fly)*dt\n",
    "ax1.vlines(time_switch*1e3,1e-5,1e4,color='black',linestyle='--')\n",
    "time_switch = (i_free__fly_Lan+i_laser_fly+i_laser_fly_quench)*dt\n",
    "# ax1.vlines(time_switch*1e3,1e-4,1e4,color='black',linestyle='-')\n",
    "time_switch = (i_free__fly_Lan+i_laser_fly*2+i_laser_fly_quench)*dt\n",
    "# ax1.vlines((ta[2])*1e3,1e-4,1e4,color='black')\n",
    "# ax1.hlines(0.5,7.5,8.5, linestyle=':')\n",
    "# ax1.vlines((time_switch+ta[2]-ta[1])*1e3,1e-4,1e4,color='purple')\n",
    "ax1.grid()\n",
    "ylabel('T [K]')\n",
    "\n",
    "ax1.annotate('1', xy=(0.22,1.3e-4), xycoords='data',\n",
    "size=15, ha='center', va='top', color='xkcd:black',\n",
    "bbox=dict(fc='white',edgecolor='black'))\n",
    "ax1.annotate('2', xy=(2,1.3e-4), xycoords='data',\n",
    "size=15, ha='center', va='top', color='xkcd:black',\n",
    "bbox=dict(fc='white',edgecolor='black'))\n",
    "ax1.annotate('3', xy=((3.5+7.5)/2,1.3e-4), xycoords='data',\n",
    "size=15, ha='center', va='top', color='xkcd:black',\n",
    "bbox=dict(fc='white',edgecolor='black'))\n",
    "# ax1.annotate('4', xy=((7.5+7.57)/2,2.5e-4), xycoords='data',\n",
    "# size=15, ha='center', va='top', color='xkcd:black',\n",
    "# bbox=dict(fc='white',edgecolor='black'))\n",
    "ax1.annotate('5', xy=((7.5+10.5)/2,1.3e-4), xycoords='data',\n",
    "size=15, ha='center', va='top', color='xkcd:black',\n",
    "bbox=dict(fc='white',edgecolor='black'))\n",
    "\n",
    "# annotate('Laser ON', xy=(0.5,350), xycoords='data',\n",
    "# size=24, ha='left', va='top', color='xkcd:azul',\n",
    "# bbox=dict(boxstyle='round', fc='white',edgecolor='xkcd:azul')\n",
    "\n",
    "# ~ xlabel('time[ms]')\n",
    "# ~ ylabel('T[K]')\n",
    "plt.setp(ax1.get_xticklabels(),visible=False)\n",
    "\n",
    "# ax2 = subplot(212,sharex=ax1)\n",
    "ax2 = plt.subplot(gs[1], sharex = ax1)\n",
    "\n",
    "# ax2.plot(tt_md*1e3,PM, label='Tx')\n",
    "ax2.scatter(tt_1ms_step,PM_1ms, label='cts/ms',marker='P',s=200,lw=1.5,color='black',zorder=100)\n",
    "ax2.plot(tt_1us_step[:-500]*1e3,PM_1us[:-500], label='cts/µs',color='blue')\n",
    "ax2.legend()\n",
    "time_switch = i_free__fly_Lan*dt\n",
    "ax2.vlines(time_switch*1e3,1e-4,150,color='black')\n",
    "time_switch = (i_free__fly_Lan+i_laser_fly)*dt\n",
    "# ax2.vlines(time_switch*1e3,1e-4,150,color='black',linestyle='--')\n",
    "time_switch = (i_free__fly_Lan+i_laser_fly+i_laser_fly_quench)*dt\n",
    "# ax2.vlines(time_switch*1e3,1e-4,70,color='orange')\n",
    "time_switch = (i_free__fly_Lan+i_laser_fly*2+i_laser_fly_quench)*dt\n",
    "# ax2.vlines((time_switch+ta[2]-ta[1])*1e3,1e-4,90,color='purple')\n",
    "ax2.grid()\n",
    "# ax2.yaxis.set_major_locator(matplotlib.ticker.MultipleLocator(base=20))\n",
    "# annotate('laser off après injection', xy=(0.5,350), xycoords='data',\n",
    "# size=24, ha='left', va='top', color='xkcd:azul',\n",
    "# bbox=dict(boxstyle='round', fc='white',edgecolor='xkcd:azul'))\n",
    "\n",
    "xlabel('time [ms]')\n",
    "ylabel('PM signal')\n",
    "\n",
    "left, bottom, width, height = [0.345, 0.565, 0.35, 0.38] # cadre zoom\n",
    "axins = fig1.add_axes([left, bottom, width, height])\n",
    "\n",
    "axins.semilogy(tt*1e3,mean(T_all,axis=1), label='Tx',color='red',lw=2.5)\n",
    "# axins.hlines(0.5,7.4,7.66, linestyle=':')\n",
    "time_switch = (i_free__fly_Lan+i_laser_fly+i_laser_fly_quench)*dt\n",
    "axins.vlines(time_switch*1e3,1e-4,1e4,color='black',linestyle='-')\n",
    "time_switch = (i_free__fly_Lan+i_laser_fly  +i_laser_fly_quench)*dt\n",
    "axins.vlines(ta[2]*1e3,1e-4,1e4,color='black')\n",
    "\n",
    "axins.add_patch(\n",
    "     patches.Rectangle(\n",
    "        (t_in*1000, 3e-4),\n",
    "        (t_out - t_in)*1000,\n",
    "        0.1,\n",
    "        edgecolor ='k',\n",
    "        facecolor =  cc('grey',0.5),\n",
    "        fill=True\n",
    "     ) )\n",
    "\n",
    "x1, x2, y1, y2 = 7.46, 7.59, 0.00012, 50 # limites zoom\n",
    "axins.set_xlim(x1, x2)\n",
    "axins.set_ylim(y1, y2)\n",
    "\n",
    "# axins.yaxis.tick_right()\n",
    "\n",
    "\n",
    "locmaj = matplotlib.ticker.LogLocator(base=10,numticks=12) \n",
    "axins.yaxis.set_major_locator(locmaj)\n",
    "locmin = matplotlib.ticker.LogLocator(base=10.0,subs=(0.2,0.4,0.6,0.8),numticks=12)\n",
    "axins.yaxis.set_minor_locator(locmin)\n",
    "axins.yaxis.set_minor_formatter(matplotlib.ticker.NullFormatter())\n",
    "plt.setp(axins.get_xticklabels(), backgroundcolor=\"w\")\n",
    "plt.setp(axins.get_yticklabels(), backgroundcolor=\"w\")\n",
    "\n",
    "axins.grid(b=True, which='major', linestyle='-')\n",
    "axins.grid(b=True, which='minor', linestyle='--')\n",
    "\n",
    "# axins.tick_params(axis=\"y\",direction=\"in\", pad=-53)\n",
    "mark_inset(ax1, axins, loc1=1, loc2=3, fc=\"none\", ec=\"0.25\")\n",
    "\n",
    "axins.annotate('3', xy=(7.48,30), xycoords='data',\n",
    "size=15, ha='center', va='top', color='xkcd:black',\n",
    "bbox=dict(fc='white',edgecolor='black'))\n",
    "axins.annotate('4', xy=(7.515,30), xycoords='data',\n",
    "size=15, ha='center', va='top', color='xkcd:black',\n",
    "bbox=dict(fc='white',edgecolor='black'))\n",
    "axins.annotate('5', xy=(7.55,30), xycoords='data',\n",
    "size=15, ha='center', va='top', color='xkcd:black',\n",
    "bbox=dict(fc='white',edgecolor='black'))\n",
    "\n",
    "ax1.set_xlim(-0.15, 10.75)\n",
    "ax1.set_ylim(0.00005, 1000)\n",
    "ax2.set_ylim(-0, 135)\n",
    "\n",
    "plt.tight_layout()\n",
    "subplots_adjust(hspace=0.0,bottom=0.11,left=0.12,right=0.98,top=0.97)\n",
    "savefig(fname = figname+'_'+re.sub('/','_',dirname_hc[31:-1])+'.png',dpi=300)\n",
    "# savefig(figname+'_D'+str(Detuning)+'_50eV'+'.png',dpi=300)"
   ]
  },
  {
   "cell_type": "code",
   "execution_count": null,
   "metadata": {},
   "outputs": [],
   "source": [
    "'20200903/DC05_RF10/Try28'\n",
    "# tt*1e3,savgol_filter(mean(T_all,axis=1),25,1\n",
    "# ax2.scatter(tt_1ms_step,PM_1ms, label='cts/ms',marker='P',s=200,lw=1.5,color='black',zorder=100)\n",
    "# ax2.plot(tt_1us_step[:-500]*1e3,PM_1us[:-500], label='cts/µs',color='blue')\n",
    "outfile = 'graph_example_20200903_DC05_RF10_Try28'\n",
    "# savefig(fname+'_D'+str(Detuning)+'_'+str(E0_GMol)+'eV'+'.png',dpi=300)\n",
    "np.savez(outfile, time=tt, temperature=T_all, time_1us=tt_1us_step, time_1ms=tt_1ms_step, PM_1us=PM_1us, PM_1ms=PM_1ms)"
   ]
  },
  {
   "cell_type": "code",
   "execution_count": null,
   "metadata": {},
   "outputs": [],
   "source": [
    "# load check\n",
    "outfile = 'graph_example_20200903_DC05_RF10_Try28'\n",
    "with load(outfile+'.npz') as data:\n",
    "    a = data['PM_1ms']\n",
    "print(a)"
   ]
  },
  {
   "cell_type": "code",
   "execution_count": 74,
   "metadata": {},
   "outputs": [],
   "source": [
    "savefig(figname+'.eps',dpi=600,format='eps')\n",
    "savefig(figname+'.png',dpi=300)"
   ]
  },
  {
   "cell_type": "code",
   "execution_count": null,
   "metadata": {},
   "outputs": [],
   "source": []
  }
 ],
 "metadata": {
  "kernelspec": {
   "display_name": "Python 3",
   "language": "python",
   "name": "python3"
  },
  "language_info": {
   "codemirror_mode": {
    "name": "ipython",
    "version": 3
   },
   "file_extension": ".py",
   "mimetype": "text/x-python",
   "name": "python",
   "nbconvert_exporter": "python",
   "pygments_lexer": "ipython3",
   "version": "3.6.7"
  }
 },
 "nbformat": 4,
 "nbformat_minor": 2
}
