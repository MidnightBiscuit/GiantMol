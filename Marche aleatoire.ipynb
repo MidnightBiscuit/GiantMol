{
 "cells": [
  {
   "cell_type": "code",
   "execution_count": 73,
   "metadata": {},
   "outputs": [],
   "source": [
    "import random\n",
    "import matplotlib.pyplot as plt\n",
    "import time\n",
    "%matplotlib qt"
   ]
  },
  {
   "cell_type": "code",
   "execution_count": 135,
   "metadata": {},
   "outputs": [],
   "source": [
    "pos_x = [0]\n",
    "pos_y = [0]\n",
    "\n",
    "fig = plt.figure('marche en direct').clf()\n",
    "for k in range(5000):\n",
    "    dir_pas  = random.randint(0,1)\n",
    "    sens_pas = random.choice([-1,1])\n",
    "    if dir_pas == 0:\n",
    "        pos_x.append(pos_x[-1] + 1*sens_pas)\n",
    "        pos_y.append(pos_y[-1])\n",
    "    else:\n",
    "        pos_x.append(pos_x[-1])\n",
    "        pos_y.append(pos_y[-1] + 1*sens_pas)\n",
    "plt.plot(pos_x,pos_y,marker='+',ms=10,mew=3,ls=':',color='k')\n",
    "plt.grid()\n",
    "plt.gca().set_aspect(\"equal\")"
   ]
  },
  {
   "cell_type": "code",
   "execution_count": 257,
   "metadata": {},
   "outputs": [
    {
     "name": "stdout",
     "output_type": "stream",
     "text": [
      "941\n"
     ]
    }
   ],
   "source": [
    "pos_x = [0]\n",
    "pos_y = [0]\n",
    "\n",
    "target_x = 5\n",
    "target_y = -8\n",
    "target_R = 50\n",
    "\n",
    "n = 0\n",
    "\n",
    "fig = plt.figure('marche en direct cible').clf()\n",
    "while pos_x[-1]**2 + pos_y[-1]**2 < target_R **2 :\n",
    "    dir_pas  = random.randint(0,1)\n",
    "    sens_pas = random.choice([-1,1])\n",
    "    if dir_pas == 0:\n",
    "        pos_x.append(pos_x[-1] + 1*sens_pas)\n",
    "        pos_y.append(pos_y[-1])\n",
    "    else:\n",
    "        pos_x.append(pos_x[-1])\n",
    "        pos_y.append(pos_y[-1] + 1*sens_pas)\n",
    "    n += 1\n",
    "    if n > 50000:\n",
    "        break\n",
    "print(n)\n",
    "plt.scatter(target_x,target_y,marker='+',s=10,lw=10,color='y')\n",
    "plt.plot(pos_x,pos_y,marker='+',ms=10,mew=3,ls=':',color='k')\n",
    "plt.grid()\n",
    "plt.gca().set_aspect(\"equal\")"
   ]
  }
 ],
 "metadata": {
  "kernelspec": {
   "display_name": "Python 3",
   "language": "python",
   "name": "python3"
  },
  "language_info": {
   "codemirror_mode": {
    "name": "ipython",
    "version": 3
   },
   "file_extension": ".py",
   "mimetype": "text/x-python",
   "name": "python",
   "nbconvert_exporter": "python",
   "pygments_lexer": "ipython3",
   "version": "3.6.7"
  }
 },
 "nbformat": 4,
 "nbformat_minor": 2
}
