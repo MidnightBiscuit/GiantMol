{
 "cells": [
  {
   "cell_type": "code",
   "execution_count": 1,
   "metadata": {},
   "outputs": [],
   "source": [
    "###########################################################\n",
    "#                                                         #\n",
    "#                   IMAGE ANALYSIS                        #\n",
    "#                                                         #\n",
    "#                          02/2019     Adrien Poindron    #\n",
    "###########################################################"
   ]
  },
  {
   "cell_type": "code",
   "execution_count": 1,
   "metadata": {},
   "outputs": [],
   "source": [
    "import numpy as np\n",
    "import scipy\n",
    "import matplotlib\n",
    "import matplotlib.image as mpimg\n",
    "%matplotlib qt\n",
    "\n",
    "import matplotlib.cbook as cbook\n",
    "from matplotlib_scalebar.scalebar import ScaleBar\n",
    "import ntpath"
   ]
  },
  {
   "cell_type": "code",
   "execution_count": 2,
   "metadata": {},
   "outputs": [],
   "source": [
    "matplotlib.rcParams['figure.figsize'] = [10.5,7]\n",
    "matplotlib.rcParams.update({'font.size': 15})"
   ]
  },
  {
   "cell_type": "code",
   "execution_count": 7,
   "metadata": {},
   "outputs": [],
   "source": [
    "%run /home/adrian/PycharmProjects/data_analysis/data_fct_Adrien.py"
   ]
  },
  {
   "cell_type": "code",
   "execution_count": 8,
   "metadata": {},
   "outputs": [
    {
     "name": "stdout",
     "output_type": "stream",
     "text": [
      "========== Fichiers sélectionnés ==========\n",
      "> 00 | /home/adrian/Documents/Mesures/nuage_images/retour_cold.jpg\n"
     ]
    }
   ],
   "source": [
    "filename = load_file_GUI('/home/adrian/Documents/Mesures/Profils/190204')\n",
    "print('========== Fichiers sélectionnés ==========')\n",
    "for k,l in enumerate(filename):\n",
    "    print(f'> {k:02} | {l}')"
   ]
  },
  {
   "cell_type": "code",
   "execution_count": 9,
   "metadata": {},
   "outputs": [],
   "source": [
    "img = []\n",
    "for k, l in enumerate(filename):\n",
    "    img.append(mpimg.imread(l))"
   ]
  },
  {
   "cell_type": "code",
   "execution_count": 15,
   "metadata": {},
   "outputs": [],
   "source": [
    "# affiche image et profil\n",
    "to_plot = 0\n",
    "image = img[to_plot]\n",
    "\n",
    "x_pro = 335\n",
    "y_pro_1 = 10\n",
    "y_pro_2 = 460\n",
    "y_pro = 200\n",
    "x_pro_1 = 20\n",
    "x_pro_2 = 580\n",
    "\n",
    "\n",
    "fig = plt.figure(num='plot image')\n",
    "fig.set_size_inches(11.69,8.27)\n",
    "clf()\n",
    "grid = plt.GridSpec(1000,2000, hspace=0.2, wspace=0.2) # , hspace=0.2, wspace=0.2\n",
    "main_ax = fig.add_subplot(grid[:780, 300:])\n",
    "main_ax.xaxis.tick_top()\n",
    "main_ax.yaxis.tick_right()\n",
    "\n",
    "x_hist = fig.add_subplot(grid[790:1000, 425:1875], sharex=main_ax)\n",
    "y_hist = fig.add_subplot(grid[1:780, :390], sharey=main_ax)\n",
    "\n",
    "main_ax.imshow(image, cmap='gray',origin='lower')\n",
    "main_ax.set_xlim(160,505)\n",
    "main_ax.set_ylim(120,380)\n",
    "# main_ax.invert_yaxis()\n",
    "main_ax.vlines(x_pro,y_pro_1,y_pro_2,color='xkcd:azul',linestyles='--', alpha=0.5)\n",
    "main_ax.hlines(y_pro,x_pro_1,x_pro_2,color='xkcd:vermillion',linestyles='--', alpha=0.5)\n",
    "\n",
    "x_hist.plot(arange(x_pro_1,x_pro_2),abs(-image[y_pro,x_pro_1:x_pro_2]),\n",
    "            color='xkcd:vermillion',marker='+',linestyle='')\n",
    "x_hist.yaxis.tick_right()\n",
    "x_hist.yaxis.set_major_locator(matplotlib.ticker.MultipleLocator(base=20))\n",
    "setp(x_hist.yaxis.get_majorticklabels(), rotation=30,fontsize=11)\n",
    "setp(x_hist.xaxis.get_majorticklabels(), rotation=0,fontsize=11)\n",
    "\n",
    "\n",
    "y_hist.plot(abs(-image[y_pro_1:y_pro_2,x_pro]),arange(y_pro_1,y_pro_2),\n",
    "            color='xkcd:azul',marker='+',linestyle='')\n",
    "y_hist.xaxis.tick_top()\n",
    "y_hist.xaxis.set_major_locator(matplotlib.ticker.MultipleLocator(base=40))\n",
    "setp(y_hist.xaxis.get_majorticklabels(), rotation=30,fontsize=11)\n",
    "setp(y_hist.yaxis.get_majorticklabels(), rotation=0,fontsize=11)\n",
    "\n",
    "scalebar = ScaleBar(7.4e-6,location='right',\n",
    "                    length_fraction=0.15,border_pad=2,frameon='True') # size of 1 pixel\n",
    "main_ax.add_artist(scalebar)\n",
    "\n",
    "plt.show()\n",
    "# plt.tight_layout()\n",
    "# savefig(ntpath.basename(l[:-5]) + '.png', dpi = 100) # récupère seulement "
   ]
  },
  {
   "cell_type": "code",
   "execution_count": 14,
   "metadata": {},
   "outputs": [
    {
     "name": "stdout",
     "output_type": "stream",
     "text": [
      "    agg_filter = None\n",
      "    alpha = None\n",
      "    animated = False\n",
      "    border_pad = 8\n",
      "    box_alpha = None\n",
      "    box_color = None\n",
      "    children = []\n",
      "    clip_box = TransformedBbox(     Bbox(x0=0.0, y0=0.0, x1=1.0, ...\n",
      "    clip_on = True\n",
      "    clip_path = None\n",
      "    color = None\n",
      "    contains = None\n",
      "    dimension = <matplotlib_scalebar.dimension.SILengthDimension o...\n",
      "    dx = 7.4e-06\n",
      "    figure = Figure(1169x827)\n",
      "    fixed_units = None\n",
      "    fixed_value = None\n",
      "    font_properties = :family=sans-serif:style=normal:variant=normal:wei...\n",
      "    frameon = True\n",
      "    gid = None\n",
      "    height_fraction = None\n",
      "    label = None\n",
      "    label_formatter = <function ScaleBar.__init__.<locals>.<lambda> at 0...\n",
      "    label_loc = None\n",
      "    length_fraction = 0.15\n",
      "    location = 4\n",
      "    pad = None\n",
      "    path_effects = []\n",
      "    picker = None\n",
      "    rasterized = None\n",
      "    scale_loc = None\n",
      "    sep = None\n",
      "    sketch_params = None\n",
      "    snap = None\n",
      "    transform = CompositeGenericTransform(     TransformWrapper(  ...\n",
      "    transformed_clip_path_and_affine = (None, None)\n",
      "    units = m\n",
      "    url = None\n",
      "    visible = True\n",
      "    zorder = 6\n"
     ]
    }
   ],
   "source": [
    "getp(scalebar)"
   ]
  },
  {
   "cell_type": "code",
   "execution_count": 85,
   "metadata": {},
   "outputs": [
    {
     "data": {
      "text/plain": [
       "(170,)"
      ]
     },
     "execution_count": 85,
     "metadata": {},
     "output_type": "execute_result"
    }
   ],
   "source": [
    "shape(img[y_pro_1:y_pro_2,x_pro])"
   ]
  },
  {
   "cell_type": "code",
   "execution_count": 91,
   "metadata": {},
   "outputs": [
    {
     "data": {
      "text/plain": [
       "array([180, 181, 182, 183, 184, 185, 186, 187, 188, 189, 190, 191, 192,\n",
       "       193, 194, 195, 196, 197, 198, 199, 200, 201, 202, 203, 204, 205,\n",
       "       206, 207, 208, 209, 210, 211, 212, 213, 214, 215, 216, 217, 218,\n",
       "       219, 220, 221, 222, 223, 224, 225, 226, 227, 228, 229, 230, 231,\n",
       "       232, 233, 234, 235, 236, 237, 238, 239, 240, 241, 242, 243, 244,\n",
       "       245, 246, 247, 248, 249, 250, 251, 252, 253, 254, 255, 256, 257,\n",
       "       258, 259, 260, 261, 262, 263, 264, 265, 266, 267, 268, 269, 270,\n",
       "       271, 272, 273, 274, 275, 276, 277, 278, 279, 280, 281, 282, 283,\n",
       "       284, 285, 286, 287, 288, 289, 290, 291, 292, 293, 294, 295, 296,\n",
       "       297, 298, 299, 300, 301, 302, 303, 304, 305, 306, 307, 308, 309,\n",
       "       310, 311, 312, 313, 314, 315, 316, 317, 318, 319, 320, 321, 322,\n",
       "       323, 324, 325, 326, 327, 328, 329, 330, 331, 332, 333, 334, 335,\n",
       "       336, 337, 338, 339, 340, 341, 342, 343, 344, 345, 346, 347, 348,\n",
       "       349, 350])"
      ]
     },
     "execution_count": 91,
     "metadata": {},
     "output_type": "execute_result"
    }
   ],
   "source": [
    "arange(y_pro_1,y_pro_2+1)"
   ]
  },
  {
   "cell_type": "code",
   "execution_count": 25,
   "metadata": {},
   "outputs": [
    {
     "data": {
      "text/plain": [
       "184.5"
      ]
     },
     "execution_count": 25,
     "metadata": {},
     "output_type": "execute_result"
    }
   ],
   "source": [
    "(50) * 3.69"
   ]
  },
  {
   "cell_type": "code",
   "execution_count": 21,
   "metadata": {},
   "outputs": [
    {
     "data": {
      "text/plain": [
       "682.65"
      ]
     },
     "execution_count": 21,
     "metadata": {},
     "output_type": "execute_result"
    }
   ],
   "source": [
    "(1200 - 830) * 3.69 / 2"
   ]
  },
  {
   "cell_type": "code",
   "execution_count": 17,
   "metadata": {},
   "outputs": [
    {
     "data": {
      "text/plain": [
       "5343.12"
      ]
     },
     "execution_count": 17,
     "metadata": {},
     "output_type": "execute_result"
    }
   ],
   "source": [
    "3.69 * 1448"
   ]
  }
 ],
 "metadata": {
  "kernelspec": {
   "display_name": "Python 3",
   "language": "python",
   "name": "python3"
  },
  "language_info": {
   "codemirror_mode": {
    "name": "ipython",
    "version": 3
   },
   "file_extension": ".py",
   "mimetype": "text/x-python",
   "name": "python",
   "nbconvert_exporter": "python",
   "pygments_lexer": "ipython3",
   "version": "3.6.7"
  }
 },
 "nbformat": 4,
 "nbformat_minor": 2
}
