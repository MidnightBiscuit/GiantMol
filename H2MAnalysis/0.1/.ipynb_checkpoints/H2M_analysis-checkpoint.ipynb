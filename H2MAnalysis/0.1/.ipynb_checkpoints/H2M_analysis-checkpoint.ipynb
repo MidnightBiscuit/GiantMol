{
 "cells": [
  {
   "cell_type": "code",
   "execution_count": 3,
   "metadata": {},
   "outputs": [],
   "source": [
    "###########################################################\n",
    "#                                                         #\n",
    "#                         TOF                             #\n",
    "#                                                         #\n",
    "#                         avec                            #\n",
    "#                                                         #\n",
    "#                          11/2019     Adrien Poindron    #\n",
    "###########################################################"
   ]
  },
  {
   "cell_type": "code",
   "execution_count": 1,
   "metadata": {},
   "outputs": [],
   "source": [
    "# %pylab\n",
    "\n",
    "import numpy\n",
    "import matplotlib\n",
    "from matplotlib import pylab, mlab, pyplot\n",
    "from mpl_toolkits.mplot3d import Axes3D\n",
    "np = numpy\n",
    "plt = pyplot\n",
    "\n",
    "matplotlib.rcParams.update({'font.size': 17})\n",
    "matplotlib.rcParams[\"figure.dpi\"] = 100\n",
    "\n",
    "from IPython.display import display\n",
    "from IPython.core.pylabtools import figsize, getfigs\n",
    "\n",
    "from pylab import *\n",
    "from numpy import *\n",
    "\n",
    "from scipy.optimize import curve_fit"
   ]
  },
  {
   "cell_type": "code",
   "execution_count": 3,
   "metadata": {},
   "outputs": [],
   "source": [
    "import os\n",
    "from os import listdir\n",
    "from os.path import isfile, join\n",
    "\n",
    "import tkinter as tk\n",
    "from tkinter import filedialog\n",
    "%matplotlib qt\n",
    "\n",
    "from pathlib import Path\n",
    "from matplotlib import gridspec\n",
    "from mpl_toolkits.axes_grid1.inset_locator import zoomed_inset_axes\n",
    "from mpl_toolkits.axes_grid1.inset_locator import mark_inset"
   ]
  },
  {
   "cell_type": "code",
   "execution_count": 4,
   "metadata": {},
   "outputs": [],
   "source": [
    "from scipy.signal import argrelextrema, find_peaks\n",
    "from scipy.optimize import curve_fit"
   ]
  },
  {
   "cell_type": "code",
   "execution_count": 5,
   "metadata": {},
   "outputs": [],
   "source": [
    "%run /home/adrian/PycharmProjects/data_analysis/data_fct_Adrien.py"
   ]
  },
  {
   "cell_type": "markdown",
   "metadata": {},
   "source": [
    "# Sélection fichiers"
   ]
  },
  {
   "cell_type": "code",
   "execution_count": 8,
   "metadata": {},
   "outputs": [],
   "source": [
    "# sélection des fichiers donnée (Python 3)\n",
    "file_path = load_file_GUI('/home/adrian/Documents/Mesures/')\n",
    "filename = file_path\n",
    "# print(file_path)"
   ]
  },
  {
   "cell_type": "code",
   "execution_count": 9,
   "metadata": {},
   "outputs": [
    {
     "data": {
      "text/plain": [
       "('/home/adrian/Documents/Mesures/H2M/TOF_spectro/tof_000.dat',\n",
       " '/home/adrian/Documents/Mesures/H2M/TOF_spectro/tof_001.dat',\n",
       " '/home/adrian/Documents/Mesures/H2M/TOF_spectro/tof_002.dat',\n",
       " '/home/adrian/Documents/Mesures/H2M/TOF_spectro/tof_003.dat')"
      ]
     },
     "execution_count": 9,
     "metadata": {},
     "output_type": "execute_result"
    }
   ],
   "source": [
    "file_path # 2 5 8 9"
   ]
  },
  {
   "cell_type": "markdown",
   "metadata": {},
   "source": [
    "# Importation des fichiers"
   ]
  },
  {
   "cell_type": "code",
   "execution_count": 10,
   "metadata": {},
   "outputs": [],
   "source": [
    "the_col_to_read = (0,1)     # lecroy  (3,4,5) (0,1,2)     labview  (0,1)\n",
    "the_row_to_skip = 0           # lecroy  11         2        labview  1\n",
    "the_delim = '\\t'               # lecroy  ','       ','       labview  '\\t'\n",
    "\n",
    "data_dico = {}\n",
    "data_dico = import_data(file_path,\n",
    "                        row_skip=the_row_to_skip,\n",
    "                        col_to_read=the_col_to_read,\n",
    "                        delim=the_delim)\n",
    "\n",
    "TP,CH = convert_dico_to_var(data_dico)"
   ]
  },
  {
   "cell_type": "code",
   "execution_count": 11,
   "metadata": {},
   "outputs": [
    {
     "name": "stdout",
     "output_type": "stream",
     "text": [
      "dt[0] = 2.0000e-08sec\n",
      "dt[1] = 4.0000e-08sec\n",
      "dt[2] = 4.0000e-08sec\n",
      "dt[3] = 4.0000e-08sec\n"
     ]
    }
   ],
   "source": [
    "# temps entre deux échantillons (si constant)\n",
    "dt = [TP[k][590] - TP[k][589] for k in range(0,len(file_path))]\n",
    "# sample_start = 50000\n",
    "# sample_end = 25000*60+50000\n",
    "for k in range(0,len(file_path)):\n",
    "    print('{}{}{}{:.4e}{}'.format('dt[', k, '] = ',dt[k],'sec'))"
   ]
  },
  {
   "cell_type": "code",
   "execution_count": 12,
   "metadata": {},
   "outputs": [],
   "source": [
    "cl = [ cm.gist_rainbow(x) for x in linspace(0,1,len(TP))] # gist_rainbow\n",
    "cl[1] = (0.22,0.80,0.25,1)"
   ]
  },
  {
   "cell_type": "code",
   "execution_count": 14,
   "metadata": {},
   "outputs": [
    {
     "name": "stdout",
     "output_type": "stream",
     "text": [
      "/home/adrian/Documents/Mesures/H2M/TOF_spectro/tof_000.dat\n",
      "/home/adrian/Documents/Mesures/H2M/TOF_spectro/tof_001.dat\n",
      "/home/adrian/Documents/Mesures/H2M/TOF_spectro/tof_002.dat\n",
      "/home/adrian/Documents/Mesures/H2M/TOF_spectro/tof_003.dat\n"
     ]
    }
   ],
   "source": [
    "# plot all in one\n",
    "\n",
    "fname='MCP Bender'\n",
    "fig,ax = plt.subplots(1,1,num=fname,clear=True)\n",
    "# fig.suptitle('Tension C12 lentille centre | 0/X/0')\n",
    "# clf()\n",
    "fig.set_size_inches(11.69,8.27)\n",
    "\n",
    "fig.suptitle(f'{file_path[0][6:52]}')\n",
    "\n",
    "# title('Scans 866')\n",
    "# ax2 = fig.add_subplot(212,sharex=ax1)\n",
    "# cl = [ cm.cool(x) for x in linspace(0,1,len(TP)) ]\n",
    "cnt = 0\n",
    "for to_plot in [0,1,2,3]:\n",
    "    print(file_path[to_plot])\n",
    "    ax.plot(TP[to_plot]*1e6, CH[to_plot,0]*1000+10*to_plot,color=cl[cnt],marker='',ms=2,ls='-',lw=0.5, label = f'{to_plot}')\n",
    "    ax.set_xlabel('[µs]')\n",
    "    ax.set_ylabel('[mV]')    \n",
    "#     ax.set_xlim(-0,70)\n",
    "#     ax.set_ylim(-4.5,11)\n",
    "    leg = ax.legend(loc=1,ncol = 2,fancybox=True,shadow=True)\n",
    "    # ax1.set_ylim(0,4)\n",
    "\n",
    "    cnt += 1\n",
    "# ax1.set_xlim(-3,128)\n",
    "# ax1.set_ylim(-7,1.5)\n",
    "ax.grid()\n",
    "\n",
    "plt.tight_layout()\n",
    "# savefig(fname,dpi=300)\n",
    "fig.subplots_adjust(top=0.94)"
   ]
  },
  {
   "cell_type": "code",
   "execution_count": 27,
   "metadata": {},
   "outputs": [
    {
     "data": {
      "text/plain": [
       "1000"
      ]
     },
     "execution_count": 27,
     "metadata": {},
     "output_type": "execute_result"
    }
   ],
   "source": [
    "len(TP[0])"
   ]
  },
  {
   "cell_type": "code",
   "execution_count": 31,
   "metadata": {},
   "outputs": [
    {
     "name": "stdout",
     "output_type": "stream",
     "text": [
      "/home/adrian/Documents/Mesures/H2M/TOF_spectro/tof_000.dat\n",
      "/home/adrian/Documents/Mesures/H2M/TOF_spectro/tof_001.dat\n",
      "/home/adrian/Documents/Mesures/H2M/TOF_spectro/tof_002.dat\n",
      "/home/adrian/Documents/Mesures/H2M/TOF_spectro/tof_003.dat\n"
     ]
    }
   ],
   "source": [
    "# plot all in subplots\n",
    "fname='MCP Bender subplots'\n",
    "fig,ax = plt.subplots(2,2,num=fname,clear=True,sharex=True)\n",
    "# fig.suptitle('Tension C12 lentille centre | 0/X/0')\n",
    "# clf()\n",
    "fig.set_size_inches(11.69,8.27)\n",
    "\n",
    "fig.suptitle(f'{file_path[0][6:52]}')\n",
    "\n",
    "# title('Scans 866')\n",
    "# ax2 = fig.add_subplot(212,sharex=ax1)\n",
    "# cl = [ cm.cool(x) for x in linspace(0,1,len(TP)) ]\n",
    "to_plot = 0\n",
    "for k in [0,1]:\n",
    "    for j in [0,1]:\n",
    "\n",
    "        print(file_path[to_plot])\n",
    "        ax[k,j].plot(TP[to_plot]*1e6, CH[to_plot,0]*1000,color=cl[to_plot],marker='',ms=2,ls='-',lw=1, label = f'{to_plot}')   \n",
    "        ax[k,j].set_xlim(22,55)\n",
    "        ax[k,j].xaxis.set_major_locator(matplotlib.ticker.MultipleLocator(base=5))\n",
    "#         ax[k,j].vlines(30,0,200,linestyle='--',color=(0.3,0.3,0.3,0.7))\n",
    "    #     ax.set_ylim(-4.5,11)\n",
    "        leg = ax[k,j].legend(loc=0,fancybox=True,shadow=True)\n",
    "        ax[k,j].grid()\n",
    "        # ax1.set_ylim(0,4)\n",
    "\n",
    "        to_plot += 1\n",
    "# ax1.set_xlim(-3,128)\n",
    "# ax1.set_ylim(-7,1.5)\n",
    "\n",
    "\n",
    "ax[1,0].set_xlabel('[µs]')\n",
    "ax[1,1].set_xlabel('[µs]')\n",
    "ax[0,0].set_ylabel('[mV]') \n",
    "ax[1,0].set_ylabel('[mV]') \n",
    "\n",
    "# plt.setp(ax[0,0].get_xticklabels(), visible=False)\n",
    "# plt.setp(ax[0,1].get_xticklabels(), visible=False)\n",
    "\n",
    "\n",
    "plt.tight_layout()\n",
    "# savefig(fname,dpi=300)\n",
    "fig.subplots_adjust(top=0.94,hspace=.02)"
   ]
  },
  {
   "cell_type": "code",
   "execution_count": 54,
   "metadata": {},
   "outputs": [
    {
     "name": "stdout",
     "output_type": "stream",
     "text": [
      "[2.22712371 2.21371563 2.21325378]\n",
      "[245, 450, 468]\n"
     ]
    }
   ],
   "source": [
    "# times to masses\n",
    "\n",
    "# deter coefficient\n",
    "t = [34.86,46.96,47.88]\n",
    "m = [245,450,468]\n",
    "a = t/sqrt(m)\n",
    "b = 0\n",
    "print(a)\n",
    "\n",
    "M = zeros((4,len(TP[1])))\n",
    "for k in range(len(TP)):\n",
    "    M[k] = ((TP[k]*1e6-b)/a[1])**2\n",
    "print(m)"
   ]
  },
  {
   "cell_type": "code",
   "execution_count": 16,
   "metadata": {},
   "outputs": [
    {
     "data": {
      "text/plain": [
       "array([[220.87579882, 221.14442245, 221.41320933, ..., 569.74687943,\n",
       "        570.17826074, 570.60980529],\n",
       "       [ 44.4558637 ,  44.69714339,  44.93907606, ..., 609.22500283,\n",
       "        610.11731322, 611.01027661],\n",
       "       [ 44.4558637 ,  44.69714339,  44.93907606, ..., 609.22500283,\n",
       "        610.11731322, 611.01027661],\n",
       "       [ 66.70420148,  66.99967931,  67.29581013, ..., 685.50888937,\n",
       "        686.4553979 , 687.40255943]])"
      ]
     },
     "execution_count": 16,
     "metadata": {},
     "output_type": "execute_result"
    }
   ],
   "source": [
    "M"
   ]
  },
  {
   "cell_type": "code",
   "execution_count": 209,
   "metadata": {},
   "outputs": [],
   "source": [
    "# détection grands pics sur tout le plot\n",
    "\n",
    "peaks, properties = find_peaks(CH[2,0]*1000, distance = 2, width=1, threshold = 0.005,height = 12) # , distance = 400, width=1, height = 0"
   ]
  },
  {
   "cell_type": "code",
   "execution_count": 97,
   "metadata": {},
   "outputs": [
    {
     "name": "stdout",
     "output_type": "stream",
     "text": [
      "[[0.26862363 0.26878688 0.26895012 ... 0.43121806 0.43138131 0.43154455]\n",
      " [0.24127969 0.24193268 0.24258566 ... 0.8916574  0.89231039 0.89296338]\n",
      " [0.24127969 0.24193268 0.24258566 ... 0.8916574  0.89231039 0.89296338]\n",
      " [0.29547783 0.29613082 0.29678381 ... 0.94585555 0.94650854 0.94716153]]\n"
     ]
    }
   ],
   "source": [
    "# delta M en fonction de t\n",
    "dM = zeros((len(TP),len(TP[1])-1))\n",
    "for k in range(len(TP)):\n",
    "    for j in range(1,len(TP[1])):\n",
    "        dM[k,j-1] = ( ( (TP[k][j]*1e6)**2 - (TP[k][j-1]*1e6)**2) - b*( TP[k][j]*1e6 - TP[k][j-1]*1e6 )  )/ (a[1]**2)\n",
    "print(dM)"
   ]
  },
  {
   "cell_type": "code",
   "execution_count": 145,
   "metadata": {},
   "outputs": [
    {
     "name": "stdout",
     "output_type": "stream",
     "text": [
      "[281 533]\n",
      "[137.94406926 265.63750657]\n"
     ]
    }
   ],
   "source": [
    "# détection des pics sur petite fenêtre\n",
    "# position début et fin\n",
    "\n",
    "masse_mini = [138,266]\n",
    "\n",
    "index_mini = zeros(shape(masse_mini),dtype=int)\n",
    "to_plot = 2\n",
    "for k in range(len(TP[2])):\n",
    "    if M[to_plot,k] < masse_mini[0]:\n",
    "        index_mini[0] = k\n",
    "    if M[to_plot,k] < masse_mini[1]:\n",
    "        index_mini[1] = k\n",
    "print(index_mini)\n",
    "print(M[2,index_mini])"
   ]
  },
  {
   "cell_type": "code",
   "execution_count": 210,
   "metadata": {},
   "outputs": [],
   "source": [
    "peaks2, properties2 = find_peaks(CH[2,0,index_mini[0]:index_mini[1]]*1000,\n",
    "                                 distance = 3, width=0.5, threshold = 0.05,height = 6.75)\n",
    "# , distance = 400, width=1, height = 0"
   ]
  },
  {
   "cell_type": "code",
   "execution_count": 198,
   "metadata": {},
   "outputs": [
    {
     "name": "stdout",
     "output_type": "stream",
     "text": [
      "[324 363 411 445 489 502 520 827 833 853 834 834 834]\n",
      "[288 324 363 373 379 383 411 419 445 455 460 464 468 471 484 489 496 502\n",
      " 513 517 520 527]\n",
      "[156.79881968 174.94377033 198.63945973 216.334174   240.35374627\n",
      " 247.69237076 258.03572724 467.02344088 471.72104861 487.54951838\n",
      " 472.5062687  472.5062687  472.5062687 ]\n",
      "[140.93117053 156.79881968 174.94377033 179.75630425 182.67516811\n",
      " 184.63413714 198.63945973 202.73501098 216.334174   221.68215945\n",
      " 224.38063929 226.55117698 228.7321625  230.37475803 237.56058293\n",
      " 240.35374627 244.29160052 247.69237076 253.98817073 256.29714223\n",
      " 258.03572724 262.11528025]\n"
     ]
    }
   ],
   "source": [
    "print(peaks)\n",
    "print(peaks2+index_mini[0])\n",
    "\n",
    "print(M[to_plot,peaks])\n",
    "print(M[to_plot,peaks2+index_mini[0]])"
   ]
  },
  {
   "cell_type": "code",
   "execution_count": 184,
   "metadata": {},
   "outputs": [
    {
     "data": {
      "text/plain": [
       "array([  7,  43,  82,  92,  98, 102, 130, 138, 164, 174, 179, 183, 187,\n",
       "       190, 203, 208, 215, 221, 232, 236, 239, 246])"
      ]
     },
     "execution_count": 184,
     "metadata": {},
     "output_type": "execute_result"
    }
   ],
   "source": [
    "peaks2"
   ]
  },
  {
   "cell_type": "code",
   "execution_count": 211,
   "metadata": {},
   "outputs": [],
   "source": [
    "# ajout/suppression manuel de pics\n",
    "\n",
    "# manual = 834\n",
    "# peaks = np.append(peaks,manual)\n",
    "# print(peaks)\n",
    "\n",
    "peaks2 = delete(peaks2,(10,12,14,17,18,19,21))"
   ]
  },
  {
   "cell_type": "code",
   "execution_count": 213,
   "metadata": {},
   "outputs": [
    {
     "name": "stdout",
     "output_type": "stream",
     "text": [
      "/home/adrian/Documents/Mesures/H2M/TOF_spectro/tof_002.dat\n",
      "0\n",
      "1\n",
      "2\n",
      "3\n",
      "4\n",
      "5\n",
      "6\n",
      "7\n",
      "8\n",
      "9\n"
     ]
    },
    {
     "name": "stderr",
     "output_type": "stream",
     "text": [
      "/home/adrian/.local/lib/python3.6/site-packages/matplotlib/figure.py:2267: UserWarning: This figure includes Axes that are not compatible with tight_layout, so results might be incorrect.\n",
      "  warnings.warn(\"This figure includes Axes that are not compatible \"\n"
     ]
    }
   ],
   "source": [
    "# plot all in one masse\n",
    "\n",
    "fname='MCP_H2M_masses_2'\n",
    "fig,ax = plt.subplots(1,1,num=fname,clear=True)\n",
    "# fig.suptitle('Tension C12 lentille centre | 0/X/0')\n",
    "# clf()\n",
    "fig.set_size_inches(11.69,8.27)\n",
    "\n",
    "# fig.suptitle(f'{file_path[0][6:52]}')\n",
    "\n",
    "# title('Scans 866')\n",
    "# ax2 = fig.add_subplot(212,sharex=ax1)\n",
    "# cl = [ cm.cool(x) for x in linspace(0,1,len(TP)) ]\n",
    "\n",
    "cnt = 0\n",
    "for to_plot in [2]:\n",
    "    print(file_path[to_plot])\n",
    "    ax.plot(M[to_plot], CH[to_plot,0]*1000,color=cl[to_plot],marker='',ms=2,ls='-',lw=1, label = f'{to_plot}',zorder=100)\n",
    "    ax.vlines(450/2,0,80,linestyle='--',color=(0.3,0.3,0.3,0.7),zorder=1)\n",
    "    for j in range(len(peaks)):\n",
    "        print(j)\n",
    "        ax.vlines(M[to_plot,peaks[j]],0,CH[to_plot,0,peaks[j]]*1000,linestyle=':',color=(0.3,0.3,0.3,0.7),zorder=1)\n",
    "        if j!=4 and j!= 8:\n",
    "            plt.text(M[to_plot,peaks[j]],CH[to_plot,0,peaks[j]]*1000+3,f'{M[to_plot,peaks[j]]:3.0f}',\n",
    "                va=\"baseline\", ha=\"center\", multialignment=\"center\",\n",
    "                color=cl[to_plot],fontsize = 14, bbox=dict(fc=\"white\",ec='None'))\n",
    "        elif j==8:\n",
    "            plt.text(M[to_plot,peaks[j]]+10,CH[to_plot,0,peaks[j]]*1000-3,f'{M[to_plot,peaks[j]]:3.0f}',\n",
    "                va=\"baseline\", ha=\"center\", multialignment=\"center\",\n",
    "                color=cl[to_plot],fontsize = 14, bbox=dict(fc=\"white\",ec='None'))\n",
    "        elif j==4:\n",
    "            plt.text(M[to_plot,peaks[j]]-3,CH[to_plot,0,peaks[j]]*1000+1,f'{M[to_plot,peaks[j]]:3.0f}',\n",
    "                va=\"baseline\", ha=\"center\", multialignment=\"center\",\n",
    "                color=cl[to_plot],fontsize = 14, bbox=dict(fc=\"white\",ec='None'))\n",
    "\n",
    "ax.set_xlabel('masse [amu]')\n",
    "ax.set_ylabel('signal de détection [mV]')\n",
    "#     leg = ax.legend(loc=1,ncol = 2,fancybox=True,shadow=True)\n",
    "    # ax1.set_ylim(0,4)\n",
    "\n",
    "# ax1.set_xlim(-3,128)\n",
    "# ax1.set_ylim(-7,1.5)\n",
    "\n",
    "left, bottom, width, height = [0.135, 0.65, 0.825,0.28] # cadre zoom\n",
    "axins = fig.add_axes([left, bottom, width, height])\n",
    "\n",
    "axins.plot(M[2],CH[2,0]*1000,color=cl[to_plot],marker='+',ls='--')\n",
    "# minor_ticks = np.arange(440, 500, 1)\n",
    "# axins.set_xticks(minor_ticks, minor=True)\n",
    "axins.grid(which='major',alpha=0.8)\n",
    "axins.grid(which='minor',alpha=0.3)\n",
    "\n",
    "x1, x2, y1, y2 = 135, 264, 0, 48 # limites zoom\n",
    "axins.set_xlim(x1, x2)\n",
    "axins.set_ylim(y1, y2)\n",
    "\n",
    "pp ,p1, p2 = mark_inset(ax, axins, loc1=2, loc2=4, fc=\"none\", ec=\"0.55\",zorder=10)\n",
    "axins.xaxis.set_major_locator(matplotlib.ticker.MultipleLocator(base=20))\n",
    "axins.xaxis.set_minor_locator(matplotlib.ticker.MultipleLocator(base=1))\n",
    "axins.yaxis.set_major_locator(matplotlib.ticker.MultipleLocator(base=10))\n",
    "axins.yaxis.set_minor_locator(matplotlib.ticker.MultipleLocator(base=1))\n",
    "plt.setp(axins.get_xticklabels(), rotation=45)\n",
    "\n",
    "axins.xaxis.tick_top()\n",
    "plt.setp(axins.get_xticklabels(), fontsize=15,zorder=10)\n",
    "plt.setp(axins.get_yticklabels(), fontsize=15)\n",
    "\n",
    "for to_plot in [2]:\n",
    "#     for j in range(len(peaks)):\n",
    "#         axins.vlines(M[to_plot,peaks[j]],CH[to_plot,0,peaks[j]]*1000,45,linestyle=':',\n",
    "#                      color=(0.3,0.3,0.3,0.7),zorder=1)\n",
    "    for j in range(len(peaks2)):\n",
    "        axins.vlines(M[to_plot,peaks2[j]+index_mini[0]],CH[to_plot,0,peaks2[j]+index_mini[0]]*1000,50,linestyle=':',\n",
    "                  color=(0.3,0.3,0.3,0.7),zorder=1)\n",
    "        plt.text(M[to_plot,peaks2[j]+index_mini[0]]-2.1,35+3*(j%2+1), # CH[to_plot,0,peaks2[j]+index_mini[0]]*1000+1.5\n",
    "                 f'{M[to_plot,peaks2[j]+index_mini[0]]:3.0f}',\n",
    "                va=\"baseline\", ha=\"center\", multialignment=\"center\",\n",
    "                color=cl[to_plot],fontsize = 11, bbox=dict(fc=\"None\",ec='None'))\n",
    "\n",
    "        \n",
    "ax.grid(which='major',alpha=0.8)\n",
    "ax.grid(which='minor',alpha=0.3)\n",
    "ax.xaxis.set_major_locator(matplotlib.ticker.MultipleLocator(base=40))\n",
    "ax.xaxis.set_minor_locator(matplotlib.ticker.MultipleLocator(base=10))\n",
    "ax.yaxis.set_major_locator(matplotlib.ticker.MultipleLocator(base=20))\n",
    "ax.yaxis.set_minor_locator(matplotlib.ticker.MultipleLocator(base=5))\n",
    "plt.setp(ax.get_xticklabels(), rotation=0)\n",
    "\n",
    "ax.set_xlim(120,550)\n",
    "ax.set_ylim(-4.5,205)\n",
    "# axins.grid(b=True, which='minor', color='r', linestyle='--')\n",
    "plt.tight_layout()\n",
    "# savefig(fname,dpi=300)\n",
    "fig.subplots_adjust(top=0.98)\n",
    "savefig(fname,dpi=300)"
   ]
  },
  {
   "cell_type": "code",
   "execution_count": 102,
   "metadata": {},
   "outputs": [
    {
     "name": "stdout",
     "output_type": "stream",
     "text": [
      "/home/adrian/Documents/Mesures/H2M/TOF_spectro/tof_000.dat\n",
      "/home/adrian/Documents/Mesures/H2M/TOF_spectro/tof_001.dat\n",
      "/home/adrian/Documents/Mesures/H2M/TOF_spectro/tof_002.dat\n",
      "/home/adrian/Documents/Mesures/H2M/TOF_spectro/tof_003.dat\n"
     ]
    }
   ],
   "source": [
    "# plot all in subplots\n",
    "# with masses\n",
    "fname='MCP Bender subplots masses'\n",
    "fig,ax = plt.subplots(2,2,num=fname,clear=True,sharex=True)\n",
    "# fig.suptitle('Tension C12 lentille centre | 0/X/0')\n",
    "# clf()\n",
    "fig.set_size_inches(11.69,8.27)\n",
    "\n",
    "fig.suptitle(f'{file_path[0][6:52]}')\n",
    "\n",
    "# title('Scans 866')\n",
    "# ax2 = fig.add_subplot(212,sharex=ax1)\n",
    "# cl = [ cm.cool(x) for x in linspace(0,1,len(TP)) ]\n",
    "to_plot = 0\n",
    "for k in [0,1]:\n",
    "    for j in [0,1]:\n",
    "\n",
    "        print(file_path[to_plot])\n",
    "        ax[k,j].plot(M[to_plot], CH[to_plot,0]*1000,color=cl[to_plot],marker='',ms=2,ls='-',lw=1, label = f'{to_plot}')   \n",
    "#         ax[k,j].set_xlim(22,55)\n",
    "        ax[k,j].xaxis.set_major_locator(matplotlib.ticker.MultipleLocator(base=100))\n",
    "    #     ax.set_ylim(-4.5,11)\n",
    "        leg = ax[k,j].legend(loc=0,fancybox=True,shadow=True)\n",
    "        ax[k,j].grid()\n",
    "        # ax1.set_ylim(0,4)\n",
    "\n",
    "        to_plot += 1\n",
    "# ax1.set_xlim(-3,128)\n",
    "# ax1.set_ylim(-7,1.5)\n",
    "\n",
    "\n",
    "ax[1,0].set_xlabel('[amu]')\n",
    "ax[1,1].set_xlabel('[amu]')\n",
    "ax[0,0].set_ylabel('[mV]') \n",
    "ax[1,0].set_ylabel('[mV]') \n",
    "\n",
    "# plt.setp(ax[0,0].get_xticklabels(), visible=False)\n",
    "# plt.setp(ax[0,1].get_xticklabels(), visible=False)\n",
    "\n",
    "\n",
    "plt.tight_layout()\n",
    "# savefig(fname,dpi=300)\n",
    "fig.subplots_adjust(top=0.94,hspace=.02)"
   ]
  },
  {
   "cell_type": "code",
   "execution_count": null,
   "metadata": {},
   "outputs": [],
   "source": []
  },
  {
   "cell_type": "code",
   "execution_count": 522,
   "metadata": {},
   "outputs": [
    {
     "name": "stdout",
     "output_type": "stream",
     "text": [
      "20.177968379032542 statV\n",
      "6049.2027377964405 V\n"
     ]
    }
   ],
   "source": [
    "# cgs\n",
    "\n",
    "T = 81\n",
    "a0 = 0.1\n",
    "\n",
    "V = sqrt(16*pi*a0*T)\n",
    "print(V,'statV')\n",
    "print(V * 299792458*1e-6,'V')"
   ]
  },
  {
   "cell_type": "code",
   "execution_count": 544,
   "metadata": {},
   "outputs": [
    {
     "name": "stdout",
     "output_type": "stream",
     "text": [
      "13.244868205325943 statV\n",
      "3970.7115951607134 V\n"
     ]
    }
   ],
   "source": [
    "# usi\n",
    "\n",
    "T = 34.9*1e-3\n",
    "a0 = 1e-3 # 0.225e-3\n",
    "\n",
    "V = sqrt(16*pi*a0*100*T*1e3)\n",
    "print(V,'statV')\n",
    "print(V*(299792458*1e-6),'V')"
   ]
  },
  {
   "cell_type": "code",
   "execution_count": null,
   "metadata": {},
   "outputs": [],
   "source": [
    "# usi\n",
    "\n",
    "T = 34.9*1e-3\n",
    "a0 = 1e-3 # 0.225e-3\n",
    "\n",
    "V = sqrt(16*pi*a0*100*T*1e3)\n",
    "print(V,'statV')\n",
    "print(V*(299792458*1e-6),'V')\n",
    "\n"
   ]
  },
  {
   "cell_type": "code",
   "execution_count": 543,
   "metadata": {},
   "outputs": [
    {
     "name": "stdout",
     "output_type": "stream",
     "text": [
      "0.4416527079843663\n"
     ]
    }
   ],
   "source": [
    "\n",
    "V = 50 #ml\n",
    "Vmeth = 25\n",
    "Veau = V - Vmeth\n",
    "\n",
    "rhometh = 0.791 # g/cm3 = g/mL\n",
    "rhoeau = 1\n",
    "\n",
    "Mmeth = Vmeth * rhometh\n",
    "Meau = Veau * rhoeau\n",
    "Mtot = Mmeth + Meau\n",
    "\n",
    "fracmeth = Mmeth / Mtot\n",
    "\n",
    "print(fracmeth)"
   ]
  },
  {
   "cell_type": "code",
   "execution_count": 638,
   "metadata": {},
   "outputs": [
    {
     "name": "stdout",
     "output_type": "stream",
     "text": [
      "7.811607843691366e-06\n",
      "7.811607843691366\n"
     ]
    }
   ],
   "source": [
    "d = 29e-2\n",
    "q = 1.602e-19\n",
    "V = 200\n",
    "M = 28\n",
    "m = M*1.66054e-27\n",
    "tof = d/sqrt(2*q*V)*sqrt(m)\n",
    "print(tof)\n",
    "\n",
    "tof2 = sqrt(1.66054e-27/2)*d*1e6*sqrt(M/(q*V))\n",
    "print(tof2)"
   ]
  },
  {
   "cell_type": "code",
   "execution_count": 639,
   "metadata": {},
   "outputs": [
    {
     "data": {
      "text/plain": [
       "7.811607843691366"
      ]
     },
     "execution_count": 639,
     "metadata": {},
     "output_type": "execute_result"
    }
   ],
   "source": [
    "sqrt(1.66054e-27/(2*q))*1e4 * sqrt(M/(1*V))*d*100"
   ]
  },
  {
   "cell_type": "code",
   "execution_count": 807,
   "metadata": {},
   "outputs": [
    {
     "name": "stdout",
     "output_type": "stream",
     "text": [
      "284\n"
     ]
    }
   ],
   "source": [
    "nc = 6 + 2 + 2 + 2 + 2\n",
    "nh = 4 + 4 + 4 + 4 + 4\n",
    "no = 0 + 2 + 2 + 2\n",
    "\n",
    "print(nc*12 + no*16 + nh )"
   ]
  },
  {
   "cell_type": "code",
   "execution_count": 805,
   "metadata": {},
   "outputs": [
    {
     "data": {
      "text/plain": [
       "448"
      ]
     },
     "execution_count": 805,
     "metadata": {},
     "output_type": "execute_result"
    }
   ],
   "source": [
    "224*2"
   ]
  },
  {
   "cell_type": "code",
   "execution_count": null,
   "metadata": {},
   "outputs": [],
   "source": []
  }
 ],
 "metadata": {
  "kernelspec": {
   "display_name": "Python 3",
   "language": "python",
   "name": "python3"
  },
  "language_info": {
   "codemirror_mode": {
    "name": "ipython",
    "version": 3
   },
   "file_extension": ".py",
   "mimetype": "text/x-python",
   "name": "python",
   "nbconvert_exporter": "python",
   "pygments_lexer": "ipython3",
   "version": "3.6.7"
  }
 },
 "nbformat": 4,
 "nbformat_minor": 2
}
