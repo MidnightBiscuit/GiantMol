{
 "cells": [
  {
   "cell_type": "markdown",
   "metadata": {},
   "source": [
    "# Imports"
   ]
  },
  {
   "cell_type": "code",
   "execution_count": 1,
   "metadata": {},
   "outputs": [],
   "source": [
    "# %pylab\n",
    "\n",
    "import numpy\n",
    "import matplotlib\n",
    "from matplotlib import pylab, mlab, pyplot\n",
    "from mpl_toolkits.mplot3d import Axes3D\n",
    "np = numpy\n",
    "plt = pyplot\n",
    "\n",
    "from pylab import *\n",
    "from numpy import *"
   ]
  },
  {
   "cell_type": "code",
   "execution_count": 2,
   "metadata": {},
   "outputs": [],
   "source": [
    "import os\n",
    "from os import listdir\n",
    "from os.path import isfile, join\n",
    "\n",
    "import tkinter as tk\n",
    "from tkinter import filedialog\n",
    "%matplotlib qt\n",
    "\n",
    "from pathlib import Path\n",
    "\n",
    "from scipy.signal import savgol_filter"
   ]
  },
  {
   "cell_type": "code",
   "execution_count": 69,
   "metadata": {},
   "outputs": [],
   "source": [
    "# Fonctions persos de Jofre et Adrien\n",
    "\n",
    "# %run function_jofre.ipy\n",
    "%run ../../Functions/1.2/data_fct_Adrien_point_by_point\n",
    "\n",
    "matplotlib.rcParams.update({'font.size': 21})"
   ]
  },
  {
   "cell_type": "code",
   "execution_count": 4,
   "metadata": {},
   "outputs": [
    {
     "name": "stdout",
     "output_type": "stream",
     "text": [
      "$\\kappa_{simion}$ = 0.270471\n"
     ]
    }
   ],
   "source": [
    "# Constantes de la physique\n",
    "# ABSOLUMENT RECHARGER APRÈS AVOIR EXECUTÉ LES CASES D'IMPORT AU DESSUS\n",
    "\n",
    "C_e = 1.602e-19        # Coulomb\n",
    "kb = 1.38064852*1e-23  # Boltzman\n",
    "m_Ca = 40.078*1.66054e-27 # masse Ca 40.078\n",
    "m_GM = 1e6*1.66054e-27 # la masse de la GMol\n",
    "eps0 = 8.854187*1e-12  # permittivité électrique du vide\n",
    "\n",
    "r0 = 2.5e-3 # 2.5e-3   # rayon piège Ca+\n",
    "d0 = 4e-3/2            # longueur piège Ca+\n",
    "\n",
    "Omega = 2.05e6*2*pi # 2.047e6\n",
    "\n",
    "bk = 4 # nombre de barreaux par groupe (2 -> 4-pole , 4 -> 8-pole ...)\n",
    "\n",
    "mkappa = 0.23          # écrantage piège réel GiantMol\n",
    "wzLC = (2*pi*90806.9982303)**2\n",
    "kappa_simion = m_Ca*d0**2*wzLC/(2*C_e)\n",
    "print('%s = %f' % ('$\\kappa_{simion}$',kappa_simion) )\n",
    "\n",
    "zeta = kappa_simion*r0**2/d0**2"
   ]
  },
  {
   "cell_type": "markdown",
   "metadata": {},
   "source": [
    "# Choose and load data"
   ]
  },
  {
   "cell_type": "code",
   "execution_count": 32,
   "metadata": {},
   "outputs": [
    {
     "name": "stdout",
     "output_type": "stream",
     "text": [
      "> Répertoire : /home/adrian/RemoteFS/Rivendel/20201202/DC07_RF09/Try00\n",
      "> Filename : Temp_SimuTypeQ_N01024_Vrf0059_Udc0.4000D+01V_D1.0_S1.0RFG.dat\n",
      "> myslashpos | [0, 5, 12, 21, 30, 39, 49]\n",
      "> slashcond | 5\n",
      "No points deleted because they were not complete\n",
      "Total number of data directories 8\n",
      "[]\n"
     ]
    }
   ],
   "source": [
    "## GUI for data loading\n",
    "# Select one data file all the way down to the directories\n",
    "# SELECT Temp_SimuTypeQ_N ... .dat\n",
    "\n",
    "file_cfg, slash_cfg, all_subdir = load_gui(filter_nocomplete=0)\n",
    "\n",
    "file_path = file_cfg[0]\n",
    "dir_path = file_cfg[1]\n",
    "work_rep = file_cfg[2]\n",
    "filename = file_cfg[3]\n",
    "\n",
    "myslashpos = slash_cfg[0]\n",
    "slashcond = slash_cfg[1]\n",
    "\n",
    "address_runs = [x for x in all_subdir if 'DC01_RF08' in x]\n",
    "print(address_runs)"
   ]
  },
  {
   "cell_type": "code",
   "execution_count": 33,
   "metadata": {},
   "outputs": [
    {
     "name": "stdout",
     "output_type": "stream",
     "text": [
      "['DC07_RF09', 'DC18_RF10']\n",
      "000 > DC07_RF09\n",
      "001 > DC18_RF10\n",
      "> condition names ['DC', 'RF']\n",
      "> number of points 2\n",
      "> N_ions = 1024\n",
      "> e_GMol = 50\n"
     ]
    }
   ],
   "source": [
    "## Condition for data\n",
    "points_and_coord, condition_parameters = simu_conditions(all_subdir, myslashpos, slashcond, filename)"
   ]
  },
  {
   "cell_type": "code",
   "execution_count": 34,
   "metadata": {},
   "outputs": [
    {
     "name": "stdout",
     "output_type": "stream",
     "text": [
      "> Points | 2\n",
      "> Simulations pour chaque point | ['Try00', 'Try01', 'Try02', 'Try03']\n",
      "['/home/adrian/RemoteFS/Rivendel/20201202/DC07_RF09/Try00', '/home/adrian/RemoteFS/Rivendel/20201202/DC07_RF09/Try01', '/home/adrian/RemoteFS/Rivendel/20201202/DC07_RF09/Try02', '/home/adrian/RemoteFS/Rivendel/20201202/DC07_RF09/Try03', '/home/adrian/RemoteFS/Rivendel/20201202/DC18_RF10/Try00', '/home/adrian/RemoteFS/Rivendel/20201202/DC18_RF10/Try01', '/home/adrian/RemoteFS/Rivendel/20201202/DC18_RF10/Try02', '/home/adrian/RemoteFS/Rivendel/20201202/DC18_RF10/Try03']\n",
      "Hello\n",
      "Point n° 0\n",
      "00 - 00  >  /home/adrian/RemoteFS/Rivendel/20201202/DC07_RF09/Try00\\Temp_SimuTypeQ_N01024_Vrf0059_Udc0.4000D+01V_D1.0_S1.0RFG\n",
      "00 - 01  >  /home/adrian/RemoteFS/Rivendel/20201202/DC07_RF09/Try01\\Temp_SimuTypeQ_N01024_Vrf0059_Udc0.4000D+01V_D1.0_S1.0RFG\n",
      "00 - 02  >  /home/adrian/RemoteFS/Rivendel/20201202/DC07_RF09/Try02\\Temp_SimuTypeQ_N01024_Vrf0059_Udc0.4000D+01V_D1.0_S1.0RFG\n",
      "00 - 03  >  /home/adrian/RemoteFS/Rivendel/20201202/DC07_RF09/Try03\\Temp_SimuTypeQ_N01024_Vrf0059_Udc0.4000D+01V_D1.0_S1.0RFG\n",
      "Point n° 1\n",
      "01 - 00  >  /home/adrian/RemoteFS/Rivendel/20201202/DC18_RF10/Try00\\Temp_SimuTypeQ_N01024_Vrf0064_Udc0.6000D+01V_D1.0_S1.0RFG\n",
      "01 - 01  >  /home/adrian/RemoteFS/Rivendel/20201202/DC18_RF10/Try01\\Temp_SimuTypeQ_N01024_Vrf0064_Udc0.6000D+01V_D1.0_S1.0RFG\n",
      "01 - 02  >  /home/adrian/RemoteFS/Rivendel/20201202/DC18_RF10/Try02\\Temp_SimuTypeQ_N01024_Vrf0064_Udc0.6000D+01V_D1.0_S1.0RFG\n",
      "01 - 03  >  /home/adrian/RemoteFS/Rivendel/20201202/DC18_RF10/Try03\\Temp_SimuTypeQ_N01024_Vrf0064_Udc0.6000D+01V_D1.0_S1.0RFG\n",
      "Time elapsed:  0.015951999999999966 s\n",
      "Time elapsed:  0.0002658666666666661 m\n"
     ]
    }
   ],
   "source": [
    "## Data loading (1D arrays)\n",
    "# select data with init to reuse\n",
    "forcetryinit = ['Try00']\n",
    "\n",
    "data_name, num_runs \\\n",
    "= data_retrieve_RFRelax(all_subdir,points_and_coord,condition_parameters,slash_cfg,\n",
    "                        mode='RFrelax') # forcecondnum = 0 , forcetryinit = forcetryinit\n",
    "\n",
    "data_address = data_name[0]\n",
    "data0 = data_name[1]\n",
    "data6 = data_name[2]"
   ]
  },
  {
   "cell_type": "markdown",
   "metadata": {},
   "source": [
    "# load context variables"
   ]
  },
  {
   "cell_type": "code",
   "execution_count": 36,
   "metadata": {},
   "outputs": [
    {
     "name": "stdout",
     "output_type": "stream",
     "text": [
      "1.0\n"
     ]
    }
   ],
   "source": [
    "# Where is written Detuning and how much it is\n",
    "temp_pos = filename.find('0RFG')\n",
    "Detuning = filename[temp_pos-7:temp_pos-4]\n",
    "print(Detuning)"
   ]
  },
  {
   "cell_type": "code",
   "execution_count": 37,
   "metadata": {},
   "outputs": [
    {
     "name": "stdout",
     "output_type": "stream",
     "text": [
      "['/home/adrian/RemoteFS/Rivendel/20201202/DC07_RF09/Try00\\\\Temp_SimuTypeQ_N01024_Vrf0059_Udc0.4000D+01V_D1.0_S1.0RFG', '/home/adrian/RemoteFS/Rivendel/20201202/DC07_RF09/Try01\\\\Temp_SimuTypeQ_N01024_Vrf0059_Udc0.4000D+01V_D1.0_S1.0RFG', '/home/adrian/RemoteFS/Rivendel/20201202/DC07_RF09/Try02\\\\Temp_SimuTypeQ_N01024_Vrf0059_Udc0.4000D+01V_D1.0_S1.0RFG', '/home/adrian/RemoteFS/Rivendel/20201202/DC07_RF09/Try03\\\\Temp_SimuTypeQ_N01024_Vrf0059_Udc0.4000D+01V_D1.0_S1.0RFG']/\n",
      "Temp_3D_Harmo_N1024_T500uK_F0.15D-19Kg_s_5\n"
     ]
    }
   ],
   "source": [
    "## Data loading with hardcode names\n",
    "eta = 1.5e-20\n",
    "\n",
    "plot_point = 0\n",
    "plot_try = 0\n",
    "# str_eta_chiffre    = float(f'{eta[plot_point]:1.2e}'[:4])/10\n",
    "# str_eta_puissance  = int(re.sub('e','D',f'{eta[plot_point]:1.2e}'[6:]))-1\n",
    "# str_eta = f'{str_eta_chiffre:1.2f}'+'D-'+str(str_eta_puissance)\n",
    "str_eta = '0.15D-19'\n",
    "dirname_hc = str(data0[plot_point])+'/'\n",
    "# Temp_3D_Harmo_N1024_T500uK_F0.20D-20Kg_s_5\n",
    "datainit_hc = 'Temp_3D_Harmo_N1024_T500uK_F'+str(str_eta)+'Kg_s_5'\n",
    "data0_hc    = '/Temp_SimuTypeQ_N01024_Vrf0070_Udc0.5000D+01V_D1.0_S1.0RFG'\n",
    "data4_hc    = '/Temp_SimuType4_01_N01024_Vrf0070_Udc0.5000D+01V_D1.0_S1.0RFG'\n",
    "data2_hc    = '/Temp_SimuType2_01_N01024_Vrf0070_Udc0.5000D+01V_D1.0_S1.0RFG'\n",
    "\n",
    "print(dirname_hc)\n",
    "print(datainit_hc)"
   ]
  },
  {
   "cell_type": "code",
   "execution_count": 38,
   "metadata": {},
   "outputs": [
    {
     "name": "stdout",
     "output_type": "stream",
     "text": [
      "/home/adrian/RemoteFS/Rivendel/20201202/DC07_RF09/Try00\n",
      "['Langevin_cooling.info'\n",
      " 'xva_SimuType6_01_N01024_Vrf0059_Udc0.4000D+01V_D1.0_S1.0RFG.info'\n",
      " 'xva_SimuTypeQ_N01024_Vrf0059_Udc0.4000D+01V_D1.0_S1.0RFG.info']\n",
      "eta 1.5e-20\n",
      "i_free__fly_Lan 1000.0\n",
      "i_laser_fly_quench 6000.0\n",
      "i_laser_fly_quench 10000.0\n",
      "i_relax_fly 75000.0\n"
     ]
    }
   ],
   "source": [
    "# recover duration for each step of simu (i_free__fly, i_laser_fly ...)\n",
    "plot_try = 1\n",
    "address = all_subdir[plot_point]\n",
    "print(address)\n",
    "info_files = sort( [f for f in listdir(address) if isfile(join(address, f)) and \".info\" in f] )\n",
    "print(sort(info_files))\n",
    "\n",
    "\n",
    "tmp_info = loadtxt(all_subdir[plot_point]+'/'+info_files[0],encoding ='utf-8',\n",
    "            skiprows=1, usecols=(0),\n",
    "            unpack=True)\n",
    "eta = tmp_info[-2]\n",
    "i_free__fly_Lan = tmp_info[-1]\n",
    "\n",
    "tmp_info = loadtxt(all_subdir[0]+'/'+'xva_SimuType6_01_N01024_Vrf0059_Udc0.4000D+01V_D1.0_S1.0RFG.info',encoding ='utf-8',\n",
    "            skiprows=0, usecols=(0),\n",
    "            unpack=True)\n",
    "i_laser_fly_init = tmp_info[-3]\n",
    "i_laser_fly_quench = tmp_info[-2]\n",
    "i_relax_fly = tmp_info[-7]\n",
    "\n",
    "n_dt = 100\n",
    "dt = 1/2e6\n",
    "\n",
    "print('eta',eta)\n",
    "print('i_free__fly_Lan',i_free__fly_Lan)\n",
    "print('i_laser_fly_quench',i_laser_fly_init)\n",
    "print('i_laser_fly_quench',i_laser_fly_quench)\n",
    "print('i_relax_fly',i_relax_fly)"
   ]
  },
  {
   "cell_type": "code",
   "execution_count": 60,
   "metadata": {},
   "outputs": [
    {
     "name": "stdout",
     "output_type": "stream",
     "text": [
      "/home/adrian/RemoteFS/Rivendel/20201202/DC07_RF09/Try02/xN_SimuType6_01_N01024_Vrf0059_Udc0.4000D+01V_D1.0_S1.0RFG.bin\n",
      "74257 1024\n",
      "4 4 4 4 43008000 43008000\n",
      "10752000.0\n"
     ]
    }
   ],
   "source": [
    "plot_point = 0\n",
    "plot_try = 2\n",
    "data_address_aux = data_address[plot_point][plot_try]\n",
    "snap_files = [f for f in listdir(data_address_aux) if isfile(join(data_address_aux, f)) and \"xN\" in f]\n",
    "str_load = data_address_aux + '/' + snap_files[0]\n",
    "print(str_load)\n",
    "\n",
    "fid = open(str_load, 'rb')\n",
    "\n",
    "junk0 = fromfile(fid, int32, 1)  # Read record start tag\n",
    "aux = fromfile(fid, int32, 1)\n",
    "junk1 = fromfile(fid, int32, 1)  # Read record stop tag\n",
    "jmax = aux[0]\n",
    "\n",
    "junk2 = fromfile(fid, int32, 1)  # Read record start tag\n",
    "aux = fromfile(fid, int32, 1)\n",
    "junk3 = fromfile(fid, int32, 1)  # Read record stop tag\n",
    "N_ions = aux[0]\n",
    "\n",
    "junk4 = fromfile(fid, int32, 1)  # Read record start tag\n",
    "r = fromfile(fid, single, int(junk4[0]/4)) # jmax*N_ions*3\n",
    "junk5 = fromfile(fid, int32, 1)  # Read record stop tag\n",
    "\n",
    "print(jmax,N_ions)\n",
    "print(junk0[0],junk1[0],junk2[0],junk3[0],junk4[0],junk5[0])\n",
    "print(junk4[0]/4)"
   ]
  },
  {
   "cell_type": "code",
   "execution_count": 64,
   "metadata": {},
   "outputs": [
    {
     "name": "stdout",
     "output_type": "stream",
     "text": [
      "(7, 500)\n"
     ]
    }
   ],
   "source": [
    "i_snap_x = 500\n",
    "di_snap_x = 10000\n",
    "\n",
    "snap_num = int(i_relax_fly/real(i_snap_x+di_snap_x))\n",
    "snap_time = []\n",
    "for k in range(1,snap_num+1):\n",
    "    snap_time.append(linspace(di_snap_x*k*dt,(di_snap_x*k+i_snap_x)*dt,i_snap_x)*1000)\n",
    "print(shape(snap_time))"
   ]
  },
  {
   "cell_type": "code",
   "execution_count": 65,
   "metadata": {},
   "outputs": [],
   "source": [
    "import matplotlib.patches as patches"
   ]
  },
  {
   "cell_type": "code",
   "execution_count": 85,
   "metadata": {},
   "outputs": [
    {
     "name": "stdout",
     "output_type": "stream",
     "text": [
      "/home/adrian/RemoteFS/Rivendel/20201202/DC18_RF10/Try03\\Temp_SimuTypeQ_N01024_Vrf0064_Udc0.6000D+01V_D1.0_S1.0RFG\n",
      "/home/adrian/RemoteFS/Rivendel/20201202/DC18_RF10/Try03\\Temp_SimuType6_01_N01024_Vrf0064_Udc0.6000D+01V_D1.0_S1.0RFG\n",
      "len save_T [55440]\n",
      "[5.05000000e-07 2.93594610e-06 7.61476188e-04 4.42512894e-05\n",
      " 4.83924365e+01 1.50717352e+00 6.05032267e+01]\n"
     ]
    }
   ],
   "source": [
    "# Get T and fluo PM  All SimuType\n",
    "plot_point = 1\n",
    "plot_try = 3\n",
    "address_reuseinit = all_subdir[plot_point]\n",
    "address = data_address[plot_point][plot_try]\n",
    "init_data = data0[plot_point][plot_try]\n",
    "evol_data = data6[plot_point][plot_try]\n",
    "print(init_data)\n",
    "print(evol_data)\n",
    "\n",
    "# onlyfiles = [f for f in listdir(evol_data) if isfile(join(evol_data, f)) and \"SimuType\" in f and \".dat\" in f]\n",
    "# print(sort(onlyfiles))\n",
    "# onlyfiles_reuseinit = [f for f in listdir(init_data) if isfile(join(init_data, f)) and \"SimuType\" in f and \".dat\" in f]\n",
    "# print(sort(onlyfiles_reuseinit))\n",
    "\n",
    "ta, te, ti = plot_T_and_PM_InitQ_Evol_AfterCool(address,\n",
    "                                           flag_plot=0,fig_name='0o0o0o0',xlim1=(0,65),ylim1=(2e-4,6000),ylim2=(-50,46000))\n",
    "\n",
    "fname = address[31:49]\n",
    "plt.figure(re.sub('/','-',fname)).clf()\n",
    "ax1 = subplot(111)\n",
    "te_filter = []\n",
    "for k in range(3):\n",
    "    te_filter.append(savgol_filter(te[:,k], 25, 1))\n",
    "    ax1.semilogy(ta*1e3,te_filter[k]) ; ax1.text(0,1e-4,'Filtered temperatures',fontsize = 10,ha='left')\n",
    "    # ax1.semilogy(ta*1e3,te[:,k])\n",
    "    ax1.grid()\n",
    "    \n",
    "ax1.set_xlabel('time [µs]')\n",
    "ax1.set_ylabel('T [K]')\n",
    "title(fname)\n",
    "    \n",
    "time_switch = i_free__fly_Lan *dt\n",
    "ax1.vlines(time_switch*1e3,2e-4,1e4,color='blue')\n",
    "time_switch = (i_free__fly_Lan+i_laser_fly_init)*dt\n",
    "ax1.vlines(time_switch*1e3,2e-4,1e4,color='green')\n",
    "time_switch = (i_free__fly_Lan+i_laser_fly_init+i_laser_fly_quench)*dt\n",
    "ax1.vlines(time_switch*1e3,2e-4,1e4,color='orange')\n",
    "for k in range(snap_num):\n",
    "    ax1.add_patch(\n",
    "     patches.Rectangle(\n",
    "        (snap_time[k][0]+time_switch*1e3, 1e-4),\n",
    "        snap_time[k][-1]-snap_time[k][0],\n",
    "        0.01,\n",
    "        edgecolor = 'blue',\n",
    "        facecolor = 'red',\n",
    "        fill=True\n",
    "     ) )\n",
    "time_switch = (i_free__fly_Lan+i_laser_fly_init+i_laser_fly_quench+i_relax_fly)*dt\n",
    "ax1.vlines(time_switch*1e3,2e-4,1e4,color='purple')\n",
    "\n",
    "tight_layout()\n",
    "\n",
    "# tt2, T_CM2, T_aux2, PM2\n",
    "# ,xlim1=(3.458,3.582),ylim1=(2e-4,50),ylim2=(19.5,65)"
   ]
  },
  {
   "cell_type": "code",
   "execution_count": 86,
   "metadata": {},
   "outputs": [
    {
     "data": {
      "text/plain": [
       "(1024, 3, 3500)"
      ]
     },
     "execution_count": 86,
     "metadata": {},
     "output_type": "execute_result"
    }
   ],
   "source": [
    "r_reshape = reshape(r,(N_ions,3,int(junk4[0]/4/3/N_ions)),order='F')\n",
    "shape(r_reshape)"
   ]
  },
  {
   "cell_type": "code",
   "execution_count": 103,
   "metadata": {},
   "outputs": [
    {
     "data": {
      "text/plain": [
       "array([0., 0., 0., ..., 0., 0., 0.], dtype=float32)"
      ]
     },
     "execution_count": 103,
     "metadata": {},
     "output_type": "execute_result"
    }
   ],
   "source": [
    "r_reshape[:,0,500]"
   ]
  },
  {
   "cell_type": "code",
   "execution_count": 93,
   "metadata": {},
   "outputs": [],
   "source": [
    "figure('my_little_cloud').clf()\n",
    "time = 1000\n",
    "for k in range(1024):\n",
    "    scatter(r_reshape[k,0,time]*1000,r_reshape[k,1,time]*1000)"
   ]
  },
  {
   "cell_type": "code",
   "execution_count": 225,
   "metadata": {},
   "outputs": [],
   "source": [
    "figure('my_little_cloud').clf()\n",
    "for time in range(0,2000,200):\n",
    "    for k in range(1024):\n",
    "        scatter(r_reshape[k,0,time]*1000,r_reshape[k,1,time]*1000)\n",
    "    plt.pause(1)\n",
    "    plt.clf()"
   ]
  },
  {
   "cell_type": "code",
   "execution_count": 181,
   "metadata": {},
   "outputs": [
    {
     "data": {
      "text/plain": [
       "3.4982388e-06"
      ]
     },
     "execution_count": 181,
     "metadata": {},
     "output_type": "execute_result"
    }
   ],
   "source": []
  }
 ],
 "metadata": {
  "kernelspec": {
   "display_name": "Python 3",
   "language": "python",
   "name": "python3"
  },
  "language_info": {
   "codemirror_mode": {
    "name": "ipython",
    "version": 3
   },
   "file_extension": ".py",
   "mimetype": "text/x-python",
   "name": "python",
   "nbconvert_exporter": "python",
   "pygments_lexer": "ipython3",
   "version": "3.6.7"
  }
 },
 "nbformat": 4,
 "nbformat_minor": 4
}
