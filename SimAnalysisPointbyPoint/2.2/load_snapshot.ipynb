{
 "cells": [
  {
   "cell_type": "markdown",
   "metadata": {},
   "source": [
    "# Imports"
   ]
  },
  {
   "cell_type": "code",
   "execution_count": 290,
   "metadata": {},
   "outputs": [],
   "source": [
    "# %pylab\n",
    "\n",
    "import numpy\n",
    "import matplotlib\n",
    "from matplotlib import pylab, mlab, pyplot\n",
    "from mpl_toolkits.mplot3d import Axes3D\n",
    "np = numpy\n",
    "plt = pyplot\n",
    "\n",
    "from pylab import *\n",
    "from numpy import *"
   ]
  },
  {
   "cell_type": "code",
   "execution_count": 291,
   "metadata": {},
   "outputs": [],
   "source": [
    "import os\n",
    "from os import listdir\n",
    "from os.path import isfile, join\n",
    "\n",
    "import tkinter as tk\n",
    "from tkinter import filedialog\n",
    "%matplotlib qt\n",
    "\n",
    "from pathlib import Path\n",
    "\n",
    "from scipy.signal import savgol_filter"
   ]
  },
  {
   "cell_type": "code",
   "execution_count": 292,
   "metadata": {},
   "outputs": [],
   "source": [
    "# Fonctions persos de Jofre et Adrien\n",
    "\n",
    "# %run function_jofre.ipy\n",
    "%run ../../Functions/1.2/data_fct_Adrien_point_by_point\n",
    "\n",
    "matplotlib.rcParams.update({'font.size': 21})"
   ]
  },
  {
   "cell_type": "code",
   "execution_count": 293,
   "metadata": {},
   "outputs": [
    {
     "name": "stdout",
     "output_type": "stream",
     "text": [
      "$\\kappa_{simion}$ = 0.270471\n"
     ]
    }
   ],
   "source": [
    "# Constantes de la physique\n",
    "# ABSOLUMENT RECHARGER APRÈS AVOIR EXECUTÉ LES CASES D'IMPORT AU DESSUS\n",
    "\n",
    "C_e = 1.602e-19        # Coulomb\n",
    "kb = 1.38064852*1e-23  # Boltzman\n",
    "m_Ca = 40.078*1.66054e-27 # masse Ca 40.078\n",
    "m_GM = 1e6*1.66054e-27 # la masse de la GMol\n",
    "eps0 = 8.854187*1e-12  # permittivité électrique du vide\n",
    "\n",
    "r0 = 2.5e-3 # 2.5e-3   # rayon piège Ca+\n",
    "d0 = 4e-3/2            # longueur piège Ca+\n",
    "\n",
    "Omega = 2.05e6*2*pi # 2.047e6\n",
    "\n",
    "bk = 4 # nombre de barreaux par groupe (2 -> 4-pole , 4 -> 8-pole ...)\n",
    "\n",
    "mkappa = 0.23          # écrantage piège réel GiantMol\n",
    "wzLC = (2*pi*90806.9982303)**2\n",
    "kappa_simion = m_Ca*d0**2*wzLC/(2*C_e)\n",
    "print('%s = %f' % ('$\\kappa_{simion}$',kappa_simion) )\n",
    "\n",
    "zeta = kappa_simion*r0**2/d0**2"
   ]
  },
  {
   "cell_type": "markdown",
   "metadata": {},
   "source": [
    "# Choose and load data"
   ]
  },
  {
   "cell_type": "code",
   "execution_count": 295,
   "metadata": {},
   "outputs": [
    {
     "name": "stdout",
     "output_type": "stream",
     "text": [
      "> Répertoire : /home/adrian/RemoteFS/Rivendel/20201209/DC07_RF09/Try00\n",
      "> Filename : Temp_SimuTypeQ_N01024_Vrf0059_Udc0.4000D+01V_D1.0_S1.0RFG.dat\n",
      "> myslashpos | [0, 5, 12, 21, 30, 39, 49]\n",
      "> slashcond | 5\n",
      "No points deleted because they were not complete\n",
      "Total number of data directories 8\n",
      "[]\n"
     ]
    }
   ],
   "source": [
    "## GUI for data loading\n",
    "# Select one data file all the way down to the directories\n",
    "# SELECT Temp_SimuTypeQ_N ... .dat\n",
    "\n",
    "file_cfg, slash_cfg, all_subdir = load_gui(filter_nocomplete=0)\n",
    "\n",
    "file_path = file_cfg[0]\n",
    "dir_path = file_cfg[1]\n",
    "work_rep = file_cfg[2]\n",
    "filename = file_cfg[3]\n",
    "\n",
    "myslashpos = slash_cfg[0]\n",
    "slashcond = slash_cfg[1]\n",
    "\n",
    "address_runs = [x for x in all_subdir if 'DC01_RF08' in x]\n",
    "print(address_runs)"
   ]
  },
  {
   "cell_type": "code",
   "execution_count": 296,
   "metadata": {},
   "outputs": [
    {
     "name": "stdout",
     "output_type": "stream",
     "text": [
      "['DC07_RF09', 'DC18_RF10']\n",
      "000 > DC07_RF09\n",
      "001 > DC18_RF10\n",
      "> condition names ['DC', 'RF']\n",
      "> number of points 2\n",
      "> N_ions = 1024\n",
      "> e_GMol = 50\n"
     ]
    }
   ],
   "source": [
    "## Condition for data\n",
    "points_and_coord, condition_parameters = simu_conditions(all_subdir, myslashpos, slashcond, filename)"
   ]
  },
  {
   "cell_type": "code",
   "execution_count": 297,
   "metadata": {},
   "outputs": [
    {
     "name": "stdout",
     "output_type": "stream",
     "text": [
      "> Points | 2\n",
      "> Simulations pour chaque point | ['Try00', 'Try01', 'Try02', 'Try03']\n",
      "['/home/adrian/RemoteFS/Rivendel/20201209/DC07_RF09/Try00', '/home/adrian/RemoteFS/Rivendel/20201209/DC07_RF09/Try01', '/home/adrian/RemoteFS/Rivendel/20201209/DC07_RF09/Try02', '/home/adrian/RemoteFS/Rivendel/20201209/DC07_RF09/Try03', '/home/adrian/RemoteFS/Rivendel/20201209/DC18_RF10/Try00', '/home/adrian/RemoteFS/Rivendel/20201209/DC18_RF10/Try01', '/home/adrian/RemoteFS/Rivendel/20201209/DC18_RF10/Try02', '/home/adrian/RemoteFS/Rivendel/20201209/DC18_RF10/Try03']\n",
      "Hello\n",
      "Point n° 0\n",
      "00 - 00  >  /home/adrian/RemoteFS/Rivendel/20201209/DC07_RF09/Try00\\Temp_SimuTypeQ_N01024_Vrf0059_Udc0.4000D+01V_D1.0_S1.0RFG\n",
      "00 - 01  >  /home/adrian/RemoteFS/Rivendel/20201209/DC07_RF09/Try01\\Temp_SimuTypeQ_N01024_Vrf0059_Udc0.4000D+01V_D1.0_S1.0RFG\n",
      "00 - 02  >  /home/adrian/RemoteFS/Rivendel/20201209/DC07_RF09/Try02\\Temp_SimuTypeQ_N01024_Vrf0059_Udc0.4000D+01V_D1.0_S1.0RFG\n",
      "00 - 03  >  /home/adrian/RemoteFS/Rivendel/20201209/DC07_RF09/Try03\\Temp_SimuTypeQ_N01024_Vrf0059_Udc0.4000D+01V_D1.0_S1.0RFG\n",
      "Point n° 1\n",
      "01 - 00  >  /home/adrian/RemoteFS/Rivendel/20201209/DC18_RF10/Try00\\Temp_SimuTypeQ_N01024_Vrf0064_Udc0.6000D+01V_D1.0_S1.0RFG\n",
      "01 - 01  >  /home/adrian/RemoteFS/Rivendel/20201209/DC18_RF10/Try01\\Temp_SimuTypeQ_N01024_Vrf0064_Udc0.6000D+01V_D1.0_S1.0RFG\n",
      "01 - 02  >  /home/adrian/RemoteFS/Rivendel/20201209/DC18_RF10/Try02\\Temp_SimuTypeQ_N01024_Vrf0064_Udc0.6000D+01V_D1.0_S1.0RFG\n",
      "01 - 03  >  /home/adrian/RemoteFS/Rivendel/20201209/DC18_RF10/Try03\\Temp_SimuTypeQ_N01024_Vrf0064_Udc0.6000D+01V_D1.0_S1.0RFG\n",
      "Time elapsed:  0.016592000000002827 s\n",
      "Time elapsed:  0.00027653333333338046 m\n"
     ]
    }
   ],
   "source": [
    "## Data loading (1D arrays)\n",
    "# select data with init to reuse\n",
    "forcetryinit = ['Try00']\n",
    "\n",
    "data_name, num_runs \\\n",
    "= data_retrieve_RFRelax(all_subdir,points_and_coord,condition_parameters,slash_cfg,\n",
    "                        mode='RFrelax') # forcecondnum = 0 , forcetryinit = forcetryinit\n",
    "\n",
    "data_address = data_name[0]\n",
    "data0 = data_name[1]\n",
    "data6 = data_name[2]"
   ]
  },
  {
   "cell_type": "markdown",
   "metadata": {},
   "source": [
    "# load context variables"
   ]
  },
  {
   "cell_type": "code",
   "execution_count": 298,
   "metadata": {},
   "outputs": [
    {
     "name": "stdout",
     "output_type": "stream",
     "text": [
      "1.0\n"
     ]
    }
   ],
   "source": [
    "# Where is written Detuning and how much it is\n",
    "temp_pos = filename.find('0RFG')\n",
    "Detuning = filename[temp_pos-7:temp_pos-4]\n",
    "print(Detuning)"
   ]
  },
  {
   "cell_type": "code",
   "execution_count": 299,
   "metadata": {},
   "outputs": [
    {
     "name": "stdout",
     "output_type": "stream",
     "text": [
      "['/home/adrian/RemoteFS/Rivendel/20201209/DC07_RF09/Try00\\\\Temp_SimuTypeQ_N01024_Vrf0059_Udc0.4000D+01V_D1.0_S1.0RFG', '/home/adrian/RemoteFS/Rivendel/20201209/DC07_RF09/Try01\\\\Temp_SimuTypeQ_N01024_Vrf0059_Udc0.4000D+01V_D1.0_S1.0RFG', '/home/adrian/RemoteFS/Rivendel/20201209/DC07_RF09/Try02\\\\Temp_SimuTypeQ_N01024_Vrf0059_Udc0.4000D+01V_D1.0_S1.0RFG', '/home/adrian/RemoteFS/Rivendel/20201209/DC07_RF09/Try03\\\\Temp_SimuTypeQ_N01024_Vrf0059_Udc0.4000D+01V_D1.0_S1.0RFG']/\n",
      "Temp_3D_Harmo_N1024_T500uK_F0.15D-19Kg_s_5\n"
     ]
    }
   ],
   "source": [
    "## Data loading with hardcode names\n",
    "eta = 1.5e-20\n",
    "\n",
    "plot_point = 0\n",
    "plot_try = 0\n",
    "# str_eta_chiffre    = float(f'{eta[plot_point]:1.2e}'[:4])/10\n",
    "# str_eta_puissance  = int(re.sub('e','D',f'{eta[plot_point]:1.2e}'[6:]))-1\n",
    "# str_eta = f'{str_eta_chiffre:1.2f}'+'D-'+str(str_eta_puissance)\n",
    "str_eta = '0.15D-19'\n",
    "dirname_hc = str(data0[plot_point])+'/'\n",
    "# Temp_3D_Harmo_N1024_T500uK_F0.20D-20Kg_s_5\n",
    "datainit_hc = 'Temp_3D_Harmo_N1024_T500uK_F'+str(str_eta)+'Kg_s_5'\n",
    "data0_hc    = '/Temp_SimuTypeQ_N01024_Vrf0070_Udc0.5000D+01V_D1.0_S1.0RFG'\n",
    "data4_hc    = '/Temp_SimuType4_01_N01024_Vrf0070_Udc0.5000D+01V_D1.0_S1.0RFG'\n",
    "data2_hc    = '/Temp_SimuType2_01_N01024_Vrf0070_Udc0.5000D+01V_D1.0_S1.0RFG'\n",
    "\n",
    "print(dirname_hc)\n",
    "print(datainit_hc)"
   ]
  },
  {
   "cell_type": "code",
   "execution_count": 300,
   "metadata": {},
   "outputs": [
    {
     "name": "stdout",
     "output_type": "stream",
     "text": [
      "/home/adrian/RemoteFS/Rivendel/20201209/DC07_RF09/Try00\n",
      "['Langevin_cooling.info'\n",
      " 'xva_SimuType6_01_N01024_Vrf0059_Udc0.4000D+01V_D1.0_S1.0RFG.info'\n",
      " 'xva_SimuTypeQ_N01024_Vrf0059_Udc0.4000D+01V_D1.0_S1.0RFG.info']\n",
      "eta 1.5e-20\n",
      "i_free__fly_Lan 1000.0\n",
      "i_laser_fly_init 6000.0\n",
      "i_laser_fly_quench 10000.0\n",
      "i_relax_fly 75000.0\n"
     ]
    }
   ],
   "source": [
    "# recover duration for each step of simu (i_free__fly, i_laser_fly ...)\n",
    "plot_try = 1\n",
    "address = all_subdir[plot_point]\n",
    "print(address)\n",
    "info_files = sort( [f for f in listdir(address) if isfile(join(address, f)) and \".info\" in f] )\n",
    "print(sort(info_files))\n",
    "\n",
    "\n",
    "tmp_info = loadtxt(all_subdir[plot_point]+'/'+info_files[0],encoding ='utf-8',\n",
    "            skiprows=1, usecols=(0),\n",
    "            unpack=True)\n",
    "eta = tmp_info[-2]\n",
    "i_free__fly_Lan = tmp_info[-1]\n",
    "\n",
    "tmp_info = loadtxt(all_subdir[0]+'/'+'xva_SimuType6_01_N01024_Vrf0059_Udc0.4000D+01V_D1.0_S1.0RFG.info',encoding ='utf-8',\n",
    "            skiprows=0, usecols=(0),\n",
    "            unpack=True)\n",
    "i_laser_fly_init = tmp_info[-4]\n",
    "i_laser_fly_quench = tmp_info[-3]\n",
    "i_relax_fly = tmp_info[-1]\n",
    "\n",
    "n_dt = 100\n",
    "dt = 1/2e6\n",
    "\n",
    "print('eta',eta)\n",
    "print('i_free__fly_Lan',i_free__fly_Lan)\n",
    "print('i_laser_fly_init',i_laser_fly_init)\n",
    "print('i_laser_fly_quench',i_laser_fly_quench)\n",
    "print('i_relax_fly',i_relax_fly)"
   ]
  },
  {
   "cell_type": "code",
   "execution_count": null,
   "metadata": {},
   "outputs": [],
   "source": [
    "snap_num = int(i_relax_fly/real(i_snap_x+di_snap_x))\n",
    "snap_time = []\n",
    "for k in range(1,snap_num+1):\n",
    "    snap_time.append(linspace(di_snap_x*k*dt,(di_snap_x*k+i_snap_x)*dt,i_snap_x)*1000)\n",
    "print(shape(snap_time))"
   ]
  },
  {
   "cell_type": "code",
   "execution_count": 497,
   "metadata": {},
   "outputs": [
    {
     "name": "stdout",
     "output_type": "stream",
     "text": [
      "/home/adrian/RemoteFS/Rivendel/20201209/DC07_RF09/Try00/xN_SimuType6_01_N01024_Vrf0059_Udc0.4000D+01V_D1.0_S1.0RFG.bin\n",
      "100 3000\n",
      "74257 1024\n",
      "4 4 4 4 29491200 117964800 117964800\n",
      "7372800.0\n"
     ]
    }
   ],
   "source": [
    "plot_point = 0\n",
    "plot_try = 0\n",
    "data_address_aux = data_address[plot_point][plot_try]\n",
    "snap_files = [f for f in listdir(data_address_aux) if isfile(join(data_address_aux, f)) and \"xN\" in f]\n",
    "str_load = data_address_aux + '/' + snap_files[0]\n",
    "print(str_load)\n",
    "\n",
    "fid = open(str_load, 'rb')\n",
    "\n",
    "junk0 = fromfile(fid, int32, 1)  # Read record start tag\n",
    "aux = fromfile(fid, int32, 1)\n",
    "junk1 = fromfile(fid, int32, 1)  # Read record stop tag\n",
    "i_snap_x = aux[0]\n",
    "\n",
    "junk2 = fromfile(fid, int32, 1)  # Read record start tag\n",
    "aux = fromfile(fid, int32, 1)\n",
    "junk3 = fromfile(fid, int32, 1)  # Read record stop tag\n",
    "di_snap_x = aux[0]\n",
    "\n",
    "junk4 = fromfile(fid, int32, 1)  # Read record start tag\n",
    "aux = fromfile(fid, int32, 1)\n",
    "junk5 = fromfile(fid, int32, 1)  # Read record stop tag\n",
    "jmax = aux[0]\n",
    "\n",
    "junk6 = fromfile(fid, int32, 1)  # Read record start tag\n",
    "aux = fromfile(fid, int32, 1)\n",
    "junk7 = fromfile(fid, int32, 1)  # Read record stop tag\n",
    "N_ions = aux[0]\n",
    "\n",
    "junk8 = fromfile(fid, int32, 1)  # Read record start tag\n",
    "r = fromfile(fid, float32, int(N_ions*3*snap_num*i_snap_x)) # jmax*N_ions*3 int(junk8[0]/4)\n",
    "junk9 = fromfile(fid, int32, 1)  # Read record stop tag\n",
    "\n",
    "junk10 = fromfile(fid, int32, 1)  # Read record start tag\n",
    "xva = fromfile(fid, float32, int(snap_num*12*N_ions)*100) # jmax*N_ions*3\n",
    "junk11 = fromfile(fid, int32, 1)  # Read record stop tag\n",
    "\n",
    "patate = fromfile(fid, int32, 1)  # Read record stop tag\n",
    "\n",
    "print(i_snap_x,di_snap_x)\n",
    "print(jmax,N_ions)\n",
    "print(junk0[0],junk2[0],junk4[0],junk6[0],junk8[0],junk10[0],junk11[0])\n",
    "print(junk8[0]/4)"
   ]
  },
  {
   "cell_type": "code",
   "execution_count": 469,
   "metadata": {},
   "outputs": [
    {
     "data": {
      "text/plain": [
       "array([0], dtype=int32)"
      ]
     },
     "execution_count": 469,
     "metadata": {},
     "output_type": "execute_result"
    }
   ],
   "source": [
    "# from scipy.io import FortranFile\n",
    "# f = FortranFile( str_load, 'r' )\n",
    "# f.read_ints( np.int32 )\n",
    "# f.read_ints( np.int32 )\n",
    "# f.read_ints( np.int32 )\n",
    "# f.read_ints( np.int32 )\n",
    "# auto_r = f.read_reals( dtype='float32' )\n",
    "# auto_xva = f.read_reals( dtype='float32' )"
   ]
  },
  {
   "cell_type": "code",
   "execution_count": 503,
   "metadata": {},
   "outputs": [
    {
     "name": "stdout",
     "output_type": "stream",
     "text": [
      "(1024, 3, 2400)\n",
      "(2400, 12, 1024)\n"
     ]
    }
   ],
   "source": [
    "r_reshape = reshape(r,(N_ions,3,int(junk8[0]/4/3/N_ions)),order='F')\n",
    "print(shape(r_reshape))\n",
    "xva_reshape = reshape(xva,(snap_num*100,12,N_ions),order='F')\n",
    "print(shape(xva_reshape))"
   ]
  },
  {
   "cell_type": "code",
   "execution_count": 516,
   "metadata": {},
   "outputs": [
    {
     "data": {
      "text/plain": [
       "array([ 1.0323294e-05, -1.6906708e-05,  1.8178636e-05, ...,\n",
       "        1.2091039e-05, -2.7812173e-05, -3.7220172e-05], dtype=float32)"
      ]
     },
     "execution_count": 516,
     "metadata": {},
     "output_type": "execute_result"
    }
   ],
   "source": [
    "xva_reshape[20,0,:]"
   ]
  },
  {
   "cell_type": "code",
   "execution_count": 517,
   "metadata": {},
   "outputs": [],
   "source": [
    "import matplotlib.patches as patches"
   ]
  },
  {
   "cell_type": "code",
   "execution_count": 524,
   "metadata": {},
   "outputs": [
    {
     "name": "stdout",
     "output_type": "stream",
     "text": [
      "/home/adrian/RemoteFS/Rivendel/20201209/DC18_RF10/Try02\\Temp_SimuTypeQ_N01024_Vrf0064_Udc0.6000D+01V_D1.0_S1.0RFG\n",
      "/home/adrian/RemoteFS/Rivendel/20201209/DC18_RF10/Try02\\Temp_SimuType6_01_N01024_Vrf0064_Udc0.6000D+01V_D1.0_S1.0RFG\n",
      "len save_T [55440]\n",
      "[5.05000000e-07 5.52817841e-06 3.74112274e-03 1.53217284e-04\n",
      " 4.95809121e+01 1.93124126e+00 6.30280683e+01]\n"
     ]
    }
   ],
   "source": [
    "# Get T and fluo PM  All SimuType\n",
    "plot_point = 1\n",
    "plot_try = 2\n",
    "address_reuseinit = all_subdir[plot_point]\n",
    "address = data_address[plot_point][plot_try]\n",
    "init_data = data0[plot_point][plot_try]\n",
    "evol_data = data6[plot_point][plot_try]\n",
    "print(init_data)\n",
    "print(evol_data)\n",
    "\n",
    "# onlyfiles = [f for f in listdir(evol_data) if isfile(join(evol_data, f)) and \"SimuType\" in f and \".dat\" in f]\n",
    "# print(sort(onlyfiles))\n",
    "# onlyfiles_reuseinit = [f for f in listdir(init_data) if isfile(join(init_data, f)) and \"SimuType\" in f and \".dat\" in f]\n",
    "# print(sort(onlyfiles_reuseinit))\n",
    "\n",
    "ta, te, ti = plot_T_and_PM_InitQ_Evol_AfterCool(address,\n",
    "                                           flag_plot=0,fig_name='0o0o0o0',xlim1=(0,65),ylim1=(2e-4,6000),ylim2=(-50,46000))\n",
    "\n",
    "fname = address[31:49]\n",
    "plt.figure(re.sub('/','-',fname)).clf()\n",
    "ax1 = subplot(111)\n",
    "te_filter = []\n",
    "for k in range(3):\n",
    "    te_filter.append(savgol_filter(te[:,k], 25, 1))\n",
    "    ax1.semilogy(ta*1e3,te_filter[k]) ; ax1.text(0,1e-4,'Filtered temperatures',fontsize = 10,ha='left')\n",
    "    # ax1.semilogy(ta*1e3,te[:,k])\n",
    "    ax1.grid()\n",
    "    \n",
    "ax1.set_xlabel('time [ms]')\n",
    "ax1.set_ylabel('T [K]')\n",
    "title(fname)\n",
    "    \n",
    "time_switch = i_free__fly_Lan *dt\n",
    "ax1.vlines(time_switch*1e3,2e-4,1e4,color='blue')\n",
    "time_switch = (i_free__fly_Lan+i_laser_fly_init)*dt\n",
    "ax1.vlines(time_switch*1e3,2e-4,1e4,color='green')\n",
    "time_switch = (i_free__fly_Lan+i_laser_fly_init+i_laser_fly_quench)*dt\n",
    "ax1.vlines(time_switch*1e3,2e-4,1e4,color='orange')\n",
    "for k in range(snap_num):\n",
    "    ax1.add_patch(\n",
    "     patches.Rectangle(\n",
    "        (snap_time[k][0]+time_switch*1e3, 1e-4),\n",
    "        snap_time[k][-1]-snap_time[k][0],\n",
    "        0.01,\n",
    "        edgecolor = 'blue',\n",
    "        facecolor = 'red',\n",
    "        fill=True\n",
    "     ) )\n",
    "time_switch = (i_free__fly_Lan+i_laser_fly_init+i_laser_fly_quench+i_relax_fly)*dt\n",
    "time_switch_old = (i_free__fly_Lan+i_laser_fly_init+i_laser_fly_quench)*dt\n",
    "ax1.scatter(linspace(time_switch_old*1e3,(time_switch*1e3-(time_switch-time_switch_old)*1e3%1),int((time_switch-time_switch_old)*1e3)),[3e-2]*int((time_switch-time_switch_old)*1e3),marker = '+')\n",
    "ax1.vlines(time_switch*1e3,2e-4,1e4,color='purple')\n",
    "\n",
    "tight_layout()\n",
    "\n",
    "# tt2, T_CM2, T_aux2, PM2\n",
    "# ,xlim1=(3.458,3.582),ylim1=(2e-4,50),ylim2=(19.5,65)"
   ]
  },
  {
   "cell_type": "code",
   "execution_count": 235,
   "metadata": {},
   "outputs": [
    {
     "name": "stdout",
     "output_type": "stream",
     "text": [
      "37.5\n"
     ]
    },
    {
     "name": "stderr",
     "output_type": "stream",
     "text": [
      "/home/adrian/.local/lib/python3.6/site-packages/ipykernel_launcher.py:4: DeprecationWarning: object of type <class 'numpy.float64'> cannot be safely interpreted as an integer.\n",
      "  after removing the cwd from sys.path.\n"
     ]
    },
    {
     "data": {
      "text/plain": [
       "array([ 8.5       ,  9.54166667, 10.58333333, 11.625     , 12.66666667,\n",
       "       13.70833333, 14.75      , 15.79166667, 16.83333333, 17.875     ,\n",
       "       18.91666667, 19.95833333, 21.        , 22.04166667, 23.08333333,\n",
       "       24.125     , 25.16666667, 26.20833333, 27.25      , 28.29166667,\n",
       "       29.33333333, 30.375     , 31.41666667, 32.45833333, 33.5       ,\n",
       "       34.54166667, 35.58333333, 36.625     , 37.66666667, 38.70833333,\n",
       "       39.75      , 40.79166667, 41.83333333, 42.875     , 43.91666667,\n",
       "       44.95833333, 46.        ])"
      ]
     },
     "execution_count": 235,
     "metadata": {},
     "output_type": "execute_result"
    }
   ],
   "source": [
    "time_switch_old = (i_free__fly_Lan+i_laser_fly_init+i_laser_fly_quench)*dt\n",
    "num_to_1ms = (time_switch-time_switch_old)*1e3\n",
    "print(num_to_1ms)\n",
    "linspace(time_switch_old*1e3,time_switch*1e3,num_to_1ms)"
   ]
  },
  {
   "cell_type": "code",
   "execution_count": 120,
   "metadata": {},
   "outputs": [
    {
     "data": {
      "text/plain": [
       "(1024, 3, 6000)"
      ]
     },
     "execution_count": 120,
     "metadata": {},
     "output_type": "execute_result"
    }
   ],
   "source": []
  },
  {
   "cell_type": "code",
   "execution_count": 146,
   "metadata": {},
   "outputs": [],
   "source": [
    "plt.figure('my_little_cloud').clf()\n",
    "ax1 = subplot(211)\n",
    "ax2 = subplot(212)\n",
    "time = -1\n",
    "for k in range(1024):\n",
    "    ax1.scatter(r_reshape[k,0,time]*1000,r_reshape[k,1,time]*1000)\n",
    "    ax2.scatter(r_reshape[k,2,time]*1000,r_reshape[k,0,time]*1000)\n",
    "ax1.set_aspect(\"equal\")\n"
   ]
  },
  {
   "cell_type": "code",
   "execution_count": 149,
   "metadata": {},
   "outputs": [
    {
     "data": {
      "text/plain": [
       "array([ 1.9213607e-05,  1.7531773e-05,  9.0903268e-07, ...,\n",
       "        6.2600761e-06,  4.8507595e-06, -2.8380939e-06], dtype=float32)"
      ]
     },
     "execution_count": 149,
     "metadata": {},
     "output_type": "execute_result"
    }
   ],
   "source": [
    "r_reshape[:,0,time]"
   ]
  },
  {
   "cell_type": "code",
   "execution_count": 174,
   "metadata": {},
   "outputs": [],
   "source": [
    "time = 250\n",
    "slice_min = -3e-5\n",
    "slice_max = -slice_min\n",
    "r_slice = []\n",
    "for j,k in enumerate(r_reshape[:,0,time]):\n",
    "    if k>slice_min and k<slice_max:\n",
    "        r_slice.append(r_reshape[j,:,time])\n",
    "\n",
    "plt.figure('my_little_cloud_slice_x').clf()\n",
    "ax1 = subplot(111)\n",
    "for k in range(shape(r_slice)[0]):\n",
    "    ax1.scatter(r_slice[k][1]*1000,r_slice[k][2]*1000)\n",
    "    \n",
    "ax1.set_xlabel('y')\n",
    "ax1.set_ylabel('z')\n",
    "\n",
    "tight_layout()"
   ]
  },
  {
   "cell_type": "code",
   "execution_count": 173,
   "metadata": {},
   "outputs": [],
   "source": [
    "time = 250\n",
    "slice_min = -3e-5\n",
    "slice_max = -slice_min\n",
    "r_slice = []\n",
    "for j,k in enumerate(r_reshape[:,2,time]):\n",
    "    if k>slice_min and k<slice_max:\n",
    "        r_slice.append(r_reshape[j,:,time])\n",
    "\n",
    "plt.figure('my_little_cloud_slice_z').clf()\n",
    "ax1 = subplot(111)\n",
    "for k in range(shape(r_slice)[0]):\n",
    "    ax1.scatter(r_slice[k][0]*1000,r_slice[k][1]*1000)\n",
    "    \n",
    "ax1.set_xlabel('x')\n",
    "ax1.set_ylabel('y')\n",
    "tight_layout()"
   ]
  },
  {
   "cell_type": "code",
   "execution_count": 286,
   "metadata": {},
   "outputs": [
    {
     "name": "stdout",
     "output_type": "stream",
     "text": [
      "/home/adrian/RemoteFS/Rivendel/20201204/DC07_RF09/Try02/xva_SimuType6_01_N01024_Vrf0059_Udc0.4000D+01V_D1.0_S1.0RFG\n"
     ]
    },
    {
     "data": {
      "text/plain": [
       "(array([[-0.05581546, -0.04763122, -0.00763189, ...,  0.01884057,\n",
       "         -0.00742793,  0.01564725],\n",
       "        [-0.00288794,  0.03008364,  0.02287785, ..., -0.01687232,\n",
       "          0.04041099, -0.01510458],\n",
       "        [ 0.06114086,  0.00153408, -0.01091107, ...,  0.02227473,\n",
       "          0.01879129,  0.03905647]]),\n",
       " array([[ 0.12035218, -0.44912634, -0.16657079, ..., -0.0685828 ,\n",
       "         -0.43373072, -0.10810143],\n",
       "        [-0.60057936, -0.34141979,  0.38419864, ..., -0.56866205,\n",
       "         -0.26300209,  0.08432431],\n",
       "        [-0.35625422,  0.29184962, -0.40708751, ..., -0.05072926,\n",
       "         -0.01381154, -0.49651859]]),\n",
       " array([[ 2.26115274e+09,  1.93334509e+09,  3.08177361e+08, ...,\n",
       "         -7.62201458e+08,  3.02631528e+08, -6.36800095e+08],\n",
       "        [-1.60822441e+08,  1.64402969e+09,  1.24962173e+09, ...,\n",
       "         -9.20768225e+08,  2.20185600e+09, -8.27742386e+08],\n",
       "        [-1.24291811e+06,  7.55190649e+05,  8.03341983e+05, ...,\n",
       "         -1.41597779e+06,  1.35377678e+06,  1.25060187e+06]]),\n",
       " array([[-4.96656115e+03, -4.27645051e+03, -6.89819183e+02, ...,\n",
       "          1.66979069e+03, -6.86446385e+02,  1.39827999e+03],\n",
       "        [ 0.00000000e+00,  0.00000000e+00,  0.00000000e+00, ...,\n",
       "          0.00000000e+00,  0.00000000e+00,  0.00000000e+00],\n",
       "        [-1.58903167e+01,  7.33535311e+00, -2.33954790e+01, ...,\n",
       "          4.48959225e+00, -8.84154440e+00, -2.88209823e+01]]))"
      ]
     },
     "execution_count": 286,
     "metadata": {},
     "output_type": "execute_result"
    }
   ],
   "source": [
    "# Load XYZ test\n",
    "str_load = re.sub('Temp','xva',str(data6[plot_point][plot_try]))\n",
    "str_load = '/home/adrian/RemoteFS/Rivendel/20201204/DC07_RF09/Try02/xva_SimuType6_01_N01024_Vrf0059_Udc0.4000D+01V_D1.0_S1.0RFG'\n",
    "print(str_load)\n",
    "load_xyz_init_bin_DP(str_load)"
   ]
  },
  {
   "cell_type": "code",
   "execution_count": 289,
   "metadata": {},
   "outputs": [
    {
     "data": {
      "text/plain": [
       "(3, 1024)"
      ]
     },
     "execution_count": 289,
     "metadata": {},
     "output_type": "execute_result"
    }
   ],
   "source": [
    "shape(load_xyz_init_bin_DP(str_load)[3])"
   ]
  },
  {
   "cell_type": "code",
   "execution_count": null,
   "metadata": {},
   "outputs": [],
   "source": []
  }
 ],
 "metadata": {
  "kernelspec": {
   "display_name": "Python 3",
   "language": "python",
   "name": "python3"
  },
  "language_info": {
   "codemirror_mode": {
    "name": "ipython",
    "version": 3
   },
   "file_extension": ".py",
   "mimetype": "text/x-python",
   "name": "python",
   "nbconvert_exporter": "python",
   "pygments_lexer": "ipython3",
   "version": "3.6.7"
  }
 },
 "nbformat": 4,
 "nbformat_minor": 4
}
