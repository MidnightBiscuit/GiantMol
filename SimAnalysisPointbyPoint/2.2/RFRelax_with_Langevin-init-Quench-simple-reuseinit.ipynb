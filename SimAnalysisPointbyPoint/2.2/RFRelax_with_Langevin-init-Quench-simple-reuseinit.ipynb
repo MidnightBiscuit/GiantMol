{
 "cells": [
  {
   "cell_type": "code",
   "execution_count": null,
   "metadata": {},
   "outputs": [],
   "source": []
  },
  {
   "cell_type": "markdown",
   "metadata": {},
   "source": [
    "# Imports"
   ]
  },
  {
   "cell_type": "code",
   "execution_count": 2,
   "metadata": {},
   "outputs": [],
   "source": [
    "# %pylab\n",
    "\n",
    "import numpy\n",
    "import matplotlib\n",
    "from matplotlib import pylab, mlab, pyplot\n",
    "from mpl_toolkits.mplot3d import Axes3D\n",
    "np = numpy\n",
    "plt = pyplot\n",
    "\n",
    "from pylab import *\n",
    "from numpy import *"
   ]
  },
  {
   "cell_type": "code",
   "execution_count": 3,
   "metadata": {},
   "outputs": [],
   "source": [
    "import os\n",
    "from os import listdir\n",
    "from os.path import isfile, join\n",
    "\n",
    "import tkinter as tk\n",
    "from tkinter import filedialog\n",
    "%matplotlib qt\n",
    "\n",
    "from pathlib import Path"
   ]
  },
  {
   "cell_type": "code",
   "execution_count": 27,
   "metadata": {},
   "outputs": [],
   "source": [
    "# Fonctions persos de Jofre et Adrien\n",
    "\n",
    "# %run function_jofre.ipy\n",
    "%run ../../Functions/1.2/data_fct_Adrien_point_by_point_reuseinit\n",
    "\n",
    "matplotlib.rcParams.update({'font.size': 21})"
   ]
  },
  {
   "cell_type": "code",
   "execution_count": 5,
   "metadata": {},
   "outputs": [
    {
     "name": "stdout",
     "output_type": "stream",
     "text": [
      "$\\kappa_{simion}$ = 0.270471\n"
     ]
    }
   ],
   "source": [
    "# Constantes de la physique\n",
    "# ABSOLUMENT RECHARGER APRÈS AVOIR EXECUTÉ LES CASES D'IMPORT AU DESSUS\n",
    "\n",
    "C_e = 1.602e-19        # Coulomb\n",
    "kb = 1.38064852*1e-23  # Boltzman\n",
    "m_Ca = 40.078*1.66054e-27 # masse Ca 40.078\n",
    "m_GM = 1e6*1.66054e-27 # la masse de la GMol\n",
    "eps0 = 8.854187*1e-12  # permittivité électrique du vide\n",
    "\n",
    "r0 = 2.5e-3 # 2.5e-3   # rayon piège Ca+\n",
    "d0 = 4e-3/2            # longueur piège Ca+\n",
    "\n",
    "Omega = 2.05e6*2*pi # 2.047e6\n",
    "\n",
    "bk = 4 # nombre de barreaux par groupe (2 -> 4-pole , 4 -> 8-pole ...)\n",
    "\n",
    "mkappa = 0.23          # écrantage piège réel GiantMol\n",
    "wzLC = (2*pi*90806.9982303)**2\n",
    "kappa_simion = m_Ca*d0**2*wzLC/(2*C_e)\n",
    "print('%s = %f' % ('$\\kappa_{simion}$',kappa_simion) )\n",
    "\n",
    "zeta = kappa_simion*r0**2/d0**2"
   ]
  },
  {
   "cell_type": "markdown",
   "metadata": {},
   "source": [
    "# Selection fichiers a analyser"
   ]
  },
  {
   "cell_type": "code",
   "execution_count": 6,
   "metadata": {},
   "outputs": [
    {
     "name": "stdout",
     "output_type": "stream",
     "text": [
      "> Répertoire : /home/adrian/RemoteFS/Rivendel/20201028/DC01_RF08/Try00\n",
      "> Filename : Temp_SimuType6_01_N01024_Vrf0053_Udc0.1000D+01V_D1.0_S1.0RFG1keV.dat\n",
      "> myslashpos | [0, 5, 12, 21, 30, 39, 49]\n",
      "> slashcond | 5\n",
      "No points deleted because they were not complete\n",
      "Total number of data directories 28\n"
     ]
    }
   ],
   "source": [
    "## GUI for data loading\n",
    "# Select one data file all the way down to the directories\n",
    "# SELECT Temp_SimuTypeQ_N ... .dat\n",
    "\n",
    "file_cfg, slash_cfg, all_subdir = load_gui(filter_nocomplete=0)\n",
    "\n",
    "file_path = file_cfg[0]\n",
    "dir_path = file_cfg[1]\n",
    "work_rep = file_cfg[2]\n",
    "filename = file_cfg[3]\n",
    "\n",
    "myslashpos = slash_cfg[0]\n",
    "slashcond = slash_cfg[1]\n",
    "\n",
    "num_run = len( [x for x in all_subdir if 'DC01_RF08' in x] )\n",
    "print(num_run)"
   ]
  },
  {
   "cell_type": "code",
   "execution_count": 7,
   "metadata": {},
   "outputs": [
    {
     "name": "stdout",
     "output_type": "stream",
     "text": [
      "['DC01_RF08', 'DC01_RF09', 'DC01_RF10', 'DC01_RF11', 'DC03_RF08', 'DC03_RF09', 'DC03_RF10', 'DC03_RF11', 'DC05_RF08', 'DC05_RF09', 'DC05_RF10', 'DC05_RF11', 'DC07_RF08', 'DC07_RF09', 'DC07_RF10', 'DC07_RF11', 'DC09_RF08', 'DC09_RF09', 'DC09_RF10', 'DC09_RF11', 'DC11_RF08', 'DC11_RF09', 'DC11_RF10', 'DC11_RF11', 'DC18_RF08', 'DC18_RF09', 'DC18_RF10', 'DC18_RF11']\n",
      "000 > DC01_RF08\n",
      "001 > DC01_RF09\n",
      "002 > DC01_RF10\n",
      "003 > DC01_RF11\n",
      "004 > DC03_RF08\n",
      "005 > DC03_RF09\n",
      "006 > DC03_RF10\n",
      "007 > DC03_RF11\n",
      "008 > DC05_RF08\n",
      "009 > DC05_RF09\n",
      "010 > DC05_RF10\n",
      "011 > DC05_RF11\n",
      "012 > DC07_RF08\n",
      "013 > DC07_RF09\n",
      "014 > DC07_RF10\n",
      "015 > DC07_RF11\n",
      "016 > DC09_RF08\n",
      "017 > DC09_RF09\n",
      "018 > DC09_RF10\n",
      "019 > DC09_RF11\n",
      "020 > DC11_RF08\n",
      "021 > DC11_RF09\n",
      "022 > DC11_RF10\n",
      "023 > DC11_RF11\n",
      "024 > DC18_RF08\n",
      "025 > DC18_RF09\n",
      "026 > DC18_RF10\n",
      "027 > DC18_RF11\n",
      "> condition names ['DC', 'RF']\n",
      "> number of points 28\n",
      "> N_ions = 1024\n",
      "> e_GMol = 50\n"
     ]
    }
   ],
   "source": [
    "## Condition for data\n",
    "points_and_coord, condition_parameters = simu_conditions(all_subdir, myslashpos, slashcond, filename)"
   ]
  },
  {
   "cell_type": "markdown",
   "metadata": {},
   "source": [
    "# Fichiers init a recharger"
   ]
  },
  {
   "cell_type": "code",
   "execution_count": 33,
   "metadata": {},
   "outputs": [
    {
     "name": "stdout",
     "output_type": "stream",
     "text": [
      "> Points | 28\n",
      "> Simulations pour chaque point | ['Try00']\n",
      "> Répertoire : /home/adrian/RemoteFS/Rivendel/20200903/DC01_RF08/Try00\n",
      "> Filename : Temp_SimuTypeQ_N01024_Vrf0053_Udc0.1000D+01V_D1.0_S1.0RFG.dat\n",
      "> myslashpos | [0, 5, 12, 21, 30, 39, 49]\n",
      "> slashcond | 5\n",
      "No points deleted because they were not complete\n",
      "Total number of data directories 2800\n",
      "Hello\n",
      "Point n° 0\n",
      "00 - 00  >  /home/adrian/RemoteFS/Rivendel/20200903/DC01_RF08/Try00/Temp_SimuTypeQ_N01024_Vrf0053_Udc0.1000D+01V_D1.0_S1.0RFG\n",
      "Point n° 1\n",
      "01 - 00  >  /home/adrian/RemoteFS/Rivendel/20200903/DC01_RF09/Try00/Temp_SimuTypeQ_N01024_Vrf0059_Udc0.1000D+01V_D1.0_S1.0RFG\n",
      "Point n° 2\n",
      "02 - 00  >  /home/adrian/RemoteFS/Rivendel/20200903/DC01_RF10/Try00/Temp_SimuTypeQ_N01024_Vrf0064_Udc0.1000D+01V_D1.0_S1.0RFG\n",
      "Point n° 3\n",
      "03 - 00  >  /home/adrian/RemoteFS/Rivendel/20200903/DC01_RF11/Try00/Temp_SimuTypeQ_N01024_Vrf0070_Udc0.1000D+01V_D1.0_S1.0RFG\n",
      "Point n° 4\n",
      "04 - 00  >  /home/adrian/RemoteFS/Rivendel/20200903/DC03_RF08/Try00/Temp_SimuTypeQ_N01024_Vrf0053_Udc0.2000D+01V_D1.0_S1.0RFG\n",
      "Point n° 5\n",
      "05 - 00  >  /home/adrian/RemoteFS/Rivendel/20200903/DC03_RF09/Try00/Temp_SimuTypeQ_N01024_Vrf0059_Udc0.2000D+01V_D1.0_S1.0RFG\n",
      "Point n° 6\n",
      "06 - 00  >  /home/adrian/RemoteFS/Rivendel/20200903/DC03_RF10/Try00/Temp_SimuTypeQ_N01024_Vrf0064_Udc0.2000D+01V_D1.0_S1.0RFG\n",
      "Point n° 7\n",
      "07 - 00  >  /home/adrian/RemoteFS/Rivendel/20200903/DC03_RF11/Try00/Temp_SimuTypeQ_N01024_Vrf0070_Udc0.2000D+01V_D1.0_S1.0RFG\n",
      "Point n° 8\n",
      "08 - 00  >  /home/adrian/RemoteFS/Rivendel/20200903/DC05_RF08/Try00/Temp_SimuTypeQ_N01024_Vrf0053_Udc0.3000D+01V_D1.0_S1.0RFG\n",
      "Point n° 9\n",
      "09 - 00  >  /home/adrian/RemoteFS/Rivendel/20200903/DC05_RF09/Try00/Temp_SimuTypeQ_N01024_Vrf0059_Udc0.3000D+01V_D1.0_S1.0RFG\n",
      "Point n° 10\n",
      "10 - 00  >  /home/adrian/RemoteFS/Rivendel/20200903/DC05_RF10/Try00/Temp_SimuTypeQ_N01024_Vrf0064_Udc0.3000D+01V_D1.0_S1.0RFG\n",
      "Point n° 11\n",
      "11 - 00  >  /home/adrian/RemoteFS/Rivendel/20200903/DC05_RF11/Try00/Temp_SimuTypeQ_N01024_Vrf0070_Udc0.3000D+01V_D1.0_S1.0RFG\n",
      "Point n° 12\n",
      "12 - 00  >  /home/adrian/RemoteFS/Rivendel/20200903/DC07_RF08/Try00/Temp_SimuTypeQ_N01024_Vrf0053_Udc0.4000D+01V_D1.0_S1.0RFG\n",
      "Point n° 13\n",
      "13 - 00  >  /home/adrian/RemoteFS/Rivendel/20200903/DC07_RF09/Try00/Temp_SimuTypeQ_N01024_Vrf0059_Udc0.4000D+01V_D1.0_S1.0RFG\n",
      "Point n° 14\n",
      "14 - 00  >  /home/adrian/RemoteFS/Rivendel/20200903/DC07_RF10/Try00/Temp_SimuTypeQ_N01024_Vrf0064_Udc0.4000D+01V_D1.0_S1.0RFG\n",
      "Point n° 15\n",
      "15 - 00  >  /home/adrian/RemoteFS/Rivendel/20200903/DC07_RF11/Try00/Temp_SimuTypeQ_N01024_Vrf0070_Udc0.4000D+01V_D1.0_S1.0RFG\n",
      "Point n° 16\n",
      "16 - 00  >  /home/adrian/RemoteFS/Rivendel/20200903/DC09_RF08/Try00/Temp_SimuTypeQ_N01024_Vrf0053_Udc0.5000D+01V_D1.0_S1.0RFG\n",
      "Point n° 17\n",
      "17 - 00  >  /home/adrian/RemoteFS/Rivendel/20200903/DC09_RF09/Try00/Temp_SimuTypeQ_N01024_Vrf0059_Udc0.5000D+01V_D1.0_S1.0RFG\n",
      "Point n° 18\n",
      "18 - 00  >  /home/adrian/RemoteFS/Rivendel/20200903/DC09_RF10/Try00/Temp_SimuTypeQ_N01024_Vrf0064_Udc0.5000D+01V_D1.0_S1.0RFG\n",
      "Point n° 19\n",
      "19 - 00  >  /home/adrian/RemoteFS/Rivendel/20200903/DC09_RF11/Try00/Temp_SimuTypeQ_N01024_Vrf0070_Udc0.5000D+01V_D1.0_S1.0RFG\n",
      "Point n° 20\n",
      "20 - 00  >  /home/adrian/RemoteFS/Rivendel/20200903/DC11_RF08/Try00/Temp_SimuTypeQ_N01024_Vrf0053_Udc0.7000D+01V_D1.0_S1.0RFG\n",
      "Point n° 21\n",
      "21 - 00  >  /home/adrian/RemoteFS/Rivendel/20200903/DC11_RF09/Try00/Temp_SimuTypeQ_N01024_Vrf0059_Udc0.7000D+01V_D1.0_S1.0RFG\n",
      "Point n° 22\n",
      "22 - 00  >  /home/adrian/RemoteFS/Rivendel/20200903/DC11_RF10/Try00/Temp_SimuTypeQ_N01024_Vrf0064_Udc0.7000D+01V_D1.0_S1.0RFG\n",
      "Point n° 23\n",
      "23 - 00  >  /home/adrian/RemoteFS/Rivendel/20200903/DC11_RF11/Try00/Temp_SimuTypeQ_N01024_Vrf0070_Udc0.7000D+01V_D1.0_S1.0RFG\n",
      "Point n° 24\n",
      "24 - 00  >  /home/adrian/RemoteFS/Rivendel/20200903/DC18_RF08/Try00/Temp_SimuTypeQ_N01024_Vrf0053_Udc0.6000D+01V_D1.0_S1.0RFG\n",
      "Point n° 25\n",
      "25 - 00  >  /home/adrian/RemoteFS/Rivendel/20200903/DC18_RF09/Try00/Temp_SimuTypeQ_N01024_Vrf0059_Udc0.6000D+01V_D1.0_S1.0RFG\n",
      "Point n° 26\n",
      "26 - 00  >  /home/adrian/RemoteFS/Rivendel/20200903/DC18_RF10/Try00/Temp_SimuTypeQ_N01024_Vrf0064_Udc0.6000D+01V_D1.0_S1.0RFG\n",
      "Point n° 27\n",
      "27 - 00  >  /home/adrian/RemoteFS/Rivendel/20200903/DC18_RF11/Try00/Temp_SimuTypeQ_N01024_Vrf0070_Udc0.6000D+01V_D1.0_S1.0RFG\n",
      "Time elapsed:  8.063501000000002 s\n",
      "Time elapsed:  0.13439168333333337 m\n"
     ]
    }
   ],
   "source": [
    "## Data loading (1D arrays)\n",
    "# select data with init to reuse\n",
    "data_name, num_runs, PMandT, Gmol_data, r_LC_clip, dim_nu, all_subdir_reuseinit \\\n",
    "= data_retrieve_reuseinit_RFRelax(all_subdir,points_and_coord,condition_parameters,slash_cfg,forcenumrun = num_run) # stopping_power\n",
    "\n",
    "data0 = data_name[1]\n",
    "data2 = data_name[2]\n",
    "Tvar = PMandT[1]"
   ]
  },
  {
   "cell_type": "code",
   "execution_count": null,
   "metadata": {},
   "outputs": [],
   "source": []
  },
  {
   "cell_type": "code",
   "execution_count": 30,
   "metadata": {},
   "outputs": [
    {
     "name": "stdout",
     "output_type": "stream",
     "text": [
      "1000\n"
     ]
    }
   ],
   "source": [
    "# Automatic retrieve of GMol energy\n",
    "aux_energie = file_path.find('0RFG')\n",
    "aux_energie_unit = file_path.find('eV')\n",
    "E0_GMol = file_path[aux_energie+4:aux_energie_unit+2]\n",
    "E0_GMol = re.sub('k','000',E0_GMol)\n",
    "E0_GMol = int(E0_GMol.strip('eV'))\n",
    "print(E0_GMol)"
   ]
  },
  {
   "cell_type": "code",
   "execution_count": 31,
   "metadata": {},
   "outputs": [
    {
     "name": "stdout",
     "output_type": "stream",
     "text": [
      "1.0\n"
     ]
    }
   ],
   "source": [
    "# Where is written Detuning and how much it is\n",
    "temp_pos = filename.find('0RFG')\n",
    "Detuning = filename[temp_pos-7:temp_pos-4]\n",
    "print(Detuning)"
   ]
  },
  {
   "cell_type": "code",
   "execution_count": null,
   "metadata": {},
   "outputs": [],
   "source": []
  },
  {
   "cell_type": "code",
   "execution_count": 38,
   "metadata": {},
   "outputs": [
    {
     "name": "stdout",
     "output_type": "stream",
     "text": [
      "['/home/adrian/RemoteFS/Rivendel/20200903/DC05_RF10/Try00/Temp_SimuTypeQ_N01024_Vrf0064_Udc0.3000D+01V_D1.0_S1.0RFG']/\n",
      "Temp_3D_Harmo_N1024_T500uK_F0.15D-19Kg_s_5\n"
     ]
    }
   ],
   "source": [
    "## Data loading with hardcode names\n",
    "eta = 1.5e-20\n",
    "\n",
    "plot_point = 10\n",
    "plot_try = 28\n",
    "# str_eta_chiffre    = float(f'{eta[plot_point]:1.2e}'[:4])/10\n",
    "# str_eta_puissance  = int(re.sub('e','D',f'{eta[plot_point]:1.2e}'[6:]))-1\n",
    "# str_eta = f'{str_eta_chiffre:1.2f}'+'D-'+str(str_eta_puissance)\n",
    "str_eta = '0.15D-19'\n",
    "dirname_hc = str(data0[plot_point])+'/'\n",
    "# Temp_3D_Harmo_N1024_T500uK_F0.20D-20Kg_s_5\n",
    "datainit_hc = 'Temp_3D_Harmo_N1024_T500uK_F'+str(str_eta)+'Kg_s_5'\n",
    "data0_hc    = '/Temp_SimuTypeQ_N01024_Vrf0070_Udc0.5000D+01V_D1.0_S1.0RFG'\n",
    "data4_hc    = '/Temp_SimuType4_01_N01024_Vrf0070_Udc0.5000D+01V_D1.0_S1.0RFG'\n",
    "data2_hc    = '/Temp_SimuType2_01_N01024_Vrf0070_Udc0.5000D+01V_D1.0_S1.0RFG'\n",
    "\n",
    "print(dirname_hc)\n",
    "print(datainit_hc)"
   ]
  },
  {
   "cell_type": "code",
   "execution_count": 39,
   "metadata": {},
   "outputs": [
    {
     "ename": "NameError",
     "evalue": "name 'inje_data' is not defined",
     "output_type": "error",
     "traceback": [
      "\u001b[0;31m---------------------------------------------------------------------------\u001b[0m",
      "\u001b[0;31mNameError\u001b[0m                                 Traceback (most recent call last)",
      "\u001b[0;32m<ipython-input-39-821febecb840>\u001b[0m in \u001b[0;36m<module>\u001b[0;34m()\u001b[0m\n\u001b[1;32m      8\u001b[0m \u001b[0;31m# print(sort(onlyfiles_reuseinit))\u001b[0m\u001b[0;34m\u001b[0m\u001b[0;34m\u001b[0m\u001b[0;34m\u001b[0m\u001b[0m\n\u001b[1;32m      9\u001b[0m \u001b[0;34m\u001b[0m\u001b[0m\n\u001b[0;32m---> 10\u001b[0;31m ta, te, ti = plot_T_and_PM_InitQ_Inje_Evol(init_data,evol_data,inje_data,\n\u001b[0m\u001b[1;32m     11\u001b[0m                                            flag_plot=1,fig_name='0o0o0o0',xlim1=(0,11),ylim1=(2e-4,500),ylim2=(2,65))\n\u001b[1;32m     12\u001b[0m \u001b[0;34m\u001b[0m\u001b[0m\n",
      "\u001b[0;31mNameError\u001b[0m: name 'inje_data' is not defined"
     ]
    }
   ],
   "source": [
    "# Get T and fluo PM  All SimuType\n",
    "init_data = data0[plot_point][:myslashpos[slashcond]+16]\n",
    "evol_data = data2[plot_point][:myslashpos[slashcond]+16]\n",
    "# print(init_data,evol_data,inje_data)\n",
    "# onlyfiles = [f for f in listdir(evol_data) if isfile(join(evol_data, f)) and \"SimuType\" in f and \".dat\" in f]\n",
    "# print(sort(onlyfiles))\n",
    "# onlyfiles_reuseinit = [f for f in listdir(init_data) if isfile(join(init_data, f)) and \"SimuType\" in f and \".dat\" in f]\n",
    "# print(sort(onlyfiles_reuseinit))\n",
    "\n",
    "ta, te, ti = plot_T_and_PM_InitQ_Inje_Evol(init_data,evol_data,inje_data,\n",
    "                                           flag_plot=1,fig_name='0o0o0o0',xlim1=(0,11),ylim1=(2e-4,500),ylim2=(2,65))\n",
    "\n",
    "# tt2, T_CM2, T_aux2, PM2\n",
    "# ,xlim1=(3.458,3.582),ylim1=(2e-4,50),ylim2=(19.5,65)"
   ]
  },
  {
   "cell_type": "code",
   "execution_count": 41,
   "metadata": {},
   "outputs": [
    {
     "name": "stdout",
     "output_type": "stream",
     "text": [
      "/home/adrian/RemoteFS/Rivendel/20201028/DC05_RF10/Try00\n",
      "['xva_SimuType6_01_N01024_Vrf0064_Udc0.3000D+01V_D1.0_S1.0RFG1keV.info']\n"
     ]
    },
    {
     "ename": "TypeError",
     "evalue": "can only concatenate list (not \"str\") to list",
     "output_type": "error",
     "traceback": [
      "\u001b[0;31m---------------------------------------------------------------------------\u001b[0m",
      "\u001b[0;31mTypeError\u001b[0m                                 Traceback (most recent call last)",
      "\u001b[0;32m<ipython-input-41-db0faa9b19e2>\u001b[0m in \u001b[0;36m<module>\u001b[0;34m()\u001b[0m\n\u001b[1;32m      7\u001b[0m \u001b[0;34m\u001b[0m\u001b[0m\n\u001b[1;32m      8\u001b[0m \u001b[0;34m\u001b[0m\u001b[0m\n\u001b[0;32m----> 9\u001b[0;31m tmp_info = loadtxt(data0[plot_point]+'/'+info_files[0],encoding ='utf-8',\n\u001b[0m\u001b[1;32m     10\u001b[0m             \u001b[0mskiprows\u001b[0m\u001b[0;34m=\u001b[0m\u001b[0;36m1\u001b[0m\u001b[0;34m,\u001b[0m \u001b[0musecols\u001b[0m\u001b[0;34m=\u001b[0m\u001b[0;34m(\u001b[0m\u001b[0;36m0\u001b[0m\u001b[0;34m)\u001b[0m\u001b[0;34m,\u001b[0m\u001b[0;34m\u001b[0m\u001b[0;34m\u001b[0m\u001b[0m\n\u001b[1;32m     11\u001b[0m             unpack=True)\n",
      "\u001b[0;31mTypeError\u001b[0m: can only concatenate list (not \"str\") to list"
     ]
    }
   ],
   "source": [
    "# recover duration for each step of simu (i_free__fly, i_laser_fly ...)\n",
    "\n",
    "address = all_subdir[plot_point]\n",
    "print(address)\n",
    "info_files = sort( [f for f in listdir(address) if isfile(join(address, f)) and \".info\" in f] )\n",
    "print(sort(info_files))\n",
    "\n",
    "\n",
    "tmp_info = loadtxt(data0[plot_point]+'/'+info_files[0],encoding ='utf-8',\n",
    "            skiprows=1, usecols=(0),\n",
    "            unpack=True)\n",
    "eta = tmp_info[-2]\n",
    "i_free__fly_Lan = tmp_info[-1]\n",
    "\n",
    "tmp_info = loadtxt(data0[0][0]+'/'+'xva_SimuTypeQ_N01024_Vrf0053_Udc0.1000D+01V_D1.0_S1.0RFG.info',encoding ='utf-8',\n",
    "            skiprows=0, usecols=(0),\n",
    "            unpack=True)\n",
    "i_laser_fly_quench = tmp_info[-2]\n",
    "i_laser_fly = tmp_info[-1]\n",
    "\n",
    "n_dt = 100\n",
    "dt = 1/2e6\n",
    "\n",
    "print(eta)\n",
    "print(i_free__fly_Lan)\n",
    "print(i_laser_fly_quench)\n",
    "print(i_laser_fly)"
   ]
  },
  {
   "cell_type": "code",
   "execution_count": null,
   "metadata": {},
   "outputs": [],
   "source": []
  }
 ],
 "metadata": {
  "kernelspec": {
   "display_name": "Python 3",
   "language": "python",
   "name": "python3"
  },
  "language_info": {
   "codemirror_mode": {
    "name": "ipython",
    "version": 3
   },
   "file_extension": ".py",
   "mimetype": "text/x-python",
   "name": "python",
   "nbconvert_exporter": "python",
   "pygments_lexer": "ipython3",
   "version": "3.6.7"
  }
 },
 "nbformat": 4,
 "nbformat_minor": 2
}
