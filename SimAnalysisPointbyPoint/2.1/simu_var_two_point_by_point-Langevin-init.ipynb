{
 "cells": [
  {
   "cell_type": "code",
   "execution_count": 1,
   "metadata": {},
   "outputs": [],
   "source": [
    "###########################################################\n",
    "#                                                         #\n",
    "#               TRAITEMENT SIMUS FORTRAN                  #\n",
    "#                     STATISTIQUES                        #\n",
    "#                                                         #\n",
    "#                         avec                            #\n",
    "#                   - lecture arborescence                #\n",
    "#                  analyse                                #\n",
    "#                   - Delta Fluo                          #\n",
    "#                   - Delta Energy GMol                   #\n",
    "#                   - R/L Ca+                             #\n",
    "#                   - distance inter ionique              #\n",
    "#                   - trajectoire GMol                    #\n",
    "#                                                         #\n",
    "#                          02/2020     Adrien Poindron    #\n",
    "###########################################################"
   ]
  },
  {
   "cell_type": "code",
   "execution_count": 2,
   "metadata": {},
   "outputs": [
    {
     "data": {
      "text/html": [
       "<style>.container { width:95% !important; }</style>"
      ],
      "text/plain": [
       "<IPython.core.display.HTML object>"
      ]
     },
     "metadata": {},
     "output_type": "display_data"
    }
   ],
   "source": [
    "from IPython.core.display import display, HTML\n",
    "display(HTML(\"<style>.container { width:95% !important; }</style>\"))"
   ]
  },
  {
   "cell_type": "markdown",
   "metadata": {},
   "source": [
    "# Imports"
   ]
  },
  {
   "cell_type": "code",
   "execution_count": 3,
   "metadata": {},
   "outputs": [],
   "source": [
    "# %pylab\n",
    "\n",
    "import numpy\n",
    "import matplotlib\n",
    "from matplotlib import pylab, mlab, pyplot\n",
    "from mpl_toolkits.mplot3d import Axes3D\n",
    "np = numpy\n",
    "plt = pyplot\n",
    "\n",
    "matplotlib.rcParams.update({'font.size': 21})\n",
    "# matplotlib.rcParams[\"figure.dpi\"] = 300\n",
    "\n",
    "from IPython.display import display\n",
    "from IPython.core.pylabtools import figsize, getfigs\n",
    "\n",
    "from pylab import *\n",
    "from numpy import *\n",
    "\n",
    "from scipy.optimize import curve_fit\n",
    "from scipy.signal import savgol_filter, butter"
   ]
  },
  {
   "cell_type": "code",
   "execution_count": 4,
   "metadata": {},
   "outputs": [],
   "source": [
    "import os\n",
    "from os import listdir\n",
    "from os.path import isfile, join\n",
    "\n",
    "import tkinter as tk\n",
    "from tkinter import filedialog\n",
    "%matplotlib qt\n",
    "\n",
    "from pathlib import Path\n",
    "from matplotlib import gridspec\n",
    "from mpl_toolkits.axes_grid1.inset_locator import zoomed_inset_axes\n",
    "from mpl_toolkits.axes_grid1.inset_locator import mark_inset"
   ]
  },
  {
   "cell_type": "code",
   "execution_count": 5,
   "metadata": {},
   "outputs": [],
   "source": [
    "from natsort import natsorted   # natural sort marche de ouf\n",
    "import re                       # find '/' in strings\n",
    "import timeit\n",
    "cm = pylab.get_cmap('summer')   # colormap par défaut color=cm(k/len(array))"
   ]
  },
  {
   "cell_type": "code",
   "execution_count": 35,
   "metadata": {},
   "outputs": [],
   "source": [
    "# Fonctions persos de Jofre et Adrien\n",
    "\n",
    "# %run function_jofre.ipy\n",
    "%run ../../Functions/1.2.1/data_fct_Adrien_point_by_point"
   ]
  },
  {
   "cell_type": "code",
   "execution_count": 7,
   "metadata": {},
   "outputs": [
    {
     "name": "stdout",
     "output_type": "stream",
     "text": [
      "$\\kappa_{simion}$ = 0.270471\n"
     ]
    }
   ],
   "source": [
    "# Constantes de la physique\n",
    "# ABSOLUMENT RECHARGER APRÈS AVOIR EXECUTÉ LES CASES D'IMPORT AU DESSUS\n",
    "\n",
    "C_e = 1.602e-19        # Coulomb\n",
    "kb = 1.38064852*1e-23  # Boltzman\n",
    "m_Ca = 40.078*1.66054e-27 # masse Ca 40.078\n",
    "m_GM = 1e6*1.66054e-27 # la masse de la GMol\n",
    "eps0 = 8.854187*1e-12  # permittivité électrique du vide\n",
    "\n",
    "r0 = 2.5e-3 # 2.5e-3   # rayon piège Ca+\n",
    "d0 = 4e-3/2            # longueur piège Ca+\n",
    "\n",
    "Omega = 2.05e6*2*pi # 2.047e6\n",
    "\n",
    "bk = 4 # nombre de barreaux par groupe (2 -> 4-pole , 4 -> 8-pole ...)\n",
    "\n",
    "mkappa = 0.23          # écrantage piège réel GiantMol\n",
    "wzLC = (2*pi*90806.9982303)**2\n",
    "kappa_simion = m_Ca*d0**2*wzLC/(2*C_e)\n",
    "print('%s = %f' % ('$\\kappa_{simion}$',kappa_simion) )\n",
    "\n",
    "zeta = kappa_simion*r0**2/d0**2"
   ]
  },
  {
   "cell_type": "code",
   "execution_count": 103,
   "metadata": {},
   "outputs": [],
   "source": [
    "def plot_T_and_PM_Init_Inje_Evol(file_dir2,file_name,fig_name,**kwargs):\n",
    "    \n",
    "    # ~ xlim1 = (-0.1,6)\n",
    "    # ~ ylim1 = (0.5*1e-3,5e3)\n",
    "    # ~ ylim2 = (-2,120)\n",
    "            \n",
    "    xlim1 = kwargs.get('xlim1', (-0.1,6))\n",
    "    ylim1 = kwargs.get('ylim1', (0.5*1e-3,2e4))\n",
    "    ylim2 = kwargs.get('ylim2', (-2,50))\n",
    "    \n",
    "    i_aux = file_name.find('_N')\n",
    "    # file0 = 'Temp_3D_Harmo'+ file_name[i_aux:]\n",
    "    file1 = 'SimuType0_00'    + file_name[i_aux:] ########## file1 = 'SimuType0'    + file_name[i_aux:17+36]\n",
    "    file2 = 'SimuType4_00' + file_name[i_aux:]\n",
    "    file3 = 'SimuType2_00' + file_name[i_aux:]\n",
    "\n",
    "    # tt0, T_CM0, T_aux0, PM0 = load_T_and_PM_simu(file_dir2+file0)\n",
    "    tt1, T_CM1, T_aux1, PM1 = load_T_and_PM_simu(file_dir2+'Temp_'+file1)\n",
    "    tt2, T_CM2, T_aux2, PM2 = load_T_and_PM_simu(file_dir2+'Temp_'+file2+'50eV')\n",
    "    tt3, T_CM3, T_aux3, PM3 = load_T_and_PM_simu(file_dir2+'Temp_'+file3+'50eV')\n",
    "\n",
    "    aux = mean(PM1[-100:])\n",
    "    PM_variation = ( aux - mean(PM3[-100:]) ) / aux\n",
    "    T_variation  = mean(T_aux3[-100:,0]) + mean(T_aux3[-100:,1]) + mean(T_aux3[-100:,2])\n",
    "            \n",
    "\n",
    "    # Auxiliary arrays:\n",
    "    t_aux1 = array([tt2[ 0],tt2[ 0]])\n",
    "    t_aux2 = array([tt2[-1],tt2[-1]])\n",
    "    y1_aux = array([1.0e-3 ,1.0e-1 ])\n",
    "#     y2_aux = array([0 ,20 ])\n",
    "    y2_aux = array([0 ,50 ])\n",
    "\n",
    "    tt    = concatenate( (   tt1,   tt2,   tt3) )\n",
    "    T_CM  = concatenate( (T_CM1,T_CM2,T_CM3) )\n",
    "    T_aux = concatenate( (T_aux1,T_aux2,T_aux3) )\n",
    "    PM    = concatenate( (PM1,PM2,PM3) )\n",
    "    SNR = np.abs( aux - mean(PM3[-100:]) )/np.sqrt(aux) # Sig-to-Noi ratio considering Poisson noise\n",
    "        \n",
    "    temps = [tt,t_aux1, t_aux2]\n",
    "    temperature = [T_aux, T_variation, T_CM]\n",
    "    fluo = [PM, PM_variation, SNR]\n",
    "        \n",
    "    return temps, temperature, fluo"
   ]
  },
  {
   "cell_type": "code",
   "execution_count": 61,
   "metadata": {},
   "outputs": [],
   "source": [
    "def load_Temp_init_bin_Lan(str_load):   \n",
    "    \n",
    "    fid = open(str_load+'.bin', 'rb')\n",
    "    \n",
    "    junk = fromfile(fid, int32,1)        # Read record start tag\n",
    "    aux  = fromfile(fid, int32,1)\n",
    "    junk = fromfile(fid, int32,1)        # Read record stop tag\n",
    "    N_ions = aux[0]\n",
    "\n",
    "    junk = fromfile(fid, int32,1)        # Read record start tag\n",
    "    aux  = fromfile(fid, int32,1)\n",
    "    junk = fromfile(fid, int32,1)        # Read record stop tag\n",
    "    j_save = aux[0]\n",
    "    \n",
    "    junk = fromfile(fid, int32,1)        # Read record start tag\n",
    "    aux  = fromfile(fid, float64,1)\n",
    "    junk = fromfile(fid, int32,1)        # Read record stop tag\n",
    "    dt_j_save_next = aux[0]\n",
    "\n",
    "    junk = fromfile(fid, int32,1)        # Read record start tag\n",
    "    aux  = fromfile(fid, float64,1)\n",
    "    junk = fromfile(fid, int32,1)        # Read record stop tag\n",
    "    eta = aux[0]\n",
    "\n",
    "    junk = fromfile(fid, int32  ,1   )        # Read record start tag\n",
    "    Temp = fromfile(fid, float64,1)\n",
    "    junk = fromfile(fid, int32  ,1   )        # Read record stop tag\n",
    "    \n",
    "    junk = fromfile(fid, int32  ,1   )        # Read record start tag\n",
    "    save_T = fromfile(fid, float64,3*j_save)\n",
    "    junk = fromfile(fid, int32  ,1   )        # Read record stop tag\n",
    "    \n",
    "    fid.close\n",
    "\n",
    "    save_T = reshape(save_T,(3,j_save),order='F')\n",
    "    print(save_T[0])\n",
    "\n",
    "    return N_ions, j_save, dt_j_save_next, eta, Temp, save_T"
   ]
  },
  {
   "cell_type": "markdown",
   "metadata": {},
   "source": [
    "# Sélection fichier"
   ]
  },
  {
   "cell_type": "code",
   "execution_count": 9,
   "metadata": {
    "scrolled": true
   },
   "outputs": [
    {
     "name": "stdout",
     "output_type": "stream",
     "text": [
      "> Répertoire : D:/CIMLuser/adrien/Simulations/20200630/DC09_RF11/Try00\n",
      "> Filename : Temp_SimuType0_00_N01024_Vrf0070_Udc0.5000D+01V_D1.0_S1.0RFG.dat\n",
      "> myslashpos | [2, 11, 18, 30, 39, 49]\n",
      "> slashcond | -2\n",
      "Points deleted because they were not complete []   0 pt(s)\n",
      "Total number of data directories 13\n"
     ]
    }
   ],
   "source": [
    "## GUI for data loading\n",
    "# Select one data file all the way down to the directories\n",
    "# Temp_SimuType0_N01024_Vrf0064_Udc0.5000D+00V_D1.0_S1.0RFG.dat\n",
    "\n",
    "file_cfg, slash_cfg, all_subdir = load_gui(filter_nocomplete=1)\n",
    "\n",
    "file_path = file_cfg[0]\n",
    "dir_path = file_cfg[1]\n",
    "work_rep = file_cfg[2]\n",
    "filename = file_cfg[3]\n",
    "\n",
    "myslashpos = slash_cfg[0]\n",
    "slashcond = slash_cfg[1]"
   ]
  },
  {
   "cell_type": "code",
   "execution_count": 10,
   "metadata": {
    "scrolled": true
   },
   "outputs": [
    {
     "name": "stdout",
     "output_type": "stream",
     "text": [
      "> condition names ['DC', 'RF']\n",
      "> number of points 1\n",
      "000 > DC09_RF11\n",
      "> N_ions = 1024\n",
      "> e_GMol = 50\n"
     ]
    }
   ],
   "source": [
    "## Condition for data\n",
    "points_and_coord, condition_parameters = simu_conditions(all_subdir, myslashpos, slashcond, filename)"
   ]
  },
  {
   "cell_type": "code",
   "execution_count": 11,
   "metadata": {
    "collapsed": true
   },
   "outputs": [
    {
     "name": "stdout",
     "output_type": "stream",
     "text": [
      "> Points | 1\n",
      "> Simulations pour chaque point | ['Try00', 'Try01', 'Try02', 'Try03', 'Try04', 'Try05', 'Try06', 'Try07', 'Try08', 'Try09', 'Try10', 'Try11', 'Try12']\n",
      "Hello\n",
      "Point n° 0\n",
      "00 - 00  >  D:/CIMLuser/adrien/Simulations/20200630\\DC09_RF11\\Try00/Temp_SimuType0_00_N01024_Vrf0070_Udc0.5000D+01V_D1.0_S1.0RFG\n",
      "00 - 01  >  D:/CIMLuser/adrien/Simulations/20200630\\DC09_RF11\\Try01/Temp_SimuType0_00_N01024_Vrf0070_Udc0.5000D+01V_D1.0_S1.0RFG\n",
      "00 - 02  >  D:/CIMLuser/adrien/Simulations/20200630\\DC09_RF11\\Try02/Temp_SimuType0_00_N01024_Vrf0070_Udc0.5000D+01V_D1.0_S1.0RFG\n",
      "00 - 03  >  D:/CIMLuser/adrien/Simulations/20200630\\DC09_RF11\\Try03/Temp_SimuType0_00_N01024_Vrf0070_Udc0.5000D+01V_D1.0_S1.0RFG\n",
      "00 - 04  >  D:/CIMLuser/adrien/Simulations/20200630\\DC09_RF11\\Try04/Temp_SimuType0_00_N01024_Vrf0070_Udc0.5000D+01V_D1.0_S1.0RFG\n",
      "00 - 05  >  D:/CIMLuser/adrien/Simulations/20200630\\DC09_RF11\\Try05/Temp_SimuType0_00_N01024_Vrf0070_Udc0.5000D+01V_D1.0_S1.0RFG\n",
      "00 - 06  >  D:/CIMLuser/adrien/Simulations/20200630\\DC09_RF11\\Try06/Temp_SimuType0_00_N01024_Vrf0070_Udc0.5000D+01V_D1.0_S1.0RFG\n",
      "00 - 07  >  D:/CIMLuser/adrien/Simulations/20200630\\DC09_RF11\\Try07/Temp_SimuType0_00_N01024_Vrf0070_Udc0.5000D+01V_D1.0_S1.0RFG\n",
      "00 - 08  >  D:/CIMLuser/adrien/Simulations/20200630\\DC09_RF11\\Try08/Temp_SimuType0_00_N01024_Vrf0070_Udc0.5000D+01V_D1.0_S1.0RFG\n",
      "00 - 09  >  D:/CIMLuser/adrien/Simulations/20200630\\DC09_RF11\\Try09/Temp_SimuType0_00_N01024_Vrf0070_Udc0.5000D+01V_D1.0_S1.0RFG\n",
      "00 - 10  >  D:/CIMLuser/adrien/Simulations/20200630\\DC09_RF11\\Try10/Temp_SimuType0_00_N01024_Vrf0070_Udc0.5000D+01V_D1.0_S1.0RFG\n",
      "00 - 11  >  D:/CIMLuser/adrien/Simulations/20200630\\DC09_RF11\\Try11/Temp_SimuType0_00_N01024_Vrf0070_Udc0.5000D+01V_D1.0_S1.0RFG\n",
      "00 - 12  >  D:/CIMLuser/adrien/Simulations/20200630\\DC09_RF11\\Try12/Temp_SimuType0_00_N01024_Vrf0070_Udc0.5000D+01V_D1.0_S1.0RFG\n",
      "Time elapsed:  0.1395465999999992 s\n",
      "Time elapsed:  0.002325776666666653 m\n"
     ]
    }
   ],
   "source": [
    "## Data loading (1D arrays)\n",
    "data_name, num_runs, PMandT, Gmol_data, r_LC_clip, dim_nu \\\n",
    "= data_retrieve(all_subdir, points_and_coord,condition_parameters,slash_cfg) # stopping_power\n",
    "\n",
    "data0 = data_name[0]\n",
    "data2 = data_name[1]\n",
    "data4 = data_name[2]\n",
    "\n",
    "PMvar = PMandT[0]\n",
    "Tvar = PMandT[1]\n",
    "\n",
    "deltaEc = Gmol_data[0]\n",
    "deltaEcRel = Gmol_data[1]\n",
    "t_c = Gmol_data[2]"
   ]
  },
  {
   "cell_type": "code",
   "execution_count": 12,
   "metadata": {},
   "outputs": [
    {
     "name": "stdout",
     "output_type": "stream",
     "text": [
      "[0.]\n",
      "1\n"
     ]
    }
   ],
   "source": [
    "# Where SNR for each try in each  are compared to a threshold\n",
    "# If SNR > some_threshold , we count it as a detection\n",
    "# Then for each point the ratio number_of_detection/number_of_try is calculated\n",
    "# This detection efficiency \n",
    "\n",
    "SNR_trig_threshold = 1\n",
    "shapevar = ((len(points_and_coord), len(num_runs)))\n",
    "trig_detection = np.zeros((shapevar))\n",
    "for i in range(len(points_and_coord)):\n",
    "    SNR = Gmol_data[2][i]\n",
    "    for k,m in enumerate(SNR):\n",
    "        if m > SNR_trig_threshold:\n",
    "            trig_detection[i,k] = 1\n",
    "\n",
    "print(mean(trig_detection,axis=1))\n",
    "\n",
    "print(len(trig_detection))"
   ]
  },
  {
   "cell_type": "code",
   "execution_count": 13,
   "metadata": {},
   "outputs": [
    {
     "name": "stdout",
     "output_type": "stream",
     "text": [
      "1.0\n"
     ]
    }
   ],
   "source": [
    "# Where is written Detuning and how much it is\n",
    "temp_pos = filename.find('0RFG')\n",
    "Detuning = filename[temp_pos-7:temp_pos-4]\n",
    "print(Detuning)"
   ]
  },
  {
   "cell_type": "markdown",
   "metadata": {},
   "source": [
    "# Plots\n",
    "Nuage d'ions, Temp et Pos"
   ]
  },
  {
   "cell_type": "markdown",
   "metadata": {},
   "source": [
    "## Load temperature from Langevin files"
   ]
  },
  {
   "cell_type": "code",
   "execution_count": 106,
   "metadata": {},
   "outputs": [
    {
     "name": "stdout",
     "output_type": "stream",
     "text": [
      "D:/CIMLuser/adrien/Simulations/20200630\\DC09_RF11\\Try08/\n",
      "Temp_3D_Harmo_N1024_T500uK_F0.15D-20Kg_s_4\n"
     ]
    }
   ],
   "source": [
    "## Data loading with hardcode names\n",
    "\n",
    "plot_point = 0\n",
    "plot_try = 8\n",
    "dirname_hc = str(data0[plot_point][plot_try])+'/'\n",
    "\n",
    "datainit_hc = 'Temp_3D_Harmo_N1024_T500uK_F0.15D-20Kg_s_4'\n",
    "data0_hc    = '/Temp_SimuType0_00_N01024_Vrf0070_Udc0.5000D+01V_D1.0_S1.0RFG'\n",
    "data4_hc    = '/Temp_SimuType4_00_N01024_Vrf0070_Udc0.5000D+01V_D1.0_S1.0RFG'\n",
    "data2_hc    = '/Temp_SimuType2_00_N01024_Vrf0070_Udc0.5000D+01V_D1.0_S1.0RFG'\n",
    "\n",
    "print(dirname_hc)\n",
    "print(datainit_hc)"
   ]
  },
  {
   "cell_type": "code",
   "execution_count": 107,
   "metadata": {},
   "outputs": [
    {
     "name": "stdout",
     "output_type": "stream",
     "text": [
      "[3.48043192e-01 9.94163613e-01 1.85850321e+01 ... 4.63838210e-04\n",
      " 4.83415408e-04 4.93109081e-04]\n",
      "N_ions 1024\n",
      "j_save 4999\n",
      "dt*j_save_next 2.0000000000000002e-07\n",
      "eta 1.5e-21\n",
      "Temp [0.0005]\n",
      "save_T [[3.48043192e-01 9.94163613e-01 1.85850321e+01 ... 4.63838210e-04\n",
      "  4.83415408e-04 4.93109081e-04]\n",
      " [2.30737926e+01 5.91847106e+01 3.33022614e+01 ... 4.89915164e-04\n",
      "  5.17430864e-04 5.38770907e-04]\n",
      " [1.09154093e+03 3.01688048e+03 3.46583603e+03 ... 4.83275317e-04\n",
      "  4.73907234e-04 4.45140256e-04]]\n",
      "shape(save_T) (3, 4999)\n"
     ]
    }
   ],
   "source": [
    "N_ions, j_save, dt_j_save_next, eta, Temp, save_T =\\\n",
    "load_Temp_init_bin_Lan(dirname_hc+datainit_hc)\n",
    "\n",
    "print('N_ions',N_ions)\n",
    "print('j_save',j_save)\n",
    "print('dt*j_save_next',dt_j_save_next)\n",
    "print('eta',eta)\n",
    "print('Temp',Temp)\n",
    "print('save_T',save_T)\n",
    "print('shape(save_T)',shape(save_T))\n",
    "\n",
    "#  Sacahnt que dans le Fortran\n",
    "# dt   = 2d-9\n",
    "# j_save_next  = 100\n",
    "# eta = 1.5d-21\n",
    "# Temperature = 0.5d-3"
   ]
  },
  {
   "cell_type": "code",
   "execution_count": 108,
   "metadata": {},
   "outputs": [],
   "source": [
    "# Get T and fluo PM\n",
    "onlyfiles = [f for f in listdir(dirname_hc) if isfile(join(dirname_hc, f)) and \"SimuType\" in f and \".dat\" in f]\n",
    "ta, te, ti = plot_T_and_PM_Init_Inje_Evol(dirname_hc,sort(onlyfiles)[0].strip('.dat')[4:],'coucou' )\n",
    "\n",
    "# ,xlim1=(3.458,3.582),ylim1=(2e-4,50),ylim2=(19.5,65)"
   ]
  },
  {
   "cell_type": "code",
   "execution_count": 109,
   "metadata": {},
   "outputs": [],
   "source": [
    "# Plot temperature Langevin + md laser\n",
    "\n",
    "tt_Lan = linspace(0,dt_j_save_next*5e3,j_save) # dt_j_save_next*100 duration of Langevin run\n",
    "tt_md = subtract(ta[0],-dt_j_save_next*5e3)\n",
    "T_aux = te[0]\n",
    "\n",
    "tt = concatenate((tt_Lan,tt_md))\n",
    "T_aux_reshape = [T_aux[:,0],T_aux[:,1],T_aux[:,2]]\n",
    "T_all = concatenate((save_T,T_aux_reshape),axis=1)\n",
    "\n",
    "PM = ti[0]\n",
    "\n",
    "\n",
    "#fig_name = file_name[-9:]\n",
    "figure('Temperature'); clf()\n",
    "ax1 = subplot(211)\n",
    "semilogy(tt*1e3,T_all[0], label='Tx',color='C0')\n",
    "semilogy(tt*1e3,T_all[1], label='Ty',color='C1')\n",
    "semilogy(tt*1e3,T_all[2], label='Tz',color='C2')\n",
    "semilogy(tt_Lan*1.e3,save_T[0], label='Tx',color='C0')\n",
    "semilogy(tt_Lan*1.e3,save_T[1], label='Ty',color='C1')\n",
    "semilogy(tt_Lan*1.e3,save_T[2], label='Tz',color='C2')\n",
    "vlines(ta[1]*1e3,1e-4,1e4,color='red')\n",
    "vlines(ta[2]*1e3,1e-4,1e4,color='red')\n",
    "ax1.grid()\n",
    "# annotate('Laser ON', xy=(0.5,350), xycoords='data',\n",
    "    # size=24, ha='left', va='top', color='xkcd:azul',\n",
    "    # bbox=dict(boxstyle='round', fc='white',edgecolor='xkcd:azul'))\n",
    "\n",
    "# ~ xlabel('time[ms]')\n",
    "# ~ ylabel('T[K]')\n",
    "plt.setp(ax1.get_xticklabels(),visible=False)\n",
    "\n",
    "ax2 = subplot(212,sharex=ax1)\n",
    "plot(tt_md*1e3,PM, label='Tx')\n",
    "ax2.grid()\n",
    "# annotate('laser off après injection', xy=(0.5,350), xycoords='data',\n",
    "    # size=24, ha='left', va='top', color='xkcd:azul',\n",
    "    # bbox=dict(boxstyle='round', fc='white',edgecolor='xkcd:azul'))\n",
    "\n",
    "xlabel('time[ms]')\n",
    "ylabel('Counts')\n",
    "\n",
    "plt.tight_layout()\n",
    "subplots_adjust(hspace=0.015)"
   ]
  },
  {
   "cell_type": "code",
   "execution_count": null,
   "metadata": {},
   "outputs": [],
   "source": []
  },
  {
   "cell_type": "code",
   "execution_count": null,
   "metadata": {},
   "outputs": [],
   "source": []
  },
  {
   "cell_type": "code",
   "execution_count": null,
   "metadata": {},
   "outputs": [],
   "source": []
  },
  {
   "cell_type": "code",
   "execution_count": null,
   "metadata": {},
   "outputs": [],
   "source": [
    "# plot ion cloud XYZ\n",
    "\n",
    "print(plot_subdir)\n",
    "onlyfiles = [f for f in listdir(plot_subdir) if isfile(join(plot_subdir, f)) and not \"xva\" in f and \".dat\" in f]\n",
    "file_name = '{}/xva{}'.format(plot_subdir,sort(onlyfiles)[0].strip('.dat')[4:])\n",
    "plot_XYZ(file_name,fig_name='XYZ_point'+str(plot_point)+'_try'+str(plot_try),fig_title='XYZ')"
   ]
  }
 ],
 "metadata": {
  "kernelspec": {
   "display_name": "Python 3",
   "language": "python",
   "name": "python3"
  },
  "language_info": {
   "codemirror_mode": {
    "name": "ipython",
    "version": 3
   },
   "file_extension": ".py",
   "mimetype": "text/x-python",
   "name": "python",
   "nbconvert_exporter": "python",
   "pygments_lexer": "ipython3",
   "version": "3.7.0"
  }
 },
 "nbformat": 4,
 "nbformat_minor": 2
}
