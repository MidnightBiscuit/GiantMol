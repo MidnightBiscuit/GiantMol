{
 "cells": [
  {
   "cell_type": "code",
   "execution_count": 1,
   "metadata": {},
   "outputs": [],
   "source": [
    "###########################################################\n",
    "#                                                         #\n",
    "#               TRAITEMENT SIMUS FORTRAN                  #\n",
    "#                     STATISTIQUES                        #\n",
    "#                                                         #\n",
    "#                         avec                            #\n",
    "#                   - lecture arborescence                #\n",
    "#                  analyse                                #\n",
    "#                   - Delta Fluo                          #\n",
    "#                   - Delta Energy GMol                   #\n",
    "#                   - R/L Ca+                             #\n",
    "#                   - distance inter ionique              #\n",
    "#                   - trajectoire GMol                    #\n",
    "#                                                         #\n",
    "#                          02/2020     Adrien Poindron    #\n",
    "###########################################################"
   ]
  },
  {
   "cell_type": "code",
   "execution_count": 1,
   "metadata": {},
   "outputs": [
    {
     "data": {
      "text/html": [
       "<style>.container { width:95% !important; }</style>"
      ],
      "text/plain": [
       "<IPython.core.display.HTML object>"
      ]
     },
     "metadata": {},
     "output_type": "display_data"
    }
   ],
   "source": [
    "from IPython.core.display import display, HTML\n",
    "display(HTML(\"<style>.container { width:95% !important; }</style>\"))"
   ]
  },
  {
   "cell_type": "markdown",
   "metadata": {},
   "source": [
    "# Imports"
   ]
  },
  {
   "cell_type": "code",
   "execution_count": 2,
   "metadata": {},
   "outputs": [],
   "source": [
    "# %pylab\n",
    "\n",
    "import numpy\n",
    "import matplotlib\n",
    "from matplotlib import pylab, mlab, pyplot\n",
    "from mpl_toolkits.mplot3d import Axes3D\n",
    "np = numpy\n",
    "plt = pyplot\n",
    "\n",
    "matplotlib.rcParams.update({'font.size': 21})\n",
    "# matplotlib.rcParams[\"figure.dpi\"] = 300\n",
    "\n",
    "from IPython.display import display\n",
    "from IPython.core.pylabtools import figsize, getfigs\n",
    "\n",
    "from pylab import *\n",
    "from numpy import *\n",
    "\n",
    "from scipy.optimize import curve_fit\n",
    "from scipy.signal import savgol_filter, butter"
   ]
  },
  {
   "cell_type": "code",
   "execution_count": 3,
   "metadata": {},
   "outputs": [],
   "source": [
    "import os\n",
    "from os import listdir\n",
    "from os.path import isfile, join\n",
    "\n",
    "import tkinter as tk\n",
    "from tkinter import filedialog\n",
    "%matplotlib qt\n",
    "\n",
    "from pathlib import Path\n",
    "from matplotlib import gridspec\n",
    "from mpl_toolkits.axes_grid1.inset_locator import zoomed_inset_axes\n",
    "from mpl_toolkits.axes_grid1.inset_locator import mark_inset"
   ]
  },
  {
   "cell_type": "code",
   "execution_count": 4,
   "metadata": {},
   "outputs": [],
   "source": [
    "from natsort import natsorted   # natural sort marche de ouf\n",
    "import re                       # find '/' in strings\n",
    "import timeit\n",
    "cm = pylab.get_cmap('summer')   # colormap par défaut color=cm(k/len(array))"
   ]
  },
  {
   "cell_type": "code",
   "execution_count": 5,
   "metadata": {},
   "outputs": [],
   "source": [
    "# Fonctions persos de Jofre et Adrien\n",
    "\n",
    "# %run function_jofre.ipy\n",
    "%run ../../Functions/1.2/data_fct_Adrien_point_by_point"
   ]
  },
  {
   "cell_type": "code",
   "execution_count": 6,
   "metadata": {},
   "outputs": [
    {
     "name": "stdout",
     "output_type": "stream",
     "text": [
      "$\\kappa_{simion}$ = 0.270471\n"
     ]
    }
   ],
   "source": [
    "# Constantes de la physique\n",
    "# ABSOLUMENT RECHARGER APRÈS AVOIR EXECUTÉ LES CASES D'IMPORT AU DESSUS\n",
    "\n",
    "C_e = 1.602e-19        # Coulomb\n",
    "kb = 1.38064852*1e-23  # Boltzman\n",
    "m_Ca = 40.078*1.66054e-27 # masse Ca 40.078\n",
    "m_GM = 1e6*1.66054e-27 # la masse de la GMol\n",
    "eps0 = 8.854187*1e-12  # permittivité électrique du vide\n",
    "\n",
    "r0 = 2.5e-3 # 2.5e-3   # rayon piège Ca+\n",
    "d0 = 4e-3/2            # longueur piège Ca+\n",
    "\n",
    "Omega = 2.05e6*2*pi # 2.047e6\n",
    "\n",
    "bk = 4 # nombre de barreaux par groupe (2 -> 4-pole , 4 -> 8-pole ...)\n",
    "\n",
    "mkappa = 0.23          # écrantage piège réel GiantMol\n",
    "wzLC = (2*pi*90806.9982303)**2\n",
    "kappa_simion = m_Ca*d0**2*wzLC/(2*C_e)\n",
    "print('%s = %f' % ('$\\kappa_{simion}$',kappa_simion) )\n",
    "\n",
    "zeta = kappa_simion*r0**2/d0**2"
   ]
  },
  {
   "cell_type": "code",
   "execution_count": 7,
   "metadata": {},
   "outputs": [],
   "source": [
    "def plot_T_and_PM_Init_Inje_Evol(file_dir2,file_name,fig_name,**kwargs):\n",
    "    \n",
    "    # ~ xlim1 = (-0.1,6)\n",
    "    # ~ ylim1 = (0.5*1e-3,5e3)\n",
    "    # ~ ylim2 = (-2,120)\n",
    "            \n",
    "    xlim1 = kwargs.get('xlim1', (-0.1,6))\n",
    "    ylim1 = kwargs.get('ylim1', (0.5*1e-3,2e4))\n",
    "    ylim2 = kwargs.get('ylim2', (-2,50))\n",
    "    \n",
    "    i_aux = file_name.find('_N')\n",
    "    # file0 = 'Temp_3D_Harmo'+ file_name[i_aux:]\n",
    "    file1 = 'SimuType0'    + file_name[i_aux:] ########## file1 = 'SimuType0'    + file_name[i_aux:17+36]\n",
    "    file2 = 'SimuType4_01'  + file_name[i_aux:]\n",
    "    file3 = 'SimuType2_01'  + file_name[i_aux:]\n",
    "\n",
    "    # tt0, T_CM0, T_aux0, PM0 = load_T_and_PM_simu(file_dir2+file0)\n",
    "    tt1, T_CM1, T_aux1, PM1 = load_T_and_PM_simu(file_dir2+'Temp_'+file1)\n",
    "    tt2, T_CM2, T_aux2, PM2 = load_T_and_PM_simu(file_dir2+'Temp_'+file2+'50eV')\n",
    "    tt3, T_CM3, T_aux3, PM3 = load_T_and_PM_simu(file_dir2+'Temp_'+file3+'50eV')\n",
    "\n",
    "    aux = mean(PM1[-100:])\n",
    "    PM_variation = ( aux - mean(PM3[-100:]) ) / aux\n",
    "    T_variation  = mean(T_aux3[-100:,0]) + mean(T_aux3[-100:,1]) + mean(T_aux3[-100:,2])\n",
    "            \n",
    "\n",
    "    # Auxiliary arrays:\n",
    "    t_aux1 = array([tt2[ 0],tt2[ 0]])\n",
    "    t_aux2 = array([tt2[-1],tt2[-1]])\n",
    "    y1_aux = array([1.0e-3 ,1.0e-1 ])\n",
    "#     y2_aux = array([0 ,20 ])\n",
    "    y2_aux = array([0 ,50 ])\n",
    "\n",
    "    tt    = concatenate( (   tt1,   tt2,   tt3) )\n",
    "    T_CM  = concatenate( (T_CM1,T_CM2,T_CM3) )\n",
    "    T_aux = concatenate( (T_aux1,T_aux2,T_aux3) )\n",
    "    PM    = concatenate( (PM1,PM2,PM3) )\n",
    "    SNR = np.abs( aux - mean(PM3[-100:]) )/np.sqrt(aux) # Sig-to-Noi ratio considering Poisson noise\n",
    "        \n",
    "    temps = [tt,t_aux1, t_aux2]\n",
    "    temperature = [T_aux, T_variation, T_CM]\n",
    "    fluo = [PM, PM_variation, SNR]\n",
    "        \n",
    "    return temps, temperature, fluo"
   ]
  },
  {
   "cell_type": "code",
   "execution_count": 8,
   "metadata": {},
   "outputs": [],
   "source": [
    "def load_Temp_init_bin_Lan(str_load,flag_print):   \n",
    "    \n",
    "    fid = open(str_load+'.bin', 'rb')\n",
    "    \n",
    "    a = fromfile(fid, int32,1)        # Read record start tag\n",
    "    aux  = fromfile(fid, int32,1)\n",
    "    junk = fromfile(fid, int32,1)        # Read record stop tag\n",
    "    N_ions = aux[0]\n",
    "\n",
    "    b = fromfile(fid, int32,1)        # Read record start tag\n",
    "    aux  = fromfile(fid, int32,1)\n",
    "    junk = fromfile(fid, int32,1)        # Read record stop tag\n",
    "    j_save = aux[0]\n",
    "    \n",
    "    c = fromfile(fid, int32,1)        # Read record start tag\n",
    "    aux  = fromfile(fid, float64,1)\n",
    "    junk = fromfile(fid, int32,1)        # Read record stop tag\n",
    "    dt_j_save_next = aux[0]\n",
    "\n",
    "    d = fromfile(fid, int32,1)        # Read record start tag\n",
    "    aux  = fromfile(fid, float64,1)\n",
    "    junk = fromfile(fid, int32,1)        # Read record stop tag\n",
    "    eta = aux[0]\n",
    "\n",
    "    e = fromfile(fid, int32  ,1   )        # Read record start tag\n",
    "    Temp = fromfile(fid, float64,1)\n",
    "    junk = fromfile(fid, int32  ,1   )        # Read record stop tag\n",
    "    \n",
    "    f = fromfile(fid, int32  ,1   )        # Read record start tag\n",
    "    save_T = fromfile(fid, float64,7*j_save)\n",
    "    junk = fromfile(fid, int32  ,1   )        # Read record stop tag\n",
    "    \n",
    "    fid.close\n",
    "    \n",
    "    if flag_print == 1:\n",
    "        print(a,b,c,d,e,f)\n",
    "        print('N_ions',N_ions)\n",
    "        print('j_save',j_save)\n",
    "        print('dt_j_save_next',dt_j_save_next)\n",
    "        print('eta',eta)\n",
    "        print('Temp',Temp)\n",
    "    \n",
    "    \n",
    "    save_T = reshape(save_T,(j_save,7),order='F')\n",
    "    print(save_T[0])\n",
    "\n",
    "    return N_ions, j_save, dt_j_save_next, eta, Temp, save_T"
   ]
  },
  {
   "cell_type": "markdown",
   "metadata": {},
   "source": [
    "# Sélection fichier"
   ]
  },
  {
   "cell_type": "code",
   "execution_count": 9,
   "metadata": {
    "scrolled": true
   },
   "outputs": [
    {
     "name": "stdout",
     "output_type": "stream",
     "text": [
      "> Répertoire : D:/CIMLuser/adrien/Simulations/20200710/DC03_RF09/Try00\n",
      "> Filename : Temp_SimuType0_N01024_Vrf0059_Udc0.2000D+01V_D1.0_S1.0RFG.dat\n",
      "> myslashpos | [2, 11, 18, 30, 39, 49]\n",
      "> slashcond | -2\n",
      "Points deleted because they were not complete ['DC09_RF11']   5 pt(s)\n",
      "Total number of data directories 72\n"
     ]
    }
   ],
   "source": [
    "## GUI for data loading\n",
    "# Select one data file all the way down to the directories\n",
    "# Temp_SimuType0_N01024_Vrf0064_Udc0.5000D+00V_D1.0_S1.0RFG.dat\n",
    "\n",
    "file_cfg, slash_cfg, all_subdir = load_gui(filter_nocomplete=1)\n",
    "\n",
    "file_path = file_cfg[0]\n",
    "dir_path = file_cfg[1]\n",
    "work_rep = file_cfg[2]\n",
    "filename = file_cfg[3]\n",
    "\n",
    "myslashpos = slash_cfg[0]\n",
    "slashcond = slash_cfg[1]"
   ]
  },
  {
   "cell_type": "code",
   "execution_count": 10,
   "metadata": {
    "scrolled": true
   },
   "outputs": [
    {
     "name": "stdout",
     "output_type": "stream",
     "text": [
      "> condition names ['DC', 'RF']\n",
      "> number of points 12\n",
      "000 > DC03_RF09\n",
      "001 > DC03_RF10\n",
      "002 > DC03_RF11\n",
      "003 > DC05_RF07\n",
      "004 > DC05_RF09\n",
      "005 > DC05_RF10\n",
      "006 > DC05_RF11\n",
      "007 > DC07_RF09\n",
      "008 > DC07_RF10\n",
      "009 > DC07_RF11\n",
      "010 > DC09_RF09\n",
      "011 > DC09_RF10\n",
      "> N_ions = 1024\n",
      "> e_GMol = 50\n"
     ]
    }
   ],
   "source": [
    "## Condition for data\n",
    "points_and_coord, condition_parameters = simu_conditions(all_subdir, myslashpos, slashcond, filename)"
   ]
  },
  {
   "cell_type": "code",
   "execution_count": 11,
   "metadata": {
    "scrolled": true
   },
   "outputs": [
    {
     "name": "stdout",
     "output_type": "stream",
     "text": [
      "> Points | 12\n",
      "> Simulations pour chaque point | ['Try00', 'Try01', 'Try02', 'Try03', 'Try04', 'Try05']\n",
      "Hello\n",
      "Point n° 0\n",
      "00 - 00  >  D:/CIMLuser/adrien/Simulations/20200710\\DC03_RF09\\Try00/Temp_SimuType0_N01024_Vrf0059_Udc0.2000D+01V_D1.0_S1.0RFG\n",
      "00 - 01  >  D:/CIMLuser/adrien/Simulations/20200710\\DC03_RF09\\Try01/Temp_SimuType0_N01024_Vrf0059_Udc0.2000D+01V_D1.0_S1.0RFG\n",
      "00 - 02  >  D:/CIMLuser/adrien/Simulations/20200710\\DC03_RF09\\Try02/Temp_SimuType0_N01024_Vrf0059_Udc0.2000D+01V_D1.0_S1.0RFG\n",
      "00 - 03  >  D:/CIMLuser/adrien/Simulations/20200710\\DC03_RF09\\Try03/Temp_SimuType0_N01024_Vrf0059_Udc0.2000D+01V_D1.0_S1.0RFG\n",
      "00 - 04  >  D:/CIMLuser/adrien/Simulations/20200710\\DC03_RF09\\Try04/Temp_SimuType0_N01024_Vrf0059_Udc0.2000D+01V_D1.0_S1.0RFG\n",
      "00 - 05  >  D:/CIMLuser/adrien/Simulations/20200710\\DC03_RF09\\Try05/Temp_SimuType0_N01024_Vrf0059_Udc0.2000D+01V_D1.0_S1.0RFG\n",
      "Point n° 1\n",
      "01 - 00  >  D:/CIMLuser/adrien/Simulations/20200710\\DC03_RF10\\Try00/Temp_SimuType0_N01024_Vrf0064_Udc0.2000D+01V_D1.0_S1.0RFG\n",
      "01 - 01  >  D:/CIMLuser/adrien/Simulations/20200710\\DC03_RF10\\Try01/Temp_SimuType0_N01024_Vrf0064_Udc0.2000D+01V_D1.0_S1.0RFG\n",
      "01 - 02  >  D:/CIMLuser/adrien/Simulations/20200710\\DC03_RF10\\Try02/Temp_SimuType0_N01024_Vrf0064_Udc0.2000D+01V_D1.0_S1.0RFG\n",
      "01 - 03  >  D:/CIMLuser/adrien/Simulations/20200710\\DC03_RF10\\Try03/Temp_SimuType0_N01024_Vrf0064_Udc0.2000D+01V_D1.0_S1.0RFG\n",
      "01 - 04  >  D:/CIMLuser/adrien/Simulations/20200710\\DC03_RF10\\Try04/Temp_SimuType0_N01024_Vrf0064_Udc0.2000D+01V_D1.0_S1.0RFG\n",
      "01 - 05  >  D:/CIMLuser/adrien/Simulations/20200710\\DC03_RF10\\Try05/Temp_SimuType0_N01024_Vrf0064_Udc0.2000D+01V_D1.0_S1.0RFG\n",
      "Point n° 2\n",
      "02 - 00  >  D:/CIMLuser/adrien/Simulations/20200710\\DC03_RF11\\Try00/Temp_SimuType0_N01024_Vrf0070_Udc0.2000D+01V_D1.0_S1.0RFG\n",
      "02 - 01  >  D:/CIMLuser/adrien/Simulations/20200710\\DC03_RF11\\Try01/Temp_SimuType0_N01024_Vrf0070_Udc0.2000D+01V_D1.0_S1.0RFG\n",
      "02 - 02  >  D:/CIMLuser/adrien/Simulations/20200710\\DC03_RF11\\Try02/Temp_SimuType0_N01024_Vrf0070_Udc0.2000D+01V_D1.0_S1.0RFG\n",
      "02 - 03  >  D:/CIMLuser/adrien/Simulations/20200710\\DC03_RF11\\Try03/Temp_SimuType0_N01024_Vrf0070_Udc0.2000D+01V_D1.0_S1.0RFG\n",
      "02 - 04  >  D:/CIMLuser/adrien/Simulations/20200710\\DC03_RF11\\Try04/Temp_SimuType0_N01024_Vrf0070_Udc0.2000D+01V_D1.0_S1.0RFG\n",
      "02 - 05  >  D:/CIMLuser/adrien/Simulations/20200710\\DC03_RF11\\Try05/Temp_SimuType0_N01024_Vrf0070_Udc0.2000D+01V_D1.0_S1.0RFG\n",
      "Point n° 3\n",
      "03 - 00  >  D:/CIMLuser/adrien/Simulations/20200710\\DC05_RF07\\Try00/Temp_SimuType0_N01024_Vrf0048_Udc0.3000D+01V_D1.0_S1.0RFG\n",
      "03 - 01  >  D:/CIMLuser/adrien/Simulations/20200710\\DC05_RF07\\Try01/Temp_SimuType0_N01024_Vrf0048_Udc0.3000D+01V_D1.0_S1.0RFG\n",
      "03 - 02  >  D:/CIMLuser/adrien/Simulations/20200710\\DC05_RF07\\Try02/Temp_SimuType0_N01024_Vrf0048_Udc0.3000D+01V_D1.0_S1.0RFG\n",
      "03 - 03  >  D:/CIMLuser/adrien/Simulations/20200710\\DC05_RF07\\Try03/Temp_SimuType0_N01024_Vrf0048_Udc0.3000D+01V_D1.0_S1.0RFG\n",
      "03 - 04  >  D:/CIMLuser/adrien/Simulations/20200710\\DC05_RF07\\Try04/Temp_SimuType0_N01024_Vrf0048_Udc0.3000D+01V_D1.0_S1.0RFG\n",
      "03 - 05  >  D:/CIMLuser/adrien/Simulations/20200710\\DC05_RF07\\Try05/Temp_SimuType0_N01024_Vrf0048_Udc0.3000D+01V_D1.0_S1.0RFG\n",
      "Point n° 4\n",
      "04 - 00  >  D:/CIMLuser/adrien/Simulations/20200710\\DC05_RF09\\Try00/Temp_SimuType0_N01024_Vrf0059_Udc0.3000D+01V_D1.0_S1.0RFG\n",
      "04 - 01  >  D:/CIMLuser/adrien/Simulations/20200710\\DC05_RF09\\Try01/Temp_SimuType0_N01024_Vrf0059_Udc0.3000D+01V_D1.0_S1.0RFG\n",
      "04 - 02  >  D:/CIMLuser/adrien/Simulations/20200710\\DC05_RF09\\Try02/Temp_SimuType0_N01024_Vrf0059_Udc0.3000D+01V_D1.0_S1.0RFG\n",
      "04 - 03  >  D:/CIMLuser/adrien/Simulations/20200710\\DC05_RF09\\Try03/Temp_SimuType0_N01024_Vrf0059_Udc0.3000D+01V_D1.0_S1.0RFG\n",
      "04 - 04  >  D:/CIMLuser/adrien/Simulations/20200710\\DC05_RF09\\Try04/Temp_SimuType0_N01024_Vrf0059_Udc0.3000D+01V_D1.0_S1.0RFG\n",
      "04 - 05  >  D:/CIMLuser/adrien/Simulations/20200710\\DC05_RF09\\Try05/Temp_SimuType0_N01024_Vrf0059_Udc0.3000D+01V_D1.0_S1.0RFG\n",
      "Point n° 5\n",
      "05 - 00  >  D:/CIMLuser/adrien/Simulations/20200710\\DC05_RF10\\Try00/Temp_SimuType0_N01024_Vrf0064_Udc0.3000D+01V_D1.0_S1.0RFG\n",
      "05 - 01  >  D:/CIMLuser/adrien/Simulations/20200710\\DC05_RF10\\Try01/Temp_SimuType0_N01024_Vrf0064_Udc0.3000D+01V_D1.0_S1.0RFG\n",
      "05 - 02  >  D:/CIMLuser/adrien/Simulations/20200710\\DC05_RF10\\Try02/Temp_SimuType0_N01024_Vrf0064_Udc0.3000D+01V_D1.0_S1.0RFG\n",
      "05 - 03  >  D:/CIMLuser/adrien/Simulations/20200710\\DC05_RF10\\Try03/Temp_SimuType0_N01024_Vrf0064_Udc0.3000D+01V_D1.0_S1.0RFG\n",
      "05 - 04  >  D:/CIMLuser/adrien/Simulations/20200710\\DC05_RF10\\Try04/Temp_SimuType0_N01024_Vrf0064_Udc0.3000D+01V_D1.0_S1.0RFG\n",
      "05 - 05  >  D:/CIMLuser/adrien/Simulations/20200710\\DC05_RF10\\Try05/Temp_SimuType0_N01024_Vrf0064_Udc0.3000D+01V_D1.0_S1.0RFG\n",
      "Point n° 6\n",
      "06 - 00  >  D:/CIMLuser/adrien/Simulations/20200710\\DC05_RF11\\Try00/Temp_SimuType0_N01024_Vrf0070_Udc0.3000D+01V_D1.0_S1.0RFG\n",
      "06 - 01  >  D:/CIMLuser/adrien/Simulations/20200710\\DC05_RF11\\Try01/Temp_SimuType0_N01024_Vrf0070_Udc0.3000D+01V_D1.0_S1.0RFG\n",
      "06 - 02  >  D:/CIMLuser/adrien/Simulations/20200710\\DC05_RF11\\Try02/Temp_SimuType0_N01024_Vrf0070_Udc0.3000D+01V_D1.0_S1.0RFG\n",
      "06 - 03  >  D:/CIMLuser/adrien/Simulations/20200710\\DC05_RF11\\Try03/Temp_SimuType0_N01024_Vrf0070_Udc0.3000D+01V_D1.0_S1.0RFG\n",
      "06 - 04  >  D:/CIMLuser/adrien/Simulations/20200710\\DC05_RF11\\Try04/Temp_SimuType0_N01024_Vrf0070_Udc0.3000D+01V_D1.0_S1.0RFG\n",
      "06 - 05  >  D:/CIMLuser/adrien/Simulations/20200710\\DC05_RF11\\Try05/Temp_SimuType0_N01024_Vrf0070_Udc0.3000D+01V_D1.0_S1.0RFG\n",
      "Point n° 7\n",
      "07 - 00  >  D:/CIMLuser/adrien/Simulations/20200710\\DC07_RF09\\Try00/Temp_SimuType0_N01024_Vrf0059_Udc0.4000D+01V_D1.0_S1.0RFG\n",
      "07 - 01  >  D:/CIMLuser/adrien/Simulations/20200710\\DC07_RF09\\Try01/Temp_SimuType0_N01024_Vrf0059_Udc0.4000D+01V_D1.0_S1.0RFG\n",
      "07 - 02  >  D:/CIMLuser/adrien/Simulations/20200710\\DC07_RF09\\Try02/Temp_SimuType0_N01024_Vrf0059_Udc0.4000D+01V_D1.0_S1.0RFG\n",
      "07 - 03  >  D:/CIMLuser/adrien/Simulations/20200710\\DC07_RF09\\Try03/Temp_SimuType0_N01024_Vrf0059_Udc0.4000D+01V_D1.0_S1.0RFG\n",
      "07 - 04  >  D:/CIMLuser/adrien/Simulations/20200710\\DC07_RF09\\Try04/Temp_SimuType0_N01024_Vrf0059_Udc0.4000D+01V_D1.0_S1.0RFG\n",
      "07 - 05  >  D:/CIMLuser/adrien/Simulations/20200710\\DC07_RF09\\Try05/Temp_SimuType0_N01024_Vrf0059_Udc0.4000D+01V_D1.0_S1.0RFG\n",
      "Point n° 8\n",
      "08 - 00  >  D:/CIMLuser/adrien/Simulations/20200710\\DC07_RF10\\Try00/Temp_SimuType0_N01024_Vrf0064_Udc0.4000D+01V_D1.0_S1.0RFG\n",
      "08 - 01  >  D:/CIMLuser/adrien/Simulations/20200710\\DC07_RF10\\Try01/Temp_SimuType0_N01024_Vrf0064_Udc0.4000D+01V_D1.0_S1.0RFG\n",
      "08 - 02  >  D:/CIMLuser/adrien/Simulations/20200710\\DC07_RF10\\Try02/Temp_SimuType0_N01024_Vrf0064_Udc0.4000D+01V_D1.0_S1.0RFG\n",
      "08 - 03  >  D:/CIMLuser/adrien/Simulations/20200710\\DC07_RF10\\Try03/Temp_SimuType0_N01024_Vrf0064_Udc0.4000D+01V_D1.0_S1.0RFG\n",
      "08 - 04  >  D:/CIMLuser/adrien/Simulations/20200710\\DC07_RF10\\Try04/Temp_SimuType0_N01024_Vrf0064_Udc0.4000D+01V_D1.0_S1.0RFG\n",
      "08 - 05  >  D:/CIMLuser/adrien/Simulations/20200710\\DC07_RF10\\Try05/Temp_SimuType0_N01024_Vrf0064_Udc0.4000D+01V_D1.0_S1.0RFG\n",
      "Point n° 9\n",
      "09 - 00  >  D:/CIMLuser/adrien/Simulations/20200710\\DC07_RF11\\Try00/Temp_SimuType0_N01024_Vrf0070_Udc0.4000D+01V_D1.0_S1.0RFG\n",
      "09 - 01  >  D:/CIMLuser/adrien/Simulations/20200710\\DC07_RF11\\Try01/Temp_SimuType0_N01024_Vrf0070_Udc0.4000D+01V_D1.0_S1.0RFG\n",
      "09 - 02  >  D:/CIMLuser/adrien/Simulations/20200710\\DC07_RF11\\Try02/Temp_SimuType0_N01024_Vrf0070_Udc0.4000D+01V_D1.0_S1.0RFG\n",
      "09 - 03  >  D:/CIMLuser/adrien/Simulations/20200710\\DC07_RF11\\Try03/Temp_SimuType0_N01024_Vrf0070_Udc0.4000D+01V_D1.0_S1.0RFG\n",
      "09 - 04  >  D:/CIMLuser/adrien/Simulations/20200710\\DC07_RF11\\Try04/Temp_SimuType0_N01024_Vrf0070_Udc0.4000D+01V_D1.0_S1.0RFG\n",
      "09 - 05  >  D:/CIMLuser/adrien/Simulations/20200710\\DC07_RF11\\Try05/Temp_SimuType0_N01024_Vrf0070_Udc0.4000D+01V_D1.0_S1.0RFG\n",
      "Point n° 10\n",
      "10 - 00  >  D:/CIMLuser/adrien/Simulations/20200710\\DC09_RF09\\Try00/Temp_SimuType0_N01024_Vrf0059_Udc0.5000D+01V_D1.0_S1.0RFG\n",
      "10 - 01  >  D:/CIMLuser/adrien/Simulations/20200710\\DC09_RF09\\Try01/Temp_SimuType0_N01024_Vrf0059_Udc0.5000D+01V_D1.0_S1.0RFG\n",
      "10 - 02  >  D:/CIMLuser/adrien/Simulations/20200710\\DC09_RF09\\Try02/Temp_SimuType0_N01024_Vrf0059_Udc0.5000D+01V_D1.0_S1.0RFG\n",
      "10 - 03  >  D:/CIMLuser/adrien/Simulations/20200710\\DC09_RF09\\Try03/Temp_SimuType0_N01024_Vrf0059_Udc0.5000D+01V_D1.0_S1.0RFG\n"
     ]
    },
    {
     "name": "stdout",
     "output_type": "stream",
     "text": [
      "10 - 04  >  D:/CIMLuser/adrien/Simulations/20200710\\DC09_RF09\\Try04/Temp_SimuType0_N01024_Vrf0059_Udc0.5000D+01V_D1.0_S1.0RFG\n",
      "10 - 05  >  D:/CIMLuser/adrien/Simulations/20200710\\DC09_RF09\\Try05/Temp_SimuType0_N01024_Vrf0059_Udc0.5000D+01V_D1.0_S1.0RFG\n",
      "Point n° 11\n",
      "11 - 00  >  D:/CIMLuser/adrien/Simulations/20200710\\DC09_RF10\\Try00/Temp_SimuType0_N01024_Vrf0064_Udc0.5000D+01V_D1.0_S1.0RFG\n",
      "11 - 01  >  D:/CIMLuser/adrien/Simulations/20200710\\DC09_RF10\\Try01/Temp_SimuType0_N01024_Vrf0064_Udc0.5000D+01V_D1.0_S1.0RFG\n",
      "11 - 02  >  D:/CIMLuser/adrien/Simulations/20200710\\DC09_RF10\\Try02/Temp_SimuType0_N01024_Vrf0064_Udc0.5000D+01V_D1.0_S1.0RFG\n",
      "11 - 03  >  D:/CIMLuser/adrien/Simulations/20200710\\DC09_RF10\\Try03/Temp_SimuType0_N01024_Vrf0064_Udc0.5000D+01V_D1.0_S1.0RFG\n",
      "11 - 04  >  D:/CIMLuser/adrien/Simulations/20200710\\DC09_RF10\\Try04/Temp_SimuType0_N01024_Vrf0064_Udc0.5000D+01V_D1.0_S1.0RFG\n",
      "11 - 05  >  D:/CIMLuser/adrien/Simulations/20200710\\DC09_RF10\\Try05/Temp_SimuType0_N01024_Vrf0064_Udc0.5000D+01V_D1.0_S1.0RFG\n",
      "Time elapsed:  34.4067116 s\n",
      "Time elapsed:  0.5734451933333333 m\n"
     ]
    }
   ],
   "source": [
    "## Data loading (1D arrays)\n",
    "data_name, num_runs, PMandT, Gmol_data, r_LC_clip, dim_nu \\\n",
    "= data_retrieve(all_subdir, points_and_coord,condition_parameters,slash_cfg) # stopping_power\n",
    "\n",
    "data0 = data_name[0]\n",
    "data2 = data_name[1]\n",
    "data4 = data_name[2]\n",
    "\n",
    "PMvar = PMandT[0]\n",
    "Tvar = PMandT[1]\n",
    "\n",
    "deltaEc = Gmol_data[0]\n",
    "deltaEcRel = Gmol_data[1]\n",
    "t_c = Gmol_data[2]"
   ]
  },
  {
   "cell_type": "code",
   "execution_count": 12,
   "metadata": {},
   "outputs": [
    {
     "name": "stdout",
     "output_type": "stream",
     "text": [
      "['DC03_RF09', 'DC03_RF10', 'DC03_RF11', 'DC05_RF07', 'DC05_RF09', 'DC05_RF10', 'DC05_RF11', 'DC07_RF09', 'DC07_RF10', 'DC07_RF11', 'DC09_RF09', 'DC09_RF10']\n",
      "[0.83333333 0.         0.         0.         0.33333333 0.\n",
      " 0.         0.         0.         0.         0.         0.        ]\n",
      "12\n"
     ]
    }
   ],
   "source": [
    "# Where SNR for each try in each  are compared to a threshold\n",
    "# If SNR > some_threshold , we count it as a detection\n",
    "# Then for each point the ratio number_of_detection/number_of_try is calculated\n",
    "# This detection efficiency \n",
    "\n",
    "SNR_trig_threshold = 1\n",
    "shapevar = ((len(points_and_coord), len(num_runs)))\n",
    "trig_detection = np.zeros((shapevar))\n",
    "for i in range(len(points_and_coord)):\n",
    "    SNR = Gmol_data[2][i]\n",
    "    for k,m in enumerate(SNR):\n",
    "        if m > SNR_trig_threshold:\n",
    "            trig_detection[i,k] = 1\n",
    "\n",
    "print(list(points_and_coord.keys()))\n",
    "print(mean(trig_detection,axis=1))\n",
    "\n",
    "print(len(trig_detection))"
   ]
  },
  {
   "cell_type": "code",
   "execution_count": 14,
   "metadata": {},
   "outputs": [
    {
     "name": "stdout",
     "output_type": "stream",
     "text": [
      "1.0\n"
     ]
    }
   ],
   "source": [
    "# Where is written Detuning and how much it is\n",
    "temp_pos = filename.find('0RFG')\n",
    "Detuning = filename[temp_pos-7:temp_pos-4]\n",
    "print(Detuning)"
   ]
  },
  {
   "cell_type": "markdown",
   "metadata": {},
   "source": [
    "# Plots\n",
    "Nuage d'ions, Temp et Pos"
   ]
  },
  {
   "cell_type": "markdown",
   "metadata": {},
   "source": [
    "## Load temperature from Langevin files"
   ]
  },
  {
   "cell_type": "code",
   "execution_count": 15,
   "metadata": {},
   "outputs": [
    {
     "name": "stdout",
     "output_type": "stream",
     "text": [
      "D:/CIMLuser/adrien/Simulations/20200710\\DC03_RF09\\Try01/\n",
      "Temp_3D_Harmo_N1024_T500uK_F0.15D-19Kg_s_5\n"
     ]
    }
   ],
   "source": [
    "## Data loading with hardcode names\n",
    "\n",
    "plot_point = 0\n",
    "plot_try = 1\n",
    "dirname_hc = str(data0[plot_point][plot_try])+'/'\n",
    "\n",
    "datainit_hc = 'Temp_3D_Harmo_N1024_T500uK_F0.15D-19Kg_s_5'\n",
    "data0_hc    = '/Temp_SimuType0_N01024_Vrf0064_Udc0.3000D+01V_D1.0_S1.0RFG'\n",
    "data4_hc    = '/Temp_SimuType4_01_N01024_Vrf0064_Udc0.3000D+01V_D1.0_S1.0RFG50eV'\n",
    "data2_hc    = '/Temp_SimuType2_01_N01024_Vrf0064_Udc0.3000D+01V_D1.0_S1.0RFG50eV'\n",
    "\n",
    "print(dirname_hc)\n",
    "print(datainit_hc)"
   ]
  },
  {
   "cell_type": "code",
   "execution_count": 16,
   "metadata": {},
   "outputs": [
    {
     "name": "stdout",
     "output_type": "stream",
     "text": [
      "[4] [4] [8] [8] [8] [110880]\n",
      "N_ions 1024\n",
      "j_save 1980\n",
      "dt_j_save_next 5e-07\n",
      "eta 1.5e-20\n",
      "Temp [0.0005]\n",
      "[5.05000000e-07 6.92704091e-04 1.01630676e-02 3.22024709e-06\n",
      " 1.69195590e+01 3.90546636e+00 7.46999518e+01]\n",
      "N_ions 1024\n",
      "j_save 1980\n",
      "dt*j_save_next 5e-07\n",
      "eta 1.5e-20\n",
      "Temp [0.0005]\n",
      "save_T [[5.05000000e-07 6.92704091e-04 1.01630676e-02 ... 1.69195590e+01\n",
      "  3.90546636e+00 7.46999518e+01]\n",
      " [1.01000000e-06 1.04465106e-03 1.02405527e-02 ... 6.13178702e-01\n",
      "  1.54857708e+00 1.10191533e+02]\n",
      " [1.51500000e-06 1.07668206e-04 2.83482578e-03 ... 2.90957551e+01\n",
      "  3.19207632e+01 6.61002620e+01]\n",
      " ...\n",
      " [9.98890000e-04 4.37278441e-11 9.01850226e-08 ... 2.89355474e-04\n",
      "  2.88426889e-04 5.43003396e-04]\n",
      " [9.99395000e-04 4.98293214e-09 3.15528778e-08 ... 2.84604150e-04\n",
      "  2.92778910e-04 4.91628909e-04]\n",
      " [9.99900000e-04 8.95899571e-10 2.42890493e-08 ... 2.91364086e-04\n",
      "  2.71358631e-04 4.96362702e-04]]\n",
      "shape(save_T) (1980, 7)\n"
     ]
    }
   ],
   "source": [
    "N_ions, j_save, dt_j_save_next, eta, Temp, save_T =\\\n",
    "load_Temp_init_bin_Lan(dirname_hc+datainit_hc,flag_print = 1)\n",
    "\n",
    "print('N_ions',N_ions)\n",
    "print('j_save',j_save)\n",
    "print('dt*j_save_next',dt_j_save_next)\n",
    "print('eta',eta)\n",
    "print('Temp',Temp)\n",
    "print('save_T',save_T)\n",
    "print('shape(save_T)',shape(save_T))\n",
    "\n",
    "#  Sacahnt que dans le Fortran\n",
    "# dt   = 2d-9\n",
    "# j_save_next  = 100\n",
    "# eta = 1.5d-21\n",
    "# Temperature = 0.5d-3"
   ]
  },
  {
   "cell_type": "code",
   "execution_count": 17,
   "metadata": {},
   "outputs": [
    {
     "data": {
      "text/plain": [
       "'DC03_RF09'"
      ]
     },
     "execution_count": 17,
     "metadata": {},
     "output_type": "execute_result"
    }
   ],
   "source": [
    "dirname_hc[40:49]"
   ]
  },
  {
   "cell_type": "code",
   "execution_count": 18,
   "metadata": {},
   "outputs": [],
   "source": [
    "# Get T and fluo PM\n",
    "onlyfiles = [f for f in listdir(dirname_hc) if isfile(join(dirname_hc, f)) and \"SimuType\" in f and \".dat\" in f]\n",
    "ta, te, ti = plot_T_and_PM_Init_Inje_Evol(dirname_hc,sort(onlyfiles)[0].strip('.dat')[4:],'coucou' )\n",
    "\n",
    "# ,xlim1=(3.458,3.582),ylim1=(2e-4,50),ylim2=(19.5,65)"
   ]
  },
  {
   "cell_type": "code",
   "execution_count": null,
   "metadata": {},
   "outputs": [],
   "source": [
    "n_dt = 100\n",
    "\n",
    "i_free__fly_Lan = 2*1e3 \n",
    "i_free__fly = 100\n",
    "i_therm_fly = 2000\n",
    "i_laser_fly = 1000*3\n",
    "i_cool__fly = 2000\n",
    "\n",
    "\n",
    "dt = 1/2e6\n",
    "print(dt)"
   ]
  },
  {
   "cell_type": "code",
   "execution_count": 21,
   "metadata": {},
   "outputs": [],
   "source": [
    "# Plot temperature Langevin + md laser\n",
    "\n",
    "tt_Lan = linspace(0,dt_j_save_next*j_save,j_save) # dt_j_save_next*100 duration of Langevin run\n",
    "tt_md = ta[0]\n",
    "T_aux = te[0]\n",
    "\n",
    "tt = concatenate((tt_Lan,tt_md))\n",
    "T_all = concatenate((save_T[:,4:],T_aux),axis=0)\n",
    "\n",
    "PM = ti[0]\n",
    "\n",
    "\n",
    "#fig_name = file_name[-9:]\n",
    "figure('Temperature'); clf()\n",
    "ax1 = subplot(211)\n",
    "ax1.semilogy(tt*1e3,T_all[:,0], label='Tx',color='C0')\n",
    "ax1.semilogy(tt*1e3,T_all[:,1], label='Ty',color='C1')\n",
    "ax1.semilogy(tt*1e3,T_all[:,2], label='Tz',color='C2')\n",
    "#semilogy(tt_Lan*1.e3,save_T[:,0], label='Tx',color='C0')\n",
    "#semilogy(tt_Lan*1.e3,save_T[:,1], label='Ty',color='C1')\n",
    "#semilogy(tt_Lan*1.e3,save_T[:,2], label='Tz',color='C2')\n",
    "ax1.vlines(ta[1]*1e3,1e-4,1e4,color='red')\n",
    "ax1.vlines(ta[2]*1e3,1e-4,1e4,color='red')\n",
    "time_switch = i_free__fly_Lan*dt\n",
    "ax1.vlines(time_switch*1e3,1e-4,1e4,color='blue')\n",
    "time_switch = (i_free__fly_Lan+i_laser_fly)*dt\n",
    "ax1.vlines(time_switch*1e3,1e-4,1e4,color='orange')\n",
    "time_switch = (i_free__fly_Lan+2*i_laser_fly)*dt\n",
    "ax1.vlines((time_switch+ta[2]-ta[1])*1e3,1e-4,1e4,color='purple')\n",
    "ax1.grid()\n",
    "# annotate('Laser ON', xy=(0.5,350), xycoords='data',\n",
    "    # size=24, ha='left', va='top', color='xkcd:azul',\n",
    "    # bbox=dict(boxstyle='round', fc='white',edgecolor='xkcd:azul'))\n",
    "\n",
    "# ~ xlabel('time[ms]')\n",
    "# ~ ylabel('T[K]')\n",
    "plt.setp(ax1.get_xticklabels(),visible=False)\n",
    "\n",
    "ax2 = subplot(212,sharex=ax1)\n",
    "plot(tt_md*1e3,PM, label='Tx')\n",
    "time_switch = i_free__fly_Lan*dt\n",
    "ax2.vlines(time_switch*1e3,1e-4,75,color='blue')\n",
    "time_switch = (i_free__fly_Lan+i_laser_fly)*dt\n",
    "ax2.vlines(time_switch*1e3,1e-4,75,color='orange')\n",
    "time_switch = (i_free__fly_Lan+2*i_laser_fly)*dt\n",
    "ax2.vlines((time_switch+ta[2]-ta[1])*1e3,1e-4,75,color='purple')\n",
    "ax2.grid()\n",
    "# annotate('laser off après injection', xy=(0.5,350), xycoords='data',\n",
    "    # size=24, ha='left', va='top', color='xkcd:azul',\n",
    "    # bbox=dict(boxstyle='round', fc='white',edgecolor='xkcd:azul'))\n",
    "\n",
    "xlabel('time[ms]')\n",
    "ylabel('Counts')\n",
    "\n",
    "plt.tight_layout()\n",
    "subplots_adjust(hspace=0.015)"
   ]
  },
  {
   "cell_type": "code",
   "execution_count": 202,
   "metadata": {
    "scrolled": true
   },
   "outputs": [
    {
     "name": "stdout",
     "output_type": "stream",
     "text": [
      "[4] [4] [8] [8] [8] [110880]\n",
      "N_ions 1024\n",
      "j_save 1980\n",
      "dt_j_save_next 5e-07\n",
      "eta 1.5e-20\n",
      "Temp [0.0005]\n",
      "[5.05000000e-07 1.01548937e-03 6.71730325e-02 2.29217981e-06\n",
      " 1.79474787e+01 4.37648391e+00 7.91182553e+01]\n",
      "[4] [4] [8] [8] [8] [110880]\n",
      "N_ions 1024\n",
      "j_save 1980\n",
      "dt_j_save_next 5e-07\n",
      "eta 1.5e-20\n",
      "Temp [0.0005]\n",
      "[5.05000000e-07 6.92704091e-04 1.01630676e-02 3.22024709e-06\n",
      " 1.69195590e+01 3.90546636e+00 7.46999518e+01]\n",
      "[4] [4] [8] [8] [8] [110880]\n",
      "N_ions 1024\n",
      "j_save 1980\n",
      "dt_j_save_next 5e-07\n",
      "eta 1.5e-20\n",
      "Temp [0.0005]\n",
      "[5.05000000e-07 5.72896435e-05 2.57597598e-03 7.79515994e-06\n",
      " 1.74460290e+01 4.46020910e+00 7.61256628e+01]\n",
      "[4] [4] [8] [8] [8] [110880]\n",
      "N_ions 1024\n",
      "j_save 1980\n",
      "dt_j_save_next 5e-07\n",
      "eta 1.5e-20\n",
      "Temp [0.0005]\n",
      "[5.05000000e-07 9.55335681e-04 1.08380207e-02 3.65433681e-06\n",
      " 1.73907886e+01 3.81140621e+00 7.80533896e+01]\n",
      "[4] [4] [8] [8] [8] [110880]\n",
      "N_ions 1024\n",
      "j_save 1980\n",
      "dt_j_save_next 5e-07\n",
      "eta 1.5e-20\n",
      "Temp [0.0005]\n",
      "[5.05000000e-07 2.69208421e-03 2.23136037e-02 1.50363249e-07\n",
      " 1.78736034e+01 4.84998481e+00 7.87458192e+01]\n",
      "[4] [4] [8] [8] [8] [110880]\n",
      "N_ions 1024\n",
      "j_save 1980\n",
      "dt_j_save_next 5e-07\n",
      "eta 1.5e-20\n",
      "Temp [0.0005]\n",
      "[5.05000000e-07 3.97240563e-04 1.38548544e-03 1.01171426e-06\n",
      " 1.78835031e+01 4.13538231e+00 7.87416722e+01]\n"
     ]
    }
   ],
   "source": [
    "# Plot all temp rf relax après refroidissement\n",
    "\n",
    "fig, ax = plt.subplots(3, 2,num='Temp interaction Gmol Ca+',clear=True,sharex=True,sharey=True)\n",
    "fig.set_size_inches(11.69,8.27)\n",
    "# suptitle('Saturation 866')\n",
    "to_plot = 0\n",
    "\n",
    "for l in range(0,2):\n",
    "    for k in range(0,3):\n",
    "        \n",
    "        plot_point = 0\n",
    "        plot_try = to_plot\n",
    "        dirname_hc = str(data0[plot_point][plot_try])+'/'\n",
    "        N_ions, j_save, dt_j_save_next, eta, Temp, save_T =\\\n",
    "        load_Temp_init_bin_Lan(dirname_hc+datainit_hc,flag_print=0)\n",
    "        # Get T and fluo PM\n",
    "        onlyfiles = [f for f in listdir(dirname_hc) if isfile(join(dirname_hc, f)) and \"SimuType\" in f and \".dat\" in f]\n",
    "        ta, te, ti = plot_T_and_PM_Init_Inje_Evol(dirname_hc,sort(onlyfiles)[0].strip('.dat')[4:],'coucou' )\n",
    "        \n",
    "        tt_Lan = linspace(0,dt_j_save_next*j_save,j_save) # dt_j_save_next*100 duration of Langevin run\n",
    "        tt_md = ta[0]\n",
    "        T_aux = te[0]\n",
    "\n",
    "        tt = concatenate((tt_Lan,tt_md))\n",
    "        T_all = concatenate((save_T[:,4:],T_aux),axis=0)\n",
    "\n",
    "        PM = ti[0]\n",
    "        \n",
    "        ax[k,l].semilogy(tt*1e3,T_all[:,0], label='Tx',color='C0')\n",
    "        ax[k,l].semilogy(tt*1e3,T_all[:,1], label='Ty',color='C1')\n",
    "        ax[k,l].semilogy(tt*1e3,T_all[:,2], label='Tz',color='C2')\n",
    "        ax[k,l].vlines(ta[1]*1e3,1e-4,1e4,color='red')\n",
    "        ax[k,l].vlines(ta[2]*1e3,1e-4,1e4,color='red')\n",
    "        time_switch = i_free__fly_Lan*dt\n",
    "        ax[k,l].vlines(time_switch*1e3,1e-4,1e4,color='blue')\n",
    "        time_switch = (i_free__fly_Lan+i_laser_fly)*dt\n",
    "        ax[k,l].vlines(time_switch*1e3,1e-4,1e4,color='orange')\n",
    "        time_switch = (i_free__fly_Lan+2*i_laser_fly)*dt\n",
    "        ax[k,l].vlines((time_switch+ta[2]-ta[1])*1e3,1e-4,1e4,color='purple')\n",
    "        ax[k,l].set_yticks([1e-4,1e-2,1,1e2,1e4])\n",
    "        ax[k,l].grid()\n",
    "    #     ax[k].set_ylim(-0.1,0.55)\n",
    "        ax[k,l].xaxis.set_major_locator(matplotlib.ticker.MultipleLocator(base=0.5))\n",
    "        ax[k,l].annotate('try'+str(to_plot), xy=(0.80, 0.99), xycoords='axes fraction', # pts_concerned[to_plot]\n",
    "                size=12, ha='left', va='top',\n",
    "                bbox=dict(boxstyle='round', fc='w'))\n",
    "        to_plot += 1\n",
    "        if to_plot == 6:\n",
    "            break\n",
    "    if to_plot == 6:\n",
    "        break\n",
    "# ax[3].set_xlim(-10,4000)\n",
    "# ax[k,l].set_ylim(2e-4,1e-1)\n",
    "fig.suptitle(dirname_hc[40:49])\n",
    "fig.text(0.56, 0.04, 'time [ms]', ha='center')\n",
    "fig.text(0.04, 0.54, 'T [K]', va='center', rotation='vertical')\n",
    "\n",
    "# fig.suptitle(pt_to_plot[0][:-6],fontsize=10)\n",
    "\n",
    "# fig.text(0.5, 0.01, 'f', ha='center')\n",
    "# fig.text(0.01, 0.5, r'$| FFT(HC(t)) | / N_{sample}$', va='center', rotation='vertical')\n",
    "\n",
    "fig.set_size_inches(11.69,8.27)\n",
    "plt.tight_layout()\n",
    "subplots_adjust(hspace=0.05, wspace = 0.05, bottom = 0.120, left = 0.140, top = 0.92) # hspace=0, top=0.95, left = 0.065, bottom = 0.07\n",
    "# savefig('FFT_lock_oscillo_0_11500.png')"
   ]
  },
  {
   "cell_type": "code",
   "execution_count": 27,
   "metadata": {},
   "outputs": [
    {
     "name": "stdout",
     "output_type": "stream",
     "text": [
      "[5.05000000e-07 2.28687012e-03 1.35036885e-02 3.06969448e-07\n",
      " 1.78312287e+01 3.51932927e+00 7.40049048e+01]\n",
      "[5.05000000e-07 1.94285146e-03 2.42954029e-02 4.62818009e-05\n",
      " 1.76018874e+01 3.61204193e+00 7.63659575e+01]\n",
      "[5.05000000e-07 1.84424710e-04 1.50256642e-02 9.02062378e-05\n",
      " 1.78325688e+01 4.40049629e+00 7.36693518e+01]\n",
      "[5.05000000e-07 6.71361506e-04 9.38661529e-02 2.47417586e-06\n",
      " 1.78838150e+01 3.69519777e+00 7.38199215e+01]\n",
      "[5.05000000e-07 1.06570719e-03 8.68533737e-04 1.08323857e-04\n",
      " 1.73173273e+01 3.97396542e+00 7.31246142e+01]\n",
      "[5.05000000e-07 1.55465301e-04 1.61923536e-02 2.66925370e-06\n",
      " 1.82890136e+01 4.28486244e+00 7.47808802e+01]\n"
     ]
    }
   ],
   "source": [
    "# Plot all fluo rf relax après refroidissement\n",
    "\n",
    "fig, ax = plt.subplots(3, 2,num='Fluo interaction Gmol Ca+',clear=True,sharex=True,sharey=True)\n",
    "fig.set_size_inches(11.69,8.27)\n",
    "# suptitle('Saturation 866')\n",
    "\n",
    "plot_point = 4\n",
    "to_plot = 0\n",
    "for l in range(0,2):\n",
    "    for k in range(0,3):       \n",
    "        \n",
    "        plot_try = to_plot\n",
    "        dirname_hc = str(data0[plot_point][plot_try])+'/'\n",
    "        N_ions, j_save, dt_j_save_next, eta, Temp, save_T =\\\n",
    "        load_Temp_init_bin_Lan(dirname_hc+datainit_hc,0)\n",
    "        # Get T and fluo PM\n",
    "        onlyfiles = [f for f in listdir(dirname_hc) if isfile(join(dirname_hc, f)) and \"SimuType\" in f and \".dat\" in f]\n",
    "        ta, te, ti = plot_T_and_PM_Init_Inje_Evol(dirname_hc,sort(onlyfiles)[0].strip('.dat')[4:],'coucou' )\n",
    "        \n",
    "        tt_Lan = linspace(0,dt_j_save_next*j_save,j_save) # dt_j_save_next*100 duration of Langevin run\n",
    "        tt_md = ta[0]\n",
    "        T_aux = te[0]\n",
    "\n",
    "        tt = concatenate((tt_Lan,tt_md))\n",
    "        T_all = concatenate((save_T[:,4:],T_aux),axis=0)\n",
    "\n",
    "        PM = ti[0]\n",
    "        \n",
    "        ax[k,l].plot(tt_md*1e3,PM, label='Tx',color='C0')\n",
    "        ax[k,l].vlines(ta[1]*1e3,1e-4,75,color='red')\n",
    "        ax[k,l].vlines(ta[2]*1e3,1e-4,75,color='red')\n",
    "        time_switch = i_free__fly_Lan*dt\n",
    "        ax[k,l].vlines(time_switch*1e3,1e-4,75,color='blue')\n",
    "        time_switch = (i_free__fly_Lan+i_laser_fly)*dt\n",
    "        ax[k,l].vlines(time_switch*1e3,1e-4,75,color='orange')\n",
    "        time_switch = (i_free__fly_Lan+2*i_laser_fly)*dt\n",
    "        ax[k,l].vlines((time_switch+ta[2]-ta[1])*1e3,1e-4,75,color='purple')\n",
    "        ax[k,l].grid()\n",
    "    #     ax[k].set_ylim(-0.1,0.55)\n",
    "        ax[k,l].xaxis.set_major_locator(matplotlib.ticker.MultipleLocator(base=0.5))\n",
    "        ax[k,l].annotate('try'+str(to_plot), xy=(0.80, 0.99), xycoords='axes fraction', # pts_concerned[to_plot]\n",
    "                size=12, ha='left', va='top',\n",
    "                bbox=dict(boxstyle='round', fc='w'))\n",
    "        to_plot += 1\n",
    "        if to_plot == 6:\n",
    "            break\n",
    "    if to_plot == 6:\n",
    "        break\n",
    "# ax[3].set_xlim(-10,4000)\n",
    "# ax[k,l].set_ylim(2e-4,1e-1)\n",
    "fig.suptitle(dirname_hc[40:49])\n",
    "fig.text(0.56, 0.04, 'time [ms]', ha='center')\n",
    "fig.text(0.04, 0.54, 'T [K]', va='center', rotation='vertical')\n",
    "\n",
    "# fig.suptitle(pt_to_plot[0][:-6],fontsize=10)\n",
    "\n",
    "# fig.text(0.5, 0.01, 'f', ha='center')\n",
    "# fig.text(0.01, 0.5, r'$| FFT(HC(t)) | / N_{sample}$', va='center', rotation='vertical')\n",
    "\n",
    "fig.set_size_inches(11.69,8.27)\n",
    "plt.tight_layout()\n",
    "subplots_adjust(hspace=0.05, wspace = 0.05, bottom = 0.120, left = 0.140, top = 0.92) # hspace=0, top=0.95, left = 0.065, bottom = 0.07\n",
    "# savefig('FFT_lock_oscillo_0_11500.png')"
   ]
  },
  {
   "cell_type": "code",
   "execution_count": null,
   "metadata": {},
   "outputs": [],
   "source": []
  },
  {
   "cell_type": "code",
   "execution_count": null,
   "metadata": {},
   "outputs": [],
   "source": []
  },
  {
   "cell_type": "code",
   "execution_count": null,
   "metadata": {},
   "outputs": [],
   "source": [
    "# plot ion cloud XYZ\n",
    "\n",
    "print(plot_subdir)\n",
    "onlyfiles = [f for f in listdir(plot_subdir) if isfile(join(plot_subdir, f)) and not \"xva\" in f and \".dat\" in f]\n",
    "file_name = '{}/xva{}'.format(plot_subdir,sort(onlyfiles)[0].strip('.dat')[4:])\n",
    "plot_XYZ(file_name,fig_name='XYZ_point'+str(plot_point)+'_try'+str(plot_try),fig_title='XYZ')"
   ]
  }
 ],
 "metadata": {
  "kernelspec": {
   "display_name": "Python 3",
   "language": "python",
   "name": "python3"
  },
  "language_info": {
   "codemirror_mode": {
    "name": "ipython",
    "version": 3
   },
   "file_extension": ".py",
   "mimetype": "text/x-python",
   "name": "python",
   "nbconvert_exporter": "python",
   "pygments_lexer": "ipython3",
   "version": "3.7.0"
  }
 },
 "nbformat": 4,
 "nbformat_minor": 2
}
