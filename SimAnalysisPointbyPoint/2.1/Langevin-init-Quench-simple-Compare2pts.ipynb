{
 "cells": [
  {
   "cell_type": "code",
   "execution_count": 1,
   "metadata": {},
   "outputs": [],
   "source": [
    "###########################################################\n",
    "#                                                         #\n",
    "#               TRAITEMENT SIMUS FORTRAN                  #\n",
    "#                     STATISTIQUES                        #\n",
    "#                                                         #\n",
    "#                         avec                            #\n",
    "#                   - lecture arborescence                #\n",
    "#                  analyse                                #\n",
    "#                   - Delta Fluo                          #\n",
    "#                   - Delta Energy GMol                   #\n",
    "#                   - R/L Ca+                             #\n",
    "#                   - distance inter ionique              #\n",
    "#                   - trajectoire GMol                    #\n",
    "#                                                         #\n",
    "#                          02/2020     Adrien Poindron    #\n",
    "###########################################################"
   ]
  },
  {
   "cell_type": "markdown",
   "metadata": {},
   "source": [
    "# Imports"
   ]
  },
  {
   "cell_type": "code",
   "execution_count": 1,
   "metadata": {},
   "outputs": [],
   "source": [
    "# %pylab\n",
    "\n",
    "import numpy\n",
    "import matplotlib\n",
    "from matplotlib import pylab, mlab, pyplot\n",
    "from mpl_toolkits.mplot3d import Axes3D\n",
    "np = numpy\n",
    "plt = pyplot\n",
    "\n",
    "from pylab import *\n",
    "from numpy import *"
   ]
  },
  {
   "cell_type": "code",
   "execution_count": 2,
   "metadata": {},
   "outputs": [],
   "source": [
    "import os\n",
    "from os import listdir\n",
    "from os.path import isfile, join\n",
    "\n",
    "import tkinter as tk\n",
    "from tkinter import filedialog\n",
    "%matplotlib qt\n",
    "\n",
    "from pathlib import Path"
   ]
  },
  {
   "cell_type": "code",
   "execution_count": 3,
   "metadata": {},
   "outputs": [],
   "source": [
    "from natsort import natsorted   # natural sort marche de ouf\n",
    "import re                       # find '/' in strings\n",
    "import timeit\n",
    "cm = pylab.get_cmap('summer')   # colormap par défaut color=cm(k/len(array))"
   ]
  },
  {
   "cell_type": "code",
   "execution_count": 62,
   "metadata": {},
   "outputs": [],
   "source": [
    "# Fonctions persos de Jofre et Adrien\n",
    "\n",
    "# %run function_jofre.ipy\n",
    "%run ../../Functions/1.2/data_fct_Adrien_point_by_point\n",
    "\n",
    "matplotlib.rcParams.update({'font.size': 21})"
   ]
  },
  {
   "cell_type": "code",
   "execution_count": 5,
   "metadata": {},
   "outputs": [
    {
     "name": "stdout",
     "output_type": "stream",
     "text": [
      "$\\kappa_{simion}$ = 0.270471\n"
     ]
    }
   ],
   "source": [
    "# Constantes de la physique\n",
    "# ABSOLUMENT RECHARGER APRÈS AVOIR EXECUTÉ LES CASES D'IMPORT AU DESSUS\n",
    "\n",
    "C_e = 1.602e-19        # Coulomb\n",
    "kb = 1.38064852*1e-23  # Boltzman\n",
    "m_Ca = 40.078*1.66054e-27 # masse Ca 40.078\n",
    "m_GM = 1e6*1.66054e-27 # la masse de la GMol\n",
    "eps0 = 8.854187*1e-12  # permittivité électrique du vide\n",
    "\n",
    "r0 = 2.5e-3 # 2.5e-3   # rayon piège Ca+\n",
    "d0 = 4e-3/2            # longueur piège Ca+\n",
    "\n",
    "Omega = 2.05e6*2*pi # 2.047e6\n",
    "\n",
    "bk = 4 # nombre de barreaux par groupe (2 -> 4-pole , 4 -> 8-pole ...)\n",
    "\n",
    "mkappa = 0.23          # écrantage piège réel GiantMol\n",
    "wzLC = (2*pi*90806.9982303)**2\n",
    "kappa_simion = m_Ca*d0**2*wzLC/(2*C_e)\n",
    "print('%s = %f' % ('$\\kappa_{simion}$',kappa_simion) )\n",
    "\n",
    "zeta = kappa_simion*r0**2/d0**2"
   ]
  },
  {
   "cell_type": "markdown",
   "metadata": {},
   "source": [
    "# Sélection fichier"
   ]
  },
  {
   "cell_type": "code",
   "execution_count": 144,
   "metadata": {
    "scrolled": true
   },
   "outputs": [
    {
     "name": "stdout",
     "output_type": "stream",
     "text": [
      "> Répertoire : /home/adrian/RemoteFS/Rivendel/20200922/DC01_RF21/Try00\n",
      "> Filename : Temp_SimuTypeQ_N01024_Vrf0045_Udc0.1000D+01V_D1.0_S1.0RFG.dat\n",
      "> myslashpos | [0, 5, 12, 21, 30, 39, 49]\n",
      "> slashcond | 5\n",
      "Points deleted because they were not complete []   0 pt(s)\n",
      "Total number of data directories 22\n"
     ]
    }
   ],
   "source": [
    "## GUI for data loading\n",
    "# Select one data file all the way down to the directories\n",
    "# SELECT Temp_SimuTypeQ_N ... .dat\n",
    "\n",
    "file_cfg, slash_cfg, all_subdir = load_gui(filter_nocomplete=1)\n",
    "\n",
    "file_path = file_cfg[0]\n",
    "dir_path = file_cfg[1]\n",
    "work_rep = file_cfg[2]\n",
    "filename = file_cfg[3]\n",
    "\n",
    "myslashpos = slash_cfg[0]\n",
    "slashcond = slash_cfg[1]"
   ]
  },
  {
   "cell_type": "code",
   "execution_count": 145,
   "metadata": {
    "scrolled": true
   },
   "outputs": [
    {
     "name": "stdout",
     "output_type": "stream",
     "text": [
      "['DC01_RF21', 'DC03_RF10']\n",
      "000 > DC01_RF21\n",
      "001 > DC03_RF10\n",
      "> condition names ['DC', 'RF']\n",
      "> number of points 2\n",
      "> N_ions = 1024\n",
      "> e_GMol = 50\n"
     ]
    }
   ],
   "source": [
    "## Condition for data\n",
    "points_and_coord, condition_parameters = simu_conditions(all_subdir, myslashpos, slashcond, filename)"
   ]
  },
  {
   "cell_type": "code",
   "execution_count": 146,
   "metadata": {},
   "outputs": [
    {
     "name": "stdout",
     "output_type": "stream",
     "text": [
      "> Points | 2\n",
      "> Simulations pour chaque point | ['Try00', 'Try01', 'Try02', 'Try03', 'Try04', 'Try05', 'Try06', 'Try07', 'Try08', 'Try09', 'Try10']\n",
      "Hello\n",
      "Point n° 0\n",
      "00 - 00  >  /home/adrian/RemoteFS/Rivendel/20200922/DC01_RF21/Try00/Temp_SimuTypeQ_N01024_Vrf0045_Udc0.1000D+01V_D1.0_S1.0RFG\n",
      "00 - 01  >  /home/adrian/RemoteFS/Rivendel/20200922/DC01_RF21/Try01/Temp_SimuTypeQ_N01024_Vrf0045_Udc0.1000D+01V_D1.0_S1.0RFG\n",
      "00 - 02  >  /home/adrian/RemoteFS/Rivendel/20200922/DC01_RF21/Try02/Temp_SimuTypeQ_N01024_Vrf0045_Udc0.1000D+01V_D1.0_S1.0RFG\n",
      "00 - 03  >  /home/adrian/RemoteFS/Rivendel/20200922/DC01_RF21/Try03/Temp_SimuTypeQ_N01024_Vrf0045_Udc0.1000D+01V_D1.0_S1.0RFG\n",
      "00 - 04  >  /home/adrian/RemoteFS/Rivendel/20200922/DC01_RF21/Try04/Temp_SimuTypeQ_N01024_Vrf0045_Udc0.1000D+01V_D1.0_S1.0RFG\n",
      "00 - 05  >  /home/adrian/RemoteFS/Rivendel/20200922/DC01_RF21/Try05/Temp_SimuTypeQ_N01024_Vrf0045_Udc0.1000D+01V_D1.0_S1.0RFG\n",
      "00 - 06  >  /home/adrian/RemoteFS/Rivendel/20200922/DC01_RF21/Try06/Temp_SimuTypeQ_N01024_Vrf0045_Udc0.1000D+01V_D1.0_S1.0RFG\n",
      "00 - 07  >  /home/adrian/RemoteFS/Rivendel/20200922/DC01_RF21/Try07/Temp_SimuTypeQ_N01024_Vrf0045_Udc0.1000D+01V_D1.0_S1.0RFG\n",
      "00 - 08  >  /home/adrian/RemoteFS/Rivendel/20200922/DC01_RF21/Try08/Temp_SimuTypeQ_N01024_Vrf0045_Udc0.1000D+01V_D1.0_S1.0RFG\n",
      "00 - 09  >  /home/adrian/RemoteFS/Rivendel/20200922/DC01_RF21/Try09/Temp_SimuTypeQ_N01024_Vrf0045_Udc0.1000D+01V_D1.0_S1.0RFG\n",
      "00 - 10  >  /home/adrian/RemoteFS/Rivendel/20200922/DC01_RF21/Try10/Temp_SimuTypeQ_N01024_Vrf0045_Udc0.1000D+01V_D1.0_S1.0RFG\n",
      "Point n° 1\n",
      "01 - 00  >  /home/adrian/RemoteFS/Rivendel/20200922/DC03_RF10/Try00/Temp_SimuTypeQ_N01024_Vrf0064_Udc0.2000D+01V_D1.0_S1.0RFG\n",
      "01 - 01  >  /home/adrian/RemoteFS/Rivendel/20200922/DC03_RF10/Try01/Temp_SimuTypeQ_N01024_Vrf0064_Udc0.2000D+01V_D1.0_S1.0RFG\n",
      "01 - 02  >  /home/adrian/RemoteFS/Rivendel/20200922/DC03_RF10/Try02/Temp_SimuTypeQ_N01024_Vrf0064_Udc0.2000D+01V_D1.0_S1.0RFG\n",
      "01 - 03  >  /home/adrian/RemoteFS/Rivendel/20200922/DC03_RF10/Try03/Temp_SimuTypeQ_N01024_Vrf0064_Udc0.2000D+01V_D1.0_S1.0RFG\n",
      "01 - 04  >  /home/adrian/RemoteFS/Rivendel/20200922/DC03_RF10/Try04/Temp_SimuTypeQ_N01024_Vrf0064_Udc0.2000D+01V_D1.0_S1.0RFG\n",
      "01 - 05  >  /home/adrian/RemoteFS/Rivendel/20200922/DC03_RF10/Try05/Temp_SimuTypeQ_N01024_Vrf0064_Udc0.2000D+01V_D1.0_S1.0RFG\n",
      "01 - 06  >  /home/adrian/RemoteFS/Rivendel/20200922/DC03_RF10/Try06/Temp_SimuTypeQ_N01024_Vrf0064_Udc0.2000D+01V_D1.0_S1.0RFG\n",
      "01 - 07  >  /home/adrian/RemoteFS/Rivendel/20200922/DC03_RF10/Try07/Temp_SimuTypeQ_N01024_Vrf0064_Udc0.2000D+01V_D1.0_S1.0RFG\n",
      "01 - 08  >  /home/adrian/RemoteFS/Rivendel/20200922/DC03_RF10/Try08/Temp_SimuTypeQ_N01024_Vrf0064_Udc0.2000D+01V_D1.0_S1.0RFG\n",
      "01 - 09  >  /home/adrian/RemoteFS/Rivendel/20200922/DC03_RF10/Try09/Temp_SimuTypeQ_N01024_Vrf0064_Udc0.2000D+01V_D1.0_S1.0RFG\n",
      "01 - 10  >  /home/adrian/RemoteFS/Rivendel/20200922/DC03_RF10/Try10/Temp_SimuTypeQ_N01024_Vrf0064_Udc0.2000D+01V_D1.0_S1.0RFG\n",
      "Time elapsed:  22.428891999999962 s\n",
      "Time elapsed:  0.373814866666666 m\n"
     ]
    }
   ],
   "source": [
    "## Data loading (1D arrays)\n",
    "data_name, num_runs, PMandT, Gmol_data, r_LC_clip, dim_nu \\\n",
    "= data_retrieve(all_subdir,points_and_coord,condition_parameters,slash_cfg) # stopping_power\n",
    "\n",
    "data0 = data_name[0]\n",
    "Tvar = PMandT[1]"
   ]
  },
  {
   "cell_type": "markdown",
   "metadata": {},
   "source": [
    "# Plots\n",
    "Nuage d'ions, Temp et Pos"
   ]
  },
  {
   "cell_type": "markdown",
   "metadata": {},
   "source": [
    "## Load temperature from Langevin files"
   ]
  },
  {
   "cell_type": "code",
   "execution_count": 14,
   "metadata": {},
   "outputs": [
    {
     "name": "stdout",
     "output_type": "stream",
     "text": [
      "/home/adrian/RemoteFS/Rivendel/20200922/DC01_RF21/Try00/\n",
      "Temp_3D_Harmo_N1024_T500uK_F0.15D-19Kg_s_5\n"
     ]
    }
   ],
   "source": [
    "## Data loading with hardcode names\n",
    "eta = 1.5e-20\n",
    "\n",
    "plot_point = 0\n",
    "plot_try = 0\n",
    "# str_eta_chiffre    = float(f'{eta[plot_point]:1.2e}'[:4])/10\n",
    "# str_eta_puissance  = int(re.sub('e','D',f'{eta[plot_point]:1.2e}'[6:]))-1\n",
    "# str_eta = f'{str_eta_chiffre:1.2f}'+'D-'+str(str_eta_puissance)\n",
    "str_eta = '0.15D-19'\n",
    "dirname_hc = str(data0[plot_point][plot_try])+'/'\n",
    "# Temp_3D_Harmo_N1024_T500uK_F0.20D-20Kg_s_5\n",
    "datainit_hc = 'Temp_3D_Harmo_N1024_T500uK_F'+str(str_eta)+'Kg_s_5'\n",
    "data0_hc    = '/Temp_SimuTypeQ_N01024_Vrf0070_Udc0.5000D+01V_D1.0_S1.0RFG'\n",
    "data4_hc    = '/Temp_SimuType4_01_N01024_Vrf0070_Udc0.5000D+01V_D1.0_S1.0RFG'\n",
    "data2_hc    = '/Temp_SimuType2_01_N01024_Vrf0070_Udc0.5000D+01V_D1.0_S1.0RFG'\n",
    "\n",
    "print(dirname_hc)\n",
    "print(datainit_hc)"
   ]
  },
  {
   "cell_type": "code",
   "execution_count": 15,
   "metadata": {},
   "outputs": [
    {
     "name": "stdout",
     "output_type": "stream",
     "text": [
      "len save_T [55440]\n",
      "[4] [4] [8] [8] [8] [55440]\n",
      "N_ions 1024\n",
      "j_save 990\n",
      "dt_j_save_next 5e-07\n",
      "eta 1.5e-20\n",
      "Temp [0.0005]\n",
      "[5.05000000e-07 1.85911389e-05 3.62975807e-05 9.34837065e-07\n",
      " 4.41344646e+01 1.30543376e+00 7.10547480e+01]\n"
     ]
    }
   ],
   "source": [
    "N_ions, j_save, dt_j_save_next, eta_float, Temp, save_T =\\\n",
    "load_Temp_init_bin_Lan(dirname_hc+datainit_hc,1)"
   ]
  },
  {
   "cell_type": "code",
   "execution_count": 16,
   "metadata": {},
   "outputs": [
    {
     "name": "stdout",
     "output_type": "stream",
     "text": [
      "['Temp_SimuType2_01_N01024_Vrf0022_Udc0.1000D+01V_D1.0_S1.0RFG50eV.dat'\n",
      " 'Temp_SimuType4_01_N01024_Vrf0022_Udc0.1000D+01V_D1.0_S1.0RFG50eV.dat'\n",
      " 'Temp_SimuTypeQ_N01024_Vrf0022_Udc0.1000D+01V_D1.0_S1.0RFG.dat'\n",
      " 'xva_SimuType4_01_N01024_Vrf0022_Udc0.1000D+01V_D1.0_S1.0RFG50eV.dat']\n"
     ]
    }
   ],
   "source": [
    "# Get T and fluo PM  All SimuType\n",
    "onlyfiles = [f for f in listdir(dirname_hc) if isfile(join(dirname_hc, f)) and \"SimuType\" in f and \".dat\" in f]\n",
    "print(sort(onlyfiles))\n",
    "only_init = [f for f in onlyfiles if \"SimuTypeQ\" in f]\n",
    "ta, te, ti = plot_T_and_PM_InitQ_Inje_Evol(dirname_hc,only_init[0].strip('.dat')[4:],flag_plot=1,fig_name='0',xlim1=(0,11),ylim1=(2e-4,500),ylim2=(2,65))\n",
    "# tt2, T_CM2, T_aux2, PM2\n",
    "# ,xlim1=(3.458,3.582),ylim1=(2e-4,50),ylim2=(19.5,65)"
   ]
  },
  {
   "cell_type": "code",
   "execution_count": 19,
   "metadata": {},
   "outputs": [
    {
     "name": "stdout",
     "output_type": "stream",
     "text": [
      "/home/adrian/RemoteFS/Rivendel/20200922/DC01_RF21/Try00\n",
      "['Langevin_cooling.info'\n",
      " 'xva_SimuType2_01_N01024_Vrf0022_Udc0.1000D+01V_D1.0_S1.0RFG50eV.info'\n",
      " 'xva_SimuType4_01_N01024_Vrf0022_Udc0.1000D+01V_D1.0_S1.0RFG50eV.info'\n",
      " 'xva_SimuTypeQ_N01024_Vrf0022_Udc0.1000D+01V_D1.0_S1.0RFG.info']\n",
      "1.5e-20\n",
      "1000.0\n",
      "8000.0\n",
      "6000.0\n"
     ]
    }
   ],
   "source": [
    "# recover duration for each step of simu (i_free__fly, i_laser_fly ...)\n",
    "\n",
    "address = all_subdir[plot_point]\n",
    "print(address)\n",
    "info_files = sort( [f for f in listdir(address) if isfile(join(address, f)) and \".info\" in f] )\n",
    "print(sort(info_files))\n",
    "\n",
    "\n",
    "tmp_info = loadtxt(data0[plot_point][0]+'/'+info_files[0],encoding ='utf-8',\n",
    "            skiprows=1, usecols=(0),\n",
    "            unpack=True)\n",
    "eta = tmp_info[-2]\n",
    "i_free__fly_Lan = tmp_info[-1]\n",
    "\n",
    "tmp_info = loadtxt(data0[0][0]+'/'+'xva_SimuTypeQ_N01024_Vrf0022_Udc0.1000D+01V_D1.0_S1.0RFG.info',encoding ='utf-8',\n",
    "            skiprows=0, usecols=(0),\n",
    "            unpack=True)\n",
    "i_laser_fly_quench = tmp_info[-2]\n",
    "i_laser_fly = tmp_info[-1]\n",
    "\n",
    "n_dt = 100\n",
    "dt = 1/2e6\n",
    "\n",
    "print(eta)\n",
    "print(i_free__fly_Lan)\n",
    "print(i_laser_fly_quench)\n",
    "print(i_laser_fly)"
   ]
  },
  {
   "cell_type": "code",
   "execution_count": 20,
   "metadata": {},
   "outputs": [],
   "source": [
    "# Plot temperature Langevin + md laser  ALL SimuType\n",
    "\n",
    "tt_Lan = linspace(0,dt_j_save_next*j_save,j_save) # dt_j_save_next*100 duration of Langevin run  ,\n",
    "tt_md = ta[0]\n",
    "T_aux = te[0]\n",
    "\n",
    "tt = concatenate((tt_Lan,tt_md))\n",
    "T_all = concatenate((save_T[:,4:],T_aux),axis=0)\n",
    "\n",
    "PM = ti[0]\n",
    "\n",
    "#fig_name = file_name[-9:] \n",
    "figure('Temperature'); clf()\n",
    "ax1 = subplot(211)\n",
    "ax1.semilogy(tt*1e3,T_all[:,0], label='Tx',color='C0')\n",
    "ax1.semilogy(tt*1e3,T_all[:,1], label='Ty',color='C1')\n",
    "ax1.semilogy(tt*1e3,T_all[:,2], label='Tz',color='C2')\n",
    "#semilogy(tt_Lan*1.e3,save_T[:,0], label='Tx',color='C0')\n",
    "#semilogy(tt_Lan*1.e3,save_T[:,1], label='Ty',color='C1')\n",
    "#semilogy(tt_Lan*1.e3,save_T[:,2], label='Tz',color='C2')\n",
    "ax1.vlines(ta[1]*1e3,1e-4,1e4,color='red')\n",
    "ax1.vlines(ta[2]*1e3,1e-4,1e4,color='red')\n",
    "time_switch = i_free__fly_Lan*dt\n",
    "ax1.vlines(time_switch*1e3,1e-4,1e4,color='blue')\n",
    "time_switch = (i_free__fly_Lan+i_laser_fly)*dt\n",
    "ax1.vlines(time_switch*1e3,1e-4,1e4,color='green')\n",
    "time_switch = (i_free__fly_Lan+i_laser_fly+i_laser_fly_quench)*dt\n",
    "ax1.vlines(time_switch*1e3,1e-4,1e4,color='orange')\n",
    "time_switch = (i_free__fly_Lan+i_laser_fly*2+i_laser_fly_quench)*dt\n",
    "ax1.vlines((time_switch+ta[2]-ta[1])*1e3,1e-4,1e4,color='purple')\n",
    "ax1.grid()\n",
    "# annotate('Laser ON', xy=(0.5,350), xycoords='data',\n",
    "# size=24, ha='left', va='top', color='xkcd:azul',\n",
    "# bbox=dict(boxstyle='round', fc='white',edgecolor='xkcd:azul')\n",
    ",\n",
    "# ~ xlabel('time[ms]')\n",
    "# ~ ylabel('T[K]')\n",
    "plt.setp(ax1.get_xticklabels(),visible=False)\n",
    "\n",
    "ax2 = subplot(212,sharex=ax1)\n",
    "plot(tt_md*1e3,PM, label='Tx')\n",
    "time_switch = i_free__fly_Lan*dt\n",
    "ax2.vlines(time_switch*1e3,1e-4,90,color='blue')\n",
    "time_switch = (i_free__fly_Lan+i_laser_fly)*dt\n",
    "ax2.vlines(time_switch*1e3,1e-4,90,color='green')\n",
    "time_switch = (i_free__fly_Lan+i_laser_fly+i_laser_fly_quench)*dt\n",
    "ax2.vlines(time_switch*1e3,1e-4,90,color='orange')\n",
    "time_switch = (i_free__fly_Lan+i_laser_fly*2+i_laser_fly_quench)*dt\n",
    "ax2.vlines((time_switch+ta[2]-ta[1])*1e3,1e-4,90,color='purple')\n",
    "ax2.grid()\n",
    "# annotate('laser off après injection', xy=(0.5,350), xycoords='data',\n",
    "# size=24, ha='left', va='top', color='xkcd:azul',\n",
    "# bbox=dict(boxstyle='round', fc='white',edgecolor='xkcd:azul'))\n",
    "\n",
    "xlabel('time[ms]')\n",
    "ylabel('Counts')\n",
    "\n",
    "plt.tight_layout()\n",
    "subplots_adjust(hspace=0.015)"
   ]
  },
  {
   "cell_type": "code",
   "execution_count": 21,
   "metadata": {},
   "outputs": [
    {
     "name": "stdout",
     "output_type": "stream",
     "text": [
      "len save_T [55440]\n",
      "[5.05000000e-07 1.85911389e-05 3.62975807e-05 9.34837065e-07\n",
      " 4.41344646e+01 1.30543376e+00 7.10547480e+01]\n",
      "len save_T [55440]\n",
      "[5.05000000e-07 1.63388884e-06 2.58645559e-04 7.36150521e-06\n",
      " 4.91874920e+01 1.86918232e+00 7.49301016e+01]\n"
     ]
    },
    {
     "ename": "IndexError",
     "evalue": "list index out of range",
     "output_type": "error",
     "traceback": [
      "\u001b[0;31m---------------------------------------------------------------------------\u001b[0m",
      "\u001b[0;31mIndexError\u001b[0m                                Traceback (most recent call last)",
      "\u001b[0;32m<ipython-input-21-e8aec37967eb>\u001b[0m in \u001b[0;36m<module>\u001b[0;34m()\u001b[0m\n\u001b[1;32m     16\u001b[0m \u001b[0;31m#             str_eta = f'{str_eta_chiffre:1.2f}'+'D-'+str(str_eta_puissance)\u001b[0m\u001b[0;34m\u001b[0m\u001b[0;34m\u001b[0m\u001b[0;34m\u001b[0m\u001b[0m\n\u001b[1;32m     17\u001b[0m         \u001b[0mstr_eta\u001b[0m \u001b[0;34m=\u001b[0m \u001b[0;34m'0.15D-19'\u001b[0m\u001b[0;34m\u001b[0m\u001b[0;34m\u001b[0m\u001b[0m\n\u001b[0;32m---> 18\u001b[0;31m         \u001b[0mdirname_hc\u001b[0m \u001b[0;34m=\u001b[0m \u001b[0mstr\u001b[0m\u001b[0;34m(\u001b[0m\u001b[0mdata0\u001b[0m\u001b[0;34m[\u001b[0m\u001b[0mplot_point\u001b[0m\u001b[0;34m]\u001b[0m\u001b[0;34m[\u001b[0m\u001b[0mplot_try\u001b[0m\u001b[0;34m]\u001b[0m\u001b[0;34m)\u001b[0m\u001b[0;34m+\u001b[0m\u001b[0;34m'/'\u001b[0m\u001b[0;34m\u001b[0m\u001b[0;34m\u001b[0m\u001b[0m\n\u001b[0m\u001b[1;32m     19\u001b[0m         \u001b[0;31m# Temp_3D_Harmo_N1024_T500uK_F0.20D-20Kg_s_5\u001b[0m\u001b[0;34m\u001b[0m\u001b[0;34m\u001b[0m\u001b[0;34m\u001b[0m\u001b[0m\n\u001b[1;32m     20\u001b[0m         \u001b[0mdatainit_hc\u001b[0m \u001b[0;34m=\u001b[0m \u001b[0;34m'Temp_3D_Harmo_N1024_T500uK_F'\u001b[0m\u001b[0;34m+\u001b[0m\u001b[0mstr\u001b[0m\u001b[0;34m(\u001b[0m\u001b[0mstr_eta\u001b[0m\u001b[0;34m)\u001b[0m\u001b[0;34m+\u001b[0m\u001b[0;34m'Kg_s_5'\u001b[0m\u001b[0;34m\u001b[0m\u001b[0;34m\u001b[0m\u001b[0m\n",
      "\u001b[0;31mIndexError\u001b[0m: list index out of range"
     ]
    }
   ],
   "source": [
    "# Plot all temp for all conditions\n",
    "fname = 'Temp_allpoints'\n",
    "\n",
    "\n",
    "fig, ax = plt.subplots(5, 4,num=fname,clear=True,sharex=True,sharey=True)  # (a,b)\n",
    "fig.set_size_inches(11.69,8.27)\n",
    "# suptitle('Saturation 866')\n",
    "\n",
    "to_plot = 0\n",
    "\n",
    "for l in range(0,4): # b\n",
    "    for k in range(0,5): # a\n",
    "        plot_point = to_plot\n",
    "#             str_eta_chiffre    = float(f'{eta[patate]:1.2e}'[:4])/10\n",
    "#             str_eta_puissance  = int(re.sub('e','D',f'{eta[patate]:1.2e}'[6:]))-1\n",
    "#             str_eta = f'{str_eta_chiffre:1.2f}'+'D-'+str(str_eta_puissance)\n",
    "        str_eta = '0.15D-19'\n",
    "        dirname_hc = str(data0[plot_point][plot_try])+'/'\n",
    "        # Temp_3D_Harmo_N1024_T500uK_F0.20D-20Kg_s_5\n",
    "        datainit_hc = 'Temp_3D_Harmo_N1024_T500uK_F'+str(str_eta)+'Kg_s_5'\n",
    "        N_ions, j_save, dt_j_save_next, eta_float, Temp, save_T = \\\n",
    "        load_Temp_init_bin_Lan(dirname_hc+datainit_hc,flag_print=0)\n",
    "        # Get T and fluo PM\n",
    "        onlyfiles = [f for f in listdir(dirname_hc) if isfile(join(dirname_hc, f)) and 'SimuType' in f and '.dat' in f]\n",
    "        ta, te, ti = plot_T_and_PM_InitQ_Inje_Evol(dirname_hc,sort(onlyfiles)[2].strip('.dat')[4:],flag_plot = 0,fig_name = 'Temp_allpoints')\n",
    "\n",
    "        tt_Lan = linspace(0,dt_j_save_next*j_save,j_save)\n",
    "        tt_md = ta[0]\n",
    "        T_aux = te[0]\n",
    "        \n",
    "#         tt_Lan = linspace(0,dt_j_save_next*j_save,j_save) # dt_j_save_next*100 duration of Langevin run  ,\n",
    "#         tt_md = ta[0]\n",
    "#         T_aux = te[0]\n",
    "#         tt = concatenate((tt_Lan,tt_md))\n",
    "#         T_all = concatenate((save_T[:,4:],T_aux),axis=0)\n",
    "\n",
    "        tt = concatenate((tt_Lan,tt_md))\n",
    "        T_all = concatenate((save_T[:,4:],T_aux),axis=0)\n",
    "\n",
    "        ax[k,l].semilogy(tt*1e3,T_all[:,0], label='Tx',color='C0')\n",
    "        ax[k,l].semilogy(tt*1e3,T_all[:,1], label='Ty',color='C1')\n",
    "        ax[k,l].semilogy(tt*1e3,T_all[:,2], label='Tz',color='C2')\n",
    "#         ax[k,l].vlines(ta[1]*1e3,1e-4,1e4,color='red')\n",
    "#         ax[k,l].vlines(ta[2]*1e3,1e-4,1e4,color='red')\n",
    "# print(i_free__fly_Lan)\n",
    "# print(i_laser_fly_quench)\n",
    "# print(i_laser_fly)\n",
    "        time_switch = i_free__fly_Lan*dt\n",
    "        ax[k,l].vlines(time_switch*1e3,1e-4,1e4,color='blue')\n",
    "        time_switch = (i_free__fly_Lan+i_laser_fly)*dt\n",
    "        ax[k,l].vlines(time_switch*1e3,1e-4,1e4,color='green')\n",
    "        time_switch = (i_free__fly_Lan+i_laser_fly+i_laser_fly_quench)*dt\n",
    "        ax[k,l].vlines(time_switch*1e3,1e-4,1e4,color='orange')\n",
    "        time_switch = (i_free__fly_Lan+i_laser_fly*2+i_laser_fly_quench)*dt\n",
    "        ax[k,l].vlines((time_switch+ta[2]-ta[1])*1e3,1e-4,1e4,color='purple')\n",
    "        ax[k,l].set_yticks([1e-4,1e-2,1,1e2,1e4])\n",
    "        ax[k,l].grid()\n",
    "        #     ax[k].set_ylim(-0.1,0.55)\n",
    "        ax[k,l].xaxis.set_major_locator(matplotlib.ticker.MultipleLocator(base=2))\n",
    "        ax[k,l].annotate(str(list(dict.fromkeys(points_and_coord))[plot_point]), xy=(0.20, 0.99), xycoords='axes fraction', # pts_concerned[to_plot]\n",
    "        size=12, ha='left', va='top',\n",
    "        bbox=dict(boxstyle='round', fc='w'))\n",
    "        to_plot += 1\n",
    "        if to_plot == 19:\n",
    "            break\n",
    "    if to_plot == 19:\n",
    "        break\n",
    "\n",
    "# ax[3].set_xlim(-10,4000)\n",
    "# ax[k,l].set_ylim(2e-4,1e4)\n",
    "fig.suptitle(str(eta) + 'Kg.s-1')\n",
    "fig.text(0.56, 0.04, 'time [ms]', ha='center')\n",
    "fig.text(0.04, 0.54, 'T [K]', va='center', rotation='vertical')\n",
    "\n",
    "# fig.suptitle(pt_to_plot[0][:-6],fontsize=10)\n",
    "\n",
    "# fig.text(0.5, 0.01, 'f', ha='center')\n",
    "# fig.text(0.01, 0.5, r'$| FFT(HC(t)) | / N_{sample}$', va='center', rotation='vertical')\n",
    "\n",
    "fig.set_size_inches(11.69,8.27)\n",
    "plt.tight_layout()\n",
    "subplots_adjust(hspace=0.05, wspace = 0.05, bottom = 0.120, left = 0.140, top = 0.92) # hspace=0, top=0.95, left = 0.065, bottom = 0.07\n",
    "savefig(fname+'.png') "
   ]
  },
  {
   "cell_type": "markdown",
   "metadata": {},
   "source": [
    "# SNR"
   ]
  },
  {
   "cell_type": "code",
   "execution_count": 147,
   "metadata": {},
   "outputs": [
    {
     "name": "stdout",
     "output_type": "stream",
     "text": [
      "k 0\n",
      "... l 0\n",
      "... l 1\n",
      "... l 2\n",
      "... l 3\n",
      "... l 4\n",
      "... l 5\n",
      "... l 6\n",
      "... l 7\n",
      "... l 8\n",
      "... l 9\n",
      "... l 10\n",
      "k 1\n",
      "... l 0\n",
      "... l 1\n",
      "... l 2\n",
      "... l 3\n",
      "... l 4\n",
      "... l 5\n",
      "... l 6\n",
      "... l 7\n",
      "... l 8\n",
      "... l 9\n",
      "... l 10\n",
      "DC01_RF21\n",
      "0.0\n",
      "DC03_RF10\n",
      "1.0\n"
     ]
    }
   ],
   "source": [
    "Gmol_data[2]\n",
    "\n",
    "detect_rate = []\n",
    "detect_threshold = 1\n",
    "\n",
    "for k in range(shape(Gmol_data[2])[0]):\n",
    "    print('k',k)\n",
    "    detect_rate.append(0)\n",
    "    for l,m in enumerate(Gmol_data[2][k]):\n",
    "        print('... l',l)\n",
    "        if m > detect_threshold:\n",
    "            detect_rate[k] += 1\n",
    "    detect_rate[k] = detect_rate[k] / shape(Gmol_data[2])[1]\n",
    "    \n",
    "for n,o in enumerate(list(dict.fromkeys(points_and_coord))):\n",
    "    print(o)\n",
    "    print(detect_rate[n])"
   ]
  },
  {
   "cell_type": "code",
   "execution_count": 121,
   "metadata": {},
   "outputs": [
    {
     "name": "stdout",
     "output_type": "stream",
     "text": [
      "1.0\n"
     ]
    }
   ],
   "source": [
    "# Where is written Detuning and how much it is\n",
    "temp_pos = filename.find('0RFG')\n",
    "Detuning = filename[temp_pos-7:temp_pos-4]\n",
    "print(Detuning)"
   ]
  },
  {
   "cell_type": "code",
   "execution_count": 123,
   "metadata": {},
   "outputs": [],
   "source": [
    "Udc = [0.5, 1, 1.5, 2, 2.5, 3, 3.5, 4, 4.5, 5, 6, 7, 7.5, 3.33, 3.66, 4.5, 5.33, 5.66, 6, 6.5]\n",
    "Urf = [10.77, 16.15, 21.54, 26.92, 32.31, 37.69, 43.08, 48.46, 53.85, 59.23, 64.61,\n",
    "       70.00, 75.38, 80.77, 61.02, 62.82, 66.41, 68.20, 71.79, 55.64, 57.43, 45.69]"
   ]
  },
  {
   "cell_type": "code",
   "execution_count": 124,
   "metadata": {},
   "outputs": [],
   "source": [
    "def discrete_cmap(N, base_cmap=None):\n",
    "    \"\"\"Create an N-bin discrete colormap from the specified input map\"\"\"\n",
    "\n",
    "    # Note that if base_cmap is a string or None, you can simply do\n",
    "    #    return plt.cm.get_cmap(base_cmap, N)\n",
    "    # The following works for string, None, or a colormap instance:\n",
    "\n",
    "    base = plt.cm.get_cmap(base_cmap)\n",
    "    color_list = base(np.linspace(0, 1, N))\n",
    "    cmap_name = base.name + str(N)\n",
    "    return base.from_list(cmap_name, color_list, N)"
   ]
  },
  {
   "cell_type": "code",
   "execution_count": 149,
   "metadata": {},
   "outputs": [],
   "source": [
    "x = []\n",
    "y = []\n",
    "z = []\n",
    "for g,h in enumerate(points_and_coord):\n",
    "    x.append(Udc[int(points_and_coord[h][0])])\n",
    "    y.append(Urf[int(points_and_coord[h][1])])\n",
    "    z.append(detect_rate[g])\n",
    "    \n",
    "fname = '2D_GMol_var_fluo_contour'\n",
    "fig = plt.figure(fname,clear=True)\n",
    "ax = fig.add_subplot(111)\n",
    "title(all_subdir[0][:-15],fontsize=25)\n",
    "\n",
    "im = ax.scatter(x,y,\n",
    "        marker='D',s=400,edgecolor='black',zorder = 1000,\n",
    "        c = z, cmap=discrete_cmap(len(num_runs), 'rainbow'))\n",
    "ax.set_xlabel(r'$U_{DC}$ [V]')\n",
    "ax.set_ylabel(r'$U_{RF}$ [V]')\n",
    "ax.grid()\n",
    "\n",
    "for i, txt in enumerate(points_and_coord):\n",
    "    ax.annotate(str(i), (x[i], y[i]),color='xkcd:black',fontsize=13,\n",
    "                ha='center',va='center',weight='bold',zorder = 1000)\n",
    "    # ax.annotate(str(txt), (x[i], y[i]-0.70),fontsize=9)\n",
    "#    if mean(cool_cloud[i])*13 < 13:\n",
    "#        ax.annotate(f'{mean(cool_cloud[i])*13:.0f}',(x[i]-0.12, y[i]+0.25),fontsize=13,color='red',ha='right')\n",
    "    #ax.annotate(str(txt)+'\\n'+str(i), (x[i], y[i]))\n",
    "\n",
    "cbar = plt.colorbar(im, ax=ax)\n",
    "cbar.ax.set_ylabel(r'Detection rate (SNR > '+str(detect_threshold)+ ', Detuning -'+ str(Detuning) +   ')\\n ('+str(len(num_runs))+' runs for each point)', rotation=90)\n",
    "# ax.grid()\n",
    "ax.xaxis.set_major_locator(matplotlib.ticker.MultipleLocator(base=1))\n",
    "fig.set_size_inches(11.69, 8.27)\n",
    "\n",
    "fig.tight_layout()\n",
    "savefig(fname+'_D'+str(Detuning)+'.png',dpi=300)"
   ]
  },
  {
   "cell_type": "code",
   "execution_count": 29,
   "metadata": {},
   "outputs": [
    {
     "name": "stdout",
     "output_type": "stream",
     "text": [
      "(2, 31)\n"
     ]
    },
    {
     "data": {
      "text/plain": [
       "array([0.00234067, 0.00253973, 0.00416617, 0.00189253, 0.00336996,\n",
       "       0.00519582, 0.00348622, 0.00222442, 0.00439883, 0.00345303,\n",
       "       0.00258973, 0.00242374, 0.00489672, 0.0030379 , 0.00028225,\n",
       "       0.00287192, 0.00180959, 0.00509615, 0.00234075, 0.0009795 ,\n",
       "       0.00170989, 0.00260638, 0.00021585, 0.00083014, 0.00302127,\n",
       "       0.00244018, 0.00385132, 0.00473068, 0.00152722, 0.00481374,\n",
       "       0.00396706])"
      ]
     },
     "execution_count": 29,
     "metadata": {},
     "output_type": "execute_result"
    }
   ],
   "source": [
    "np.savez('20200903_Rivendel',Condition = list(dict.fromkeys(points_and_coord)),Udc=Udc,Urf=Urf,SNR=Gmol_data[2])\n",
    "print(shape(Gmol_data[2]))\n",
    "babebibobu = np.load('/home/adrian/Documents/Programmes/Python/GiantMol/SimAnalysisPointbyPoint/2.1/20200903_Rivendel.npz')\n",
    "babebibobu['SNR'][0]"
   ]
  },
  {
   "cell_type": "code",
   "execution_count": 153,
   "metadata": {},
   "outputs": [
    {
     "data": {
      "text/plain": [
       "{'DC01_RF21': ['01', '21'], 'DC03_RF10': ['03', '10']}"
      ]
     },
     "execution_count": 153,
     "metadata": {},
     "output_type": "execute_result"
    }
   ],
   "source": [
    "points_and_coord"
   ]
  },
  {
   "cell_type": "code",
   "execution_count": 152,
   "metadata": {},
   "outputs": [],
   "source": [
    "x = []\n",
    "y = []\n",
    "z = []\n",
    "for g,h in enumerate(points_and_coord):\n",
    "    x.append(mean(dim_nu[g,:,0])/mean(dim_nu[g,:,2]))\n",
    "    y.append(mean(dim_nu[g,:,0]))\n",
    "    z.append(detect_rate[g])\n",
    "    \n",
    "    \n",
    "fname = '2D_GMol_var_fluo_contour_Rvs_RoverL'\n",
    "fig = plt.figure(fname,clear=True)\n",
    "ax = fig.add_subplot(111)\n",
    "title(all_subdir[0][:-15],fontsize=25)\n",
    "\n",
    "im = ax.scatter(x,y,\n",
    "        marker='D',s=250,edgecolor='black',zorder = 1000,\n",
    "        c = z, cmap=discrete_cmap(len(num_runs), 'rainbow'))\n",
    "ax.set_xlabel(r'mean R/L')\n",
    "ax.set_ylabel(r'mean R [µm]')\n",
    "\n",
    "for i, txt in enumerate(points_and_coord):\n",
    "    ax.annotate(str(i), (x[i], y[i]),color='xkcd:black',fontsize=10,\n",
    "                ha='center',va='center',weight='bold',zorder = 1000)\n",
    "    # ax.annotate(str(txt), (x[i], y[i]-0.70),fontsize=9)\n",
    "#    if mean(cool_cloud[i])*13 < 13:\n",
    "#        ax.annotate(f'{mean(cool_cloud[i])*13:.0f}',(x[i]-0.12, y[i]+0.25),fontsize=13,color='red',ha='right')\n",
    "    #ax.annotate(str(txt)+'\\n'+str(i), (x[i], y[i]))\n",
    "\n",
    "cbar = plt.colorbar(im, ax=ax)\n",
    "cbar.ax.set_ylabel(r'Detection rate (SNR > '+str(detect_threshold)+ ', Detuning -'+ str(Detuning) +   ')\\n ('+str(len(num_runs))+' runs for each point)', rotation=90)\n",
    "# ax.grid()\n",
    "ax.xaxis.set_major_locator(matplotlib.ticker.MultipleLocator(base=0.05))\n",
    "ax.minorticks_on()\n",
    "# ax.grid(which='minor', linestyle=':', linewidth='0.5', color='black')\n",
    "ax.grid(which='major', linestyle='-', linewidth='1', color='k')\n",
    "ax.grid(b=True, which='minor', color='k', linestyle=':')\n",
    "fig.set_size_inches(11.69, 8.27)\n",
    "\n",
    "fig.tight_layout()\n",
    "savefig(fname+'_D'+str(Detuning)+'.png',dpi=300)"
   ]
  },
  {
   "cell_type": "code",
   "execution_count": 67,
   "metadata": {},
   "outputs": [
    {
     "name": "stdout",
     "output_type": "stream",
     "text": [
      "/home/adrian/RemoteFS/Rivendel/20200922/DC01_RF21/Try15/xva_SimuTypeQ_N01024_Vrf0022_Udc0.1000D+01V_D1.0_S1.0RFG\n"
     ]
    }
   ],
   "source": [
    "address = all_subdir[15]\n",
    "# dirname_hc = str(data0[1][0])+'/'\n",
    "onlyfiles = [f for f in listdir(address) if isfile(join(address, f)) and 'SimuType' in f and '.dat' in f]\n",
    "my_file = '{}/xva{}'.format(address,sort(onlyfiles)[2].strip('.dat')[4:])\n",
    "plot_XYZ(my_file,fig_name='2',fig_title='XYZ')\n",
    "print(my_file)"
   ]
  },
  {
   "cell_type": "code",
   "execution_count": 191,
   "metadata": {},
   "outputs": [],
   "source": [
    "x = []\n",
    "y = []\n",
    "z = []\n",
    "for g,h in enumerate(points_and_coord):\n",
    "    x.append(mean(dim_nu[g,:,0])/mean(dim_nu[g,:,2]))\n",
    "    y.append(mean(dim_nu[g,:,2])*1000)\n",
    "    z.append(detect_rate[g])\n",
    "    \n",
    "    \n",
    "fname = '2D_GMol_var_fluo_contour_Lvs_RoverL'\n",
    "fig = plt.figure(fname,clear=True)\n",
    "ax = fig.add_subplot(111)\n",
    "title(all_subdir[0][:-15],fontsize=25)\n",
    "\n",
    "im = ax.scatter(x,y,\n",
    "        marker='D',s=250,edgecolor='black',zorder = 1000,\n",
    "        c = z, cmap=discrete_cmap(len(num_runs), 'rainbow'))\n",
    "ax.set_xlabel(r'mean R/L')\n",
    "ax.set_ylabel(r'mean L [µm]')\n",
    "\n",
    "for i, txt in enumerate(points_and_coord):\n",
    "    ax.annotate(str(i), (x[i], y[i]),color='xkcd:black',fontsize=10,\n",
    "                ha='center',va='center',weight='bold',zorder = 1000)\n",
    "    # ax.annotate(str(txt), (x[i], y[i]-0.70),fontsize=9)\n",
    "#    if mean(cool_cloud[i])*13 < 13:\n",
    "#        ax.annotate(f'{mean(cool_cloud[i])*13:.0f}',(x[i]-0.12, y[i]+0.25),fontsize=13,color='red',ha='right')\n",
    "    #ax.annotate(str(txt)+'\\n'+str(i), (x[i], y[i]))\n",
    "\n",
    "cbar = plt.colorbar(im, ax=ax)\n",
    "cbar.ax.set_ylabel(r'Detection rate (SNR > '+str(detect_threshold)+ ', Detuning -'+ str(Detuning) +   ')\\n ('+str(len(num_runs))+' runs for each point)', rotation=90)\n",
    "# ax.grid()\n",
    "ax.xaxis.set_major_locator(matplotlib.ticker.MultipleLocator(base=0.05))\n",
    "ax.minorticks_on()\n",
    "# ax.grid(which='minor', linestyle=':', linewidth='0.5', color='black')\n",
    "ax.grid(which='major', linestyle='-', linewidth='1', color='k')\n",
    "ax.grid(b=True, which='minor', color='k', linestyle=':')\n",
    "fig.set_size_inches(11.69, 8.27)\n",
    "\n",
    "fig.tight_layout()\n",
    "savefig(fname+'_D'+str(Detuning)+'.png',dpi=300)"
   ]
  },
  {
   "cell_type": "code",
   "execution_count": 198,
   "metadata": {},
   "outputs": [],
   "source": [
    "x = []\n",
    "y = []\n",
    "z = []\n",
    "for g,h in enumerate(points_and_coord):\n",
    "    x.append(mean(dim_nu[g,:,0])*1000)\n",
    "    y.append(mean(dim_nu[g,:,2])*1000)\n",
    "    z.append(detect_rate[g])\n",
    "    \n",
    "    \n",
    "fname = '2D_GMol_var_fluo_contour_RvsL'\n",
    "fig = plt.figure(fname,clear=True)\n",
    "ax = fig.add_subplot(111)\n",
    "title(all_subdir[0][:-15],fontsize=25)\n",
    "\n",
    "im = ax.scatter(x,y,\n",
    "        marker='D',s=250,edgecolor='black',zorder = 1000,\n",
    "        c = z, cmap=discrete_cmap(len(num_runs), 'rainbow'))\n",
    "ax.set_xlabel(r'mean R [µm]')\n",
    "ax.set_ylabel(r'mean L [µm]')\n",
    "\n",
    "for i, txt in enumerate(points_and_coord):\n",
    "    ax.annotate(str(i), (x[i], y[i]),color='xkcd:black',fontsize=10,\n",
    "                ha='center',va='center',weight='bold',zorder = 1000)\n",
    "    # ax.annotate(str(txt), (x[i], y[i]-0.70),fontsize=9)\n",
    "#    if mean(cool_cloud[i])*13 < 13:\n",
    "#        ax.annotate(f'{mean(cool_cloud[i])*13:.0f}',(x[i]-0.12, y[i]+0.25),fontsize=13,color='red',ha='right')\n",
    "    #ax.annotate(str(txt)+'\\n'+str(i), (x[i], y[i]))\n",
    "\n",
    "cbar = plt.colorbar(im, ax=ax)\n",
    "cbar.ax.set_ylabel(r'Detection rate (SNR > '+str(detect_threshold)+ ', Detuning -'+ str(Detuning) +   ')\\n ('+str(len(num_runs))+' runs for each point)', rotation=90)\n",
    "# ax.grid()\n",
    "ax.xaxis.set_major_locator(matplotlib.ticker.MultipleLocator(base=0.01*1000))\n",
    "ax.minorticks_on()\n",
    "# ax.grid(which='minor', linestyle=':', linewidth='0.5', color='black')\n",
    "ax.grid(which='major', linestyle='-', linewidth='1', color='k')\n",
    "ax.grid(b=True, which='minor', color='k', linestyle=':')\n",
    "fig.set_size_inches(11.69, 8.27)\n",
    "\n",
    "fig.tight_layout()\n",
    "savefig(fname+'_D'+str(Detuning)+'.png',dpi=300)"
   ]
  },
  {
   "cell_type": "markdown",
   "metadata": {},
   "source": [
    "# SNR détaillé"
   ]
  },
  {
   "cell_type": "code",
   "execution_count": 123,
   "metadata": {},
   "outputs": [],
   "source": [
    "plt.close('all')"
   ]
  },
  {
   "cell_type": "code",
   "execution_count": 122,
   "metadata": {},
   "outputs": [
    {
     "name": "stdout",
     "output_type": "stream",
     "text": [
      "0 DC01_RF08\n",
      "1 DC01_RF09\n",
      "2 DC01_RF10\n",
      "3 DC01_RF11\n",
      "4 DC03_RF08\n",
      "5 DC03_RF09\n",
      "6 DC03_RF10\n",
      "7 DC03_RF11\n",
      "8 DC05_RF08\n",
      "9 DC05_RF09\n",
      "10 DC05_RF10\n",
      "11 DC05_RF11\n",
      "12 DC07_RF08\n",
      "13 DC07_RF09\n",
      "14 DC07_RF10\n",
      "15 DC07_RF11\n",
      "16 DC09_RF08\n",
      "17 DC09_RF09\n",
      "18 DC09_RF10\n",
      "19 DC09_RF11\n",
      "20 DC11_RF08\n",
      "21 DC11_RF09\n",
      "22 DC11_RF10\n",
      "23 DC11_RF11\n",
      "24 DC18_RF08\n",
      "25 DC18_RF09\n",
      "26 DC18_RF10\n",
      "27 DC18_RF11\n"
     ]
    }
   ],
   "source": [
    "# Recover Ca pos, speed and acc at the end of one specific step\n",
    "# address = simutype6address[20]\n",
    "\n",
    "my_plot = 1\n",
    "for my_plot,ll in enumerate(list(dict.fromkeys(points_and_coord))):\n",
    "    \n",
    "    print(my_plot,ll)\n",
    "    my_base = 1\n",
    "\n",
    "    fname = 'SNR_'+'#'+str(my_plot)+'_'+ll\n",
    "    fig = figure(fname); clf()\n",
    "    fig.suptitle(r'SNR '+ll,color='xkcd:black',fontsize = 18)\n",
    "    ax1 = subplot(111)\n",
    "    my_bins = arange(-0.0,5.25,0.1)\n",
    "    ax1.hist(Gmol_data[2][my_plot],bins=my_bins ,color='C0', edgecolor='black', linewidth=1.2)\n",
    "    ax1.xaxis.set_major_locator(matplotlib.ticker.MultipleLocator(base=my_base))\n",
    "    ax1.grid()\n",
    "    xlabel('SNR')\n",
    "\n",
    "    fig.set_size_inches(11.69, 8.27)\n",
    "    plt.tight_layout()\n",
    "    subplots_adjust(hspace=0.50, top = 0.93)\n",
    "    savefig(fname+'.png') "
   ]
  },
  {
   "cell_type": "markdown",
   "metadata": {},
   "source": [
    "# Distribution des vitesses"
   ]
  },
  {
   "cell_type": "code",
   "execution_count": 162,
   "metadata": {},
   "outputs": [
    {
     "name": "stdout",
     "output_type": "stream",
     "text": [
      "/home/adrian/RemoteFS/Rivendel/20200903/DC01_RF08/Try22/xva_SimuTypeQ_N01024_Vrf0053_Udc0.1000D+01V_D1.0_S1.0RFG\n"
     ]
    }
   ],
   "source": [
    "address = all_subdir[22]\n",
    "# dirname_hc = str(data0[1][0])+'/'\n",
    "onlyfiles = [f for f in listdir(address) if isfile(join(address, f)) and 'SimuType' in f and '.dat' in f]\n",
    "my_file = '{}/xva{}'.format(address,sort(onlyfiles)[2].strip('.dat')[4:])\n",
    "print(my_file)\n",
    "r_LC,v_LC,a_LC,v_LC_avg = load_xyz_init_bin_DP(my_file)  "
   ]
  },
  {
   "cell_type": "code",
   "execution_count": 106,
   "metadata": {},
   "outputs": [
    {
     "name": "stdout",
     "output_type": "stream",
     "text": [
      "/home/adrian/RemoteFS/Hobitton/20200903/DC01_RF11/Try04\n"
     ]
    }
   ],
   "source": [
    "# Recover Ca pos, speed and acc at the end of one specific step\n",
    "# address = simutype6address[20]\n",
    "print(address)\n",
    "onlyfiles = [f for f in listdir(address) if isfile(join(address, f)) and \"xva\" in f and 'SimuTypeQ' in f and 'bin' in f]\n",
    "r_LC, v_LC, a_LC, v_rf_avg = load_xyz_init_bin_DP(address+'/'+onlyfiles[0].strip('.bin'))\n",
    "\n",
    "\n",
    "v_LC_x = v_LC[0]\n",
    "v_LC_y = v_LC[1]\n",
    "v_LC_z = v_LC[2]\n",
    "\n",
    "my_base = 50\n",
    "\n",
    "fig = figure('Terminal speed'); clf()\n",
    "fig.suptitle(r'Atomic speed at the end of SimuType0 - RF - '+str(address[31:]),color='xkcd:black',fontsize = 18)\n",
    "ax1 = subplot(311)\n",
    "my_bins = arange(-250,251,20)\n",
    "ax1.hist(v_LC_x,bins=my_bins ,color='C0', edgecolor='black', linewidth=1.2)\n",
    "ax1.xaxis.set_major_locator(matplotlib.ticker.MultipleLocator(base=my_base))\n",
    "ax1.grid()\n",
    "xlabel('$v_x$ [m/s]')\n",
    "\n",
    "ax2 = subplot(312)\n",
    "ax2.hist(v_LC_y,bins=my_bins ,color='C1', edgecolor='black', linewidth=1.2)\n",
    "ax2.xaxis.set_major_locator(matplotlib.ticker.MultipleLocator(base=my_base))\n",
    "ax2.grid()\n",
    "xlabel('$v_y$ [m/s]')\n",
    "\n",
    "my_base = 0.2\n",
    "ax3 = subplot(313)\n",
    "my_bins = arange(-2,2.1,0.1)\n",
    "# my_bins = arange(-30000,30001,5000)\n",
    "ax3.hist(v_LC_z,bins=my_bins ,color='C2', edgecolor='black', linewidth=1.2)\n",
    "ax3.xaxis.set_major_locator(matplotlib.ticker.MultipleLocator(base=my_base))\n",
    "ax3.grid()\n",
    "xlabel('$v_z$ [m/s]')\n",
    "\n",
    "fig.set_size_inches(11.69, 8.27)\n",
    "plt.tight_layout()\n",
    "subplots_adjust(hspace=0.50, top = 0.93)"
   ]
  },
  {
   "cell_type": "code",
   "execution_count": 107,
   "metadata": {},
   "outputs": [
    {
     "name": "stdout",
     "output_type": "stream",
     "text": [
      "/home/adrian/RemoteFS/Hobitton/20200903/DC01_RF11/Try04\n",
      "/home/adrian/RemoteFS/Hobitton/20200903/DC01_RF11/Try04/xva_SimuTypeQ_N01024_Vrf0070_Udc0.1000D+01V_D1.0_S1.0RFG.bin\n"
     ]
    }
   ],
   "source": [
    "# Recover Ca pos, speed and acc at the end of one specific step\n",
    "# address = simutype6address[20]PleasePl\n",
    "print(address)\n",
    "onlyfiles = [f for f in listdir(address) if isfile(join(address, f)) and \"xva\" in f and 'SimuTypeQ' in f and 'bin' in f]\n",
    "r_LC, v_LC, a_LC, v_rf_avg = load_xyz_init_bin_DP(address+'/'+onlyfiles[0].strip('.bin'))\n",
    "print(address+'/'+onlyfiles[0])\n",
    "\n",
    "\n",
    "v_LC_avg_x = v_rf_avg[0]/100\n",
    "v_LC_avg_y = v_rf_avg[1]/100\n",
    "v_LC_avg_z = v_rf_avg[2]/100\n",
    "\n",
    "my_base = 5\n",
    "\n",
    "fig = figure('Terminal speed 2'); clf()\n",
    "fig.suptitle(r'Atomic speed at the end of SimuType0 - no RF - '+str(address[31:]),color='xkcd:black',fontsize = 18)\n",
    "ax1 = subplot(311)\n",
    "my_bins = arange(-25,26,2)\n",
    "ax1.hist(v_LC_avg_x,bins=my_bins ,color='C0', edgecolor='black', linewidth=1.2)\n",
    "ax1.xaxis.set_major_locator(matplotlib.ticker.MultipleLocator(base=my_base))\n",
    "ax1.grid()\n",
    "xlabel('$v_x$ [m/s]')\n",
    "\n",
    "ax2 = subplot(312)\n",
    "ax2.hist(v_LC_avg_y,bins=my_bins ,color='C1', edgecolor='black', linewidth=1.2)\n",
    "ax2.xaxis.set_major_locator(matplotlib.ticker.MultipleLocator(base=my_base))\n",
    "ax2.grid()\n",
    "xlabel('$v_y$ [m/s]')\n",
    "\n",
    "my_base = 0.2\n",
    "ax3 = subplot(313)\n",
    "my_bins = arange(-2,2.1,0.1)\n",
    "# my_bins = arange(-30000,30001,5000)\n",
    "ax3.hist(v_LC_avg_z,bins=my_bins ,color='C2', edgecolor='black', linewidth=1.2)\n",
    "ax3.xaxis.set_major_locator(matplotlib.ticker.MultipleLocator(base=my_base))\n",
    "ax3.grid()\n",
    "xlabel('$v_z$ [m/s]')\n",
    "\n",
    "fig.set_size_inches(11.69, 8.27)\n",
    "plt.tight_layout()\n",
    "subplots_adjust(hspace=0.50, top = 0.93)"
   ]
  },
  {
   "cell_type": "code",
   "execution_count": 93,
   "metadata": {},
   "outputs": [],
   "source": [
    "m_kb_x_inv_n_ions  = m_Ca/(kb*N_ions*n_dt**2   )\n",
    "T_aux_LC_x = sum(v_rf_avg[0]**2)*m_kb_x_inv_n_ions\n",
    "T_aux_LC_y = sum(v_rf_avg[1]**2)*m_kb_x_inv_n_ions\n",
    "T_aux_LC_z = sum(v_rf_avg[2]**2)*m_kb_x_inv_n_ions\n",
    "\n",
    "fig = figure('Calculated temp'); clf()\n",
    "fig.suptitle(r'Atomic speed at the end of SimuType0 - no RF - '+str(address[31:]),color='xkcd:black',fontsize = 18)\n",
    "\n",
    "my_base = 1\n",
    "my_bins = arange(0,1,0.005)\n",
    "\n",
    "ax1 = subplot(311)\n",
    "ax1.hist(T_aux_LC_x,bins=my_bins ,color='C0', edgecolor='black', linewidth=1.2)\n",
    "ax1.xaxis.set_major_locator(matplotlib.ticker.MultipleLocator(base=my_base))\n",
    "ax1.grid()\n",
    "xlabel('$v_x$ [m/s]')\n",
    "\n",
    "ax2 = subplot(312)\n",
    "ax2.hist(T_aux_LC_y,bins=my_bins ,color='C1', edgecolor='black', linewidth=1.2)\n",
    "ax2.xaxis.set_major_locator(matplotlib.ticker.MultipleLocator(base=my_base))\n",
    "ax2.grid()\n",
    "xlabel('$v_y$ [m/s]')\n",
    "\n",
    "ax3 = subplot(313)\n",
    "# my_bins = arange(-2,2.1,0.1)\n",
    "# my_bins = arange(-30000,30001,5000)\n",
    "ax3.hist(T_aux_LC_z,bins=my_bins ,color='C2', edgecolor='black', linewidth=1.2)\n",
    "ax3.xaxis.set_major_locator(matplotlib.ticker.MultipleLocator(base=my_base))\n",
    "ax3.grid()\n",
    "xlabel('$v_z$ [m/s]')\n",
    "\n",
    "fig.set_size_inches(11.69, 8.27)\n",
    "# plt.tight_layout()\n",
    "subplots_adjust(hspace=0.50, top = 0.93)"
   ]
  },
  {
   "cell_type": "code",
   "execution_count": 132,
   "metadata": {},
   "outputs": [
    {
     "data": {
      "text/plain": [
       "(array([  1,  33,  65,  97, 129, 161, 193, 225, 257, 289, 321, 353, 385,\n",
       "        417, 449, 481, 513, 545, 577, 609, 641, 673, 705, 737, 769, 801,\n",
       "        833, 865, 897, 929, 961, 993]),\n",
       " array([  32,   64,   96,  128,  160,  192,  224,  256,  288,  320,  352,\n",
       "         384,  416,  448,  480,  512,  544,  576,  608,  640,  672,  704,\n",
       "         736,  768,  800,  832,  864,  896,  928,  960,  992, 1024]))"
      ]
     },
     "execution_count": 132,
     "metadata": {},
     "output_type": "execute_result"
    }
   ],
   "source": [
    "n_threads = 32\n",
    "space = N_ions/n_threads\n",
    "linspace(1,1024-space+1,n_threads,dtype='int'),linspace(space,1024,n_threads,dtype='int')"
   ]
  },
  {
   "cell_type": "code",
   "execution_count": 141,
   "metadata": {},
   "outputs": [
    {
     "name": "stdout",
     "output_type": "stream",
     "text": [
      "q1 = 0.5980988171810743\n",
      "fz1_2 fz2_2\n",
      "128420.48845567991 90806.9982303\n",
      "fp1_2,fr1_2\n",
      "433492.7226846005 423875.0165944087\n",
      "omegap2_2\n",
      "3709311989166.0234\n",
      "fp2_2\n",
      "306525.6438053005\n",
      "U2\n",
      "45.544747776225506\n"
     ]
    }
   ],
   "source": [
    "V1 = 2\n",
    "V2 = 1\n",
    "U1 = 64.41\n",
    "q1 = 4*C_e*U1/m_Ca/r0**2/Omega**2\n",
    "print('q1 =',q1)\n",
    "\n",
    "omegaz2_2 = 2*kappa_simion*C_e/m_Ca/d0**2 * V2\n",
    "omegaz1_2 = 2*kappa_simion*C_e/m_Ca/d0**2 * V1\n",
    "\n",
    "omegap1_2 = (q1*Omega/2/sqrt(2))**2\n",
    "# C_e**2*U1**2/m_Ca**2/r0**4/Omega**2 * 2\n",
    "omegar1_2 = omegap1_2 - 0.5*omegaz1_2\n",
    "\n",
    "omegap2_2 = omegaz2_2 * (omegar1_2/omegaz1_2 + 0.5)\n",
    "\n",
    "print('fz1_2','fz2_2')\n",
    "print(sqrt(omegaz1_2)/2/pi,sqrt(omegaz2_2)/2/pi)\n",
    "print('fp1_2,fr1_2')\n",
    "print(sqrt(omegap1_2)/2/pi,sqrt(omegar1_2)/2/pi)\n",
    "\n",
    "print('omegap2_2')\n",
    "print(omegap2_2)\n",
    "print('fp2_2')\n",
    "print(sqrt(omegap2_2)/2/pi)\n",
    "\n",
    "print('U2')\n",
    "U2 = sqrt(omegap2_2/2)*m_Ca*r0**2*Omega/C_e\n",
    "print(U2)"
   ]
  }
 ],
 "metadata": {
  "kernelspec": {
   "display_name": "Python 3",
   "language": "python",
   "name": "python3"
  },
  "language_info": {
   "codemirror_mode": {
    "name": "ipython",
    "version": 3
   },
   "file_extension": ".py",
   "mimetype": "text/x-python",
   "name": "python",
   "nbconvert_exporter": "python",
   "pygments_lexer": "ipython3",
   "version": "3.6.7"
  }
 },
 "nbformat": 4,
 "nbformat_minor": 2
}
