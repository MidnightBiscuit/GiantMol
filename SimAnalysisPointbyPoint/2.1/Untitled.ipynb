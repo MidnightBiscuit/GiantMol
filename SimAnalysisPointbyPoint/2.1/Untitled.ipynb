{
 "cells": [
  {
   "cell_type": "code",
   "execution_count": 1,
   "metadata": {},
   "outputs": [],
   "source": [
    "# %pylab\n",
    "\n",
    "import numpy\n",
    "import matplotlib\n",
    "from matplotlib import pylab, mlab, pyplot\n",
    "from mpl_toolkits.mplot3d import Axes3D\n",
    "np = numpy\n",
    "plt = pyplot\n",
    "\n",
    "from pylab import *\n",
    "from numpy import *"
   ]
  },
  {
   "cell_type": "code",
   "execution_count": 2,
   "metadata": {},
   "outputs": [],
   "source": [
    "import os\n",
    "from os import listdir\n",
    "from os.path import isfile, join\n",
    "\n",
    "import tkinter as tk\n",
    "from tkinter import filedialog\n",
    "%matplotlib qt\n",
    "\n",
    "from pathlib import Path"
   ]
  },
  {
   "cell_type": "code",
   "execution_count": 3,
   "metadata": {},
   "outputs": [],
   "source": [
    "from natsort import natsorted   # natural sort marche de ouf\n",
    "import re                       # find '/' in strings\n",
    "import timeit\n",
    "cm = pylab.get_cmap('summer')   # colormap par défaut color=cm(k/len(array))"
   ]
  },
  {
   "cell_type": "code",
   "execution_count": 4,
   "metadata": {},
   "outputs": [],
   "source": [
    "# Fonctions persos de Jofre et Adrien\n",
    "\n",
    "# %run function_jofre.ipy\n",
    "%run ../../Functions/1.2/data_fct_Adrien_point_by_point\n",
    "\n",
    "matplotlib.rcParams.update({'font.size': 21})"
   ]
  },
  {
   "cell_type": "code",
   "execution_count": 5,
   "metadata": {},
   "outputs": [],
   "source": [
    "my_order = [0,1,2,3,4,5,6,7,8,9,10,11,12,13,14,15,16,17,18,19,24,25,26,27,20,21,22,23]"
   ]
  },
  {
   "cell_type": "code",
   "execution_count": 6,
   "metadata": {},
   "outputs": [
    {
     "name": "stdout",
     "output_type": "stream",
     "text": [
      "[[0.45, 1.0, 1.0, 1.0, 0.0, 1.0, 1.0, 1.0, 0.0, 0.3, 1.0, 1.0, 0.0, 0.05, 0.8, 1.0, 0.0, 0.0, 0.7, 1.0, 0.0, 0.0, 0.2, 1.0, 0.0, 0.0, 0.5, 1.0], [0.9523809523809523, 1.0, 1.0, 1.0, 0.09523809523809523, 1.0, 1.0, 1.0, 0.0, 0.6666666666666666, 1.0, 1.0, 0.0, 0.19047619047619047, 1.0, 1.0, 0.0, 0.09523809523809523, 0.5714285714285714, 1.0, 0.0, 0.0, 0.19047619047619047, 1.0, 0.0, 0.0, 0.9523809523809523, 1.0], [0.63, 1.0, 1.0, 1.0, 0.14, 0.99, 1.0, 1.0, 0.0, 0.3, 0.98, 1.0, 0.0, 0.05, 0.71, 1.0, 0.0, 0.31, 0.34, 1.0, 0.0, 0.0, 0.39, 1.0, 0.0, 0.0, 0.86, 0.92], [0.43333333333333335, 1.0, 1.0, 1.0, 0.03333333333333333, 0.9666666666666667, 1.0, 1.0, 0.0, 0.1, 0.8, 1.0, 0.0, 0.0, 0.4, 1.0, 0.0, 0.16666666666666666, 0.1, 0.9333333333333333, 0.0, 0.0, 0.23333333333333334, 0.9333333333333333, 0.0, 0.03333333333333333, 0.7333333333333333, 0.8333333333333334], [0.0, 0.14285714285714285, 0.5714285714285714, 1.0, 0.0, 0.0, 0.2857142857142857, 0.5714285714285714, 0.0, 0.0, 0.09523809523809523, 0.8571428571428571, 0.0, 0.0, 0.047619047619047616, 0.38095238095238093, 0.0, 0.0, 0.047619047619047616, 0.19047619047619047, 0.0, 0.0, 0.0, 0.3333333333333333, 0.0, 0.0, 0.0, 0.09523809523809523]]\n",
      "{'DC01_RF08': ['01', '08'], 'DC01_RF09': ['01', '09'], 'DC01_RF10': ['01', '10'], 'DC01_RF11': ['01', '11'], 'DC03_RF08': ['03', '08'], 'DC03_RF09': ['03', '09'], 'DC03_RF10': ['03', '10'], 'DC03_RF11': ['03', '11'], 'DC05_RF08': ['05', '08'], 'DC05_RF09': ['05', '09'], 'DC05_RF10': ['05', '10'], 'DC05_RF11': ['05', '11'], 'DC07_RF08': ['07', '08'], 'DC07_RF09': ['07', '09'], 'DC07_RF10': ['07', '10'], 'DC07_RF11': ['07', '11'], 'DC09_RF08': ['09', '08'], 'DC09_RF09': ['09', '09'], 'DC09_RF10': ['09', '10'], 'DC09_RF11': ['09', '11'], 'DC11_RF08': ['11', '08'], 'DC11_RF09': ['11', '09'], 'DC11_RF10': ['11', '10'], 'DC11_RF11': ['11', '11'], 'DC18_RF08': ['18', '08'], 'DC18_RF09': ['18', '09'], 'DC18_RF10': ['18', '10'], 'DC18_RF11': ['18', '11']}\n"
     ]
    }
   ],
   "source": [
    "E0_GMol = [6,10,50,100,1000]\n",
    "detect_rate = []\n",
    "mean_std_deltaEc = []\n",
    "\n",
    "for _,my_E0 in enumerate(E0_GMol):\n",
    "    outfile = 'detection_rate_' + str(my_E0)\n",
    "    # E0_GMol, detect_rate, mean_std_deltaEc, points_and_coord, Udc,Urf\n",
    "    with load(outfile+'eV.npz') as data:    \n",
    "        detect_rate.append(list(data['detect_rate']))\n",
    "        mean_std_deltaEc.append(list(data['mean_std_deltaEc']))\n",
    "        \n",
    "with load(outfile+'eV.npz') as data:    \n",
    "    points_and_coord = data['points_and_coord']\n",
    "print(detect_rate)\n",
    "print(points_and_coord)\n",
    "\n",
    "# detect_rate = reshape(detect_rate,(28,4),order='F')"
   ]
  },
  {
   "cell_type": "code",
   "execution_count": 7,
   "metadata": {},
   "outputs": [],
   "source": [
    "points_and_coord = {'DC01_RF08': ['01', '08'], 'DC01_RF09': ['01', '09'], 'DC01_RF10': ['01', '10'], 'DC01_RF11': ['01', '11'], 'DC03_RF08': ['03', '08'], 'DC03_RF09': ['03', '09'], 'DC03_RF10': ['03', '10'], 'DC03_RF11': ['03', '11'], 'DC05_RF08': ['05', '08'], 'DC05_RF09': ['05', '09'], 'DC05_RF10': ['05', '10'], 'DC05_RF11': ['05', '11'], 'DC07_RF08': ['07', '08'], 'DC07_RF09': ['07', '09'], 'DC07_RF10': ['07', '10'], 'DC07_RF11': ['07', '11'], 'DC09_RF08': ['09', '08'], 'DC09_RF09': ['09', '09'], 'DC09_RF10': ['09', '10'], 'DC09_RF11': ['09', '11'], 'DC11_RF08': ['11', '08'], 'DC11_RF09': ['11', '09'], 'DC11_RF10': ['11', '10'], 'DC11_RF11': ['11', '11'], 'DC18_RF08': ['18', '08'], 'DC18_RF09': ['18', '09'], 'DC18_RF10': ['18', '10'], 'DC18_RF11': ['18', '11']}"
   ]
  },
  {
   "cell_type": "code",
   "execution_count": 190,
   "metadata": {},
   "outputs": [],
   "source": [
    "fname = 'test pos subplot'\n",
    "cm = pylab.get_cmap('rainbow')\n",
    "\n",
    "fig, ax = plt.subplots(4, 7,num=fname,clear=True,sharex=True,sharey=True)  # (a,b)\n",
    "fig.set_size_inches(11.69,8.27)\n",
    "for l in range(0,7): # b\n",
    "    for k in range(0,4): # a\n",
    "        ax[3-k,l].annotate('k='+str(k)+'_l='+str(l), xy=(0.02, 0.99), xycoords='axes fraction', # pts_concerned[to_plot]\n",
    "                            size=12, ha='left', va='top',\n",
    "                            bbox=dict(boxstyle='round', fc='C1'))"
   ]
  },
  {
   "cell_type": "code",
   "execution_count": 31,
   "metadata": {},
   "outputs": [
    {
     "name": "stderr",
     "output_type": "stream",
     "text": [
      "/home/adrian/.local/lib/python3.6/site-packages/matplotlib/axes/_base.py:3129: UserWarning: Attempted to set non-positive xlimits for log-scale axis; invalid limits will be ignored.\n",
      "  'Attempted to set non-positive xlimits for log-scale axis; '\n"
     ]
    }
   ],
   "source": [
    "# Plot all temp for all conditions\n",
    "fname = 'detec_efficiency'\n",
    "cm = pylab.get_cmap('rainbow')\n",
    "\n",
    "fig, ax = plt.subplots(4, 7,num=fname,clear=True,sharex=True,sharey=True)  # (a,b)\n",
    "fig.set_size_inches(11.69,8.27)\n",
    "# suptitle('Saturation 866')\n",
    "\n",
    "to_plot = 0\n",
    "my_colors = ['C0','C1','C2','C3','C4']\n",
    "\n",
    "for l in range(0,7): # b\n",
    "    for k in range(0,4): # a\n",
    "        ax[3-k,l].scatter(E0_GMol,asanyarray(detect_rate)[:,my_order[to_plot]],\n",
    "                           c=[0,1,2,3,4],cmap = 'rainbow',marker='D',edgecolor='black')\n",
    "        ax[3-k,l].grid(True, which=\"both\")\n",
    "        ax[3-k,l].annotate(str(list(dict.fromkeys(points_and_coord))[my_order[to_plot]]), xy=(0.02, 0.99), xycoords='axes fraction', # pts_concerned[to_plot]\n",
    "        size=12, ha='left', va='top',\n",
    "        bbox=dict(boxstyle='round', fc='C1'))\n",
    "        to_plot += 1\n",
    "        if to_plot == 28:\n",
    "            break\n",
    "    if to_plot == 28:\n",
    "        break\n",
    "ax[3-k,l].grid(True, which=\"both\", ls=\"-\", color='0.65')\n",
    "ax[3-k,l].yaxis.set_major_locator(matplotlib.ticker.MultipleLocator(base=0.5))\n",
    "ax[3-k,l].set_xlim(0.8,1750)\n",
    "ax[3-k,l].set_ylim(-0.1,1.35)\n",
    "\n",
    "ax[3-k,l].set_xscale('log')\n",
    "fig.suptitle('Detec_efficiency vs. E0, for each condition')\n",
    "fig.text(0.56, 0.04, 'E0 [eV]', ha='center')\n",
    "fig.text(0.04, 0.54, 'detction rate [%]', va='center', rotation='vertical')\n",
    "\n",
    "\n",
    "# fig.text(0.5, 0.01, 'f', ha='center')\n",
    "# fig.text(0.01, 0.5, r'$| FFT(HC(t)) | / N_{sample}$', va='center', rotation='vertical')\n",
    "\n",
    "fig.set_size_inches(11.69,8.27)\n",
    "plt.tight_layout()\n",
    "subplots_adjust(hspace=0.05, wspace = 0.05, bottom = 0.120, left = 0.140, top = 0.92) # hspace=0, top=0.95, left = 0.065, bottom = 0.07\n",
    "savefig(fname+'.png') "
   ]
  },
  {
   "cell_type": "code",
   "execution_count": 11,
   "metadata": {},
   "outputs": [
    {
     "name": "stderr",
     "output_type": "stream",
     "text": [
      "/home/adrian/.local/lib/python3.6/site-packages/matplotlib/axes/_base.py:3129: UserWarning: Attempted to set non-positive xlimits for log-scale axis; invalid limits will be ignored.\n",
      "  'Attempted to set non-positive xlimits for log-scale axis; '\n"
     ]
    }
   ],
   "source": [
    "# Plot all temp for all conditions\n",
    "fname = 'delta_EGMol'\n",
    "cm = pylab.get_cmap('rainbow')\n",
    "\n",
    "fig, ax = plt.subplots(4, 7,num=fname,clear=True,sharex=True,sharey=True)  # (a,b)\n",
    "fig.set_size_inches(11.69,8.27)\n",
    "# suptitle('Saturation 866')\n",
    "\n",
    "to_plot = 0\n",
    "\n",
    "for l in range(0,7): # b\n",
    "    for k in range(0,4): # a\n",
    "        ax[3-k,l].errorbar(E0_GMol,multiply(asanyarray(mean_std_deltaEc)[:,my_order[to_plot],2],1000),\n",
    "                           color='C1',marker='D',markeredgecolor='black',linestyle='--')\n",
    "        ax[3-k,l].grid(True, which=\"both\")\n",
    "        plt.xscale('log')\n",
    "        ax[3-k,l].annotate(str(list(dict.fromkeys(points_and_coord))[my_order[to_plot]]), xy=(0.02, 0.99), xycoords='axes fraction', # pts_concerned[to_plot]\n",
    "        size=12, ha='left', va='top',\n",
    "        bbox=dict(boxstyle='round', fc='C1'))\n",
    "        to_plot += 1\n",
    "        if to_plot == 28:\n",
    "            break\n",
    "    if to_plot == 28:\n",
    "        break\n",
    "ax[3-k,l].grid(True, which=\"both\", ls=\"-\", color='0.65')\n",
    "ax[3-k,l].yaxis.set_major_locator(matplotlib.ticker.MultipleLocator(base=10))\n",
    "ax[3-k,l].set_xlim(0.8,1900)\n",
    "ax[3-k,l].set_ylim(-58,12.5)\n",
    "fig.suptitle('Delta_EGmol vs. E0, for each condition only SNR>1')\n",
    "fig.text(0.56, 0.04, 'E0 [eV]', ha='center')\n",
    "fig.text(0.04, 0.54, 'delta_EGMol [meV]', va='center', rotation='vertical')\n",
    "\n",
    "\n",
    "# fig.text(0.5, 0.01, 'f', ha='center')\n",
    "# fig.text(0.01, 0.5, r'$| FFT(HC(t)) | / N_{sample}$', va='center', rotation='vertical')\n",
    "\n",
    "fig.set_size_inches(11.69,8.27)\n",
    "plt.tight_layout()\n",
    "subplots_adjust(hspace=0.05, wspace = 0.05, bottom = 0.120, left = 0.140, top = 0.92) # hspace=0, top=0.95, left = 0.065, bottom = 0.07\n",
    "savefig(fname+'.png') "
   ]
  },
  {
   "cell_type": "code",
   "execution_count": 13,
   "metadata": {},
   "outputs": [
    {
     "name": "stderr",
     "output_type": "stream",
     "text": [
      "/home/adrian/.local/lib/python3.6/site-packages/matplotlib/axes/_base.py:3129: UserWarning: Attempted to set non-positive xlimits for log-scale axis; invalid limits will be ignored.\n",
      "  'Attempted to set non-positive xlimits for log-scale axis; '\n"
     ]
    }
   ],
   "source": [
    "# Plot all temp for all conditions\n",
    "fname = 'delta_EGMol_allcases'\n",
    "cm = pylab.get_cmap('rainbow')\n",
    "\n",
    "fig, ax = plt.subplots(4, 7,num=fname,clear=True,sharex=True,sharey=True)  # (a,b)\n",
    "fig.set_size_inches(11.69,8.27)\n",
    "# suptitle('Saturation 866')\n",
    "\n",
    "to_plot = 0\n",
    "\n",
    "for l in range(0,7): # b\n",
    "    for k in range(0,4): # a\n",
    "        ax[3-k,l].errorbar(E0_GMol,multiply(asanyarray(mean_std_deltaEc)[:,my_order[to_plot],0],1000),\n",
    "                           color='C1',marker='D',markeredgecolor='black',linestyle='--')\n",
    "        ax[3-k,l].grid(True, which=\"both\")\n",
    "        plt.xscale('log')\n",
    "        ax[3-k,l].annotate(str(list(dict.fromkeys(points_and_coord))[my_order[to_plot]]), xy=(0.02, 0.99), xycoords='axes fraction', # pts_concerned[to_plot]\n",
    "        size=12, ha='left', va='top',\n",
    "        bbox=dict(boxstyle='round', fc='C1'))\n",
    "        to_plot += 1\n",
    "        if to_plot == 28:\n",
    "            break\n",
    "    if to_plot == 28:\n",
    "        break\n",
    "ax[3-k,l].grid(True, which=\"both\", ls=\"-\", color='0.65')\n",
    "ax[3-k,l].yaxis.set_major_locator(matplotlib.ticker.MultipleLocator(base=15))\n",
    "ax[3-k,l].set_xlim(3,1900)\n",
    "ax[3-k,l].set_ylim(-47,12.5)\n",
    "fig.suptitle('Delta_EGmol vs. E0, for each condition')\n",
    "fig.text(0.56, 0.04, 'E0 [eV]', ha='center')\n",
    "fig.text(0.04, 0.54, 'delta_EGMol [meV]', va='center', rotation='vertical')\n",
    "\n",
    "\n",
    "# fig.text(0.5, 0.01, 'f', ha='center')\n",
    "# fig.text(0.01, 0.5, r'$| FFT(HC(t)) | / N_{sample}$', va='center', rotation='vertical')\n",
    "\n",
    "fig.set_size_inches(11.69,8.27)\n",
    "plt.tight_layout()\n",
    "subplots_adjust(hspace=0.05, wspace = 0.05, bottom = 0.120, left = 0.140, top = 0.92) # hspace=0, top=0.95, left = 0.065, bottom = 0.07\n",
    "savefig(fname+'.png') "
   ]
  }
 ],
 "metadata": {
  "kernelspec": {
   "display_name": "Python 3",
   "language": "python",
   "name": "python3"
  },
  "language_info": {
   "codemirror_mode": {
    "name": "ipython",
    "version": 3
   },
   "file_extension": ".py",
   "mimetype": "text/x-python",
   "name": "python",
   "nbconvert_exporter": "python",
   "pygments_lexer": "ipython3",
   "version": "3.6.7"
  }
 },
 "nbformat": 4,
 "nbformat_minor": 2
}
