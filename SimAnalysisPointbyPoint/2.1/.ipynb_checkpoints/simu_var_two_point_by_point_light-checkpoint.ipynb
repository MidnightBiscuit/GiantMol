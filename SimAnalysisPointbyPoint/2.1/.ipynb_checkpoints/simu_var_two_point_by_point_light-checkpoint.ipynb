{
 "cells": [
  {
   "cell_type": "code",
   "execution_count": 1,
   "metadata": {},
   "outputs": [],
   "source": [
    "###########################################################\n",
    "#                                                         #\n",
    "#               TRAITEMENT SIMUS FORTRAN                  #\n",
    "#                     STATISTIQUES                        #\n",
    "#                                                         #\n",
    "#                         avec                            #\n",
    "#                   - lecture arborescence                #\n",
    "#                  analyse                                #\n",
    "#                   - Delta Fluo                          #\n",
    "#                   - Delta Energy GMol                   #\n",
    "#                   - R/L Ca+                             #\n",
    "#                   - distance inter ionique              #\n",
    "#                   - trajectoire GMol                    #\n",
    "#                                                         #\n",
    "#                          02/2020     Adrien Poindron    #\n",
    "###########################################################"
   ]
  },
  {
   "cell_type": "code",
   "execution_count": 9,
   "metadata": {},
   "outputs": [
    {
     "data": {
      "text/html": [
       "<style>.container { width:95% !important; }</style>"
      ],
      "text/plain": [
       "<IPython.core.display.HTML object>"
      ]
     },
     "metadata": {},
     "output_type": "display_data"
    }
   ],
   "source": [
    "from IPython.core.display import display, HTML\n",
    "display(HTML(\"<style>.container { width:95% !important; }</style>\"))\n",
    "matplotlib.rcParams['figure.figsize'] = [10.5,7]\n",
    "matplotlib.rcParams.update({'font.size': 25})"
   ]
  },
  {
   "cell_type": "markdown",
   "metadata": {},
   "source": [
    "# Imports"
   ]
  },
  {
   "cell_type": "code",
   "execution_count": 3,
   "metadata": {},
   "outputs": [],
   "source": [
    "# %pylab\n",
    "\n",
    "import numpy\n",
    "import matplotlib\n",
    "from matplotlib.patches import Ellipse\n",
    "from matplotlib import pylab, mlab, pyplot\n",
    "from mpl_toolkits.mplot3d import Axes3D\n",
    "np = numpy\n",
    "plt = pyplot\n",
    "\n",
    "matplotlib.rcParams.update({'font.size': 21})\n",
    "# matplotlib.rcParams[\"figure.dpi\"] = 300\n",
    "\n",
    "from IPython.display import display\n",
    "from IPython.core.pylabtools import figsize, getfigs\n",
    "\n",
    "from pylab import *\n",
    "from numpy import *\n",
    "\n",
    "from scipy.optimize import curve_fit"
   ]
  },
  {
   "cell_type": "code",
   "execution_count": 4,
   "metadata": {},
   "outputs": [],
   "source": [
    "import os\n",
    "from os import listdir\n",
    "from os.path import isfile, join\n",
    "\n",
    "import tkinter as tk\n",
    "from tkinter import filedialog\n",
    "%matplotlib qt\n",
    "\n",
    "import matplotlib.patches as patches\n",
    "\n",
    "from pathlib import Path\n",
    "from matplotlib import gridspec\n",
    "from mpl_toolkits.axes_grid1.inset_locator import zoomed_inset_axes\n",
    "from mpl_toolkits.axes_grid1.inset_locator import mark_inset"
   ]
  },
  {
   "cell_type": "code",
   "execution_count": 5,
   "metadata": {},
   "outputs": [],
   "source": [
    "from natsort import natsorted   # natural sort marche de ouf\n",
    "import re                       # find '/' in strings\n",
    "import timeit\n",
    "cm = pylab.get_cmap('summer')   # colormap par défaut color=cm(k/len(array))"
   ]
  },
  {
   "cell_type": "code",
   "execution_count": 165,
   "metadata": {},
   "outputs": [],
   "source": [
    "# Fonctions persos de Jofre et Adrien\n",
    "\n",
    "# %run function_jofre.ipy\n",
    "%run \"../../Functions/1.2/data_fct_Adrien_point_by_point.py\""
   ]
  },
  {
   "cell_type": "code",
   "execution_count": 8,
   "metadata": {},
   "outputs": [
    {
     "name": "stdout",
     "output_type": "stream",
     "text": [
      "$\\kappa_{simion}$ = 0.270471\n"
     ]
    }
   ],
   "source": [
    "# Constantes de la physique\n",
    "# ABSOLUMENT RECHARGER APRÈS AVOIR EXECUTÉ LES CASES D'IMPORT AU DESSUS\n",
    "\n",
    "C_e = 1.602e-19        # Coulomb\n",
    "kb = 1.38064852*1e-23  # Boltzman\n",
    "m_Ca = 40.078*1.66054e-27 # masse Ca 40.078\n",
    "m_GM = 1e6*1.66054e-27 # la masse de la GMol\n",
    "eps0 = 8.854187*1e-12  # permittivité électrique du vide\n",
    "\n",
    "r0 = 2.5e-3 # 2.5e-3   # rayon piège Ca+\n",
    "d0 = 4e-3/2            # longueur piège Ca+\n",
    "\n",
    "Omega = 2.05e6*2*pi # 2.047e6\n",
    "\n",
    "bk = 4 # nombre de barreaux par groupe (2 -> 4-pole , 4 -> 8-pole ...)\n",
    "\n",
    "mkappa = 0.23          # écrantage piège réel GiantMol\n",
    "wzLC = (2*pi*90806.9982303)**2\n",
    "kappa_simion = m_Ca*d0**2*wzLC/(2*C_e)\n",
    "print('%s = %f' % ('$\\kappa_{simion}$',kappa_simion) )\n",
    "\n",
    "zeta = kappa_simion*r0**2/d0**2"
   ]
  },
  {
   "cell_type": "markdown",
   "metadata": {},
   "source": [
    "# Sélection fichier"
   ]
  },
  {
   "cell_type": "code",
   "execution_count": 10,
   "metadata": {},
   "outputs": [
    {
     "name": "stdout",
     "output_type": "stream",
     "text": [
      "> Répertoire : /home/adrian/Documents/Programmes/Fortran_Jofre/20200131/DC01_RF08/Try00\n",
      "> Filename : Temp_SimuType0_N01024_Vrf0053_Udc0.1000D+01V_D1.0_S1.0RFG.dat\n",
      "> myslashpos | [0, 5, 12, 22, 33, 47, 56, 66]\n",
      "> slashcond | 6\n",
      "Points deleted because they were not complete []   0 pt(s)\n",
      "Total number of data directories 962\n"
     ]
    }
   ],
   "source": [
    "## GUI for data loading\n",
    "# Select one data file all the way down to the directories\n",
    "# Temp_SimuType0_N01024_Vrf0064_Udc0.5000D+00V_D1.0_S1.0RFG.dat\n",
    "\n",
    "file_cfg, slash_cfg, all_subdir = load_gui(filter_nocomplete=1)\n",
    "\n",
    "file_path  = file_cfg[0]\n",
    "dir_path   = file_cfg[1]\n",
    "work_rep   = file_cfg[2]\n",
    "filename   = file_cfg[3]\n",
    "\n",
    "myslashpos = slash_cfg[0]\n",
    "slashcond  = slash_cfg[1]"
   ]
  },
  {
   "cell_type": "code",
   "execution_count": 11,
   "metadata": {
    "scrolled": true
   },
   "outputs": [
    {
     "name": "stdout",
     "output_type": "stream",
     "text": [
      "> condition names ['DC', 'RF']\n",
      "> number of points 74\n",
      "000 > DC01_RF08\n",
      "001 > DC01_RF09\n",
      "002 > DC01_RF10\n",
      "003 > DC01_RF11\n",
      "004 > DC01_RF14\n",
      "005 > DC01_RF15\n",
      "006 > DC01_RF16\n",
      "007 > DC01_RF17\n",
      "008 > DC01_RF18\n",
      "009 > DC01_RF19\n",
      "010 > DC01_RF20\n",
      "011 > DC03_RF08\n",
      "012 > DC03_RF09\n",
      "013 > DC03_RF10\n",
      "014 > DC03_RF11\n",
      "015 > DC03_RF14\n",
      "016 > DC03_RF15\n",
      "017 > DC03_RF16\n",
      "018 > DC03_RF17\n",
      "019 > DC03_RF18\n",
      "020 > DC03_RF19\n",
      "021 > DC03_RF20\n",
      "022 > DC05_RF08\n",
      "023 > DC05_RF09\n",
      "024 > DC05_RF10\n",
      "025 > DC05_RF11\n",
      "026 > DC05_RF14\n",
      "027 > DC05_RF15\n",
      "028 > DC05_RF16\n",
      "029 > DC05_RF17\n",
      "030 > DC05_RF18\n",
      "031 > DC07_RF08\n",
      "032 > DC07_RF09\n",
      "033 > DC07_RF10\n",
      "034 > DC07_RF11\n",
      "035 > DC07_RF14\n",
      "036 > DC07_RF15\n",
      "037 > DC07_RF16\n",
      "038 > DC07_RF17\n",
      "039 > DC07_RF18\n",
      "040 > DC09_RF08\n",
      "041 > DC09_RF09\n",
      "042 > DC09_RF10\n",
      "043 > DC09_RF11\n",
      "044 > DC09_RF14\n",
      "045 > DC09_RF15\n",
      "046 > DC09_RF16\n",
      "047 > DC09_RF17\n",
      "048 > DC09_RF18\n",
      "049 > DC10_RF08\n",
      "050 > DC10_RF09\n",
      "051 > DC10_RF10\n",
      "052 > DC10_RF11\n",
      "053 > DC10_RF14\n",
      "054 > DC10_RF15\n",
      "055 > DC10_RF16\n",
      "056 > DC10_RF17\n",
      "057 > DC10_RF18\n",
      "058 > DC11_RF08\n",
      "059 > DC11_RF09\n",
      "060 > DC11_RF10\n",
      "061 > DC11_RF11\n",
      "062 > DC11_RF14\n",
      "063 > DC11_RF15\n",
      "064 > DC11_RF16\n",
      "065 > DC11_RF17\n",
      "066 > DC11_RF18\n",
      "067 > DC12_RF10\n",
      "068 > DC13_RF10\n",
      "069 > DC14_RF10\n",
      "070 > DC15_RF10\n",
      "071 > DC16_RF10\n",
      "072 > DC17_RF10\n",
      "073 > DC19_RF10\n",
      "> N_ions = 1024\n",
      "> e_GMol = 50\n"
     ]
    }
   ],
   "source": [
    "## Condition for data\n",
    "points_and_coord, condition_parameters = simu_conditions(all_subdir, myslashpos, slashcond, filename)"
   ]
  },
  {
   "cell_type": "code",
   "execution_count": null,
   "metadata": {
    "scrolled": true
   },
   "outputs": [],
   "source": [
    "## Data loading (1D arrays)\n",
    "data_name, num_runs, PMandT, Gmol_data, r_LC_clip, dim_nu \\\n",
    "= data_retrieve(all_subdir, points_and_coord, condition_parameters, slash_cfg) \n",
    "\n",
    "data0 = data_name[0]\n",
    "data2 = data_name[1]\n",
    "data4 = data_name[2]\n",
    "\n",
    "PMvar = PMandT[0]\n",
    "Tvar = PMandT[1]\n",
    "\n",
    "deltaEc = Gmol_data[0]\n",
    "deltaEcRel = Gmol_data[1]\n",
    "t_c = Gmol_data[2]"
   ]
  },
  {
   "cell_type": "markdown",
   "metadata": {},
   "source": [
    "# Analyser un seul point et tous ses essais"
   ]
  },
  {
   "cell_type": "code",
   "execution_count": 150,
   "metadata": {},
   "outputs": [],
   "source": [
    "def load_condition(all_subdir, cond_name, myslashpos, slashcond):\n",
    "    \n",
    "    pt_to_plot = [i for i in all_subdir if cond_name in i]\n",
    "    address = pt_to_plot[0]\n",
    "    onlyfiles = [f for f in listdir(address) if isfile(join(address, f)) and not \"xva\" in f and \".dat\" in f]\n",
    "    fluo_var, GMol_var, cloud_atlas, t_aux, r_LC_clip = load_T_PM_cloud_GMol(all_subdir[0],flag_plot=0)\n",
    "    tt_Inje, T_CM_Inje, T_aux_Inje, PM_Inje = plot_T_and_PM_Inje(address,sort(onlyfiles)[0].strip('.dat'))\n",
    "\n",
    "\n",
    "    shapevar = (len(pt_to_plot),len(cloud_atlas[2]))\n",
    "    print(shapevar)\n",
    "    PMvar = np.zeros(len(pt_to_plot))\n",
    "    Tvar = np.zeros(len(pt_to_plot))\n",
    "    SNR = np.zeros(len(pt_to_plot))\n",
    "    tt = np.zeros(shapevar)\n",
    "    T_aux = np.zeros((len(pt_to_plot),len(cloud_atlas[2]),3))\n",
    "    T_CM = np.zeros((len(pt_to_plot),len(cloud_atlas[2]),3))\n",
    "    PM = np.zeros(shapevar)\n",
    "    \n",
    "    shapevar = (len(pt_to_plot),len(tt_Inje))\n",
    "    tt_Inje    = np.zeros(shapevar)\n",
    "    T_CM_Inje  = np.zeros((len(pt_to_plot),62,3))\n",
    "    T_aux_Inje = np.zeros((len(pt_to_plot),62,3))\n",
    "    PM_Inje    = np.zeros(shapevar)\n",
    "\n",
    "    for k, address in enumerate(pt_to_plot):\n",
    "        fluo_var, GMol_var, cloud_atlas, t_aux, r_LC_clip = load_T_PM_cloud_GMol(address,flag_plot=0)\n",
    "        PMvar[k] = fluo_var[0] ; Tvar[k] = fluo_var[1] ; SNR[k] = fluo_var[2]\n",
    "        tt[k] = cloud_atlas[0] ; T_aux[k] = cloud_atlas[1] ; T_CM[k] = cloud_atlas[2] ; PM[k] = cloud_atlas[3]\n",
    "        \n",
    "        aa, bb, cc, dd = plot_T_and_PM_Inje(address,sort(onlyfiles)[0].strip('.dat'))\n",
    "        tt_Inje[k] = aa;\n",
    "        T_CM_Inje[k] = bb;\n",
    "        T_aux_Inje[k] = cc;\n",
    "        PM_Inje[k] = dd\n",
    "        \n",
    "    fluo_signal = [PM, SNR, PMvar]\n",
    "    temp_signal = [T_aux, T_CM, Tvar]\n",
    "    Inje_signal = [tt_Inje, T_CM_Inje, T_aux_Inje, PM_Inje]\n",
    "        \n",
    "    return fluo_signal, temp_signal, Inje_signal, tt"
   ]
  },
  {
   "cell_type": "code",
   "execution_count": 167,
   "metadata": {},
   "outputs": [
    {
     "name": "stdout",
     "output_type": "stream",
     "text": [
      "(13, 12041)\n"
     ]
    }
   ],
   "source": [
    "# load one condition\n",
    "# plot temperature during SimuType2\n",
    "# compare to full plot SimuType all\n",
    "\n",
    "fluo_signal, temp_signal, Inje_signal, tt = load_condition(all_subdir,'DC10_RF09', myslashpos, slashcond)\n",
    "\n",
    "figure('test SimuType2');clf()\n",
    "semilogy(Inje_signal[0][0]*1000,Inje_signal[2][0],marker='+')\n",
    "grid()\n",
    "tight_layout()\n",
    "\n",
    "address = pt_to_plot[0]\n",
    "onlyfiles = [f for f in listdir(address) if isfile(join(address, f)) and not \"xva\" in f and \".dat\" in f]\n",
    "temps, temperature, fluo = plot_T_and_PM_Init_Inje_Evol(address+'/',sort(onlyfiles)[0].strip('.dat'),1,'test all simu')"
   ]
  },
  {
   "cell_type": "code",
   "execution_count": 20,
   "metadata": {},
   "outputs": [
    {
     "name": "stdout",
     "output_type": "stream",
     "text": [
      "Hello\n",
      "Time elapsed:  2.8138820000000004 s\n",
      "Time elapsed:  0.04689803333333334 m\n"
     ]
    }
   ],
   "source": [
    "# Récupérer les données pour un point\n",
    "\n",
    "# tt                  : temps\n",
    "# PM, SNR             : signal PM temporel, rapport signal/bruit, ci.e fluo/bruitfluo\n",
    "# PMvar, Tvar         : variation de fluo et température entre passage Gmol et fin de simu\n",
    "# deltaEc, deltaEcRel : variation énergie GMol\n",
    "# T_aux, T_CM         : température interne du nuage, température du centre de masse\n",
    "# r_LC, v_LC, a_LC    : position, vitesse, accélération des ions Ca+\n",
    "# r_LC_clip           : même chose mais en dégageant les ions perdus et beaucoup trop loin (hors piège)\n",
    "# dim_nu              : dimensions x, y et z, nuage Ca+ basé sur r_LC_clip\n",
    "\n",
    "myslashpos = slash_cfg[0]\n",
    "slashcond = slash_cfg[1]\n",
    "\n",
    "# determining number of elements on each repetition\n",
    "num_runs = [runs[myslashpos[slashcond+1]+1:] for runs in all_subdir if list(points_and_coord.keys())[0] in runs]\n",
    "num_runs = list(dict.fromkeys(num_runs))\n",
    "\n",
    "cond_name = 'DC01_RF10'\n",
    "pt_to_plot = [i for i in all_subdir if cond_name in i]\n",
    "for k, address in enumerate(pt_to_plot):\n",
    "    onlyfiles = [f for f in listdir(address) if isfile(join(address, f)) and not \"xva\" in f and \".dat\" in f]\n",
    "fluo_var, GMol_var, cloud_atlas, t_aux, r_LC_clip = load_T_PM_cloud_GMol(all_subdir[0],flag_plot=0)\n",
    "        \n",
    "shapevar = (len(pt_to_plot),len(cloud_atlas[2]))\n",
    "PMvar = np.zeros(shapevar)\n",
    "Tvar = np.zeros(shapevar)\n",
    "SNR = np.zeros(shapevar)\n",
    "tt = np.zeros(shapevar)\n",
    "T_aux = np.zeros((len(pt_to_plot),len(cloud_atlas[2]),3))\n",
    "T_CM = np.zeros((len(pt_to_plot),len(cloud_atlas[2]),3))\n",
    "PM = np.zeros(shapevar)\n",
    "        \n",
    "t0 = time.clock()\n",
    "print(\"Hello\")\n",
    "    \n",
    "for k, address in enumerate(pt_to_plot):\n",
    "    fluo_var, GMol_var, cloud_atlas, t_aux, r_LC_clip = load_T_PM_cloud_GMol(address,flag_plot=0)\n",
    "    PMvar[k] = fluo_var[0] ; Tvar[k] = fluo_var[1] ; SNR[k] = fluo_var[2]\n",
    "    tt[k] = cloud_atlas[0] ; T_aux[k] = cloud_atlas[1] ; T_CM[k] = cloud_atlas[2] ; PM[k] = cloud_atlas[3]\n",
    "\n",
    "t1 = time.clock() - t0\n",
    "print(\"Time elapsed: \", t1, 's') # CPU seconds elapsed (floating point)\n",
    "print(\"Time elapsed: \", t1/60, 'm') # CPU seconds elapsed (floating point)"
   ]
  },
  {
   "cell_type": "code",
   "execution_count": 25,
   "metadata": {},
   "outputs": [],
   "source": [
    "# Plot all temperatures rf relax après refroidissement\n",
    "\n",
    "fig, ax = plt.subplots(4, 4,num='Temperature interaction Gmol Ca+',clear=True,sharex=True,sharey=True)\n",
    "fig.set_size_inches(11.69,8.27)\n",
    "# suptitle('Saturation 866')\n",
    "to_plot = 0\n",
    "\n",
    "for l in range(0,4):\n",
    "    for k in range(0,4):\n",
    "        ax[k,l].semilogy(tt[to_plot,:]*1e3,T_aux[to_plot,:,0],'+',mew=1,ms=5)\n",
    "        ax[k,l].semilogy(tt[to_plot,:]*1e3,T_aux[to_plot,:,1],'+',mew=1,ms=5)\n",
    "        ax[k,l].semilogy(tt[to_plot,:]*1e3,T_aux[to_plot,:,2],'+',mew=1,ms=5)\n",
    "        ax[k,l].vlines(t_aux[0]*1e3,1e-4,1e-1,color='red')\n",
    "        ax[k,l].vlines(t_aux[1]*1e3,1e-4,1e-1,color='red')\n",
    "        ax[k,l].set_yticks([1e-4,1e-3,1e-2,1e-1,1,1e2,1e4])\n",
    "        ax[k,l].grid()\n",
    "    #     ax[k].set_ylim(-0.1,0.55)\n",
    "        ax[k,l].xaxis.set_major_locator(matplotlib.ticker.MultipleLocator(base=2))\n",
    "        ax[k,l].annotate('try'+str(to_plot), xy=(0.80, 0.99), xycoords='axes fraction', # pts_concerned[to_plot]\n",
    "                size=12, ha='left', va='top',\n",
    "                bbox=dict(boxstyle='round', fc='w'))\n",
    "        to_plot += 1\n",
    "        if to_plot == 13:\n",
    "            break\n",
    "    if to_plot == 13:\n",
    "        break\n",
    "# ax[3].set_xlim(-10,4000)\n",
    "# ax[k,l].set_ylim(2e-4,1e-1)\n",
    "fig.text(0.56, 0.04, 'time [ms]', ha='center')\n",
    "fig.text(0.04, 0.54, 'T [K]', va='center', rotation='vertical')\n",
    "\n",
    "fig.suptitle(pt_to_plot[0][:-6],fontsize=10)\n",
    "\n",
    "# fig.text(0.5, 0.01, 'f', ha='center')\n",
    "# fig.text(0.01, 0.5, r'$| FFT(HC(t)) | / N_{sample}$', va='center', rotation='vertical')\n",
    "\n",
    "fig.set_size_inches(11.69,8.27)\n",
    "plt.tight_layout()\n",
    "subplots_adjust(hspace=0.05, wspace = 0.05, bottom = 0.120, left = 0.140) # hspace=0, top=0.95, left = 0.065, bottom = 0.07\n",
    "# savefig('FFT_lock_oscillo_0_11500.png')"
   ]
  },
  {
   "cell_type": "code",
   "execution_count": 24,
   "metadata": {},
   "outputs": [
    {
     "ename": "IndexError",
     "evalue": "index 13 is out of bounds for axis 0 with size 13",
     "output_type": "error",
     "traceback": [
      "\u001b[0;31m---------------------------------------------------------------------------\u001b[0m",
      "\u001b[0;31mIndexError\u001b[0m                                Traceback (most recent call last)",
      "\u001b[0;32m<ipython-input-24-1c6a401f2dea>\u001b[0m in \u001b[0;36m<module>\u001b[0;34m()\u001b[0m\n\u001b[1;32m      3\u001b[0m \u001b[0;31m# suptitle('Saturation 866')\u001b[0m\u001b[0;34m\u001b[0m\u001b[0;34m\u001b[0m\u001b[0;34m\u001b[0m\u001b[0m\n\u001b[1;32m      4\u001b[0m \u001b[0;34m\u001b[0m\u001b[0m\n\u001b[0;32m----> 5\u001b[0;31m \u001b[0mplot\u001b[0m\u001b[0;34m(\u001b[0m\u001b[0mtt\u001b[0m\u001b[0;34m[\u001b[0m\u001b[0mto_plot\u001b[0m\u001b[0;34m,\u001b[0m\u001b[0;34m:\u001b[0m\u001b[0;34m]\u001b[0m\u001b[0;34m*\u001b[0m\u001b[0;36m1e3\u001b[0m\u001b[0;34m,\u001b[0m\u001b[0mPM\u001b[0m\u001b[0;34m[\u001b[0m\u001b[0mto_plot\u001b[0m\u001b[0;34m,\u001b[0m\u001b[0;34m:\u001b[0m\u001b[0;34m]\u001b[0m\u001b[0;34m,\u001b[0m\u001b[0;34m'+'\u001b[0m\u001b[0;34m,\u001b[0m\u001b[0mmew\u001b[0m\u001b[0;34m=\u001b[0m\u001b[0;36m1\u001b[0m\u001b[0;34m,\u001b[0m\u001b[0mms\u001b[0m\u001b[0;34m=\u001b[0m\u001b[0;36m5\u001b[0m\u001b[0;34m)\u001b[0m\u001b[0;34m\u001b[0m\u001b[0;34m\u001b[0m\u001b[0m\n\u001b[0m\u001b[1;32m      6\u001b[0m \u001b[0mplot\u001b[0m\u001b[0;34m(\u001b[0m\u001b[0mtt\u001b[0m\u001b[0;34m[\u001b[0m\u001b[0mto_plot\u001b[0m\u001b[0;34m,\u001b[0m\u001b[0;34m:\u001b[0m\u001b[0;34m]\u001b[0m\u001b[0;34m*\u001b[0m\u001b[0;36m1e3\u001b[0m\u001b[0;34m,\u001b[0m\u001b[0mPM\u001b[0m\u001b[0;34m[\u001b[0m\u001b[0mto_plot\u001b[0m\u001b[0;34m,\u001b[0m\u001b[0;34m:\u001b[0m\u001b[0;34m]\u001b[0m\u001b[0;34m,\u001b[0m\u001b[0;34m'+'\u001b[0m\u001b[0;34m,\u001b[0m\u001b[0mmew\u001b[0m\u001b[0;34m=\u001b[0m\u001b[0;36m1\u001b[0m\u001b[0;34m,\u001b[0m\u001b[0mms\u001b[0m\u001b[0;34m=\u001b[0m\u001b[0;36m5\u001b[0m\u001b[0;34m)\u001b[0m\u001b[0;34m\u001b[0m\u001b[0;34m\u001b[0m\u001b[0m\n\u001b[1;32m      7\u001b[0m \u001b[0mplot\u001b[0m\u001b[0;34m(\u001b[0m\u001b[0mtt\u001b[0m\u001b[0;34m[\u001b[0m\u001b[0mto_plot\u001b[0m\u001b[0;34m,\u001b[0m\u001b[0;34m:\u001b[0m\u001b[0;34m]\u001b[0m\u001b[0;34m*\u001b[0m\u001b[0;36m1e3\u001b[0m\u001b[0;34m,\u001b[0m\u001b[0mPM\u001b[0m\u001b[0;34m[\u001b[0m\u001b[0mto_plot\u001b[0m\u001b[0;34m,\u001b[0m\u001b[0;34m:\u001b[0m\u001b[0;34m]\u001b[0m\u001b[0;34m,\u001b[0m\u001b[0;34m'+'\u001b[0m\u001b[0;34m,\u001b[0m\u001b[0mmew\u001b[0m\u001b[0;34m=\u001b[0m\u001b[0;36m1\u001b[0m\u001b[0;34m,\u001b[0m\u001b[0mms\u001b[0m\u001b[0;34m=\u001b[0m\u001b[0;36m5\u001b[0m\u001b[0;34m)\u001b[0m\u001b[0;34m\u001b[0m\u001b[0;34m\u001b[0m\u001b[0m\n",
      "\u001b[0;31mIndexError\u001b[0m: index 13 is out of bounds for axis 0 with size 13"
     ]
    }
   ],
   "source": [
    "fig, ax = plt.subplots(1, 1,num='one temp',clear=True,sharex=True,sharey=True)\n",
    "fig.set_size_inches(11.69,8.27)\n",
    "# suptitle('Saturation 866')\n",
    "\n",
    "plot(tt[to_plot,:]*1e3,PM[to_plot,:],'+',mew=1,ms=5)\n",
    "plot(tt[to_plot,:]*1e3,PM[to_plot,:],'+',mew=1,ms=5)\n",
    "plot(tt[to_plot,:]*1e3,PM[to_plot,:],'+',mew=1,ms=5)\n",
    "grid()"
   ]
  },
  {
   "cell_type": "code",
   "execution_count": 31,
   "metadata": {},
   "outputs": [
    {
     "name": "stderr",
     "output_type": "stream",
     "text": [
      "/home/adrian/.local/lib/python3.6/site-packages/matplotlib/axes/_base.py:3449: UserWarning: Attempted to set non-positive ylimits for log-scale axis; invalid limits will be ignored.\n",
      "  'Attempted to set non-positive ylimits for log-scale axis; '\n"
     ]
    }
   ],
   "source": [
    "# Plot all fluo rf relax après refroidissement\n",
    "\n",
    "fig, ax = plt.subplots(4, 4,num='Fluo interaction Gmol Ca+',clear=True,sharex=True,sharey=True)\n",
    "fig.set_size_inches(11.69,8.27)\n",
    "# suptitle('Saturation 866')\n",
    "to_plot = 0\n",
    "\n",
    "for l in range(0,4):\n",
    "    for k in range(0,4):\n",
    "        ax[k,l].plot(tt[to_plot,:]*1e3,PM[to_plot,:],'+',mew=1,ms=5)\n",
    "        ax[k,l].plot(tt[to_plot,:]*1e3,PM[to_plot,:],'+',mew=1,ms=5)\n",
    "        ax[k,l].plot(tt[to_plot,:]*1e3,PM[to_plot,:],'+',mew=1,ms=5)\n",
    "        ax[k,l].vlines(t_aux[0]*1e3,1e-4,1e-1,color='red')\n",
    "        ax[k,l].vlines(t_aux[1]*1e3,1e-4,1e-1,color='red')\n",
    "        ax[k,l].set_yticks([1e-4,1e-3,1e-2,1e-1,1,1e2,1e4])\n",
    "        ax[k,l].grid()\n",
    "    #     ax[k].set_ylim(-0.1,0.55)\n",
    "        ax[k,l].xaxis.set_major_locator(matplotlib.ticker.MultipleLocator(base=2))\n",
    "        ax[k,l].annotate('try'+str(to_plot), xy=(0.80, 0.99), xycoords='axes fraction', # pts_concerned[to_plot]\n",
    "                size=12, ha='left', va='top',\n",
    "                bbox=dict(boxstyle='round', fc='w'))\n",
    "        to_plot += 1\n",
    "        if to_plot == 13:\n",
    "            break\n",
    "    if to_plot == 13:\n",
    "        break\n",
    "# ax[3].set_xlim(-10,4000)\n",
    "# ax[k,l].set_ylim(2e-4,1e-1)\n",
    "fig.text(0.56, 0.04, 'time [ms]', ha='center')\n",
    "fig.text(0.04, 0.54, 'T [K]', va='center', rotation='vertical')\n",
    "\n",
    "fig.suptitle(pt_to_plot[0][:-6],fontsize=10)\n",
    "\n",
    "# fig.text(0.5, 0.01, 'f', ha='center')\n",
    "# fig.text(0.01, 0.5, r'$| FFT(HC(t)) | / N_{sample}$', va='center', rotation='vertical')\n",
    "\n",
    "fig.set_size_inches(11.69,8.27)\n",
    "plt.tight_layout()\n",
    "subplots_adjust(hspace=0.05, wspace = 0.05, bottom = 0.120, left = 0.140) # hspace=0, top=0.95, left = 0.065, bottom = 0.07\n",
    "# savefig('FFT_lock_oscillo_0_11500.png')"
   ]
  },
  {
   "cell_type": "code",
   "execution_count": 43,
   "metadata": {},
   "outputs": [
    {
     "name": "stdout",
     "output_type": "stream",
     "text": [
      "['xva_SimuType0_N01024_Vrf0064_Udc0.1000D+01V_D1.0_S1.0RFG.bin'\n",
      " 'xva_SimuType2_01_N01024_Vrf0064_Udc0.1000D+01V_D1.0_S1.0RFG50eV.bin'\n",
      " 'xva_SimuType4_01_N01024_Vrf0064_Udc0.1000D+01V_D1.0_S1.0RFG50eV.bin']\n",
      "xva_SimuType4_01_N01024_Vrf0064_Udc0.1000D+01V_D1.0_S1.0RFG50eV.bin\n"
     ]
    }
   ],
   "source": [
    "# position des ions à la fin de la simu\n",
    "to_plot = 9\n",
    "onlyfiles = [f for f in listdir(pt_to_plot[to_plot]) if isfile(join(pt_to_plot[to_plot], f)) and \"xva\" in f and \".bin\" in f]\n",
    "print(sort(onlyfiles))\n",
    "file_name = '{}/xva_{}'.format(pt_to_plot[to_plot],sort(onlyfiles)[0].strip('.bin')[4:])\n",
    "plot_XYZ(file_name,fig_name='XYZ_point'+str(pt_to_plot[to_plot]),fig_title='XYZ')\n",
    "print(sort(onlyfiles)[2])"
   ]
  },
  {
   "cell_type": "code",
   "execution_count": 42,
   "metadata": {},
   "outputs": [],
   "source": [
    "# pos ions par rapport à potentiel axial\n",
    "\n",
    "Udc = 2\n",
    "wz_LC = 2*np.pi*90806.9982303\n",
    "wz2   = Udc*wz_LC**2 # * C_e*m_Ca / (C_e*m_GM)\n",
    "eta = 1. / (4.* (sqrt(10) + 5. ) )\n",
    "L = 0.0140608827209\n",
    "cte_gauss = -1/(2*eta*L**2)\n",
    "\n",
    "r_LC,v_LC,a_LC = load_xyz_init_bin_DP(file_name)\n",
    "\n",
    "r_z = linspace(-0.02,0.02,1000)\n",
    "gauss_pot = wz2*eta*L**2*m_Ca * (1-exp(cte_gauss*r_z**2)) /C_e\n",
    "quad_pot = 0.5*wz2*m_Ca*r_z**2 /C_e\n",
    "\n",
    "fig = figure('axial_potential');clf()\n",
    "ax0 = fig.add_subplot(111)\n",
    "title(pt_to_plot[0][:-6])\n",
    "\n",
    "ax0.plot(r_z*1e3,gauss_pot,color='C0')\n",
    "ax0.plot(r_z*1e3,quad_pot,color='C1')\n",
    "ax0.plot(r_LC[2],r_LC[0]-min(r_LC[0]),ls='',marker='o',color='C4')\n",
    "\n",
    "ax0.set_xlabel('z [mm]')\n",
    "ax0.set_ylabel('$E_p$ [eV]')\n",
    "\n",
    "ax0.grid()\n",
    "\n",
    "tight_layout()"
   ]
  },
  {
   "cell_type": "code",
   "execution_count": 56,
   "metadata": {},
   "outputs": [
    {
     "name": "stdout",
     "output_type": "stream",
     "text": [
      "-7.146401446612211e-05\n"
     ]
    }
   ],
   "source": [
    "z0 = 400*1e-6\n",
    "print( (-3/(eta*L**2)/12)*z0**2 * 0.5*m_Ca*wz2*z0**2 / C_e )"
   ]
  },
  {
   "cell_type": "markdown",
   "metadata": {},
   "source": [
    "# Analyser tous les cas de SimuType6"
   ]
  },
  {
   "cell_type": "code",
   "execution_count": null,
   "metadata": {},
   "outputs": [],
   "source": [
    "# Récupérer les données pour les SimuType6\n",
    "\n",
    "# tt                  : temps\n",
    "# PM, SNR             : signal PM temporel, rapport signal/bruit, ci.e fluo/bruitfluo\n",
    "# PMvar, Tvar         : variation de fluo et température entre passage Gmol et fin de simu\n",
    "# deltaEc, deltaEcRel : variation énergie GMol\n",
    "# T_aux, T_CM         : température interne du nuage, température du centre de masse\n",
    "# r_LC, v_LC, a_LC    : position, vitesse, accélération des ions Ca+\n",
    "# r_LC_clip           : même chose mais en dégageant les ions perdus et beaucoup trop loin (hors piège)\n",
    "# dim_nu              : dimensions x, y et z, nuage Ca+ basé sur r_LC_clip\n",
    "\n",
    "myslashpos = slash_cfg[0]\n",
    "slashcond = slash_cfg[1]\n",
    "\n",
    "# determining number of elements on each repetition\n",
    "num_runs = [runs[myslashpos[slashcond+1]+1:] for runs in all_subdir if list(points_and_coord.keys())[0] in runs]\n",
    "num_runs = list(dict.fromkeys(num_runs))\n",
    "\n",
    "# Variables à deux coordonnées : [point, try]\n",
    "\n",
    "simutype6address = []\n",
    "pts_concerned = []\n",
    "for k, address in enumerate(all_subdir):\n",
    "    onlyfiles = [f for f in listdir(address) if isfile(join(address, f)) and not \"xva\" in f and \".dat\" in f]\n",
    "    onlySimuType6 = [i for i in onlyfiles if 'SimuType6' in i]\n",
    "    print(k,'- ', onlySimuType6)\n",
    "    if onlySimuType6 != []:\n",
    "        simutype6address.append(address)\n",
    "        pts_concerned.append( re.sub('/','',all_subdir[k][myslashpos[slashcond]:myslashpos[slashcond+1]]) )\n",
    "fluo_var, GMol_var, cloud_atlas, t_aux, r_LC_clip = load_RF_relax(all_subdir[0],flag_plot=0,RF_relax_type='AfterCool')\n",
    "        \n",
    "shapevar = (len(simutype6address),len(cloud_atlas[2]))\n",
    "PMvar = np.zeros(shapevar)\n",
    "Tvar = np.zeros(shapevar)\n",
    "SNR = np.zeros(shapevar)\n",
    "tt = np.zeros(shapevar)\n",
    "T_aux = np.zeros((len(simutype6address),len(cloud_atlas[2]),3))\n",
    "T_CM = np.zeros((len(simutype6address),len(cloud_atlas[2]),3))\n",
    "PM = np.zeros(shapevar)\n",
    "        \n",
    "t0 = time.clock()\n",
    "print(\"Hello\")\n",
    "    \n",
    "for k, address in enumerate(simutype6address):\n",
    "    fluo_var, GMol_var, cloud_atlas, t_aux, r_LC_clip = load_RF_relax(address,flag_plot=0,RF_relax_type='AfterCool')\n",
    "    PMvar[k] = fluo_var[0] ; Tvar[k] = fluo_var[1] ; SNR[k] = fluo_var[2]\n",
    "    tt[k] = cloud_atlas[0] ; T_aux[k] = cloud_atlas[1] ; T_CM[k] = cloud_atlas[2] ; PM[k] = cloud_atlas[3]\n",
    "\n",
    "t1 = time.clock() - t0\n",
    "print(\"Time elapsed: \", t1, 's') # CPU seconds elapsed (floating point)\n",
    "print(\"Time elapsed: \", t1/60, 'm') # CPU seconds elapsed (floating point)"
   ]
  },
  {
   "cell_type": "code",
   "execution_count": null,
   "metadata": {},
   "outputs": [],
   "source": [
    "# position des ions à la fin de la simu\n",
    "to_plot = 13\n",
    "onlyfiles = [f for f in listdir(simutype6address[to_plot]) if isfile(join(simutype6address[to_plot], f)) and \"xva\" in f and \".bin\" in f]\n",
    "print(sort(onlyfiles))\n",
    "file_name = '{}/xva_{}'.format(simutype6address[to_plot],sort(onlyfiles)[3].strip('.bin')[4:])\n",
    "plot_XYZ(file_name,fig_name='XYZ_point'+str(simutype6address[to_plot]),fig_title='XYZ')\n",
    "print(sort(onlyfiles)[2])"
   ]
  },
  {
   "cell_type": "code",
   "execution_count": null,
   "metadata": {},
   "outputs": [],
   "source": []
  },
  {
   "cell_type": "code",
   "execution_count": null,
   "metadata": {},
   "outputs": [],
   "source": [
    "# Plot all temperatures rf relax après refroidissement\n",
    "\n",
    "fig, ax = plt.subplots(4, 7,num='Temperature RF relax sans injection',clear=True,sharex=True,sharey=True)\n",
    "fig.set_size_inches(11.69,8.27)\n",
    "# suptitle('Saturation 866')\n",
    "to_plot = 0\n",
    "for l in range(0,7):\n",
    "    for k in range(0,4):\n",
    "        ax[3-k,l].semilogy(tt[to_plot,:]*1e3,T_aux[to_plot,:,0],'+',mew=1,ms=5)\n",
    "        ax[3-k,l].semilogy(tt[to_plot,:]*1e3,T_aux[to_plot,:,1],'+',mew=1,ms=5)\n",
    "        ax[3-k,l].semilogy(tt[to_plot,:]*1e3,T_aux[to_plot,:,2],'+',mew=1,ms=5)\n",
    "        ax[3-k,l].vlines(t_aux[0]*1e3,1e-4,1e-1,color='red')\n",
    "        ax[3-k,l].vlines(t_aux[1]*1e3,1e-4,1e-1,color='red')\n",
    "        ax[3-k,l].set_yticks([1e-4,1e-3,1e-2,1e-1,1,1e2,1e4])\n",
    "        ax[3-k,l].grid()\n",
    "    #     ax[k].set_ylim(-0.1,0.55)\n",
    "        ax[3-k,l].xaxis.set_major_locator(matplotlib.ticker.MultipleLocator(base=2))\n",
    "        ax[3-k,l].annotate(pts_concerned[to_plot], xy=(0.29, 0.99), xycoords='axes fraction',\n",
    "                size=12, ha='left', va='top',\n",
    "                bbox=dict(boxstyle='round', fc='w'))\n",
    "        to_plot += 1\n",
    "# ax[3].set_xlim(-10,4000)\n",
    "ax[3-k,l].set_ylim(2e-4,1e-1)\n",
    "fig.text(0.56, 0.04, 'time [ms]', ha='center')\n",
    "fig.text(0.04, 0.54, 'T [K]', va='center', rotation='vertical')\n",
    "\n",
    "fig.suptitle(all_subdir[0],fontsize=10)\n",
    "\n",
    "# fig.text(0.5, 0.01, 'f', ha='center')\n",
    "# fig.text(0.01, 0.5, r'$| FFT(HC(t)) | / N_{sample}$', va='center', rotation='vertical')\n",
    "\n",
    "plt.tight_layout()\n",
    "subplots_adjust(hspace=0.05, wspace = 0.05, bottom = 0.120, left = 0.140) # hspace=0, top=0.95, left = 0.065, bottom = 0.07\n",
    "# savefig('FFT_lock_oscillo_0_11500.png')\n",
    "# fig.set_size_inches(11.69,8.27)"
   ]
  },
  {
   "cell_type": "code",
   "execution_count": null,
   "metadata": {},
   "outputs": [],
   "source": [
    "# Plot all temperatures Centres de Masse rf relax après refroidissement\n",
    "\n",
    "fig, ax = plt.subplots(4, 7,num='Temperature CM RF relax sans injection',clear=True,sharex=True,sharey=True)\n",
    "fig.set_size_inches(11.69,8.27)\n",
    "# suptitle('Saturation 866')\n",
    "to_plot = 0\n",
    "for l in range(0,7):\n",
    "    for k in range(0,4):\n",
    "        ax[3-k,l].semilogy(tt[to_plot,:]*1e3,T_CM[to_plot,:,0],'+',mew=1,ms=5)\n",
    "        ax[3-k,l].semilogy(tt[to_plot,:]*1e3,T_CM[to_plot,:,1],'+',mew=1,ms=5)\n",
    "        ax[3-k,l].semilogy(tt[to_plot,:]*1e3,T_CM[to_plot,:,2],'+',mew=1,ms=5)\n",
    "        ax[3-k,l].semilogy(tt[to_plot,:]*1e3,T_aux[to_plot,:,0],'.',mew=1,ms=5,color='y')\n",
    "        ax[3-k,l].vlines(t_aux[0]*1e3,1e-4,1e-1,color='red')\n",
    "        ax[3-k,l].vlines(t_aux[1]*1e3,1e-4,1e-1,color='red')\n",
    "#         ax[3-k,l].set_yticks([1e-4,1e-3,1e-2,1e-1,1,1e2,1e4])\n",
    "        ax[3-k,l].grid()\n",
    "    #     ax[k].set_ylim(-0.1,0.55)\n",
    "        ax[3-k,l].xaxis.set_major_locator(matplotlib.ticker.MultipleLocator(base=2))\n",
    "        ax[3-k,l].annotate(pts_concerned[to_plot], xy=(0.29, 0.99), xycoords='axes fraction',\n",
    "                size=12, ha='left', va='top',\n",
    "                bbox=dict(boxstyle='round', fc='w'))\n",
    "        to_plot += 1\n",
    "# ax[3].set_xlim(-10,4000)\n",
    "ax[3-k,l].set_ylim(1e-12,1e3)\n",
    "fig.text(0.56, 0.04, 'time [ms]', ha='center')\n",
    "fig.text(0.04, 0.54, 'T [K]', va='center', rotation='vertical')\n",
    "\n",
    "fig.suptitle(all_subdir[0],fontsize=10)\n",
    "\n",
    "# fig.text(0.5, 0.01, 'f', ha='center')\n",
    "# fig.text(0.01, 0.5, r'$| FFT(HC(t)) | / N_{sample}$', va='center', rotation='vertical')\n",
    "\n",
    "plt.tight_layout()\n",
    "subplots_adjust(hspace=0.05, wspace = 0.05, bottom = 0.120, left = 0.140) # hspace=0, top=0.95, left = 0.065, bottom = 0.07\n",
    "# savefig('FFT_lock_oscillo_0_11500.png')\n",
    "# fig.set_size_inches(11.69,8.27)"
   ]
  },
  {
   "cell_type": "code",
   "execution_count": null,
   "metadata": {},
   "outputs": [],
   "source": [
    "to_plot = 25\n",
    "fluo_var_one, GMol_var_one, cloud_atlas_one, t_aux_one, r_LC_clip_one = load_RF_relax(simutype6address[to_plot],flag_plot=1,RF_relax_type='AfterCool')\n",
    "T_aux = cloud_atlas_one[1]\n",
    "T_aux = T_aux[len(freq_one)//3:,1]\n",
    "time_one = cloud_atlas_one[0]\n",
    "dtime_one = time_one[50]-time_one[49]\n",
    "freq_one = np.fft.fftfreq(len(T_aux),d=dtime_one)\n",
    "print(dtime_one,freq_one[51]-freq_one[50])\n",
    "\n",
    "fig = figure('FFT'); clf()\n",
    "title(simutype6address[to_plot],fontsize=12)\n",
    "ax1 = subplot(111)\n",
    "ax1.scatter(freq_one*1e-3,abs(real(fft(T_aux*hanning(len(T_aux))))),marker='+')\n",
    "# ax1.set_xlim(-10,1/1.9/dtime_one/1e3)\n",
    "ax1.set_xlim(600,1020)\n",
    "ax1.set_ylim(-2,12)\n",
    "ax1.grid()\n",
    "\n",
    "legend()\n",
    "xlabel('f [kHz]')\n",
    "\n",
    "fig.set_size_inches(11.69, 8.27)\n",
    "plt.tight_layout()"
   ]
  },
  {
   "cell_type": "code",
   "execution_count": null,
   "metadata": {},
   "outputs": [],
   "source": [
    "# FFT test\n",
    "time_one = np.linspace(0,1,1000)\n",
    "T_aux = np.sin(2*pi*25*time_one)\n",
    "fig = figure('FFT test'); clf()\n",
    "ax1 = subplot(211)\n",
    "ax1.plot(time_one,T_aux)\n",
    "\n",
    "dtime_one = time_one[50]-time_one[49]\n",
    "freq_one = np.fft.fftfreq(len(T_aux),d=dtime_one)\n",
    "\n",
    "ax2 = subplot(212)\n",
    "ax2.scatter(freq_one,real(fft(T_aux*hanning(len(T_aux)))),marker='+')\n",
    "\n",
    "fig.set_size_inches(11.69, 8.27)\n",
    "plt.tight_layout()"
   ]
  },
  {
   "cell_type": "code",
   "execution_count": null,
   "metadata": {},
   "outputs": [],
   "source": [
    "for k, l in enumerate(simutype6address):\n",
    "    print('>',k,'-',l)"
   ]
  },
  {
   "cell_type": "code",
   "execution_count": null,
   "metadata": {},
   "outputs": [],
   "source": [
    "# Recover Ca pos, speed and acc at the end of one specific step\n",
    "address = simutype6address[20]\n",
    "print(address)\n",
    "onlyfiles = [f for f in listdir(address) if isfile(join(address, f)) and \"xva\" in f and 'SimuType6' in f and 'bin' in f]\n",
    "r_LC, v_LC, a_LC = load_xyz_init_bin_DP(address+'/'+onlyfiles[0].strip('.bin'))\n",
    "\n",
    "fig = figure('Terminal speed'); clf()\n",
    "fig.suptitle(r'Atomic speed at the end of SimuType6 - '+str(address[31:]),color='xkcd:black',fontsize = 18)\n",
    "ax1 = subplot(311)\n",
    "my_bins = arange(-1500,1500,100)\n",
    "ax1.hist(v_LC[0],bins=my_bins ,color='C0', edgecolor='black', linewidth=1.2)\n",
    "ax1.xaxis.set_major_locator(matplotlib.ticker.MultipleLocator(base=400))\n",
    "ax1.grid()\n",
    "xlabel('$v_x$ [m/s]')\n",
    "\n",
    "ax2 = subplot(312)\n",
    "my_bins = arange(-1500,1500,100)\n",
    "ax2.hist(v_LC[1],bins=my_bins ,color='C1', edgecolor='black', linewidth=1.2)\n",
    "ax2.xaxis.set_major_locator(matplotlib.ticker.MultipleLocator(base=400))\n",
    "ax2.grid()\n",
    "xlabel('$v_y$ [m/s]')\n",
    "\n",
    "ax3 = subplot(313)\n",
    "my_bins = arange(-1500,1500,100)\n",
    "ax3.hist(v_LC[2],bins=my_bins ,color='C2', edgecolor='black', linewidth=1.2)\n",
    "ax3.xaxis.set_major_locator(matplotlib.ticker.MultipleLocator(base=400))\n",
    "ax3.grid()\n",
    "xlabel('$v_z$ [m/s]')\n",
    "\n",
    "fig.set_size_inches(11.69, 8.27)\n",
    "plt.tight_layout()\n",
    "subplots_adjust(hspace=0.50, top = 0.93)"
   ]
  },
  {
   "cell_type": "code",
   "execution_count": null,
   "metadata": {},
   "outputs": [],
   "source": [
    "r_LC[0]"
   ]
  },
  {
   "cell_type": "code",
   "execution_count": null,
   "metadata": {},
   "outputs": [],
   "source": [
    "Vrf = 59.23*2\n",
    "r_ion = 100*1e-6\n",
    "# calculate equivalent speed in RF field for a given radius\n",
    "v_ion = C_e/m_Ca/Omega*Vrf/r0**2*r_ion\n",
    "print(v_ion)\n",
    "\n",
    "v_ion = 100\n",
    "# calculate equivalent radius in RF field for a given atomic speed\n",
    "r_ion = m_Ca*Omega/C_e*r0**2/Vrf*v_ion\n",
    "print(r_ion*1e6)"
   ]
  }
 ],
 "metadata": {
  "kernelspec": {
   "display_name": "Python 3",
   "language": "python",
   "name": "python3"
  },
  "language_info": {
   "codemirror_mode": {
    "name": "ipython",
    "version": 3
   },
   "file_extension": ".py",
   "mimetype": "text/x-python",
   "name": "python",
   "nbconvert_exporter": "python",
   "pygments_lexer": "ipython3",
   "version": "3.6.7"
  }
 },
 "nbformat": 4,
 "nbformat_minor": 2
}
