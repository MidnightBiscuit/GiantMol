{
 "cells": [
  {
   "cell_type": "code",
   "execution_count": 1,
   "metadata": {},
   "outputs": [],
   "source": [
    "###########################################################\n",
    "#                                                         #\n",
    "#               TRAITEMENT SIMUS FORTRAN                  #\n",
    "#                     STATISTIQUES                        #\n",
    "#                                                         #\n",
    "#                         avec                            #\n",
    "#                   - lecture arborescence                #\n",
    "#                  analyse                                #\n",
    "#                   - Delta Fluo                          #\n",
    "#                   - Delta Energy GMol                   #\n",
    "#                   - R/L Ca+                             #\n",
    "#                   - distance inter ionique              #\n",
    "#                   - trajectoire GMol                    #\n",
    "#                                                         #\n",
    "#                          02/2020     Adrien Poindron    #\n",
    "###########################################################"
   ]
  },
  {
   "cell_type": "code",
   "execution_count": 1,
   "metadata": {},
   "outputs": [
    {
     "data": {
      "text/html": [
       "<style>.container { width:95% !important; }</style>"
      ],
      "text/plain": [
       "<IPython.core.display.HTML object>"
      ]
     },
     "metadata": {},
     "output_type": "display_data"
    }
   ],
   "source": [
    "from IPython.core.display import display, HTML\n",
    "display(HTML(\"<style>.container { width:95% !important; }</style>\"))"
   ]
  },
  {
   "cell_type": "markdown",
   "metadata": {},
   "source": [
    "# Imports"
   ]
  },
  {
   "cell_type": "code",
   "execution_count": 2,
   "metadata": {},
   "outputs": [],
   "source": [
    "# %pylab\n",
    "\n",
    "import numpy\n",
    "import matplotlib\n",
    "from matplotlib import pylab, mlab, pyplot\n",
    "from mpl_toolkits.mplot3d import Axes3D\n",
    "np = numpy\n",
    "plt = pyplot\n",
    "\n",
    "matplotlib.rcParams.update({'font.size': 21})\n",
    "# matplotlib.rcParams[\"figure.dpi\"] = 300\n",
    "\n",
    "from IPython.display import display\n",
    "from IPython.core.pylabtools import figsize, getfigs\n",
    "\n",
    "from pylab import *\n",
    "from numpy import *\n",
    "\n",
    "from scipy.optimize import curve_fit\n",
    "from scipy.signal import savgol_filter, butter"
   ]
  },
  {
   "cell_type": "code",
   "execution_count": 3,
   "metadata": {},
   "outputs": [],
   "source": [
    "import os\n",
    "from os import listdir\n",
    "from os.path import isfile, join\n",
    "\n",
    "import tkinter as tk\n",
    "from tkinter import filedialog\n",
    "%matplotlib qt\n",
    "\n",
    "from pathlib import Path\n",
    "from matplotlib import gridspec\n",
    "from mpl_toolkits.axes_grid1.inset_locator import zoomed_inset_axes\n",
    "from mpl_toolkits.axes_grid1.inset_locator import mark_inset"
   ]
  },
  {
   "cell_type": "code",
   "execution_count": 4,
   "metadata": {},
   "outputs": [],
   "source": [
    "from natsort import natsorted   # natural sort marche de ouf\n",
    "import re                       # find '/' in strings\n",
    "import timeit\n",
    "cm = pylab.get_cmap('summer')   # colormap par défaut color=cm(k/len(array))"
   ]
  },
  {
   "cell_type": "code",
   "execution_count": 5,
   "metadata": {},
   "outputs": [],
   "source": [
    "# Fonctions persos de Jofre et Adrien\n",
    "\n",
    "# %run function_jofre.ipy\n",
    "%run ../../Functions/1.2/data_fct_Adrien_point_by_point"
   ]
  },
  {
   "cell_type": "code",
   "execution_count": 6,
   "metadata": {},
   "outputs": [
    {
     "name": "stdout",
     "output_type": "stream",
     "text": [
      "$\\kappa_{simion}$ = 0.270471\n"
     ]
    }
   ],
   "source": [
    "# Constantes de la physique\n",
    "# ABSOLUMENT RECHARGER APRÈS AVOIR EXECUTÉ LES CASES D'IMPORT AU DESSUS\n",
    "\n",
    "C_e = 1.602e-19        # Coulomb\n",
    "kb = 1.38064852*1e-23  # Boltzman\n",
    "m_Ca = 40.078*1.66054e-27 # masse Ca 40.078\n",
    "m_GM = 1e6*1.66054e-27 # la masse de la GMol\n",
    "eps0 = 8.854187*1e-12  # permittivité électrique du vide\n",
    "\n",
    "r0 = 2.5e-3 # 2.5e-3   # rayon piège Ca+\n",
    "d0 = 4e-3/2            # longueur piège Ca+\n",
    "\n",
    "Omega = 2.05e6*2*pi # 2.047e6\n",
    "\n",
    "bk = 4 # nombre de barreaux par groupe (2 -> 4-pole , 4 -> 8-pole ...)\n",
    "\n",
    "mkappa = 0.23          # écrantage piège réel GiantMol\n",
    "wzLC = (2*pi*90806.9982303)**2\n",
    "kappa_simion = m_Ca*d0**2*wzLC/(2*C_e)\n",
    "print('%s = %f' % ('$\\kappa_{simion}$',kappa_simion) )\n",
    "\n",
    "zeta = kappa_simion*r0**2/d0**2"
   ]
  },
  {
   "cell_type": "code",
   "execution_count": 47,
   "metadata": {},
   "outputs": [],
   "source": [
    "def plot_T_and_PM_Init_Inje_Evol(file_dir2,file_name,fig_name,**kwargs):\n",
    "    \n",
    "    # ~ xlim1 = (-0.1,6)\n",
    "    # ~ ylim1 = (0.5*1e-3,5e3)\n",
    "    # ~ ylim2 = (-2,120)\n",
    "            \n",
    "    xlim1 = kwargs.get('xlim1', (-0.1,6))\n",
    "    ylim1 = kwargs.get('ylim1', (0.5*1e-3,2e4))\n",
    "    ylim2 = kwargs.get('ylim2', (-2,50))\n",
    "    \n",
    "    i_aux = file_name.find('_N')\n",
    "    # file0 = 'Temp_3D_Harmo'+ file_name[i_aux:]\n",
    "    file1 = 'SimuType0_'    + file_name[i_aux:] ########## file1 = 'SimuType0'    + file_name[i_aux:17+36]\n",
    "    file2 = 'SimuType4_01'  + file_name[i_aux:]\n",
    "    file3 = 'SimuType2_01'  + file_name[i_aux:]\n",
    "\n",
    "    # tt0, T_CM0, T_aux0, PM0 = load_T_and_PM_simu(file_dir2+file0)\n",
    "    tt1, T_CM1, T_aux1, PM1 = load_T_and_PM_simu(file_dir2+'Temp_'+file1)\n",
    "    tt2, T_CM2, T_aux2, PM2 = load_T_and_PM_simu(file_dir2+'Temp_'+file2+'50eV')\n",
    "    tt3, T_CM3, T_aux3, PM3 = load_T_and_PM_simu(file_dir2+'Temp_'+file3+'50eV')\n",
    "\n",
    "    aux = mean(PM1[-100:])\n",
    "    PM_variation = ( aux - mean(PM3[-100:]) ) / aux\n",
    "    T_variation  = mean(T_aux3[-100:,0]) + mean(T_aux3[-100:,1]) + mean(T_aux3[-100:,2])\n",
    "            \n",
    "\n",
    "    # Auxiliary arrays:\n",
    "    t_aux1 = array([tt2[ 0],tt2[ 0]])\n",
    "    t_aux2 = array([tt2[-1],tt2[-1]])\n",
    "    y1_aux = array([1.0e-3 ,1.0e-1 ])\n",
    "#     y2_aux = array([0 ,20 ])\n",
    "    y2_aux = array([0 ,50 ])\n",
    "\n",
    "    tt    = concatenate( (   tt1,   tt2,   tt3) )\n",
    "    T_CM  = concatenate( (T_CM1,T_CM2,T_CM3) )\n",
    "    T_aux = concatenate( (T_aux1,T_aux2,T_aux3) )\n",
    "    PM    = concatenate( (PM1,PM2,PM3) )\n",
    "    SNR = np.abs( aux - mean(PM3[-100:]) )/np.sqrt(aux) # Sig-to-Noi ratio considering Poisson noise\n",
    "        \n",
    "    temps = [tt,t_aux1, t_aux2]\n",
    "    temperature = [T_aux, T_variation, T_CM]\n",
    "    fluo = [PM, PM_variation, SNR]\n",
    "        \n",
    "    return temps, temperature, fluo"
   ]
  },
  {
   "cell_type": "code",
   "execution_count": 26,
   "metadata": {},
   "outputs": [],
   "source": [
    "def load_Temp_init_bin_Lan(str_load):   \n",
    "    \n",
    "    fid = open(str_load+'.bin', 'rb')\n",
    "    \n",
    "    a = fromfile(fid, int32,1)        # Read record start tag\n",
    "    aux  = fromfile(fid, int32,1)\n",
    "    junk = fromfile(fid, int32,1)        # Read record stop tag\n",
    "    N_ions = aux[0]\n",
    "\n",
    "    b = fromfile(fid, int32,1)        # Read record start tag\n",
    "    aux  = fromfile(fid, int32,1)\n",
    "    junk = fromfile(fid, int32,1)        # Read record stop tag\n",
    "    j_save = aux[0]\n",
    "    \n",
    "    c = fromfile(fid, int32,1)        # Read record start tag\n",
    "    aux  = fromfile(fid, float64,1)\n",
    "    junk = fromfile(fid, int32,1)        # Read record stop tag\n",
    "    dt_j_save_next = aux[0]\n",
    "\n",
    "    d = fromfile(fid, int32,1)        # Read record start tag\n",
    "    aux  = fromfile(fid, float64,1)\n",
    "    junk = fromfile(fid, int32,1)        # Read record stop tag\n",
    "    eta = aux[0]\n",
    "\n",
    "    e = fromfile(fid, int32  ,1   )        # Read record start tag\n",
    "    Temp = fromfile(fid, float64,1)\n",
    "    junk = fromfile(fid, int32  ,1   )        # Read record stop tag\n",
    "    \n",
    "    f = fromfile(fid, int32  ,1   )        # Read record start tag\n",
    "    save_T = fromfile(fid, float64,7*j_save)\n",
    "    junk = fromfile(fid, int32  ,1   )        # Read record stop tag\n",
    "    \n",
    "    fid.close\n",
    "    \n",
    "    print(a,b,c,d,e,f)\n",
    "    \n",
    "    print('N_ions',N_ions)\n",
    "    print('j_save',j_save)\n",
    "    print('dt_j_save_next',dt_j_save_next)\n",
    "    print('eta',eta)\n",
    "    print('Temp',Temp)\n",
    "    \n",
    "    \n",
    "    save_T = reshape(save_T,(j_save,7),order='F')\n",
    "    print(save_T[0])\n",
    "\n",
    "    return N_ions, j_save, dt_j_save_next, eta, Temp, save_T"
   ]
  },
  {
   "cell_type": "markdown",
   "metadata": {},
   "source": [
    "# Sélection fichier"
   ]
  },
  {
   "cell_type": "code",
   "execution_count": 15,
   "metadata": {
    "scrolled": true
   },
   "outputs": [
    {
     "name": "stdout",
     "output_type": "stream",
     "text": [
      "> Répertoire : D:/CIMLuser/adrien/Simulations/20200709/DC05_RF10/Try00\n",
      "> Filename : Temp_SimuType0_N01024_Vrf0064_Udc0.3000D+01V_D1.0_S1.0RFG.dat\n",
      "> myslashpos | [2, 11, 18, 30, 39, 49]\n",
      "> slashcond | -2\n",
      "Points deleted because they were not complete []   0 pt(s)\n",
      "Total number of data directories 6\n"
     ]
    }
   ],
   "source": [
    "## GUI for data loading\n",
    "# Select one data file all the way down to the directories\n",
    "# Temp_SimuType0_N01024_Vrf0064_Udc0.5000D+00V_D1.0_S1.0RFG.dat\n",
    "\n",
    "file_cfg, slash_cfg, all_subdir = load_gui(filter_nocomplete=1)\n",
    "\n",
    "file_path = file_cfg[0]\n",
    "dir_path = file_cfg[1]\n",
    "work_rep = file_cfg[2]\n",
    "filename = file_cfg[3]\n",
    "\n",
    "myslashpos = slash_cfg[0]\n",
    "slashcond = slash_cfg[1]"
   ]
  },
  {
   "cell_type": "code",
   "execution_count": 16,
   "metadata": {
    "scrolled": true
   },
   "outputs": [
    {
     "name": "stdout",
     "output_type": "stream",
     "text": [
      "> condition names ['DC', 'RF']\n",
      "> number of points 1\n",
      "000 > DC05_RF10\n",
      "> N_ions = 1024\n",
      "> e_GMol = 50\n"
     ]
    }
   ],
   "source": [
    "## Condition for data\n",
    "points_and_coord, condition_parameters = simu_conditions(all_subdir, myslashpos, slashcond, filename)"
   ]
  },
  {
   "cell_type": "code",
   "execution_count": 17,
   "metadata": {},
   "outputs": [
    {
     "name": "stdout",
     "output_type": "stream",
     "text": [
      "> Points | 1\n",
      "> Simulations pour chaque point | ['Try00', 'Try01', 'Try02', 'Try03', 'Try04', 'Try05']\n",
      "Hello\n",
      "Point n° 0\n",
      "00 - 00  >  D:/CIMLuser/adrien/Simulations/20200709\\DC05_RF10\\Try00/Temp_SimuType0_N01024_Vrf0064_Udc0.3000D+01V_D1.0_S1.0RFG\n",
      "00 - 01  >  D:/CIMLuser/adrien/Simulations/20200709\\DC05_RF10\\Try01/Temp_SimuType0_N01024_Vrf0064_Udc0.3000D+01V_D1.0_S1.0RFG\n",
      "00 - 02  >  D:/CIMLuser/adrien/Simulations/20200709\\DC05_RF10\\Try02/Temp_SimuType0_N01024_Vrf0064_Udc0.3000D+01V_D1.0_S1.0RFG\n",
      "00 - 03  >  D:/CIMLuser/adrien/Simulations/20200709\\DC05_RF10\\Try03/Temp_SimuType0_N01024_Vrf0064_Udc0.3000D+01V_D1.0_S1.0RFG\n",
      "00 - 04  >  D:/CIMLuser/adrien/Simulations/20200709\\DC05_RF10\\Try04/Temp_SimuType0_N01024_Vrf0064_Udc0.3000D+01V_D1.0_S1.0RFG\n",
      "00 - 05  >  D:/CIMLuser/adrien/Simulations/20200709\\DC05_RF10\\Try05/Temp_SimuType0_N01024_Vrf0064_Udc0.3000D+01V_D1.0_S1.0RFG\n",
      "Time elapsed:  0.9468370999966282 s\n",
      "Time elapsed:  0.015780618333277138 m\n"
     ]
    }
   ],
   "source": [
    "## Data loading (1D arrays)\n",
    "data_name, num_runs, PMandT, Gmol_data, r_LC_clip, dim_nu \\\n",
    "= data_retrieve(all_subdir, points_and_coord,condition_parameters,slash_cfg) # stopping_power\n",
    "\n",
    "data0 = data_name[0]\n",
    "data2 = data_name[1]\n",
    "data4 = data_name[2]\n",
    "\n",
    "PMvar = PMandT[0]\n",
    "Tvar = PMandT[1]\n",
    "\n",
    "deltaEc = Gmol_data[0]\n",
    "deltaEcRel = Gmol_data[1]\n",
    "t_c = Gmol_data[2]"
   ]
  },
  {
   "cell_type": "code",
   "execution_count": 18,
   "metadata": {},
   "outputs": [
    {
     "name": "stdout",
     "output_type": "stream",
     "text": [
      "[0.]\n",
      "1\n"
     ]
    }
   ],
   "source": [
    "# Where SNR for each try in each  are compared to a threshold\n",
    "# If SNR > some_threshold , we count it as a detection\n",
    "# Then for each point the ratio number_of_detection/number_of_try is calculated\n",
    "# This detection efficiency \n",
    "\n",
    "SNR_trig_threshold = 1\n",
    "shapevar = ((len(points_and_coord), len(num_runs)))\n",
    "trig_detection = np.zeros((shapevar))\n",
    "for i in range(len(points_and_coord)):\n",
    "    SNR = Gmol_data[2][i]\n",
    "    for k,m in enumerate(SNR):\n",
    "        if m > SNR_trig_threshold:\n",
    "            trig_detection[i,k] = 1\n",
    "\n",
    "print(mean(trig_detection,axis=1))\n",
    "\n",
    "print(len(trig_detection))"
   ]
  },
  {
   "cell_type": "code",
   "execution_count": 19,
   "metadata": {},
   "outputs": [
    {
     "name": "stdout",
     "output_type": "stream",
     "text": [
      "1.0\n"
     ]
    }
   ],
   "source": [
    "# Where is written Detuning and how much it is\n",
    "temp_pos = filename.find('0RFG')\n",
    "Detuning = filename[temp_pos-7:temp_pos-4]\n",
    "print(Detuning)"
   ]
  },
  {
   "cell_type": "markdown",
   "metadata": {},
   "source": [
    "# Plots\n",
    "Nuage d'ions, Temp et Pos"
   ]
  },
  {
   "cell_type": "markdown",
   "metadata": {},
   "source": [
    "## Load temperature from Langevin files"
   ]
  },
  {
   "cell_type": "code",
   "execution_count": 34,
   "metadata": {},
   "outputs": [
    {
     "name": "stdout",
     "output_type": "stream",
     "text": [
      "D:/CIMLuser/adrien/Simulations/20200709\\DC05_RF10\\Try00/\n",
      "Temp_3D_Harmo_N1024_T500uK_F0.15D-19Kg_s_5\n"
     ]
    }
   ],
   "source": [
    "## Data loading with hardcode names\n",
    "\n",
    "plot_point = 0\n",
    "plot_try = 0\n",
    "dirname_hc = str(data0[plot_point][plot_try])+'/'\n",
    "\n",
    "datainit_hc = 'Temp_3D_Harmo_N1024_T500uK_F0.15D-19Kg_s_5'\n",
    "data0_hc    = '/Temp_SimuType0_N01024_Vrf0064_Udc0.3000D+01V_D1.0_S1.0RFG'\n",
    "data4_hc    = '/Temp_SimuType4_01_N01024_Vrf0064_Udc0.3000D+01V_D1.0_S1.0RFG50eV'\n",
    "data2_hc    = '/Temp_SimuType2_01_N01024_Vrf0064_Udc0.3000D+01V_D1.0_S1.0RFG50eV'\n",
    "\n",
    "print(dirname_hc)\n",
    "print(datainit_hc)"
   ]
  },
  {
   "cell_type": "code",
   "execution_count": 35,
   "metadata": {},
   "outputs": [
    {
     "name": "stdout",
     "output_type": "stream",
     "text": [
      "[4] [4] [8] [8] [8] [110880]\n",
      "N_ions 1024\n",
      "j_save 1980\n",
      "dt_j_save_next 5e-07\n",
      "eta 1.5e-20\n",
      "Temp [0.0005]\n",
      "[5.05000000e-07 8.07514606e-04 1.55538916e-02 1.40510559e-07\n",
      " 1.74243815e+01 7.65330965e+00 9.86438133e+01]\n",
      "N_ions 1024\n",
      "j_save 1980\n",
      "dt*j_save_next 5e-07\n",
      "eta 1.5e-20\n",
      "Temp [0.0005]\n",
      "save_T [[5.05000000e-07 8.07514606e-04 1.55538916e-02 ... 1.74243815e+01\n",
      "  7.65330965e+00 9.86438133e+01]\n",
      " [1.01000000e-06 7.64687208e-04 1.38964169e-02 ... 4.78154064e+00\n",
      "  4.34914694e+00 1.10339315e+02]\n",
      " [1.51500000e-06 4.43679940e-04 1.06581501e-03 ... 2.81100197e+01\n",
      "  3.77009616e+01 4.72085224e+01]\n",
      " ...\n",
      " [9.98890000e-04 2.10163848e-08 1.19125345e-06 ... 2.82074113e-04\n",
      "  2.69984631e-04 4.75536626e-04]\n",
      " [9.99395000e-04 5.23942213e-08 9.80716357e-07 ... 2.71813713e-04\n",
      "  2.63289077e-04 4.94693691e-04]\n",
      " [9.99900000e-04 1.24982364e-07 7.16736573e-07 ... 2.73443644e-04\n",
      "  2.69198723e-04 5.14103000e-04]]\n",
      "shape(save_T) (1980, 7)\n"
     ]
    }
   ],
   "source": [
    "N_ions, j_save, dt_j_save_next, eta, Temp, save_T =\\\n",
    "load_Temp_init_bin_Lan(dirname_hc+datainit_hc)\n",
    "\n",
    "print('N_ions',N_ions)\n",
    "print('j_save',j_save)\n",
    "print('dt*j_save_next',dt_j_save_next)\n",
    "print('eta',eta)\n",
    "print('Temp',Temp)\n",
    "print('save_T',save_T)\n",
    "print('shape(save_T)',shape(save_T))\n",
    "\n",
    "#  Sacahnt que dans le Fortran\n",
    "# dt   = 2d-9\n",
    "# j_save_next  = 100\n",
    "# eta = 1.5d-21\n",
    "# Temperature = 0.5d-3"
   ]
  },
  {
   "cell_type": "code",
   "execution_count": 41,
   "metadata": {},
   "outputs": [],
   "source": [
    "import struct"
   ]
  },
  {
   "cell_type": "code",
   "execution_count": 42,
   "metadata": {},
   "outputs": [
    {
     "data": {
      "text/plain": [
       "(4, 1024, 4, 4, 1980, 4, 8, 5e-07, 8, 8, 1.5e-20, 8, 8, 0.0005, 8)"
      ]
     },
     "execution_count": 42,
     "metadata": {},
     "output_type": "execute_result"
    }
   ],
   "source": [
    "file = dirname_hc+datainit_hc+str('.bin')\n",
    "\n",
    "with open(file, 'rb') as f:\n",
    "    data = f.read()\n",
    "\n",
    "struct.unpack('=LLLLLLLdLLdLLdL', data[:72])"
   ]
  },
  {
   "cell_type": "code",
   "execution_count": 46,
   "metadata": {},
   "outputs": [
    {
     "ename": "OSError",
     "evalue": "D:/CIMLuser/adrien/Simulations/20200709\\DC05_RF10\\Try00/Temp_SimuType0_00_N01024_Vrf0064_Udc0.3000D+01V_D1.0_S1.0RFG.dat not found.",
     "output_type": "error",
     "traceback": [
      "\u001b[1;31m---------------------------------------------------------------------------\u001b[0m",
      "\u001b[1;31mOSError\u001b[0m                                   Traceback (most recent call last)",
      "\u001b[1;32m<ipython-input-46-05e22889583b>\u001b[0m in \u001b[0;36m<module>\u001b[1;34m()\u001b[0m\n\u001b[0;32m      1\u001b[0m \u001b[1;31m# Get T and fluo PM\u001b[0m\u001b[1;33m\u001b[0m\u001b[1;33m\u001b[0m\u001b[0m\n\u001b[0;32m      2\u001b[0m \u001b[0monlyfiles\u001b[0m \u001b[1;33m=\u001b[0m \u001b[1;33m[\u001b[0m\u001b[0mf\u001b[0m \u001b[1;32mfor\u001b[0m \u001b[0mf\u001b[0m \u001b[1;32min\u001b[0m \u001b[0mlistdir\u001b[0m\u001b[1;33m(\u001b[0m\u001b[0mdirname_hc\u001b[0m\u001b[1;33m)\u001b[0m \u001b[1;32mif\u001b[0m \u001b[0misfile\u001b[0m\u001b[1;33m(\u001b[0m\u001b[0mjoin\u001b[0m\u001b[1;33m(\u001b[0m\u001b[0mdirname_hc\u001b[0m\u001b[1;33m,\u001b[0m \u001b[0mf\u001b[0m\u001b[1;33m)\u001b[0m\u001b[1;33m)\u001b[0m \u001b[1;32mand\u001b[0m \u001b[1;34m\"SimuType\"\u001b[0m \u001b[1;32min\u001b[0m \u001b[0mf\u001b[0m \u001b[1;32mand\u001b[0m \u001b[1;34m\".dat\"\u001b[0m \u001b[1;32min\u001b[0m \u001b[0mf\u001b[0m\u001b[1;33m]\u001b[0m\u001b[1;33m\u001b[0m\u001b[0m\n\u001b[1;32m----> 3\u001b[1;33m \u001b[0mta\u001b[0m\u001b[1;33m,\u001b[0m \u001b[0mte\u001b[0m\u001b[1;33m,\u001b[0m \u001b[0mti\u001b[0m \u001b[1;33m=\u001b[0m \u001b[0mplot_T_and_PM_Init_Inje_Evol\u001b[0m\u001b[1;33m(\u001b[0m\u001b[0mdirname_hc\u001b[0m\u001b[1;33m,\u001b[0m\u001b[0msort\u001b[0m\u001b[1;33m(\u001b[0m\u001b[0monlyfiles\u001b[0m\u001b[1;33m)\u001b[0m\u001b[1;33m[\u001b[0m\u001b[1;36m0\u001b[0m\u001b[1;33m]\u001b[0m\u001b[1;33m.\u001b[0m\u001b[0mstrip\u001b[0m\u001b[1;33m(\u001b[0m\u001b[1;34m'.dat'\u001b[0m\u001b[1;33m)\u001b[0m\u001b[1;33m[\u001b[0m\u001b[1;36m4\u001b[0m\u001b[1;33m:\u001b[0m\u001b[1;33m]\u001b[0m\u001b[1;33m,\u001b[0m\u001b[1;34m'coucou'\u001b[0m \u001b[1;33m)\u001b[0m\u001b[1;33m\u001b[0m\u001b[0m\n\u001b[0m\u001b[0;32m      4\u001b[0m \u001b[1;33m\u001b[0m\u001b[0m\n\u001b[0;32m      5\u001b[0m \u001b[1;31m# ,xlim1=(3.458,3.582),ylim1=(2e-4,50),ylim2=(19.5,65)\u001b[0m\u001b[1;33m\u001b[0m\u001b[1;33m\u001b[0m\u001b[0m\n",
      "\u001b[1;32m<ipython-input-45-5214827c33bf>\u001b[0m in \u001b[0;36mplot_T_and_PM_Init_Inje_Evol\u001b[1;34m(file_dir2, file_name, fig_name, **kwargs)\u001b[0m\n\u001b[0;32m     16\u001b[0m \u001b[1;33m\u001b[0m\u001b[0m\n\u001b[0;32m     17\u001b[0m     \u001b[1;31m# tt0, T_CM0, T_aux0, PM0 = load_T_and_PM_simu(file_dir2+file0)\u001b[0m\u001b[1;33m\u001b[0m\u001b[1;33m\u001b[0m\u001b[0m\n\u001b[1;32m---> 18\u001b[1;33m     \u001b[0mtt1\u001b[0m\u001b[1;33m,\u001b[0m \u001b[0mT_CM1\u001b[0m\u001b[1;33m,\u001b[0m \u001b[0mT_aux1\u001b[0m\u001b[1;33m,\u001b[0m \u001b[0mPM1\u001b[0m \u001b[1;33m=\u001b[0m \u001b[0mload_T_and_PM_simu\u001b[0m\u001b[1;33m(\u001b[0m\u001b[0mfile_dir2\u001b[0m\u001b[1;33m+\u001b[0m\u001b[1;34m'Temp_'\u001b[0m\u001b[1;33m+\u001b[0m\u001b[0mfile1\u001b[0m\u001b[1;33m)\u001b[0m\u001b[1;33m\u001b[0m\u001b[0m\n\u001b[0m\u001b[0;32m     19\u001b[0m     \u001b[0mtt2\u001b[0m\u001b[1;33m,\u001b[0m \u001b[0mT_CM2\u001b[0m\u001b[1;33m,\u001b[0m \u001b[0mT_aux2\u001b[0m\u001b[1;33m,\u001b[0m \u001b[0mPM2\u001b[0m \u001b[1;33m=\u001b[0m \u001b[0mload_T_and_PM_simu\u001b[0m\u001b[1;33m(\u001b[0m\u001b[0mfile_dir2\u001b[0m\u001b[1;33m+\u001b[0m\u001b[1;34m'Temp_'\u001b[0m\u001b[1;33m+\u001b[0m\u001b[0mfile2\u001b[0m\u001b[1;33m+\u001b[0m\u001b[1;34m'50eV'\u001b[0m\u001b[1;33m)\u001b[0m\u001b[1;33m\u001b[0m\u001b[0m\n\u001b[0;32m     20\u001b[0m     \u001b[0mtt3\u001b[0m\u001b[1;33m,\u001b[0m \u001b[0mT_CM3\u001b[0m\u001b[1;33m,\u001b[0m \u001b[0mT_aux3\u001b[0m\u001b[1;33m,\u001b[0m \u001b[0mPM3\u001b[0m \u001b[1;33m=\u001b[0m \u001b[0mload_T_and_PM_simu\u001b[0m\u001b[1;33m(\u001b[0m\u001b[0mfile_dir2\u001b[0m\u001b[1;33m+\u001b[0m\u001b[1;34m'Temp_'\u001b[0m\u001b[1;33m+\u001b[0m\u001b[0mfile3\u001b[0m\u001b[1;33m+\u001b[0m\u001b[1;34m'50eV'\u001b[0m\u001b[1;33m)\u001b[0m\u001b[1;33m\u001b[0m\u001b[0m\n",
      "\u001b[1;32mD:\\CIMLuser\\Documents\\GitHub\\GiantMol\\Functions\\1.2\\data_fct_Adrien_point_by_point.py\u001b[0m in \u001b[0;36mload_T_and_PM_simu\u001b[1;34m(str_load)\u001b[0m\n\u001b[0;32m     83\u001b[0m \u001b[1;33m\u001b[0m\u001b[0m\n\u001b[0;32m     84\u001b[0m \u001b[1;32mdef\u001b[0m \u001b[0mload_T_and_PM_simu\u001b[0m\u001b[1;33m(\u001b[0m\u001b[0mstr_load\u001b[0m\u001b[1;33m)\u001b[0m\u001b[1;33m:\u001b[0m\u001b[1;33m\u001b[0m\u001b[0m\n\u001b[1;32m---> 85\u001b[1;33m     \u001b[0mdata\u001b[0m \u001b[1;33m=\u001b[0m \u001b[0mloadtxt\u001b[0m\u001b[1;33m(\u001b[0m\u001b[1;34m'{}.dat'\u001b[0m\u001b[1;33m.\u001b[0m\u001b[0mformat\u001b[0m\u001b[1;33m(\u001b[0m\u001b[0mstr_load\u001b[0m\u001b[1;33m)\u001b[0m\u001b[1;33m,\u001b[0m\u001b[0mcomments\u001b[0m\u001b[1;33m=\u001b[0m\u001b[1;34m'%'\u001b[0m\u001b[1;33m)\u001b[0m\u001b[1;33m;\u001b[0m\u001b[1;33m\u001b[0m\u001b[0m\n\u001b[0m\u001b[0;32m     86\u001b[0m     \u001b[1;32mreturn\u001b[0m \u001b[0mdata\u001b[0m\u001b[1;33m[\u001b[0m\u001b[1;33m:\u001b[0m\u001b[1;33m,\u001b[0m\u001b[1;36m0\u001b[0m\u001b[1;33m]\u001b[0m\u001b[1;33m,\u001b[0m\u001b[0mdata\u001b[0m\u001b[1;33m[\u001b[0m\u001b[1;33m:\u001b[0m\u001b[1;33m,\u001b[0m\u001b[1;36m1\u001b[0m\u001b[1;33m:\u001b[0m\u001b[1;36m4\u001b[0m\u001b[1;33m]\u001b[0m\u001b[1;33m,\u001b[0m \u001b[0mdata\u001b[0m\u001b[1;33m[\u001b[0m\u001b[1;33m:\u001b[0m\u001b[1;33m,\u001b[0m\u001b[1;36m4\u001b[0m\u001b[1;33m:\u001b[0m\u001b[1;36m7\u001b[0m\u001b[1;33m]\u001b[0m\u001b[1;33m,\u001b[0m \u001b[0mdata\u001b[0m\u001b[1;33m[\u001b[0m\u001b[1;33m:\u001b[0m\u001b[1;33m,\u001b[0m\u001b[1;36m7\u001b[0m\u001b[1;33m]\u001b[0m \u001b[1;31m# tt, T_CM, T_aux, PM\u001b[0m\u001b[1;33m\u001b[0m\u001b[0m\n\u001b[0;32m     87\u001b[0m \u001b[1;33m\u001b[0m\u001b[0m\n",
      "\u001b[1;32mC:\\Anaconda3\\envs\\py37\\lib\\site-packages\\numpy\\lib\\npyio.py\u001b[0m in \u001b[0;36mloadtxt\u001b[1;34m(fname, dtype, comments, delimiter, converters, skiprows, usecols, unpack, ndmin, encoding)\u001b[0m\n\u001b[0;32m    924\u001b[0m             \u001b[0mfname\u001b[0m \u001b[1;33m=\u001b[0m \u001b[0mstr\u001b[0m\u001b[1;33m(\u001b[0m\u001b[0mfname\u001b[0m\u001b[1;33m)\u001b[0m\u001b[1;33m\u001b[0m\u001b[0m\n\u001b[0;32m    925\u001b[0m         \u001b[1;32mif\u001b[0m \u001b[0m_is_string_like\u001b[0m\u001b[1;33m(\u001b[0m\u001b[0mfname\u001b[0m\u001b[1;33m)\u001b[0m\u001b[1;33m:\u001b[0m\u001b[1;33m\u001b[0m\u001b[0m\n\u001b[1;32m--> 926\u001b[1;33m             \u001b[0mfh\u001b[0m \u001b[1;33m=\u001b[0m \u001b[0mnp\u001b[0m\u001b[1;33m.\u001b[0m\u001b[0mlib\u001b[0m\u001b[1;33m.\u001b[0m\u001b[0m_datasource\u001b[0m\u001b[1;33m.\u001b[0m\u001b[0mopen\u001b[0m\u001b[1;33m(\u001b[0m\u001b[0mfname\u001b[0m\u001b[1;33m,\u001b[0m \u001b[1;34m'rt'\u001b[0m\u001b[1;33m,\u001b[0m \u001b[0mencoding\u001b[0m\u001b[1;33m=\u001b[0m\u001b[0mencoding\u001b[0m\u001b[1;33m)\u001b[0m\u001b[1;33m\u001b[0m\u001b[0m\n\u001b[0m\u001b[0;32m    927\u001b[0m             \u001b[0mfencoding\u001b[0m \u001b[1;33m=\u001b[0m \u001b[0mgetattr\u001b[0m\u001b[1;33m(\u001b[0m\u001b[0mfh\u001b[0m\u001b[1;33m,\u001b[0m \u001b[1;34m'encoding'\u001b[0m\u001b[1;33m,\u001b[0m \u001b[1;34m'latin1'\u001b[0m\u001b[1;33m)\u001b[0m\u001b[1;33m\u001b[0m\u001b[0m\n\u001b[0;32m    928\u001b[0m             \u001b[0mfh\u001b[0m \u001b[1;33m=\u001b[0m \u001b[0miter\u001b[0m\u001b[1;33m(\u001b[0m\u001b[0mfh\u001b[0m\u001b[1;33m)\u001b[0m\u001b[1;33m\u001b[0m\u001b[0m\n",
      "\u001b[1;32mC:\\Anaconda3\\envs\\py37\\lib\\site-packages\\numpy\\lib\\_datasource.py\u001b[0m in \u001b[0;36mopen\u001b[1;34m(path, mode, destpath, encoding, newline)\u001b[0m\n\u001b[0;32m    260\u001b[0m \u001b[1;33m\u001b[0m\u001b[0m\n\u001b[0;32m    261\u001b[0m     \u001b[0mds\u001b[0m \u001b[1;33m=\u001b[0m \u001b[0mDataSource\u001b[0m\u001b[1;33m(\u001b[0m\u001b[0mdestpath\u001b[0m\u001b[1;33m)\u001b[0m\u001b[1;33m\u001b[0m\u001b[0m\n\u001b[1;32m--> 262\u001b[1;33m     \u001b[1;32mreturn\u001b[0m \u001b[0mds\u001b[0m\u001b[1;33m.\u001b[0m\u001b[0mopen\u001b[0m\u001b[1;33m(\u001b[0m\u001b[0mpath\u001b[0m\u001b[1;33m,\u001b[0m \u001b[0mmode\u001b[0m\u001b[1;33m,\u001b[0m \u001b[0mencoding\u001b[0m\u001b[1;33m=\u001b[0m\u001b[0mencoding\u001b[0m\u001b[1;33m,\u001b[0m \u001b[0mnewline\u001b[0m\u001b[1;33m=\u001b[0m\u001b[0mnewline\u001b[0m\u001b[1;33m)\u001b[0m\u001b[1;33m\u001b[0m\u001b[0m\n\u001b[0m\u001b[0;32m    263\u001b[0m \u001b[1;33m\u001b[0m\u001b[0m\n\u001b[0;32m    264\u001b[0m \u001b[1;33m\u001b[0m\u001b[0m\n",
      "\u001b[1;32mC:\\Anaconda3\\envs\\py37\\lib\\site-packages\\numpy\\lib\\_datasource.py\u001b[0m in \u001b[0;36mopen\u001b[1;34m(self, path, mode, encoding, newline)\u001b[0m\n\u001b[0;32m    616\u001b[0m                                       encoding=encoding, newline=newline)\n\u001b[0;32m    617\u001b[0m         \u001b[1;32melse\u001b[0m\u001b[1;33m:\u001b[0m\u001b[1;33m\u001b[0m\u001b[0m\n\u001b[1;32m--> 618\u001b[1;33m             \u001b[1;32mraise\u001b[0m \u001b[0mIOError\u001b[0m\u001b[1;33m(\u001b[0m\u001b[1;34m\"%s not found.\"\u001b[0m \u001b[1;33m%\u001b[0m \u001b[0mpath\u001b[0m\u001b[1;33m)\u001b[0m\u001b[1;33m\u001b[0m\u001b[0m\n\u001b[0m\u001b[0;32m    619\u001b[0m \u001b[1;33m\u001b[0m\u001b[0m\n\u001b[0;32m    620\u001b[0m \u001b[1;33m\u001b[0m\u001b[0m\n",
      "\u001b[1;31mOSError\u001b[0m: D:/CIMLuser/adrien/Simulations/20200709\\DC05_RF10\\Try00/Temp_SimuType0_00_N01024_Vrf0064_Udc0.3000D+01V_D1.0_S1.0RFG.dat not found."
     ]
    }
   ],
   "source": [
    "# Get T and fluo PM\n",
    "onlyfiles = [f for f in listdir(dirname_hc) if isfile(join(dirname_hc, f)) and \"SimuType\" in f and \".dat\" in f]\n",
    "ta, te, ti = plot_T_and_PM_Init_Inje_Evol(dirname_hc,sort(onlyfiles)[0].strip('.dat')[4:],'coucou' )\n",
    "\n",
    "# ,xlim1=(3.458,3.582),ylim1=(2e-4,50),ylim2=(19.5,65)"
   ]
  },
  {
   "cell_type": "code",
   "execution_count": 44,
   "metadata": {},
   "outputs": [
    {
     "ename": "NameError",
     "evalue": "name 'ta' is not defined",
     "output_type": "error",
     "traceback": [
      "\u001b[1;31m---------------------------------------------------------------------------\u001b[0m",
      "\u001b[1;31mNameError\u001b[0m                                 Traceback (most recent call last)",
      "\u001b[1;32m<ipython-input-44-a931cd5d00ce>\u001b[0m in \u001b[0;36m<module>\u001b[1;34m()\u001b[0m\n\u001b[0;32m      2\u001b[0m \u001b[1;33m\u001b[0m\u001b[0m\n\u001b[0;32m      3\u001b[0m \u001b[0mtt_Lan\u001b[0m \u001b[1;33m=\u001b[0m \u001b[0mlinspace\u001b[0m\u001b[1;33m(\u001b[0m\u001b[1;36m0\u001b[0m\u001b[1;33m,\u001b[0m\u001b[0mdt_j_save_next\u001b[0m\u001b[1;33m*\u001b[0m\u001b[1;36m5e3\u001b[0m\u001b[1;33m,\u001b[0m\u001b[0mj_save\u001b[0m\u001b[1;33m)\u001b[0m \u001b[1;31m# dt_j_save_next*100 duration of Langevin run\u001b[0m\u001b[1;33m\u001b[0m\u001b[0m\n\u001b[1;32m----> 4\u001b[1;33m \u001b[0mtt_md\u001b[0m \u001b[1;33m=\u001b[0m \u001b[0msubtract\u001b[0m\u001b[1;33m(\u001b[0m\u001b[0mta\u001b[0m\u001b[1;33m[\u001b[0m\u001b[1;36m0\u001b[0m\u001b[1;33m]\u001b[0m\u001b[1;33m,\u001b[0m\u001b[1;33m-\u001b[0m\u001b[0mdt_j_save_next\u001b[0m\u001b[1;33m*\u001b[0m\u001b[1;36m5e3\u001b[0m\u001b[1;33m)\u001b[0m\u001b[1;33m\u001b[0m\u001b[0m\n\u001b[0m\u001b[0;32m      5\u001b[0m \u001b[0mT_aux\u001b[0m \u001b[1;33m=\u001b[0m \u001b[0mte\u001b[0m\u001b[1;33m[\u001b[0m\u001b[1;36m0\u001b[0m\u001b[1;33m]\u001b[0m\u001b[1;33m\u001b[0m\u001b[0m\n\u001b[0;32m      6\u001b[0m \u001b[1;33m\u001b[0m\u001b[0m\n",
      "\u001b[1;31mNameError\u001b[0m: name 'ta' is not defined"
     ]
    }
   ],
   "source": [
    "# Plot temperature Langevin + md laser\n",
    "\n",
    "tt_Lan = linspace(0,dt_j_save_next*5e3,j_save) # dt_j_save_next*100 duration of Langevin run\n",
    "tt_md = subtract(ta[0],-dt_j_save_next*5e3)\n",
    "T_aux = te[0]\n",
    "\n",
    "tt = concatenate((tt_Lan,tt_md))\n",
    "T_aux_reshape = [T_aux[:,0],T_aux[:,1],T_aux[:,2]]\n",
    "T_all = concatenate((save_T,T_aux_reshape),axis=1)\n",
    "\n",
    "PM = ti[0]\n",
    "\n",
    "\n",
    "#fig_name = file_name[-9:]\n",
    "figure('Temperature'); clf()\n",
    "ax1 = subplot(211)\n",
    "semilogy(tt*1e3,T_all[0], label='Tx',color='C0')\n",
    "semilogy(tt*1e3,T_all[1], label='Ty',color='C1')\n",
    "semilogy(tt*1e3,T_all[2], label='Tz',color='C2')\n",
    "semilogy(tt_Lan*1.e3,save_T[0], label='Tx',color='C0')\n",
    "semilogy(tt_Lan*1.e3,save_T[1], label='Ty',color='C1')\n",
    "semilogy(tt_Lan*1.e3,save_T[2], label='Tz',color='C2')\n",
    "vlines(ta[1]*1e3,1e-4,1e4,color='red')\n",
    "vlines(ta[2]*1e3,1e-4,1e4,color='red')\n",
    "ax1.grid()\n",
    "# annotate('Laser ON', xy=(0.5,350), xycoords='data',\n",
    "    # size=24, ha='left', va='top', color='xkcd:azul',\n",
    "    # bbox=dict(boxstyle='round', fc='white',edgecolor='xkcd:azul'))\n",
    "\n",
    "# ~ xlabel('time[ms]')\n",
    "# ~ ylabel('T[K]')\n",
    "plt.setp(ax1.get_xticklabels(),visible=False)\n",
    "\n",
    "ax2 = subplot(212,sharex=ax1)\n",
    "plot(tt_md*1e3,PM, label='Tx')\n",
    "ax2.grid()\n",
    "# annotate('laser off après injection', xy=(0.5,350), xycoords='data',\n",
    "    # size=24, ha='left', va='top', color='xkcd:azul',\n",
    "    # bbox=dict(boxstyle='round', fc='white',edgecolor='xkcd:azul'))\n",
    "\n",
    "xlabel('time[ms]')\n",
    "ylabel('Counts')\n",
    "\n",
    "plt.tight_layout()\n",
    "subplots_adjust(hspace=0.015)"
   ]
  },
  {
   "cell_type": "code",
   "execution_count": 115,
   "metadata": {},
   "outputs": [
    {
     "name": "stderr",
     "output_type": "stream",
     "text": [
      "C:\\Anaconda3\\envs\\py37\\lib\\site-packages\\matplotlib\\axes\\_base.py:3157: UserWarning: Attempted to set non-positive xlimits for log-scale axis; invalid limits will be ignored.\n",
      "  'Attempted to set non-positive xlimits for log-scale axis; '\n",
      "C:\\Anaconda3\\envs\\py37\\lib\\site-packages\\matplotlib\\axes\\_base.py:3477: UserWarning: Attempted to set non-positive ylimits for log-scale axis; invalid limits will be ignored.\n",
      "  'Attempted to set non-positive ylimits for log-scale axis; '\n"
     ]
    },
    {
     "name": "stdout",
     "output_type": "stream",
     "text": [
      "[3.49036049e-01 1.00368890e+00 1.68270521e+01 ... 5.03327531e-04\n",
      " 5.36961181e-04 5.46548981e-04]\n",
      "[3.26952994e-01 9.01294544e-01 1.56483603e+01 ... 5.05722493e-04\n",
      " 4.94560152e-04 5.00883637e-04]\n",
      "[3.34702242e-01 9.43264259e-01 1.67832788e+01 ... 5.23256041e-04\n",
      " 5.15622945e-04 5.21073663e-04]\n",
      "[3.31211498e-01 9.14815460e-01 1.77225904e+01 ... 4.61497942e-04\n",
      " 4.62151493e-04 4.75593624e-04]\n",
      "[2.98640293e-01 9.26836488e-01 1.72233479e+01 ... 5.02718886e-04\n",
      " 5.06381304e-04 5.14963582e-04]\n",
      "[3.06470145e-01 9.11617589e-01 1.78016715e+01 ... 4.80585013e-04\n",
      " 4.88526847e-04 5.06428194e-04]\n",
      "[3.03422533e-01 8.63009001e-01 2.08207234e+01 ... 4.98127423e-04\n",
      " 5.16530110e-04 5.27056477e-04]\n",
      "[3.06318856e-01 8.78552276e-01 1.64796268e+01 ... 5.33283781e-04\n",
      " 5.24381243e-04 5.20996088e-04]\n",
      "[3.48043192e-01 9.94163613e-01 1.85850321e+01 ... 4.63838210e-04\n",
      " 4.83415408e-04 4.93109081e-04]\n",
      "[3.49263971e-01 9.78809455e-01 2.19188910e+01 ... 5.07962269e-04\n",
      " 4.92059708e-04 4.67943383e-04]\n",
      "[3.23667637e-01 8.93400219e-01 1.70306537e+01 ... 5.24060480e-04\n",
      " 5.40097757e-04 5.60866102e-04]\n",
      "[3.75121086e-01 1.02183753e+00 2.04101018e+02 ... 5.11697762e-04\n",
      " 4.81578115e-04 4.80753419e-04]\n",
      "[2.76831361e-01 7.94516994e-01 1.79927330e+01 ... 5.30193866e-04\n",
      " 5.09695333e-04 5.04155772e-04]\n"
     ]
    }
   ],
   "source": [
    "# Plot all fluo rf relax après refroidissement\n",
    "\n",
    "fig, ax = plt.subplots(4, 4,num='Fluo interaction Gmol Ca+',clear=True,sharex=True,sharey=True)\n",
    "fig.set_size_inches(11.69,8.27)\n",
    "# suptitle('Saturation 866')\n",
    "to_plot = 0\n",
    "\n",
    "for l in range(0,4):\n",
    "    for k in range(0,4):\n",
    "        \n",
    "        plot_point = 0\n",
    "        plot_try = to_plot\n",
    "        dirname_hc = str(data0[plot_point][plot_try])+'/'\n",
    "        N_ions, j_save, dt_j_save_next, eta, Temp, save_T =\\\n",
    "        load_Temp_init_bin_Lan(dirname_hc+datainit_hc)\n",
    "        # Get T and fluo PM\n",
    "        onlyfiles = [f for f in listdir(dirname_hc) if isfile(join(dirname_hc, f)) and \"SimuType\" in f and \".dat\" in f]\n",
    "        ta, te, ti = plot_T_and_PM_Init_Inje_Evol(dirname_hc,sort(onlyfiles)[0].strip('.dat')[4:],'coucou' )\n",
    "        \n",
    "        tt_Lan = linspace(0,dt_j_save_next*5e3,j_save) # dt_j_save_next*100 duration of Langevin run\n",
    "        tt_md = subtract(ta[0],-dt_j_save_next*5e3)\n",
    "        T_aux = te[0]\n",
    "\n",
    "        tt = concatenate((tt_Lan,tt_md))\n",
    "        T_aux_reshape = [T_aux[:,0],T_aux[:,1],T_aux[:,2]]\n",
    "        T_all = concatenate((save_T,T_aux_reshape),axis=1)\n",
    "\n",
    "        PM = ti[0]\n",
    "        \n",
    "        ax[k,l].semilogy(tt*1e3,T_all[0], label='Tx',color='C0')\n",
    "        ax[k,l].semilogy(tt*1e3,T_all[1], label='Tx',color='C1')\n",
    "        ax[k,l].semilogy(tt*1e3,T_all[2], label='Tx',color='C2')\n",
    "        ax[k,l].vlines(ta[1]*1e3,1e-4,1e4,color='red')\n",
    "        ax[k,l].vlines(ta[2]*1e3,1e-4,1e4,color='red')\n",
    "        ax[k,l].set_yticks([1e-4,1e-2,1,1e2,1e4])\n",
    "        ax[k,l].grid()\n",
    "    #     ax[k].set_ylim(-0.1,0.55)\n",
    "        ax[k,l].xaxis.set_major_locator(matplotlib.ticker.MultipleLocator(base=2))\n",
    "        ax[k,l].annotate('try'+str(to_plot), xy=(0.80, 0.99), xycoords='axes fraction', # pts_concerned[to_plot]\n",
    "                size=12, ha='left', va='top',\n",
    "                bbox=dict(boxstyle='round', fc='w'))\n",
    "        to_plot += 1\n",
    "        if to_plot == 13:\n",
    "            break\n",
    "    if to_plot == 13:\n",
    "        break\n",
    "# ax[3].set_xlim(-10,4000)\n",
    "# ax[k,l].set_ylim(2e-4,1e-1)\n",
    "fig.text(0.56, 0.04, 'time [ms]', ha='center')\n",
    "fig.text(0.04, 0.54, 'T [K]', va='center', rotation='vertical')\n",
    "\n",
    "# fig.suptitle(pt_to_plot[0][:-6],fontsize=10)\n",
    "\n",
    "# fig.text(0.5, 0.01, 'f', ha='center')\n",
    "# fig.text(0.01, 0.5, r'$| FFT(HC(t)) | / N_{sample}$', va='center', rotation='vertical')\n",
    "\n",
    "fig.set_size_inches(11.69,8.27)\n",
    "plt.tight_layout()\n",
    "subplots_adjust(hspace=0.05, wspace = 0.05, bottom = 0.120, left = 0.140) # hspace=0, top=0.95, left = 0.065, bottom = 0.07\n",
    "# savefig('FFT_lock_oscillo_0_11500.png')"
   ]
  },
  {
   "cell_type": "code",
   "execution_count": null,
   "metadata": {},
   "outputs": [],
   "source": []
  },
  {
   "cell_type": "code",
   "execution_count": null,
   "metadata": {},
   "outputs": [],
   "source": []
  },
  {
   "cell_type": "code",
   "execution_count": null,
   "metadata": {},
   "outputs": [],
   "source": [
    "# plot ion cloud XYZ\n",
    "\n",
    "print(plot_subdir)\n",
    "onlyfiles = [f for f in listdir(plot_subdir) if isfile(join(plot_subdir, f)) and not \"xva\" in f and \".dat\" in f]\n",
    "file_name = '{}/xva{}'.format(plot_subdir,sort(onlyfiles)[0].strip('.dat')[4:])\n",
    "plot_XYZ(file_name,fig_name='XYZ_point'+str(plot_point)+'_try'+str(plot_try),fig_title='XYZ')"
   ]
  }
 ],
 "metadata": {
  "kernelspec": {
   "display_name": "Python 3",
   "language": "python",
   "name": "python3"
  },
  "language_info": {
   "codemirror_mode": {
    "name": "ipython",
    "version": 3
   },
   "file_extension": ".py",
   "mimetype": "text/x-python",
   "name": "python",
   "nbconvert_exporter": "python",
   "pygments_lexer": "ipython3",
   "version": "3.7.0"
  }
 },
 "nbformat": 4,
 "nbformat_minor": 2
}
