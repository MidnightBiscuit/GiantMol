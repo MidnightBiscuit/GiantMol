{
 "cells": [
  {
   "cell_type": "code",
   "execution_count": 1,
   "metadata": {},
   "outputs": [],
   "source": [
    "# %pylab\n",
    "\n",
    "import numpy\n",
    "import matplotlib\n",
    "from matplotlib import pylab, mlab, pyplot\n",
    "from mpl_toolkits.mplot3d import Axes3D\n",
    "np = numpy\n",
    "plt = pyplot\n",
    "\n",
    "from pylab import *\n",
    "from numpy import *"
   ]
  },
  {
   "cell_type": "code",
   "execution_count": 2,
   "metadata": {},
   "outputs": [],
   "source": [
    "import os\n",
    "from os import listdir\n",
    "from os.path import isfile, join\n",
    "\n",
    "import tkinter as tk\n",
    "from tkinter import filedialog\n",
    "%matplotlib qt\n",
    "\n",
    "from pathlib import Path"
   ]
  },
  {
   "cell_type": "code",
   "execution_count": 3,
   "metadata": {},
   "outputs": [],
   "source": [
    "from natsort import natsorted   # natural sort marche de ouf\n",
    "import re                       # find '/' in strings\n",
    "import timeit\n",
    "cm = pylab.get_cmap('summer')   # colormap par défaut color=cm(k/len(array))"
   ]
  },
  {
   "cell_type": "code",
   "execution_count": 4,
   "metadata": {},
   "outputs": [],
   "source": [
    "# Fonctions persos de Jofre et Adrien\n",
    "\n",
    "# %run function_jofre.ipy\n",
    "%run ../../Functions/1.2/data_fct_Adrien_point_by_point\n",
    "\n",
    "matplotlib.rcParams.update({'font.size': 25})"
   ]
  },
  {
   "cell_type": "code",
   "execution_count": 5,
   "metadata": {},
   "outputs": [],
   "source": [
    "my_order = [0,1,2,3,4,5,6,7,8,9,10,11,12,13,14,15,16,17,18,19,24,25,26,27,20,21,22,23]"
   ]
  },
  {
   "cell_type": "code",
   "execution_count": 6,
   "metadata": {},
   "outputs": [],
   "source": [
    "files_to_load = [\n",
    "    'detection_rate_6eV.npz',\n",
    "    'detection_rate_10eV.npz',\n",
    "    'detection_rate_50eV.npz',\n",
    "    'detection_rate_100eV.npz',\n",
    "    'detection_rate_1000eV.npz',\n",
    "]"
   ]
  },
  {
   "cell_type": "code",
   "execution_count": 7,
   "metadata": {},
   "outputs": [
    {
     "name": "stdout",
     "output_type": "stream",
     "text": [
      "detection_rate_6eV.npz\n",
      "detection_rate_10eV.npz\n",
      "detection_rate_50eV.npz\n",
      "detection_rate_100eV.npz\n",
      "detection_rate_1000eV.npz\n",
      "[[0.45, 1.0, 1.0, 1.0, 0.0, 1.0, 1.0, 1.0, 0.0, 0.3, 1.0, 1.0, 0.0, 0.05, 0.8, 1.0, 0.0, 0.0, 0.7, 1.0, 0.0, 0.0, 0.2, 1.0, 0.0, 0.0, 0.5, 1.0], [0.9523809523809523, 1.0, 1.0, 1.0, 0.09523809523809523, 1.0, 1.0, 1.0, 0.0, 0.6666666666666666, 1.0, 1.0, 0.0, 0.19047619047619047, 1.0, 1.0, 0.0, 0.09523809523809523, 0.5714285714285714, 1.0, 0.0, 0.0, 0.19047619047619047, 1.0, 0.0, 0.0, 0.9523809523809523, 1.0], [0.63, 1.0, 1.0, 1.0, 0.14, 0.99, 1.0, 1.0, 0.0, 0.3, 0.98, 1.0, 0.0, 0.05, 0.71, 1.0, 0.0, 0.31, 0.34, 1.0, 0.0, 0.0, 0.39, 1.0, 0.0, 0.0, 0.86, 0.92], [0.43333333333333335, 1.0, 1.0, 1.0, 0.03333333333333333, 0.9666666666666667, 1.0, 1.0, 0.0, 0.1, 0.8, 1.0, 0.0, 0.0, 0.4, 1.0, 0.0, 0.16666666666666666, 0.1, 0.9333333333333333, 0.0, 0.0, 0.23333333333333334, 0.9333333333333333, 0.0, 0.03333333333333333, 0.7333333333333333, 0.8333333333333334], [0.0, 0.14285714285714285, 0.5714285714285714, 1.0, 0.0, 0.0, 0.2857142857142857, 0.5714285714285714, 0.0, 0.0, 0.09523809523809523, 0.8571428571428571, 0.0, 0.0, 0.047619047619047616, 0.38095238095238093, 0.0, 0.0, 0.047619047619047616, 0.19047619047619047, 0.0, 0.0, 0.0, 0.3333333333333333, 0.0, 0.0, 0.0, 0.09523809523809523]]\n",
      "{'DC01_RF08': ['01', '08'], 'DC01_RF09': ['01', '09'], 'DC01_RF10': ['01', '10'], 'DC01_RF11': ['01', '11'], 'DC03_RF08': ['03', '08'], 'DC03_RF09': ['03', '09'], 'DC03_RF10': ['03', '10'], 'DC03_RF11': ['03', '11'], 'DC05_RF08': ['05', '08'], 'DC05_RF09': ['05', '09'], 'DC05_RF10': ['05', '10'], 'DC05_RF11': ['05', '11'], 'DC07_RF08': ['07', '08'], 'DC07_RF09': ['07', '09'], 'DC07_RF10': ['07', '10'], 'DC07_RF11': ['07', '11'], 'DC09_RF08': ['09', '08'], 'DC09_RF09': ['09', '09'], 'DC09_RF10': ['09', '10'], 'DC09_RF11': ['09', '11'], 'DC11_RF08': ['11', '08'], 'DC11_RF09': ['11', '09'], 'DC11_RF10': ['11', '10'], 'DC11_RF11': ['11', '11'], 'DC18_RF08': ['18', '08'], 'DC18_RF09': ['18', '09'], 'DC18_RF10': ['18', '10'], 'DC18_RF11': ['18', '11']}\n"
     ]
    }
   ],
   "source": [
    "E0_GMol = [6,10,50,100,1000]\n",
    "detect_rate = []\n",
    "mean_std_deltaEc = []\n",
    "\n",
    "for w,my_E0 in enumerate(E0_GMol):\n",
    "    outfile = files_to_load[w]\n",
    "    print(outfile)\n",
    "    # E0_GMol, detect_rate, mean_std_deltaEc, points_and_coord, Udc,Urf\n",
    "    with load(outfile, allow_pickle=True) as data:    \n",
    "        detect_rate.append(list(data['detect_rate']))\n",
    "        mean_std_deltaEc.append(list(data['mean_std_deltaEc']))\n",
    "        \n",
    "with load(outfile, allow_pickle=True) as data:    \n",
    "    points_and_coord = data['points_and_coord']\n",
    "print(detect_rate)\n",
    "print(points_and_coord)\n",
    "\n",
    "# detect_rate = reshape(detect_rate,(28,4),order='F')"
   ]
  },
  {
   "cell_type": "code",
   "execution_count": 49,
   "metadata": {},
   "outputs": [
    {
     "data": {
      "text/plain": [
       "(5, 28, 4)"
      ]
     },
     "execution_count": 49,
     "metadata": {},
     "output_type": "execute_result"
    }
   ],
   "source": [
    "shape(mean_std_deltaEc)"
   ]
  },
  {
   "cell_type": "code",
   "execution_count": 8,
   "metadata": {},
   "outputs": [],
   "source": [
    "# renormalize SNR  :  21,21,100,30,21\n",
    "renorm_SNR = [1,1,100/21,30/21,1]\n",
    "for w,my_E0 in enumerate(E0_GMol):\n",
    "    detect_rate[w] = multiply(asanyarray(detect_rate)[w],renorm_SNR[w])"
   ]
  },
  {
   "cell_type": "code",
   "execution_count": 9,
   "metadata": {},
   "outputs": [
    {
     "name": "stdout",
     "output_type": "stream",
     "text": [
      "(5, 28)\n"
     ]
    },
    {
     "data": {
      "text/plain": [
       "[array([0.45, 1.  , 1.  , 1.  , 0.  , 1.  , 1.  , 1.  , 0.  , 0.3 , 1.  ,\n",
       "        1.  , 0.  , 0.05, 0.8 , 1.  , 0.  , 0.  , 0.7 , 1.  , 0.  , 0.  ,\n",
       "        0.2 , 1.  , 0.  , 0.  , 0.5 , 1.  ]),\n",
       " array([0.95238095, 1.        , 1.        , 1.        , 0.0952381 ,\n",
       "        1.        , 1.        , 1.        , 0.        , 0.66666667,\n",
       "        1.        , 1.        , 0.        , 0.19047619, 1.        ,\n",
       "        1.        , 0.        , 0.0952381 , 0.57142857, 1.        ,\n",
       "        0.        , 0.        , 0.19047619, 1.        , 0.        ,\n",
       "        0.        , 0.95238095, 1.        ]),\n",
       " array([3.        , 4.76190476, 4.76190476, 4.76190476, 0.66666667,\n",
       "        4.71428571, 4.76190476, 4.76190476, 0.        , 1.42857143,\n",
       "        4.66666667, 4.76190476, 0.        , 0.23809524, 3.38095238,\n",
       "        4.76190476, 0.        , 1.47619048, 1.61904762, 4.76190476,\n",
       "        0.        , 0.        , 1.85714286, 4.76190476, 0.        ,\n",
       "        0.        , 4.0952381 , 4.38095238]),\n",
       " array([0.61904762, 1.42857143, 1.42857143, 1.42857143, 0.04761905,\n",
       "        1.38095238, 1.42857143, 1.42857143, 0.        , 0.14285714,\n",
       "        1.14285714, 1.42857143, 0.        , 0.        , 0.57142857,\n",
       "        1.42857143, 0.        , 0.23809524, 0.14285714, 1.33333333,\n",
       "        0.        , 0.        , 0.33333333, 1.33333333, 0.        ,\n",
       "        0.04761905, 1.04761905, 1.19047619]),\n",
       " array([0.        , 0.14285714, 0.57142857, 1.        , 0.        ,\n",
       "        0.        , 0.28571429, 0.57142857, 0.        , 0.        ,\n",
       "        0.0952381 , 0.85714286, 0.        , 0.        , 0.04761905,\n",
       "        0.38095238, 0.        , 0.        , 0.04761905, 0.19047619,\n",
       "        0.        , 0.        , 0.        , 0.33333333, 0.        ,\n",
       "        0.        , 0.        , 0.0952381 ])]"
      ]
     },
     "execution_count": 9,
     "metadata": {},
     "output_type": "execute_result"
    }
   ],
   "source": [
    "print(shape(detect_rate))\n",
    "detect_rate"
   ]
  },
  {
   "cell_type": "code",
   "execution_count": 10,
   "metadata": {},
   "outputs": [],
   "source": [
    "points_and_coord = {'DC01_RF08': ['01', '08'], 'DC01_RF09': ['01', '09'], 'DC01_RF10': ['01', '10'], 'DC01_RF11': ['01', '11'],\n",
    "                    'DC03_RF08': ['03', '08'], 'DC03_RF09': ['03', '09'], 'DC03_RF10': ['03', '10'], 'DC03_RF11': ['03', '11'],\n",
    "                    'DC05_RF08': ['05', '08'], 'DC05_RF09': ['05', '09'], 'DC05_RF10': ['05', '10'], 'DC05_RF11': ['05', '11'],\n",
    "                    'DC07_RF08': ['07', '08'], 'DC07_RF09': ['07', '09'], 'DC07_RF10': ['07', '10'], 'DC07_RF11': ['07', '11'], \n",
    "                    'DC09_RF08': ['09', '08'], 'DC09_RF09': ['09', '09'], 'DC09_RF10': ['09', '10'], 'DC09_RF11': ['09', '11'],\n",
    "                    'DC11_RF08': ['11', '08'], 'DC11_RF09': ['11', '09'], 'DC11_RF10': ['11', '10'], 'DC11_RF11': ['11', '11'],\n",
    "                    'DC18_RF08': ['18', '08'], 'DC18_RF09': ['18', '09'], 'DC18_RF10': ['18', '10'], 'DC18_RF11': ['18', '11']}"
   ]
  },
  {
   "cell_type": "code",
   "execution_count": 11,
   "metadata": {},
   "outputs": [],
   "source": [
    "# Plot all temp for all conditions\n",
    "fname = 'detec_efficiency'\n",
    "cm = pylab.get_cmap('rainbow')\n",
    "\n",
    "fig, ax = plt.subplots(4, 7,num=fname,clear=True,sharex=True,sharey=True)  # (a,b)\n",
    "fig.set_size_inches(11.69,8.27)\n",
    "# suptitle('Saturation 866')\n",
    "\n",
    "to_plot = 0\n",
    "my_colors = ['C0','C1','C2','C3','C4']\n",
    "\n",
    "for l in range(0,7): # b\n",
    "    for k in range(0,4): # a\n",
    "        ax[3-k,l].scatter(E0_GMol,asanyarray(detect_rate)[:,my_order[to_plot]],\n",
    "                           c=[0,1,2,3,4],cmap = 'rainbow',marker='D',edgecolor='black')\n",
    "        ax[3-k,l].grid(True, which=\"both\")\n",
    "        ax[3-k,l].annotate(str(list(dict.fromkeys(points_and_coord))[my_order[to_plot]]), xy=(0.02, 0.99), xycoords='axes fraction', # pts_concerned[to_plot]\n",
    "        size=12, ha='left', va='top',\n",
    "        bbox=dict(boxstyle='round', fc='C1'))\n",
    "        to_plot += 1\n",
    "        if to_plot == 28:\n",
    "            break\n",
    "    if to_plot == 28:\n",
    "        break\n",
    "ax[3-k,l].grid(True, which=\"both\", ls=\"-\", color='0.65')\n",
    "ax[3-k,l].yaxis.set_major_locator(matplotlib.ticker.MultipleLocator(base=0.5))\n",
    "ax[3-k,l].set_xlim(0.8,1750)\n",
    "ax[3-k,l].set_ylim(-0.1,1.35)\n",
    "\n",
    "ax[3-k,l].set_xscale('log')\n",
    "fig.suptitle('Detec_efficiency vs. E0, for each condition')\n",
    "fig.text(0.56, 0.04, 'E0 [eV]', ha='center')\n",
    "fig.text(0.04, 0.54, 'detction rate [%]', va='center', rotation='vertical')\n",
    "\n",
    "\n",
    "# fig.text(0.5, 0.01, 'f', ha='center')\n",
    "# fig.text(0.01, 0.5, r'$| FFT(HC(t)) | / N_{sample}$', va='center', rotation='vertical')\n",
    "\n",
    "fig.set_size_inches(11.69,8.27)\n",
    "plt.tight_layout()\n",
    "subplots_adjust(hspace=0.05, wspace = 0.05, bottom = 0.120, left = 0.140, top = 0.92) # hspace=0, top=0.95, left = 0.065, bottom = 0.07\n",
    "savefig(fname+'.png') "
   ]
  },
  {
   "cell_type": "code",
   "execution_count": 39,
   "metadata": {},
   "outputs": [],
   "source": [
    "# Plot all temp for all conditions\n",
    "fname = 'delta_EGMol'\n",
    "cm = pylab.get_cmap('rainbow')\n",
    "\n",
    "fig, ax = plt.subplots(4, 7,num=fname,clear=True,sharex=True,sharey=True)  # (a,b)\n",
    "fig.set_size_inches(11.69,8.27)\n",
    "# suptitle('Saturation 866')\n",
    "\n",
    "to_plot = 0\n",
    "\n",
    "for l in range(0,7): # b\n",
    "    for k in range(0,4): # a\n",
    "        ax[3-k,l].errorbar(E0_GMol,multiply(asanyarray(mean_std_deltaEc)[:,my_order[to_plot],2],1000),\n",
    "                           color='C1',marker='D',markeredgecolor='black',linestyle='--')\n",
    "        ax[3-k,l].grid(True, which=\"both\")\n",
    "        plt.xscale('log')\n",
    "        ax[3-k,l].annotate(str(list(dict.fromkeys(points_and_coord))[my_order[to_plot]]), xy=(0.02, 0.99), xycoords='axes fraction', # pts_concerned[to_plot]\n",
    "        size=12, ha='left', va='top',\n",
    "        bbox=dict(boxstyle='round', fc='C1'))\n",
    "        to_plot += 1\n",
    "        if to_plot == 28:\n",
    "            break\n",
    "    if to_plot == 28:\n",
    "        break\n",
    "ax[3-k,l].grid(True, which=\"both\", ls=\"-\", color='0.65')\n",
    "ax[3-k,l].yaxis.set_major_locator(matplotlib.ticker.MultipleLocator(base=10))\n",
    "ax[3-k,l].set_xlim(0.8,1900)\n",
    "ax[3-k,l].set_ylim(-58,12.5)\n",
    "fig.suptitle('$\\Delta$ EGmol vs. E0, for each condition only SNR>1')\n",
    "fig.text(0.56, 0.04, 'E0 [eV]', ha='center')\n",
    "fig.text(0.04, 0.54, 'delta_EGMol [meV]', va='center', rotation='vertical')\n",
    "\n",
    "\n",
    "# fig.text(0.5, 0.01, 'f', ha='center')\n",
    "# fig.text(0.01, 0.5, r'$| FFT(HC(t)) | / N_{sample}$', va='center', rotation='vertical')\n",
    "\n",
    "fig.set_size_inches(11.69,8.27)\n",
    "plt.tight_layout()\n",
    "subplots_adjust(hspace=0.05, wspace = 0.05, bottom = 0.120, left = 0.140, top = 0.92) # hspace=0, top=0.95, left = 0.065, bottom = 0.07\n",
    "savefig(fname+'.png') "
   ]
  },
  {
   "cell_type": "code",
   "execution_count": 12,
   "metadata": {},
   "outputs": [
    {
     "name": "stdout",
     "output_type": "stream",
     "text": [
      "[1.         1.         4.76190476 1.42857143 1.        ]\n",
      "[(0.4019607843137255, 0.9881654720812594, 0.7594049166547071, 1.0), (1.0, 0.14730169805463766, 0.07385252747487403, 1.0), (1.0, 1.2246467991473532e-16, 6.123233995736766e-17, 1.0), (0.7392156862745098, 0.9302293085467404, 0.5625927516198231, 1.0), (0.5, 0.0, 1.0, 1.0)]\n"
     ]
    }
   ],
   "source": [
    "to_plot = 3\n",
    "print(asanyarray(detect_rate)[:,my_order[to_plot]])\n",
    "my_colors = []\n",
    "for x,y in enumerate(asanyarray(detect_rate)[:,0]):\n",
    "    my_colors.append(cm(y))\n",
    "print(my_colors)"
   ]
  },
  {
   "cell_type": "code",
   "execution_count": 13,
   "metadata": {},
   "outputs": [],
   "source": [
    "# Plot all temp for all conditions\n",
    "fname = 'delta_EGMol_allcases'\n",
    "cm = pylab.get_cmap('rainbow')\n",
    "\n",
    "fig, ax = plt.subplots(4, 7,num=fname,clear=True,sharex=True,sharey=True)  # (a,b)\n",
    "fig.set_size_inches(11.69,8.27)\n",
    "# suptitle('Saturation 866')\n",
    "\n",
    "to_plot = 0\n",
    "\n",
    "for l in range(0,7): # b\n",
    "    for k in range(0,4): # a\n",
    "        my_colors = []\n",
    "        for x,y in enumerate(asanyarray(detect_rate)[:,my_order[to_plot]]):\n",
    "            my_colors.append(cm(y))\n",
    "        ax[3-k,l].scatter(E0_GMol, multiply(asanyarray(mean_std_deltaEc)[:,my_order[to_plot],0],1000),\n",
    "                          c=my_colors, s=25, zorder=3,\n",
    "                         marker='D',edgecolor='black')\n",
    "        ax[3-k,l].errorbar(E0_GMol,multiply(asanyarray(mean_std_deltaEc)[:,my_order[to_plot],0],1000),\n",
    "                           yerr=multiply(asanyarray(mean_std_deltaEc)[:,my_order[to_plot],1],1000),\n",
    "                           zorder=0, fmt=\"none\",marker=\"none\",linestyle='--')\n",
    "        ax[3-k,l].grid(True, which=\"both\")\n",
    "        plt.xscale('log')\n",
    "        ax[3-k,l].annotate(str(list(dict.fromkeys(points_and_coord))[my_order[to_plot]]), xy=(0.02, 0.99), xycoords='axes fraction', # pts_concerned[to_plot]\n",
    "        size=12, ha='left', va='top',\n",
    "        bbox=dict(boxstyle='round', fc='C1'))\n",
    "        to_plot += 1\n",
    "        if to_plot == 28:\n",
    "            break\n",
    "    if to_plot == 28:\n",
    "        break\n",
    "ax[3-k,l].grid(True, which=\"both\", ls=\"-\", color='0.65')\n",
    "ax[3-k,l].yaxis.set_major_locator(matplotlib.ticker.MultipleLocator(base=15))\n",
    "ax[3-k,l].set_xlim(3,1900)\n",
    "ax[3-k,l].set_ylim(-55,17.5)\n",
    "fig.suptitle('$\\Delta$EGmol vs. E0, for each condition')\n",
    "fig.text(0.56, 0.04, 'E0 [eV]', ha='center')\n",
    "fig.text(0.04, 0.54, '$\\Delta$E GMol [meV]', va='center', rotation='vertical')\n",
    "\n",
    "\n",
    "# fig.text(0.5, 0.01, 'f', ha='center')\n",
    "# fig.text(0.01, 0.5, r'$| FFT(HC(t)) | / N_{sample}$', va='center', rotation='vertical')\n",
    "\n",
    "fig.set_size_inches(11.69,8.27)\n",
    "plt.tight_layout()\n",
    "subplots_adjust(hspace=0.05, wspace = 0.05, bottom = 0.120, left = 0.140, top = 0.92) # hspace=0, top=0.95, left = 0.065, bottom = 0.07\n",
    "# savefig(fname+'.png') "
   ]
  },
  {
   "cell_type": "code",
   "execution_count": 14,
   "metadata": {},
   "outputs": [
    {
     "name": "stdout",
     "output_type": "stream",
     "text": [
      "(5, 28, 4)\n",
      "-0.010806962407566893\n"
     ]
    }
   ],
   "source": [
    "rf = 2\n",
    "dc = 3\n",
    "print(shape(mean_std_deltaEc))\n",
    "# print(asanyarray(mean_std_deltaEc[2][rf]))\n",
    "print(asanyarray(mean_std_deltaEc[2][rf:28:4][dc])[0])"
   ]
  },
  {
   "cell_type": "code",
   "execution_count": 15,
   "metadata": {},
   "outputs": [
    {
     "name": "stdout",
     "output_type": "stream",
     "text": [
      "[-0.03513065  0.00634761 -0.03513065  0.00634761]\n"
     ]
    }
   ],
   "source": [
    "print(asanyarray(mean_std_deltaEc[2][rf:28:4])[0])"
   ]
  },
  {
   "cell_type": "code",
   "execution_count": 16,
   "metadata": {},
   "outputs": [
    {
     "name": "stdout",
     "output_type": "stream",
     "text": [
      "(4, 7, 5) (4, 7, 5)\n"
     ]
    }
   ],
   "source": [
    "delta_GMol_RFsorted = []\n",
    "std_delta_GMol_RFsorted = []\n",
    "\n",
    "for rf in range(4):\n",
    "    delta_GMol_RFsorted.append([])\n",
    "    std_delta_GMol_RFsorted.append([])\n",
    "    for dc in range(7):\n",
    "        delta_GMol_RFsorted[rf].append([])\n",
    "        std_delta_GMol_RFsorted[rf].append([])\n",
    "        for egmol in range(5):\n",
    "            test = asanyarray(mean_std_deltaEc[egmol][rf:28:4][dc])[0]\n",
    "            delta_GMol_RFsorted[rf][dc].append(test)\n",
    "            test = asanyarray(mean_std_deltaEc[egmol][rf:28:4][dc])[1]\n",
    "            std_delta_GMol_RFsorted[rf][dc].append(test)\n",
    "# print(delta_GMol_RFsorted)\n",
    "print(shape(delta_GMol_RFsorted),shape(std_delta_GMol_RFsorted))"
   ]
  },
  {
   "cell_type": "code",
   "execution_count": 17,
   "metadata": {},
   "outputs": [
    {
     "data": {
      "text/plain": [
       "([6, 10, 50, 100, 1000],\n",
       " [-9.899718431667244,\n",
       "  -13.62339895456808,\n",
       "  -18.218578956575527,\n",
       "  -16.314752363929426,\n",
       "  -4.91339811554306])"
      ]
     },
     "execution_count": 17,
     "metadata": {},
     "output_type": "execute_result"
    }
   ],
   "source": [
    "rf = 2\n",
    "dc = 6\n",
    "E0_GMol, list(multiply(delta_GMol_RFsorted[rf][dc][:],1000))"
   ]
  },
  {
   "cell_type": "code",
   "execution_count": 18,
   "metadata": {},
   "outputs": [],
   "source": [
    "my_order_dc = [0,1,2,3,4,6,5]\n",
    "Urf = [53.85, 59.23, 64.61, 70.00]"
   ]
  },
  {
   "cell_type": "code",
   "execution_count": 19,
   "metadata": {},
   "outputs": [],
   "source": [
    "import matplotlib.gridspec as gridspec"
   ]
  },
  {
   "cell_type": "code",
   "execution_count": 21,
   "metadata": {},
   "outputs": [],
   "source": [
    "# Plot all delta EGmol sorted by RF\n",
    "fname = 'delta_EGMol_rfsorted_gridspec'\n",
    "cm = pylab.get_cmap('cividis')\n",
    "\n",
    "fig = plt.figure(num=fname,clear=True)\n",
    "fig.set_size_inches(11.69,8.27)\n",
    "gs1 = gridspec.GridSpec(2, 2)\n",
    "gs1.update(left=0.13, right=0.88, top=0.98, bottom=0.180, wspace=0, hspace = 0)\n",
    "\n",
    "gs2 = gridspec.GridSpec(1, 1)\n",
    "gs2.update(left=0.89, right=0.92, top=0.98, wspace=0, hspace = 0)\n",
    "\n",
    "to_plot = 0\n",
    "\n",
    "my_marker = ['v','s','p','H']\n",
    "my_size = [10,7.5,10,10]\n",
    "\n",
    "ax1 = plt.subplot(gs1[0])\n",
    "for rf in range(4): # rf\n",
    "    k = rf //2\n",
    "    l = rf%2\n",
    "    ax = plt.subplot(gs1[to_plot],sharex=ax1,sharey=ax1)\n",
    "    for dc in range(7):\n",
    "        \n",
    "        ax.semilogx(E0_GMol, list(multiply(delta_GMol_RFsorted[rf][my_order_dc[dc]][:],1000)), # [:,my_order[to_plot],0]\n",
    "                          c=cm(dc/6), ms=my_size[rf], zorder=3,mec='black',marker=my_marker[rf],\n",
    "                          ls='--')\n",
    "        ax.errorbar(E0_GMol,list(multiply(delta_GMol_RFsorted[rf][my_order_dc[dc]][:],1000)),\n",
    "                           yerr=list(multiply(std_delta_GMol_RFsorted[rf][my_order_dc[dc]][:],1000)),\n",
    "                           zorder=0, fmt=\"none\",marker=\"none\",\n",
    "                           color=cm(dc/6),lw=2)\n",
    "        ax.grid(True)\n",
    "        ax.annotate('$U_{RF}$ = ' + f'{Urf[rf]} V',(3.6,5.75),\n",
    "                    size=20, ha='left', va='top',\n",
    "                    bbox=dict(boxstyle='round', fc='white'))\n",
    "    # Get current tick locations and append 271 to this array\n",
    "    # x_ticks = np.append(ax.get_xticks(), 50)\n",
    "    # Set xtick locations to the values of the array `x_ticks`\n",
    "    ax.set_xticks([6,10,50,100,1000])\n",
    "    ax.set_xticklabels([6,10,50,100,r'$10^3$'],rotation=45)\n",
    "#     ax[k,l].annotate(str(list(dict.fromkeys(points_and_coord))[my_order[to_plot]]), xy=(0.02, 0.99), xycoords='axes fraction', # pts_concerned[to_plot]\n",
    "#     size=12, ha='left', va='top',\n",
    "#     bbox=dict(boxstyle='round', fc='C1'))\n",
    "\n",
    "    if l==1:\n",
    "        ax.tick_params(labelleft=False,left=False)\n",
    "    to_plot += 1\n",
    "        \n",
    "# ax.grid(True, which=\"both\", ls=\"-\", color='0.65')\n",
    "ax.yaxis.set_major_locator(matplotlib.ticker.MultipleLocator(base=10))\n",
    "ax.set_xlim(3,1900)\n",
    "ax.set_ylim(-52,8)\n",
    "# fig.suptitle('$\\Delta$EGmol vs. E0, for each condition')\n",
    "fig.text(0.5, 0.04, '$E_0$ SUI [eV]', ha='center')\n",
    "fig.text(0.02, 0.54, '$\\Delta$E SUI [meV]', va='center', rotation='vertical')\n",
    "\n",
    "\n",
    "# subplots_adjust(hspace=0.0, wspace = 0.0, bottom = 0.120, left = 0.140, right = 0.90, top = 0.92) # hspace=0, top=0.95, left = 0.065, bottom = 0.07\n",
    "\n",
    "#######################################################\n",
    "\n",
    "axb = plt.subplot(gs2[0])\n",
    "cmap = mpl.colors.ListedColormap([cm(k/6) for k in range(7)])\n",
    "bounds = [0.5,1.5,2.5,3.5,4.5,5.5,6.5,7.5]\n",
    "norm = mpl.colors.BoundaryNorm(bounds, cmap.N)\n",
    "cb2 = mpl.colorbar.ColorbarBase(axb, cmap=cmap,\n",
    "                                norm=norm,\n",
    "                                ticks=np.arange(1,8), # np.arange(0.5,7.5)\n",
    "                                spacing='proportional',\n",
    "                                orientation='vertical')\n",
    "cb2.set_label('$U_{DC}$ [V]')\n",
    "\n",
    "######################################################\n",
    "\n",
    "\n",
    "savefig(fname+'.png',dpi=300)\n",
    "savefig(fname+'.eps',dpi=600,format='eps')"
   ]
  }
 ],
 "metadata": {
  "kernelspec": {
   "display_name": "Python 3",
   "language": "python",
   "name": "python3"
  },
  "language_info": {
   "codemirror_mode": {
    "name": "ipython",
    "version": 3
   },
   "file_extension": ".py",
   "mimetype": "text/x-python",
   "name": "python",
   "nbconvert_exporter": "python",
   "pygments_lexer": "ipython3",
   "version": "3.6.7"
  }
 },
 "nbformat": 4,
 "nbformat_minor": 4
}
