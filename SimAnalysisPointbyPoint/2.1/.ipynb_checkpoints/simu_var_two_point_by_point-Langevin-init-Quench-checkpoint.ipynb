{
 "cells": [
  {
   "cell_type": "code",
   "execution_count": 1,
   "metadata": {},
   "outputs": [],
   "source": [
    "###########################################################\n",
    "#                                                         #\n",
    "#               TRAITEMENT SIMUS FORTRAN                  #\n",
    "#                     STATISTIQUES                        #\n",
    "#                                                         #\n",
    "#                         avec                            #\n",
    "#                   - lecture arborescence                #\n",
    "#                  analyse                                #\n",
    "#                   - Delta Fluo                          #\n",
    "#                   - Delta Energy GMol                   #\n",
    "#                   - R/L Ca+                             #\n",
    "#                   - distance inter ionique              #\n",
    "#                   - trajectoire GMol                    #\n",
    "#                                                         #\n",
    "#                          02/2020     Adrien Poindron    #\n",
    "###########################################################"
   ]
  },
  {
   "cell_type": "code",
   "execution_count": 2,
   "metadata": {},
   "outputs": [
    {
     "data": {
      "text/html": [
       "<style>.container { width:95% !important; }</style>"
      ],
      "text/plain": [
       "<IPython.core.display.HTML object>"
      ]
     },
     "metadata": {},
     "output_type": "display_data"
    }
   ],
   "source": [
    "from IPython.core.display import display, HTML\n",
    "display(HTML(\"<style>.container { width:95% !important; }</style>\"))"
   ]
  },
  {
   "cell_type": "markdown",
   "metadata": {},
   "source": [
    "# Imports"
   ]
  },
  {
   "cell_type": "code",
   "execution_count": 3,
   "metadata": {},
   "outputs": [],
   "source": [
    "# %pylab\n",
    "\n",
    "import numpy\n",
    "import matplotlib\n",
    "from matplotlib import pylab, mlab, pyplot\n",
    "from mpl_toolkits.mplot3d import Axes3D\n",
    "np = numpy\n",
    "plt = pyplot\n",
    "\n",
    "matplotlib.rcParams.update({'font.size': 21})\n",
    "# matplotlib.rcParams[\"figure.dpi\"] = 300\n",
    "\n",
    "from IPython.display import display\n",
    "from IPython.core.pylabtools import figsize, getfigs\n",
    "\n",
    "from pylab import *\n",
    "from numpy import *\n",
    "\n",
    "from scipy.optimize import curve_fit\n",
    "from scipy.signal import savgol_filter, butter"
   ]
  },
  {
   "cell_type": "code",
   "execution_count": 4,
   "metadata": {},
   "outputs": [],
   "source": [
    "import os\n",
    "from os import listdir\n",
    "from os.path import isfile, join\n",
    "\n",
    "import tkinter as tk\n",
    "from tkinter import filedialog\n",
    "%matplotlib qt\n",
    "\n",
    "from pathlib import Path\n",
    "from matplotlib import gridspec\n",
    "from mpl_toolkits.axes_grid1.inset_locator import zoomed_inset_axes\n",
    "from mpl_toolkits.axes_grid1.inset_locator import mark_inset"
   ]
  },
  {
   "cell_type": "code",
   "execution_count": 5,
   "metadata": {},
   "outputs": [],
   "source": [
    "from natsort import natsorted   # natural sort marche de ouf\n",
    "import re                       # find '/' in strings\n",
    "import timeit\n",
    "cm = pylab.get_cmap('summer')   # colormap par défaut color=cm(k/len(array))"
   ]
  },
  {
   "cell_type": "code",
   "execution_count": 6,
   "metadata": {},
   "outputs": [],
   "source": [
    "# Fonctions persos de Jofre et Adrien\n",
    "\n",
    "# %run function_jofre.ipy\n",
    "%run ../../Functions/1.2/data_fct_Adrien_point_by_point"
   ]
  },
  {
   "cell_type": "code",
   "execution_count": 7,
   "metadata": {},
   "outputs": [
    {
     "name": "stdout",
     "output_type": "stream",
     "text": [
      "$\\kappa_{simion}$ = 0.270471\n"
     ]
    }
   ],
   "source": [
    "# Constantes de la physique\n",
    "# ABSOLUMENT RECHARGER APRÈS AVOIR EXECUTÉ LES CASES D'IMPORT AU DESSUS\n",
    "\n",
    "C_e = 1.602e-19        # Coulomb\n",
    "kb = 1.38064852*1e-23  # Boltzman\n",
    "m_Ca = 40.078*1.66054e-27 # masse Ca 40.078\n",
    "m_GM = 1e6*1.66054e-27 # la masse de la GMol\n",
    "eps0 = 8.854187*1e-12  # permittivité électrique du vide\n",
    "\n",
    "r0 = 2.5e-3 # 2.5e-3   # rayon piège Ca+\n",
    "d0 = 4e-3/2            # longueur piège Ca+\n",
    "\n",
    "Omega = 2.05e6*2*pi # 2.047e6\n",
    "\n",
    "bk = 4 # nombre de barreaux par groupe (2 -> 4-pole , 4 -> 8-pole ...)\n",
    "\n",
    "mkappa = 0.23          # écrantage piège réel GiantMol\n",
    "wzLC = (2*pi*90806.9982303)**2\n",
    "kappa_simion = m_Ca*d0**2*wzLC/(2*C_e)\n",
    "print('%s = %f' % ('$\\kappa_{simion}$',kappa_simion) )\n",
    "\n",
    "zeta = kappa_simion*r0**2/d0**2"
   ]
  },
  {
   "cell_type": "code",
   "execution_count": 8,
   "metadata": {},
   "outputs": [],
   "source": [
    "def load_Temp_init_bin_Lan(str_load, flag_print):      \n",
    "\n",
    "    fid = open(str_load+'.bin',  'rb')   \n",
    "\n",
    "    a    = fromfile(fid,  int32, 1)        # Read record start tag   \n",
    "    aux  = fromfile(fid,  int32, 1)   \n",
    "    junk = fromfile(fid,  int32, 1)        # Read record stop tag   \n",
    "    N_ions = aux[0]   \n",
    "\n",
    "    b    = fromfile(fid,  int32, 1)        # Read record start tag   \n",
    "    aux  = fromfile(fid,  int32, 1)   \n",
    "    junk = fromfile(fid,  int32, 1)        # Read record stop tag   \n",
    "    j_save = aux[0]   \n",
    "\n",
    "    c    = fromfile(fid,  int32, 1)        # Read record start tag   \n",
    "    aux  = fromfile(fid,  float64, 1)   \n",
    "    junk = fromfile(fid,  int32, 1)        # Read record stop tag   \n",
    "    dt_j_save_next = aux[0]   \n",
    "\n",
    "    d    = fromfile(fid,  int32, 1)        # Read record start tag   \n",
    "    aux  = fromfile(fid,  float64, 1)   \n",
    "    junk = fromfile(fid,  int32, 1)        # Read record stop tag   \n",
    "    eta = aux[0]   \n",
    "\n",
    "    e    = fromfile(fid,  int32,   1   )        # Read record start tag   \n",
    "    Temp = fromfile(fid,  float64, 1)   \n",
    "    junk = fromfile(fid,  int32,   1   )        # Read record stop tag   \n",
    "\n",
    "    f    = fromfile(fid,  int32,   1   )        # Read record start tag \n",
    "    save_T = fromfile(fid,  float64, 7*j_save)   \n",
    "    junk = fromfile(fid,  int32,   1   )        # Read record stop tag\n",
    "\n",
    "    fid.close   \n",
    "    \n",
    "    print('len save_T', junk)   \n",
    "\n",
    "    if flag_print == 1:\n",
    "        print(a, b, c, d, e, f)   \n",
    "        print('N_ions', N_ions)   \n",
    "        print('j_save', j_save)   \n",
    "        print('dt_j_save_next', dt_j_save_next)   \n",
    "        print('eta', eta)   \n",
    "        print('Temp', Temp)   \n",
    "\n",
    "\n",
    "    save_T = reshape(save_T, (j_save, 7), order='F')   \n",
    "    print(save_T[0])   \n",
    "\n",
    "    return N_ions, j_save, dt_j_save_next, eta, Temp, save_T "
   ]
  },
  {
   "cell_type": "markdown",
   "metadata": {},
   "source": [
    "# Sélection fichier"
   ]
  },
  {
   "cell_type": "code",
   "execution_count": 172,
   "metadata": {
    "scrolled": true
   },
   "outputs": [
    {
     "name": "stdout",
     "output_type": "stream",
     "text": [
      "> Répertoire : /home/adrian/RemoteFS/Hobitton/20200729_1/DC01_RF03/Try00\n",
      "> Filename : Temp_SimuTypeQ_N01024_Vrf0026_Udc0.1000D+01V_D1.0_S1.0RFG.dat\n",
      "> myslashpos | [0, 5, 12, 21, 30, 41, 51]\n",
      "> slashcond | 5\n",
      "Points deleted because they were not complete []   0 pt(s)\n",
      "Total number of data directories 6\n"
     ]
    }
   ],
   "source": [
    "## GUI for data loading\n",
    "# Select one data file all the way down to the directories\n",
    "# Temp_SimuType0_N01024_Vrf0064_Udc0.5000D+00V_D1.0_S1.0RFG.dat\n",
    "\n",
    "file_cfg, slash_cfg, all_subdir = load_gui(filter_nocomplete=1)\n",
    "\n",
    "file_path = file_cfg[0]\n",
    "dir_path = file_cfg[1]\n",
    "work_rep = file_cfg[2]\n",
    "filename = file_cfg[3]\n",
    "\n",
    "myslashpos = slash_cfg[0]\n",
    "slashcond = slash_cfg[1]"
   ]
  },
  {
   "cell_type": "code",
   "execution_count": 173,
   "metadata": {
    "scrolled": true
   },
   "outputs": [
    {
     "name": "stdout",
     "output_type": "stream",
     "text": [
      "['DC01_RF03', 'DC03_RF03', 'DC05_RF03', 'DC07_RF03', 'DC09_RF03', 'DC11_RF03']\n",
      "000 > DC01_RF03\n",
      "001 > DC03_RF03\n",
      "002 > DC05_RF03\n",
      "003 > DC07_RF03\n",
      "004 > DC09_RF03\n",
      "005 > DC11_RF03\n",
      "> condition names ['DC', 'RF']\n",
      "> number of points 6\n",
      "> N_ions = 1024\n",
      "> e_GMol = 50\n"
     ]
    }
   ],
   "source": [
    "## Condition for data\n",
    "points_and_coord, condition_parameters = simu_conditions(all_subdir, myslashpos, slashcond, filename)"
   ]
  },
  {
   "cell_type": "code",
   "execution_count": 174,
   "metadata": {
    "scrolled": true
   },
   "outputs": [
    {
     "name": "stdout",
     "output_type": "stream",
     "text": [
      "> Points | 6\n",
      "> Simulations pour chaque point | ['Try00']\n",
      "Hello\n",
      "Point n° 0\n",
      "00 - 00  >  /home/adrian/RemoteFS/Hobitton/20200729_1/DC01_RF03/Try00/Temp_SimuTypeQ_N01024_Vrf0026_Udc0.1000D+01V_D1.0_S1.0RFG\n",
      "Point n° 1\n",
      "01 - 00  >  /home/adrian/RemoteFS/Hobitton/20200729_1/DC03_RF03/Try00/Temp_SimuTypeQ_N01024_Vrf0026_Udc0.2000D+01V_D1.0_S1.0RFG\n",
      "Point n° 2\n",
      "02 - 00  >  /home/adrian/RemoteFS/Hobitton/20200729_1/DC05_RF03/Try00/Temp_SimuTypeQ_N01024_Vrf0026_Udc0.3000D+01V_D1.0_S1.0RFG\n",
      "Point n° 3\n",
      "03 - 00  >  /home/adrian/RemoteFS/Hobitton/20200729_1/DC07_RF03/Try00/Temp_SimuTypeQ_N01024_Vrf0026_Udc0.4000D+01V_D1.0_S1.0RFG\n",
      "Point n° 4\n",
      "04 - 00  >  /home/adrian/RemoteFS/Hobitton/20200729_1/DC09_RF03/Try00/Temp_SimuTypeQ_N01024_Vrf0026_Udc0.5000D+01V_D1.0_S1.0RFG\n",
      "Point n° 5\n",
      "05 - 00  >  /home/adrian/RemoteFS/Hobitton/20200729_1/DC11_RF03/Try00/Temp_SimuTypeQ_N01024_Vrf0026_Udc0.7000D+01V_D1.0_S1.0RFG\n",
      "Time elapsed:  0.0498450000000048 s\n",
      "Time elapsed:  0.00083075000000008 m\n"
     ]
    }
   ],
   "source": [
    "## Data loading (1D arrays)\n",
    "data_name, num_runs, PMandT, Gmol_data, r_LC_clip, dim_nu \\\n",
    "= data_retrieve_onefile(all_subdir, points_and_coord,condition_parameters,slash_cfg) # stopping_power\n",
    "\n",
    "data0 = data_name[0]\n",
    "Tvar = PMandT[1]"
   ]
  },
  {
   "cell_type": "code",
   "execution_count": 175,
   "metadata": {},
   "outputs": [
    {
     "name": "stdout",
     "output_type": "stream",
     "text": [
      "[0. 0. 0. 0. 0. 0.]\n",
      "6\n"
     ]
    }
   ],
   "source": [
    "# Where SNR for each try in each  are compared to a threshold\n",
    "# If SNR > some_threshold , we count it as a detection\n",
    "# Then for each point the ratio number_of_detection/number_of_try is calculated\n",
    "# This detection efficiency \n",
    "\n",
    "SNR_trig_threshold = 1\n",
    "shapevar = ((len(points_and_coord), len(num_runs)))\n",
    "trig_detection = np.zeros((shapevar))\n",
    "for i in range(len(points_and_coord)):\n",
    "    SNR = Gmol_data[2][i]\n",
    "    for k,m in enumerate(SNR):\n",
    "        if m > SNR_trig_threshold:\n",
    "            trig_detection[i,k] = 1\n",
    "\n",
    "print(mean(trig_detection,axis=1))\n",
    "\n",
    "print(len(trig_detection))"
   ]
  },
  {
   "cell_type": "code",
   "execution_count": 176,
   "metadata": {},
   "outputs": [
    {
     "name": "stdout",
     "output_type": "stream",
     "text": [
      "1.0\n"
     ]
    }
   ],
   "source": [
    "# Where is written Detuning and how much it is\n",
    "temp_pos = filename.find('0RFG')\n",
    "Detuning = filename[temp_pos-7:temp_pos-4]\n",
    "print(Detuning)"
   ]
  },
  {
   "cell_type": "markdown",
   "metadata": {},
   "source": [
    "# Plots\n",
    "Nuage d'ions, Temp et Pos"
   ]
  },
  {
   "cell_type": "markdown",
   "metadata": {},
   "source": [
    "## Load temperature from Langevin files"
   ]
  },
  {
   "cell_type": "code",
   "execution_count": 177,
   "metadata": {},
   "outputs": [],
   "source": [
    "# eta = [1e-22, 2e-22, 4e-22, 8e-22, 1e-21, 2e-21, 4e-21, 8e-21, 1e-20, 2e-20, 4e-20]\n",
    "\n",
    "# eta = [1e-20, 8e-21, 4e-21, 2e-21, 1e-21, 8e-22, 4e-22, 8e-19, 4e-19, 2e-19, 1e-19, 8e-20, 4e-20, 2e-20]\n",
    "eta = 1.5e-20"
   ]
  },
  {
   "cell_type": "code",
   "execution_count": 178,
   "metadata": {},
   "outputs": [
    {
     "name": "stdout",
     "output_type": "stream",
     "text": [
      "/home/adrian/RemoteFS/Hobitton/20200729_1/DC05_RF03/Try00/\n",
      "Temp_3D_Harmo_N1024_T500uK_F0.15D-19Kg_s_5\n"
     ]
    }
   ],
   "source": [
    "## Data loading with hardcode names\n",
    "\n",
    "plot_point = 2\n",
    "plot_try = 0\n",
    "# str_eta_chiffre    = float(f'{eta[plot_point]:1.2e}'[:4])/10\n",
    "# str_eta_puissance  = int(re.sub('e','D',f'{eta[plot_point]:1.2e}'[6:]))-1\n",
    "# str_eta = f'{str_eta_chiffre:1.2f}'+'D-'+str(str_eta_puissance)\n",
    "str_eta = '0.15D-19'\n",
    "dirname_hc = str(data0[plot_point][plot_try])+'/'\n",
    "# Temp_3D_Harmo_N1024_T500uK_F0.20D-20Kg_s_5\n",
    "datainit_hc = 'Temp_3D_Harmo_N1024_T500uK_F'+str(str_eta)+'Kg_s_5'\n",
    "data0_hc    = '/Temp_SimuTypeQ_N01024_Vrf0070_Udc0.5000D+01V_D1.0_S1.0RFG'\n",
    "data4_hc    = '/Temp_SimuType4_00_N01024_Vrf0070_Udc0.5000D+01V_D1.0_S1.0RFG'\n",
    "data2_hc    = '/Temp_SimuType2_00_N01024_Vrf0070_Udc0.5000D+01V_D1.0_S1.0RFG'\n",
    "\n",
    "print(dirname_hc)\n",
    "print(datainit_hc)"
   ]
  },
  {
   "cell_type": "code",
   "execution_count": 191,
   "metadata": {},
   "outputs": [
    {
     "name": "stdout",
     "output_type": "stream",
     "text": [
      "len save_T [55440]\n",
      "[4] [4] [8] [8] [8] [55440]\n",
      "N_ions 1024\n",
      "j_save 990\n",
      "dt_j_save_next 5e-07\n",
      "eta 1.5e-20\n",
      "Temp [0.0005]\n",
      "[5.05000000e-07 6.92532049e-06 6.50181047e-04 1.57981649e-05\n",
      " 5.02735358e+01 1.53019287e+00 6.07792457e+01]\n",
      "/home/adrian/RemoteFS/Hobitton/20200729_1/DC11_RF03/Try00/Temp_3D_Harmo_N1024_T500uK_F0.15D-19Kg_s_5\n"
     ]
    }
   ],
   "source": [
    "N_ions, j_save, dt_j_save_next, eta_float, Temp, save_T =\\\n",
    "load_Temp_init_bin_Lan(dirname_hc+datainit_hc,1)\n",
    "\n",
    "#print('N_ions',N_ions)\n",
    "#print('j_save',j_save)\n",
    "#print('dt*j_save_next',dt_j_save_next)\n",
    "#print('eta',eta)\n",
    "#print('Temp',Temp)\n",
    "#print('save_T',save_T)\n",
    "#print('shape(save_T)',shape(save_T))\n",
    "\n",
    "#  Sacahnt que dans le Fortran\n",
    "# dt   = 2d-9\n",
    "# j_save_next  = 100\n",
    "# eta = 1.5d-21\n",
    "# Temperature = 0.5d-3"
   ]
  },
  {
   "cell_type": "code",
   "execution_count": 111,
   "metadata": {
    "scrolled": true
   },
   "outputs": [
    {
     "ename": "OSError",
     "evalue": "/home/adrian/RemoteFS/Hobitton/20200728/DC01_RF10/Try00/Temp_SimuType0_N01024_Vrf0064_Udc0.1000D+01V_D1.0_S1.0RFG.dat not found.",
     "output_type": "error",
     "traceback": [
      "\u001b[0;31m---------------------------------------------------------------------------\u001b[0m",
      "\u001b[0;31mOSError\u001b[0m                                   Traceback (most recent call last)",
      "\u001b[0;32m<ipython-input-111-865fdc3fab42>\u001b[0m in \u001b[0;36m<module>\u001b[0;34m()\u001b[0m\n\u001b[1;32m      1\u001b[0m \u001b[0;31m# Get T and fluo PM  ALL SimuType\u001b[0m\u001b[0;34m\u001b[0m\u001b[0;34m\u001b[0m\u001b[0;34m\u001b[0m\u001b[0m\n\u001b[1;32m      2\u001b[0m \u001b[0monlyfiles\u001b[0m \u001b[0;34m=\u001b[0m \u001b[0;34m[\u001b[0m\u001b[0mf\u001b[0m \u001b[0;32mfor\u001b[0m \u001b[0mf\u001b[0m \u001b[0;32min\u001b[0m \u001b[0mlistdir\u001b[0m\u001b[0;34m(\u001b[0m\u001b[0mdirname_hc\u001b[0m\u001b[0;34m)\u001b[0m \u001b[0;32mif\u001b[0m \u001b[0misfile\u001b[0m\u001b[0;34m(\u001b[0m\u001b[0mjoin\u001b[0m\u001b[0;34m(\u001b[0m\u001b[0mdirname_hc\u001b[0m\u001b[0;34m,\u001b[0m \u001b[0mf\u001b[0m\u001b[0;34m)\u001b[0m\u001b[0;34m)\u001b[0m \u001b[0;32mand\u001b[0m \u001b[0;34m\"SimuType\"\u001b[0m \u001b[0;32min\u001b[0m \u001b[0mf\u001b[0m \u001b[0;32mand\u001b[0m \u001b[0;34m\".dat\"\u001b[0m \u001b[0;32min\u001b[0m \u001b[0mf\u001b[0m\u001b[0;34m]\u001b[0m\u001b[0;34m\u001b[0m\u001b[0;34m\u001b[0m\u001b[0m\n\u001b[0;32m----> 3\u001b[0;31m \u001b[0mta\u001b[0m\u001b[0;34m,\u001b[0m \u001b[0mte\u001b[0m\u001b[0;34m,\u001b[0m \u001b[0mti\u001b[0m \u001b[0;34m=\u001b[0m \u001b[0mplot_T_and_PM_Init_Inje_Evol\u001b[0m\u001b[0;34m(\u001b[0m\u001b[0mdirname_hc\u001b[0m\u001b[0;34m,\u001b[0m\u001b[0msort\u001b[0m\u001b[0;34m(\u001b[0m\u001b[0monlyfiles\u001b[0m\u001b[0;34m)\u001b[0m\u001b[0;34m[\u001b[0m\u001b[0;36m0\u001b[0m\u001b[0;34m]\u001b[0m\u001b[0;34m.\u001b[0m\u001b[0mstrip\u001b[0m\u001b[0;34m(\u001b[0m\u001b[0;34m'.dat'\u001b[0m\u001b[0;34m)\u001b[0m\u001b[0;34m[\u001b[0m\u001b[0;36m4\u001b[0m\u001b[0;34m:\u001b[0m\u001b[0;34m]\u001b[0m\u001b[0;34m,\u001b[0m\u001b[0;36m0\u001b[0m\u001b[0;34m,\u001b[0m\u001b[0;34m'coucou'\u001b[0m \u001b[0;34m)\u001b[0m\u001b[0;34m\u001b[0m\u001b[0;34m\u001b[0m\u001b[0m\n\u001b[0m\u001b[1;32m      4\u001b[0m \u001b[0;34m\u001b[0m\u001b[0m\n\u001b[1;32m      5\u001b[0m \u001b[0;31m# ,xlim1=(3.458,3.582),ylim1=(2e-4,50),ylim2=(19.5,65)\u001b[0m\u001b[0;34m\u001b[0m\u001b[0;34m\u001b[0m\u001b[0;34m\u001b[0m\u001b[0m\n",
      "\u001b[0;32m~/Documents/Programmes/Python/GiantMol/Functions/1.2/data_fct_Adrien_point_by_point.py\u001b[0m in \u001b[0;36mplot_T_and_PM_Init_Inje_Evol\u001b[0;34m(file_dir2, file_name, flag_plot, fig_name, **kwargs)\u001b[0m\n\u001b[1;32m    151\u001b[0m \u001b[0;34m\u001b[0m\u001b[0m\n\u001b[1;32m    152\u001b[0m     \u001b[0;31m# tt0, T_CM0, T_aux0, PM0 = load_T_and_PM_simu(file_dir2+file0)\u001b[0m\u001b[0;34m\u001b[0m\u001b[0;34m\u001b[0m\u001b[0;34m\u001b[0m\u001b[0m\n\u001b[0;32m--> 153\u001b[0;31m     \u001b[0mtt1\u001b[0m\u001b[0;34m,\u001b[0m \u001b[0mT_CM1\u001b[0m\u001b[0;34m,\u001b[0m \u001b[0mT_aux1\u001b[0m\u001b[0;34m,\u001b[0m \u001b[0mPM1\u001b[0m \u001b[0;34m=\u001b[0m \u001b[0mload_T_and_PM_simu\u001b[0m\u001b[0;34m(\u001b[0m\u001b[0mfile_dir2\u001b[0m\u001b[0;34m+\u001b[0m\u001b[0;34m'Temp_'\u001b[0m\u001b[0;34m+\u001b[0m\u001b[0mfile1\u001b[0m\u001b[0;34m)\u001b[0m\u001b[0;34m\u001b[0m\u001b[0;34m\u001b[0m\u001b[0m\n\u001b[0m\u001b[1;32m    154\u001b[0m     \u001b[0mtt2\u001b[0m\u001b[0;34m,\u001b[0m \u001b[0mT_CM2\u001b[0m\u001b[0;34m,\u001b[0m \u001b[0mT_aux2\u001b[0m\u001b[0;34m,\u001b[0m \u001b[0mPM2\u001b[0m \u001b[0;34m=\u001b[0m \u001b[0mload_T_and_PM_simu\u001b[0m\u001b[0;34m(\u001b[0m\u001b[0mfile_dir2\u001b[0m\u001b[0;34m+\u001b[0m\u001b[0;34m'Temp_'\u001b[0m\u001b[0;34m+\u001b[0m\u001b[0mfile2\u001b[0m\u001b[0;34m+\u001b[0m\u001b[0;34m'50eV'\u001b[0m\u001b[0;34m)\u001b[0m\u001b[0;34m\u001b[0m\u001b[0;34m\u001b[0m\u001b[0m\n\u001b[1;32m    155\u001b[0m     \u001b[0mtt3\u001b[0m\u001b[0;34m,\u001b[0m \u001b[0mT_CM3\u001b[0m\u001b[0;34m,\u001b[0m \u001b[0mT_aux3\u001b[0m\u001b[0;34m,\u001b[0m \u001b[0mPM3\u001b[0m \u001b[0;34m=\u001b[0m \u001b[0mload_T_and_PM_simu\u001b[0m\u001b[0;34m(\u001b[0m\u001b[0mfile_dir2\u001b[0m\u001b[0;34m+\u001b[0m\u001b[0;34m'Temp_'\u001b[0m\u001b[0;34m+\u001b[0m\u001b[0mfile3\u001b[0m\u001b[0;34m+\u001b[0m\u001b[0;34m'50eV'\u001b[0m\u001b[0;34m)\u001b[0m\u001b[0;34m\u001b[0m\u001b[0;34m\u001b[0m\u001b[0m\n",
      "\u001b[0;32m~/Documents/Programmes/Python/GiantMol/Functions/1.2/data_fct_Adrien_point_by_point.py\u001b[0m in \u001b[0;36mload_T_and_PM_simu\u001b[0;34m(str_load)\u001b[0m\n\u001b[1;32m     83\u001b[0m \u001b[0;34m\u001b[0m\u001b[0m\n\u001b[1;32m     84\u001b[0m \u001b[0;32mdef\u001b[0m \u001b[0mload_T_and_PM_simu\u001b[0m\u001b[0;34m(\u001b[0m\u001b[0mstr_load\u001b[0m\u001b[0;34m)\u001b[0m\u001b[0;34m:\u001b[0m\u001b[0;34m\u001b[0m\u001b[0;34m\u001b[0m\u001b[0m\n\u001b[0;32m---> 85\u001b[0;31m     \u001b[0mdata\u001b[0m \u001b[0;34m=\u001b[0m \u001b[0mloadtxt\u001b[0m\u001b[0;34m(\u001b[0m\u001b[0;34m'{}.dat'\u001b[0m\u001b[0;34m.\u001b[0m\u001b[0mformat\u001b[0m\u001b[0;34m(\u001b[0m\u001b[0mstr_load\u001b[0m\u001b[0;34m)\u001b[0m\u001b[0;34m,\u001b[0m\u001b[0mcomments\u001b[0m\u001b[0;34m=\u001b[0m\u001b[0;34m'%'\u001b[0m\u001b[0;34m)\u001b[0m\u001b[0;34m;\u001b[0m\u001b[0;34m\u001b[0m\u001b[0;34m\u001b[0m\u001b[0m\n\u001b[0m\u001b[1;32m     86\u001b[0m     \u001b[0;32mreturn\u001b[0m \u001b[0mdata\u001b[0m\u001b[0;34m[\u001b[0m\u001b[0;34m:\u001b[0m\u001b[0;34m,\u001b[0m\u001b[0;36m0\u001b[0m\u001b[0;34m]\u001b[0m\u001b[0;34m,\u001b[0m\u001b[0mdata\u001b[0m\u001b[0;34m[\u001b[0m\u001b[0;34m:\u001b[0m\u001b[0;34m,\u001b[0m\u001b[0;36m1\u001b[0m\u001b[0;34m:\u001b[0m\u001b[0;36m4\u001b[0m\u001b[0;34m]\u001b[0m\u001b[0;34m,\u001b[0m \u001b[0mdata\u001b[0m\u001b[0;34m[\u001b[0m\u001b[0;34m:\u001b[0m\u001b[0;34m,\u001b[0m\u001b[0;36m4\u001b[0m\u001b[0;34m:\u001b[0m\u001b[0;36m7\u001b[0m\u001b[0;34m]\u001b[0m\u001b[0;34m,\u001b[0m \u001b[0mdata\u001b[0m\u001b[0;34m[\u001b[0m\u001b[0;34m:\u001b[0m\u001b[0;34m,\u001b[0m\u001b[0;36m7\u001b[0m\u001b[0;34m]\u001b[0m \u001b[0;31m# tt, T_CM, T_aux, PM\u001b[0m\u001b[0;34m\u001b[0m\u001b[0;34m\u001b[0m\u001b[0m\n\u001b[1;32m     87\u001b[0m \u001b[0;34m\u001b[0m\u001b[0m\n",
      "\u001b[0;32m~/.local/lib/python3.6/site-packages/numpy/lib/npyio.py\u001b[0m in \u001b[0;36mloadtxt\u001b[0;34m(fname, dtype, comments, delimiter, converters, skiprows, usecols, unpack, ndmin, encoding)\u001b[0m\n\u001b[1;32m    915\u001b[0m             \u001b[0mfname\u001b[0m \u001b[0;34m=\u001b[0m \u001b[0mstr\u001b[0m\u001b[0;34m(\u001b[0m\u001b[0mfname\u001b[0m\u001b[0;34m)\u001b[0m\u001b[0;34m\u001b[0m\u001b[0;34m\u001b[0m\u001b[0m\n\u001b[1;32m    916\u001b[0m         \u001b[0;32mif\u001b[0m \u001b[0m_is_string_like\u001b[0m\u001b[0;34m(\u001b[0m\u001b[0mfname\u001b[0m\u001b[0;34m)\u001b[0m\u001b[0;34m:\u001b[0m\u001b[0;34m\u001b[0m\u001b[0;34m\u001b[0m\u001b[0m\n\u001b[0;32m--> 917\u001b[0;31m             \u001b[0mfh\u001b[0m \u001b[0;34m=\u001b[0m \u001b[0mnp\u001b[0m\u001b[0;34m.\u001b[0m\u001b[0mlib\u001b[0m\u001b[0;34m.\u001b[0m\u001b[0m_datasource\u001b[0m\u001b[0;34m.\u001b[0m\u001b[0mopen\u001b[0m\u001b[0;34m(\u001b[0m\u001b[0mfname\u001b[0m\u001b[0;34m,\u001b[0m \u001b[0;34m'rt'\u001b[0m\u001b[0;34m,\u001b[0m \u001b[0mencoding\u001b[0m\u001b[0;34m=\u001b[0m\u001b[0mencoding\u001b[0m\u001b[0;34m)\u001b[0m\u001b[0;34m\u001b[0m\u001b[0;34m\u001b[0m\u001b[0m\n\u001b[0m\u001b[1;32m    918\u001b[0m             \u001b[0mfencoding\u001b[0m \u001b[0;34m=\u001b[0m \u001b[0mgetattr\u001b[0m\u001b[0;34m(\u001b[0m\u001b[0mfh\u001b[0m\u001b[0;34m,\u001b[0m \u001b[0;34m'encoding'\u001b[0m\u001b[0;34m,\u001b[0m \u001b[0;34m'latin1'\u001b[0m\u001b[0;34m)\u001b[0m\u001b[0;34m\u001b[0m\u001b[0;34m\u001b[0m\u001b[0m\n\u001b[1;32m    919\u001b[0m             \u001b[0mfh\u001b[0m \u001b[0;34m=\u001b[0m \u001b[0miter\u001b[0m\u001b[0;34m(\u001b[0m\u001b[0mfh\u001b[0m\u001b[0;34m)\u001b[0m\u001b[0;34m\u001b[0m\u001b[0;34m\u001b[0m\u001b[0m\n",
      "\u001b[0;32m~/.local/lib/python3.6/site-packages/numpy/lib/_datasource.py\u001b[0m in \u001b[0;36mopen\u001b[0;34m(path, mode, destpath, encoding, newline)\u001b[0m\n\u001b[1;32m    258\u001b[0m \u001b[0;34m\u001b[0m\u001b[0m\n\u001b[1;32m    259\u001b[0m     \u001b[0mds\u001b[0m \u001b[0;34m=\u001b[0m \u001b[0mDataSource\u001b[0m\u001b[0;34m(\u001b[0m\u001b[0mdestpath\u001b[0m\u001b[0;34m)\u001b[0m\u001b[0;34m\u001b[0m\u001b[0;34m\u001b[0m\u001b[0m\n\u001b[0;32m--> 260\u001b[0;31m     \u001b[0;32mreturn\u001b[0m \u001b[0mds\u001b[0m\u001b[0;34m.\u001b[0m\u001b[0mopen\u001b[0m\u001b[0;34m(\u001b[0m\u001b[0mpath\u001b[0m\u001b[0;34m,\u001b[0m \u001b[0mmode\u001b[0m\u001b[0;34m,\u001b[0m \u001b[0mencoding\u001b[0m\u001b[0;34m=\u001b[0m\u001b[0mencoding\u001b[0m\u001b[0;34m,\u001b[0m \u001b[0mnewline\u001b[0m\u001b[0;34m=\u001b[0m\u001b[0mnewline\u001b[0m\u001b[0;34m)\u001b[0m\u001b[0;34m\u001b[0m\u001b[0;34m\u001b[0m\u001b[0m\n\u001b[0m\u001b[1;32m    261\u001b[0m \u001b[0;34m\u001b[0m\u001b[0m\n\u001b[1;32m    262\u001b[0m \u001b[0;34m\u001b[0m\u001b[0m\n",
      "\u001b[0;32m~/.local/lib/python3.6/site-packages/numpy/lib/_datasource.py\u001b[0m in \u001b[0;36mopen\u001b[0;34m(self, path, mode, encoding, newline)\u001b[0m\n\u001b[1;32m    614\u001b[0m                                       encoding=encoding, newline=newline)\n\u001b[1;32m    615\u001b[0m         \u001b[0;32melse\u001b[0m\u001b[0;34m:\u001b[0m\u001b[0;34m\u001b[0m\u001b[0;34m\u001b[0m\u001b[0m\n\u001b[0;32m--> 616\u001b[0;31m             \u001b[0;32mraise\u001b[0m \u001b[0mIOError\u001b[0m\u001b[0;34m(\u001b[0m\u001b[0;34m\"%s not found.\"\u001b[0m \u001b[0;34m%\u001b[0m \u001b[0mpath\u001b[0m\u001b[0;34m)\u001b[0m\u001b[0;34m\u001b[0m\u001b[0;34m\u001b[0m\u001b[0m\n\u001b[0m\u001b[1;32m    617\u001b[0m \u001b[0;34m\u001b[0m\u001b[0m\n\u001b[1;32m    618\u001b[0m \u001b[0;34m\u001b[0m\u001b[0m\n",
      "\u001b[0;31mOSError\u001b[0m: /home/adrian/RemoteFS/Hobitton/20200728/DC01_RF10/Try00/Temp_SimuType0_N01024_Vrf0064_Udc0.1000D+01V_D1.0_S1.0RFG.dat not found."
     ]
    }
   ],
   "source": [
    "# Get T and fluo PM  ALL SimuType\n",
    "onlyfiles = [f for f in listdir(dirname_hc) if isfile(join(dirname_hc, f)) and \"SimuType\" in f and \".dat\" in f]\n",
    "ta, te, ti = plot_T_and_PM_Init_Inje_Evol(dirname_hc,sort(onlyfiles)[0].strip('.dat')[4:],0,'coucou' )\n",
    "\n",
    "# ,xlim1=(3.458,3.582),ylim1=(2e-4,50),ylim2=(19.5,65)"
   ]
  },
  {
   "cell_type": "code",
   "execution_count": 180,
   "metadata": {},
   "outputs": [],
   "source": [
    "# Get T and fluo PM  ONLY INIT\n",
    "onlyfiles = [f for f in listdir(dirname_hc) if isfile(join(dirname_hc, f)) and \"SimuType\" in f and \".dat\" in f]\n",
    "ta, te, ti, to = plot_T_and_PM_Quen(dirname_hc,sort(onlyfiles)[0].strip('.dat')[4:])\n",
    "# tt2, T_CM2, T_aux2, PM2\n",
    "# ,xlim1=(3.458,3.582),ylim1=(2e-4,50),ylim2=(19.5,65)"
   ]
  },
  {
   "cell_type": "code",
   "execution_count": 243,
   "metadata": {},
   "outputs": [
    {
     "name": "stdout",
     "output_type": "stream",
     "text": [
      "['Langevin_cooling.info', 'xva_SimuTypeQ_N01024_Vrf0026_Udc0.7000D+01V_D1.0_S1.0RFG.info']\n",
      "1000.0\n",
      "0.0\n",
      "6000.0\n"
     ]
    }
   ],
   "source": [
    "# recover duration for each step of simu (i_free__fly, i_laser_fly ...)\n",
    "\n",
    "address = all_subdir[plot_point]\n",
    "info_files = [f for f in listdir(address) if isfile(join(address, f)) and \".info\" in f]\n",
    "print(info_files)\n",
    "\n",
    "tmp_info = loadtxt(data0[plot_point][0]+'/'+info_files[0],encoding ='utf-8',\n",
    "            skiprows=1, usecols=(0),\n",
    "            unpack=True)\n",
    "i_free__fly = tmp_info[-1]\n",
    "\n",
    "tmp_info = loadtxt(data0[plot_point][0]+'/'+info_files[1],encoding ='utf-8',\n",
    "            skiprows=0, usecols=(0),\n",
    "            unpack=True)\n",
    "i_laser_fly_quench = tmp_info[-2]\n",
    "i_laser_fly = tmp_info[-1]\n",
    "\n",
    "n_dt = 100\n",
    "dt = 1/2e6\n",
    "\n",
    "print(i_free__fly)\n",
    "print(i_laser_fly_quench)\n",
    "print(i_laser_fly)"
   ]
  },
  {
   "cell_type": "code",
   "execution_count": 181,
   "metadata": {},
   "outputs": [],
   "source": [
    "n_dt = 100\n",
    "\n",
    "i_free__fly_Lan = 1000 #2000\n",
    "i_free__fly = 100\n",
    "i_therm_fly = 2000\n",
    "\n",
    "i_laser_fly = 6000 #2000\n",
    "i_laser_fly_quench = 6000 #2000\n",
    "\n",
    "i_cool__fly = 2000\n",
    "\n",
    "dt = 1/2e6"
   ]
  },
  {
   "cell_type": "code",
   "execution_count": 91,
   "metadata": {},
   "outputs": [
    {
     "ename": "ValueError",
     "evalue": "all the input arrays must have same number of dimensions",
     "output_type": "error",
     "traceback": [
      "\u001b[1;31m---------------------------------------------------------------------------\u001b[0m",
      "\u001b[1;31mValueError\u001b[0m                                Traceback (most recent call last)",
      "\u001b[1;32m<ipython-input-91-a15e7c1f04fd>\u001b[0m in \u001b[0;36m<module>\u001b[1;34m()\u001b[0m\n\u001b[0;32m      5\u001b[0m \u001b[0mT_aux\u001b[0m \u001b[1;33m=\u001b[0m \u001b[0mte\u001b[0m\u001b[1;33m[\u001b[0m\u001b[1;36m0\u001b[0m\u001b[1;33m]\u001b[0m\u001b[1;33m\u001b[0m\u001b[0m\n\u001b[0;32m      6\u001b[0m \u001b[1;33m\u001b[0m\u001b[0m\n\u001b[1;32m----> 7\u001b[1;33m \u001b[0mtt\u001b[0m \u001b[1;33m=\u001b[0m \u001b[0mconcatenate\u001b[0m\u001b[1;33m(\u001b[0m\u001b[1;33m(\u001b[0m\u001b[0mtt_Lan\u001b[0m\u001b[1;33m,\u001b[0m\u001b[0mtt_md\u001b[0m\u001b[1;33m)\u001b[0m\u001b[1;33m)\u001b[0m\u001b[1;33m\u001b[0m\u001b[0m\n\u001b[0m\u001b[0;32m      8\u001b[0m \u001b[0mT_all\u001b[0m \u001b[1;33m=\u001b[0m \u001b[0mconcatenate\u001b[0m\u001b[1;33m(\u001b[0m\u001b[1;33m(\u001b[0m\u001b[0msave_T\u001b[0m\u001b[1;33m[\u001b[0m\u001b[1;33m:\u001b[0m\u001b[1;33m,\u001b[0m\u001b[1;36m4\u001b[0m\u001b[1;33m:\u001b[0m\u001b[1;33m]\u001b[0m\u001b[1;33m,\u001b[0m\u001b[0mT_aux\u001b[0m\u001b[1;33m)\u001b[0m\u001b[1;33m,\u001b[0m\u001b[0maxis\u001b[0m\u001b[1;33m=\u001b[0m\u001b[1;36m0\u001b[0m\u001b[1;33m)\u001b[0m\u001b[1;33m\u001b[0m\u001b[0m\n\u001b[0;32m      9\u001b[0m \u001b[1;33m\u001b[0m\u001b[0m\n",
      "\u001b[1;31mValueError\u001b[0m: all the input arrays must have same number of dimensions"
     ]
    }
   ],
   "source": [
    "# Plot temperature Langevin + md laser  ALL SimuType\n",
    "\n",
    "tt_Lan = linspace(0,dt_j_save_next*j_save,j_save) # dt_j_save_next*100 duration of Langevin run  ,\n",
    "tt_md = ta[0]\n",
    "T_aux = te[0]\n",
    "\n",
    "tt = concatenate((tt_Lan,tt_md))\n",
    "T_all = concatenate((save_T[:,4:],T_aux),axis=0)\n",
    "\n",
    "PM = ti[0]\n",
    "\n",
    "#fig_name = file_name[-9:] \n",
    "figure('Temperature'); clf()\n",
    "ax1 = subplot(211)\n",
    "ax1.semilogy(tt*1e3,T_all[:,0], label='Tx',color='C0')\n",
    "ax1.semilogy(tt*1e3,T_all[:,1], label='Ty',color='C1')\n",
    "ax1.semilogy(tt*1e3,T_all[:,2], label='Tz',color='C2')\n",
    "#semilogy(tt_Lan*1.e3,save_T[:,0], label='Tx',color='C0')\n",
    "#semilogy(tt_Lan*1.e3,save_T[:,1], label='Ty',color='C1')\n",
    "#semilogy(tt_Lan*1.e3,save_T[:,2], label='Tz',color='C2')\n",
    "ax1.vlines(ta[1]*1e3,1e-4,1e4,color='red')\n",
    "ax1.vlines(ta[2]*1e3,1e-4,1e4,color='red')\n",
    "time_switch = i_free__fly_Lan*dt\n",
    "ax1.vlines(time_switch*1e3,1e-4,1e4,color='blue')\n",
    "time_switch = (i_free__fly_Lan+i_laser_fly)*dt\n",
    "ax1.vlines(time_switch*1e3,1e-4,1e4,color='orange')\n",
    "time_switch = (i_free__fly_Lan+2*i_laser_fly)*dt\n",
    "ax1.vlines((time_switch+ta[2]-ta[1])*1e3,1e-4,1e4,color='purple')\n",
    "ax1.grid()\n",
    "# annotate('Laser ON', xy=(0.5,350), xycoords='data',\n",
    "# size=24, ha='left', va='top', color='xkcd:azul',\n",
    "# bbox=dict(boxstyle='round', fc='white',edgecolor='xkcd:azul')\n",
    ",\n",
    "# ~ xlabel('time[ms]')\n",
    "# ~ ylabel('T[K]')\n",
    "plt.setp(ax1.get_xticklabels(),visible=False)\n",
    "\n",
    "ax2 = subplot(212,sharex=ax1)\n",
    "plot(tt_md*1e3,PM, label='Tx')\n",
    "time_switch = i_free__fly_Lan*dt\n",
    "ax2.vlines(time_switch*1e3,1e-4,75,color='blue')\n",
    "time_switch = (i_free__fly_Lan+i_laser_fly)*dt\n",
    "ax2.vlines(time_switch*1e3,1e-4,75,color='orange')\n",
    "time_switch = (i_free__fly_Lan+2*i_laser_fly)*dt\n",
    "ax2.vlines((time_switch+ta[2]-ta[1])*1e3,1e-4,75,color='purple')\n",
    "ax2.grid()\n",
    "# annotate('laser off après injection', xy=(0.5,350), xycoords='data',\n",
    "# size=24, ha='left', va='top', color='xkcd:azul',\n",
    "# bbox=dict(boxstyle='round', fc='white',edgecolor='xkcd:azul'))\n",
    "\n",
    "xlabel('time[ms]')\n",
    "ylabel('Counts')\n",
    "\n",
    "plt.tight_layout()\n",
    "subplots_adjust(hspace=0.015)"
   ]
  },
  {
   "cell_type": "code",
   "execution_count": 182,
   "metadata": {},
   "outputs": [],
   "source": [
    "# Plot temperature Langevin + md laser  ONLY INIT\n",
    "\n",
    "tt_Lan = save_T[:,0] # linspace(0,dt_j_save_next*j_save,j_save) # dt_j_save_next*100 duration of Langevin run  ,\n",
    "tt_md = ta\n",
    "T_aux = ti\n",
    "\n",
    "tt = concatenate((tt_Lan,tt_md))\n",
    "T_all = concatenate((save_T[:,4:],T_aux),axis=0)\n",
    "\n",
    "PM = to\n",
    "\n",
    "#fig_name = file_name[-9:] \n",
    "figure('Temperature'); clf()\n",
    "ax1 = subplot(211)\n",
    "ax1.semilogy(tt*1e3,T_all[:,0], label='Tx',color='C0')\n",
    "ax1.semilogy(tt*1e3,T_all[:,1], label='Ty',color='C1')\n",
    "ax1.semilogy(tt*1e3,T_all[:,2], label='Tz',color='C2')\n",
    "#semilogy(tt_Lan*1.e3,save_T[:,0], label='Tx',color='C0')\n",
    "#semilogy(tt_Lan*1.e3,save_T[:,1], label='Ty',color='C1')\n",
    "#semilogy(tt_Lan*1.e3,save_T[:,2], label='Tz',color='C2')\n",
    "ax1.vlines(ta[1]*1e3,1e-4,1e4,color='red')\n",
    "ax1.vlines(ta[2]*1e3,1e-4,1e4,color='red')\n",
    "time_switch = i_free__fly_Lan*dt\n",
    "ax1.vlines(time_switch*1e3,1e-4,1e4,color='blue')\n",
    "time_switch = (i_free__fly_Lan+i_laser_fly_quench)*dt\n",
    "ax1.vlines(time_switch*1e3,1e-4,1e4,color='green')\n",
    "time_switch = (i_free__fly_Lan+i_laser_fly_quench+i_laser_fly)*dt\n",
    "ax1.vlines(time_switch*1e3,1e-4,1e4,color='orange')\n",
    "time_switch = (i_free__fly_Lan+2*i_laser_fly)*dt\n",
    "ax1.vlines((time_switch+ta[2]-ta[1])*1e3,1e-4,1e4,color='purple')\n",
    "ax1.grid()\n",
    "# annotate('Laser ON', xy=(0.5,350), xycoords='data',\n",
    "# size=24, ha='left', va='top', color='xkcd:azul',\n",
    "# bbox=dict(boxstyle='round', fc='white',edgecolor='xkcd:azul')\n",
    ",\n",
    "# ~ xlabel('time[ms]')\n",
    "# ~ ylabel('T[K]')\n",
    "plt.setp(ax1.get_xticklabels(),visible=False)\n",
    "\n",
    "ax2 = subplot(212,sharex=ax1)\n",
    "ax2.plot(tt_md*1e3,PM, label='Tx')\n",
    "# time_switch = i_free__fly_Lan*dt\n",
    "# ax2.vlines(time_switch*1e3,1e-4,75,color='blue')\n",
    "# time_switch = (i_free__fly_Lan+i_laser_fly)*dt\n",
    "# ax2.vlines(time_switch*1e3,1e-4,75,color='orange')\n",
    "# time_switch = (i_free__fly_Lan+2*i_laser_fly)*dt\n",
    "# ax2.vlines((time_switch+ta[2]-ta[1])*1e3,1e-4,75,color='purple')\n",
    "ax2.grid()\n",
    "# annotate('laser off après injection', xy=(0.5,350), xycoords='data',\n",
    "# size=24, ha='left', va='top', color='xkcd:azul',\n",
    "# bbox=dict(boxstyle='round', fc='white',edgecolor='xkcd:azul'))\n",
    "\n",
    "xlabel('time[ms]')\n",
    "ylabel('Counts')\n",
    "\n",
    "plt.tight_layout()\n",
    "subplots_adjust(hspace=0.015)"
   ]
  },
  {
   "cell_type": "code",
   "execution_count": 185,
   "metadata": {},
   "outputs": [
    {
     "name": "stderr",
     "output_type": "stream",
     "text": [
      "/home/adrian/.local/lib/python3.6/site-packages/matplotlib/axes/_base.py:3449: UserWarning: Attempted to set non-positive ylimits for log-scale axis; invalid limits will be ignored.\n",
      "  'Attempted to set non-positive ylimits for log-scale axis; '\n"
     ]
    },
    {
     "name": "stdout",
     "output_type": "stream",
     "text": [
      "len save_T [55440]\n",
      "[5.05000000e-07 4.23222320e-06 4.96528512e-03 1.16579467e-08\n",
      " 4.64992112e+01 1.45491138e+00 7.50930923e+01]\n",
      "len save_T [55440]\n",
      "[5.05000000e-07 7.52253490e-06 3.48872777e-04 5.12526961e-05\n",
      " 4.54876965e+01 1.55295944e+00 7.02008613e+01]\n",
      "len save_T [55440]\n",
      "[5.05000000e-07 1.07664384e-06 5.81861635e-03 4.30580736e-07\n",
      " 4.83602321e+01 1.74456001e+00 6.88362069e+01]\n",
      "len save_T [55440]\n",
      "[5.05000000e-07 6.82699844e-05 4.45165984e-06 1.92434500e-06\n",
      " 4.65520063e+01 1.18664357e+00 6.47389344e+01]\n",
      "len save_T [55440]\n",
      "[5.05000000e-07 2.79925372e-05 3.91815224e-03 2.61819998e-04\n",
      " 4.55363022e+01 1.18048343e+00 5.98620411e+01]\n",
      "len save_T [55440]\n",
      "[5.05000000e-07 6.92532049e-06 6.50181047e-04 1.57981649e-05\n",
      " 5.02735358e+01 1.53019287e+00 6.07792457e+01]\n"
     ]
    }
   ],
   "source": [
    "# Plot all temp for all conditions\n",
    "fname = 'Temp_allpoints'\n",
    "\n",
    "\n",
    "fig, ax = plt.subplots(3, 2,num=fname,clear=True,sharex=True,sharey=True)\n",
    "fig.set_size_inches(11.69,8.27)\n",
    "# suptitle('Saturation 866')\n",
    "\n",
    "to_plot = 0\n",
    "\n",
    "for l in range(0,2):\n",
    "    for k in range(0,3):\n",
    "        plot_point = to_plot\n",
    "#             str_eta_chiffre    = float(f'{eta[patate]:1.2e}'[:4])/10\n",
    "#             str_eta_puissance  = int(re.sub('e','D',f'{eta[patate]:1.2e}'[6:]))-1\n",
    "#             str_eta = f'{str_eta_chiffre:1.2f}'+'D-'+str(str_eta_puissance)\n",
    "        str_eta = '0.15D-19'\n",
    "        dirname_hc = str(data0[plot_point][plot_try])+'/'\n",
    "        # Temp_3D_Harmo_N1024_T500uK_F0.20D-20Kg_s_5\n",
    "        datainit_hc = 'Temp_3D_Harmo_N1024_T500uK_F'+str(str_eta)+'Kg_s_5'\n",
    "        N_ions, j_save, dt_j_save_next, eta_float, Temp, save_T = \\\n",
    "        load_Temp_init_bin_Lan(dirname_hc+datainit_hc,flag_print=0)\n",
    "        # Get T and fluo PM\n",
    "        onlyfiles = [f for f in listdir(dirname_hc) if isfile(join(dirname_hc, f)) and 'SimuType' in f and '.dat' in f]\n",
    "        ta, te, ti, to = plot_T_and_PM_Quen(dirname_hc,sort(onlyfiles)[0].strip('.dat')[4:])\n",
    "\n",
    "        tt_Lan = save_T[:,0]\n",
    "        tt_md = ta\n",
    "        T_aux = ti\n",
    "\n",
    "        tt = concatenate((tt_Lan,tt_md))\n",
    "        T_all = concatenate((save_T[:,4:],T_aux),axis=0)\n",
    "\n",
    "        PM = to\n",
    "\n",
    "        ax[k,l].semilogy(tt*1e3,T_all[:,0], label='Tx',color='C0')\n",
    "        ax[k,l].semilogy(tt*1e3,T_all[:,1], label='Ty',color='C1')\n",
    "        ax[k,l].semilogy(tt*1e3,T_all[:,2], label='Tz',color='C2')\n",
    "#         ax[k,l].vlines(ta[1]*1e3,1e-4,1e4,color='red')\n",
    "#         ax[k,l].vlines(ta[2]*1e3,1e-4,1e4,color='red')\n",
    "        time_switch = i_free__fly_Lan*dt\n",
    "        ax[k,l].vlines(time_switch*1e3,1e-4,1e4,color='blue')\n",
    "        time_switch = (i_free__fly_Lan+i_laser_fly_quench)*dt\n",
    "        ax[k,l].vlines(time_switch*1e3,1e-4,1e4,color='green')\n",
    "        time_switch = (i_free__fly_Lan+i_laser_fly_quench+i_laser_fly)*dt\n",
    "        ax[k,l].vlines(time_switch*1e3,1e-4,1e4,color='orange')\n",
    "        time_switch = (i_free__fly_Lan+2*i_laser_fly)*dt\n",
    "        ax[k,l].vlines((time_switch+ta[2]-ta[1])*1e3,1e-4,1e4,color='purple')\n",
    "        ax[k,l].vlines((time_switch+ta[2]-ta[1])*1e3,1e-4,1e4,color='purple')\n",
    "        ax[k,l].set_yticks([1e-4,1e-2,1,1e2,1e4])\n",
    "        ax[k,l].grid()\n",
    "        #     ax[k].set_ylim(-0.1,0.55)\n",
    "        ax[k,l].xaxis.set_major_locator(matplotlib.ticker.MultipleLocator(base=1))\n",
    "        ax[k,l].annotate(str(list(dict.fromkeys(points_and_coord))[plot_point]), xy=(0.80, 0.99), xycoords='axes fraction', # pts_concerned[to_plot]\n",
    "        size=12, ha='left', va='top',\n",
    "        bbox=dict(boxstyle='round', fc='w'))\n",
    "        to_plot += 1\n",
    "        if to_plot == 6:\n",
    "            break\n",
    "    if to_plot == 6:\n",
    "        break\n",
    "\n",
    "# ax[3].set_xlim(-10,4000)\n",
    "ax[k,l].set_ylim(2e-4,1e4)\n",
    "fig.suptitle(str(eta) + 'Kg.s-1')\n",
    "fig.text(0.56, 0.04, 'time [ms]', ha='center')\n",
    "fig.text(0.04, 0.54, 'T [K]', va='center', rotation='vertical')\n",
    "\n",
    "# fig.suptitle(pt_to_plot[0][:-6],fontsize=10)\n",
    "\n",
    "# fig.text(0.5, 0.01, 'f', ha='center')\n",
    "# fig.text(0.01, 0.5, r'$| FFT(HC(t)) | / N_{sample}$', va='center', rotation='vertical')\n",
    "\n",
    "fig.set_size_inches(11.69,8.27)\n",
    "plt.tight_layout()\n",
    "subplots_adjust(hspace=0.05, wspace = 0.05, bottom = 0.120, left = 0.140, top = 0.92) # hspace=0, top=0.95, left = 0.065, bottom = 0.07\n",
    "savefig(fname+'.png') "
   ]
  },
  {
   "cell_type": "code",
   "execution_count": 150,
   "metadata": {},
   "outputs": [
    {
     "name": "stderr",
     "output_type": "stream",
     "text": [
      "/home/adrian/.local/lib/python3.6/site-packages/matplotlib/axes/_base.py:3449: UserWarning: Attempted to set non-positive ylimits for log-scale axis; invalid limits will be ignored.\n",
      "  'Attempted to set non-positive ylimits for log-scale axis; '\n"
     ]
    },
    {
     "ename": "TypeError",
     "evalue": "'float' object is not subscriptable",
     "output_type": "error",
     "traceback": [
      "\u001b[0;31m---------------------------------------------------------------------------\u001b[0m",
      "\u001b[0;31mTypeError\u001b[0m                                 Traceback (most recent call last)",
      "\u001b[0;32m<ipython-input-150-1149f6a87f7f>\u001b[0m in \u001b[0;36m<module>\u001b[0;34m()\u001b[0m\n\u001b[1;32m     17\u001b[0m         \u001b[0;31m# list(dict.fromkeys(points_and_coord))[plot_point]\u001b[0m\u001b[0;34m\u001b[0m\u001b[0;34m\u001b[0m\u001b[0;34m\u001b[0m\u001b[0m\n\u001b[1;32m     18\u001b[0m \u001b[0;34m\u001b[0m\u001b[0m\n\u001b[0;32m---> 19\u001b[0;31m         \u001b[0mstr_eta_chiffre\u001b[0m    \u001b[0;34m=\u001b[0m \u001b[0mfloat\u001b[0m\u001b[0;34m(\u001b[0m\u001b[0;34mf'{eta[plot_point]:1.2e}'\u001b[0m\u001b[0;34m[\u001b[0m\u001b[0;34m:\u001b[0m\u001b[0;36m4\u001b[0m\u001b[0;34m]\u001b[0m\u001b[0;34m)\u001b[0m\u001b[0;34m/\u001b[0m\u001b[0;36m10\u001b[0m\u001b[0;34m\u001b[0m\u001b[0;34m\u001b[0m\u001b[0m\n\u001b[0m\u001b[1;32m     20\u001b[0m         \u001b[0mstr_eta_puissance\u001b[0m  \u001b[0;34m=\u001b[0m \u001b[0mint\u001b[0m\u001b[0;34m(\u001b[0m\u001b[0mre\u001b[0m\u001b[0;34m.\u001b[0m\u001b[0msub\u001b[0m\u001b[0;34m(\u001b[0m\u001b[0;34m'e'\u001b[0m\u001b[0;34m,\u001b[0m\u001b[0;34m'D'\u001b[0m\u001b[0;34m,\u001b[0m\u001b[0;34mf'{eta[plot_point]:1.2e}'\u001b[0m\u001b[0;34m[\u001b[0m\u001b[0;36m6\u001b[0m\u001b[0;34m:\u001b[0m\u001b[0;34m]\u001b[0m\u001b[0;34m)\u001b[0m\u001b[0;34m)\u001b[0m\u001b[0;34m-\u001b[0m\u001b[0;36m1\u001b[0m\u001b[0;34m\u001b[0m\u001b[0;34m\u001b[0m\u001b[0m\n\u001b[1;32m     21\u001b[0m         \u001b[0mstr_eta\u001b[0m \u001b[0;34m=\u001b[0m \u001b[0;34mf'{str_eta_chiffre:1.2f}'\u001b[0m\u001b[0;34m+\u001b[0m\u001b[0;34m'D-'\u001b[0m\u001b[0;34m+\u001b[0m\u001b[0mstr\u001b[0m\u001b[0;34m(\u001b[0m\u001b[0mstr_eta_puissance\u001b[0m\u001b[0;34m)\u001b[0m\u001b[0;34m\u001b[0m\u001b[0;34m\u001b[0m\u001b[0m\n",
      "\u001b[0;31mTypeError\u001b[0m: 'float' object is not subscriptable"
     ]
    }
   ],
   "source": [
    "# Plot all temp one for each Eta\n",
    "fname = 'Temp_allEta'\n",
    "\n",
    "my_order = [0, 1, 2, 3, 4, 5, 6, 7, 8, 9, 10] # [6, 5, 4, 3, 2, 1, 0, 13, 12, 11, 10, 9, 8, 7]\n",
    "\n",
    "fig, ax = plt.subplots(3, 4,num=fname,clear=True,sharex=True,sharey=True)\n",
    "fig.set_size_inches(11.69,8.27)\n",
    "# suptitle('Saturation 866')\n",
    "\n",
    "plot_try = 0\n",
    "\n",
    "plot_iter = 0\n",
    "for l in range(0,4):\n",
    "    for k in range(0,3):\n",
    "\n",
    "        plot_point = my_order[plot_iter]\n",
    "        # list(dict.fromkeys(points_and_coord))[plot_point]\n",
    "\n",
    "#         str_eta_chiffre    = float(f'{eta[plot_point]:1.2e}'[:4])/10\n",
    "#         str_eta_puissance  = int(re.sub('e','D',f'{eta[plot_point]:1.2e}'[6:]))-1\n",
    "#         str_eta = f'{str_eta_chiffre:1.2f}'+'D-'+str(str_eta_puissance)\n",
    "        dirname_hc = str(data0[plot_point][plot_try])+'/'\n",
    "        # Temp_3D_Harmo_N1024_T500uK_F0.20D-20Kg_s_5\n",
    "        datainit_hc = 'Temp_3D_Harmo_N1024_T500uK_F'+str(str_eta)+'Kg_s_5'\n",
    "        N_ions, j_save, dt_j_save_next, eta_float, Temp, save_T = \\\n",
    "        load_Temp_init_bin_Lan(dirname_hc+datainit_hc,flag_print=0)\n",
    "        # Get T and fluo PM\n",
    "        onlyfiles = [f for f in listdir(dirname_hc) if isfile(join(dirname_hc, f)) and 'SimuType' in f and '.dat' in f]\n",
    "        ta, te, ti, to = plot_T_and_PM_Quen(dirname_hc,sort(onlyfiles)[0].strip('.dat')[4:])\n",
    "\n",
    "        tt_Lan = save_T[:,0]\n",
    "        tt_md = ta\n",
    "        T_aux = ti\n",
    "\n",
    "        tt = concatenate((tt_Lan,tt_md))\n",
    "        T_all = concatenate((save_T[:,4:],T_aux),axis=0)\n",
    "\n",
    "        PM = to\n",
    "\n",
    "        ax[k,l].semilogy(tt*1e3,T_all[:,0], label='Tx',color='C0')\n",
    "        ax[k,l].semilogy(tt*1e3,T_all[:,1], label='Ty',color='C1')\n",
    "        ax[k,l].semilogy(tt*1e3,T_all[:,2], label='Tz',color='C2')\n",
    "        ax[k,l].vlines(ta[1]*1e3,1e-4,1e4,color='red')\n",
    "        ax[k,l].vlines(ta[2]*1e3,1e-4,1e4,color='red')\n",
    "        time_switch = i_free__fly_Lan*dt\n",
    "        ax[k,l].vlines(time_switch*1e3,1e-4,1e4,color='blue')\n",
    "        time_switch = (i_free__fly_Lan+i_laser_fly)*dt\n",
    "        ax[k,l].vlines(time_switch*1e3,1e-4,1e4,color='orange')\n",
    "        time_switch = (i_free__fly_Lan+2*i_laser_fly)*dt\n",
    "        # ax[k,l].vlines((time_switch+ta[2]-ta[1])*1e3,1e-4,1e4,color='purple')\n",
    "        ax[k,l].set_yticks([1e-4,1e-2,1,1e2,1e4])\n",
    "        ax[k,l].grid()\n",
    "        #     ax[k].set_ylim(-0.1,0.55)\n",
    "        ax[k,l].xaxis.set_major_locator(matplotlib.ticker.MultipleLocator(base=1))\n",
    "        ax[k,l].annotate(list(dict.fromkeys(points_and_coord))[plot_point] + '\\n' + str(eta[plot_point]),\n",
    "                         xy=(0.73, 0.28), xycoords='axes fraction', # pts_concerned[to_plot]\n",
    "        size=12, ha='left', va='top',\n",
    "        bbox=dict(boxstyle='round', fc='w'))\n",
    "        plot_iter += 1\n",
    "        if plot_iter == 13:\n",
    "            break\n",
    "    if plot_iter == 13:\n",
    "        break\n",
    "\n",
    "# ax[3].set_xlim(-10,4000)\n",
    "ax[k,l].set_ylim(2e-4,1e-1)\n",
    "fig.suptitle('Temperature for many Eta parameters')\n",
    "fig.text(0.56, 0.04, 'time [ms]', ha='center')\n",
    "fig.text(0.04, 0.54, 'T [K]', va='center', rotation='vertical')\n",
    "\n",
    "# fig.suptitle(pt_to_plot[0][:-6],fontsize=10)\n",
    "\n",
    "# fig.text(0.5, 0.01, 'f', ha='center')\n",
    "# fig.text(0.01, 0.5, r'$| FFT(HC(t)) | / N_{sample}$', va='center', rotation='vertical')\n",
    "\n",
    "fig.set_size_inches(11.69,8.27)\n",
    "plt.tight_layout()\n",
    "subplots_adjust(hspace=0.05, wspace = 0.05, bottom = 0.120, left = 0.140, top = 0.92) # hspace=0, top=0.95, left = 0.065, bottom = 0.07\n",
    "savefig(fname+'.png') "
   ]
  },
  {
   "cell_type": "code",
   "execution_count": null,
   "metadata": {},
   "outputs": [],
   "source": [
    "# Plot all fluo rf relax après refroidissement\n",
    "\n",
    "for patate,ketchup in enumerate(list(dict.fromkeys(points_and_coord))):\n",
    "\n",
    "    plot_point = patate\n",
    "    fname = 'Fluo_alltry_'+ketchup\n",
    "\n",
    "    fig, ax = plt.subplots(3, 2,num=fname,clear=True,sharex=True,sharey=True)\n",
    "    fig.set_size_inches(11.69,8.27)\n",
    "    # suptitle('Saturation 866')\n",
    "\n",
    "\n",
    "    to_plot = 0\n",
    "    for l in range(0,2):\n",
    "        for k in range(0,3):\n",
    "\n",
    "            dirname_hc = str(data0[plot_point][to_plot])+'/'\n",
    "            N_ions, j_save, dt_j_save_next, eta, Temp, save_T =\\\n",
    "            load_Temp_init_bin_Lan(dirname_hc+datainit_hc,0)\n",
    "            # Get T and fluo PM\n",
    "            onlyfiles = [f for f in listdir(dirname_hc) if isfile(join(dirname_hc, f)) and 'SimuType' in f and '.dat' in f]\n",
    "            ta, te, ti = plot_T_and_PM_Init_Inje_Evol(dirname_hc,sort(onlyfiles)[0].strip('.dat')[4:],0,'coucou' )\n",
    "\n",
    "            tt_Lan = linspace(0,dt_j_save_next*j_save,j_save) # dt_j_save_next*100 duration of Langevin run\n",
    "            tt_md = ta[0]\n",
    "            T_aux = te[0]\n",
    "\n",
    "            tt = concatenate((tt_Lan,tt_md))\n",
    "            T_all = concatenate((save_T[:,4:],T_aux),axis=0)\n",
    "\n",
    "            PM = ti[0]\n",
    "\n",
    "            ax[k,l].plot(tt_md*1e3,PM, label='Tx',color='C0')\n",
    "            ax[k,l].vlines(ta[1]*1e3,1e-4,75,color='red')\n",
    "            ax[k,l].vlines(ta[2]*1e3,1e-4,75,color='red')\n",
    "            time_switch = i_free__fly_Lan*dt\n",
    "            ax[k,l].vlines(time_switch*1e3,1e-4,75,color='blue')\n",
    "            time_switch = (i_free__fly_Lan+i_laser_fly)*dt\n",
    "            ax[k,l].vlines(time_switch*1e3,1e-4,75,color='orange')\n",
    "            time_switch = (i_free__fly_Lan+2*i_laser_fly)*dt\n",
    "            ax[k,l].vlines((time_switch+ta[2]-ta[1])*1e3,1e-4,75,color='purple')\n",
    "            ax[k,l].grid()\n",
    "        #     ax[k].set_ylim(-0.1,0.55)\n",
    "            ax[k,l].xaxis.set_major_locator(matplotlib.ticker.MultipleLocator(base=0.5))\n",
    "            ax[k,l].annotate('try'+str(to_plot), xy=(0.80, 0.99), xycoords='axes fraction', # pts_concerned[to_plot]\n",
    "                    size=12, ha='left', va='top',\n",
    "                    bbox=dict(boxstyle='round', fc='w'))\n",
    "            to_plot += 1\n",
    "            if to_plot == 6:\n",
    "                break\n",
    "        if to_plot == 6:\n",
    "            break\n",
    "    # ax[3].set_xlim(-10,4000),\n",
    "    # ax[k,l].set_ylim(2e-4,1e-1),\n",
    "    fig.suptitle(list(dict.fromkeys(points_and_coord))[plot_point])\n",
    "    fig.text(0.56, 0.04, 'time [ms]', ha='center')\n",
    "    fig.text(0.04, 0.54, 'T [K]', va='center', rotation='vertical')\n",
    "\n",
    "    # fig.suptitle(pt_to_plot[0][:-6],fontsize=10)\n",
    "\n",
    "    # fig.text(0.5, 0.01, 'f', ha='center')\n",
    "    # fig.text(0.01, 0.5, r'$| FFT(HC(t)) | / N_{sample}$', va='center', rotation='vertical')\n",
    "\n",
    "    fig.set_size_inches(11.69,8.27)\n",
    "    plt.tight_layout()\n",
    "    subplots_adjust(hspace=0.05, wspace = 0.05, bottom = 0.120, left = 0.140, top = 0.92) # hspace=0, top=0.95, left = 0.065, bottom = 0.07\n",
    "    savefig(fname+'.png')"
   ]
  },
  {
   "cell_type": "code",
   "execution_count": null,
   "metadata": {},
   "outputs": [],
   "source": [
    "for g,h in enumerate(points_and_coord):\n",
    "    print(g,h)"
   ]
  },
  {
   "cell_type": "code",
   "execution_count": null,
   "metadata": {},
   "outputs": [],
   "source": [
    "Gmol_data[2]\n",
    "\n",
    "detect_rate = []\n",
    "detect_threshold = 1\n",
    "\n",
    "for k in range(shape(Gmol_data[2])[0]):\n",
    "    print('k',k)\n",
    "    detect_rate.append(0)\n",
    "    for l,m in enumerate(Gmol_data[2][k]):\n",
    "        print('... l',l)\n",
    "        if m > detect_threshold:\n",
    "            detect_rate[k] += 1\n",
    "    detect_rate[k] = detect_rate[k] / shape(Gmol_data[2])[1]\n",
    "    \n",
    "for n,o in enumerate(list(dict.fromkeys(points_and_coord))):\n",
    "    print(o)\n",
    "    print(detect_rate[n])"
   ]
  },
  {
   "cell_type": "code",
   "execution_count": null,
   "metadata": {},
   "outputs": [],
   "source": [
    "detect_rate[0]"
   ]
  },
  {
   "cell_type": "code",
   "execution_count": null,
   "metadata": {},
   "outputs": [],
   "source": [
    "Udc = [0.5, 1, 1.5, 2, 2.5, 3, 3.5, 4, 4.5, 5, 6, 7, 7.5, 3.33, 3.66, 4.5, 5.33, 5.66, 6, 6.5]\n",
    "Urf = [10.77, 16.15, 21.54, 26.92, 32.31, 37.69, 43.08, 48.46, 53.85, 59.23, 64.61,\n",
    "       70.00, 75.38, 80.77, 61.02, 62.82, 66.41, 68.20, 71.79, 55.64, 57.43]"
   ]
  },
  {
   "cell_type": "code",
   "execution_count": null,
   "metadata": {},
   "outputs": [],
   "source": [
    "x = []\n",
    "y = []\n",
    "z = []\n",
    "for g,h in enumerate(points_and_coord):\n",
    "    x.append(Udc[int(points_and_coord[h][0])])\n",
    "    y.append(Urf[int(points_and_coord[h][1])])\n",
    "    z.append(detect_rate[g])\n",
    "    \n",
    "fname = '2D_GMol_var_fluo_contour'\n",
    "fig = plt.figure(fname,clear=True)\n",
    "ax = fig.add_subplot(111)\n",
    "title(all_subdir[0][:-15],fontsize=25)\n",
    "\n",
    "im = ax.scatter(x,y,\n",
    "        marker='o',s=400,edgecolor='black',zorder = 1000,\n",
    "        c = z, cmap='rainbow')\n",
    "ax.set_xlabel(r'$U_{DC}$ [V]')\n",
    "ax.set_ylabel(r'$U_{RF}$ [V]')\n",
    "ax.grid()\n",
    "\n",
    "for i, txt in enumerate(points_and_coord):\n",
    "    ax.annotate(str(i), (x[i], y[i]),color='xkcd:black',fontsize=13,\n",
    "                ha='center',va='center',weight='bold',zorder = 1000)\n",
    "    # ax.annotate(str(txt), (x[i], y[i]-0.70),fontsize=9)\n",
    "#    if mean(cool_cloud[i])*13 < 13:\n",
    "#        ax.annotate(f'{mean(cool_cloud[i])*13:.0f}',(x[i]-0.12, y[i]+0.25),fontsize=13,color='red',ha='right')\n",
    "    #ax.annotate(str(txt)+'\\n'+str(i), (x[i], y[i]))\n",
    "\n",
    "cbar = plt.colorbar(im, ax=ax)\n",
    "cbar.ax.set_ylabel(r'Detection rate (SNR > '+str(SNR_trig_threshold)+ ', Detuning -'+ str(Detuning) +   ')\\n ('+str(len(num_runs))+' runs for each point)', rotation=90)\n",
    "# ax.grid()\n",
    "ax.xaxis.set_major_locator(matplotlib.ticker.MultipleLocator(base=1))\n",
    "fig.set_size_inches(11.69, 8.27)\n",
    "\n",
    "fig.tight_layout()\n",
    "savefig(fname+'_D'+str(Detuning)+'.png',dpi=300)"
   ]
  }
 ],
 "metadata": {
  "kernelspec": {
   "display_name": "Python 3",
   "language": "python",
   "name": "python3"
  },
  "language_info": {
   "codemirror_mode": {
    "name": "ipython",
    "version": 3
   },
   "file_extension": ".py",
   "mimetype": "text/x-python",
   "name": "python",
   "nbconvert_exporter": "python",
   "pygments_lexer": "ipython3",
   "version": "3.6.7"
  }
 },
 "nbformat": 4,
 "nbformat_minor": 2
}
