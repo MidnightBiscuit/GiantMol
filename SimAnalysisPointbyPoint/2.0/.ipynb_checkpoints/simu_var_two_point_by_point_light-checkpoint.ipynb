{
 "cells": [
  {
   "cell_type": "code",
   "execution_count": null,
   "metadata": {},
   "outputs": [],
   "source": [
    "###########################################################\n",
    "#                                                         #\n",
    "#               TRAITEMENT SIMUS FORTRAN                  #\n",
    "#                     STATISTIQUES                        #\n",
    "#                                                         #\n",
    "#                         avec                            #\n",
    "#                   - lecture arborescence                #\n",
    "#                  analyse                                #\n",
    "#                   - Delta Fluo                          #\n",
    "#                   - Delta Energy GMol                   #\n",
    "#                   - R/L Ca+                             #\n",
    "#                   - distance inter ionique              #\n",
    "#                   - trajectoire GMol                    #\n",
    "#                                                         #\n",
    "#                          02/2020     Adrien Poindron    #\n",
    "###########################################################"
   ]
  },
  {
   "cell_type": "code",
   "execution_count": 5,
   "metadata": {},
   "outputs": [
    {
     "data": {
      "text/html": [
       "<style>.container { width:95% !important; }</style>"
      ],
      "text/plain": [
       "<IPython.core.display.HTML object>"
      ]
     },
     "metadata": {},
     "output_type": "display_data"
    }
   ],
   "source": [
    "from IPython.core.display import display, HTML\n",
    "display(HTML(\"<style>.container { width:95% !important; }</style>\"))\n",
    "matplotlib.rcParams['figure.figsize'] = [10.5,7]\n",
    "matplotlib.rcParams.update({'font.size': 25})"
   ]
  },
  {
   "cell_type": "markdown",
   "metadata": {},
   "source": [
    "# Imports"
   ]
  },
  {
   "cell_type": "code",
   "execution_count": 2,
   "metadata": {},
   "outputs": [],
   "source": [
    "# %pylab\n",
    "\n",
    "import numpy\n",
    "import matplotlib\n",
    "from matplotlib.patches import Ellipse\n",
    "from matplotlib import pylab, mlab, pyplot\n",
    "from mpl_toolkits.mplot3d import Axes3D\n",
    "np = numpy\n",
    "plt = pyplot\n",
    "\n",
    "matplotlib.rcParams.update({'font.size': 21})\n",
    "# matplotlib.rcParams[\"figure.dpi\"] = 300\n",
    "\n",
    "from IPython.display import display\n",
    "from IPython.core.pylabtools import figsize, getfigs\n",
    "\n",
    "from pylab import *\n",
    "from numpy import *\n",
    "\n",
    "from scipy.optimize import curve_fit"
   ]
  },
  {
   "cell_type": "code",
   "execution_count": 3,
   "metadata": {},
   "outputs": [],
   "source": [
    "import os\n",
    "from os import listdir\n",
    "from os.path import isfile, join\n",
    "\n",
    "import tkinter as tk\n",
    "from tkinter import filedialog\n",
    "%matplotlib qt\n",
    "\n",
    "import matplotlib.patches as patches\n",
    "\n",
    "from pathlib import Path\n",
    "from matplotlib import gridspec\n",
    "from mpl_toolkits.axes_grid1.inset_locator import zoomed_inset_axes\n",
    "from mpl_toolkits.axes_grid1.inset_locator import mark_inset"
   ]
  },
  {
   "cell_type": "code",
   "execution_count": 4,
   "metadata": {},
   "outputs": [],
   "source": [
    "from natsort import natsorted   # natural sort marche de ouf\n",
    "import re                       # find '/' in strings\n",
    "import timeit\n",
    "cm = pylab.get_cmap('summer')   # colormap par défaut color=cm(k/len(array))"
   ]
  },
  {
   "cell_type": "code",
   "execution_count": 100,
   "metadata": {},
   "outputs": [],
   "source": [
    "# Fonctions persos de Jofre et Adrien\n",
    "\n",
    "# %run function_jofre.ipy\n",
    "%run \"../../Functions/1.0/data_fct_Adrien_point_by_point.py\""
   ]
  },
  {
   "cell_type": "code",
   "execution_count": 7,
   "metadata": {},
   "outputs": [
    {
     "name": "stdout",
     "output_type": "stream",
     "text": [
      "$\\kappa_{simion}$ = 0.270471\n"
     ]
    }
   ],
   "source": [
    "# Constantes de la physique\n",
    "# ABSOLUMENT RECHARGER APRÈS AVOIR EXECUTÉ LES CASES D'IMPORT AU DESSUS\n",
    "\n",
    "C_e = 1.602e-19        # Coulomb\n",
    "kb = 1.38064852*1e-23  # Boltzman\n",
    "m_Ca = 40.078*1.66054e-27 # masse Ca 40.078\n",
    "m_GM = 1e6*1.66054e-27 # la masse de la GMol\n",
    "eps0 = 8.854187*1e-12  # permittivité électrique du vide\n",
    "\n",
    "r0 = 2.5e-3 # 2.5e-3   # rayon piège Ca+\n",
    "d0 = 4e-3/2            # longueur piège Ca+\n",
    "\n",
    "Omega = 2.05e6*2*pi # 2.047e6\n",
    "\n",
    "bk = 4 # nombre de barreaux par groupe (2 -> 4-pole , 4 -> 8-pole ...)\n",
    "\n",
    "mkappa = 0.23          # écrantage piège réel GiantMol\n",
    "wzLC = (2*pi*90806.9982303)**2\n",
    "kappa_simion = m_Ca*d0**2*wzLC/(2*C_e)\n",
    "print('%s = %f' % ('$\\kappa_{simion}$',kappa_simion) )\n",
    "\n",
    "zeta = kappa_simion*r0**2/d0**2"
   ]
  },
  {
   "cell_type": "markdown",
   "metadata": {},
   "source": [
    "# Sélection fichier"
   ]
  },
  {
   "cell_type": "code",
   "execution_count": 8,
   "metadata": {},
   "outputs": [
    {
     "name": "stdout",
     "output_type": "stream",
     "text": [
      "> Répertoire : /home/adrian/RemoteFS/Hobitton/20200131/DC01_RF08/Try00\n",
      "> Filename : Temp_SimuType0_N01024_Vrf0053_Udc0.1000D+01V_D1.0_S1.0RFG.dat\n",
      "> myslashpos | [0, 5, 12, 21, 30, 39, 49]\n",
      "> slashcond | 5\n",
      "Points deleted because they were not complete []   0 pt(s)\n",
      "Total number of data directories 962\n"
     ]
    }
   ],
   "source": [
    "## GUI for data loading\n",
    "# Select one data file all the way down to the directories\n",
    "# Temp_SimuType0_N01024_Vrf0064_Udc0.5000D+00V_D1.0_S1.0RFG.dat\n",
    "\n",
    "file_cfg, slash_cfg, all_subdir = load_gui(filter_nocomplete=1)\n",
    "\n",
    "file_path = file_cfg[0]\n",
    "dir_path = file_cfg[1]\n",
    "work_rep = file_cfg[2]\n",
    "filename = file_cfg[3]\n",
    "\n",
    "myslashpos = slash_cfg[0]\n",
    "slashcond = slash_cfg[1]"
   ]
  },
  {
   "cell_type": "code",
   "execution_count": 9,
   "metadata": {
    "scrolled": true
   },
   "outputs": [
    {
     "name": "stdout",
     "output_type": "stream",
     "text": [
      "['DC01_RF08', 'DC01_RF09', 'DC01_RF10', 'DC01_RF11', 'DC01_RF14', 'DC01_RF15', 'DC01_RF16', 'DC01_RF17', 'DC01_RF18', 'DC01_RF19', 'DC01_RF20', 'DC03_RF08', 'DC03_RF09', 'DC03_RF10', 'DC03_RF11', 'DC03_RF14', 'DC03_RF15', 'DC03_RF16', 'DC03_RF17', 'DC03_RF18', 'DC03_RF19', 'DC03_RF20', 'DC05_RF08', 'DC05_RF09', 'DC05_RF10', 'DC05_RF11', 'DC05_RF14', 'DC05_RF15', 'DC05_RF16', 'DC05_RF17', 'DC05_RF18', 'DC07_RF08', 'DC07_RF09', 'DC07_RF10', 'DC07_RF11', 'DC07_RF14', 'DC07_RF15', 'DC07_RF16', 'DC07_RF17', 'DC07_RF18', 'DC09_RF08', 'DC09_RF09', 'DC09_RF10', 'DC09_RF11', 'DC09_RF14', 'DC09_RF15', 'DC09_RF16', 'DC09_RF17', 'DC09_RF18', 'DC10_RF08', 'DC10_RF09', 'DC10_RF10', 'DC10_RF11', 'DC10_RF14', 'DC10_RF15', 'DC10_RF16', 'DC10_RF17', 'DC10_RF18', 'DC11_RF08', 'DC11_RF09', 'DC11_RF10', 'DC11_RF11', 'DC11_RF14', 'DC11_RF15', 'DC11_RF16', 'DC11_RF17', 'DC11_RF18', 'DC12_RF10', 'DC13_RF10', 'DC14_RF10', 'DC15_RF10', 'DC16_RF10', 'DC17_RF10', 'DC19_RF10']\n",
      "[4]\n",
      "['DC', []]\n",
      "> condition names ['DC', 'RF']\n",
      "> number of points 74\n",
      "000 > DC01_RF08\n",
      "001 > DC01_RF09\n",
      "002 > DC01_RF10\n",
      "003 > DC01_RF11\n",
      "004 > DC01_RF14\n",
      "005 > DC01_RF15\n",
      "006 > DC01_RF16\n",
      "007 > DC01_RF17\n",
      "008 > DC01_RF18\n",
      "009 > DC01_RF19\n",
      "010 > DC01_RF20\n",
      "011 > DC03_RF08\n",
      "012 > DC03_RF09\n",
      "013 > DC03_RF10\n",
      "014 > DC03_RF11\n",
      "015 > DC03_RF14\n",
      "016 > DC03_RF15\n",
      "017 > DC03_RF16\n",
      "018 > DC03_RF17\n",
      "019 > DC03_RF18\n",
      "020 > DC03_RF19\n",
      "021 > DC03_RF20\n",
      "022 > DC05_RF08\n",
      "023 > DC05_RF09\n",
      "024 > DC05_RF10\n",
      "025 > DC05_RF11\n",
      "026 > DC05_RF14\n",
      "027 > DC05_RF15\n",
      "028 > DC05_RF16\n",
      "029 > DC05_RF17\n",
      "030 > DC05_RF18\n",
      "031 > DC07_RF08\n",
      "032 > DC07_RF09\n",
      "033 > DC07_RF10\n",
      "034 > DC07_RF11\n",
      "035 > DC07_RF14\n",
      "036 > DC07_RF15\n",
      "037 > DC07_RF16\n",
      "038 > DC07_RF17\n",
      "039 > DC07_RF18\n",
      "040 > DC09_RF08\n",
      "041 > DC09_RF09\n",
      "042 > DC09_RF10\n",
      "043 > DC09_RF11\n",
      "044 > DC09_RF14\n",
      "045 > DC09_RF15\n",
      "046 > DC09_RF16\n",
      "047 > DC09_RF17\n",
      "048 > DC09_RF18\n",
      "049 > DC10_RF08\n",
      "050 > DC10_RF09\n",
      "051 > DC10_RF10\n",
      "052 > DC10_RF11\n",
      "053 > DC10_RF14\n",
      "054 > DC10_RF15\n",
      "055 > DC10_RF16\n",
      "056 > DC10_RF17\n",
      "057 > DC10_RF18\n",
      "058 > DC11_RF08\n",
      "059 > DC11_RF09\n",
      "060 > DC11_RF10\n",
      "061 > DC11_RF11\n",
      "062 > DC11_RF14\n",
      "063 > DC11_RF15\n",
      "064 > DC11_RF16\n",
      "065 > DC11_RF17\n",
      "066 > DC11_RF18\n",
      "067 > DC12_RF10\n",
      "068 > DC13_RF10\n",
      "069 > DC14_RF10\n",
      "070 > DC15_RF10\n",
      "071 > DC16_RF10\n",
      "072 > DC17_RF10\n",
      "073 > DC19_RF10\n",
      "> N_ions = 1024\n",
      "> e_GMol = 50\n"
     ]
    }
   ],
   "source": [
    "## Condition for data\n",
    "points_and_coord, condition_parameters = simu_conditions(all_subdir, myslashpos, slashcond, filename)"
   ]
  },
  {
   "cell_type": "code",
   "execution_count": null,
   "metadata": {
    "scrolled": true
   },
   "outputs": [],
   "source": [
    "## Data loading (1D arrays)\n",
    "data_name, num_runs, PMandT, Gmol_data, r_LC_clip, dim_nu \\\n",
    "= data_retrieve(all_subdir, points_and_coord, condition_parameters, slash_cfg) \n",
    "\n",
    "data0 = data_name[0]\n",
    "data2 = data_name[1]\n",
    "data4 = data_name[2]\n",
    "\n",
    "PMvar = PMandT[0]\n",
    "Tvar = PMandT[1]\n",
    "\n",
    "deltaEc = Gmol_data[0]\n",
    "deltaEcRel = Gmol_data[1]\n",
    "t_c = Gmol_data[2]"
   ]
  },
  {
   "cell_type": "code",
   "execution_count": 115,
   "metadata": {},
   "outputs": [
    {
     "name": "stdout",
     "output_type": "stream",
     "text": [
      "['/home/adrian/RemoteFS/Hobitton/20200131/DC01_RF08/Try00']\n"
     ]
    }
   ],
   "source": [
    "# save_subdir = all_subdir\n",
    "# all_subdir = all_subdir[0:1];print(all_subdir)"
   ]
  },
  {
   "cell_type": "code",
   "execution_count": 22,
   "metadata": {},
   "outputs": [],
   "source": [
    "def file_name_retrieve(address,simu_type):\n",
    "        # get only .dat files in each simulation directory\n",
    "    onlyfiles = [f for f in listdir(address) if isfile(join(address, f)) and not \"xva\" in f and \".dat\" in f]\n",
    "    print(onlyfiles)\n",
    "    # build path file\n",
    "    if simu_type == 'Collision':\n",
    "        tmp_file = [[] for k in range(3)]\n",
    "        for k in range(3):\n",
    "            tmp_file[k] = '{}/{}'.format(address,sort(onlyfiles)[k].strip('.dat'))\n",
    "    elif simu_type == 'RF_relax':\n",
    "        tmp_file = [[] for k in range(4)]\n",
    "        for k in range(4):\n",
    "            try:\n",
    "                tmp_file[k] = '{}/{}'.format(address,sort(onlyfiles)[k].strip('.dat'))\n",
    "            except(IndexError):\n",
    "                tmp_file[k] = 'No file for this SimuType'\n",
    "                print('A file is missing, skiping the file number',k)\n",
    "            \n",
    "    return onlyfiles, tmp_file"
   ]
  },
  {
   "cell_type": "code",
   "execution_count": 92,
   "metadata": {},
   "outputs": [],
   "source": [
    "def cloud_size(address,onlyfiles, **kwargs):\n",
    "    radial_thresh = kwargs.get('radial_thresh', 10e-2)\n",
    "    axial_thresh  = kwargs.get('axial_thresh', 1e-0)\n",
    "    \n",
    "    try:\n",
    "        my_file = '{}/xva{}'.format(address,sort(onlyfiles)[0].strip('.dat')[4:])\n",
    "        r_LC,v_LC,a_LC = load_xyz_init_bin_DP(my_file)\n",
    "\n",
    "        # filter lost ions\n",
    "        x_LC_clip = [r_LC[0,x] for x in range(len(r_LC[0,:])) if abs(r_LC[0,x]) < radial_thresh] #6e-2\n",
    "        y_LC_clip = [r_LC[1,x] for x in range(len(r_LC[1,:])) if abs(r_LC[1,x]) < radial_thresh]\n",
    "        z_LC_clip = [r_LC[2,x] for x in range(len(r_LC[2,:])) if abs(r_LC[2,x]) < axial_thresh]\n",
    "#         r_LC_clip[k][j][:] = [x_LC_clip,y_LC_clip,z_LC_clip]\n",
    "        r_LC_clip = [x_LC_clip,y_LC_clip,z_LC_clip]\n",
    "        dim_nu = [max(r_LC_clip[l][:]) for l in range(3)]\n",
    "    except:\n",
    "        dim_nu = None\n",
    "            \n",
    "    return r_LC_clip, dim_nu"
   ]
  },
  {
   "cell_type": "code",
   "execution_count": 122,
   "metadata": {},
   "outputs": [
    {
     "name": "stdout",
     "output_type": "stream",
     "text": [
      "> Points | 74\n",
      "> Simulations pour chaque point | ['Try00']\n",
      "Hello\n",
      "/home/adrian/RemoteFS/Hobitton/20200131/DC01_RF08\n",
      "['Temp_SimuType6_01_N01024_Vrf0053_Udc0.1000D+01V_D1.0_S1.0RFG.dat', 'Temp_SimuType2_01_N01024_Vrf0053_Udc0.1000D+01V_D1.0_S1.0RFG50eV.dat', 'Temp_SimuType4_01_N01024_Vrf0053_Udc0.1000D+01V_D1.0_S1.0RFG50eV.dat', 'Temp_SimuType0_N01024_Vrf0053_Udc0.1000D+01V_D1.0_S1.0RFG.dat']\n",
      "case n° 0\n",
      "00  >  /\n",
      "Time elapsed:  0.9927589999999995 s\n",
      "Time elapsed:  0.016545983333333326 m\n"
     ]
    }
   ],
   "source": [
    "# def data_retrieve(all_subdir[0:2],points_and_coord, condition_parameters, slash_cfg):\n",
    "\n",
    "# Récupérer les données pour chaque simu\n",
    "# Exécution en quelques minutes\n",
    "\n",
    "# data0, data2, data4 : nom des fichiers de fluo et température\n",
    "# PMvar, Tvar         : variation de fluo et température entre passage Gmol et fin de simu\n",
    "# deltaEc, deltaEcRel : variation énergie GMol\n",
    "# t_c                 : temps de vol de la GMol entre son apparition (z=-1.5mm) et sa disparition (z=1.5mm)\n",
    "# r_LC, v_LC, a_LC    : position, vitesse, accélération des ions Ca+\n",
    "# r_LC_clip           : même chose mais en dégageant les ions perdus et beaucoup trop loin (hors pièges)\n",
    "# dim_nu              : dimensions x, y et z, nuage Ca+ basé sur r_LC_clip\n",
    "\n",
    "myslashpos = slash_cfg[0]\n",
    "slashcond = slash_cfg[1]\n",
    "\n",
    "# determining number of elements on each repetition\n",
    "num_runs = [runs[myslashpos[slashcond+1]+1:] for runs in all_subdir if list(points_and_coord.keys())[0] in runs]\n",
    "num_runs = list(dict.fromkeys(num_runs))\n",
    "\n",
    "# number of repetitions\n",
    "print('> Points |',len(points_and_coord))\n",
    "print('> Simulations pour chaque point |', num_runs)\n",
    "\n",
    "file0 = [[] for i in range(len(num_runs))] # file path to SimuType0\n",
    "file2 = [[] for i in range(len(num_runs))] # file path to SimuType2\n",
    "file4 = [[] for i in range(len(num_runs))] # file path to SimuType4\n",
    "file6 = [[] for i in range(len(num_runs))] # file path to SimuType6\n",
    "data_address = [[] for i in range(len(num_runs))]\n",
    "\n",
    "# Variables à deux coordonnées : [point, try]\n",
    "shapevar = (len(num_runs))\n",
    "\n",
    "PMvar = np.zeros(shapevar)\n",
    "Tvar = np.zeros(shapevar)\n",
    "deltaEc = np.zeros(shapevar)\n",
    "deltaEcRel = np.zeros(shapevar)\n",
    "SNR = np.zeros(shapevar)\n",
    "t_c = np.zeros(shapevar)\n",
    "r_LC_clip = []\n",
    "dim_nu = zeros((len(num_runs),3))\n",
    "\n",
    "t0 = time.clock()\n",
    "print(\"Hello\")\n",
    "\n",
    "# write variables\n",
    "current_point = all_subdir[0][:myslashpos[slashcond+1]]\n",
    "pnt_cnt = 0\n",
    "for k, address in enumerate(all_subdir):\n",
    "#     print('The current address',address)\n",
    "    print(address[:myslashpos[slashcond+1:slashcond+2][0]])\n",
    "        \n",
    "    # retrieve files adresses\n",
    "    onlyfiles, data_files = file_name_retrieve(address,simu_type='RF_relax')\n",
    "    file0.append(data_files[0]);file2.append(data_files[1]);file4.append(data_files[2]);file6.append(data_files[3])\n",
    "                           \n",
    "    # load fluorescence and T var\n",
    "    try:\n",
    "        PMvar[k], Tvar[k], SNR[k] = find_PM_variation_FinalT(address,sort(onlyfiles)[0].strip('.dat'))\n",
    "    except:\n",
    "        PMvar[k] = None\n",
    "        Tvar[k]  = None\n",
    "        SNR[k]   = None\n",
    "\n",
    "    # load Ec variation for GMol\n",
    "    _,_,deltaEc[k],deltaEcRel[k],t_c[k] = energy_lost(address,'xva'+sort(onlyfiles)[2][4:].strip('.dat'))\n",
    "\n",
    "    # load cloud size before injection\n",
    "    r_LC_clip_try, dim_nu[k] = cloud_size(address,onlyfiles)\n",
    "    r_LC_clip.append(r_LC_clip_try)\n",
    "\n",
    "    # Il faut ensuite charger la temperature RF relax, en laissant le choix afterCool ou afterInj\n",
    "#     tt, T_aux, PM, _, _ = plot_T_and_PM_Init_RFrelax_AfterInj_Evol(address+'/',sort(onlyfiles)[0].strip('.dat')[4:],1,'RFrelax_AfterInj',xlim1=(3.42,4.45),ylim1=(5e-5,3e3))\n",
    "    tt, T_aux, PM, _, _ = plot_T_and_PM_Init_RFrelax_AfterCooling_Evol(address+'/',sort(onlyfiles)[0].strip('.dat')[4:],1,'RFrelax_AfterCool',xlim1=(-1.5,55),ylim1=(5e-5,12e3))\n",
    "    \n",
    "    print( \"case n°\", k )\n",
    "    print(f'{k:02}',' > ',data0[k])\n",
    "    \n",
    "    if address[:myslashpos[slashcond+1]] == current_point:\n",
    "        pnt_cnt += 1\n",
    "    elif address[:myslashpos[slashcond+1]] != current_point:\n",
    "        print(current_point, 'finished with', pnt_cnt, 'different runs')\n",
    "        current_point = address[:myslashpos[slashcond+1:slashcond+2][0]]\n",
    "\n",
    "t1 = time.clock() - t0\n",
    "print(\"Time elapsed: \", t1, 's') # CPU seconds elapsed (floating point)\n",
    "print(\"Time elapsed: \", t1/60, 'm') # CPU seconds elapsed (floating point)\n",
    "\n",
    "data_name = [data_address, data0, data2, data4]\n",
    "PMandT = [PMvar, Tvar]\n",
    "Gmol_data = [deltaEc, deltaEcRel, SNR, t_c]\n",
    "\n",
    "#     return data_name, num_runs, PMandT, Gmol_data, r_LC_clip, dim_nu"
   ]
  },
  {
   "cell_type": "code",
   "execution_count": 119,
   "metadata": {},
   "outputs": [],
   "source": [
    "# %run function_jofre.ipy\n",
    "%run \"../../Functions/1.0/data_fct_Adrien_point_by_point.py\""
   ]
  },
  {
   "cell_type": "code",
   "execution_count": null,
   "metadata": {},
   "outputs": [],
   "source": []
  }
 ],
 "metadata": {
  "kernelspec": {
   "display_name": "Python 3",
   "language": "python",
   "name": "python3"
  },
  "language_info": {
   "codemirror_mode": {
    "name": "ipython",
    "version": 3
   },
   "file_extension": ".py",
   "mimetype": "text/x-python",
   "name": "python",
   "nbconvert_exporter": "python",
   "pygments_lexer": "ipython3",
   "version": "3.6.7"
  }
 },
 "nbformat": 4,
 "nbformat_minor": 2
}
