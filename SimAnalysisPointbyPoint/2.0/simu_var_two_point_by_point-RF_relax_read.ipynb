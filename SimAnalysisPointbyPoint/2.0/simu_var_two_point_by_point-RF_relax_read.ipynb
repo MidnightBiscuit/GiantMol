{
 "cells": [
  {
   "cell_type": "code",
   "execution_count": null,
   "metadata": {},
   "outputs": [],
   "source": [
    "###########################################################\n",
    "#                                                         #\n",
    "#               TRAITEMENT SIMUS FORTRAN                  #\n",
    "#                     STATISTIQUES                        #\n",
    "#                                                         #\n",
    "#                         avec                            #\n",
    "#                   - lecture arborescence                #\n",
    "#                  analyse                                #\n",
    "#                   - Delta Fluo                          #\n",
    "#                   - Delta Energy GMol                   #\n",
    "#                   - R/L Ca+                             #\n",
    "#                   - distance inter ionique              #\n",
    "#                   - trajectoire GMol                    #\n",
    "#                                                         #\n",
    "#                          02/2020     Adrien Poindron    #\n",
    "###########################################################"
   ]
  },
  {
   "cell_type": "code",
   "execution_count": 5,
   "metadata": {},
   "outputs": [
    {
     "data": {
      "text/html": [
       "<style>.container { width:95% !important; }</style>"
      ],
      "text/plain": [
       "<IPython.core.display.HTML object>"
      ]
     },
     "metadata": {},
     "output_type": "display_data"
    }
   ],
   "source": [
    "from IPython.core.display import display, HTML\n",
    "display(HTML(\"<style>.container { width:95% !important; }</style>\"))"
   ]
  },
  {
   "cell_type": "markdown",
   "metadata": {},
   "source": [
    "# Imports"
   ]
  },
  {
   "cell_type": "code",
   "execution_count": 231,
   "metadata": {},
   "outputs": [],
   "source": [
    "# %pylab\n",
    "\n",
    "import numpy\n",
    "import matplotlib\n",
    "from matplotlib import pylab, mlab, pyplot\n",
    "from mpl_toolkits.mplot3d import Axes3D\n",
    "np = numpy\n",
    "plt = pyplot\n",
    "\n",
    "matplotlib.rcParams.update({'font.size': 21})\n",
    "# matplotlib.rcParams[\"figure.dpi\"] = 300\n",
    "\n",
    "from IPython.display import display\n",
    "from IPython.core.pylabtools import figsize, getfigs\n",
    "\n",
    "from pylab import *\n",
    "from numpy import *\n",
    "\n",
    "from scipy.optimize import curve_fit\n",
    "from scipy.signal import savgol_filter, butter"
   ]
  },
  {
   "cell_type": "code",
   "execution_count": 7,
   "metadata": {},
   "outputs": [],
   "source": [
    "import os\n",
    "from os import listdir\n",
    "from os.path import isfile, join\n",
    "\n",
    "import tkinter as tk\n",
    "from tkinter import filedialog\n",
    "%matplotlib qt\n",
    "\n",
    "from pathlib import Path\n",
    "from matplotlib import gridspec\n",
    "from mpl_toolkits.axes_grid1.inset_locator import zoomed_inset_axes\n",
    "from mpl_toolkits.axes_grid1.inset_locator import mark_inset"
   ]
  },
  {
   "cell_type": "code",
   "execution_count": 8,
   "metadata": {},
   "outputs": [],
   "source": [
    "from natsort import natsorted   # natural sort marche de ouf\n",
    "import re                       # find '/' in strings\n",
    "import timeit\n",
    "cm = pylab.get_cmap('summer')   # colormap par défaut color=cm(k/len(array))"
   ]
  },
  {
   "cell_type": "code",
   "execution_count": 102,
   "metadata": {},
   "outputs": [],
   "source": [
    "# Fonctions persos de Jofre et Adrien\n",
    "\n",
    "# %run function_jofre.ipy\n",
    "%run ../../Functions/0.2/data_fct_Adrien_point_by_point"
   ]
  },
  {
   "cell_type": "code",
   "execution_count": 12,
   "metadata": {},
   "outputs": [
    {
     "name": "stdout",
     "output_type": "stream",
     "text": [
      "$\\kappa_{simion}$ = 0.270471\n"
     ]
    }
   ],
   "source": [
    "# Constantes de la physique\n",
    "# ABSOLUMENT RECHARGER APRÈS AVOIR EXECUTÉ LES CASES D'IMPORT AU DESSUS\n",
    "\n",
    "C_e = 1.602e-19        # Coulomb\n",
    "kb = 1.38064852*1e-23  # Boltzman\n",
    "m_Ca = 40.078*1.66054e-27 # masse Ca 40.078\n",
    "m_GM = 1e6*1.66054e-27 # la masse de la GMol\n",
    "eps0 = 8.854187*1e-12  # permittivité électrique du vide\n",
    "\n",
    "r0 = 2.5e-3 # 2.5e-3   # rayon piège Ca+\n",
    "d0 = 4e-3/2            # longueur piège Ca+\n",
    "\n",
    "Omega = 2.05e6*2*pi # 2.047e6\n",
    "\n",
    "bk = 4 # nombre de barreaux par groupe (2 -> 4-pole , 4 -> 8-pole ...)\n",
    "\n",
    "mkappa = 0.23          # écrantage piège réel GiantMol\n",
    "wzLC = (2*pi*90806.9982303)**2\n",
    "kappa_simion = m_Ca*d0**2*wzLC/(2*C_e)\n",
    "print('%s = %f' % ('$\\kappa_{simion}$',kappa_simion) )\n",
    "\n",
    "zeta = kappa_simion*r0**2/d0**2"
   ]
  },
  {
   "cell_type": "markdown",
   "metadata": {},
   "source": [
    "# Sélection fichier"
   ]
  },
  {
   "cell_type": "code",
   "execution_count": 13,
   "metadata": {
    "scrolled": true
   },
   "outputs": [
    {
     "name": "stdout",
     "output_type": "stream",
     "text": [
      "> Répertoire : D:/CIMLuser/adrien/Simulations/20200610/DC09_RF11/Try00\n",
      "> Filename : Temp_SimuType0_N01024_Vrf0070_Udc0.5000D+01V_D1.0_S1.0RFG.dat\n",
      "> myslashpos | [2, 11, 18, 30, 39, 49]\n",
      "> slashcond | 4\n",
      "Points deleted because they were not complete []   0 pt(s)\n",
      "Total number of data directories 1\n"
     ]
    }
   ],
   "source": [
    "## GUI for data loading\n",
    "# Select one data file all the way down to the directories\n",
    "# Temp_SimuType0_N01024_Vrf0064_Udc0.5000D+00V_D1.0_S1.0RFG.dat\n",
    "\n",
    "file_cfg, slash_cfg, all_subdir = load_gui(filter_nocomplete=1)\n",
    "\n",
    "file_path = file_cfg[0]\n",
    "dir_path = file_cfg[1]\n",
    "work_rep = file_cfg[2]\n",
    "filename = file_cfg[3]\n",
    "\n",
    "myslashpos = slash_cfg[0]\n",
    "slashcond = slash_cfg[1]"
   ]
  },
  {
   "cell_type": "code",
   "execution_count": 14,
   "metadata": {
    "scrolled": true
   },
   "outputs": [
    {
     "name": "stdout",
     "output_type": "stream",
     "text": [
      "['DC09_RF11']\n",
      "[4]\n",
      "['DC', []]\n",
      "> condition names ['DC', 'RF']\n",
      "> number of points 1\n",
      "000 > DC09_RF11\n",
      "> N_ions = 1024\n",
      "> e_GMol = 50\n"
     ]
    }
   ],
   "source": [
    "## Condition for data\n",
    "points_and_coord, condition_parameters = simu_conditions(all_subdir, myslashpos, slashcond, filename)"
   ]
  },
  {
   "cell_type": "code",
   "execution_count": 15,
   "metadata": {
    "scrolled": true
   },
   "outputs": [
    {
     "name": "stdout",
     "output_type": "stream",
     "text": [
      "> Points | 1\n",
      "> Simulations pour chaque point | ['Try00']\n",
      "Hello\n",
      "['Temp_SimuType0_N01024_Vrf0070_Udc0.5000D+01V_D1.0_S1.0RFG.dat'\n",
      " 'Temp_SimuType2_01_N01024_Vrf0070_Udc0.5000D+01V_D1.0_S1.0RFG50eV.dat'\n",
      " 'Temp_SimuType4_01_N01024_Vrf0070_Udc0.5000D+01V_D1.0_S1.0RFG50eV.dat'\n",
      " 'Temp_SimuType6_01_N01024_Vrf0070_Udc0.5000D+01V_D1.0_S1.0RFG.dat'\n",
      " 'Temp_SimuType6_01_N01024_Vrf0070_Udc0.5000D+01V_D1.0_S1.0RFG50eV.dat']\n",
      "0\n",
      "Point n° 0\n",
      "00 - 00  >  {}\\D:/CIMLuser/adrien/Simulations/20200610\\DC09_RF11\\Try00\n",
      "Time elapsed:  0.8573808000000014 s\n",
      "Time elapsed:  0.014289680000000023 m\n"
     ]
    }
   ],
   "source": [
    "## Data loading (1D arrays)\n",
    "data_name, num_runs, PMandT, Gmol_data, r_LC_clip, dim_nu \\\n",
    "= data_retrieve(all_subdir, points_and_coord,condition_parameters,slash_cfg,mode='GMol') # stopping_power\n",
    "\n",
    "data0 = data_name[0]\n",
    "data2 = data_name[1]\n",
    "data4 = data_name[2]\n",
    "\n",
    "PMvar = PMandT[0]\n",
    "Tvar = PMandT[1]\n",
    "\n",
    "deltaEc = Gmol_data[0]\n",
    "deltaEcRel = Gmol_data[1]\n",
    "t_c = Gmol_data[2]"
   ]
  },
  {
   "cell_type": "code",
   "execution_count": 16,
   "metadata": {},
   "outputs": [
    {
     "name": "stdout",
     "output_type": "stream",
     "text": [
      "[1.]\n",
      "1\n"
     ]
    }
   ],
   "source": [
    "# Where SNR for eeach try in each  are compared to a threshold\n",
    "# If SNR > some_threshold , we count it as a detection\n",
    "# Then for each point the ratio number_of_detection/number_of_try is calculated\n",
    "# This detection efficiency \n",
    "\n",
    "SNR_trig_threshold = 1\n",
    "shapevar = ((len(points_and_coord), len(num_runs)))\n",
    "trig_detection = np.zeros((shapevar))\n",
    "for i in range(len(points_and_coord)):\n",
    "    SNR = Gmol_data[2][i]\n",
    "    for k,m in enumerate(SNR):\n",
    "        if m > SNR_trig_threshold:\n",
    "            trig_detection[i,k] = 1\n",
    "\n",
    "print(mean(trig_detection,axis=1))\n",
    "\n",
    "print(len(trig_detection))"
   ]
  },
  {
   "cell_type": "code",
   "execution_count": 17,
   "metadata": {},
   "outputs": [
    {
     "name": "stdout",
     "output_type": "stream",
     "text": [
      "1.0\n"
     ]
    }
   ],
   "source": [
    "# Where is written Detuning and how much it is\n",
    "temp_pos = filename.find('0RFG')\n",
    "Detuning = filename[temp_pos-7:temp_pos-4]\n",
    "print(Detuning)"
   ]
  },
  {
   "cell_type": "markdown",
   "metadata": {},
   "source": [
    "# Plots\n",
    "Nuage d'ions (XYZ)"
   ]
  },
  {
   "cell_type": "markdown",
   "metadata": {},
   "source": [
    "## Visualise one specific point, and one case"
   ]
  },
  {
   "cell_type": "code",
   "execution_count": 18,
   "metadata": {},
   "outputs": [
    {
     "name": "stdout",
     "output_type": "stream",
     "text": [
      "DC09_RF11\n",
      "D:/CIMLuser/adrien/Simulations/20200610\\DC09_RF11\\Try00\n"
     ]
    }
   ],
   "source": [
    "# Choose point to plot\n",
    "\n",
    "plot_point = 0\n",
    "print(list(points_and_coord.keys())[plot_point]) # point condition\n",
    "plot_try = 0\n",
    "plot_subdir = all_subdir[plot_point+plot_try%13] # point address\n",
    "print(plot_subdir)"
   ]
  },
  {
   "cell_type": "code",
   "execution_count": null,
   "metadata": {},
   "outputs": [],
   "source": [
    "# plot ion cloud XYZ\n",
    "\n",
    "print(plot_subdir)\n",
    "onlyfiles = [f for f in listdir(plot_subdir) if isfile(join(plot_subdir, f)) and not \"xva\" in f and \".dat\" in f]\n",
    "file_name = '{}/xva{}'.format(plot_subdir,sort(onlyfiles)[0].strip('.dat')[4:])\n",
    "plot_XYZ(file_name,fig_name='XYZ_point'+str(plot_point)+'_try'+str(plot_try),fig_title='XYZ')"
   ]
  },
  {
   "cell_type": "code",
   "execution_count": 19,
   "metadata": {
    "scrolled": true
   },
   "outputs": [],
   "source": [
    "# Plot T and fluo PM\n",
    "\n",
    "onlyfiles = [f for f in listdir(plot_subdir) if isfile(join(plot_subdir, f)) and not \"xva\" in f and \".dat\" in f]\n",
    "ta, te, ti, to, tu = plot_T_and_PM_Init_Inje_Evol( plot_subdir+'/',sort(onlyfiles)[0].strip('.dat')[4:],1,'coucou' )\n",
    "\n",
    "# ,xlim1=(3.458,3.582),ylim1=(2e-4,50),ylim2=(19.5,65)"
   ]
  },
  {
   "cell_type": "markdown",
   "metadata": {},
   "source": [
    "# Plot gradient temperature"
   ]
  },
  {
   "cell_type": "code",
   "execution_count": 22,
   "metadata": {},
   "outputs": [],
   "source": [
    "file_dir2 = 'D:/CIMLuser/adrien/Simulations/20200610/DC09_RF11/Try00/'\n",
    "\n",
    "file_name = sort(onlyfiles)[0].strip('.dat')\n",
    "i_aux = file_name.find('_N')\n",
    "file1 = 'SimuType0'    + file_name[i_aux:] ########## file1 = 'SimuType0'    + file_name[i_aux:17+36]\n",
    "file2 = 'SimuType4_01' + file_name[i_aux:]\n",
    "file3 = 'SimuType2_01' + file_name[i_aux:]\n",
    "file4 = 'SimuType6_01' + file_name[i_aux:]\n",
    "\n",
    "tt1, T_CM1, T_aux1, PM1 = load_T_and_PM_simu(file_dir2+'Temp_'+file1)\n",
    "tt2, T_CM2, T_aux2, PM2 = load_T_and_PM_simu(file_dir2+'Temp_'+file4+'50eV')\n",
    "tt3, T_CM3, T_aux3, PM3 = load_T_and_PM_simu(file_dir2+'Temp_'+file3+'50eV')\n",
    "tt4, T_CM4, T_aux4, PM4 = load_T_and_PM_simu(file_dir2+'Temp_'+file4+'50eV')\n",
    "\n",
    "aux = mean(PM1[-100:])\n",
    "PM_variation = ( aux - mean(PM3[-100:]) ) / aux\n",
    "T_variation  = mean(T_aux3[-100:,0]) + mean(T_aux3[-100:,1]) + mean(T_aux3[-100:,2])"
   ]
  },
  {
   "cell_type": "code",
   "execution_count": 29,
   "metadata": {},
   "outputs": [],
   "source": [
    "# Auxiliary arrays:\n",
    "t_aux1 = array([tt2[ 0],tt2[ 0]])\n",
    "t_aux2 = array([tt2[-1],tt2[-1]])\n",
    "y1_aux = array([1.0e-3 ,1.0 ])\n",
    "#     y2_aux = array([0 ,20 ])\n",
    "y2_aux = array([0 ,50 ])\n",
    "\n",
    "tt    = concatenate( (   tt1,   tt2,   tt3) )\n",
    "T_aux = concatenate( (T_aux1,T_aux2,T_aux3) )\n",
    "PM    = concatenate( (PM1,PM2,PM3) )\n",
    "\n",
    "tt_relax    = concatenate( (   tt1,   tt4) )\n",
    "T_aux_relax = concatenate( (T_aux1,T_aux4) )\n",
    "PM_relax    = concatenate( (PM1,PM4) )\n",
    "\n",
    "\n",
    "#fig_name = file_name[-9:]\n",
    "figure('without laser ?'); clf()\n",
    "ax1 = subplot(311)\n",
    "semilogy(tt*1.e3,T_aux[:,0], label='Tx')\n",
    "semilogy(tt*1.e3,T_aux[:,1], label='Ty')\n",
    "semilogy(tt*1.e3,T_aux[:,2], label='Tz')\n",
    "semilogy(t_aux1*1.e3,y1_aux,'r')\n",
    "semilogy(t_aux2*1.e3,y1_aux,'r')\n",
    "ax1.grid()\n",
    "# annotate('Laser ON', xy=(0.5,350), xycoords='data',\n",
    "    # size=24, ha='left', va='top', color='xkcd:azul',\n",
    "    # bbox=dict(boxstyle='round', fc='white',edgecolor='xkcd:azul'))\n",
    "\n",
    "\n",
    "legend(title='T Laser ON')\n",
    "# ~ xlabel('time[ms]')\n",
    "# ~ ylabel('T[K]')\n",
    "plt.setp(ax1.get_xticklabels(),visible=False)\n",
    "\n",
    "ax2 = subplot(312,sharex=ax1)\n",
    "semilogy(tt_relax*1.e3,T_aux_relax[:,0], label='Tx')\n",
    "semilogy(tt_relax*1.e3,T_aux_relax[:,1], label='Ty')\n",
    "semilogy(tt_relax*1.e3,T_aux_relax[:,2], label='Tz',marker='+')\n",
    "semilogy(t_aux1*1.e3,y1_aux,'r')\n",
    "semilogy(t_aux2*1.e3,y1_aux,'r')\n",
    "ax2.grid()\n",
    "# annotate('laser off après injection', xy=(0.5,350), xycoords='data',\n",
    "    # size=24, ha='left', va='top', color='xkcd:azul',\n",
    "    # bbox=dict(boxstyle='round', fc='white',edgecolor='xkcd:azul'))\n",
    "legend(title='T Laser OFF après injection')    \n",
    "plt.setp(ax2.get_xticklabels(),visible=False)\n",
    "\n",
    "ax3 = subplot(313,sharex=ax1)\n",
    "plot(tt*1.e3,PM[:])\n",
    "plot(t_aux1*1.e3,y2_aux,'r')\n",
    "plot(t_aux2*1.e3,y2_aux,'r')\n",
    "ax3.grid()\n",
    "\n",
    "xlabel('time[ms]')\n",
    "ylabel('Counts')\n",
    "\n",
    "\n",
    "plt.tight_layout()\n",
    "subplots_adjust(hspace=0.015)"
   ]
  },
  {
   "cell_type": "code",
   "execution_count": 106,
   "metadata": {},
   "outputs": [],
   "source": [
    "# Plot T and fluo PM for RF relax\n",
    "\n",
    "onlyfiles = [f for f in listdir(plot_subdir) if isfile(join(plot_subdir, f)) and not \"xva\" in f and \".dat\" in f]\n",
    "ta, te, ti, to = plot_T_and_PM_Init_RFrelax_AfterCooling_Evol( plot_subdir+'/',sort(onlyfiles)[0].strip('.dat'),1,'coucou' )\n",
    "# ,xlim1=(3.458,3.582),ylim1=(2e-4,50),ylim2=(19.5,65)"
   ]
  },
  {
   "cell_type": "code",
   "execution_count": 221,
   "metadata": {},
   "outputs": [
    {
     "name": "stderr",
     "output_type": "stream",
     "text": [
      "C:\\Anaconda3\\envs\\py37\\lib\\site-packages\\scipy\\signal\\_arraytools.py:45: FutureWarning: Using a non-tuple sequence for multidimensional indexing is deprecated; use `arr[tuple(seq)]` instead of `arr[seq]`. In the future this will be interpreted as an array index, `arr[np.array(seq)]`, which will result either in an error or a different result.\n",
      "  b = a[a_slice]\n"
     ]
    }
   ],
   "source": [
    "te_smooth = [[],[],[]]\n",
    "for k in range(3):\n",
    "    te_smooth[k] = savgol_filter(te[:,k],window_length=701,polyorder=1)"
   ]
  },
  {
   "cell_type": "code",
   "execution_count": 230,
   "metadata": {},
   "outputs": [
    {
     "name": "stderr",
     "output_type": "stream",
     "text": [
      "C:\\Anaconda3\\envs\\py37\\lib\\site-packages\\scipy\\signal\\_arraytools.py:45: FutureWarning: Using a non-tuple sequence for multidimensional indexing is deprecated; use `arr[tuple(seq)]` instead of `arr[seq]`. In the future this will be interpreted as an array index, `arr[np.array(seq)]`, which will result either in an error or a different result.\n",
      "  b = a[a_slice]\n"
     ]
    }
   ],
   "source": [
    "figure('temperature gradient'); clf()\n",
    "ax1 = subplot(211)\n",
    "ax1.plot(ta,te[:,0],color='blue')\n",
    "ax1.plot(ta,te[:,1],color='red')\n",
    "ax1.plot(ta,te[:,2],color='green',marker='+')\n",
    "#semilogy(ta,te[:,0],color='blue')\n",
    "#semilogy(ta,te[:,1],color='red')\n",
    "#semilogy(ta,te[:,2],color='green')\n",
    "ax1.plot(ta,te_smooth[2],color='xkcd:black')\n",
    "#semilogy(ta,te_smooth[2],color='xkcd:black')\n",
    "ax1.grid()\n",
    "ax1.set_ylabel('T [K]')\n",
    "# annotate('Laser ON', xy=(0.5,350), xycoords='data',\n",
    "    # size=24, ha='left', va='top', color='xkcd:azul',\n",
    "    # bbox=dict(boxstyle='round', fc='white',edgecolor='xkcd:azul'))\n",
    "\n",
    "# ~ xlabel('time[ms]')\n",
    "# ~ ylabel('T[K]')\n",
    "plt.setp(ax1.get_xticklabels(),visible=False)\n",
    "\n",
    "te_smooth_grad = gradient(te_smooth[k])/(ta[5]-ta[4])\n",
    "\n",
    "ax2 = subplot(212,sharex=ax1)\n",
    "ax2.plot(ta,te_smooth_grad)\n",
    "ax2.plot(ta,savgol_filter(te_smooth_grad,window_length=101,polyorder=1),color='k')\n",
    "ax2.grid()\n",
    "ax2.set_ylabel('$\\Delta T / s$ [K/s]')\n",
    "# annotate('laser off après injection', xy=(0.5,350), xycoords='data',\n",
    "    # size=24, ha='left', va='top', color='xkcd:azul',\n",
    "    # bbox=dict(boxstyle='round', fc='white',edgecolor='xkcd:azul'))\n",
    "ax2.set_xlabel('time [s]')\n",
    "\n",
    "ax1.set_xlim(0.046,0.051)\n",
    "ax1.set_ylim(-50,1000)\n",
    "ax2.set_ylim(-1e6,1e6)\n",
    "plt.tight_layout()\n",
    "subplots_adjust(hspace=0.015)"
   ]
  },
  {
   "cell_type": "code",
   "execution_count": 249,
   "metadata": {},
   "outputs": [],
   "source": [
    "figure('temperature gradient in fct of T'); clf()\n",
    "ax1 = subplot(111)\n",
    "\n",
    "te_smooth_grad = gradient(te_smooth[k])/(ta[5]-ta[4])\n",
    "ax1.plot(te_smooth[k],te_smooth_grad,lw=0.5,marker='+')\n",
    "#ax1.plot(te[:,2],savgol_filter(te_smooth_grad,window_length=101,polyorder=1),color='k')\n",
    "ax1.set_xlabel('T [K]')\n",
    "ax1.set_ylabel('$\\Delta T / s$ [K/s]')\n",
    "# annotate('Laser ON', xy=(0.5,350), xycoords='data',\n",
    "    # size=24, ha='left', va='top', color='xkcd:azul',\n",
    "    # bbox=dict(boxstyle='round', fc='white',edgecolor='xkcd:azul'))\n",
    "\n",
    "# ~ xlabel('time[ms]')\n",
    "# ~ ylabel('T[K]')\n",
    "\n",
    "#ax1.set_xlim(0.046,0.051)\n",
    "#ax1.set_ylim(-50,1000)\n",
    "#ax2.set_ylim(-1e6,1e6)\n",
    "ax1.grid()\n",
    "plt.tight_layout()"
   ]
  },
  {
   "cell_type": "markdown",
   "metadata": {},
   "source": [
    "# Température avec pas de temps réaliste"
   ]
  },
  {
   "cell_type": "code",
   "execution_count": 227,
   "metadata": {},
   "outputs": [],
   "source": [
    "# Plot only T with simulation time step\n",
    "fname = 'only T'\n",
    "fig = plt.figure(fname,clear=True)\n",
    "ax = fig.add_subplot(111)\n",
    "ax.plot(ta*1000,ti)\n",
    "ax.grid()\n",
    "\n",
    "ax.set_xlabel('[ms]')\n",
    "ax.set_ylabel('[cts/500ns]')\n",
    "tight_layout()\n",
    " \n",
    "# savefig('ex_simu_clic_tr6_dc4_rf5_zoom.png',dpi=300)"
   ]
  },
  {
   "cell_type": "code",
   "execution_count": null,
   "metadata": {},
   "outputs": [],
   "source": [
    "# Plot only T with custom time step (realistic PM behaviour)\n",
    "\n",
    "time_step = 1e-3 # s\n",
    "custom_pts = len(ta)*(ta[1]-ta[0])/time_step\n",
    "print(custom_pts)\n",
    "somme_pts = int( round( time_step/(ta[1]-ta[0]) ) )\n",
    "print(somme_pts)\n",
    "\n",
    "custom_t = np.linspace(1,ceil(max(ta)/time_step),custom_pts+1)\n",
    "custom_t_offset = max(custom_t) - max(ta)/time_step\n",
    "custom_t = custom_t - custom_t_offset\n",
    "custom_fluo = np.zeros( int(ceil(custom_pts)) )\n",
    "\n",
    "for j in range( int(ceil(custom_pts))-1 ):\n",
    "    temp = []\n",
    "    print(j)\n",
    "    print(somme_pts*j,somme_pts*(j+1)-1)\n",
    "    for k in range(somme_pts*j,somme_pts*(j+1)):\n",
    "        temp.append(ti[-k-1])\n",
    "    temp = sum(temp)\n",
    "    custom_fluo[-1-j] = temp/max(ti)/15\n",
    "\n",
    "fname = 'only T custom T step'\n",
    "fig = plt.figure(fname,clear=True)\n",
    "ax = fig.add_subplot(111)\n",
    "ax.plot(ta*1000,ti,zorder=10,label='500 ns')\n",
    "# for j in range( int(ceil(custom_pts)) ):\n",
    "#     ax.plot(ta[::-1][somme_pts*j:somme_pts*(j+1)]*1000,ti[::-1][somme_pts*j:somme_pts*(j+1)])\n",
    "ax.scatter(custom_t[1:],custom_fluo[1:]/max(custom_fluo)*max(ti),s=200,marker='+',lw=5,edgecolor='black',zorder=100,label='1 ms')\n",
    "\n",
    "ax.xaxis.set_major_locator(matplotlib.ticker.MultipleLocator(base=0.5))\n",
    "ax.grid()\n",
    "\n",
    "\n",
    "ax.set_xlim(1.1,5.98)\n",
    "ax.set_xlabel('[ms]')\n",
    "ax.set_ylabel('[cts]')\n",
    "ax.legend(title='Time step')\n",
    "tight_layout()\n",
    " \n",
    "# savefig('ex_simu_clic_tr6_dc4_rf5_zoom.png',dpi=300)"
   ]
  },
  {
   "cell_type": "markdown",
   "metadata": {},
   "source": [
    "## Data visualisation for all points (SNR)"
   ]
  },
  {
   "cell_type": "code",
   "execution_count": null,
   "metadata": {},
   "outputs": [],
   "source": [
    "# Voltages associated with each condition\n",
    "# In names and files each voltage is associated with numbers\n",
    "# For instance on epoint is labeled DC03_RF18\n",
    "# You need to know which voltage is DC03 and RF18\n",
    "\n",
    "# You have to look on the Fortran code, example :\n",
    "#    !dec$ elseif defined(Vrf18)\n",
    "#    double precision  , parameter :: V_rf  = 7.179d1\n",
    "#    character(len=100), parameter :: str_extra3 = 'q=0.666'\n",
    "# Here RF18 is 71.79 V, q = 0.666\n",
    "\n",
    "Udc = [0.5, 1, 1.5, 2, 2.5, 3, 3.5, 4, 4.5, 5, 6, 7, 7.5, 3.33, 3.66, 4.5, 5.33, 5.66, 6, 6.5]\n",
    "Urf = [10.77, 16.15, 21.54, 26.92, 32.31, 37.69, 43.08, 48.46, 53.85, 59.23, 64.61,\n",
    "       70.00, 75.38, 80.77, 61.02, 62.82, 66.41, 68.20, 71.79, 55.64, 57.43]\n",
    "len(Udc),len(Urf)"
   ]
  },
  {
   "cell_type": "code",
   "execution_count": null,
   "metadata": {},
   "outputs": [],
   "source": [
    "# A 3D visualisation of SNR for each point, each run\n",
    "# Compulsory because this is where SNR is put in shape (under the name Z)\n",
    "\n",
    "ax = 0\n",
    "ay = 0\n",
    "az, qx, wx, wy, wz = [],[],[],[],[]\n",
    "\n",
    "fname = '3D_GMol_var_fluo_contour'\n",
    "fig = plt.figure(fname,clear=True)\n",
    "ax = fig.add_subplot(111, projection='3d')\n",
    "\n",
    "# fig1 = plt.figure(num=fname,clear=True)\n",
    "# ##### PLOT DFluo et Proba détection\n",
    "# ax1 = fig1.add_subplot(111)\n",
    "# ax2 = ax1.twinx()\n",
    "# clf()\n",
    "\n",
    "l = 0\n",
    "plot_Udc = []\n",
    "plot_Urf = []\n",
    "Z = []\n",
    "for i,j in enumerate(points_and_coord):\n",
    "    plot_Udc.append(Udc[int(points_and_coord[j][0])])\n",
    "    plot_Urf.append(Urf[int(points_and_coord[j][1])])\n",
    "    Z.append(Gmol_data[2][i])\n",
    "            # ax.set_aspect('equal')\n",
    "Z = np.array(Z)\n",
    "print(shape(plot_Udc),shape(plot_Urf),shape(Z))\n",
    "\n",
    "for k in range(13):\n",
    "    ax.scatter(xs=plot_Udc,ys=plot_Urf,zs=Z[:,k],color='xkcd:azul',marker='o',s=10)\n",
    "#             ax.plot(xs=r_LC_clip[0],ys=r_LC_clip[2],zs=r_LC_clip[1],marker='o',ms=0.45,ls='',color='xkcd:blue with a hint of purple')\n",
    "\n",
    "#             ax.view_init(elev=18, azim=55)\n",
    "#             ax.set_xlim(-3e-1,3e-1)\n",
    "#             ax.set_ylim(-3e-1,3e-1)\n",
    "#             ax.set_zlim(-3e-1,3e-1)\n",
    "\n",
    "#             ax.text2D(0.05, 0.85, f'$U_{{ RF }}$ =  {Urf} V\\n$U_{{DC}}$ = {Udc[j]} V', transform=ax.transAxes)\n",
    "ax.set_xlabel('\\n$U_{DC}$ [V]')\n",
    "ax.set_ylabel('\\n$U_{RF}$ [V]')\n",
    "ax.set_zlabel('\\n SNR ')\n",
    "\n",
    "#         ax.plot(np.ones(100)*Udc[dc], np.ones(100)*Urf[rf], zs=linspace(0,0.8,100),color='black',ls=':',lw=1)\n",
    "\n",
    "# X = [Udc for hhh in range(elem_1+1)]\n",
    "# Y = [Urf for smeuiofh in range(elem_2-1)]\n",
    "# # X, Y = np.meshgrid(X, Y)\n",
    "# Z = asarray(transpose(mean_fluo))\n",
    "# Z = np.meshgrid(Z)\n",
    "\n",
    "# # surf = ax.plot_wireframe(transpose(X), Y, Z)\n",
    "# surf = ax.plot_surface(transpose(X), Y, Z, rstride=1, cstride=1,\n",
    "#                 cmap='viridis', edgecolor='black',alpha = 0.35)\n",
    "# #         ax.errorbar(Udc[dc],mean_fluo[],yerr=prob_detect_xerr,xerr=None,\n",
    "# #              elinewidth=2.5,capsize=None,color='xkcd:yellow orange',\n",
    "# #              fmt=':+',ms=12,mew=3.5,mfc='None',mec='xkcd:yellow orange')\n",
    "# cbar = plt.colorbar(surf)\n",
    "# cbar.ax.set_ylabel(r'$\\Delta F / F$ moyen ('+str(elem_0)+' essais)', rotation=90)\n",
    "\n",
    "\n",
    "fig.set_size_inches(11.69, 8.27)\n",
    "fig.tight_layout()\n",
    "# subplots_adjust(hspace=0.015)\n",
    "\n",
    "# savefig(fname,dpi=300)"
   ]
  },
  {
   "cell_type": "markdown",
   "metadata": {},
   "source": [
    "## 2D plot"
   ]
  },
  {
   "cell_type": "code",
   "execution_count": null,
   "metadata": {
    "scrolled": true
   },
   "outputs": [],
   "source": [
    "for i,j in enumerate(points_and_coord):\n",
    "    print(j)\n",
    "    print(points_and_coord[j][0],points_and_coord[j][1])"
   ]
  },
  {
   "cell_type": "code",
   "execution_count": null,
   "metadata": {},
   "outputs": [],
   "source": [
    "x = []\n",
    "y = []\n",
    "z = []\n",
    "for g,h in enumerate(points_and_coord):\n",
    "    x.append(Udc[int(points_and_coord[h][0])])\n",
    "    y.append(Urf[int(points_and_coord[h][1])])\n",
    "    z.append(mean(trig_detection[g]))\n",
    "    \n",
    "fname = '2D_GMol_var_fluo_contour'\n",
    "fig = plt.figure(fname,clear=True)\n",
    "ax = fig.add_subplot(111)\n",
    "title(all_subdir[0][:-15],fontsize=12)\n",
    "\n",
    "im = ax.scatter(x,y,\n",
    "        marker='o',s=100,edgecolor='black',\n",
    "        c = z, cmap='rainbow')\n",
    "ax.set_xlabel(r'$U_{DC}$ [V]')\n",
    "ax.set_ylabel(r'$U_{RF}$ [V]')\n",
    "ax.grid()\n",
    "\n",
    "cbar = plt.colorbar(im, ax=ax)\n",
    "cbar.ax.set_ylabel(r'Detection rate (SNR > '+str(SNR_trig_threshold)+ ', Detuning -'+ str(Detuning) +   ')\\n ('+str(len(num_runs))+' runs for each point)', rotation=90)\n",
    "# ax.grid()\n",
    "fig.set_size_inches(11.69, 8.27)\n",
    "\n",
    "fig.tight_layout()\n",
    "savefig(fname+'_D'+str(Detuning)+'.png',dpi=300)"
   ]
  }
 ],
 "metadata": {
  "kernelspec": {
   "display_name": "Python 3",
   "language": "python",
   "name": "python3"
  },
  "language_info": {
   "codemirror_mode": {
    "name": "ipython",
    "version": 3
   },
   "file_extension": ".py",
   "mimetype": "text/x-python",
   "name": "python",
   "nbconvert_exporter": "python",
   "pygments_lexer": "ipython3",
   "version": "3.7.0"
  }
 },
 "nbformat": 4,
 "nbformat_minor": 2
}
