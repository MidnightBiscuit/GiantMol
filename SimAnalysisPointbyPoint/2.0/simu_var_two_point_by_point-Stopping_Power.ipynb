{
 "cells": [
  {
   "cell_type": "code",
   "execution_count": null,
   "metadata": {},
   "outputs": [],
   "source": [
    "###########################################################\n",
    "#                                                         #\n",
    "#               TRAITEMENT SIMUS FORTRAN                  #\n",
    "#                     STATISTIQUES                        #\n",
    "#                                                         #\n",
    "#                         avec                            #\n",
    "#                   - lecture arborescence                #\n",
    "#                  analyse                                #\n",
    "#                   - Delta Fluo                          #\n",
    "#                   - Delta Energy GMol                   #\n",
    "#                   - R/L Ca+                             #\n",
    "#                   - distance inter ionique              #\n",
    "#                   - trajectoire GMol                    #\n",
    "#                                                         #\n",
    "#                          02/2020     Adrien Poindron    #\n",
    "###########################################################"
   ]
  },
  {
   "cell_type": "code",
   "execution_count": 5,
   "metadata": {},
   "outputs": [
    {
     "data": {
      "text/html": [
       "<style>.container { width:95% !important; }</style>"
      ],
      "text/plain": [
       "<IPython.core.display.HTML object>"
      ]
     },
     "metadata": {},
     "output_type": "display_data"
    }
   ],
   "source": [
    "from IPython.core.display import display, HTML\n",
    "display(HTML(\"<style>.container { width:95% !important; }</style>\"))"
   ]
  },
  {
   "cell_type": "markdown",
   "metadata": {},
   "source": [
    "# Imports"
   ]
  },
  {
   "cell_type": "code",
   "execution_count": 231,
   "metadata": {},
   "outputs": [],
   "source": [
    "# %pylab\n",
    "\n",
    "import numpy\n",
    "import matplotlib\n",
    "from matplotlib import pylab, mlab, pyplot\n",
    "from mpl_toolkits.mplot3d import Axes3D\n",
    "np = numpy\n",
    "plt = pyplot\n",
    "\n",
    "matplotlib.rcParams.update({'font.size': 21})\n",
    "# matplotlib.rcParams[\"figure.dpi\"] = 300\n",
    "\n",
    "from IPython.display import display\n",
    "from IPython.core.pylabtools import figsize, getfigs\n",
    "\n",
    "from pylab import *\n",
    "from numpy import *\n",
    "\n",
    "from scipy.optimize import curve_fit\n",
    "from scipy.signal import savgol_filter, butter"
   ]
  },
  {
   "cell_type": "code",
   "execution_count": 7,
   "metadata": {},
   "outputs": [],
   "source": [
    "import os\n",
    "from os import listdir\n",
    "from os.path import isfile, join\n",
    "\n",
    "import tkinter as tk\n",
    "from tkinter import filedialog\n",
    "%matplotlib qt\n",
    "\n",
    "from pathlib import Path\n",
    "from matplotlib import gridspec\n",
    "from mpl_toolkits.axes_grid1.inset_locator import zoomed_inset_axes\n",
    "from mpl_toolkits.axes_grid1.inset_locator import mark_inset"
   ]
  },
  {
   "cell_type": "code",
   "execution_count": 8,
   "metadata": {},
   "outputs": [],
   "source": [
    "from natsort import natsorted   # natural sort marche de ouf\n",
    "import re                       # find '/' in strings\n",
    "import timeit\n",
    "cm = pylab.get_cmap('summer')   # colormap par défaut color=cm(k/len(array))"
   ]
  },
  {
   "cell_type": "code",
   "execution_count": 102,
   "metadata": {},
   "outputs": [],
   "source": [
    "# Fonctions persos de Jofre et Adrien\n",
    "\n",
    "# %run function_jofre.ipy\n",
    "%run ../../Functions/0.2/data_fct_Adrien_point_by_point"
   ]
  },
  {
   "cell_type": "code",
   "execution_count": 12,
   "metadata": {},
   "outputs": [
    {
     "name": "stdout",
     "output_type": "stream",
     "text": [
      "$\\kappa_{simion}$ = 0.270471\n"
     ]
    }
   ],
   "source": [
    "# Constantes de la physique\n",
    "# ABSOLUMENT RECHARGER APRÈS AVOIR EXECUTÉ LES CASES D'IMPORT AU DESSUS\n",
    "\n",
    "C_e = 1.602e-19        # Coulomb\n",
    "kb = 1.38064852*1e-23  # Boltzman\n",
    "m_Ca = 40.078*1.66054e-27 # masse Ca 40.078\n",
    "m_GM = 1e6*1.66054e-27 # la masse de la GMol\n",
    "eps0 = 8.854187*1e-12  # permittivité électrique du vide\n",
    "\n",
    "r0 = 2.5e-3 # 2.5e-3   # rayon piège Ca+\n",
    "d0 = 4e-3/2            # longueur piège Ca+\n",
    "\n",
    "Omega = 2.05e6*2*pi # 2.047e6\n",
    "\n",
    "bk = 4 # nombre de barreaux par groupe (2 -> 4-pole , 4 -> 8-pole ...)\n",
    "\n",
    "mkappa = 0.23          # écrantage piège réel GiantMol\n",
    "wzLC = (2*pi*90806.9982303)**2\n",
    "kappa_simion = m_Ca*d0**2*wzLC/(2*C_e)\n",
    "print('%s = %f' % ('$\\kappa_{simion}$',kappa_simion) )\n",
    "\n",
    "zeta = kappa_simion*r0**2/d0**2"
   ]
  },
  {
   "cell_type": "markdown",
   "metadata": {},
   "source": [
    "# Sélection fichier"
   ]
  },
  {
   "cell_type": "code",
   "execution_count": 13,
   "metadata": {
    "scrolled": true
   },
   "outputs": [
    {
     "name": "stdout",
     "output_type": "stream",
     "text": [
      "> Répertoire : D:/CIMLuser/adrien/Simulations/20200610/DC09_RF11/Try00\n",
      "> Filename : Temp_SimuType0_N01024_Vrf0070_Udc0.5000D+01V_D1.0_S1.0RFG.dat\n",
      "> myslashpos | [2, 11, 18, 30, 39, 49]\n",
      "> slashcond | 4\n",
      "Points deleted because they were not complete []   0 pt(s)\n",
      "Total number of data directories 1\n"
     ]
    }
   ],
   "source": [
    "## GUI for data loading\n",
    "# Select one data file all the way down to the directories\n",
    "# Temp_SimuType0_N01024_Vrf0064_Udc0.5000D+00V_D1.0_S1.0RFG.dat\n",
    "\n",
    "file_cfg, slash_cfg, all_subdir = load_gui(filter_nocomplete=1)\n",
    "\n",
    "file_path = file_cfg[0]\n",
    "dir_path = file_cfg[1]\n",
    "work_rep = file_cfg[2]\n",
    "filename = file_cfg[3]\n",
    "\n",
    "myslashpos = slash_cfg[0]\n",
    "slashcond = slash_cfg[1]"
   ]
  },
  {
   "cell_type": "code",
   "execution_count": 14,
   "metadata": {
    "scrolled": true
   },
   "outputs": [
    {
     "name": "stdout",
     "output_type": "stream",
     "text": [
      "['DC09_RF11']\n",
      "[4]\n",
      "['DC', []]\n",
      "> condition names ['DC', 'RF']\n",
      "> number of points 1\n",
      "000 > DC09_RF11\n",
      "> N_ions = 1024\n",
      "> e_GMol = 50\n"
     ]
    }
   ],
   "source": [
    "## Condition for data\n",
    "points_and_coord, condition_parameters = simu_conditions(all_subdir, myslashpos, slashcond, filename)"
   ]
  },
  {
   "cell_type": "code",
   "execution_count": 15,
   "metadata": {
    "scrolled": true
   },
   "outputs": [
    {
     "name": "stdout",
     "output_type": "stream",
     "text": [
      "> Points | 1\n",
      "> Simulations pour chaque point | ['Try00']\n",
      "Hello\n",
      "['Temp_SimuType0_N01024_Vrf0070_Udc0.5000D+01V_D1.0_S1.0RFG.dat'\n",
      " 'Temp_SimuType2_01_N01024_Vrf0070_Udc0.5000D+01V_D1.0_S1.0RFG50eV.dat'\n",
      " 'Temp_SimuType4_01_N01024_Vrf0070_Udc0.5000D+01V_D1.0_S1.0RFG50eV.dat'\n",
      " 'Temp_SimuType6_01_N01024_Vrf0070_Udc0.5000D+01V_D1.0_S1.0RFG.dat'\n",
      " 'Temp_SimuType6_01_N01024_Vrf0070_Udc0.5000D+01V_D1.0_S1.0RFG50eV.dat']\n",
      "0\n",
      "Point n° 0\n",
      "00 - 00  >  {}\\D:/CIMLuser/adrien/Simulations/20200610\\DC09_RF11\\Try00\n",
      "Time elapsed:  0.8573808000000014 s\n",
      "Time elapsed:  0.014289680000000023 m\n"
     ]
    }
   ],
   "source": [
    "## Data loading (1D arrays)\n",
    "data_name, num_runs, PMandT, Gmol_data, r_LC_clip, dim_nu \\\n",
    "= data_retrieve(all_subdir, points_and_coord,condition_parameters,slash_cfg,mode='GMol') # stopping_power\n",
    "\n",
    "data0 = data_name[0]\n",
    "data2 = data_name[1]\n",
    "data4 = data_name[2]\n",
    "\n",
    "PMvar = PMandT[0]\n",
    "Tvar = PMandT[1]\n",
    "\n",
    "deltaEc = Gmol_data[0]\n",
    "deltaEcRel = Gmol_data[1]\n",
    "t_c = Gmol_data[2]"
   ]
  },
  {
   "cell_type": "code",
   "execution_count": 16,
   "metadata": {},
   "outputs": [
    {
     "name": "stdout",
     "output_type": "stream",
     "text": [
      "[1.]\n",
      "1\n"
     ]
    }
   ],
   "source": [
    "# Where SNR for eeach try in each  are compared to a threshold\n",
    "# If SNR > some_threshold , we count it as a detection\n",
    "# Then for each point the ratio number_of_detection/number_of_try is calculated\n",
    "# This detection efficiency \n",
    "\n",
    "SNR_trig_threshold = 1\n",
    "shapevar = ((len(points_and_coord), len(num_runs)))\n",
    "trig_detection = np.zeros((shapevar))\n",
    "for i in range(len(points_and_coord)):\n",
    "    SNR = Gmol_data[2][i]\n",
    "    for k,m in enumerate(SNR):\n",
    "        if m > SNR_trig_threshold:\n",
    "            trig_detection[i,k] = 1\n",
    "\n",
    "print(mean(trig_detection,axis=1))\n",
    "\n",
    "print(len(trig_detection))"
   ]
  },
  {
   "cell_type": "code",
   "execution_count": 17,
   "metadata": {},
   "outputs": [
    {
     "name": "stdout",
     "output_type": "stream",
     "text": [
      "1.0\n"
     ]
    }
   ],
   "source": [
    "# Where is written Detuning and how much it is\n",
    "temp_pos = filename.find('0RFG')\n",
    "Detuning = filename[temp_pos-7:temp_pos-4]\n",
    "print(Detuning)"
   ]
  },
  {
   "cell_type": "markdown",
   "metadata": {},
   "source": [
    "# Plots\n",
    "Nuage d'ions (XYZ)"
   ]
  },
  {
   "cell_type": "markdown",
   "metadata": {},
   "source": [
    "## Visualise one specific point, and one case"
   ]
  },
  {
   "cell_type": "code",
   "execution_count": 18,
   "metadata": {},
   "outputs": [
    {
     "name": "stdout",
     "output_type": "stream",
     "text": [
      "DC09_RF11\n",
      "D:/CIMLuser/adrien/Simulations/20200610\\DC09_RF11\\Try00\n"
     ]
    }
   ],
   "source": [
    "# Choose point to plot\n",
    "\n",
    "plot_point = 0\n",
    "print(list(points_and_coord.keys())[plot_point]) # point condition\n",
    "plot_try = 0\n",
    "plot_subdir = all_subdir[plot_point+plot_try%13] # point address\n",
    "print(plot_subdir)"
   ]
  },
  {
   "cell_type": "code",
   "execution_count": null,
   "metadata": {},
   "outputs": [],
   "source": [
    "# plot ion cloud XYZ\n",
    "\n",
    "print(plot_subdir)\n",
    "onlyfiles = [f for f in listdir(plot_subdir) if isfile(join(plot_subdir, f)) and not \"xva\" in f and \".dat\" in f]\n",
    "file_name = '{}/xva{}'.format(plot_subdir,sort(onlyfiles)[0].strip('.dat')[4:])\n",
    "plot_XYZ(file_name,fig_name='XYZ_point'+str(plot_point)+'_try'+str(plot_try),fig_title='XYZ')"
   ]
  },
  {
   "cell_type": "code",
   "execution_count": 19,
   "metadata": {
    "scrolled": true
   },
   "outputs": [],
   "source": [
    "# Plot T and fluo PM\n",
    "\n",
    "onlyfiles = [f for f in listdir(plot_subdir) if isfile(join(plot_subdir, f)) and not \"xva\" in f and \".dat\" in f]\n",
    "ta, te, ti, to, tu = plot_T_and_PM_Init_Inje_Evol( plot_subdir+'/',sort(onlyfiles)[0].strip('.dat')[4:],1,'coucou' )\n",
    "\n",
    "# ,xlim1=(3.458,3.582),ylim1=(2e-4,50),ylim2=(19.5,65)"
   ]
  },
  {
   "cell_type": "markdown",
   "metadata": {},
   "source": [
    "# Température avec pas de temps réaliste"
   ]
  },
  {
   "cell_type": "code",
   "execution_count": 227,
   "metadata": {},
   "outputs": [],
   "source": [
    "# Plot only T with simulation time step\n",
    "fname = 'only T'\n",
    "fig = plt.figure(fname,clear=True)\n",
    "ax = fig.add_subplot(111)\n",
    "ax.plot(ta*1000,ti)\n",
    "ax.grid()\n",
    "\n",
    "ax.set_xlabel('[ms]')\n",
    "ax.set_ylabel('[cts/500ns]')\n",
    "tight_layout()\n",
    " \n",
    "# savefig('ex_simu_clic_tr6_dc4_rf5_zoom.png',dpi=300)"
   ]
  },
  {
   "cell_type": "code",
   "execution_count": null,
   "metadata": {},
   "outputs": [],
   "source": [
    "# Plot only T with custom time step (realistic PM behaviour)\n",
    "\n",
    "time_step = 1e-3 # s\n",
    "custom_pts = len(ta)*(ta[1]-ta[0])/time_step\n",
    "print(custom_pts)\n",
    "somme_pts = int( round( time_step/(ta[1]-ta[0]) ) )\n",
    "print(somme_pts)\n",
    "\n",
    "custom_t = np.linspace(1,ceil(max(ta)/time_step),custom_pts+1)\n",
    "custom_t_offset = max(custom_t) - max(ta)/time_step\n",
    "custom_t = custom_t - custom_t_offset\n",
    "custom_fluo = np.zeros( int(ceil(custom_pts)) )\n",
    "\n",
    "for j in range( int(ceil(custom_pts))-1 ):\n",
    "    temp = []\n",
    "    print(j)\n",
    "    print(somme_pts*j,somme_pts*(j+1)-1)\n",
    "    for k in range(somme_pts*j,somme_pts*(j+1)):\n",
    "        temp.append(ti[-k-1])\n",
    "    temp = sum(temp)\n",
    "    custom_fluo[-1-j] = temp/max(ti)/15\n",
    "\n",
    "fname = 'only T custom T step'\n",
    "fig = plt.figure(fname,clear=True)\n",
    "ax = fig.add_subplot(111)\n",
    "ax.plot(ta*1000,ti,zorder=10,label='500 ns')\n",
    "# for j in range( int(ceil(custom_pts)) ):\n",
    "#     ax.plot(ta[::-1][somme_pts*j:somme_pts*(j+1)]*1000,ti[::-1][somme_pts*j:somme_pts*(j+1)])\n",
    "ax.scatter(custom_t[1:],custom_fluo[1:]/max(custom_fluo)*max(ti),s=200,marker='+',lw=5,edgecolor='black',zorder=100,label='1 ms')\n",
    "\n",
    "ax.xaxis.set_major_locator(matplotlib.ticker.MultipleLocator(base=0.5))\n",
    "ax.grid()\n",
    "\n",
    "\n",
    "ax.set_xlim(1.1,5.98)\n",
    "ax.set_xlabel('[ms]')\n",
    "ax.set_ylabel('[cts]')\n",
    "ax.legend(title='Time step')\n",
    "tight_layout()\n",
    " \n",
    "# savefig('ex_simu_clic_tr6_dc4_rf5_zoom.png',dpi=300)"
   ]
  },
  {
   "cell_type": "markdown",
   "metadata": {},
   "source": [
    "## Data visualisation for all points (SNR)"
   ]
  },
  {
   "cell_type": "code",
   "execution_count": null,
   "metadata": {},
   "outputs": [],
   "source": [
    "# Voltages associated with each condition\n",
    "# In names and files each voltage is associated with numbers\n",
    "# For instance on epoint is labeled DC03_RF18\n",
    "# You need to know which voltage is DC03 and RF18\n",
    "\n",
    "# You have to look on the Fortran code, example :\n",
    "#    !dec$ elseif defined(Vrf18)\n",
    "#    double precision  , parameter :: V_rf  = 7.179d1\n",
    "#    character(len=100), parameter :: str_extra3 = 'q=0.666'\n",
    "# Here RF18 is 71.79 V, q = 0.666\n",
    "\n",
    "Udc = [0.5, 1, 1.5, 2, 2.5, 3, 3.5, 4, 4.5, 5, 6, 7, 7.5, 3.33, 3.66, 4.5, 5.33, 5.66, 6, 6.5]\n",
    "Urf = [10.77, 16.15, 21.54, 26.92, 32.31, 37.69, 43.08, 48.46, 53.85, 59.23, 64.61,\n",
    "       70.00, 75.38, 80.77, 61.02, 62.82, 66.41, 68.20, 71.79, 55.64, 57.43]\n",
    "len(Udc),len(Urf)"
   ]
  },
  {
   "cell_type": "code",
   "execution_count": null,
   "metadata": {},
   "outputs": [],
   "source": [
    "# A 3D visualisation of SNR for each point, each run\n",
    "# Compulsory because this is where SNR is put in shape (under the name Z)\n",
    "\n",
    "ax = 0\n",
    "ay = 0\n",
    "az, qx, wx, wy, wz = [],[],[],[],[]\n",
    "\n",
    "fname = '3D_GMol_var_fluo_contour'\n",
    "fig = plt.figure(fname,clear=True)\n",
    "ax = fig.add_subplot(111, projection='3d')\n",
    "\n",
    "# fig1 = plt.figure(num=fname,clear=True)\n",
    "# ##### PLOT DFluo et Proba détection\n",
    "# ax1 = fig1.add_subplot(111)\n",
    "# ax2 = ax1.twinx()\n",
    "# clf()\n",
    "\n",
    "l = 0\n",
    "plot_Udc = []\n",
    "plot_Urf = []\n",
    "Z = []\n",
    "for i,j in enumerate(points_and_coord):\n",
    "    plot_Udc.append(Udc[int(points_and_coord[j][0])])\n",
    "    plot_Urf.append(Urf[int(points_and_coord[j][1])])\n",
    "    Z.append(Gmol_data[2][i])\n",
    "            # ax.set_aspect('equal')\n",
    "Z = np.array(Z)\n",
    "print(shape(plot_Udc),shape(plot_Urf),shape(Z))\n",
    "\n",
    "for k in range(13):\n",
    "    ax.scatter(xs=plot_Udc,ys=plot_Urf,zs=Z[:,k],color='xkcd:azul',marker='o',s=10)\n",
    "#             ax.plot(xs=r_LC_clip[0],ys=r_LC_clip[2],zs=r_LC_clip[1],marker='o',ms=0.45,ls='',color='xkcd:blue with a hint of purple')\n",
    "\n",
    "#             ax.view_init(elev=18, azim=55)\n",
    "#             ax.set_xlim(-3e-1,3e-1)\n",
    "#             ax.set_ylim(-3e-1,3e-1)\n",
    "#             ax.set_zlim(-3e-1,3e-1)\n",
    "\n",
    "#             ax.text2D(0.05, 0.85, f'$U_{{ RF }}$ =  {Urf} V\\n$U_{{DC}}$ = {Udc[j]} V', transform=ax.transAxes)\n",
    "ax.set_xlabel('\\n$U_{DC}$ [V]')\n",
    "ax.set_ylabel('\\n$U_{RF}$ [V]')\n",
    "ax.set_zlabel('\\n SNR ')\n",
    "\n",
    "#         ax.plot(np.ones(100)*Udc[dc], np.ones(100)*Urf[rf], zs=linspace(0,0.8,100),color='black',ls=':',lw=1)\n",
    "\n",
    "# X = [Udc for hhh in range(elem_1+1)]\n",
    "# Y = [Urf for smeuiofh in range(elem_2-1)]\n",
    "# # X, Y = np.meshgrid(X, Y)\n",
    "# Z = asarray(transpose(mean_fluo))\n",
    "# Z = np.meshgrid(Z)\n",
    "\n",
    "# # surf = ax.plot_wireframe(transpose(X), Y, Z)\n",
    "# surf = ax.plot_surface(transpose(X), Y, Z, rstride=1, cstride=1,\n",
    "#                 cmap='viridis', edgecolor='black',alpha = 0.35)\n",
    "# #         ax.errorbar(Udc[dc],mean_fluo[],yerr=prob_detect_xerr,xerr=None,\n",
    "# #              elinewidth=2.5,capsize=None,color='xkcd:yellow orange',\n",
    "# #              fmt=':+',ms=12,mew=3.5,mfc='None',mec='xkcd:yellow orange')\n",
    "# cbar = plt.colorbar(surf)\n",
    "# cbar.ax.set_ylabel(r'$\\Delta F / F$ moyen ('+str(elem_0)+' essais)', rotation=90)\n",
    "\n",
    "\n",
    "fig.set_size_inches(11.69, 8.27)\n",
    "fig.tight_layout()\n",
    "# subplots_adjust(hspace=0.015)\n",
    "\n",
    "# savefig(fname,dpi=300)"
   ]
  },
  {
   "cell_type": "markdown",
   "metadata": {},
   "source": [
    "## 2D plot"
   ]
  },
  {
   "cell_type": "code",
   "execution_count": null,
   "metadata": {
    "scrolled": true
   },
   "outputs": [],
   "source": [
    "for i,j in enumerate(points_and_coord):\n",
    "    print(j)\n",
    "    print(points_and_coord[j][0],points_and_coord[j][1])"
   ]
  },
  {
   "cell_type": "code",
   "execution_count": null,
   "metadata": {},
   "outputs": [],
   "source": [
    "x = []\n",
    "y = []\n",
    "z = []\n",
    "for g,h in enumerate(points_and_coord):\n",
    "    x.append(Udc[int(points_and_coord[h][0])])\n",
    "    y.append(Urf[int(points_and_coord[h][1])])\n",
    "    z.append(mean(trig_detection[g]))\n",
    "    \n",
    "fname = '2D_GMol_var_fluo_contour'\n",
    "fig = plt.figure(fname,clear=True)\n",
    "ax = fig.add_subplot(111)\n",
    "title(all_subdir[0][:-15],fontsize=12)\n",
    "\n",
    "im = ax.scatter(x,y,\n",
    "        marker='o',s=100,edgecolor='black',\n",
    "        c = z, cmap='rainbow')\n",
    "ax.set_xlabel(r'$U_{DC}$ [V]')\n",
    "ax.set_ylabel(r'$U_{RF}$ [V]')\n",
    "ax.grid()\n",
    "\n",
    "cbar = plt.colorbar(im, ax=ax)\n",
    "cbar.ax.set_ylabel(r'Detection rate (SNR > '+str(SNR_trig_threshold)+ ', Detuning -'+ str(Detuning) +   ')\\n ('+str(len(num_runs))+' runs for each point)', rotation=90)\n",
    "# ax.grid()\n",
    "fig.set_size_inches(11.69, 8.27)\n",
    "\n",
    "fig.tight_layout()\n",
    "savefig(fname+'_D'+str(Detuning)+'.png',dpi=300)"
   ]
  },
  {
   "cell_type": "code",
   "execution_count": null,
   "metadata": {},
   "outputs": [],
   "source": [
    "fname = 'art'\n",
    "fig = plt.figure(fname,clear=True)\n",
    "ax = fig.add_subplot(111)\n",
    "\n",
    "im = ax.contourf([1,2,3],[1,2,3],[[1,2,3],[4,5,6],[7,8,9]]) # [[nan,2,nan],[4,5,6],[nan,8,nan]]\n",
    "# for rf in range(1,4):\n",
    "#     for dd in range(1,4):\n",
    "#         ax.plot(rf,dd,marker='+',ls='',markersize=10,mew=3,color = 'xkcd:yellow orange')\n",
    "\n",
    "# ax.set_zlabel(r'$\\Delta F / F$')\n",
    "# im2 = ax.contour(Udc, Urf, transpose(Z), colors='k')\n",
    "ax.set_xlim(0.95,3.05)\n",
    "ax.set_ylim(0.95,3.05)\n",
    "fig.set_size_inches(11,8)\n",
    "fig.tight_layout()\n",
    "# savefig(fname+str(40),dpi=300)"
   ]
  },
  {
   "cell_type": "markdown",
   "metadata": {},
   "source": [
    "## More specific visualisations"
   ]
  },
  {
   "cell_type": "code",
   "execution_count": null,
   "metadata": {},
   "outputs": [],
   "source": [
    "# Choose a specific condition to consider\n",
    "condition_to_respect = 'RF10'\n",
    "points_to_plot = [k for k,l in enumerate(list(points_and_coord.keys())) if condition_to_respect in l]\n",
    "print(points_to_plot)"
   ]
  },
  {
   "cell_type": "code",
   "execution_count": null,
   "metadata": {},
   "outputs": [],
   "source": [
    "# plot delta E Gmol absolu for one RF voltage\n",
    "\n",
    "SNR_trig_threshold = 1\n",
    "shapevar = ((len(points_and_coord), len(num_runs)))\n",
    "\n",
    "ax = 0\n",
    "ay = 0\n",
    "az, qx, wx, wy, wz = [],[],[],[],[]\n",
    "alpha_dre = zeros(shapevar)\n",
    "rtoLratio = zeros(shapevar)\n",
    "\n",
    "fname = 'Fluo_stat_all'\n",
    "fig1 = plt.figure(num=fname,clear=True)\n",
    "gs = gridspec.GridSpec(2, 2, width_ratios=[3, 1]) \n",
    "##### PLOT DFluo et Proba détection\n",
    "ax1 = fig1.add_subplot(gs[0])\n",
    "ax2 = ax1.twinx()\n",
    "# clf()\n",
    "\n",
    "DC_index = list(points_and_coord)[0].find('DC')\n",
    "RF_index = list(points_and_coord)[0].find('RF')\n",
    "plot_Udc = [Udc[ int(list(points_and_coord)[x][DC_index+2:DC_index+4])] for x in points_to_plot]\n",
    "plot_Urf = [Urf[ int(list(points_and_coord)[x][RF_index+2:RF_index+4])] for x in points_to_plot]\n",
    "\n",
    "suptitle(all_subdir[0][:-15]+'  | Urf='+str(plot_Urf[0])+', D=-'+str(Detuning),fontsize=12)\n",
    "\n",
    "# az.append(8*mkappa*(C_e/m_Ca)*plot_Udc/(d0**2*Omega**2))\n",
    "# qx.append(-4*(C_e/m_Ca)*plot_Urf/(r0**2*Omega**2))\n",
    "\n",
    "#     # frequences attendues\n",
    "#     wx.append(Omega/2*sqrt(qx[l]**2/2+ax-0.5*az[l])/(2*pi))\n",
    "# #     wy.append(Omega/2*sqrt(qx[l]**2/2+ay-0.5*az[l])/(2*pi))\n",
    "#     wz.append(sqrt(2*mkappa*C_e*plot_Udc[i]/(m_Ca*d0**2))/(2*pi))\n",
    "    \n",
    "for i,j in enumerate(points_to_plot):\n",
    "    # a,q attendu       \n",
    "    SNR = Gmol_data[2][j]\n",
    "    ax1.plot([plot_Udc[i]]*len(SNR),SNR,'o',color='xkcd:azul',markerfacecolor='none')\n",
    "    \n",
    "    prob_detect_xerr = sqrt(mean(trig_detection,axis=1)[j]*(1-mean(trig_detection,axis=1)[j]))/sqrt(len(SNR))\n",
    "    ax2.errorbar(plot_Udc[i],mean(SNR),yerr=prob_detect_xerr,xerr=None,\n",
    "             elinewidth=1,capsize=None,color='xkcd:yellow orange',\n",
    "             fmt=':+',ms='8',mew=2,mfc='None',mec='xkcd:yellow orange')\n",
    "#     annotate('qx={:1.1e}\\nUrf={:3.1f}V\\nwx={:3.1f}kHz'.format(qx[0],Urf_no_repeat,wx[0]/1000), xy=(2,0.25), xycoords='data',\n",
    "#         size=10, ha='center', va='top', color='xkcd:azul',\n",
    "#         bbox=dict(boxstyle='round', fc='none',edgecolor='xkcd:azul'))\n",
    "    \n",
    "    l+=1\n",
    "    \n",
    "# for k in range(0,len(Udc_no_repeat),3):\n",
    "#         ax1.annotate('a={:1.1e}\\nwz={:3.1f}kHz'.format(az[k],wz[k]/1000), xy=(Udc[k],0.73), xycoords='data',\n",
    "#         size=8, ha='center', va='top', color='xkcd:azul',\n",
    "#         bbox=dict(boxstyle='round', fc='none',edgecolor='none')) \n",
    "       \n",
    "ax1.set_ylabel('SNR', color='xkcd:azul')\n",
    "# ax2.set_ylabel('$P_{Detect}$'+' ('+str(elem_0)+' runs)', color='xkcd:yellow orange')\n",
    "ax1.tick_params(axis='y', labelcolor='xkcd:azul')\n",
    "ax2.tick_params(axis='y', labelcolor='xkcd:yellow orange')\n",
    "\n",
    "\n",
    "ax1.set_ylim(-0.15,3)\n",
    "ax2.set_ylim(-0.15,3)\n",
    "ax1.grid()\n",
    "\n",
    "##### Plot DEnergie et moyenne de DEnergie\n",
    "renorm = 0.5*m_GM/C_e\n",
    "ax3 = fig1.add_subplot(gs[2],sharex=ax1)\n",
    "ax4 = ax3.twinx()\n",
    "# clf()\n",
    "for i,j in enumerate(points_to_plot):\n",
    "    ax3.plot([plot_Udc[i]]*len(deltaEc[j][:]),deltaEc[j][:]*renorm*1000,'o',color='xkcd:azul',markerfacecolor='none')\n",
    "\n",
    "mean_deltaEc = [mean(deltaEc[j][:])*renorm*1000 for i,j in enumerate(points_to_plot)]\n",
    "        \n",
    "ax4.plot(plot_Udc,mean_deltaEc,linestyle='',marker='o',color='xkcd:yellow orange')\n",
    "ax4.annotate('$E_{GMol}$=50 eV', xy=(1,5), xycoords='data',\n",
    "    size=10, ha='center', va='top', color='xkcd:azul',\n",
    "    bbox=dict(boxstyle='round', fc='none',edgecolor='xkcd:azul')) \n",
    "\n",
    "ax3.set_xlabel('$U_{DC}$')\n",
    "ax3.set_ylabel('$\\Delta E$ [meV]', color='xkcd:azul')\n",
    "ax4.set_ylabel('mean $\\Delta E$ [meV]', color='xkcd:yellow orange')\n",
    "ax3.tick_params(axis='y', labelcolor='xkcd:azul')\n",
    "ax4.tick_params(axis='y', labelcolor='xkcd:yellow orange')\n",
    "\n",
    "ax3.set_ylim(-70,7)\n",
    "ax4.set_ylim(-70,7)\n",
    "ax3.grid()\n",
    "\n",
    "ax3.set_xlim(-0.1,8.1)\n",
    "\n",
    "ax1.xaxis.set_major_locator(matplotlib.ticker.MultipleLocator(base=0.5))\n",
    "plt.setp(ax1.get_xticklabels(), visible=False)\n",
    "\n",
    "##### Plot R/L et alpha\n",
    "ax5 = fig1.add_subplot(gs[1],sharex=ax1)\n",
    "ax6 = fig1.add_subplot(gs[3],sharex=ax5)\n",
    "\n",
    "rtoLratio = [[] for k in range(len(points_to_plot))]\n",
    "for i,j in enumerate(points_to_plot):\n",
    "    for k,l in enumerate(dim_nu[j,:,0]):\n",
    "        rtoLratio[i].append( dim_nu[j,k,0] / dim_nu[j,k,2])\n",
    "mean_rtoLratio = [mean(rtoLratio[i][:]) for i,j in enumerate(points_to_plot)]\n",
    "for i,j in enumerate(points_to_plot):\n",
    "    ax5.plot([plot_Udc[i]]*len(rtoLratio[i][:]),rtoLratio[i][:],'o',color='xkcd:azul',markerfacecolor='none')\n",
    "#     ax6.plot(plot_Udc[i],alpha_dre[0][j],'o',color='xkcd:azul')\n",
    "    \n",
    "ax5.plot(plot_Udc,mean_rtoLratio,linestyle='',marker='o',color='xkcd:yellow orange',markerfacecolor='none')\n",
    "\n",
    "ax6.set_xlabel('$U_{DC}$')\n",
    "ax5.set_ylabel('R/L')\n",
    "ax6.set_ylabel(r'$\\alpha$')\n",
    "# ax5.tick_params(axis='y', labelcolor='xkcd:azul')\n",
    "# ax6.tick_params(axis='y', labelcolor='xkcd:yellow orange')\n",
    "\n",
    "ax6.set_xlim(-0.1,8.1)\n",
    "ax5.set_ylim(-0.05,0.6)\n",
    "ax6.set_ylim(-1.65,0.35)\n",
    "ax5.grid()\n",
    "ax6.grid()\n",
    "\n",
    "ax5.xaxis.set_major_locator(matplotlib.ticker.MultipleLocator(base=1))\n",
    "plt.setp(ax5.get_xticklabels(), visible=False)\n",
    "\n",
    "tight_layout()\n",
    "\n",
    "fig1.set_size_inches(11.69, 8.27)\n",
    "fig1.tight_layout()\n",
    "subplots_adjust(hspace=0.015,top=0.935)\n",
    "\n",
    "# savefig(fname,dpi=300)"
   ]
  },
  {
   "cell_type": "code",
   "execution_count": null,
   "metadata": {},
   "outputs": [],
   "source": [
    "ax = 0\n",
    "ay = 0\n",
    "az, qx, wx, wy, wz = [],[],[],[],[]\n",
    "alpha_dre = zeros(shape(points_to_plot))\n",
    "\n",
    "for i,j in enumerate(points_to_plot):\n",
    "    az.append(8*mkappa*(C_e/m_Ca)*plot_Udc[i]/(d0**2*Omega**2))\n",
    "    qx.append(-4*(C_e/m_Ca)*plot_Udc[i]/(r0**2*Omega**2))\n",
    "\n",
    "    # frequences attendues\n",
    "    wx.append(Omega/2*sqrt(qx[i]**2/2+ax-0.5*az[i])/(2*pi))\n",
    "    #     wy.append(Omega/2*sqrt(qx[l]**2/2+ay-0.5*az[l])/(2*pi))\n",
    "    wz.append(sqrt(2*mkappa*C_e*plot_Udc[i]/(m_Ca*d0**2))/(2*pi))\n",
    "\n",
    "\n",
    "for k,l in enumerate(plot_Urf): # try\n",
    "    print(j,k,l)\n",
    "    alpha_dre[k][j] = [j]**2/wx[j][l]**2"
   ]
  },
  {
   "cell_type": "code",
   "execution_count": null,
   "metadata": {},
   "outputs": [],
   "source": [
    "# histogram for Delta energy\n",
    "# two families : detection and non detection\n",
    "trig_threshold = 0.6\n",
    "my_trigger = [ [ deltaEc[k][my_order[j]]*renorm*1000 for k in range(elem_0) if PMvar[k][my_order[j]]>trig_threshold] for j in range(elem_2) ]\n",
    "# my_DE = [ [deltaEc[k,my_selection[l]]*renorm*1000 for k in range(elem_0)] for l in range(elem_2) ]\n",
    "y_hist_detec = concatenate(( [my_trigger[my_order[j]] for j in range(elem_2)] ))\n",
    "\n",
    "my_nontrigger = [ [ deltaEc[k][my_order[j]]*renorm*1000 for k in range(elem_0) if PMvar[k][my_order[j]]<trig_threshold] for j in range(elem_2) ]\n",
    "# my_DE = [ [deltaEc[k,my_selection[l]]*renorm*1000 for k in range(elem_0)] for l in range(elem_2) ]\n",
    "y_hist_nondetec = concatenate(( [my_nontrigger[my_order[j]] for j in range(elem_2)] ))\n",
    "\n",
    "\n",
    "fig = plt.figure(num='Histogram Delta energy GMol', clear=True)\n",
    "# plt.suptitle('Histogram $\\Delta E$')\n",
    "# gs = gridspec.GridSpec(2, 2, width_ratios=[3, 1]) \n",
    "##### PLOT DFluo et Proba détection\n",
    "ax1 = fig.add_subplot(211)\n",
    "ax2 = fig.add_subplot(212,sharex=ax1)\n",
    " # PMvar[k][my_selection]\n",
    "my_bins = arange(-120,0,2.5)\n",
    "ax1.set_title(r'Detection $\\Delta F/F>0.6$',color='xkcd:leaf green')\n",
    "ax1.hist(y_hist_detec,bins=my_bins ,color='xkcd:leaf green', edgecolor='black', linewidth=1.2)\n",
    "ax2.set_xlabel(r'$\\Delta E$ [meV]')\n",
    "ax1.set_ylim(0,35)\n",
    "ax1.grid()\n",
    "ax1.xaxis.set_major_locator(matplotlib.ticker.MultipleLocator(base=10))\n",
    "ax1.yaxis.set_major_locator(matplotlib.ticker.MultipleLocator(base=4))\n",
    "ax1.annotate(f'{len(y_hist_detec)} cases', xy=(-123,33), xycoords='data',\n",
    "    size=12, ha='left', va='top', color='xkcd:leaf green',\n",
    "    bbox=dict(boxstyle='round', fc='white')) \n",
    "\n",
    "ax2.set_title(r'No detection $\\Delta F/F<0.6$',color='xkcd:rouge')\n",
    "ax2.hist(y_hist_nondetec,bins=my_bins ,color='xkcd:rouge', edgecolor='black', linewidth=1.2)\n",
    "ax2.set_ylim(0,35)\n",
    "ax2.grid()\n",
    "ax2.yaxis.set_major_locator(matplotlib.ticker.MultipleLocator(base=4))\n",
    "ax2.annotate(f'{len(y_hist_nondetec)} cases', xy=(-123,33), xycoords='data',\n",
    "    size=12, ha='left', va='top', color='xkcd:rouge',\n",
    "    bbox=dict(boxstyle='round', fc='white')) \n",
    "\n",
    "fig.set_size_inches(11.69, 8.27)\n",
    "fig.tight_layout()\n",
    "subplots_adjust(hspace=0.22,top=0.94)\n",
    "\n",
    "# savefig('hist_simu.png', dpi=300)"
   ]
  },
  {
   "cell_type": "code",
   "execution_count": null,
   "metadata": {},
   "outputs": [],
   "source": [
    "# plot DE vs Udc but with red green colors\n",
    "\n",
    "# my_order = [0,1,2,3,4,5,6,13,7,8,9,14,15,10,16,11,12] # 13,7,8,9,14,15,10,16,11,12\n",
    "\n",
    "# Udc = [0.5,1,1.5,2,2.5,3,3.5,3.75,4,4.5,5,5.3,5.7,6,6.5,7,8]\n",
    "# Urf = 64.61\n",
    "\n",
    "mean_fluo = [mean(PMvar[:,j]) for j in my_order]\n",
    "\n",
    "fig1 = plt.figure(num='Fluo var only_DE_colors',clear=True)\n",
    "\n",
    "##### PLOT DFluo et Proba détection\n",
    "ax1 = fig1.add_subplot(111)\n",
    "ax2 = ax1.twinx()\n",
    "\n",
    "left, bottom, width, height = [0.4145, 0.12, 0.45, 0.5] # cadre zoom\n",
    "axins = fig1.add_axes([left, bottom, width, height])\n",
    "\n",
    "my_color = ['xkcd:rouge', 'xkcd:leaf green']\n",
    "l = 0\n",
    "for j in range(len(Udc)):          \n",
    "    # a,q attendu\n",
    "    az.append(8*mkappa*(e/m)*Udc[j]/(d0**2*Omega**2))\n",
    "    qx.append(-4*(e/m)*Urf/(r0**2*Omega**2))\n",
    "\n",
    "    # frequences attendues\n",
    "    wx.append(Omega/2*sqrt(qx[l]**2/2+ax-0.5*az[l])/(2*pi))\n",
    "#     wy.append(Omega/2*sqrt(qx[l]**2/2+ay-0.5*az[l])/(2*pi))\n",
    "    wz.append(sqrt(2*mkappa*e*Udc[j]/(m*d0**2))/(2*pi))\n",
    "    \n",
    "    for k in range(elem_0):\n",
    "        trig = 0\n",
    "        if PMvar[k][my_order[j]] > 0.6:\n",
    "            sigdetect[j] +=1\n",
    "            trig = 1\n",
    "        alpha_dre[k][j] = wz[j]**2/wx[j]**2\n",
    "        rtoLratio[k][j] = dim_nu[k,j,0] / dim_nu[k,j,2]\n",
    "        ax1.plot(Udc[j],deltaEc[k][my_order[j]]*renorm*1000,'o',color=my_color[trig],markerfacecolor='none')\n",
    "        axins.plot(Udc[j],deltaEc[k][my_order[j]]*renorm*1000,'o',color=my_color[trig],markerfacecolor='none')\n",
    "    \n",
    "    l+=1\n",
    "\n",
    "\n",
    "mean_deltaEc = [mean(deltaEc[:,j])*renorm*1000 for j in my_order]\n",
    "        \n",
    "ax2.plot(Udc,mean_deltaEc,linestyle=':',marker='>',color='xkcd:yellow orange',markerfacecolor='none')\n",
    "ax2.annotate('$E_{GMol}$=50 eV', xy=(1,-5), xycoords='data',\n",
    "    size=10, ha='center', va='top', color='xkcd:azul',\n",
    "    bbox=dict(boxstyle='round', fc='none',edgecolor='xkcd:azul')) \n",
    "\n",
    "ax1.set_xlabel('$U_{DC}$')\n",
    "ax1.set_ylabel('$\\Delta E$ [meV]', color='xkcd:azul')\n",
    "ax2.set_ylabel('mean $\\Delta E$ [meV]', color='xkcd:yellow orange')\n",
    "ax1.tick_params(axis='y', labelcolor='xkcd:azul')\n",
    "ax2.tick_params(axis='y', labelcolor='xkcd:yellow orange')\n",
    "\n",
    "ax1.set_ylim(-0.10*1000,1)\n",
    "ax2.set_ylim(-0.10*1000,1)\n",
    "ax1.grid()\n",
    "\n",
    "ax2.set_xlim(-0.1,8.5)\n",
    "\n",
    "ax1.xaxis.set_major_locator(matplotlib.ticker.MultipleLocator(base=0.5))\n",
    "ax1.yaxis.set_major_locator(matplotlib.ticker.MultipleLocator(base=10))\n",
    "\n",
    "x1, x2, y1, y2 = 3.25, 8.25, -21, -2.5 # limites zoom\n",
    "axins.set_xlim(x1, x2)\n",
    "axins.set_ylim(y1, y2)\n",
    "axins.grid()\n",
    "\n",
    "mark_inset(ax1, axins, loc1=2, loc2=1, fc=\"none\", ec=\"0.4\")\n",
    "# axins.invert_yaxis()\n",
    "plt.setp(axins.get_xticklabels(), visible=False)\n",
    "plt.setp(axins.get_yticklabels(), fontsize=10)\n",
    "\n",
    "\n",
    "fig1.set_size_inches(11.69, 8.27)\n",
    "fig1.tight_layout()"
   ]
  },
  {
   "cell_type": "markdown",
   "metadata": {},
   "source": [
    "## Stopping power"
   ]
  },
  {
   "cell_type": "code",
   "execution_count": null,
   "metadata": {
    "scrolled": true
   },
   "outputs": [],
   "source": [
    "deltaEc"
   ]
  },
  {
   "cell_type": "code",
   "execution_count": null,
   "metadata": {},
   "outputs": [],
   "source": [
    "m_GM = 1e4*1.66054e-27\n",
    "renorm = 0.5*m_GM/C_e\n",
    "GMol_energy_loss = mean(deltaEc,axis=1)*renorm # eV\n",
    "print(GMol_energy_loss)\n",
    "\n",
    "plot_EGmol = [1000,800,600,400,200,100,50,10,8,6,4,2,1,20,30,40,60,70,80,90,150,300,500,700,900]\n",
    "# plot_EGmol = [1000,800,600,400,200,100,50,10,8,6,4,2,1,20,40,70,90,300,700]"
   ]
  },
  {
   "cell_type": "code",
   "execution_count": null,
   "metadata": {},
   "outputs": [],
   "source": [
    "plot_EGmol_indiv, deltaEc_indiv = zip(*sorted(zip(plot_EGmol, deltaEc)))\n",
    "plot_EGmol, GMol_energy_loss = zip(*sorted(zip(plot_EGmol, GMol_energy_loss)))"
   ]
  },
  {
   "cell_type": "code",
   "execution_count": null,
   "metadata": {},
   "outputs": [],
   "source": [
    "fname = 'stopping_power'\n",
    "fig = plt.figure(fname,clear=True)\n",
    "ax = fig.add_subplot(111)\n",
    "# title(all_subdir[0][:-15],fontsize=12)\n",
    "\n",
    "# im = ax.scatter(plot_EGmol,GMol_energy_loss*1000,\n",
    "#         marker='o',s=100,edgecolor='black', cmap='rainbow')\n",
    "im = ax.plot(plot_EGmol,np.multiply(GMol_energy_loss,1000),\n",
    "        marker='+',ls=':',ms=15,mew=2,mec='xkcd:rouge',lw=2,color='xkcd:gray')\n",
    "for k in range(len(deltaEc)):\n",
    "    ax.scatter([plot_EGmol_indiv[k]]*len(deltaEc_indiv[0]),np.multiply(deltaEc_indiv[k],1000*renorm))\n",
    "ax.set_xlabel(r'$E_{GMol}^i$ [eV]')\n",
    "ax.set_ylabel(r'$\\Delta E_{GMol}$ [meV]')\n",
    "ax.grid()\n",
    "ax.xaxis.set_major_locator(matplotlib.ticker.MultipleLocator(base=4))\n",
    "\n",
    "ax.set_xlim(-1,71)\n",
    "ax.set_ylim(-25,1)\n",
    "# ax.grid()\n",
    "fig.set_size_inches(11.69, 8.27)\n",
    "\n",
    "fig.tight_layout()\n",
    "savefig(fname+'_D'+str(Detuning)+'_focus_10e4.png',dpi=300)"
   ]
  },
  {
   "cell_type": "code",
   "execution_count": null,
   "metadata": {},
   "outputs": [],
   "source": [
    "fname = 'stopping_power_zoom'\n",
    "fig = plt.figure(fname,clear=True)\n",
    "ax = fig.add_subplot(111)\n",
    "# title(all_subdir[0][:-15],fontsize=12)\n",
    "\n",
    "# im = ax.scatter(plot_EGmol,GMol_energy_loss*1000,\n",
    "#         marker='o',s=100,edgecolor='black', cmap='rainbow')\n",
    "im = ax.plot(plot_EGmol,np.multiply(GMol_energy_loss,1000),\n",
    "        marker='+',ls=':',ms=15,mew=2,mec='xkcd:rouge',lw=2,color='xkcd:gray')\n",
    "for k in range(len(deltaEc)):\n",
    "    ax.scatter([plot_EGmol_indiv[k]]*len(deltaEc_indiv[0]),np.multiply(deltaEc_indiv[k],1000*renorm))\n",
    "ax.set_xlabel(r'$E_{GMol}^i$ [eV]')\n",
    "ax.set_ylabel(r'$\\Delta E_{GMol}$ [meV]')\n",
    "ax.grid()\n",
    "ax.xaxis.set_major_locator(matplotlib.ticker.MultipleLocator(base=4))\n",
    "\n",
    "ax.set_xlim(-1,71)\n",
    "ax.set_ylim(-25,1)\n",
    "\n",
    "# ax.grid()\n",
    "fig.set_size_inches(11.69, 8.27)\n",
    "\n",
    "fig.tight_layout()\n",
    "savefig(fname+'_D'+str(Detuning)+'_focus_10e4.png',dpi=300)"
   ]
  },
  {
   "cell_type": "markdown",
   "metadata": {},
   "source": [
    "# Trajectory\n",
    "Trajectoire GMol"
   ]
  },
  {
   "cell_type": "code",
   "execution_count": null,
   "metadata": {},
   "outputs": [],
   "source": [
    "for k, address in enumerate(all_subdir):\n",
    "    onlyfiles = [f for f in listdir(address) if isfile(join(address, f)) and not \"xva\" in f and \".dat\" in f]\n",
    "    # print(sort(onlyfiles))\n",
    "    my_file = '{}/xva{}'.format(address,sort(onlyfiles)[0].strip('.dat')[4:])\n",
    "    r_LC,v_LC,a_LC = load_xyz_init_bin_DP(my_file)"
   ]
  },
  {
   "cell_type": "code",
   "execution_count": null,
   "metadata": {},
   "outputs": [],
   "source": [
    "my_file"
   ]
  },
  {
   "cell_type": "code",
   "execution_count": null,
   "metadata": {},
   "outputs": [],
   "source": [
    "plot_EGmol = [50]\n",
    "actual_condition = 0"
   ]
  },
  {
   "cell_type": "code",
   "execution_count": null,
   "metadata": {},
   "outputs": [],
   "source": [
    "cloud_condition = all_subdir[0][myslashpos[-2]+1:myslashpos[-1]]\n",
    "temperature_files = []\n",
    "trajectory_files = []\n",
    "for k, address in enumerate(all_subdir):\n",
    "    #if 'EG' in cloud_condition:\n",
    "    #actual_condition = int( re.sub('[a-zA-Z]+','',cloud_condition) )\n",
    "    sort_cond = plot_EGmol[actual_condition]\n",
    "    temp_file_name = [f for f in listdir(address) if isfile(join(address, f)) and \"Temp_SimuType4\" in f and str(sort_cond) in f]\n",
    "    temperature_files.append(temp_file_name)\n",
    "    trj_file_name = [f for f in listdir(address) if isfile(join(address, f)) and \"trj_SimuType4\" in f and str(sort_cond) in f]\n",
    "    trajectory_files.append(trj_file_name)"
   ]
  },
  {
   "cell_type": "code",
   "execution_count": null,
   "metadata": {},
   "outputs": [],
   "source": [
    "# temp_size = len(load_trj(os.path.join(all_subdir[0],trajectory_files[0][0]).strip('.bin'))[0])\n",
    "t, r_Gmol, v_Gmol, a_Gmol = [[], [],[],[]]\n",
    "tt, PM   = [[],[]]\n",
    "T_CM, T_aux = [[],[]]\n",
    "all_space = []\n",
    "all_temp = []\n",
    "for j,k in enumerate(trajectory_files): # try\n",
    "    print('>',j,'-',k)\n",
    "    all_space = (load_trj(os.path.join(all_subdir[j],k[0].strip('.bin')))) # t[j], r_x[j],r_y[j],r_z[j], v_x[j],v_y[j],v_z[j], a_x[j],a_y[j],a_z[j]\n",
    "    t.append(all_space[0])\n",
    "    r_Gmol.append(all_space[1:4])\n",
    "    v_Gmol.append(all_space[4:7])\n",
    "    a_Gmol.append(all_space[7:10])\n",
    "for j,k in enumerate(temperature_files): # try\n",
    "    print('>',j,'-',k)\n",
    "    try:\n",
    "        all_temp = (load_T_and_PM_simu(os.path.join(all_subdir[j],k[0].strip('.dat'))))\n",
    "    except:\n",
    "        all_temp = [0,[0,0,0],[0,0,0],0]\n",
    "    tt.append(all_temp[0])\n",
    "    T_CM.append(all_temp[1])\n",
    "    T_aux.append(all_temp[2])\n",
    "    PM.append(all_temp[3])"
   ]
  },
  {
   "cell_type": "markdown",
   "metadata": {},
   "source": [
    "# Ion cloud\n",
    "Densité tout le tralala"
   ]
  },
  {
   "cell_type": "code",
   "execution_count": null,
   "metadata": {},
   "outputs": [],
   "source": [
    "Gamma_Bussman"
   ]
  },
  {
   "cell_type": "code",
   "execution_count": null,
   "metadata": {},
   "outputs": [],
   "source": [
    "cm = pylab.get_cmap('gist_rainbow')\n",
    "Gamma_Bussman = [[] for k in enumerate(trajectory_files)]\n",
    "T = [[] for k in enumerate(trajectory_files)]\n",
    "aws = []\n",
    "q_state = 1\n",
    "for k,l in enumerate(trajectory_files):\n",
    "    l=l[0]\n",
    "    le_Urf = int(l[l.find('Vrf')+3:l.find('_Udc')])\n",
    "    for m,Temp in enumerate(T_aux[k]):\n",
    "        try:\n",
    "            T[k].append(mean(Temp))\n",
    "        except:\n",
    "            T[k] = 0\n",
    "        Psirad = 0.5*q_state*C_e/m_Ca/r0**4/Omega**2*le_Urf**2\n",
    "        aws = ( 3*q_state*C_e / (8*np.pi * eps0 * Psirad) )**(1/3) # aws.append( ( 3*q_state*C_e / (8*np.pi * eps0 * Psirad) )**(1/3) )\n",
    "        print(aws)\n",
    "        Gamma_Bussman[k].append( q_state*C_e**2 / (4*np.pi*eps0*kb*T[k][m]*aws) )\n",
    "        # print(le_Urf,Gamma_Bussman[k])\n",
    "    \n",
    "fname = 'gamma_selon_T'\n",
    "fig = plt.figure(fname,clear=True)\n",
    "ax = fig.add_subplot(111)\n",
    "#title(all_subdir[0][:-15],fontsize=12)\n",
    "\n",
    "pouet = 80\n",
    "x = T[pouet]\n",
    "y = Gamma_Bussman[pouet]\n",
    "im = ax.scatter(x,y,\n",
    "        marker='+',s=20,lw=1,color=cm(i/13))\n",
    "ax.set_xscale(\"log\")\n",
    "ax.set_yscale(\"log\")\n",
    "ax.set_xlabel(r'T [K]')\n",
    "ax.set_ylabel(r'Gamma')\n",
    "ax.set_xlim(0.25e-3,0.5)\n",
    "ax.set_ylim(1,10000)\n",
    "ax.grid()      \n",
    "    # ax.grid()\n",
    "fig.set_size_inches(11.69, 8.27)\n",
    "\n",
    "fig.tight_layout()"
   ]
  },
  {
   "cell_type": "code",
   "execution_count": null,
   "metadata": {},
   "outputs": [],
   "source": [
    "Gamma_Bussman = []\n",
    "aws = []\n",
    "q_state = 1\n",
    "for k,l in enumerate(trajectory_files):\n",
    "    T = mean(T_aux[k][0])\n",
    "    l=l[0]\n",
    "    le_Urf = int(l[l.find('Vrf')+3:l.find('_Udc')])\n",
    "    Psirad = 0.5*q_state*C_e/m_Ca/r0**4/Omega**2*le_Urf**2\n",
    "    aws.append( ( 3*q_state*C_e / (8*pi * eps0 * Psirad) )**(1/3) )\n",
    "    Gamma_Bussman.append( q_state*C_e**2 / (4*np.pi*eps0*kb*T*aws[k]) )\n",
    "    print(le_Urf,Gamma_Bussman[k])"
   ]
  },
  {
   "cell_type": "code",
   "execution_count": null,
   "metadata": {},
   "outputs": [],
   "source": [
    "T_aux[k][5]"
   ]
  },
  {
   "cell_type": "code",
   "execution_count": null,
   "metadata": {},
   "outputs": [],
   "source": [
    "v_ca[0]"
   ]
  },
  {
   "cell_type": "markdown",
   "metadata": {},
   "source": [
    "#  Some calculations about physics"
   ]
  },
  {
   "cell_type": "code",
   "execution_count": null,
   "metadata": {},
   "outputs": [],
   "source": [
    "# comparing amplitude RF mvmnt to Thermal mvmnt\n",
    "\n",
    "to_calc = 4\n",
    "T = 6e-4\n",
    "\n",
    "Er = 2*Urf*mean(dim_nu[:,my_order[to_calc],0])/r0\n",
    "\n",
    "RF_amp = C_e*Er / (m_Ca*Omega**2)\n",
    "Th_amp = sqrt(kb*T**2/ (m_Ca*wx[my_order[to_calc]]**2) )\n",
    "\n",
    "print(Th_amp, RF_amp)"
   ]
  },
  {
   "cell_type": "code",
   "execution_count": null,
   "metadata": {},
   "outputs": [],
   "source": [
    "frac_E0_Ecr = 50\n",
    "wz_LC = 2*pi*90806.9982303\n",
    "rz_0 = -15e-3\n",
    "\n",
    "wz2 = wz_LC**2 * m_Ca / m_GM\n",
    "\n",
    "L     = 0.014  #(demi-longueur piège obtenue avec SIMION)\n",
    "eta = 1. / (4.*(sqrt(10) + 5.)) # (~0.0306 je soupçonne cette valeur d'être le facteur d'écrantage)\n",
    "\n",
    "Ep0   = wz2*eta*L**2*m_GM*(1- exp(rz_0**2 / (2*eta*L**2)) )\n",
    "Ek_init = C_e * frac_E0_Ecr - Ep0\n",
    "\n",
    "print(frac_E0_Ecr,Ep0/C_e,Ek_init/C_e)"
   ]
  },
  {
   "cell_type": "markdown",
   "metadata": {},
   "source": [
    "## Distance moyenne entre les ions Ca$^+$"
   ]
  },
  {
   "cell_type": "code",
   "execution_count": null,
   "metadata": {},
   "outputs": [],
   "source": [
    "dist_ions = zeros(shapevar)\n",
    "dist_ions_theo = zeros(shapevar)\n",
    "V = zeros(shapevar)\n",
    "V_theo = zeros(shapevar)\n",
    "rho = zeros(shapevar)\n",
    "k = 3\n",
    "for k in range(elem_0):\n",
    "    for j in range(elem_2):     # Udc\n",
    "        rho[k][j] = 2*m*eps0/e**2*(wx[j]*2*pi)**2 # \"théorique\" on s'en fout\n",
    "        V_theo[k][j] = N/rho[k][j]\n",
    "        V[k][j] = 4/3*pi*dim_nu[k][my_order[j]][2]*1e-3 * ( dim_nu[k][my_order[j]][0]*1e-3 )**2\n",
    "    #     rho[j] = N/V_moy[j] # donné par le volume et le nombre d'ions\n",
    "    #     dist_ions[j] = ( 1 / (V_moy[j]*rho[j]) ) ** (-1/3) # en µm\n",
    "        dist_ions[k][j] = (V[k][j]/N)**(1/3)\n",
    "        dist_ions_theo[k][j] = (V_theo[k][j]/N)**(1/3)"
   ]
  },
  {
   "cell_type": "code",
   "execution_count": null,
   "metadata": {},
   "outputs": [],
   "source": [
    "max_HC_trj = zeros((elem_0,elem_2,3))\n",
    "for j in range(elem_2):     # Udc\n",
    "    print('j - k')\n",
    "    for k in range(elem_0): # try\n",
    "        max_HC_trj[k,j,0] = max(abs( r_x[k][my_order[j]] ))\n",
    "        max_HC_trj[k,j,1] = max(abs( r_y[k][my_order[j]] ))\n",
    "        max_HC_trj[k,j,2] = max(abs( r_z[k][my_order[j]] ))"
   ]
  },
  {
   "cell_type": "code",
   "execution_count": null,
   "metadata": {},
   "outputs": [],
   "source": [
    "fig = plt.figure(num='Dist ions et GMol',clear=True)\n",
    "# gs = gridspec.GridSpec(2, 2, width_ratios=[8, 4])   gs[0]\n",
    "##### PLOT DFluo et Proba détection\n",
    "ax1 = fig.add_subplot(211)\n",
    "ax2 = fig.add_subplot(212,sharex = ax1)\n",
    "# ax3 = fig.add_subplot(gs[1])\n",
    "# ax4 = fig.add_subplot(gs[3], projection='3d')\n",
    "\n",
    "for j in range(elem_2):\n",
    "    for k in range(elem_0):\n",
    "        Vtmp = 4/3*pi*dim_nu[k][my_order[j]][2]*1e-3 * ( dim_nu[k][my_order[j]][0]*1e-3 )**2\n",
    "        dist_ionstmp = (Vtmp/N)**(1/3)\n",
    "        ax1.plot(Udc[j],dist_ionstmp*1e6,'o',color='xkcd:azul',markerfacecolor='none')\n",
    "    ax1.plot(Udc[j],mean(dist_ions[:,j])*1e6,'o',marker='8',mew=2,mfc='None',mec='xkcd:yellow orange')\n",
    "# ax1.set_xlabel(r'$U_{DC}$ [V]')\n",
    "ax1.set_ylabel(r'$d_{moy}$ Ca$^+$ [µm]')\n",
    "ax1.grid()\n",
    "\n",
    "for j in range(elem_2):\n",
    "    for k in range(elem_0):\n",
    "        r_sortie = sqrt(max_HC_trj[k,j,0]**2 + max_HC_trj[k,j,1] **2 )\n",
    "        ax2.plot(Udc[j],r_sortie*1e9,'o',color='xkcd:azul',markerfacecolor='none')\n",
    "    r_sortie = sqrt(mean(max_HC_trj[:,j,0])**2 + mean(max_HC_trj[:,j,1]) **2 )\n",
    "    ax2.plot(Udc[j],r_sortie*1e9,marker='8',mew=2,mfc='None',mec='xkcd:yellow orange')\n",
    "\n",
    "#     ax2.plot(Udc[j],mean(max_HC_trj[:,j,1])*1e9,color='xkcd:azul',marker='+')\n",
    "#     ax2.plot(Udc[j],mean(max_HC_trj[:,j,2])*1e9,color='xkcd:brown',marker='+')\n",
    "ax2.set_xlabel(r'$U_{DC}$ [V]')\n",
    "ax2.set_ylabel('r sortie max GMol [nm]')\n",
    "ax2.grid()\n",
    "\n",
    "ax1.xaxis.set_major_locator(matplotlib.ticker.MultipleLocator(base=0.5))\n",
    "plt.setp(ax1.get_xticklabels(), visible=False)\n",
    "\n",
    "fig.set_size_inches(11.69, 8.27)\n",
    "fig.tight_layout()\n",
    "subplots_adjust(hspace=0.015)"
   ]
  },
  {
   "cell_type": "code",
   "execution_count": null,
   "metadata": {},
   "outputs": [],
   "source": [
    "# Dimensions nuage\n",
    "k = 3\n",
    "j = 3\n",
    "for k in range(elem_0):\n",
    "    print(k,dim_nu[k][j]*1e3)\n",
    "print(mean(dim_nu[k][j][0])*1e3)\n",
    "print(mean(dim_nu[k][j][1])*1e3)\n",
    "print(mean(dim_nu[k][j][2])*1e3)"
   ]
  },
  {
   "cell_type": "code",
   "execution_count": null,
   "metadata": {},
   "outputs": [],
   "source": [
    "dist_ions*1e6"
   ]
  },
  {
   "cell_type": "code",
   "execution_count": null,
   "metadata": {},
   "outputs": [],
   "source": [
    "dist_ions_theo * 1e6"
   ]
  },
  {
   "cell_type": "markdown",
   "metadata": {},
   "source": [
    "# Ecriture fichier\n",
    "Garder les principales variables dans un fichier texte"
   ]
  },
  {
   "cell_type": "code",
   "execution_count": null,
   "metadata": {},
   "outputs": [],
   "source": [
    "float_formatter = lambda x: '{:.04}'.format(x)"
   ]
  },
  {
   "cell_type": "code",
   "execution_count": null,
   "metadata": {},
   "outputs": [],
   "source": [
    "# name=['Uend ', 'ax   ','az   ','qx   ','kappa','Udc  ','Urf  ','aax  ','aaz  ','aqx  ','awx  ','awz  ','aUdc ','aUend']\n",
    "# var=[Uend, ax, az, qx, kappa, Udc, Urf, aax, aaz, aqx, awx, awz, aUdc, aUend]\n",
    "\n",
    "\n",
    "f=open(\"simu_variables.txt\",\"w+\")\n",
    "f.write('Python3.7 %s\\n' % datetime.datetime.now())\n",
    "f.write('Simulations collisions GMol -> Ca+ \\n\\n\\n')\n",
    "\n",
    "f.write('> Répertoire de travail\\n')\n",
    "f.write('%s\\n\\n' % work_rep)\n",
    "\n",
    "f.write('> Conditions de simulation\\n')\n",
    "f.write(f'N_ions E_GMol\\n')\n",
    "f.write(f'{N} {e_GMol:>4}eV\\n\\n')\n",
    "\n",
    "f.write(f'> Nombre total de simulations : {cond_number}\\n')\n",
    "f.write(f'{cond_two_name} : {elem_2} élément(s)\\n')\n",
    "f.write(f'{[ int(x) for x in cond_two]}\\n')\n",
    "f.write(f'{[ Udc[x] for x in my_order ]} V\\n')\n",
    "f.write(f'{cond_one_name} : {elem_1} élément(s)\\n')\n",
    "f.write(f'{[ int(x) for x in cond_one]}\\n')\n",
    "f.write(f'{[ int(x) for x in [Urf]]} V\\n')\n",
    "f.write(f'{cond_zero_name} : {elem_0} élément(s)\\n')\n",
    "f.write(f'{try_subdir} \\n\\n')\n",
    "\n",
    "f.write(f'> X, Y, Z : Demi-axes moyens du nuage Ca+ [µm]\\n')\n",
    "f.write(f'> d_moy : Distance moyenne entre les ions du nuage Ca+ [µm]\\n')\n",
    "f.write(f' Udc  :     X      Y      Z      d_moy\\n')\n",
    "for j in range(elem_2):\n",
    "    f.write(f'{Udc[j]:.2f}  :  {[ float(float_formatter(mean(dim_nu[:,my_order[j],x])*1000)) for x in [0,1,2]]}  {dist_ions[j]*1e6:.3f}\\n')\n",
    "    \n",
    "# f.write(f'> Molécule géante - position max\\n')\n",
    "# f.write(f' Udc  :    rx[nm]      ry[nm]     rz[mm]\\n')\n",
    "# for j in range(elem_2):\n",
    "#     f.write(f'{Udc[j]:.2f}  :  {[ float_formatter(r_x[my_order[j]]), r_y[my_order[j]], r_z[my_order[j]] ]}\\n')\n",
    "\n",
    "f.close()"
   ]
  },
  {
   "cell_type": "code",
   "execution_count": null,
   "metadata": {},
   "outputs": [],
   "source": []
  },
  {
   "cell_type": "code",
   "execution_count": null,
   "metadata": {},
   "outputs": [],
   "source": []
  },
  {
   "cell_type": "code",
   "execution_count": null,
   "metadata": {},
   "outputs": [],
   "source": [
    "my_q = [0.5,0.5+0.05/3,0.5+2*0.05/3,0.55,0.55+0.05/3,0.55+2*0.05/3,0.6,0.6+0.05/3,0.6+2*0.05/3, 0.65, 0.65+0.05/3, 0.65+0.1/3, 0.7] # [0.6, 0.625, 0.650, 0.675, 0.7]\n",
    "print(my_q)\n",
    "coucou = []\n",
    "figure('pouet')\n",
    "print('q','   ','Vrf')\n",
    "for k,l in enumerate(my_q):\n",
    "    coucou.append(tick_function_q(l))\n",
    "    print(f'{l:2.5f}',f'{tick_function_q(l):2.2f}')\n",
    "scatter(my_q,coucou)"
   ]
  }
 ],
 "metadata": {
  "kernelspec": {
   "display_name": "Python 3",
   "language": "python",
   "name": "python3"
  },
  "language_info": {
   "codemirror_mode": {
    "name": "ipython",
    "version": 3
   },
   "file_extension": ".py",
   "mimetype": "text/x-python",
   "name": "python",
   "nbconvert_exporter": "python",
   "pygments_lexer": "ipython3",
   "version": "3.7.0"
  }
 },
 "nbformat": 4,
 "nbformat_minor": 2
}
