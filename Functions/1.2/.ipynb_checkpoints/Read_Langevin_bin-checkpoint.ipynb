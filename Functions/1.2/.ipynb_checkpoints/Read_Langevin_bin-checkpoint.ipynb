{
 "cells": [
  {
   "cell_type": "code",
   "execution_count": 1,
   "metadata": {},
   "outputs": [
    {
     "data": {
      "text/html": [
       "<style>.container { width:95% !important; }</style>"
      ],
      "text/plain": [
       "<IPython.core.display.HTML object>"
      ]
     },
     "metadata": {},
     "output_type": "display_data"
    }
   ],
   "source": [
    "from IPython.core.display import display, HTML\n",
    "display(HTML(\"<style>.container { width:95% !important; }</style>\"))"
   ]
  },
  {
   "cell_type": "code",
   "execution_count": 7,
   "metadata": {},
   "outputs": [],
   "source": [
    "# %pylab\n",
    "\n",
    "import numpy as np\n",
    "from numpy import *\n",
    "import matplotlib\n",
    "from matplotlib import pylab, mlab, pyplot\n",
    "plt = pyplot\n",
    "matplotlib.rcParams.update({'font.size': 21})\n",
    "# matplotlib.rcParams[\"figure.dpi\"] = 300"
   ]
  },
  {
   "cell_type": "code",
   "execution_count": 3,
   "metadata": {},
   "outputs": [],
   "source": [
    "def load_Temp_init_bin_Lan(str_load):   \n",
    "    \n",
    "    fid = open(str_load+'.bin', 'rb')\n",
    "    \n",
    "    junk = fromfile(fid, int32,1)        # Read record start tag\n",
    "    aux  = fromfile(fid, int32,1)\n",
    "    junk = fromfile(fid, int32,1)        # Read record stop tag\n",
    "    N_ions = aux[0]\n",
    "\n",
    "    junk = fromfile(fid, int32,1)        # Read record start tag\n",
    "    aux  = fromfile(fid, int32,1)\n",
    "    junk = fromfile(fid, int32,1)        # Read record stop tag\n",
    "    j_save = aux[0]\n",
    "    \n",
    "    junk = fromfile(fid, int32,1)        # Read record start tag\n",
    "    aux  = fromfile(fid, float64,1)\n",
    "    junk = fromfile(fid, int32,1)        # Read record stop tag\n",
    "    dt_j_save_next = aux[0]\n",
    "\n",
    "    junk = fromfile(fid, int32,1)        # Read record start tag\n",
    "    aux  = fromfile(fid, float64,1)\n",
    "    junk = fromfile(fid, int32,1)        # Read record stop tag\n",
    "    eta = aux[0]\n",
    "\n",
    "    junk = fromfile(fid, int32  ,1   )        # Read record start tag\n",
    "    Temp = fromfile(fid, float64,1)\n",
    "    junk = fromfile(fid, int32  ,1   )        # Read record stop tag\n",
    "    \n",
    "    junk = fromfile(fid, int32  ,1   )        # Read record start tag\n",
    "    save_T = fromfile(fid, float64,3*j_save)\n",
    "    junk = fromfile(fid, int32  ,1   )        # Read record stop tag\n",
    "    \n",
    "    fid.close\n",
    "\n",
    "    save_T = reshape(save_T,(3,j_save),order='F')\n",
    "\n",
    "    return N_ions, j_save, dt_j_save_next, eta, Temp, save_T"
   ]
  },
  {
   "cell_type": "code",
   "execution_count": 4,
   "metadata": {},
   "outputs": [],
   "source": [
    "data0 = [['D:/CIMLuser/adrien/Simulations/20200630\\\\DC09_RF11\\\\Try00',\n",
    "  'D:/CIMLuser/adrien/Simulations/20200630\\\\DC09_RF11\\\\Try01',\n",
    "  'D:/CIMLuser/adrien/Simulations/20200630\\\\DC09_RF11\\\\Try02',\n",
    "  'D:/CIMLuser/adrien/Simulations/20200630\\\\DC09_RF11\\\\Try03',\n",
    "  'D:/CIMLuser/adrien/Simulations/20200630\\\\DC09_RF11\\\\Try04',\n",
    "  'D:/CIMLuser/adrien/Simulations/20200630\\\\DC09_RF11\\\\Try05',\n",
    "  'D:/CIMLuser/adrien/Simulations/20200630\\\\DC09_RF11\\\\Try06',\n",
    "  'D:/CIMLuser/adrien/Simulations/20200630\\\\DC09_RF11\\\\Try07',\n",
    "  'D:/CIMLuser/adrien/Simulations/20200630\\\\DC09_RF11\\\\Try08',\n",
    "  'D:/CIMLuser/adrien/Simulations/20200630\\\\DC09_RF11\\\\Try09',\n",
    "  'D:/CIMLuser/adrien/Simulations/20200630\\\\DC09_RF11\\\\Try10',\n",
    "  'D:/CIMLuser/adrien/Simulations/20200630\\\\DC09_RF11\\\\Try11',\n",
    "  'D:/CIMLuser/adrien/Simulations/20200630\\\\DC09_RF11\\\\Try12']]"
   ]
  },
  {
   "cell_type": "code",
   "execution_count": 5,
   "metadata": {},
   "outputs": [
    {
     "name": "stdout",
     "output_type": "stream",
     "text": [
      "D:/CIMLuser/adrien/Simulations/20200630\\DC09_RF11\\Try04/\n",
      "Temp_3D_Harmo_N1024_T500uK_F0.15D-20Kg_s_4\n"
     ]
    }
   ],
   "source": [
    "## Data loading with hardcode names\n",
    "\n",
    "plot_point = 0\n",
    "plot_try = 4\n",
    "dirname_hc = str(data0[plot_point][plot_try])+'/'\n",
    "\n",
    "datainit_hc = 'Temp_3D_Harmo_N1024_T500uK_F0.15D-20Kg_s_4'\n",
    "data0_hc    = '/Temp_SimuType0_00_N01024_Vrf0070_Udc0.5000D+01V_D1.0_S1.0RFG'\n",
    "data4_hc    = '/Temp_SimuType4_00_N01024_Vrf0070_Udc0.5000D+01V_D1.0_S1.0RFG'\n",
    "data2_hc    = '/Temp_SimuType2_00_N01024_Vrf0070_Udc0.5000D+01V_D1.0_S1.0RFG'\n",
    "\n",
    "print(dirname_hc)\n",
    "print(datainit_hc)"
   ]
  },
  {
   "cell_type": "code",
   "execution_count": 8,
   "metadata": {},
   "outputs": [
    {
     "name": "stdout",
     "output_type": "stream",
     "text": [
      "N_ions 1024\n",
      "j_save 4999\n",
      "dt*j_save_next 2.0000000000000002e-07\n",
      "eta 1.5e-21\n",
      "Temp [0.0005]\n",
      "save_T [[2.98640293e-01 9.26836488e-01 1.72233479e+01 ... 5.02718886e-04\n",
      "  5.06381304e-04 5.14963582e-04]\n",
      " [2.29405876e+01 5.86023982e+01 2.94960511e+01 ... 4.85158079e-04\n",
      "  4.94780753e-04 4.99651846e-04]\n",
      " [9.72170265e+02 2.68392405e+03 3.07104504e+03 ... 5.00305173e-04\n",
      "  4.95018295e-04 4.89415063e-04]]\n",
      "shape(save_T) (3, 4999)\n"
     ]
    }
   ],
   "source": [
    "N_ions, j_save, dt_j_save_next, eta, Temp, save_T = load_Temp_init_bin_Lan(dirname_hc+datainit_hc)\n",
    "\n",
    "print('N_ions',N_ions)\n",
    "print('j_save',j_save)\n",
    "print('dt*j_save_next',dt_j_save_next)\n",
    "print('eta',eta)\n",
    "print('Temp',Temp)\n",
    "print('save_T',save_T)\n",
    "print('shape(save_T)',shape(save_T))\n",
    "\n",
    "#  Sacahnt que dans le Fortran\n",
    "# dt   = 2d-9\n",
    "# j_save_next  = 100\n",
    "# eta = 1.5d-21\n",
    "# Temperature = 0.5d-3"
   ]
  },
  {
   "cell_type": "code",
   "execution_count": 10,
   "metadata": {},
   "outputs": [
    {
     "data": {
      "image/png": "[encoded data removed]",
      "text/plain": [
       "<Figure size 432x288 with 1 Axes>"
      ]
     },
     "metadata": {
      "needs_background": "light"
     },
     "output_type": "display_data"
    }
   ],
   "source": [
    "plt.figure('test plot T Langevin');plt.clf()\n",
    "for k in range(3):\n",
    "    plt.plot(save_T[k])"
   ]
  }
 ],
 "metadata": {
  "kernelspec": {
   "display_name": "Python 3",
   "language": "python",
   "name": "python3"
  },
  "language_info": {
   "codemirror_mode": {
    "name": "ipython",
    "version": 3
   },
   "file_extension": ".py",
   "mimetype": "text/x-python",
   "name": "python",
   "nbconvert_exporter": "python",
   "pygments_lexer": "ipython3",
   "version": "3.7.0"
  }
 },
 "nbformat": 4,
 "nbformat_minor": 2
}
