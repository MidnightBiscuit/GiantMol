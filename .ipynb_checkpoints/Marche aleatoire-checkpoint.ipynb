{
 "cells": [
  {
   "cell_type": "code",
   "execution_count": 1,
   "metadata": {},
   "outputs": [
    {
     "name": "stdout",
     "output_type": "stream",
     "text": [
      "Using matplotlib backend: TkAgg\n",
      "Populating the interactive namespace from numpy and matplotlib\n"
     ]
    }
   ],
   "source": [
    "%pylab"
   ]
  },
  {
   "cell_type": "code",
   "execution_count": 58,
   "metadata": {},
   "outputs": [
    {
     "data": {
      "text/plain": [
       "[<matplotlib.lines.Line2D at 0x7f75a51af198>]"
      ]
     },
     "execution_count": 58,
     "metadata": {},
     "output_type": "execute_result"
    }
   ],
   "source": [
    "# V/1\n",
    "\n",
    "# Tout d'abord il faut saisir une date\n",
    "# En séparant jour mois et année dans\n",
    "# Trois variables distinctes.\n",
    "# Ensuite on détermine si l'année est bissextile.\n",
    "# Puis on détermine la longueur du mois.\n",
    "# Puis selon le jouron calcule la date du lendemain.\n",
    "\n",
    "# saisir uniquement des chiffres\n",
    "print('saisir le jour')\n",
    "jour = int(input())\n",
    "print('saisir le mois')\n",
    "mois = int(input())\n",
    "print('saisir l''année')\n",
    "annee = int(input())\n",
    "\n",
    "print('Date saisie :',jour,'/',mois,'/',annee)\n",
    "\n",
    "# détermination année bissextile ou non\n",
    "if annee%4 == 0 and annee%100!=0: # si annee multiple de 4 mais pas de 100\n",
    "    bissextile = 1 # annee bissextile\n",
    "elif annee%400 == 0: # ou si annee multiple de 400\n",
    "    bissextile = 1 # annee bissextile\n",
    "else:\n",
    "    bissextile = 0 # sinon annee non bissextile\n",
    "    \n",
    "print('Annee bissextile ? ',bissextile)\n",
    "\n",
    "# determination longueur du mois\n",
    "if mois == 2:\n",
    "    longueur = 28 + bissextile\n",
    "elif mois==1 or mois==3 or mois==5 or mois==7 or mois==8 or mois==10 or mois==12:\n",
    "    longueur = 31\n",
    "else:\n",
    "    longueur = 30\n",
    "\n",
    "# détermination du jour du lendemain\n",
    "annee_demain = annee # on part de l'année en cours\n",
    "\n",
    "if jour < longueur: # si le jour actuel est inférieur à la longueur du mois\n",
    "    # c'est à dire si on n'est pas le dernier jour du mois\n",
    "    mois_demain = mois\n",
    "    jour_demain = jour + 1 # le jour d'après\n",
    "else: # sinon c'est qu'on est le dernier jour du mois\n",
    "    mois_demain = mois + 1 # on commence un nouveau mois\n",
    "    jour_demain = 1\n",
    "    if mois_demain > 12: # mais si on est au dernier mois\n",
    "                         # en changeant de mois on change d'année\n",
    "        annee_demain = annee + 1 # la nouvelle année\n",
    "        mois_demain = 1 # janvier\n",
    "        print('BONNE ANNEE !')\n",
    "\n",
    "print('Date demain :',jour_demain,'/',mois_demain,'/',annee_demain)"
   ]
  },
  {
   "cell_type": "code",
   "execution_count": 59,
   "metadata": {},
   "outputs": [
    {
     "data": {
      "text/plain": [
       "0.0"
      ]
     },
     "execution_count": 59,
     "metadata": {},
     "output_type": "execute_result"
    }
   ],
   "source": [
    "# V/2\n",
    "\n",
    "entier1 = input()\n",
    "entier2 = input()\n",
    "identique = 0\n",
    "for k in range(8):\n",
    "    if entier1[k]==entier2[k]:\n",
    "        identique +=1\n",
    "print(identique)"
   ]
  },
  {
   "cell_type": "code",
   "execution_count": null,
   "metadata": {},
   "outputs": [],
   "source": [
    "# V/3\n",
    "\n",
    "from math import sqrt\n",
    "from math import pi\n",
    "\n",
    "# La somme sera contenue dans la variable appelée S_new\n",
    "# Il va falloir calculer la valeur de S en additionnant\n",
    "# les 1/n². Il faut donc calculer 1/n² puis l'ajouter à\n",
    "# la variable S_new, dans une boucle while pour répéter\n",
    "# l'opération autant que voulu.\n",
    "# Le calcul doit s'arrêter lorsque la différence entre\n",
    "# la nouvelle valeur de S_new et l'ancienne   (appelée \n",
    "# S_old) est inférieure à une certaine valeur (epsilon).\n",
    "# Pour cela nous utilisons une boucle while et calculons\n",
    "# A chaque fois cette différence.\n",
    "\n",
    "\n",
    "S_old = 0      # Valeur de la somme à l'étape n\n",
    "S_new = 0      # Valeur de la somme à l'étape n-1\n",
    "n = 0          # n le nombre de passage dans la boucle\n",
    "               # Valeur va évoluer à chaque passage dans\n",
    "               # la boucle while\n",
    "epsilon = 1e-7 # valeur epsilon choisie\n",
    "               # changer pour modifier la précision\n",
    "difference = 1\n",
    "\n",
    "while difference > epsilon:\n",
    "    n += 1            # on incrémente de 1 la valeur\n",
    "    S_old = S_new     # on défini comme ancienne valeur\n",
    "                      # ce qui était précédement la nouvelle\n",
    "    S_new = S_new + 1/(n**2) # on calcule la nouvelle valeur de la somme\n",
    "                             # en additionnant 1/n**2 à S_new\n",
    "    difference = S_new - S_old\n",
    "\n",
    "print('')\n",
    "print('Avec boucle while')\n",
    "print('n',n)     # combien d'itérations effectuées\n",
    "print('S_new =',S_new)\n",
    "mon_pi = sqrt(6*S_new)\n",
    "print('mon pi calculé vaut',mon_pi)\n",
    "print('pi  vaut en réalité',pi,'...')"
   ]
  }
 ],
 "metadata": {
  "kernelspec": {
   "display_name": "Python 3",
   "language": "python",
   "name": "python3"
  },
  "language_info": {
   "codemirror_mode": {
    "name": "ipython",
    "version": 3
   },
   "file_extension": ".py",
   "mimetype": "text/x-python",
   "name": "python",
   "nbconvert_exporter": "python",
   "pygments_lexer": "ipython3",
   "version": "3.6.7"
  }
 },
 "nbformat": 4,
 "nbformat_minor": 2
}
