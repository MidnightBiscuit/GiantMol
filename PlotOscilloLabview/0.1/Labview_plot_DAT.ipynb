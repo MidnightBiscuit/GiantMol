{
 "cells": [
  {
   "cell_type": "code",
   "execution_count": 1,
   "metadata": {},
   "outputs": [],
   "source": [
    "###########################################################\n",
    "#                                                         #\n",
    "#                         DAT                             #\n",
    "#                                                         #\n",
    "#                          Fork from Oscillo_plot_CSV     #\n",
    "#                          05/2019     Adrien Poindron    #\n",
    "###########################################################"
   ]
  },
  {
   "cell_type": "code",
   "execution_count": 18,
   "metadata": {},
   "outputs": [],
   "source": [
    "import pylab\n",
    "import numpy as np\n",
    "import scipy\n",
    "import matplotlib\n",
    "\n",
    "%matplotlib qt"
   ]
  },
  {
   "cell_type": "code",
   "execution_count": 130,
   "metadata": {},
   "outputs": [
    {
     "ename": "ImportError",
     "evalue": "cannot import name 'envelope'",
     "output_type": "error",
     "traceback": [
      "\u001b[0;31m---------------------------------------------------------------------------\u001b[0m",
      "\u001b[0;31mImportError\u001b[0m                               Traceback (most recent call last)",
      "\u001b[0;32m<ipython-input-130-db595a7b8427>\u001b[0m in \u001b[0;36m<module>\u001b[0;34m()\u001b[0m\n\u001b[0;32m----> 1\u001b[0;31m \u001b[0;32mfrom\u001b[0m \u001b[0mscipy\u001b[0m\u001b[0;34m.\u001b[0m\u001b[0msignal\u001b[0m \u001b[0;32mimport\u001b[0m \u001b[0mdecimate\u001b[0m\u001b[0;34m,\u001b[0m \u001b[0mperiodogram\u001b[0m\u001b[0;34m,\u001b[0m \u001b[0mwelch\u001b[0m\u001b[0;34m,\u001b[0m \u001b[0mwindows\u001b[0m\u001b[0;34m,\u001b[0m \u001b[0margrelextrema\u001b[0m\u001b[0;34m,\u001b[0m \u001b[0mfind_peaks\u001b[0m\u001b[0;34m,\u001b[0m \u001b[0msavgol_filter\u001b[0m\u001b[0;34m,\u001b[0m \u001b[0menvelope\u001b[0m\u001b[0;34m\u001b[0m\u001b[0;34m\u001b[0m\u001b[0m\n\u001b[0m\u001b[1;32m      2\u001b[0m \u001b[0;32mfrom\u001b[0m \u001b[0mscipy\u001b[0m\u001b[0;34m.\u001b[0m\u001b[0mconstants\u001b[0m \u001b[0;32mimport\u001b[0m \u001b[0mc\u001b[0m\u001b[0;34m\u001b[0m\u001b[0;34m\u001b[0m\u001b[0m\n\u001b[1;32m      3\u001b[0m \u001b[0;32mfrom\u001b[0m \u001b[0mmatplotlib\u001b[0m \u001b[0;32mimport\u001b[0m \u001b[0mcm\u001b[0m\u001b[0;34m\u001b[0m\u001b[0;34m\u001b[0m\u001b[0m\n\u001b[1;32m      4\u001b[0m \u001b[0;32mfrom\u001b[0m \u001b[0mscipy\u001b[0m\u001b[0;34m.\u001b[0m\u001b[0moptimize\u001b[0m \u001b[0;32mimport\u001b[0m \u001b[0mcurve_fit\u001b[0m\u001b[0;34m\u001b[0m\u001b[0;34m\u001b[0m\u001b[0m\n\u001b[1;32m      5\u001b[0m \u001b[0;31m# cm = pylab.get_cmap('jet')\u001b[0m\u001b[0;34m\u001b[0m\u001b[0;34m\u001b[0m\u001b[0;34m\u001b[0m\u001b[0m\n",
      "\u001b[0;31mImportError\u001b[0m: cannot import name 'envelope'"
     ]
    }
   ],
   "source": [
    "from scipy.signal import decimate, periodogram, welch, windows, argrelextrema, find_peaks, savgol_filter, envelope\n",
    "from scipy.constants import c\n",
    "from matplotlib import cm\n",
    "from scipy.optimize import curve_fit\n",
    "# cm = pylab.get_cmap('jet')\n",
    "from mpl_toolkits.axes_grid1.inset_locator import zoomed_inset_axes\n",
    "from mpl_toolkits.axes_grid1.inset_locator import mark_inset"
   ]
  },
  {
   "cell_type": "code",
   "execution_count": 3,
   "metadata": {},
   "outputs": [],
   "source": [
    "matplotlib.rcParams['figure.figsize'] = [10.5,7]\n",
    "matplotlib.rcParams.update({'font.size': 15})"
   ]
  },
  {
   "cell_type": "code",
   "execution_count": 4,
   "metadata": {},
   "outputs": [],
   "source": [
    "%run /home/adrian/PycharmProjects/data_analysis/data_fct_Adrien.py"
   ]
  },
  {
   "cell_type": "code",
   "execution_count": 95,
   "metadata": {},
   "outputs": [],
   "source": [
    "def gaussian_fit(x,A,mu,sig):\n",
    "    return A*exp(  -(x - mu)**2 / (2 * sig**2)  )\n",
    "#     return A*exp(-(x-mu)**2/(2*sigma**2))\n",
    "# 1/(sigma*sqrt(2*pi))*exp(-(x-mu)**2/(2*sigma**2))\n",
    "# A * exp(-(x-mu)**2 / sigma)\n",
    "\n",
    "def lorentzian_fit(x, *p):\n",
    "    I, gamma, x0 = p\n",
    "    return I / ((x - x0)**2 + gamma**2)"
   ]
  },
  {
   "cell_type": "markdown",
   "metadata": {},
   "source": [
    "# Sélection fichiers"
   ]
  },
  {
   "cell_type": "code",
   "execution_count": 22,
   "metadata": {
    "scrolled": true
   },
   "outputs": [],
   "source": [
    "# sélection des fichiers donnée (Python 3)\n",
    "file_path = load_file_GUI('/home/adrian/Documents/Mesures/')\n",
    "filename = file_path\n",
    "# print(file_path)"
   ]
  },
  {
   "cell_type": "code",
   "execution_count": 8,
   "metadata": {},
   "outputs": [
    {
     "name": "stdout",
     "output_type": "stream",
     "text": [
      "()\n"
     ]
    },
    {
     "ename": "NameError",
     "evalue": "name 'the_row_to_skip' is not defined",
     "output_type": "error",
     "traceback": [
      "\u001b[0;31m---------------------------------------------------------------------------\u001b[0m",
      "\u001b[0;31mNameError\u001b[0m                                 Traceback (most recent call last)",
      "\u001b[0;32m<ipython-input-8-fb4820ccc195>\u001b[0m in \u001b[0;36m<module>\u001b[0;34m()\u001b[0m\n\u001b[1;32m      7\u001b[0m \u001b[0mdata_dico_aux\u001b[0m \u001b[0;34m=\u001b[0m \u001b[0;34m{\u001b[0m\u001b[0;34m}\u001b[0m\u001b[0;34m\u001b[0m\u001b[0;34m\u001b[0m\u001b[0m\n\u001b[1;32m      8\u001b[0m data_dico_aux = import_data(file_path_aux,\n\u001b[0;32m----> 9\u001b[0;31m                         \u001b[0mrow_skip\u001b[0m\u001b[0;34m=\u001b[0m\u001b[0mthe_row_to_skip\u001b[0m\u001b[0;34m,\u001b[0m\u001b[0;34m\u001b[0m\u001b[0;34m\u001b[0m\u001b[0m\n\u001b[0m\u001b[1;32m     10\u001b[0m                         \u001b[0mcol_to_read\u001b[0m\u001b[0;34m=\u001b[0m\u001b[0mthe_col_to_read\u001b[0m\u001b[0;34m,\u001b[0m\u001b[0;34m\u001b[0m\u001b[0;34m\u001b[0m\u001b[0m\n\u001b[1;32m     11\u001b[0m                         delim=the_delim)\n",
      "\u001b[0;31mNameError\u001b[0m: name 'the_row_to_skip' is not defined"
     ]
    }
   ],
   "source": [
    "# sélection d'autres fichiers donnée (Python 3)\n",
    "file_path_aux = load_file_GUI('/home/adrian/Documents/Mesures/')\n",
    "filename_aux = file_path\n",
    "\n",
    "print(file_path_aux)\n",
    "\n",
    "data_dico_aux = {}\n",
    "data_dico_aux = import_data(file_path_aux,\n",
    "                        row_skip=the_row_to_skip,\n",
    "                        col_to_read=the_col_to_read,\n",
    "                        delim=the_delim)\n",
    "\n",
    "TP_aux,CH_aux = convert_dico_to_var(data_dico_aux)"
   ]
  },
  {
   "cell_type": "code",
   "execution_count": 23,
   "metadata": {},
   "outputs": [
    {
     "data": {
      "text/plain": [
       "('/home/adrian/Documents/Mesures/866_scan/20190603/scan_866_1V_1.5V_000.dat',\n",
       " '/home/adrian/Documents/Mesures/866_scan/20190603/scan_866_1V_1.5V_001.dat',\n",
       " '/home/adrian/Documents/Mesures/866_scan/20190603/scan_866_1V_1.5V_002.dat',\n",
       " '/home/adrian/Documents/Mesures/866_scan/20190603/scan_866_1V_1.5V_003.dat',\n",
       " '/home/adrian/Documents/Mesures/866_scan/20190603/scan_866_1V_1.5V_004.dat',\n",
       " '/home/adrian/Documents/Mesures/866_scan/20190603/scan_866_1V_1.5V_005.dat',\n",
       " '/home/adrian/Documents/Mesures/866_scan/20190603/scan_866_1V_1.5V_006.dat',\n",
       " '/home/adrian/Documents/Mesures/866_scan/20190603/scan_866_1V_1.5V_007.dat',\n",
       " '/home/adrian/Documents/Mesures/866_scan/20190603/scan_866_1V_1.5V_008.dat')"
      ]
     },
     "execution_count": 23,
     "metadata": {},
     "output_type": "execute_result"
    }
   ],
   "source": [
    "file_path # 2 5 8 9"
   ]
  },
  {
   "cell_type": "markdown",
   "metadata": {},
   "source": [
    "# Importation des fichiers"
   ]
  },
  {
   "cell_type": "code",
   "execution_count": 24,
   "metadata": {},
   "outputs": [],
   "source": [
    "the_col_to_read = (0,1)     # oscillo  3,4,5      labview  (0,1)\n",
    "the_row_to_skip = 0          # oscillo  11         labview  1\n",
    "the_delim = '\\t'              # oscillo  ','        labview  '\\t'\n",
    "\n",
    "data_dico = {}\n",
    "data_dico = import_data(file_path,\n",
    "                        row_skip=the_row_to_skip,\n",
    "                        col_to_read=the_col_to_read,\n",
    "                        delim=the_delim)\n",
    "\n",
    "TP,CH = convert_dico_to_var(data_dico)"
   ]
  },
  {
   "cell_type": "code",
   "execution_count": 25,
   "metadata": {},
   "outputs": [
    {
     "name": "stdout",
     "output_type": "stream",
     "text": [
      "dt[0] = 2.0000e-02sec\n",
      "dt[1] = 2.0000e-02sec\n",
      "dt[2] = 2.0000e-02sec\n",
      "dt[3] = 2.0000e-02sec\n",
      "dt[4] = 2.0000e-02sec\n",
      "dt[5] = 2.0000e-02sec\n",
      "dt[6] = 2.0000e-02sec\n",
      "dt[7] = 5.0000e-03sec\n",
      "dt[8] = 5.0000e-03sec\n"
     ]
    }
   ],
   "source": [
    "# temps entre deux échantillons (si constant)\n",
    "dt = [TP[k][50] - TP[k][49] for k in range(0,len(file_path))]\n",
    "# sample_start = 50000\n",
    "# sample_end = 25000*60+50000\n",
    "for k in range(0,len(file_path)):\n",
    "    print('{}{}{}{:.4e}{}'.format('dt[', k, '] = ',dt[k],'sec'))"
   ]
  },
  {
   "cell_type": "markdown",
   "metadata": {},
   "source": [
    "# Affichage données"
   ]
  },
  {
   "cell_type": "code",
   "execution_count": 39,
   "metadata": {
    "collapsed": true
   },
   "outputs": [
    {
     "data": {
      "text/plain": [
       "array([nan,  6.,  6.,  4.,  2.,  7.,  6.,  2.,  5.,  5.,  1.,  3.,  5.,\n",
       "        5.,  5.,  2.,  9.,  6.,  2.,  5.,  7.,  5.,  2.,  4.,  3.,  4.,\n",
       "        6.,  3.,  7.,  6.,  5.,  5.,  5.,  8.,  4.,  6.,  7.,  5.,  1.,\n",
       "        3.,  4.,  1.,  6.,  3.,  4., 10.,  7.,  3.,  4.,  4.,  7.,  4.,\n",
       "        5.,  4.,  3.,  0.,  7.,  7.,  3.,  3.,  3.,  3.,  6.,  7.,  5.,\n",
       "        5.,  4.,  5.,  4.,  4.,  2., 10.,  7.,  5.,  3.,  7.,  5.,  6.,\n",
       "        4.,  9.,  3.,  5.,  5.,  4.,  4.,  7.,  7.,  2.,  9.,  5.,  9.,\n",
       "        6.,  4.,  3.,  4.,  7.,  3.,  6.,  6.,  3.,  7.,  4.,  8.,  6.,\n",
       "        6.,  4.,  5.,  4.,  4.,  7.,  3.,  5.,  2.,  4.,  5.,  5.,  7.,\n",
       "        2.,  5.,  5.,  6.,  4.,  4.,  7.,  2., 12.,  5.,  1.,  4.,  5.,\n",
       "        4.,  9.,  5.,  5.,  4.,  5.,  2.,  7.,  7.,  8.,  4.,  4.,  6.,\n",
       "        3.,  6.,  8.,  2.,  6.,  2.,  2.,  4.,  4.,  5.,  2.,  3.,  1.,\n",
       "        7.,  6.,  7.,  4.,  7.,  4.,  2.,  3.,  3.,  8.,  2.,  3.,  5.,\n",
       "        5.,  5.,  7.,  4.,  6.,  5.,  1.,  6.,  5.,  3.,  2.,  6.,  7.,\n",
       "        6.,  3.,  2.,  5.,  4.,  7.,  5.,  2.,  4.,  3.,  3.,  5.,  4.,\n",
       "        6.,  7.,  5.,  6.,  7.,  3.,  2.,  5.,  3.,  7.,  2.,  4.,  9.,\n",
       "        6.,  5.,  6.,  7.,  4.,  7.,  6.,  7.,  5.,  7.,  1.,  4.,  1.,\n",
       "        6.,  3.,  8.,  3.,  1.,  4.,  6.,  5.,  4., 10., 13.,  5.,  8.,\n",
       "        7.,  7.,  8.,  5.,  5.,  1.,  8.,  7.,  3.,  5.,  7.,  8.,  4.,\n",
       "        2.,  5.,  5., 10.,  8.,  4.,  7.,  6.,  7.,  1.,  2.,  3.,  4.,\n",
       "        2.,  4.,  3.,  5.,  3.,  7.,  7.,  6.,  8.,  5.,  9.,  9.,  5.,\n",
       "        1.,  7.,  8.,  6.,  4.,  1.,  4.,  3.,  6.,  1.,  7.,  7.,  2.,\n",
       "        3.,  6.,  5.,  4.,  5.,  4.,  2.,  8.,  3.,  1.,  5.,  5.,  4.,\n",
       "        4.,  4.,  4.,  3.,  6.,  8.,  3.,  2.,  1.,  4.,  7.,  7.,  7.,\n",
       "        2.,  4.,  4.,  6.,  6.,  3.,  3.,  6.,  5.,  5., 15.,  4.,  3.,\n",
       "        1.,  7.,  9.,  0.,  5.,  8.,  7.,  5.,  2.,  4.,  8.,  1.,  5.,\n",
       "        7.,  5.,  3.,  3.,  5.,  3.,  6.,  5.,  3.,  2.,  8.,  6.,  4.,\n",
       "        4.,  7.,  7.,  5.,  2.,  5.,  4.,  4.,  7.,  7.,  5.,  4.,  6.,\n",
       "        4.,  4.,  3.,  6.,  1.,  6.,  5.,  8.,  5.,  5.,  2.,  6.,  4.,\n",
       "       10.,  5.,  3.,  5.,  6.,  5.,  3.,  4.,  4.,  5.,  3.,  3.,  1.,\n",
       "        4.,  4.,  7.,  5.,  6.,  7.,  5.,  1.,  6.,  5.,  6.,  5.,  5.,\n",
       "        4.,  5.,  7.,  4.,  6.,  4.,  4.,  3.,  2.,  2.,  0.,  4.,  5.,\n",
       "        5.,  6.,  7.,  2.,  5.,  3.,  6.,  6.,  5.,  8.,  6.,  2.,  4.,\n",
       "        9.,  3.,  1.,  2.,  6.,  1.,  6.,  8.,  3.,  4.,  5.,  3.,  4.,\n",
       "        3.,  2.,  2.,  6.,  5.,  5.,  4.,  9.,  2.,  6.,  2.,  2.,  4.,\n",
       "        6.,  6.,  3.,  4.,  2.,  4.,  8.,  9.,  5.,  4.,  5.,  5.,  4.,\n",
       "        4., 10.,  7.,  8.,  4.,  5.,  4.,  6.,  4.,  8.,  4.,  4.,  4.,\n",
       "        5.,  6.,  6.,  6.,  6.,  2.,  3.,  6.,  6.,  9.,  2.,  4.,  2.,\n",
       "        8.,  5.,  4.,  2.,  5.,  3.,  5.,  5.,  3.,  4.,  5.,  8.,  7.,\n",
       "        6.,  6.,  7.,  8.,  4., 10.,  6.,  9., 12.,  8., 11.,  5.,  5.,\n",
       "        5.,  8.,  6.,  5.,  9.,  7.,  5.,  9.,  7.,  5.,  5.,  6.,  5.,\n",
       "        5.,  4.,  4.,  7.,  7., 12.,  7.,  6.,  4.,  2.,  7.,  3.,  8.,\n",
       "        4.,  7.,  7.,  9.,  6.,  8.,  9.,  9.,  6., 12.,  6.,  4., 10.,\n",
       "        7., 12.,  7.,  5.,  5.,  4.,  5.,  3., 10.,  2.,  9.,  3., 12.,\n",
       "       10., 13.,  7.,  6.,  9.,  6.,  5.,  6.,  7., 10., 11.,  8.,  6.,\n",
       "        5.,  2.,  6.,  5.,  9.,  3.,  7.,  5.,  6.,  5.,  3.,  7.,  7.,\n",
       "        8.,  9.,  7.,  8.,  8.,  6.,  7., 10.,  5.,  5.,  9.,  6.,  6.,\n",
       "        7.,  9.,  8.,  6., 12.,  6.,  5., 10.,  7.,  7.,  8., 10., 10.,\n",
       "        2.,  6.,  7.,  5.,  8.,  8.,  8.,  7.,  9.,  8.,  5., 11.,  8.,\n",
       "        3.,  4., 10.,  6.,  5.,  5.,  7.,  6., 11.,  3.,  6., 10.,  3.,\n",
       "        4.,  5.,  7.,  6.,  4.,  6.,  4.,  6.,  4.,  7.,  8.,  6., 11.,\n",
       "        7.,  3., 11.,  4.,  5.,  9.,  6., 12.,  4.,  4.,  6.,  1., 10.,\n",
       "        4., 11.,  8.,  4.,  4.,  1.,  8.,  5.,  7.,  6.,  7.,  7.,  4.,\n",
       "        4.,  9., 12.,  6.,  7.,  5., 11.,  8.,  4.,  6.,  4., 10.,  8.,\n",
       "       12.,  6.,  4.,  1.,  7.,  4.,  2., 10.,  8.,  8.,  7.,  7.,  6.,\n",
       "        2.,  9.,  4., 10.,  5., 10.,  8.,  4.,  6.,  4., 10.,  8.,  7.,\n",
       "       13.,  8.,  8.,  5.,  6.,  4.,  6.,  6.,  1.,  4., 10.,  9.,  8.,\n",
       "        4.,  4.,  3.,  7.,  9.,  7.,  6.,  7.,  3.,  6.,  2.,  6., 12.,\n",
       "        6., 12.,  5.,  4.,  7.,  4.,  3.,  5.,  4.,  7.,  8.,  9.,  7.,\n",
       "        5.,  8.,  8.,  3.,  5., 10.,  9.,  7.,  5.,  8.,  9.,  3., 10.,\n",
       "        3.,  2., 13.,  4.,  5.,  6.,  6.,  7., 12., 10.,  4., 10.,  6.,\n",
       "        9.,  6., 10.,  3.,  5.,  7.,  9.,  8.,  7.,  7., 13.,  6.,  7.,\n",
       "        6.,  3.,  8.,  6.,  5.,  9.,  8.,  4.,  7.,  4.,  7.,  8.,  7.,\n",
       "        8., 11.,  8.,  8.,  5.,  3.,  9.,  4.,  7.,  4.,  9., 15.,  9.,\n",
       "        6., 11.,  9.,  5.,  3.,  4.,  9.,  9., 13.,  3.,  7., 13.,  3.,\n",
       "        8., 10.,  3.,  2.,  9.,  6.,  6.,  6.,  0.,  9.,  6.,  8.,  5.,\n",
       "       10.,  6.,  6.,  7.,  5., 11.,  4.,  8.,  9.,  7.,  4.,  9.,  2.,\n",
       "        4.,  7.,  4.,  9.,  3., 10.,  9.,  9.,  5., 10.,  8.,  9.,  5.,\n",
       "       10.,  5., 10.,  6.,  5.,  6.,  9., 16.,  2.,  5., 13.,  7.,  7.,\n",
       "        6.,  6.,  6., 11.,  6., 12.,  5.,  4.,  5.,  4.,  6., 10.,  7.,\n",
       "        2., 10.,  7., 11.,  6.,  6.,  7.,  5., 10.,  8.,  9., 10.,  3.,\n",
       "        7., 15.,  7., 12.,  9.,  5., 10.,  9.,  5.,  8., 10.,  7.,  7.,\n",
       "        7.,  6.,  7.,  9.,  7., 11.,  5.,  5., 10., 10.,  8., 10.,  5.,\n",
       "       10.,  6.,  7.,  5.,  5.,  6.,  7.,  8., 10., 10.,  5.,  8.,  5.,\n",
       "        3.,  5., 10.,  6.,  8.,  9.,  9.,  3.,  6.,  5.,  7.,  9.,  5.,\n",
       "        7.,  4.,  7.,  6.,  4., 11.,  6.,  8.,  9., 10.,  8., 10.,  5.,\n",
       "        6.,  7.,  7.,  4., 10.,  7.,  6.,  3.,  7.,  6.,  9.,  7.])"
      ]
     },
     "execution_count": 39,
     "metadata": {},
     "output_type": "execute_result"
    }
   ],
   "source": [
    "CH[0,0]"
   ]
  },
  {
   "cell_type": "code",
   "execution_count": 12,
   "metadata": {},
   "outputs": [
    {
     "name": "stdout",
     "output_type": "stream",
     "text": [
      "5274.255 8682.655\n"
     ]
    }
   ],
   "source": [
    "off = 50\n",
    "min_tmp_1 = mean(CH[0,0,0+off:500-off])\n",
    "min_tmp_2 = mean(CH[0,0,500+off:1000-off])\n",
    "print(min_tmp_1,min_tmp_2)"
   ]
  },
  {
   "cell_type": "code",
   "execution_count": 13,
   "metadata": {},
   "outputs": [
    {
     "data": {
      "image/png": "[encoded data removed]",
      "text/plain": [
       "<Figure size 841.68x595.44 with 1 Axes>"
      ]
     },
     "metadata": {},
     "output_type": "display_data"
    }
   ],
   "source": [
    "# one plot\n",
    "fig = plt.figure('one_curve')\n",
    "clf()\n",
    "fig.set_size_inches(11.69,8.27)\n",
    "\n",
    "ax1 = fig.add_subplot(111)\n",
    "title('MCP_PIEGE')\n",
    "# ax2 = fig.add_subplot(212,sharex=ax1)\n",
    "\n",
    "ax1.plot(TP[0], CH[0,0],color='xkcd:neon red',marker='',ms=2,ls='-',zorder=10)\n",
    "ax1.hlines(min_tmp_1,0,500,linestyle='--',color='xkcd:azul',zorder=20)\n",
    "ax1.hlines(min_tmp_2,500,1000,linestyles='--',color='xkcd:purple',zorder=20)\n",
    "ax1.vlines(500,1,13,linestyle='--',color='xkcd:rouge',zorder=20)\n",
    "ax1.set_xlabel('[s]')\n",
    "ax1.set_ylabel('Cnts [cts/s]')\n",
    "\n",
    "# leg = ax1.legend(title='scans 866')\n",
    "# leg.get_title().set_fontsize(20)\n",
    "\n",
    "ax1.set_xlim(-5,1005)\n",
    "# ax1.set_ylim(3000,15500)\n",
    "# ax1.yaxis.set_major_locator(matplotlib.ticker.MultipleLocator(base=1))\n",
    "ax1.xaxis.set_major_locator(matplotlib.ticker.MultipleLocator(base=50))\n",
    "ax1.grid(zorder=5)\n",
    "\n",
    "plt.tight_layout()"
   ]
  },
  {
   "cell_type": "code",
   "execution_count": 46,
   "metadata": {},
   "outputs": [
    {
     "name": "stdout",
     "output_type": "stream",
     "text": [
      "866217300000.0 866210300000.0\n"
     ]
    }
   ],
   "source": [
    "n = c /(866.21355*1e-9*346.0003*1e12)\n",
    "\n",
    "# l866_1 = c/345.9993e12/n\n",
    "# l866_2 = c/346.00085e12/n\n",
    "l866_1 = 866.2173\n",
    "l866_2 = 866.2103\n",
    "\n",
    "print(l866_1*1e9,l866_2*1e9)\n",
    "\n",
    "l_866 = around(linspace(l866_2*1e9,l866_1*1e9,len(TP[:,0])),5)\n",
    "# l_866_bis = around(linspace(866,866.4,len(TIME[:,0])),5)\n",
    "f_866 = around(c/(n*(l_866*1e-9))*1e-12,5)*1000\n",
    "# f_866_bis = around(c/(n*(l_866_bis*1e-9))*1e-12,5)\n",
    "center_f866=c/(l866_2+l866_1)/2\n",
    "center_l866=(l866_2*1e9+l866_1*1e9)/2"
   ]
  },
  {
   "cell_type": "code",
   "execution_count": 44,
   "metadata": {},
   "outputs": [],
   "source": [
    "fig = plt.figure('all_curves')\n",
    "clf()\n",
    "fig.set_size_inches(11.69,8.27)\n",
    "\n",
    "ax1 = fig.add_subplot(111)\n",
    "title('Scans 866')\n",
    "# ax2 = fig.add_subplot(212,sharex=ax1)\n",
    "cl = [ cm.hsv(x) for x in linspace(0,1,len(TP))]\n",
    "cnt = 0\n",
    "for k in range(4):\n",
    "    ax1.plot(TP[k], CH[k,0],color=cl[k],marker='',ms=2,ls='-',label=k)\n",
    "    cnt += 1\n",
    "ax1.set_xlabel('[s]')\n",
    "ax1.set_ylabel('Fluo [cts/5ms]')\n",
    "leg = ax1.legend(title='scans 866')\n",
    "leg.get_title().set_fontsize(20)\n",
    "\n",
    "# ax1.set_xlim(-0.5,130)\n",
    "# ax1.set_ylim(3000,15500)\n",
    "# ax1.yaxis.set_major_locator(matplotlib.ticker.MultipleLocator(base=1))\n",
    "# ax1.xaxis.set_major_locator(matplotlib.ticker.MultipleLocator(base=5))\n",
    "ax1.grid()\n",
    "\n",
    "plt.tight_layout()"
   ]
  },
  {
   "cell_type": "code",
   "execution_count": 63,
   "metadata": {},
   "outputs": [
    {
     "data": {
      "text/plain": [
       "array([0.02166264, 0.04283794, 0.03953537, ..., 0.02418814, 0.03059901,\n",
       "       0.0203999 ])"
      ]
     },
     "execution_count": 63,
     "metadata": {},
     "output_type": "execute_result"
    }
   ],
   "source": [
    "(CH[k,0]-smooth_min)/(max(CH[k,0])-smooth_min)"
   ]
  },
  {
   "cell_type": "code",
   "execution_count": 89,
   "metadata": {},
   "outputs": [
    {
     "data": {
      "text/plain": [
       "(346.09, 2.0)"
      ]
     },
     "execution_count": 89,
     "metadata": {},
     "output_type": "execute_result"
    }
   ],
   "source": [
    "346090000000000/1e12 , 2000000000/1e9"
   ]
  },
  {
   "cell_type": "code",
   "execution_count": 106,
   "metadata": {},
   "outputs": [],
   "source": [
    "from scipy.signal import hilbert, chirp\n",
    "\n"
   ]
  },
  {
   "cell_type": "code",
   "execution_count": 119,
   "metadata": {},
   "outputs": [
    {
     "name": "stdout",
     "output_type": "stream",
     "text": [
      "0\n",
      "2\n",
      "3\n"
     ]
    },
    {
     "data": {
      "text/plain": [
       "array([621.44331625,   0.        , 322.09920616, 193.62476377])"
      ]
     },
     "execution_count": 119,
     "metadata": {},
     "output_type": "execute_result"
    }
   ],
   "source": [
    "e = 1.602e-19\n",
    "m = 40.078*1.66054e-27 # 40.078\n",
    "m_amu = 40.078\n",
    "\n",
    "analytic_signal = hilbert(CH[k,0])\n",
    "amplitude_envelope = np.abs(analytic_signal)\n",
    "A = amplitude_envelope\n",
    "\n",
    "start_866 = l866_1*1e-9\n",
    "end_866 = l866_2*1e-9\n",
    "\n",
    "FREQ = zeros((len(TP),len(TP[0])))\n",
    "tmp_FREQ = []\n",
    "for k in range(len(TP)):\n",
    "    tmp_FREQ.append( start_866 + TP[k] * (end_866 - start_866)/max(TP[k]) )\n",
    "    for l in range(len(FREQ[k])):\n",
    "#         print(l)\n",
    "        FREQ[k][l] = c/tmp_FREQ[k][l]\n",
    "    \n",
    "fit_PM = zeros((4,3))\n",
    "covar_PM = zeros((4,3,3))\n",
    "fit_gauss = zeros((4,len(FREQ[0])))\n",
    "T = zeros(4)\n",
    "for k in [0,2,3]:\n",
    "    print(k)\n",
    "    fit_PM[k], covar_PM[k] = curve_fit(gaussian_fit,\n",
    "                                       FREQ[k][:],(CH[k,0,:]-smooth_min)/(max(CH[k,0,:])-smooth_min),\n",
    "                                      p0=[1,3.4609*1e14,2e9]) #p0=[1,3.461*1e14,2e9]  [1,346090000000000,2000000000]\n",
    "    A = fit_PM[k,0]\n",
    "#     A = 1\n",
    "    mu = fit_PM[k,1]\n",
    "    sig = fit_PM[k,2]\n",
    "    fit_gauss[k] = gaussian_fit(FREQ[k],A,mu,sig)\n",
    "    l0 = FREQ[0][len(FREQ[0])//2]\n",
    "    FWHM = 2*sig*sqrt(2*log(2))\n",
    "    T[k] = 300 * m_amu * ( FWHM * c / (2230*2*l0*sqrt(log(2))) )**2\n",
    "    \n",
    "T"
   ]
  },
  {
   "cell_type": "code",
   "execution_count": 15,
   "metadata": {},
   "outputs": [],
   "source": [
    "coucou_tmp = CH[3]"
   ]
  },
  {
   "cell_type": "code",
   "execution_count": 29,
   "metadata": {},
   "outputs": [],
   "source": [
    "fig = plt.figure('test_calque_diag443')\n",
    "# clf()\n",
    "ax1 = fig.add_subplot(111)\n",
    "fig.set_size_inches(11.69,8.27)\n",
    "plot()\n",
    "ax1.set_xlim(0,1.4)\n",
    "ax1.set_ylim(-0.6,0.6)\n",
    "ax1.xaxis.set_major_locator(matplotlib.ticker.MultipleLocator(base=0.2))\n",
    "ax1.yaxis.set_major_locator(matplotlib.ticker.MultipleLocator(base=0.2))\n",
    "ax1.xaxis.set_minor_locator(MultipleLocator(0.1))\n",
    "\n",
    "ax1.set_xlabel('q')\n",
    "ax1.set_ylabel('a')\n",
    "# fig.autofmt_xdate()\n",
    "# ax1.grid(which='major', linestyle='-', linewidth='1', color='black')\n",
    "# ax1.grid(which='minor', linestyle=':', linewidth='1', color='black')\n",
    "grid()\n",
    "# plt.tight_layout()"
   ]
  },
  {
   "cell_type": "code",
   "execution_count": 124,
   "metadata": {},
   "outputs": [
    {
     "data": {
      "text/plain": [
       "array([4850.20942848, 4840.66925588, 4853.11715322, ..., 5040.36978101,\n",
       "       4826.95232068, 4989.73506032])"
      ]
     },
     "execution_count": 124,
     "metadata": {},
     "output_type": "execute_result"
    }
   ],
   "source": [
    "A = amplitude_envelope\n",
    "A"
   ]
  },
  {
   "cell_type": "code",
   "execution_count": 129,
   "metadata": {},
   "outputs": [
    {
     "ename": "SyntaxError",
     "evalue": "keyword argument repeated (<ipython-input-129-bff1f6e442d2>, line 16)",
     "output_type": "error",
     "traceback": [
      "\u001b[0;36m  File \u001b[0;32m\"<ipython-input-129-bff1f6e442d2>\"\u001b[0;36m, line \u001b[0;32m16\u001b[0m\n\u001b[0;31m    ax1.plot(FREQ[k]*1e-12, savgol_filter(CH[k,0], 51, 2, deriv=0),color=cl[cnt],color='blue')\u001b[0m\n\u001b[0m                                                                                ^\u001b[0m\n\u001b[0;31mSyntaxError\u001b[0m\u001b[0;31m:\u001b[0m keyword argument repeated\n"
     ]
    }
   ],
   "source": [
    "CH[3] = coucou_tmp\n",
    "CH[3] = savgol_filter(CH[3], 13, 6, deriv=0)\n",
    "\n",
    "\n",
    "fig = plt.figure('all_curves_norm')\n",
    "clf()\n",
    "fig.set_size_inches(11.69,8.27)\n",
    "\n",
    "ax1 = fig.add_subplot(111)\n",
    "# title('Scans 866')\n",
    "# ax2 = fig.add_subplot(212,sharex=ax1)\n",
    "cl = [ cm.hsv(x) for x in linspace(0,1,4)]\n",
    "cnt = 0\n",
    "for k in [3]:\n",
    "    smooth_min = min(savgol_filter(CH[k,0], 51, 2, deriv=0))\n",
    "    ax1.plot(FREQ[k]*1e-12, (CH[k,0]-smooth_min)/(max(CH[k,0])-smooth_min),color=cl[cnt],marker='',lw=0.5,ls='-',label='{:3.0f} K'.format(T[k]))\n",
    "    ax1.plot(FREQ[k]*1e-12, (CH[k,0]-smooth_min)/(max(CH[k,0])-smooth_min),color=cl[cnt],color='blue')\n",
    "    ax1.plot(FREQ[k]*1e-12, fit_gauss[k],color=cl[cnt])\n",
    "#     ax1.plot(FREQ[k]*1e-12, (A-smooth_min)/(max(A)-smooth_min),color=cl[cnt])\n",
    "    cnt += 1    \n",
    "ax1.set_xlabel('Repumping laser frequency [THz]')\n",
    "ax1.set_ylabel('Normalized fluorescence [cts/5ms]')\n",
    "leg = ax1.legend(title='Températures')\n",
    "leg.get_title().set_fontsize(20)\n",
    "\n",
    "ax1.xaxis.set_major_formatter(FormatStrFormatter('%.4f'))\n",
    "fig.autofmt_xdate()\n",
    "plt.xticks(rotation=15)\n",
    "ax1.set_ylim(-0.1,1.1)\n",
    "ax1.set_xlim(346.094,346.096)\n",
    "# ax1.yaxis.set_major_locator(matplotlib.ticker.MultipleLocator(base=1))\n",
    "# ax1.xaxis.set_major_locator(matplotlib.ticker.MultipleLocator(base=5))\n",
    "ax1.grid()\n",
    "\n",
    "plt.tight_layout()"
   ]
  },
  {
   "cell_type": "code",
   "execution_count": 188,
   "metadata": {},
   "outputs": [],
   "source": [
    "fig = figure('plot gaussienne')\n",
    "clf()\n",
    "ax1 = fig.add_subplot(111)\n",
    "ax1.plot(FREQ[3]*1e-12, fit_gauss[2],color='xkcd:vermillion',marker='',ms=20,ls='-')\n",
    "ax1.xaxis.set_major_formatter(FormatStrFormatter('%.4f'))\n",
    "fig.autofmt_xdate()"
   ]
  },
  {
   "cell_type": "code",
   "execution_count": 101,
   "metadata": {},
   "outputs": [
    {
     "data": {
      "text/plain": [
       "array([ 0.02368375, -0.04640513, -0.03216833, ...,  0.04175354,\n",
       "        0.01711292,  0.06256118])"
      ]
     },
     "execution_count": 101,
     "metadata": {},
     "output_type": "execute_result"
    }
   ],
   "source": [
    "(CH[k,0]-smooth_min)/(max(CH[k,0])-smooth_min)"
   ]
  },
  {
   "cell_type": "code",
   "execution_count": 110,
   "metadata": {},
   "outputs": [
    {
     "data": {
      "text/plain": [
       "array([2.88086902e-12, 3.01023588e-12, 3.14529603e-12, ...,\n",
       "       4.61292514e-06, 4.47819626e-06, 4.34724206e-06])"
      ]
     },
     "execution_count": 110,
     "metadata": {},
     "output_type": "execute_result"
    }
   ],
   "source": [
    "fit_gauss"
   ]
  },
  {
   "cell_type": "code",
   "execution_count": 11,
   "metadata": {},
   "outputs": [
    {
     "name": "stdout",
     "output_type": "stream",
     "text": [
      "[793.70129 793.7015  793.70135 793.70135 793.70135 793.70135 793.70142\n",
      " 793.70153 793.7014  793.7014  793.7014 ]\n"
     ]
    }
   ],
   "source": [
    "my_label_l = ['129', '150', '135', '135', '135', '135', '142', '153', '140', '140', '140'] # longueurs d'onde\n",
    "my_label_l = ['793.70' + s for s in my_label_l] # rajout du prefixe 793.70\n",
    "my_label_l = array(my_label_l).astype(np.float) # conversion en float\n",
    "my_label_P = [4, 3, 3, 7.8, 11.2, 6, 6, 6, 6, 7, 7]\n",
    "print(my_label_l)"
   ]
  },
  {
   "cell_type": "code",
   "execution_count": 64,
   "metadata": {},
   "outputs": [
    {
     "data": {
      "text/plain": [
       "array([793.70129, 793.7015 , 793.70135, 793.70135, 793.70135, 793.70135,\n",
       "       793.70142, 793.70153, 793.7014 , 793.7014 , 793.7014 ])"
      ]
     },
     "execution_count": 64,
     "metadata": {},
     "output_type": "execute_result"
    }
   ],
   "source": [
    "my_label_l"
   ]
  },
  {
   "cell_type": "code",
   "execution_count": 82,
   "metadata": {},
   "outputs": [
    {
     "name": "stdout",
     "output_type": "stream",
     "text": [
      "delta =  2.7999999999792635 GHz\n",
      "[array([-0.0011322, -0.0011308, -0.0011294, ...,  0.0016622,  0.0016636,\n",
      "        0.001665 ]), array([-0.0011322, -0.0011308, -0.0011294, ...,  0.0016622,  0.0016636,\n",
      "        0.001665 ]), array([-0.0011322, -0.0011308, -0.0011294, ...,  0.0016622,  0.0016636,\n",
      "        0.001665 ]), array([-0.0011322, -0.0011308, -0.0011294, ...,  0.0016622,  0.0016636,\n",
      "        0.001665 ]), array([-0.0011322, -0.0011308, -0.0011294, ...,  0.0016622,  0.0016636,\n",
      "        0.001665 ]), array([-0.0011322, -0.0011308, -0.0011294, ...,  0.0016622,  0.0016636,\n",
      "        0.001665 ]), array([-0.0011322, -0.0011308, -0.0011294, ...,  0.0016622,  0.0016636,\n",
      "        0.001665 ]), array([-0.0011322, -0.0011308, -0.0011294, ...,  0.0016622,  0.0016636,\n",
      "        0.001665 ]), array([-0.0011322, -0.0011308, -0.0011294, ...,  0.0016622,  0.0016636,\n",
      "        0.001665 ]), array([-0.0011322, -0.0011308, -0.0011294, ...,  0.0016622,  0.0016636,\n",
      "        0.001665 ]), array([-0.0011322, -0.0011308, -0.0011294, ...,  0.0016622,  0.0016636,\n",
      "        0.001665 ])]\n",
      "[-3.71448878e+08 -2.71539191e+08 -3.42903248e+08 -3.42903248e+08\n",
      " -3.42903248e+08 -3.42903248e+08 -3.09600018e+08 -2.57266383e+08\n",
      " -3.19115226e+08 -3.19115226e+08 -3.19115226e+08]\n"
     ]
    }
   ],
   "source": [
    "delta_866 = []\n",
    "n_air = 1.000272\n",
    "start_866 = 345.99910\n",
    "end_866   = 346.0019\n",
    "print('delta = ', (end_866-start_866)*1000, 'GHz')\n",
    "\n",
    "ref_866 = 346.000235\n",
    "ref_397 = 755.222766 # THz\n",
    "\n",
    "for k,_ in enumerate(TP[:]):\n",
    "    delta_866.append( (end_866 - start_866) * TP[k]/TP[k,-1] + start_866 - ref_866 )\n",
    "print(delta_866)\n",
    "\n",
    "delta_397 = ref_397/2*1e12 - c / ( my_label_l  * n_air * 1e-9 )\n",
    "print(delta_397)"
   ]
  },
  {
   "cell_type": "code",
   "execution_count": 101,
   "metadata": {},
   "outputs": [
    {
     "name": "stdout",
     "output_type": "stream",
     "text": [
      "0\n",
      "1\n",
      "2\n",
      "3\n"
     ]
    }
   ],
   "source": [
    "# plot scan var l_397\n",
    "\n",
    "fig = plt.figure('all_l_scans')\n",
    "clf()\n",
    "fig.set_size_inches(11.69,8.27)\n",
    "\n",
    "ax1 = fig.add_subplot(111)\n",
    "title('Scans 866 en fct l_397')\n",
    "# ax2 = fig.add_subplot(212,sharex=ax1)\n",
    "cl = [ cm.spring(x) for x in linspace(0,1,len(TP))]\n",
    "cnt = 0\n",
    "for k in [5,8,6,7]:\n",
    "    ax1.plot(delta_866[k]*1000, CH[k,0,:]+200*cnt,\n",
    "             color=cl[cnt], label = f'{delta_397[k]*1e-6:3.2f}'+ ' MHz',\n",
    "             marker='',ms=2,ls='-')\n",
    "    print(cnt)\n",
    "    cnt += 1\n",
    "\n",
    "ax1.set_xlabel(fr'$\\Delta \\nu$ [GHz] (ref. {ref_866:5.5f} THz / $\\approx${c/(ref_866*1e12*n_air)*1e9:3.5f} nm )')\n",
    "ax1.set_ylabel('Fluo [cts/5ms] (arbitraire)')\n",
    "leg = ax1.legend(title='            $\\Delta\\lambda_{397}$' + f' \\n (ref. {ref_397:5.5f} THz \\n ref. {c/(ref_397*n_air)*1e-3:5.5f} nm)',\n",
    "                loc=4)\n",
    "leg.get_title().set_fontsize(20)\n",
    "\n",
    "# ax1.set_xlim(-0.5,130)\n",
    "# ax1.set_ylim(-0.5,7)\n",
    "# ax1.yaxis.set_major_locator(matplotlib.ticker.MultipleLocator(base=1))\n",
    "# ax1.xaxis.set_major_locator(matplotlib.ticker.MultipleLocator(base=5))\n",
    "ax1.grid()\n",
    "\n",
    "plt.tight_layout()\n",
    "\n",
    "# savefig('all_MCP_040419789789789789.png')"
   ]
  },
  {
   "cell_type": "code",
   "execution_count": 45,
   "metadata": {},
   "outputs": [
    {
     "data": {
      "text/plain": [
       "2.0943951023931953e-06"
      ]
     },
     "execution_count": 45,
     "metadata": {},
     "output_type": "execute_result"
    }
   ],
   "source": [
    "pi*100e-6/150"
   ]
  },
  {
   "cell_type": "code",
   "execution_count": 11,
   "metadata": {
    "collapsed": true
   },
   "outputs": [
    {
     "ename": "NameError",
     "evalue": "name 'delta_866' is not defined",
     "output_type": "error",
     "traceback": [
      "\u001b[0;31m---------------------------------------------------------------------------\u001b[0m",
      "\u001b[0;31mNameError\u001b[0m                                 Traceback (most recent call last)",
      "\u001b[0;32m<ipython-input-11-51d47fbcd5f4>\u001b[0m in \u001b[0;36m<module>\u001b[0;34m()\u001b[0m\n\u001b[1;32m     11\u001b[0m \u001b[0mcnt\u001b[0m \u001b[0;34m=\u001b[0m \u001b[0;36m0\u001b[0m\u001b[0;34m\u001b[0m\u001b[0;34m\u001b[0m\u001b[0m\n\u001b[1;32m     12\u001b[0m \u001b[0;32mfor\u001b[0m \u001b[0mk\u001b[0m \u001b[0;32min\u001b[0m \u001b[0;34m[\u001b[0m\u001b[0;36m2\u001b[0m\u001b[0;34m,\u001b[0m\u001b[0;36m5\u001b[0m\u001b[0;34m,\u001b[0m\u001b[0;36m3\u001b[0m\u001b[0;34m,\u001b[0m\u001b[0;36m4\u001b[0m\u001b[0;34m]\u001b[0m\u001b[0;34m:\u001b[0m\u001b[0;34m\u001b[0m\u001b[0;34m\u001b[0m\u001b[0m\n\u001b[0;32m---> 13\u001b[0;31m     ax1.plot(delta_866[k]*1000, CH[k,0,:],\n\u001b[0m\u001b[1;32m     14\u001b[0m              \u001b[0mcolor\u001b[0m\u001b[0;34m=\u001b[0m\u001b[0mcl\u001b[0m\u001b[0;34m[\u001b[0m\u001b[0mcnt\u001b[0m\u001b[0;34m]\u001b[0m\u001b[0;34m,\u001b[0m \u001b[0mlabel\u001b[0m \u001b[0;34m=\u001b[0m \u001b[0;34mf'{my_label_P[k]:04.1f}'\u001b[0m\u001b[0;34m+\u001b[0m \u001b[0;34m' mW'\u001b[0m\u001b[0;34m,\u001b[0m\u001b[0;34m\u001b[0m\u001b[0;34m\u001b[0m\u001b[0m\n\u001b[1;32m     15\u001b[0m              marker='',ms=2,ls='-')\n",
      "\u001b[0;31mNameError\u001b[0m: name 'delta_866' is not defined"
     ]
    },
    {
     "data": {
      "image/png": "[encoded data removed]",
      "text/plain": [
       "<Figure size 841.68x595.44 with 1 Axes>"
      ]
     },
     "metadata": {},
     "output_type": "display_data"
    }
   ],
   "source": [
    "# plot scan var P_397\n",
    "\n",
    "fig = plt.figure('all_P_scans')\n",
    "clf()\n",
    "fig.set_size_inches(11.69,8.27)\n",
    "\n",
    "ax1 = fig.add_subplot(111)\n",
    "title('Scans 866 en fct P_397')\n",
    "# ax2 = fig.add_subplot(212,sharex=ax1)\n",
    "cl = [ cm.spring(x) for x in linspace(0,1,6)]\n",
    "cnt = 0\n",
    "for k in [2,5,3,4]:\n",
    "    ax1.plot(delta_866[k]*1000, CH[k,0,:],\n",
    "             color=cl[cnt], label = f'{my_label_P[k]:04.1f}'+ ' mW',\n",
    "             marker='',ms=2,ls='-')\n",
    "    print(cnt)\n",
    "    cnt += 1\n",
    "\n",
    "ax1.set_xlabel(fr'$\\Delta \\nu$ [GHz] (ref. {ref_866:5.5f} THz / $\\approx${c/(ref_866*1e12*n_air)*1e9:3.5f} nm )')\n",
    "ax1.set_ylabel('Fluo [cts/5ms]')\n",
    "leg = ax1.legend(title='$P_{397}$')\n",
    "leg.get_title().set_fontsize(20)\n",
    "\n",
    "# ax1.set_xlim(-0.5,130)\n",
    "# ax1.set_ylim(-0.5,7)\n",
    "# ax1.yaxis.set_major_locator(matplotlib.ticker.MultipleLocator(base=1))\n",
    "# ax1.xaxis.set_major_locator(matplotlib.ticker.MultipleLocator(base=5))\n",
    "ax1.grid()\n",
    "\n",
    "plt.tight_layout()\n",
    "\n",
    "# savefig('all_MCP_040419789789789789.png')"
   ]
  },
  {
   "cell_type": "code",
   "execution_count": 33,
   "metadata": {},
   "outputs": [
    {
     "data": {
      "text/plain": [
       "array([ 0.04,  0.06,  0.08, ..., 39.94, 39.96, 39.98])"
      ]
     },
     "execution_count": 33,
     "metadata": {},
     "output_type": "execute_result"
    }
   ],
   "source": [
    "TP[k]"
   ]
  },
  {
   "cell_type": "code",
   "execution_count": 40,
   "metadata": {},
   "outputs": [
    {
     "data": {
      "text/plain": [
       "[array([866.217307  , 866.21731051, 866.21731401, ..., 866.224293  ,\n",
       "        866.2242965 , 866.2243    ]),\n",
       " array([866.217307  , 866.21731051, 866.21731401, ..., 866.224293  ,\n",
       "        866.2242965 , 866.2243    ]),\n",
       " array([866.217307  , 866.21731051, 866.21731401, ..., 866.224293  ,\n",
       "        866.2242965 , 866.2243    ]),\n",
       " array([866.217307  , 866.21731051, 866.21731401, ..., 866.224293  ,\n",
       "        866.2242965 , 866.2243    ]),\n",
       " array([866.217307  , 866.21731051, 866.21731401, ..., 866.224293  ,\n",
       "        866.2242965 , 866.2243    ]),\n",
       " array([866.217307  , 866.21731051, 866.21731401, ..., 866.224293  ,\n",
       "        866.2242965 , 866.2243    ]),\n",
       " array([866.217307  , 866.21731051, 866.21731401, ..., 866.224293  ,\n",
       "        866.2242965 , 866.2243    ])]"
      ]
     },
     "execution_count": 40,
     "metadata": {},
     "output_type": "execute_result"
    }
   ],
   "source": [
    "start_866 = 866.2173\n",
    "delta_866 = 866.2173 - 866.2103\n",
    "FREQ = []\n",
    "for k,_ in enumerate(TP):\n",
    "    FREQ.append(start_866 + TP[k]*(delta_866)/max(TP[k]))\n",
    "FREQ"
   ]
  },
  {
   "cell_type": "code",
   "execution_count": 22,
   "metadata": {},
   "outputs": [],
   "source": [
    "my_label =['165/2.5/ON','165/2.5(0.4/0.5)/OFF', '99.5/1.8(0.5/0.6)/OFF',]"
   ]
  },
  {
   "cell_type": "code",
   "execution_count": 41,
   "metadata": {},
   "outputs": [],
   "source": [
    "fig = plt.figure('all_P_scans')\n",
    "clf()\n",
    "fig.set_size_inches(11.69,8.27)\n",
    "\n",
    "ax1 = fig.add_subplot(111)\n",
    "title('Scans 866')\n",
    "# ax2 = fig.add_subplot(212,sharex=ax1)\n",
    "cl = [ cm.spring(x) for x in linspace(0,1,len(TP))]\n",
    "cnt = 0\n",
    "for k in [0,2,3]:\n",
    "    ax1.plot(FREQ[k], CH[k,0],color=cl[k],marker='',ms=2,ls='-',label=my_label[cnt])\n",
    "    cnt += 1\n",
    "ax1.set_xlabel('[s]')\n",
    "ax1.set_ylabel('Fluo [cts/5ms]')\n",
    "leg = ax1.legend(title='scans 866')\n",
    "leg.get_title().set_fontsize(20)\n",
    "\n",
    "# ax1.set_xlim(-0.5,130)\n",
    "ax1.set_ylim(3000,15500)\n",
    "# ax1.yaxis.set_major_locator(matplotlib.ticker.MultipleLocator(base=1))\n",
    "# ax1.xaxis.set_major_locator(matplotlib.ticker.MultipleLocator(base=5))\n",
    "ax1.grid()\n",
    "\n",
    "plt.tight_layout()"
   ]
  },
  {
   "cell_type": "code",
   "execution_count": null,
   "metadata": {},
   "outputs": [],
   "source": []
  }
 ],
 "metadata": {
  "kernelspec": {
   "display_name": "Python 3",
   "language": "python",
   "name": "python3"
  },
  "language_info": {
   "codemirror_mode": {
    "name": "ipython",
    "version": 3
   },
   "file_extension": ".py",
   "mimetype": "text/x-python",
   "name": "python",
   "nbconvert_exporter": "python",
   "pygments_lexer": "ipython3",
   "version": "3.6.7"
  }
 },
 "nbformat": 4,
 "nbformat_minor": 2
}
