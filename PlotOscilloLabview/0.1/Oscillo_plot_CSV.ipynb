{
 "cells": [
  {
   "cell_type": "code",
   "execution_count": 1,
   "metadata": {},
   "outputs": [],
   "source": [
    "###########################################################\n",
    "#                                                         #\n",
    "#                         CSV                             #\n",
    "#                                                         #\n",
    "#                         avec                            #\n",
    "#                                                         #\n",
    "#                          10/2018     Adrien Poindron    #\n",
    "###########################################################"
   ]
  },
  {
   "cell_type": "code",
   "execution_count": 29,
   "metadata": {},
   "outputs": [],
   "source": [
    "import pylab\n",
    "import numpy as np\n",
    "import scipy\n",
    "import matplotlib\n",
    "\n",
    "%matplotlib qt"
   ]
  },
  {
   "cell_type": "code",
   "execution_count": 2,
   "metadata": {},
   "outputs": [],
   "source": [
    "from scipy.signal import decimate, periodogram, welch, windows, argrelextrema, find_peaks\n",
    "from matplotlib import cm\n",
    "from scipy.optimize import curve_fit\n",
    "# cm = pylab.get_cmap('jet')\n",
    "from mpl_toolkits.axes_grid1.inset_locator import zoomed_inset_axes\n",
    "from mpl_toolkits.axes_grid1.inset_locator import mark_inset"
   ]
  },
  {
   "cell_type": "code",
   "execution_count": 3,
   "metadata": {},
   "outputs": [],
   "source": [
    "matplotlib.rcParams['figure.figsize'] = [10.5,7]\n",
    "matplotlib.rcParams.update({'font.size': 15})\n",
    "\n",
    "# Say, \"the default sans-serif font is COMIC SANS\"\n",
    "matplotlib.rcParams['font.sans-serif'] = \"Myriad pro\"\n",
    "# Then, \"ALWAYS use sans-serif fonts\"\n",
    "matplotlib.rcParams['font.family'] = \"sans-serif\""
   ]
  },
  {
   "cell_type": "code",
   "execution_count": 4,
   "metadata": {},
   "outputs": [],
   "source": [
    "matplotlib.rc('font', family='sans-serif') \n",
    "matplotlib.rc('font', serif='Myriad Pro') "
   ]
  },
  {
   "cell_type": "code",
   "execution_count": 5,
   "metadata": {},
   "outputs": [],
   "source": [
    "%run /home/adrian/PycharmProjects/data_analysis/data_fct_Adrien.py"
   ]
  },
  {
   "cell_type": "code",
   "execution_count": 6,
   "metadata": {},
   "outputs": [],
   "source": [
    "def gaussian_fit(x,A,mu,sigma):\n",
    "    return A*exp(-(x-mu)**2/(2*sigma**2))\n",
    "# 1/(sigma*sqrt(2*pi))*exp(-(x-mu)**2/(2*sigma**2))\n",
    "# A * exp(-(x-mu)**2 / sigma)\n",
    "\n",
    "def lorentzian_fit(x, *p):\n",
    "    I, gamma, x0 = p\n",
    "    return I / ((x - x0)**2 + gamma**2)"
   ]
  },
  {
   "cell_type": "markdown",
   "metadata": {},
   "source": [
    "# Sélection fichiers"
   ]
  },
  {
   "cell_type": "code",
   "execution_count": 7,
   "metadata": {
    "scrolled": true
   },
   "outputs": [],
   "source": [
    "# sélection des fichiers donnée (Python 3)\n",
    "file_path = load_file_GUI('/home/adrian/Documents/Mesures/')\n",
    "filename = file_path\n",
    "# print(file_path)"
   ]
  },
  {
   "cell_type": "code",
   "execution_count": 17,
   "metadata": {},
   "outputs": [
    {
     "name": "stdout",
     "output_type": "stream",
     "text": [
      "('/home/adrian/Documents/Mesures/GIANTMOL_DETECTION/mcp_piege/20191018/20191018_001.csv',)\n"
     ]
    },
    {
     "ename": "UnicodeDecodeError",
     "evalue": "'utf-8' codec can't decode byte 0xe9 in position 77: invalid continuation byte",
     "output_type": "error",
     "traceback": [
      "\u001b[0;31m---------------------------------------------------------------------------\u001b[0m",
      "\u001b[0;31mUnicodeDecodeError\u001b[0m                        Traceback (most recent call last)",
      "\u001b[0;32m<ipython-input-17-fb4820ccc195>\u001b[0m in \u001b[0;36m<module>\u001b[0;34m()\u001b[0m\n\u001b[1;32m      9\u001b[0m                         \u001b[0mrow_skip\u001b[0m\u001b[0;34m=\u001b[0m\u001b[0mthe_row_to_skip\u001b[0m\u001b[0;34m,\u001b[0m\u001b[0;34m\u001b[0m\u001b[0;34m\u001b[0m\u001b[0m\n\u001b[1;32m     10\u001b[0m                         \u001b[0mcol_to_read\u001b[0m\u001b[0;34m=\u001b[0m\u001b[0mthe_col_to_read\u001b[0m\u001b[0;34m,\u001b[0m\u001b[0;34m\u001b[0m\u001b[0;34m\u001b[0m\u001b[0m\n\u001b[0;32m---> 11\u001b[0;31m                         delim=the_delim)\n\u001b[0m\u001b[1;32m     12\u001b[0m \u001b[0;34m\u001b[0m\u001b[0m\n\u001b[1;32m     13\u001b[0m \u001b[0mTP_aux\u001b[0m\u001b[0;34m,\u001b[0m\u001b[0mCH_aux\u001b[0m \u001b[0;34m=\u001b[0m \u001b[0mconvert_dico_to_var\u001b[0m\u001b[0;34m(\u001b[0m\u001b[0mdata_dico_aux\u001b[0m\u001b[0;34m)\u001b[0m\u001b[0;34m\u001b[0m\u001b[0;34m\u001b[0m\u001b[0m\n",
      "\u001b[0;32m~/PycharmProjects/data_analysis/data_fct_Adrien.py\u001b[0m in \u001b[0;36mimport_data\u001b[0;34m(file_path, row_skip, col_to_read, delim)\u001b[0m\n\u001b[1;32m     47\u001b[0m         dico[file_path[k]] = loadtxt(file_path[k], delimiter=delim,\n\u001b[1;32m     48\u001b[0m                                       \u001b[0mskiprows\u001b[0m\u001b[0;34m=\u001b[0m\u001b[0mrow_skip\u001b[0m\u001b[0;34m,\u001b[0m \u001b[0musecols\u001b[0m\u001b[0;34m=\u001b[0m\u001b[0mcol_to_read\u001b[0m\u001b[0;34m,\u001b[0m\u001b[0;34m\u001b[0m\u001b[0;34m\u001b[0m\u001b[0m\n\u001b[0;32m---> 49\u001b[0;31m                                       unpack=True)\n\u001b[0m\u001b[1;32m     50\u001b[0m     \u001b[0;32mreturn\u001b[0m \u001b[0mdico\u001b[0m\u001b[0;34m\u001b[0m\u001b[0;34m\u001b[0m\u001b[0m\n\u001b[1;32m     51\u001b[0m \u001b[0;34m\u001b[0m\u001b[0m\n",
      "\u001b[0;32m~/.local/lib/python3.6/site-packages/numpy/lib/npyio.py\u001b[0m in \u001b[0;36mloadtxt\u001b[0;34m(fname, dtype, comments, delimiter, converters, skiprows, usecols, unpack, ndmin, encoding)\u001b[0m\n\u001b[1;32m   1035\u001b[0m         \u001b[0;31m# Skip the first `skiprows` lines\u001b[0m\u001b[0;34m\u001b[0m\u001b[0;34m\u001b[0m\u001b[0;34m\u001b[0m\u001b[0m\n\u001b[1;32m   1036\u001b[0m         \u001b[0;32mfor\u001b[0m \u001b[0mi\u001b[0m \u001b[0;32min\u001b[0m \u001b[0mrange\u001b[0m\u001b[0;34m(\u001b[0m\u001b[0mskiprows\u001b[0m\u001b[0;34m)\u001b[0m\u001b[0;34m:\u001b[0m\u001b[0;34m\u001b[0m\u001b[0;34m\u001b[0m\u001b[0m\n\u001b[0;32m-> 1037\u001b[0;31m             \u001b[0mnext\u001b[0m\u001b[0;34m(\u001b[0m\u001b[0mfh\u001b[0m\u001b[0;34m)\u001b[0m\u001b[0;34m\u001b[0m\u001b[0;34m\u001b[0m\u001b[0m\n\u001b[0m\u001b[1;32m   1038\u001b[0m \u001b[0;34m\u001b[0m\u001b[0m\n\u001b[1;32m   1039\u001b[0m         \u001b[0;31m# Read until we find a line with some values, and use\u001b[0m\u001b[0;34m\u001b[0m\u001b[0;34m\u001b[0m\u001b[0;34m\u001b[0m\u001b[0m\n",
      "\u001b[0;32m~/.conda/envs/py307/lib/python3.6/codecs.py\u001b[0m in \u001b[0;36mdecode\u001b[0;34m(self, input, final)\u001b[0m\n\u001b[1;32m    319\u001b[0m         \u001b[0;31m# decode input (taking the buffer into account)\u001b[0m\u001b[0;34m\u001b[0m\u001b[0;34m\u001b[0m\u001b[0;34m\u001b[0m\u001b[0m\n\u001b[1;32m    320\u001b[0m         \u001b[0mdata\u001b[0m \u001b[0;34m=\u001b[0m \u001b[0mself\u001b[0m\u001b[0;34m.\u001b[0m\u001b[0mbuffer\u001b[0m \u001b[0;34m+\u001b[0m \u001b[0minput\u001b[0m\u001b[0;34m\u001b[0m\u001b[0;34m\u001b[0m\u001b[0m\n\u001b[0;32m--> 321\u001b[0;31m         \u001b[0;34m(\u001b[0m\u001b[0mresult\u001b[0m\u001b[0;34m,\u001b[0m \u001b[0mconsumed\u001b[0m\u001b[0;34m)\u001b[0m \u001b[0;34m=\u001b[0m \u001b[0mself\u001b[0m\u001b[0;34m.\u001b[0m\u001b[0m_buffer_decode\u001b[0m\u001b[0;34m(\u001b[0m\u001b[0mdata\u001b[0m\u001b[0;34m,\u001b[0m \u001b[0mself\u001b[0m\u001b[0;34m.\u001b[0m\u001b[0merrors\u001b[0m\u001b[0;34m,\u001b[0m \u001b[0mfinal\u001b[0m\u001b[0;34m)\u001b[0m\u001b[0;34m\u001b[0m\u001b[0;34m\u001b[0m\u001b[0m\n\u001b[0m\u001b[1;32m    322\u001b[0m         \u001b[0;31m# keep undecoded input until the next call\u001b[0m\u001b[0;34m\u001b[0m\u001b[0;34m\u001b[0m\u001b[0;34m\u001b[0m\u001b[0m\n\u001b[1;32m    323\u001b[0m         \u001b[0mself\u001b[0m\u001b[0;34m.\u001b[0m\u001b[0mbuffer\u001b[0m \u001b[0;34m=\u001b[0m \u001b[0mdata\u001b[0m\u001b[0;34m[\u001b[0m\u001b[0mconsumed\u001b[0m\u001b[0;34m:\u001b[0m\u001b[0;34m]\u001b[0m\u001b[0;34m\u001b[0m\u001b[0;34m\u001b[0m\u001b[0m\n",
      "\u001b[0;31mUnicodeDecodeError\u001b[0m: 'utf-8' codec can't decode byte 0xe9 in position 77: invalid continuation byte"
     ]
    }
   ],
   "source": [
    "# sélection d'autres fichiers donnée (Python 3)\n",
    "file_path_aux = load_file_GUI('/home/adrian/Documents/Mesures/')\n",
    "filename_aux = file_path\n",
    "\n",
    "print(file_path_aux)\n",
    "\n",
    "data_dico_aux = {}\n",
    "data_dico_aux = import_data(file_path_aux,\n",
    "                        row_skip=the_row_to_skip,\n",
    "                        col_to_read=the_col_to_read,\n",
    "                        delim=the_delim)\n",
    "\n",
    "TP_aux,CH_aux = convert_dico_to_var(data_dico_aux)"
   ]
  },
  {
   "cell_type": "code",
   "execution_count": 8,
   "metadata": {},
   "outputs": [
    {
     "data": {
      "text/plain": [
       "('/home/adrian/Documents/Mesures/Electrospray/20191105/WA000013.CSV',\n",
       " '/home/adrian/Documents/Mesures/Electrospray/20191105/WA000014.CSV',\n",
       " '/home/adrian/Documents/Mesures/Electrospray/20191105/WA000015.CSV',\n",
       " '/home/adrian/Documents/Mesures/Electrospray/20191105/WA000016.CSV',\n",
       " '/home/adrian/Documents/Mesures/Electrospray/20191105/WA000017.CSV',\n",
       " '/home/adrian/Documents/Mesures/Electrospray/20191105/WA000018.CSV',\n",
       " '/home/adrian/Documents/Mesures/Electrospray/20191105/WA000019.CSV',\n",
       " '/home/adrian/Documents/Mesures/Electrospray/20191105/WA000020.CSV',\n",
       " '/home/adrian/Documents/Mesures/Electrospray/20191105/WA000021.CSV',\n",
       " '/home/adrian/Documents/Mesures/Electrospray/20191105/WA000022.CSV',\n",
       " '/home/adrian/Documents/Mesures/Electrospray/20191105/WA000023.CSV',\n",
       " '/home/adrian/Documents/Mesures/Electrospray/20191105/WA000024.CSV')"
      ]
     },
     "execution_count": 8,
     "metadata": {},
     "output_type": "execute_result"
    }
   ],
   "source": [
    "file_path # 2 5 8 9"
   ]
  },
  {
   "cell_type": "markdown",
   "metadata": {},
   "source": [
    "# Importation des fichiers"
   ]
  },
  {
   "cell_type": "code",
   "execution_count": 11,
   "metadata": {},
   "outputs": [],
   "source": [
    "the_col_to_read = (3,4,5)     # lecroy  (3,4,5) (0,1,2)     labview  (0,1)\n",
    "the_row_to_skip = 11           # lecroy  11         2        labview  1\n",
    "the_delim = ','               # lecroy  ','       ','       labview  '\\t'\n",
    "\n",
    "data_dico = {}\n",
    "data_dico = import_data(file_path,\n",
    "                        row_skip=the_row_to_skip,\n",
    "                        col_to_read=the_col_to_read,\n",
    "                        delim=the_delim)\n",
    "\n",
    "TP,CH = convert_dico_to_var(data_dico)"
   ]
  },
  {
   "cell_type": "code",
   "execution_count": 76,
   "metadata": {},
   "outputs": [],
   "source": [
    "# Conversion pts -> temps\n",
    "\n",
    "conv_fact = 1\n",
    "TP = [TP[k]*conv_fact for k in range(len(TP))]"
   ]
  },
  {
   "cell_type": "code",
   "execution_count": 14,
   "metadata": {},
   "outputs": [
    {
     "name": "stdout",
     "output_type": "stream",
     "text": [
      "dt[0] = 2.0000e-08sec\n",
      "dt[1] = 2.0000e-08sec\n",
      "dt[2] = 2.0000e-08sec\n",
      "dt[3] = 2.0000e-08sec\n",
      "dt[4] = 2.0000e-08sec\n",
      "dt[5] = 2.0000e-08sec\n",
      "dt[6] = 2.0000e-08sec\n",
      "dt[7] = 2.0000e-08sec\n",
      "dt[8] = 2.0000e-08sec\n",
      "dt[9] = 2.0000e-08sec\n",
      "dt[10] = 2.0000e-08sec\n",
      "dt[11] = 2.0000e-08sec\n"
     ]
    }
   ],
   "source": [
    "# temps entre deux échantillons (si constant)\n",
    "dt = [TP[k][590] - TP[k][589] for k in range(0,len(file_path))]\n",
    "# sample_start = 50000\n",
    "# sample_end = 25000*60+50000\n",
    "for k in range(0,len(file_path)):\n",
    "    print('{}{}{}{:.4e}{}'.format('dt[', k, '] = ',dt[k],'sec'))"
   ]
  },
  {
   "cell_type": "markdown",
   "metadata": {},
   "source": [
    "# Affichage données"
   ]
  },
  {
   "cell_type": "code",
   "execution_count": 19,
   "metadata": {},
   "outputs": [],
   "source": [
    "cl = [ cm.gist_rainbow(x) for x in linspace(0,1,len(TP))]"
   ]
  },
  {
   "cell_type": "code",
   "execution_count": 16,
   "metadata": {},
   "outputs": [],
   "source": []
  },
  {
   "cell_type": "code",
   "execution_count": 80,
   "metadata": {},
   "outputs": [
    {
     "name": "stderr",
     "output_type": "stream",
     "text": [
      "/home/adrian/.local/lib/python3.6/site-packages/matplotlib/font_manager.py:1328: UserWarning: findfont: Font family ['sans-serif'] not found. Falling back to DejaVu Sans\n",
      "  (prop.get_family(), self.defaultFamily[fontext]))\n"
     ]
    }
   ],
   "source": [
    "fig = figure('My plot')\n",
    "fig.clf()\n",
    "ax1 = fig.add_subplot(111)\n",
    "ax1.plot(TP[0],CH[0,0])\n",
    "ax1.set_xlabel('t [ms]')\n",
    "ax1.set_ylabel('MCP piège [cts/1 ms]')\n",
    "ax1.grid()\n",
    "fig.set_size_inches(11.69, 5)\n",
    "tight_layout()"
   ]
  },
  {
   "cell_type": "code",
   "execution_count": 41,
   "metadata": {},
   "outputs": [
    {
     "name": "stdout",
     "output_type": "stream",
     "text": [
      "/home/adrian/Documents/Mesures/Electrospray/20191105/WA000017.CSV\n",
      "/home/adrian/Documents/Mesures/Electrospray/20191105/WA000016.CSV\n",
      "/home/adrian/Documents/Mesures/Electrospray/20191105/WA000015.CSV\n",
      "/home/adrian/Documents/Mesures/Electrospray/20191105/WA000014.CSV\n",
      "/home/adrian/Documents/Mesures/Electrospray/20191105/WA000013.CSV\n",
      "/home/adrian/Documents/Mesures/Electrospray/20191105/WA000018.CSV\n",
      "/home/adrian/Documents/Mesures/Electrospray/20191105/WA000019.CSV\n",
      "/home/adrian/Documents/Mesures/Electrospray/20191105/WA000020.CSV\n",
      "/home/adrian/Documents/Mesures/Electrospray/20191105/WA000021.CSV\n",
      "/home/adrian/Documents/Mesures/Electrospray/20191105/WA000024.CSV\n",
      "/home/adrian/Documents/Mesures/Electrospray/20191105/WA000023.CSV\n",
      "/home/adrian/Documents/Mesures/Electrospray/20191105/WA000022.CSV\n"
     ]
    },
    {
     "name": "stderr",
     "output_type": "stream",
     "text": [
      "/home/adrian/.local/lib/python3.6/site-packages/matplotlib/font_manager.py:1328: UserWarning: findfont: Font family ['sans-serif'] not found. Falling back to DejaVu Sans\n",
      "  (prop.get_family(), self.defaultFamily[fontext]))\n"
     ]
    }
   ],
   "source": [
    "# plot all\n",
    "# start = 4000\n",
    "# end = 33200\n",
    "# sc = ['U1','U7','U111']\n",
    "my_order = [4,3,2,1,0,5,6,7,8,11,10,9]\n",
    "my_label = ['15.55/16.20','14.05/14.66','12.85/13.50', '11.63/12.23', '5.35/5.98','17.75/18.00','18.40/18.75','23.45/23.80','25.95/26.52','36.30/36.70','31.05/31.30','28.55,28.65']\n",
    "fig,ax = plt.subplots(1,1,num='MCP Bender',clear=True)\n",
    "# fig.suptitle('Tension C12 lentille centre | 0/X/0')\n",
    "# clf()\n",
    "fig.set_size_inches(11.69,8.27)\n",
    "\n",
    "# title('Scans 866')\n",
    "# ax2 = fig.add_subplot(212,sharex=ax1)\n",
    "# cl = [ cm.cool(x) for x in linspace(0,1,len(TP)) ]\n",
    "cnt = 0\n",
    "for to_plot in my_order:\n",
    "    print(file_path[to_plot])\n",
    "    ax.plot(TP[to_plot]*1e6, CH[to_plot,0]*1000,color=cl[cnt],marker='',ms=2,ls='-',lw=0.5, label = f'{my_label[to_plot]} µs')\n",
    "    ax.set_xlabel('[µs]')\n",
    "    ax.set_ylabel('[mV]')    \n",
    "    ax.set_xlim(-0,70)\n",
    "    ax.set_ylim(-10.5,3)\n",
    "    leg = ax.legend(loc=4)\n",
    "    # ax1.set_ylim(0,4)\n",
    "\n",
    "    cnt += 1\n",
    "# ax1.set_xlim(-3,128)\n",
    "# ax1.set_ylim(-7,1.5)\n",
    "ax.grid()\n",
    "plt.tight_layout()\n",
    "# fig.subplots_adjust(hspace=0.020, wspace=0.020,top=0.94)"
   ]
  },
  {
   "cell_type": "code",
   "execution_count": 46,
   "metadata": {
    "scrolled": true
   },
   "outputs": [
    {
     "name": "stdout",
     "output_type": "stream",
     "text": [
      "/home/adrian/Documents/Mesures/GIANTMOL_DETECTION/mcp_piege/20191018/test.csv\n"
     ]
    },
    {
     "ename": "TypeError",
     "evalue": "list indices must be integers or slices, not tuple",
     "output_type": "error",
     "traceback": [
      "\u001b[0;31m---------------------------------------------------------------------------\u001b[0m",
      "\u001b[0;31mTypeError\u001b[0m                                 Traceback (most recent call last)",
      "\u001b[0;32m<ipython-input-46-beaeb32f5129>\u001b[0m in \u001b[0;36m<module>\u001b[0;34m()\u001b[0m\n\u001b[1;32m     20\u001b[0m     \u001b[0ml\u001b[0m \u001b[0;34m=\u001b[0m \u001b[0mcnt\u001b[0m\u001b[0;34m//\u001b[0m\u001b[0;36m3\u001b[0m\u001b[0;34m\u001b[0m\u001b[0;34m\u001b[0m\u001b[0m\n\u001b[1;32m     21\u001b[0m     \u001b[0max\u001b[0m\u001b[0;34m[\u001b[0m\u001b[0mk\u001b[0m\u001b[0;34m,\u001b[0m\u001b[0ml\u001b[0m\u001b[0;34m]\u001b[0m\u001b[0;34m.\u001b[0m\u001b[0mplot\u001b[0m\u001b[0;34m(\u001b[0m\u001b[0mTP\u001b[0m\u001b[0;34m[\u001b[0m\u001b[0mpatate\u001b[0m\u001b[0;34m]\u001b[0m\u001b[0;34m*\u001b[0m\u001b[0;36m1000000\u001b[0m\u001b[0;34m,\u001b[0m \u001b[0mCH\u001b[0m\u001b[0;34m[\u001b[0m\u001b[0mpatate\u001b[0m\u001b[0;34m,\u001b[0m\u001b[0;36m0\u001b[0m\u001b[0;34m]\u001b[0m\u001b[0;34m,\u001b[0m\u001b[0mcolor\u001b[0m\u001b[0;34m=\u001b[0m\u001b[0mcl\u001b[0m\u001b[0;34m[\u001b[0m\u001b[0mcnt\u001b[0m\u001b[0;34m]\u001b[0m\u001b[0;34m,\u001b[0m\u001b[0mmarker\u001b[0m\u001b[0;34m=\u001b[0m\u001b[0;34m''\u001b[0m\u001b[0;34m,\u001b[0m\u001b[0mms\u001b[0m\u001b[0;34m=\u001b[0m\u001b[0;36m2\u001b[0m\u001b[0;34m,\u001b[0m\u001b[0mls\u001b[0m\u001b[0;34m=\u001b[0m\u001b[0;34m'-'\u001b[0m\u001b[0;34m,\u001b[0m\u001b[0mlabel\u001b[0m \u001b[0;34m=\u001b[0m \u001b[0;34mf'{int(my_label[cnt]):02.0f} V'\u001b[0m\u001b[0;34m)\u001b[0m\u001b[0;34m\u001b[0m\u001b[0;34m\u001b[0m\u001b[0m\n\u001b[0;32m---> 22\u001b[0;31m     \u001b[0max\u001b[0m\u001b[0;34m[\u001b[0m\u001b[0mk\u001b[0m\u001b[0;34m,\u001b[0m\u001b[0ml\u001b[0m\u001b[0;34m]\u001b[0m\u001b[0;34m.\u001b[0m\u001b[0mplot\u001b[0m\u001b[0;34m(\u001b[0m\u001b[0mTP\u001b[0m\u001b[0;34m[\u001b[0m\u001b[0;36m0\u001b[0m\u001b[0;34m,\u001b[0m\u001b[0;34m:\u001b[0m\u001b[0;36m1800\u001b[0m\u001b[0;34m]\u001b[0m\u001b[0;34m*\u001b[0m\u001b[0;36m1000000\u001b[0m\u001b[0;34m,\u001b[0m \u001b[0;36m0.01\u001b[0m\u001b[0;34m-\u001b[0m\u001b[0mCH\u001b[0m\u001b[0;34m[\u001b[0m\u001b[0;36m0\u001b[0m\u001b[0;34m,\u001b[0m\u001b[0;36m1\u001b[0m\u001b[0;34m,\u001b[0m\u001b[0;34m:\u001b[0m\u001b[0;36m1800\u001b[0m\u001b[0;34m]\u001b[0m\u001b[0;34m/\u001b[0m\u001b[0;36m100\u001b[0m\u001b[0;34m-\u001b[0m\u001b[0;36m0.018\u001b[0m\u001b[0;34m,\u001b[0m\u001b[0mcolor\u001b[0m\u001b[0;34m=\u001b[0m\u001b[0;34m'xkcd:black'\u001b[0m\u001b[0;34m,\u001b[0m\u001b[0mmarker\u001b[0m\u001b[0;34m=\u001b[0m\u001b[0;34m''\u001b[0m\u001b[0;34m,\u001b[0m\u001b[0mms\u001b[0m\u001b[0;34m=\u001b[0m\u001b[0;36m2\u001b[0m\u001b[0;34m,\u001b[0m\u001b[0mls\u001b[0m\u001b[0;34m=\u001b[0m\u001b[0;34m'-'\u001b[0m\u001b[0;34m)\u001b[0m\u001b[0;34m\u001b[0m\u001b[0;34m\u001b[0m\u001b[0m\n\u001b[0m\u001b[1;32m     23\u001b[0m     \u001b[0max\u001b[0m\u001b[0;34m[\u001b[0m\u001b[0mk\u001b[0m\u001b[0;34m,\u001b[0m\u001b[0ml\u001b[0m\u001b[0;34m]\u001b[0m\u001b[0;34m.\u001b[0m\u001b[0mset_xlabel\u001b[0m\u001b[0;34m(\u001b[0m\u001b[0;34m'[µs]'\u001b[0m\u001b[0;34m)\u001b[0m\u001b[0;34m\u001b[0m\u001b[0;34m\u001b[0m\u001b[0m\n\u001b[1;32m     24\u001b[0m     \u001b[0max\u001b[0m\u001b[0;34m[\u001b[0m\u001b[0;36m1\u001b[0m\u001b[0;34m,\u001b[0m\u001b[0;36m0\u001b[0m\u001b[0;34m]\u001b[0m\u001b[0;34m.\u001b[0m\u001b[0mset_ylabel\u001b[0m\u001b[0;34m(\u001b[0m\u001b[0;34m'[V]'\u001b[0m\u001b[0;34m)\u001b[0m\u001b[0;34m\u001b[0m\u001b[0;34m\u001b[0m\u001b[0m\n",
      "\u001b[0;31mTypeError\u001b[0m: list indices must be integers or slices, not tuple"
     ]
    },
    {
     "name": "stderr",
     "output_type": "stream",
     "text": [
      "/home/adrian/.local/lib/python3.6/site-packages/matplotlib/font_manager.py:1328: UserWarning: findfont: Font family ['sans-serif'] not found. Falling back to DejaVu Sans\n",
      "  (prop.get_family(), self.defaultFamily[fontext]))\n"
     ]
    },
    {
     "data": {
      "image/png": "[encoded data removed]",
      "text/plain": [
       "<Figure size 841.68x595.44 with 6 Axes>"
      ]
     },
     "metadata": {},
     "output_type": "display_data"
    }
   ],
   "source": [
    "# plot all\n",
    "# start = 4000\n",
    "# end = 33200\n",
    "# sc = ['U1','U7','U111']\n",
    "\n",
    "my_label = ['20', '50', '80', '110', '140']\n",
    "\n",
    "fig,ax = plt.subplots(3,2, sharex=True, sharey=True,num='Tension C12 lentille',clear=True)\n",
    "fig.suptitle('Tension C12 lentille centre | 0/X/0')\n",
    "# clf()\n",
    "fig.set_size_inches(11.69,8.27)\n",
    "\n",
    "# title('Scans 866')\n",
    "# ax2 = fig.add_subplot(212,sharex=ax1)\n",
    "cl = [ cm.cool(x) for x in linspace(0,1,5) ]\n",
    "cnt = 0\n",
    "for patate in range(5):\n",
    "    print(file_path[patate])\n",
    "    k = patate % 3\n",
    "    l = cnt//3\n",
    "    ax[k,l].plot(TP[patate]*1000000, CH[patate,0],color=cl[cnt],marker='',ms=2,ls='-',label = f'{int(my_label[cnt]):02.0f} V')\n",
    "    ax[k,l].plot(TP[0,:1800]*1000000, 0.01-CH[0,1,:1800]/100-0.018,color='xkcd:black',marker='',ms=2,ls='-')\n",
    "    ax[k,l].set_xlabel('[µs]')\n",
    "    ax[1,0].set_ylabel('[V]')    \n",
    "    ax[1,0].set_xlim(-20,150)\n",
    "    # ax1.set_xlim(-10.5,11)\n",
    "    # ax1.set_ylim(0,4)\n",
    "    ax[k,l].grid()\n",
    "    leg = ax[k,l].legend(loc=4)\n",
    "    leg.get_title().set_fontsize(15)\n",
    "    cnt += 1\n",
    "\n",
    "# ax1.set_xlim(-3,128)\n",
    "# ax1.set_ylim(-7,1.5)\n",
    "plt.tight_layout()\n",
    "fig.subplots_adjust(hspace=0.020, wspace=0.020,top=0.94)\n",
    "\n"
   ]
  },
  {
   "cell_type": "code",
   "execution_count": 177,
   "metadata": {},
   "outputs": [
    {
     "name": "stdout",
     "output_type": "stream",
     "text": [
      "/home/adrian/Documents/Mesures/Electrospray/190703/WA000006.CSV\n",
      "/home/adrian/Documents/Mesures/Electrospray/190703/WA000007.CSV\n",
      "/home/adrian/Documents/Mesures/Electrospray/190703/WA000008.CSV\n",
      "/home/adrian/Documents/Mesures/Electrospray/190703/WA000009.CSV\n",
      "/home/adrian/Documents/Mesures/Electrospray/190703/WA000010.CSV\n"
     ]
    },
    {
     "name": "stderr",
     "output_type": "stream",
     "text": [
      "/home/adrian/.local/lib/python3.6/site-packages/matplotlib/font_manager.py:1328: UserWarning: findfont: Font family ['sans-serif'] not found. Falling back to DejaVu Sans\n",
      "  (prop.get_family(), self.defaultFamily[fontext]))\n"
     ]
    }
   ],
   "source": [
    "# plot all\n",
    "# start = 4000\n",
    "# end = 33200\n",
    "# sc = ['U1','U7','U111']\n",
    "\n",
    "my_label = ['0','20','40','60','80']\n",
    "\n",
    "fig,ax = plt.subplots(3,2, sharex=True, sharey=True,num='Tension C13 lentille',clear=True)\n",
    "fig.suptitle('Tension C13 lentille après | 0/20/X')\n",
    "# clf()\n",
    "fig.set_size_inches(11.69,8.27)\n",
    "\n",
    "# title('Scans 866')\n",
    "# ax2 = fig.add_subplot(212,sharex=ax1)\n",
    "cl = [ cm.hot(x) for x in linspace(0,1,9)]\n",
    "cnt = 0\n",
    "for patate in range(5,10):\n",
    "    print(file_path[patate])\n",
    "    k = (patate-5) % 3\n",
    "    l = cnt//3\n",
    "    ax[k,l].plot(TP[patate]*1000000, CH[patate,0],color=cl[cnt+1],marker='',ms=2,ls='-',label = f'{int(my_label[cnt]):02.0f} V')\n",
    "    ax[k,l].plot(TP[0,:1800]*1000000, 0.01-CH[0,1,:1800]/200-0.018,color='xkcd:black',marker='',ms=2,ls='-')\n",
    "    ax[k,l].set_xlabel('[µs]')\n",
    "    ax[1,0].set_ylabel('[V]')    \n",
    "    ax[1,0].set_xlim(-20,150)\n",
    "    # ax1.set_xlim(-10.5,11)\n",
    "    # ax1.set_ylim(0,4)\n",
    "    ax[k,l].grid()\n",
    "    leg = ax[k,l].legend(loc=4)\n",
    "    leg.get_title().set_fontsize(15)\n",
    "    cnt += 1\n",
    "\n",
    "# ax1.set_xlim(-3,128)\n",
    "# ax1.set_ylim(-7,1.5)\n",
    "plt.tight_layout()\n",
    "fig.subplots_adjust(hspace=0.020, wspace=0.020,top=0.94)\n",
    "\n"
   ]
  },
  {
   "cell_type": "code",
   "execution_count": 175,
   "metadata": {},
   "outputs": [
    {
     "name": "stdout",
     "output_type": "stream",
     "text": [
      "/home/adrian/Documents/Mesures/Electrospray/190703/WA000011.CSV\n",
      "10 0 0\n",
      "/home/adrian/Documents/Mesures/Electrospray/190703/WA000012.CSV\n",
      "11 1 0\n",
      "/home/adrian/Documents/Mesures/Electrospray/190703/WA000013.CSV\n",
      "12 2 0\n",
      "/home/adrian/Documents/Mesures/Electrospray/190703/WA000014.CSV\n",
      "13 0 1\n",
      "/home/adrian/Documents/Mesures/Electrospray/190703/WA000015.CSV\n",
      "14 1 1\n",
      "/home/adrian/Documents/Mesures/Electrospray/190703/WA000016.CSV\n",
      "15 2 1\n",
      "/home/adrian/Documents/Mesures/Electrospray/190703/WA000017.CSV\n",
      "16 0 2\n",
      "/home/adrian/Documents/Mesures/Electrospray/190703/WA000018.CSV\n",
      "17 1 2\n",
      "/home/adrian/Documents/Mesures/Electrospray/190703/WA000019.CSV\n",
      "18 2 2\n"
     ]
    },
    {
     "name": "stderr",
     "output_type": "stream",
     "text": [
      "/home/adrian/.local/lib/python3.6/site-packages/matplotlib/font_manager.py:1328: UserWarning: findfont: Font family ['sans-serif'] not found. Falling back to DejaVu Sans\n",
      "  (prop.get_family(), self.defaultFamily[fontext]))\n"
     ]
    }
   ],
   "source": [
    "# plot all\n",
    "# start = 4000\n",
    "# end = 33200\n",
    "# sc = ['U1','U7','U111']\n",
    "\n",
    "my_label = ['0','20','40','60','80','100','120','130','140']\n",
    "\n",
    "fig,ax = plt.subplots(3,3, sharex=True, sharey=True,num='Tension lentille C11',clear=True)\n",
    "fig.suptitle('Tension C11 lentille avant | X/20/0')\n",
    "# clf()\n",
    "fig.set_size_inches(11.69,8.27)\n",
    "\n",
    "# title('Scans 866')\n",
    "# ax2 = fig.add_subplot(212,sharex=ax1)\n",
    "cl = [ cm.winter(x) for x in linspace(0,1,10)]\n",
    "cnt = 0\n",
    "for patate in range(10,19):\n",
    "    print(file_path[patate])\n",
    "    k = (patate-10) % 3\n",
    "    l = cnt//3\n",
    "    print(patate,k,l)\n",
    "    ax[k,l].plot(TP[patate]*1000000, CH[patate,0],color=cl[cnt+1],marker='',ms=2,ls='-',label = f'{int(my_label[cnt]):02.0f} V')\n",
    "    ax[k,l].plot(TP[0,:1800]*1000000, 0.01-CH[0,1,:1800]/100-0.018,color='xkcd:black',marker='',ms=2,ls='-')\n",
    "    ax[2,1].set_xlabel('[µs]')\n",
    "    ax[1,0].set_ylabel('[V]')    \n",
    "#     ax[1,0].set_xlim(-0.05,0.01)\n",
    "    ax[1,0].set_xlim(-20,150)\n",
    "    ax[k,l].grid()\n",
    "    leg = ax[k,l].legend(loc=4)\n",
    "    leg.get_title().set_fontsize(15)\n",
    "    cnt += 1\n",
    "\n",
    "# ax1.set_xlim(-3,128)\n",
    "# ax1.set_ylim(-7,1.5)\n",
    "plt.tight_layout()\n",
    "fig.subplots_adjust(hspace=0.020, wspace=0.020,top=0.94)\n",
    "\n"
   ]
  },
  {
   "cell_type": "code",
   "execution_count": 64,
   "metadata": {},
   "outputs": [],
   "source": [
    "# trace ES diff pulses\n",
    "# start = 4000\n",
    "# end = 33200\n",
    "# sc = ['U1','U7','U111']\n",
    "\n",
    "my_label = ['5', '10', '15', '20', '25']\n",
    "\n",
    "fig = plt.figure('all_pulses')\n",
    "clf()\n",
    "fig.set_size_inches(11.69,8.27)\n",
    "\n",
    "ax1 = fig.add_subplot(111)\n",
    "\n",
    "\n",
    "# title('Scans 866')\n",
    "# ax2 = fig.add_subplot(212,sharex=ax1)\n",
    "cl = [ cm.hsv(x) for x in linspace(0,1,6)]\n",
    "cnt = 0\n",
    "for k in [3,2,5,6,7]:\n",
    "    ax1.plot(TP[k]*1000000, CH[k,0]*1000,color=cl[cnt],marker='',ms=2,ls='-',label = f'{int(my_label[cnt]):02.0f} µs')\n",
    "    ax1.plot(TP[k]*1000000, CH[k,1]/1.5-6.5,color=cl[cnt],marker='',ms=2,ls='-')\n",
    "    cnt += 1\n",
    "ax1.set_xlabel('[µs]')\n",
    "ax1.set_ylabel('MCP signal [mV]')\n",
    "leg = ax1.legend(title='$T_{pulse}$')\n",
    "leg.get_title().set_fontsize(20)\n",
    "ax1.set_xlim(-3,128)\n",
    "ax1.set_ylim(-7,1.5)\n",
    "\n",
    "grid()\n",
    "plt.tight_layout()\n"
   ]
  },
  {
   "cell_type": "code",
   "execution_count": 36,
   "metadata": {},
   "outputs": [
    {
     "ename": "ValueError",
     "evalue": "Unknown format code 'f' for object of type 'str'",
     "output_type": "error",
     "traceback": [
      "\u001b[0;31m---------------------------------------------------------------------------\u001b[0m",
      "\u001b[0;31mValueError\u001b[0m                                Traceback (most recent call last)",
      "\u001b[0;32m<ipython-input-36-618d99b706da>\u001b[0m in \u001b[0;36m<module>\u001b[0;34m()\u001b[0m\n\u001b[0;32m----> 1\u001b[0;31m \u001b[0;34m'{:5.5f}'\u001b[0m\u001b[0;34m.\u001b[0m\u001b[0mformat\u001b[0m\u001b[0;34m(\u001b[0m\u001b[0mmy_label\u001b[0m\u001b[0;34m[\u001b[0m\u001b[0;36m2\u001b[0m\u001b[0;34m]\u001b[0m\u001b[0;34m)\u001b[0m\u001b[0;34m\u001b[0m\u001b[0;34m\u001b[0m\u001b[0m\n\u001b[0m",
      "\u001b[0;31mValueError\u001b[0m: Unknown format code 'f' for object of type 'str'"
     ]
    }
   ],
   "source": [
    "'{:5.5f}'.format(my_label[2])"
   ]
  },
  {
   "cell_type": "code",
   "execution_count": null,
   "metadata": {},
   "outputs": [],
   "source": [
    "\n",
    "# ax1.set_xlim(-0.5,130)\n",
    "# ax1.set_ylim(3000,15500)\n",
    "# ax1.yaxis.set_major_locator(matplotlib.ticker.MultipleLocator(base=1))\n",
    "# ax1.xaxis.set_major_locator(matplotlib.ticker.MultipleLocator(base=5))\n",
    "ax1.grid()\n",
    "\n",
    "plt.tight_layout()\n",
    "\n",
    "\n",
    "\n",
    "for k in range(3):\n",
    "    ax[k].plot(TP[k,start:end],CH[k,1,start:end]/10,color='xkcd:rouge',label='ramp (/10)')\n",
    "    ax[k].plot(TP[k,start:end],CH[k,0,start:end],color='xkcd:azul',label=sc[k]+' pin1')\n",
    "    ax[k].set_xlabel('[s]')\n",
    "    ax[k].set_ylabel('[V]')    \n",
    "    # ax1.set_xlim(-10.5,11)\n",
    "    # ax1.set_ylim(0,4)\n",
    "    ax[k].grid()\n",
    "    ax[k].legend(loc=6)\n",
    "#     ax[k].annotate('{}'.format(sc[k]), xy=(-4.58,0.26), xycoords='data',\n",
    "#             size=13, ha='left', va='top',\n",
    "#             bbox=dict(boxstyle='round', fc='w'))\n",
    "    \n",
    "plt.text(4,0.82,f'Amplitude varies with SPAN',\n",
    "        va=\"baseline\", ha=\"right\", multialignment=\"left\",\n",
    "         color='xkcd:azul',bbox=dict(fc=\"white\"))\n",
    "plt.text(2.8,0.52,f'Amplitude varies with SPAN',\n",
    "        va=\"baseline\", ha=\"right\", multialignment=\"left\",\n",
    "         color='xkcd:azul',bbox=dict(fc=\"white\"))\n",
    "ax[k].xaxis.set_major_locator(matplotlib.ticker.MultipleLocator(base=1))\n",
    "ax[k].yaxis.set_major_locator(matplotlib.ticker.MultipleLocator(base=0.05))\n",
    "\n",
    "\n",
    "plt.tight_layout()\n",
    "plt.subplots_adjust(hspace=0.020, top=0.94)"
   ]
  },
  {
   "cell_type": "code",
   "execution_count": 12,
   "metadata": {},
   "outputs": [
    {
     "ename": "ValueError",
     "evalue": "Image size of 6498251x581 pixels is too large. It must be less than 2^16 in each direction.",
     "output_type": "error",
     "traceback": [
      "\u001b[0;31m---------------------------------------------------------------------------\u001b[0m",
      "\u001b[0;31mValueError\u001b[0m                                Traceback (most recent call last)",
      "\u001b[0;32m~/.local/lib/python3.6/site-packages/IPython/core/formatters.py\u001b[0m in \u001b[0;36m__call__\u001b[0;34m(self, obj)\u001b[0m\n\u001b[1;32m    339\u001b[0m                 \u001b[0;32mpass\u001b[0m\u001b[0;34m\u001b[0m\u001b[0;34m\u001b[0m\u001b[0m\n\u001b[1;32m    340\u001b[0m             \u001b[0;32melse\u001b[0m\u001b[0;34m:\u001b[0m\u001b[0;34m\u001b[0m\u001b[0;34m\u001b[0m\u001b[0m\n\u001b[0;32m--> 341\u001b[0;31m                 \u001b[0;32mreturn\u001b[0m \u001b[0mprinter\u001b[0m\u001b[0;34m(\u001b[0m\u001b[0mobj\u001b[0m\u001b[0;34m)\u001b[0m\u001b[0;34m\u001b[0m\u001b[0;34m\u001b[0m\u001b[0m\n\u001b[0m\u001b[1;32m    342\u001b[0m             \u001b[0;31m# Finally look for special method names\u001b[0m\u001b[0;34m\u001b[0m\u001b[0;34m\u001b[0m\u001b[0;34m\u001b[0m\u001b[0m\n\u001b[1;32m    343\u001b[0m             \u001b[0mmethod\u001b[0m \u001b[0;34m=\u001b[0m \u001b[0mget_real_method\u001b[0m\u001b[0;34m(\u001b[0m\u001b[0mobj\u001b[0m\u001b[0;34m,\u001b[0m \u001b[0mself\u001b[0m\u001b[0;34m.\u001b[0m\u001b[0mprint_method\u001b[0m\u001b[0;34m)\u001b[0m\u001b[0;34m\u001b[0m\u001b[0;34m\u001b[0m\u001b[0m\n",
      "\u001b[0;32m~/.local/lib/python3.6/site-packages/IPython/core/pylabtools.py\u001b[0m in \u001b[0;36m<lambda>\u001b[0;34m(fig)\u001b[0m\n\u001b[1;32m    239\u001b[0m \u001b[0;34m\u001b[0m\u001b[0m\n\u001b[1;32m    240\u001b[0m     \u001b[0;32mif\u001b[0m \u001b[0;34m'png'\u001b[0m \u001b[0;32min\u001b[0m \u001b[0mformats\u001b[0m\u001b[0;34m:\u001b[0m\u001b[0;34m\u001b[0m\u001b[0;34m\u001b[0m\u001b[0m\n\u001b[0;32m--> 241\u001b[0;31m         \u001b[0mpng_formatter\u001b[0m\u001b[0;34m.\u001b[0m\u001b[0mfor_type\u001b[0m\u001b[0;34m(\u001b[0m\u001b[0mFigure\u001b[0m\u001b[0;34m,\u001b[0m \u001b[0;32mlambda\u001b[0m \u001b[0mfig\u001b[0m\u001b[0;34m:\u001b[0m \u001b[0mprint_figure\u001b[0m\u001b[0;34m(\u001b[0m\u001b[0mfig\u001b[0m\u001b[0;34m,\u001b[0m \u001b[0;34m'png'\u001b[0m\u001b[0;34m,\u001b[0m \u001b[0;34m**\u001b[0m\u001b[0mkwargs\u001b[0m\u001b[0;34m)\u001b[0m\u001b[0;34m)\u001b[0m\u001b[0;34m\u001b[0m\u001b[0;34m\u001b[0m\u001b[0m\n\u001b[0m\u001b[1;32m    242\u001b[0m     \u001b[0;32mif\u001b[0m \u001b[0;34m'retina'\u001b[0m \u001b[0;32min\u001b[0m \u001b[0mformats\u001b[0m \u001b[0;32mor\u001b[0m \u001b[0;34m'png2x'\u001b[0m \u001b[0;32min\u001b[0m \u001b[0mformats\u001b[0m\u001b[0;34m:\u001b[0m\u001b[0;34m\u001b[0m\u001b[0;34m\u001b[0m\u001b[0m\n\u001b[1;32m    243\u001b[0m         \u001b[0mpng_formatter\u001b[0m\u001b[0;34m.\u001b[0m\u001b[0mfor_type\u001b[0m\u001b[0;34m(\u001b[0m\u001b[0mFigure\u001b[0m\u001b[0;34m,\u001b[0m \u001b[0;32mlambda\u001b[0m \u001b[0mfig\u001b[0m\u001b[0;34m:\u001b[0m \u001b[0mretina_figure\u001b[0m\u001b[0;34m(\u001b[0m\u001b[0mfig\u001b[0m\u001b[0;34m,\u001b[0m \u001b[0;34m**\u001b[0m\u001b[0mkwargs\u001b[0m\u001b[0;34m)\u001b[0m\u001b[0;34m)\u001b[0m\u001b[0;34m\u001b[0m\u001b[0;34m\u001b[0m\u001b[0m\n",
      "\u001b[0;32m~/.local/lib/python3.6/site-packages/IPython/core/pylabtools.py\u001b[0m in \u001b[0;36mprint_figure\u001b[0;34m(fig, fmt, bbox_inches, **kwargs)\u001b[0m\n\u001b[1;32m    123\u001b[0m \u001b[0;34m\u001b[0m\u001b[0m\n\u001b[1;32m    124\u001b[0m     \u001b[0mbytes_io\u001b[0m \u001b[0;34m=\u001b[0m \u001b[0mBytesIO\u001b[0m\u001b[0;34m(\u001b[0m\u001b[0;34m)\u001b[0m\u001b[0;34m\u001b[0m\u001b[0;34m\u001b[0m\u001b[0m\n\u001b[0;32m--> 125\u001b[0;31m     \u001b[0mfig\u001b[0m\u001b[0;34m.\u001b[0m\u001b[0mcanvas\u001b[0m\u001b[0;34m.\u001b[0m\u001b[0mprint_figure\u001b[0m\u001b[0;34m(\u001b[0m\u001b[0mbytes_io\u001b[0m\u001b[0;34m,\u001b[0m \u001b[0;34m**\u001b[0m\u001b[0mkw\u001b[0m\u001b[0;34m)\u001b[0m\u001b[0;34m\u001b[0m\u001b[0;34m\u001b[0m\u001b[0m\n\u001b[0m\u001b[1;32m    126\u001b[0m     \u001b[0mdata\u001b[0m \u001b[0;34m=\u001b[0m \u001b[0mbytes_io\u001b[0m\u001b[0;34m.\u001b[0m\u001b[0mgetvalue\u001b[0m\u001b[0;34m(\u001b[0m\u001b[0;34m)\u001b[0m\u001b[0;34m\u001b[0m\u001b[0;34m\u001b[0m\u001b[0m\n\u001b[1;32m    127\u001b[0m     \u001b[0;32mif\u001b[0m \u001b[0mfmt\u001b[0m \u001b[0;34m==\u001b[0m \u001b[0;34m'svg'\u001b[0m\u001b[0;34m:\u001b[0m\u001b[0;34m\u001b[0m\u001b[0;34m\u001b[0m\u001b[0m\n",
      "\u001b[0;32m~/.local/lib/python3.6/site-packages/matplotlib/backend_bases.py\u001b[0m in \u001b[0;36mprint_figure\u001b[0;34m(self, filename, dpi, facecolor, edgecolor, orientation, format, **kwargs)\u001b[0m\n\u001b[1;32m   2261\u001b[0m                 \u001b[0morientation\u001b[0m\u001b[0;34m=\u001b[0m\u001b[0morientation\u001b[0m\u001b[0;34m,\u001b[0m\u001b[0;34m\u001b[0m\u001b[0;34m\u001b[0m\u001b[0m\n\u001b[1;32m   2262\u001b[0m                 \u001b[0mbbox_inches_restore\u001b[0m\u001b[0;34m=\u001b[0m\u001b[0m_bbox_inches_restore\u001b[0m\u001b[0;34m,\u001b[0m\u001b[0;34m\u001b[0m\u001b[0;34m\u001b[0m\u001b[0m\n\u001b[0;32m-> 2263\u001b[0;31m                 **kwargs)\n\u001b[0m\u001b[1;32m   2264\u001b[0m         \u001b[0;32mfinally\u001b[0m\u001b[0;34m:\u001b[0m\u001b[0;34m\u001b[0m\u001b[0;34m\u001b[0m\u001b[0m\n\u001b[1;32m   2265\u001b[0m             \u001b[0;32mif\u001b[0m \u001b[0mbbox_inches\u001b[0m \u001b[0;32mand\u001b[0m \u001b[0mrestore_bbox\u001b[0m\u001b[0;34m:\u001b[0m\u001b[0;34m\u001b[0m\u001b[0;34m\u001b[0m\u001b[0m\n",
      "\u001b[0;32m~/.local/lib/python3.6/site-packages/matplotlib/backends/backend_agg.py\u001b[0m in \u001b[0;36mprint_png\u001b[0;34m(self, filename_or_obj, *args, **kwargs)\u001b[0m\n\u001b[1;32m    511\u001b[0m \u001b[0;34m\u001b[0m\u001b[0m\n\u001b[1;32m    512\u001b[0m     \u001b[0;32mdef\u001b[0m \u001b[0mprint_png\u001b[0m\u001b[0;34m(\u001b[0m\u001b[0mself\u001b[0m\u001b[0;34m,\u001b[0m \u001b[0mfilename_or_obj\u001b[0m\u001b[0;34m,\u001b[0m \u001b[0;34m*\u001b[0m\u001b[0margs\u001b[0m\u001b[0;34m,\u001b[0m \u001b[0;34m**\u001b[0m\u001b[0mkwargs\u001b[0m\u001b[0;34m)\u001b[0m\u001b[0;34m:\u001b[0m\u001b[0;34m\u001b[0m\u001b[0;34m\u001b[0m\u001b[0m\n\u001b[0;32m--> 513\u001b[0;31m         \u001b[0mFigureCanvasAgg\u001b[0m\u001b[0;34m.\u001b[0m\u001b[0mdraw\u001b[0m\u001b[0;34m(\u001b[0m\u001b[0mself\u001b[0m\u001b[0;34m)\u001b[0m\u001b[0;34m\u001b[0m\u001b[0;34m\u001b[0m\u001b[0m\n\u001b[0m\u001b[1;32m    514\u001b[0m         \u001b[0mrenderer\u001b[0m \u001b[0;34m=\u001b[0m \u001b[0mself\u001b[0m\u001b[0;34m.\u001b[0m\u001b[0mget_renderer\u001b[0m\u001b[0;34m(\u001b[0m\u001b[0;34m)\u001b[0m\u001b[0;34m\u001b[0m\u001b[0;34m\u001b[0m\u001b[0m\n\u001b[1;32m    515\u001b[0m         \u001b[0moriginal_dpi\u001b[0m \u001b[0;34m=\u001b[0m \u001b[0mrenderer\u001b[0m\u001b[0;34m.\u001b[0m\u001b[0mdpi\u001b[0m\u001b[0;34m\u001b[0m\u001b[0;34m\u001b[0m\u001b[0m\n",
      "\u001b[0;32m~/.local/lib/python3.6/site-packages/matplotlib/backends/backend_agg.py\u001b[0m in \u001b[0;36mdraw\u001b[0;34m(self)\u001b[0m\n\u001b[1;32m    423\u001b[0m         \u001b[0mDraw\u001b[0m \u001b[0mthe\u001b[0m \u001b[0mfigure\u001b[0m \u001b[0musing\u001b[0m \u001b[0mthe\u001b[0m \u001b[0mrenderer\u001b[0m\u001b[0;34m\u001b[0m\u001b[0;34m\u001b[0m\u001b[0m\n\u001b[1;32m    424\u001b[0m         \"\"\"\n\u001b[0;32m--> 425\u001b[0;31m         \u001b[0mself\u001b[0m\u001b[0;34m.\u001b[0m\u001b[0mrenderer\u001b[0m \u001b[0;34m=\u001b[0m \u001b[0mself\u001b[0m\u001b[0;34m.\u001b[0m\u001b[0mget_renderer\u001b[0m\u001b[0;34m(\u001b[0m\u001b[0mcleared\u001b[0m\u001b[0;34m=\u001b[0m\u001b[0;32mTrue\u001b[0m\u001b[0;34m)\u001b[0m\u001b[0;34m\u001b[0m\u001b[0;34m\u001b[0m\u001b[0m\n\u001b[0m\u001b[1;32m    426\u001b[0m         \u001b[0;31m# acquire a lock on the shared font cache\u001b[0m\u001b[0;34m\u001b[0m\u001b[0;34m\u001b[0m\u001b[0;34m\u001b[0m\u001b[0m\n\u001b[1;32m    427\u001b[0m         \u001b[0mRendererAgg\u001b[0m\u001b[0;34m.\u001b[0m\u001b[0mlock\u001b[0m\u001b[0;34m.\u001b[0m\u001b[0macquire\u001b[0m\u001b[0;34m(\u001b[0m\u001b[0;34m)\u001b[0m\u001b[0;34m\u001b[0m\u001b[0;34m\u001b[0m\u001b[0m\n",
      "\u001b[0;32m~/.local/lib/python3.6/site-packages/matplotlib/backends/backend_agg.py\u001b[0m in \u001b[0;36mget_renderer\u001b[0;34m(self, cleared)\u001b[0m\n\u001b[1;32m    448\u001b[0m \u001b[0;34m\u001b[0m\u001b[0m\n\u001b[1;32m    449\u001b[0m         \u001b[0;32mif\u001b[0m \u001b[0mneed_new_renderer\u001b[0m\u001b[0;34m:\u001b[0m\u001b[0;34m\u001b[0m\u001b[0;34m\u001b[0m\u001b[0m\n\u001b[0;32m--> 450\u001b[0;31m             \u001b[0mself\u001b[0m\u001b[0;34m.\u001b[0m\u001b[0mrenderer\u001b[0m \u001b[0;34m=\u001b[0m \u001b[0mRendererAgg\u001b[0m\u001b[0;34m(\u001b[0m\u001b[0mw\u001b[0m\u001b[0;34m,\u001b[0m \u001b[0mh\u001b[0m\u001b[0;34m,\u001b[0m \u001b[0mself\u001b[0m\u001b[0;34m.\u001b[0m\u001b[0mfigure\u001b[0m\u001b[0;34m.\u001b[0m\u001b[0mdpi\u001b[0m\u001b[0;34m)\u001b[0m\u001b[0;34m\u001b[0m\u001b[0;34m\u001b[0m\u001b[0m\n\u001b[0m\u001b[1;32m    451\u001b[0m             \u001b[0mself\u001b[0m\u001b[0;34m.\u001b[0m\u001b[0m_lastKey\u001b[0m \u001b[0;34m=\u001b[0m \u001b[0mkey\u001b[0m\u001b[0;34m\u001b[0m\u001b[0;34m\u001b[0m\u001b[0m\n\u001b[1;32m    452\u001b[0m         \u001b[0;32melif\u001b[0m \u001b[0mcleared\u001b[0m\u001b[0;34m:\u001b[0m\u001b[0;34m\u001b[0m\u001b[0;34m\u001b[0m\u001b[0m\n",
      "\u001b[0;32m~/.local/lib/python3.6/site-packages/matplotlib/backends/backend_agg.py\u001b[0m in \u001b[0;36m__init__\u001b[0;34m(self, width, height, dpi)\u001b[0m\n\u001b[1;32m     95\u001b[0m         \u001b[0mself\u001b[0m\u001b[0;34m.\u001b[0m\u001b[0mwidth\u001b[0m \u001b[0;34m=\u001b[0m \u001b[0mwidth\u001b[0m\u001b[0;34m\u001b[0m\u001b[0;34m\u001b[0m\u001b[0m\n\u001b[1;32m     96\u001b[0m         \u001b[0mself\u001b[0m\u001b[0;34m.\u001b[0m\u001b[0mheight\u001b[0m \u001b[0;34m=\u001b[0m \u001b[0mheight\u001b[0m\u001b[0;34m\u001b[0m\u001b[0;34m\u001b[0m\u001b[0m\n\u001b[0;32m---> 97\u001b[0;31m         \u001b[0mself\u001b[0m\u001b[0;34m.\u001b[0m\u001b[0m_renderer\u001b[0m \u001b[0;34m=\u001b[0m \u001b[0m_RendererAgg\u001b[0m\u001b[0;34m(\u001b[0m\u001b[0mint\u001b[0m\u001b[0;34m(\u001b[0m\u001b[0mwidth\u001b[0m\u001b[0;34m)\u001b[0m\u001b[0;34m,\u001b[0m \u001b[0mint\u001b[0m\u001b[0;34m(\u001b[0m\u001b[0mheight\u001b[0m\u001b[0;34m)\u001b[0m\u001b[0;34m,\u001b[0m \u001b[0mdpi\u001b[0m\u001b[0;34m)\u001b[0m\u001b[0;34m\u001b[0m\u001b[0;34m\u001b[0m\u001b[0m\n\u001b[0m\u001b[1;32m     98\u001b[0m         \u001b[0mself\u001b[0m\u001b[0;34m.\u001b[0m\u001b[0m_filter_renderers\u001b[0m \u001b[0;34m=\u001b[0m \u001b[0;34m[\u001b[0m\u001b[0;34m]\u001b[0m\u001b[0;34m\u001b[0m\u001b[0;34m\u001b[0m\u001b[0m\n\u001b[1;32m     99\u001b[0m \u001b[0;34m\u001b[0m\u001b[0m\n",
      "\u001b[0;31mValueError\u001b[0m: Image size of 6498251x581 pixels is too large. It must be less than 2^16 in each direction."
     ]
    },
    {
     "data": {
      "text/plain": [
       "<Figure size 841.68x595.44 with 3 Axes>"
      ]
     },
     "metadata": {},
     "output_type": "display_data"
    }
   ],
   "source": [
    "# trace potentiel\n",
    "start = 4000\n",
    "end = 33200\n",
    "sc = ['U1','U7','U111']\n",
    "\n",
    "fig,ax = plt.subplots(3,1, sharex=True, sharey=True,num=542,clear=True)\n",
    "\n",
    "plt.suptitle('CEL diagnostics')\n",
    "fig.set_size_inches(11.69,8.27)\n",
    "\n",
    "for k in range(3):\n",
    "    ax[k].plot(TP[k,start:end],CH[k,1,start:end]/10,color='xkcd:rouge',label='ramp (/10)')\n",
    "    ax[k].plot(TP[k,start:end],CH[k,0,start:end],color='xkcd:azul',label=sc[k]+' pin1')\n",
    "    ax[k].set_xlabel('[s]')\n",
    "    ax[k].set_ylabel('[V]')    \n",
    "    # ax1.set_xlim(-10.5,11)\n",
    "    # ax1.set_ylim(0,4)\n",
    "    ax[k].grid()\n",
    "    ax[k].legend(loc=6)\n",
    "#     ax[k].annotate('{}'.format(sc[k]), xy=(-4.58,0.26), xycoords='data',\n",
    "#             size=13, ha='left', va='top',\n",
    "#             bbox=dict(boxstyle='round', fc='w'))\n",
    "    \n",
    "plt.text(4,0.82,f'Amplitude varies with SPAN',\n",
    "        va=\"baseline\", ha=\"right\", multialignment=\"left\",\n",
    "         color='xkcd:azul',bbox=dict(fc=\"white\"))\n",
    "plt.text(2.8,0.52,f'Amplitude varies with SPAN',\n",
    "        va=\"baseline\", ha=\"right\", multialignment=\"left\",\n",
    "         color='xkcd:azul',bbox=dict(fc=\"white\"))\n",
    "ax[k].xaxis.set_major_locator(matplotlib.ticker.MultipleLocator(base=1))\n",
    "ax[k].yaxis.set_major_locator(matplotlib.ticker.MultipleLocator(base=0.05))\n",
    "\n",
    "\n",
    "plt.tight_layout()\n",
    "plt.subplots_adjust(hspace=0.020, top=0.94)"
   ]
  },
  {
   "cell_type": "code",
   "execution_count": 33,
   "metadata": {},
   "outputs": [],
   "source": [
    "# trace potentiel\n",
    "fig,ax = plt.subplots(3,1, sharex=True, num=542,clear=True)\n",
    "\n",
    "plt.suptitle('MCP signals')\n",
    "fig.set_size_inches(11.69,8.27)\n",
    "\n",
    "for k in range(3):\n",
    "    ax[k].plot(TP[k,0:-1000],CH[k,0,0:-1000]/10,color='xkcd:vermillion')\n",
    "    ax[k].plot(TP[k,0:-1000],-CH[k,1,0:-1000]/1000,color='xkcd:azul')\n",
    "    ax[k].set_xlabel('[s]')\n",
    "    ax[k].set_ylabel('[V]')    \n",
    "    # ax1.set_xlim(-10.5,11)\n",
    "    # ax1.set_ylim(0,4)\n",
    "    ax[k].grid()\n",
    "#     ax[k].annotate('{}'.format(sc[k]), xy=(-4.58,0.26), xycoords='data',\n",
    "#             size=13, ha='left', va='top',\n",
    "#             bbox=dict(boxstyle='round', fc='w'))\n",
    "    \n",
    "# plt.text(4,0.82,f'Amplitude varies with SPAN',\n",
    "#         va=\"baseline\", ha=\"right\", multialignment=\"left\",\n",
    "#          color='xkcd:azul',bbox=dict(fc=\"white\"))\n",
    "# plt.text(2.8,0.52,f'Amplitude varies with SPAN',\n",
    "#         va=\"baseline\", ha=\"right\", multialignment=\"left\",\n",
    "#          color='xkcd:azul',bbox=dict(fc=\"white\"))\n",
    "# ax[k].xaxis.set_major_locator(matplotlib.ticker.MultipleLocator(base=1))\n",
    "# ax[k].yaxis.set_major_locator(matplotlib.ticker.MultipleLocator(base=0.05))\n",
    "\n",
    "\n",
    "plt.tight_layout()\n",
    "plt.subplots_adjust(hspace=0.020, top=0.94)"
   ]
  }
 ],
 "metadata": {
  "kernelspec": {
   "display_name": "Python 3",
   "language": "python",
   "name": "python3"
  },
  "language_info": {
   "codemirror_mode": {
    "name": "ipython",
    "version": 3
   },
   "file_extension": ".py",
   "mimetype": "text/x-python",
   "name": "python",
   "nbconvert_exporter": "python",
   "pygments_lexer": "ipython3",
   "version": "3.6.7"
  }
 },
 "nbformat": 4,
 "nbformat_minor": 2
}
