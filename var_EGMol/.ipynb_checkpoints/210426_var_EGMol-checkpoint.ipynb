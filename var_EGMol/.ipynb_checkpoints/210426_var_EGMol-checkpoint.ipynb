{
 "cells": [
  {
   "cell_type": "code",
   "execution_count": null,
   "metadata": {},
   "outputs": [],
   "source": [
    "###########################################################\n",
    "#                                                         #\n",
    "#               TRAITEMENT SIMUS FORTRAN                  #\n",
    "#                     STATISTIQUES                        #\n",
    "#                                                         #\n",
    "#                                                         #\n",
    "#                          04/2021     Adrien Poindron    #\n",
    "###########################################################"
   ]
  },
  {
   "cell_type": "code",
   "execution_count": null,
   "metadata": {},
   "outputs": [],
   "source": [
    "from IPython.core.display import display, HTML\n",
    "display(HTML(\"<style>.container { width:95% !important; }</style>\"))\n",
    "matplotlib.rcParams['figure.figsize'] = [10.5,7]\n",
    "matplotlib.rcParams.update({'font.size': 25})"
   ]
  },
  {
   "cell_type": "markdown",
   "metadata": {},
   "source": [
    "# Imports"
   ]
  },
  {
   "cell_type": "code",
   "execution_count": 71,
   "metadata": {},
   "outputs": [],
   "source": [
    "# %pylab\n",
    "\n",
    "import numpy\n",
    "import matplotlib\n",
    "from matplotlib.patches import Ellipse\n",
    "from matplotlib import pylab, mlab, pyplot\n",
    "from mpl_toolkits.mplot3d import Axes3D\n",
    "np = numpy\n",
    "plt = pyplot\n",
    "\n",
    "matplotlib.rcParams.update({'font.size': 21})\n",
    "# matplotlib.rcParams[\"figure.dpi\"] = 300\n",
    "\n",
    "from IPython.display import display\n",
    "from IPython.core.pylabtools import figsize, getfigs\n",
    "\n",
    "from pylab import *\n",
    "from numpy import *\n",
    "\n",
    "from scipy.optimize import curve_fit"
   ]
  },
  {
   "cell_type": "code",
   "execution_count": 72,
   "metadata": {},
   "outputs": [],
   "source": [
    "import os\n",
    "from os import listdir\n",
    "from os.path import isfile, join\n",
    "\n",
    "import tkinter as tk\n",
    "from tkinter import filedialog\n",
    "%matplotlib qt\n",
    "\n",
    "import matplotlib.patches as patches\n",
    "\n",
    "from pathlib import Path\n",
    "from matplotlib import gridspec\n",
    "from mpl_toolkits.axes_grid1.inset_locator import zoomed_inset_axes\n",
    "from mpl_toolkits.axes_grid1.inset_locator import mark_inset"
   ]
  },
  {
   "cell_type": "code",
   "execution_count": 73,
   "metadata": {},
   "outputs": [],
   "source": [
    "from natsort import natsorted   # natural sort marche de ouf\n",
    "import re                       # find '/' in strings\n",
    "import timeit\n",
    "cm = pylab.get_cmap('summer')   # colormap par défaut color=cm(k/len(array))"
   ]
  },
  {
   "cell_type": "code",
   "execution_count": 74,
   "metadata": {},
   "outputs": [],
   "source": [
    "# Fonctions persos de Jofre et Adrien\n",
    "\n",
    "# %run function_jofre.ipy\n",
    "%run \"../Functions/210426_stopping_power.py\""
   ]
  },
  {
   "cell_type": "code",
   "execution_count": 75,
   "metadata": {},
   "outputs": [
    {
     "name": "stdout",
     "output_type": "stream",
     "text": [
      "$\\kappa_{simion}$ = 0.270471\n"
     ]
    }
   ],
   "source": [
    "# Constantes de la physique\n",
    "# ABSOLUMENT RECHARGER APRÈS AVOIR EXECUTÉ LES CASES D'IMPORT AU DESSUS\n",
    "\n",
    "C_e = 1.602e-19        # Coulomb\n",
    "kb = 1.38064852*1e-23  # Boltzman\n",
    "m_Ca = 40.078*1.66054e-27 # masse Ca 40.078\n",
    "m_GM = 1e6*1.66054e-27 # la masse de la GMol\n",
    "eps0 = 8.854187*1e-12  # permittivité électrique du vide\n",
    "\n",
    "r0 = 2.5e-3 # 2.5e-3   # rayon piège Ca+\n",
    "d0 = 4e-3/2            # longueur piège Ca+\n",
    "\n",
    "Omega = 2.05e6*2*pi # 2.047e6\n",
    "\n",
    "bk = 4 # nombre de barreaux par groupe (2 -> 4-pole , 4 -> 8-pole ...)\n",
    "\n",
    "mkappa = 0.23          # écrantage piège réel GiantMol\n",
    "wzLC = (2*pi*90806.9982303)**2\n",
    "kappa_simion = m_Ca*d0**2*wzLC/(2*C_e)\n",
    "print('%s = %f' % ('$\\kappa_{simion}$',kappa_simion) )\n",
    "\n",
    "zeta = kappa_simion*r0**2/d0**2"
   ]
  },
  {
   "cell_type": "markdown",
   "metadata": {},
   "source": [
    "# Sélection fichier"
   ]
  },
  {
   "cell_type": "code",
   "execution_count": 77,
   "metadata": {},
   "outputs": [
    {
     "name": "stdout",
     "output_type": "stream",
     "text": [
      "> Répertoire : /home/adrian/RemoteFS/Rivendel/20210426/EGMol07/Try00\n",
      "> Filename : Temp_SimuTypeQ_N01024_Vrf0064_Udc0.2000D+01V_D1.0_S1.0RFG.dat\n",
      "> myslashpos | [0, 5, 12, 21, 30, 39, 47]\n",
      "> slashcond | 5\n",
      "Points deleted because they were not complete []   0 pt(s)\n",
      "Total number of data directories 70\n"
     ]
    }
   ],
   "source": [
    "## GUI for data loading\n",
    "# Select one data file all the way down to the directories\n",
    "# Temp_SimuType0_N01024_Vrf0064_Udc0.5000D+00V_D1.0_S1.0RFG.dat\n",
    "\n",
    "file_cfg, slash_cfg, all_subdir = load_gui(filter_nocomplete=1)\n",
    "\n",
    "file_path = file_cfg[0]\n",
    "dir_path = file_cfg[1]\n",
    "work_rep = file_cfg[2]\n",
    "filename = file_cfg[3]\n",
    "\n",
    "myslashpos = slash_cfg[0]\n",
    "slashcond = slash_cfg[1]"
   ]
  },
  {
   "cell_type": "code",
   "execution_count": 78,
   "metadata": {
    "scrolled": true
   },
   "outputs": [
    {
     "name": "stdout",
     "output_type": "stream",
     "text": [
      "['EGMol07', 'EGMol08', 'EGMol09', 'EGMol10', 'EGMol11', 'EGMol12', 'EGMol13']\n",
      "> condition names ['EGMol']\n",
      "> number of points 7\n",
      "> N_ions = 1024\n",
      "> e_GMol = 50\n"
     ]
    }
   ],
   "source": [
    "## Condition for data\n",
    "points_and_coord, condition_parameters = simu_conditions(all_subdir, myslashpos, slashcond, filename)"
   ]
  },
  {
   "cell_type": "code",
   "execution_count": 79,
   "metadata": {
    "scrolled": true
   },
   "outputs": [
    {
     "name": "stdout",
     "output_type": "stream",
     "text": [
      "> Points | 7\n",
      "> Simulations pour chaque point | ['Try00', 'Try01', 'Try02', 'Try03', 'Try04', 'Try05', 'Try06', 'Try07', 'Try08', 'Try09']\n",
      "Hello\n",
      "Point n° 0\n",
      "00 - 00  >  /home/adrian/RemoteFS/Rivendel/20210426/EGMol07/Try00/Temp_SimuTypeQ_N01024_Vrf0064_Udc0.2000D+01V_D1.0_S1.0RFG\n",
      "['Temp_SimuType2_01_N01024_Vrf0064_Udc0.2000D+01V_D1.0_S1.0RFG50eV.dat', 'Temp_SimuTypeQ_N01024_Vrf0064_Udc0.2000D+01V_D1.0_S1.0RFG.dat', 'Temp_SimuType4_01_N01024_Vrf0064_Udc0.2000D+01V_D1.0_S1.0RFG50eV.dat']\n",
      "00 - 01  >  /home/adrian/RemoteFS/Rivendel/20210426/EGMol07/Try01/Temp_SimuTypeQ_N01024_Vrf0064_Udc0.2000D+01V_D1.0_S1.0RFG\n",
      "['Temp_SimuType2_01_N01024_Vrf0064_Udc0.2000D+01V_D1.0_S1.0RFG50eV.dat', 'Temp_SimuTypeQ_N01024_Vrf0064_Udc0.2000D+01V_D1.0_S1.0RFG.dat', 'Temp_SimuType4_01_N01024_Vrf0064_Udc0.2000D+01V_D1.0_S1.0RFG50eV.dat']\n",
      "00 - 02  >  /home/adrian/RemoteFS/Rivendel/20210426/EGMol07/Try02/Temp_SimuTypeQ_N01024_Vrf0064_Udc0.2000D+01V_D1.0_S1.0RFG\n",
      "['Temp_SimuType2_01_N01024_Vrf0064_Udc0.2000D+01V_D1.0_S1.0RFG50eV.dat', 'Temp_SimuTypeQ_N01024_Vrf0064_Udc0.2000D+01V_D1.0_S1.0RFG.dat', 'Temp_SimuType4_01_N01024_Vrf0064_Udc0.2000D+01V_D1.0_S1.0RFG50eV.dat']\n",
      "00 - 03  >  /home/adrian/RemoteFS/Rivendel/20210426/EGMol07/Try03/Temp_SimuTypeQ_N01024_Vrf0064_Udc0.2000D+01V_D1.0_S1.0RFG\n",
      "['Temp_SimuType2_01_N01024_Vrf0064_Udc0.2000D+01V_D1.0_S1.0RFG50eV.dat', 'Temp_SimuTypeQ_N01024_Vrf0064_Udc0.2000D+01V_D1.0_S1.0RFG.dat', 'Temp_SimuType4_01_N01024_Vrf0064_Udc0.2000D+01V_D1.0_S1.0RFG50eV.dat']\n",
      "00 - 04  >  /home/adrian/RemoteFS/Rivendel/20210426/EGMol07/Try04/Temp_SimuTypeQ_N01024_Vrf0064_Udc0.2000D+01V_D1.0_S1.0RFG\n",
      "['Temp_SimuType2_01_N01024_Vrf0064_Udc0.2000D+01V_D1.0_S1.0RFG50eV.dat', 'Temp_SimuTypeQ_N01024_Vrf0064_Udc0.2000D+01V_D1.0_S1.0RFG.dat', 'Temp_SimuType4_01_N01024_Vrf0064_Udc0.2000D+01V_D1.0_S1.0RFG50eV.dat']\n",
      "00 - 05  >  /home/adrian/RemoteFS/Rivendel/20210426/EGMol07/Try05/Temp_SimuTypeQ_N01024_Vrf0064_Udc0.2000D+01V_D1.0_S1.0RFG\n",
      "['Temp_SimuType2_01_N01024_Vrf0064_Udc0.2000D+01V_D1.0_S1.0RFG50eV.dat', 'Temp_SimuTypeQ_N01024_Vrf0064_Udc0.2000D+01V_D1.0_S1.0RFG.dat', 'Temp_SimuType4_01_N01024_Vrf0064_Udc0.2000D+01V_D1.0_S1.0RFG50eV.dat']\n",
      "00 - 06  >  /home/adrian/RemoteFS/Rivendel/20210426/EGMol07/Try06/Temp_SimuTypeQ_N01024_Vrf0064_Udc0.2000D+01V_D1.0_S1.0RFG\n",
      "['Temp_SimuType2_01_N01024_Vrf0064_Udc0.2000D+01V_D1.0_S1.0RFG50eV.dat', 'Temp_SimuTypeQ_N01024_Vrf0064_Udc0.2000D+01V_D1.0_S1.0RFG.dat', 'Temp_SimuType4_01_N01024_Vrf0064_Udc0.2000D+01V_D1.0_S1.0RFG50eV.dat']\n",
      "00 - 07  >  /home/adrian/RemoteFS/Rivendel/20210426/EGMol07/Try07/Temp_SimuTypeQ_N01024_Vrf0064_Udc0.2000D+01V_D1.0_S1.0RFG\n",
      "['Temp_SimuType2_01_N01024_Vrf0064_Udc0.2000D+01V_D1.0_S1.0RFG50eV.dat', 'Temp_SimuTypeQ_N01024_Vrf0064_Udc0.2000D+01V_D1.0_S1.0RFG.dat', 'Temp_SimuType4_01_N01024_Vrf0064_Udc0.2000D+01V_D1.0_S1.0RFG50eV.dat']\n",
      "00 - 08  >  /home/adrian/RemoteFS/Rivendel/20210426/EGMol07/Try08/Temp_SimuTypeQ_N01024_Vrf0064_Udc0.2000D+01V_D1.0_S1.0RFG\n",
      "['Temp_SimuType2_01_N01024_Vrf0064_Udc0.2000D+01V_D1.0_S1.0RFG50eV.dat', 'Temp_SimuTypeQ_N01024_Vrf0064_Udc0.2000D+01V_D1.0_S1.0RFG.dat', 'Temp_SimuType4_01_N01024_Vrf0064_Udc0.2000D+01V_D1.0_S1.0RFG50eV.dat']\n",
      "00 - 09  >  /home/adrian/RemoteFS/Rivendel/20210426/EGMol07/Try09/Temp_SimuTypeQ_N01024_Vrf0064_Udc0.2000D+01V_D1.0_S1.0RFG\n",
      "['Temp_SimuType2_01_N01024_Vrf0064_Udc0.2000D+01V_D1.0_S1.0RFG50eV.dat', 'Temp_SimuTypeQ_N01024_Vrf0064_Udc0.2000D+01V_D1.0_S1.0RFG.dat', 'Temp_SimuType4_01_N01024_Vrf0064_Udc0.2000D+01V_D1.0_S1.0RFG50eV.dat']\n",
      "Point n° 1\n",
      "01 - 00  >  /home/adrian/RemoteFS/Rivendel/20210426/EGMol08/Try00/Temp_SimuTypeQ_N01024_Vrf0064_Udc0.2000D+01V_D1.0_S1.0RFG\n",
      "['Temp_SimuTypeQ_N01024_Vrf0064_Udc0.2000D+01V_D1.0_S1.0RFG.dat', 'Temp_SimuType4_01_N01024_Vrf0064_Udc0.2000D+01V_D1.0_S1.0RFG10eV.dat', 'Temp_SimuType2_01_N01024_Vrf0064_Udc0.2000D+01V_D1.0_S1.0RFG10eV.dat']\n",
      "01 - 01  >  /home/adrian/RemoteFS/Rivendel/20210426/EGMol08/Try01/Temp_SimuTypeQ_N01024_Vrf0064_Udc0.2000D+01V_D1.0_S1.0RFG\n",
      "['Temp_SimuTypeQ_N01024_Vrf0064_Udc0.2000D+01V_D1.0_S1.0RFG.dat', 'Temp_SimuType4_01_N01024_Vrf0064_Udc0.2000D+01V_D1.0_S1.0RFG10eV.dat', 'Temp_SimuType2_01_N01024_Vrf0064_Udc0.2000D+01V_D1.0_S1.0RFG10eV.dat']\n",
      "01 - 02  >  /home/adrian/RemoteFS/Rivendel/20210426/EGMol08/Try02/Temp_SimuTypeQ_N01024_Vrf0064_Udc0.2000D+01V_D1.0_S1.0RFG\n",
      "['Temp_SimuTypeQ_N01024_Vrf0064_Udc0.2000D+01V_D1.0_S1.0RFG.dat', 'Temp_SimuType4_01_N01024_Vrf0064_Udc0.2000D+01V_D1.0_S1.0RFG10eV.dat', 'Temp_SimuType2_01_N01024_Vrf0064_Udc0.2000D+01V_D1.0_S1.0RFG10eV.dat']\n",
      "01 - 03  >  /home/adrian/RemoteFS/Rivendel/20210426/EGMol08/Try03/Temp_SimuTypeQ_N01024_Vrf0064_Udc0.2000D+01V_D1.0_S1.0RFG\n",
      "['Temp_SimuTypeQ_N01024_Vrf0064_Udc0.2000D+01V_D1.0_S1.0RFG.dat', 'Temp_SimuType4_01_N01024_Vrf0064_Udc0.2000D+01V_D1.0_S1.0RFG10eV.dat', 'Temp_SimuType2_01_N01024_Vrf0064_Udc0.2000D+01V_D1.0_S1.0RFG10eV.dat']\n",
      "01 - 04  >  /home/adrian/RemoteFS/Rivendel/20210426/EGMol08/Try04/Temp_SimuTypeQ_N01024_Vrf0064_Udc0.2000D+01V_D1.0_S1.0RFG\n",
      "['Temp_SimuTypeQ_N01024_Vrf0064_Udc0.2000D+01V_D1.0_S1.0RFG.dat', 'Temp_SimuType4_01_N01024_Vrf0064_Udc0.2000D+01V_D1.0_S1.0RFG10eV.dat', 'Temp_SimuType2_01_N01024_Vrf0064_Udc0.2000D+01V_D1.0_S1.0RFG10eV.dat']\n",
      "01 - 05  >  /home/adrian/RemoteFS/Rivendel/20210426/EGMol08/Try05/Temp_SimuTypeQ_N01024_Vrf0064_Udc0.2000D+01V_D1.0_S1.0RFG\n",
      "['Temp_SimuTypeQ_N01024_Vrf0064_Udc0.2000D+01V_D1.0_S1.0RFG.dat', 'Temp_SimuType4_01_N01024_Vrf0064_Udc0.2000D+01V_D1.0_S1.0RFG10eV.dat', 'Temp_SimuType2_01_N01024_Vrf0064_Udc0.2000D+01V_D1.0_S1.0RFG10eV.dat']\n",
      "01 - 06  >  /home/adrian/RemoteFS/Rivendel/20210426/EGMol08/Try06/Temp_SimuTypeQ_N01024_Vrf0064_Udc0.2000D+01V_D1.0_S1.0RFG\n",
      "['Temp_SimuTypeQ_N01024_Vrf0064_Udc0.2000D+01V_D1.0_S1.0RFG.dat', 'Temp_SimuType4_01_N01024_Vrf0064_Udc0.2000D+01V_D1.0_S1.0RFG10eV.dat', 'Temp_SimuType2_01_N01024_Vrf0064_Udc0.2000D+01V_D1.0_S1.0RFG10eV.dat']\n",
      "01 - 07  >  /home/adrian/RemoteFS/Rivendel/20210426/EGMol08/Try07/Temp_SimuTypeQ_N01024_Vrf0064_Udc0.2000D+01V_D1.0_S1.0RFG\n",
      "['Temp_SimuTypeQ_N01024_Vrf0064_Udc0.2000D+01V_D1.0_S1.0RFG.dat', 'Temp_SimuType4_01_N01024_Vrf0064_Udc0.2000D+01V_D1.0_S1.0RFG10eV.dat', 'Temp_SimuType2_01_N01024_Vrf0064_Udc0.2000D+01V_D1.0_S1.0RFG10eV.dat']\n",
      "01 - 08  >  /home/adrian/RemoteFS/Rivendel/20210426/EGMol08/Try08/Temp_SimuTypeQ_N01024_Vrf0064_Udc0.2000D+01V_D1.0_S1.0RFG\n",
      "['Temp_SimuTypeQ_N01024_Vrf0064_Udc0.2000D+01V_D1.0_S1.0RFG.dat', 'Temp_SimuType4_01_N01024_Vrf0064_Udc0.2000D+01V_D1.0_S1.0RFG10eV.dat', 'Temp_SimuType2_01_N01024_Vrf0064_Udc0.2000D+01V_D1.0_S1.0RFG10eV.dat']\n",
      "01 - 09  >  /home/adrian/RemoteFS/Rivendel/20210426/EGMol08/Try09/Temp_SimuTypeQ_N01024_Vrf0064_Udc0.2000D+01V_D1.0_S1.0RFG\n",
      "['Temp_SimuTypeQ_N01024_Vrf0064_Udc0.2000D+01V_D1.0_S1.0RFG.dat', 'Temp_SimuType4_01_N01024_Vrf0064_Udc0.2000D+01V_D1.0_S1.0RFG10eV.dat', 'Temp_SimuType2_01_N01024_Vrf0064_Udc0.2000D+01V_D1.0_S1.0RFG10eV.dat']\n",
      "Point n° 2\n",
      "02 - 00  >  /home/adrian/RemoteFS/Rivendel/20210426/EGMol09/Try00/Temp_SimuTypeQ_N01024_Vrf0064_Udc0.2000D+01V_D1.0_S1.0RFG\n",
      "['Temp_SimuType2_01_N01024_Vrf0064_Udc0.2000D+01V_D1.0_S1.0RFG8eV.dat', 'Temp_SimuType4_01_N01024_Vrf0064_Udc0.2000D+01V_D1.0_S1.0RFG8eV.dat', 'Temp_SimuTypeQ_N01024_Vrf0064_Udc0.2000D+01V_D1.0_S1.0RFG.dat']\n",
      "02 - 01  >  /home/adrian/RemoteFS/Rivendel/20210426/EGMol09/Try01/Temp_SimuTypeQ_N01024_Vrf0064_Udc0.2000D+01V_D1.0_S1.0RFG\n",
      "['Temp_SimuType2_01_N01024_Vrf0064_Udc0.2000D+01V_D1.0_S1.0RFG8eV.dat', 'Temp_SimuType4_01_N01024_Vrf0064_Udc0.2000D+01V_D1.0_S1.0RFG8eV.dat', 'Temp_SimuTypeQ_N01024_Vrf0064_Udc0.2000D+01V_D1.0_S1.0RFG.dat']\n",
      "02 - 02  >  /home/adrian/RemoteFS/Rivendel/20210426/EGMol09/Try02/Temp_SimuTypeQ_N01024_Vrf0064_Udc0.2000D+01V_D1.0_S1.0RFG\n",
      "['Temp_SimuType2_01_N01024_Vrf0064_Udc0.2000D+01V_D1.0_S1.0RFG8eV.dat', 'Temp_SimuType4_01_N01024_Vrf0064_Udc0.2000D+01V_D1.0_S1.0RFG8eV.dat', 'Temp_SimuTypeQ_N01024_Vrf0064_Udc0.2000D+01V_D1.0_S1.0RFG.dat']\n",
      "02 - 03  >  /home/adrian/RemoteFS/Rivendel/20210426/EGMol09/Try03/Temp_SimuTypeQ_N01024_Vrf0064_Udc0.2000D+01V_D1.0_S1.0RFG\n",
      "['Temp_SimuType2_01_N01024_Vrf0064_Udc0.2000D+01V_D1.0_S1.0RFG8eV.dat', 'Temp_SimuType4_01_N01024_Vrf0064_Udc0.2000D+01V_D1.0_S1.0RFG8eV.dat', 'Temp_SimuTypeQ_N01024_Vrf0064_Udc0.2000D+01V_D1.0_S1.0RFG.dat']\n",
      "02 - 04  >  /home/adrian/RemoteFS/Rivendel/20210426/EGMol09/Try04/Temp_SimuTypeQ_N01024_Vrf0064_Udc0.2000D+01V_D1.0_S1.0RFG\n",
      "['Temp_SimuType2_01_N01024_Vrf0064_Udc0.2000D+01V_D1.0_S1.0RFG8eV.dat', 'Temp_SimuType4_01_N01024_Vrf0064_Udc0.2000D+01V_D1.0_S1.0RFG8eV.dat', 'Temp_SimuTypeQ_N01024_Vrf0064_Udc0.2000D+01V_D1.0_S1.0RFG.dat']\n"
     ]
    },
    {
     "name": "stdout",
     "output_type": "stream",
     "text": [
      "02 - 05  >  /home/adrian/RemoteFS/Rivendel/20210426/EGMol09/Try05/Temp_SimuTypeQ_N01024_Vrf0064_Udc0.2000D+01V_D1.0_S1.0RFG\n",
      "['Temp_SimuType2_01_N01024_Vrf0064_Udc0.2000D+01V_D1.0_S1.0RFG8eV.dat', 'Temp_SimuType4_01_N01024_Vrf0064_Udc0.2000D+01V_D1.0_S1.0RFG8eV.dat', 'Temp_SimuTypeQ_N01024_Vrf0064_Udc0.2000D+01V_D1.0_S1.0RFG.dat']\n",
      "02 - 06  >  /home/adrian/RemoteFS/Rivendel/20210426/EGMol09/Try06/Temp_SimuTypeQ_N01024_Vrf0064_Udc0.2000D+01V_D1.0_S1.0RFG\n",
      "['Temp_SimuType2_01_N01024_Vrf0064_Udc0.2000D+01V_D1.0_S1.0RFG8eV.dat', 'Temp_SimuType4_01_N01024_Vrf0064_Udc0.2000D+01V_D1.0_S1.0RFG8eV.dat', 'Temp_SimuTypeQ_N01024_Vrf0064_Udc0.2000D+01V_D1.0_S1.0RFG.dat']\n",
      "02 - 07  >  /home/adrian/RemoteFS/Rivendel/20210426/EGMol09/Try07/Temp_SimuTypeQ_N01024_Vrf0064_Udc0.2000D+01V_D1.0_S1.0RFG\n",
      "['Temp_SimuType2_01_N01024_Vrf0064_Udc0.2000D+01V_D1.0_S1.0RFG8eV.dat', 'Temp_SimuType4_01_N01024_Vrf0064_Udc0.2000D+01V_D1.0_S1.0RFG8eV.dat', 'Temp_SimuTypeQ_N01024_Vrf0064_Udc0.2000D+01V_D1.0_S1.0RFG.dat']\n",
      "02 - 08  >  /home/adrian/RemoteFS/Rivendel/20210426/EGMol09/Try08/Temp_SimuTypeQ_N01024_Vrf0064_Udc0.2000D+01V_D1.0_S1.0RFG\n",
      "['Temp_SimuType2_01_N01024_Vrf0064_Udc0.2000D+01V_D1.0_S1.0RFG8eV.dat', 'Temp_SimuType4_01_N01024_Vrf0064_Udc0.2000D+01V_D1.0_S1.0RFG8eV.dat', 'Temp_SimuTypeQ_N01024_Vrf0064_Udc0.2000D+01V_D1.0_S1.0RFG.dat']\n",
      "02 - 09  >  /home/adrian/RemoteFS/Rivendel/20210426/EGMol09/Try09/Temp_SimuTypeQ_N01024_Vrf0064_Udc0.2000D+01V_D1.0_S1.0RFG\n",
      "['Temp_SimuType2_01_N01024_Vrf0064_Udc0.2000D+01V_D1.0_S1.0RFG8eV.dat', 'Temp_SimuType4_01_N01024_Vrf0064_Udc0.2000D+01V_D1.0_S1.0RFG8eV.dat', 'Temp_SimuTypeQ_N01024_Vrf0064_Udc0.2000D+01V_D1.0_S1.0RFG.dat']\n",
      "Point n° 3\n",
      "03 - 00  >  /home/adrian/RemoteFS/Rivendel/20210426/EGMol10/Try00/Temp_SimuTypeQ_N01024_Vrf0064_Udc0.2000D+01V_D1.0_S1.0RFG\n",
      "['Temp_SimuType2_01_N01024_Vrf0064_Udc0.2000D+01V_D1.0_S1.0RFG6eV.dat', 'Temp_SimuType4_01_N01024_Vrf0064_Udc0.2000D+01V_D1.0_S1.0RFG6eV.dat', 'Temp_SimuTypeQ_N01024_Vrf0064_Udc0.2000D+01V_D1.0_S1.0RFG.dat']\n",
      "03 - 01  >  /home/adrian/RemoteFS/Rivendel/20210426/EGMol10/Try01/Temp_SimuTypeQ_N01024_Vrf0064_Udc0.2000D+01V_D1.0_S1.0RFG\n",
      "['Temp_SimuType2_01_N01024_Vrf0064_Udc0.2000D+01V_D1.0_S1.0RFG6eV.dat', 'Temp_SimuType4_01_N01024_Vrf0064_Udc0.2000D+01V_D1.0_S1.0RFG6eV.dat', 'Temp_SimuTypeQ_N01024_Vrf0064_Udc0.2000D+01V_D1.0_S1.0RFG.dat']\n",
      "03 - 02  >  /home/adrian/RemoteFS/Rivendel/20210426/EGMol10/Try02/Temp_SimuTypeQ_N01024_Vrf0064_Udc0.2000D+01V_D1.0_S1.0RFG\n",
      "['Temp_SimuType2_01_N01024_Vrf0064_Udc0.2000D+01V_D1.0_S1.0RFG6eV.dat', 'Temp_SimuType4_01_N01024_Vrf0064_Udc0.2000D+01V_D1.0_S1.0RFG6eV.dat', 'Temp_SimuTypeQ_N01024_Vrf0064_Udc0.2000D+01V_D1.0_S1.0RFG.dat']\n",
      "03 - 03  >  /home/adrian/RemoteFS/Rivendel/20210426/EGMol10/Try03/Temp_SimuTypeQ_N01024_Vrf0064_Udc0.2000D+01V_D1.0_S1.0RFG\n",
      "['Temp_SimuType2_01_N01024_Vrf0064_Udc0.2000D+01V_D1.0_S1.0RFG6eV.dat', 'Temp_SimuType4_01_N01024_Vrf0064_Udc0.2000D+01V_D1.0_S1.0RFG6eV.dat', 'Temp_SimuTypeQ_N01024_Vrf0064_Udc0.2000D+01V_D1.0_S1.0RFG.dat']\n",
      "03 - 04  >  /home/adrian/RemoteFS/Rivendel/20210426/EGMol10/Try04/Temp_SimuTypeQ_N01024_Vrf0064_Udc0.2000D+01V_D1.0_S1.0RFG\n",
      "['Temp_SimuType2_01_N01024_Vrf0064_Udc0.2000D+01V_D1.0_S1.0RFG6eV.dat', 'Temp_SimuType4_01_N01024_Vrf0064_Udc0.2000D+01V_D1.0_S1.0RFG6eV.dat', 'Temp_SimuTypeQ_N01024_Vrf0064_Udc0.2000D+01V_D1.0_S1.0RFG.dat']\n",
      "03 - 05  >  /home/adrian/RemoteFS/Rivendel/20210426/EGMol10/Try05/Temp_SimuTypeQ_N01024_Vrf0064_Udc0.2000D+01V_D1.0_S1.0RFG\n",
      "['Temp_SimuType2_01_N01024_Vrf0064_Udc0.2000D+01V_D1.0_S1.0RFG6eV.dat', 'Temp_SimuType4_01_N01024_Vrf0064_Udc0.2000D+01V_D1.0_S1.0RFG6eV.dat', 'Temp_SimuTypeQ_N01024_Vrf0064_Udc0.2000D+01V_D1.0_S1.0RFG.dat']\n",
      "03 - 06  >  /home/adrian/RemoteFS/Rivendel/20210426/EGMol10/Try06/Temp_SimuTypeQ_N01024_Vrf0064_Udc0.2000D+01V_D1.0_S1.0RFG\n",
      "['Temp_SimuType2_01_N01024_Vrf0064_Udc0.2000D+01V_D1.0_S1.0RFG6eV.dat', 'Temp_SimuType4_01_N01024_Vrf0064_Udc0.2000D+01V_D1.0_S1.0RFG6eV.dat', 'Temp_SimuTypeQ_N01024_Vrf0064_Udc0.2000D+01V_D1.0_S1.0RFG.dat']\n",
      "03 - 07  >  /home/adrian/RemoteFS/Rivendel/20210426/EGMol10/Try07/Temp_SimuTypeQ_N01024_Vrf0064_Udc0.2000D+01V_D1.0_S1.0RFG\n",
      "['Temp_SimuType2_01_N01024_Vrf0064_Udc0.2000D+01V_D1.0_S1.0RFG6eV.dat', 'Temp_SimuType4_01_N01024_Vrf0064_Udc0.2000D+01V_D1.0_S1.0RFG6eV.dat', 'Temp_SimuTypeQ_N01024_Vrf0064_Udc0.2000D+01V_D1.0_S1.0RFG.dat']\n",
      "03 - 08  >  /home/adrian/RemoteFS/Rivendel/20210426/EGMol10/Try08/Temp_SimuTypeQ_N01024_Vrf0064_Udc0.2000D+01V_D1.0_S1.0RFG\n",
      "['Temp_SimuType2_01_N01024_Vrf0064_Udc0.2000D+01V_D1.0_S1.0RFG6eV.dat', 'Temp_SimuType4_01_N01024_Vrf0064_Udc0.2000D+01V_D1.0_S1.0RFG6eV.dat', 'Temp_SimuTypeQ_N01024_Vrf0064_Udc0.2000D+01V_D1.0_S1.0RFG.dat']\n",
      "03 - 09  >  /home/adrian/RemoteFS/Rivendel/20210426/EGMol10/Try09/Temp_SimuTypeQ_N01024_Vrf0064_Udc0.2000D+01V_D1.0_S1.0RFG\n",
      "['Temp_SimuType2_01_N01024_Vrf0064_Udc0.2000D+01V_D1.0_S1.0RFG6eV.dat', 'Temp_SimuType4_01_N01024_Vrf0064_Udc0.2000D+01V_D1.0_S1.0RFG6eV.dat', 'Temp_SimuTypeQ_N01024_Vrf0064_Udc0.2000D+01V_D1.0_S1.0RFG.dat']\n",
      "Point n° 4\n",
      "04 - 00  >  /home/adrian/RemoteFS/Rivendel/20210426/EGMol11/Try00/Temp_SimuTypeQ_N01024_Vrf0064_Udc0.2000D+01V_D1.0_S1.0RFG\n",
      "['Temp_SimuTypeQ_N01024_Vrf0064_Udc0.2000D+01V_D1.0_S1.0RFG.dat', 'Temp_SimuType2_01_N01024_Vrf0064_Udc0.2000D+01V_D1.0_S1.0RFG4eV.dat', 'Temp_SimuType4_01_N01024_Vrf0064_Udc0.2000D+01V_D1.0_S1.0RFG4eV.dat']\n",
      "04 - 01  >  /home/adrian/RemoteFS/Rivendel/20210426/EGMol11/Try01/Temp_SimuTypeQ_N01024_Vrf0064_Udc0.2000D+01V_D1.0_S1.0RFG\n",
      "['Temp_SimuTypeQ_N01024_Vrf0064_Udc0.2000D+01V_D1.0_S1.0RFG.dat', 'Temp_SimuType2_01_N01024_Vrf0064_Udc0.2000D+01V_D1.0_S1.0RFG4eV.dat', 'Temp_SimuType4_01_N01024_Vrf0064_Udc0.2000D+01V_D1.0_S1.0RFG4eV.dat']\n",
      "04 - 02  >  /home/adrian/RemoteFS/Rivendel/20210426/EGMol11/Try02/Temp_SimuTypeQ_N01024_Vrf0064_Udc0.2000D+01V_D1.0_S1.0RFG\n",
      "['Temp_SimuTypeQ_N01024_Vrf0064_Udc0.2000D+01V_D1.0_S1.0RFG.dat', 'Temp_SimuType2_01_N01024_Vrf0064_Udc0.2000D+01V_D1.0_S1.0RFG4eV.dat', 'Temp_SimuType4_01_N01024_Vrf0064_Udc0.2000D+01V_D1.0_S1.0RFG4eV.dat']\n",
      "04 - 03  >  /home/adrian/RemoteFS/Rivendel/20210426/EGMol11/Try03/Temp_SimuTypeQ_N01024_Vrf0064_Udc0.2000D+01V_D1.0_S1.0RFG\n",
      "['Temp_SimuTypeQ_N01024_Vrf0064_Udc0.2000D+01V_D1.0_S1.0RFG.dat', 'Temp_SimuType2_01_N01024_Vrf0064_Udc0.2000D+01V_D1.0_S1.0RFG4eV.dat', 'Temp_SimuType4_01_N01024_Vrf0064_Udc0.2000D+01V_D1.0_S1.0RFG4eV.dat']\n",
      "04 - 04  >  /home/adrian/RemoteFS/Rivendel/20210426/EGMol11/Try04/Temp_SimuTypeQ_N01024_Vrf0064_Udc0.2000D+01V_D1.0_S1.0RFG\n",
      "['Temp_SimuTypeQ_N01024_Vrf0064_Udc0.2000D+01V_D1.0_S1.0RFG.dat', 'Temp_SimuType2_01_N01024_Vrf0064_Udc0.2000D+01V_D1.0_S1.0RFG4eV.dat', 'Temp_SimuType4_01_N01024_Vrf0064_Udc0.2000D+01V_D1.0_S1.0RFG4eV.dat']\n",
      "04 - 05  >  /home/adrian/RemoteFS/Rivendel/20210426/EGMol11/Try05/Temp_SimuTypeQ_N01024_Vrf0064_Udc0.2000D+01V_D1.0_S1.0RFG\n",
      "['Temp_SimuTypeQ_N01024_Vrf0064_Udc0.2000D+01V_D1.0_S1.0RFG.dat', 'Temp_SimuType2_01_N01024_Vrf0064_Udc0.2000D+01V_D1.0_S1.0RFG4eV.dat', 'Temp_SimuType4_01_N01024_Vrf0064_Udc0.2000D+01V_D1.0_S1.0RFG4eV.dat']\n",
      "04 - 06  >  /home/adrian/RemoteFS/Rivendel/20210426/EGMol11/Try06/Temp_SimuTypeQ_N01024_Vrf0064_Udc0.2000D+01V_D1.0_S1.0RFG\n",
      "['Temp_SimuTypeQ_N01024_Vrf0064_Udc0.2000D+01V_D1.0_S1.0RFG.dat', 'Temp_SimuType2_01_N01024_Vrf0064_Udc0.2000D+01V_D1.0_S1.0RFG4eV.dat', 'Temp_SimuType4_01_N01024_Vrf0064_Udc0.2000D+01V_D1.0_S1.0RFG4eV.dat']\n",
      "04 - 07  >  /home/adrian/RemoteFS/Rivendel/20210426/EGMol11/Try07/Temp_SimuTypeQ_N01024_Vrf0064_Udc0.2000D+01V_D1.0_S1.0RFG\n",
      "['Temp_SimuTypeQ_N01024_Vrf0064_Udc0.2000D+01V_D1.0_S1.0RFG.dat', 'Temp_SimuType2_01_N01024_Vrf0064_Udc0.2000D+01V_D1.0_S1.0RFG4eV.dat', 'Temp_SimuType4_01_N01024_Vrf0064_Udc0.2000D+01V_D1.0_S1.0RFG4eV.dat']\n",
      "04 - 08  >  /home/adrian/RemoteFS/Rivendel/20210426/EGMol11/Try08/Temp_SimuTypeQ_N01024_Vrf0064_Udc0.2000D+01V_D1.0_S1.0RFG\n",
      "['Temp_SimuTypeQ_N01024_Vrf0064_Udc0.2000D+01V_D1.0_S1.0RFG.dat', 'Temp_SimuType2_01_N01024_Vrf0064_Udc0.2000D+01V_D1.0_S1.0RFG4eV.dat', 'Temp_SimuType4_01_N01024_Vrf0064_Udc0.2000D+01V_D1.0_S1.0RFG4eV.dat']\n",
      "04 - 09  >  /home/adrian/RemoteFS/Rivendel/20210426/EGMol11/Try09/Temp_SimuTypeQ_N01024_Vrf0064_Udc0.2000D+01V_D1.0_S1.0RFG\n",
      "['Temp_SimuTypeQ_N01024_Vrf0064_Udc0.2000D+01V_D1.0_S1.0RFG.dat', 'Temp_SimuType2_01_N01024_Vrf0064_Udc0.2000D+01V_D1.0_S1.0RFG4eV.dat', 'Temp_SimuType4_01_N01024_Vrf0064_Udc0.2000D+01V_D1.0_S1.0RFG4eV.dat']\n"
     ]
    },
    {
     "name": "stdout",
     "output_type": "stream",
     "text": [
      "Point n° 5\n",
      "05 - 00  >  /home/adrian/RemoteFS/Rivendel/20210426/EGMol12/Try00/Temp_SimuTypeQ_N01024_Vrf0064_Udc0.2000D+01V_D1.0_S1.0RFG\n",
      "['Temp_SimuType4_01_N01024_Vrf0064_Udc0.2000D+01V_D1.0_S1.0RFG2eV.dat', 'Temp_SimuTypeQ_N01024_Vrf0064_Udc0.2000D+01V_D1.0_S1.0RFG.dat', 'Temp_SimuType2_01_N01024_Vrf0064_Udc0.2000D+01V_D1.0_S1.0RFG2eV.dat']\n",
      "05 - 01  >  /home/adrian/RemoteFS/Rivendel/20210426/EGMol12/Try01/Temp_SimuTypeQ_N01024_Vrf0064_Udc0.2000D+01V_D1.0_S1.0RFG\n",
      "['Temp_SimuType4_01_N01024_Vrf0064_Udc0.2000D+01V_D1.0_S1.0RFG2eV.dat', 'Temp_SimuTypeQ_N01024_Vrf0064_Udc0.2000D+01V_D1.0_S1.0RFG.dat', 'Temp_SimuType2_01_N01024_Vrf0064_Udc0.2000D+01V_D1.0_S1.0RFG2eV.dat']\n",
      "05 - 02  >  /home/adrian/RemoteFS/Rivendel/20210426/EGMol12/Try02/Temp_SimuTypeQ_N01024_Vrf0064_Udc0.2000D+01V_D1.0_S1.0RFG\n",
      "['Temp_SimuType4_01_N01024_Vrf0064_Udc0.2000D+01V_D1.0_S1.0RFG2eV.dat', 'Temp_SimuTypeQ_N01024_Vrf0064_Udc0.2000D+01V_D1.0_S1.0RFG.dat', 'Temp_SimuType2_01_N01024_Vrf0064_Udc0.2000D+01V_D1.0_S1.0RFG2eV.dat']\n",
      "05 - 03  >  /home/adrian/RemoteFS/Rivendel/20210426/EGMol12/Try03/Temp_SimuTypeQ_N01024_Vrf0064_Udc0.2000D+01V_D1.0_S1.0RFG\n",
      "['Temp_SimuType4_01_N01024_Vrf0064_Udc0.2000D+01V_D1.0_S1.0RFG2eV.dat', 'Temp_SimuTypeQ_N01024_Vrf0064_Udc0.2000D+01V_D1.0_S1.0RFG.dat', 'Temp_SimuType2_01_N01024_Vrf0064_Udc0.2000D+01V_D1.0_S1.0RFG2eV.dat']\n",
      "05 - 04  >  /home/adrian/RemoteFS/Rivendel/20210426/EGMol12/Try04/Temp_SimuTypeQ_N01024_Vrf0064_Udc0.2000D+01V_D1.0_S1.0RFG\n",
      "['Temp_SimuType4_01_N01024_Vrf0064_Udc0.2000D+01V_D1.0_S1.0RFG2eV.dat', 'Temp_SimuTypeQ_N01024_Vrf0064_Udc0.2000D+01V_D1.0_S1.0RFG.dat', 'Temp_SimuType2_01_N01024_Vrf0064_Udc0.2000D+01V_D1.0_S1.0RFG2eV.dat']\n",
      "05 - 05  >  /home/adrian/RemoteFS/Rivendel/20210426/EGMol12/Try05/Temp_SimuTypeQ_N01024_Vrf0064_Udc0.2000D+01V_D1.0_S1.0RFG\n",
      "['Temp_SimuType4_01_N01024_Vrf0064_Udc0.2000D+01V_D1.0_S1.0RFG2eV.dat', 'Temp_SimuTypeQ_N01024_Vrf0064_Udc0.2000D+01V_D1.0_S1.0RFG.dat', 'Temp_SimuType2_01_N01024_Vrf0064_Udc0.2000D+01V_D1.0_S1.0RFG2eV.dat']\n",
      "05 - 06  >  /home/adrian/RemoteFS/Rivendel/20210426/EGMol12/Try06/Temp_SimuTypeQ_N01024_Vrf0064_Udc0.2000D+01V_D1.0_S1.0RFG\n",
      "['Temp_SimuType4_01_N01024_Vrf0064_Udc0.2000D+01V_D1.0_S1.0RFG2eV.dat', 'Temp_SimuTypeQ_N01024_Vrf0064_Udc0.2000D+01V_D1.0_S1.0RFG.dat', 'Temp_SimuType2_01_N01024_Vrf0064_Udc0.2000D+01V_D1.0_S1.0RFG2eV.dat']\n",
      "05 - 07  >  /home/adrian/RemoteFS/Rivendel/20210426/EGMol12/Try07/Temp_SimuTypeQ_N01024_Vrf0064_Udc0.2000D+01V_D1.0_S1.0RFG\n",
      "['Temp_SimuType4_01_N01024_Vrf0064_Udc0.2000D+01V_D1.0_S1.0RFG2eV.dat', 'Temp_SimuTypeQ_N01024_Vrf0064_Udc0.2000D+01V_D1.0_S1.0RFG.dat', 'Temp_SimuType2_01_N01024_Vrf0064_Udc0.2000D+01V_D1.0_S1.0RFG2eV.dat']\n",
      "05 - 08  >  /home/adrian/RemoteFS/Rivendel/20210426/EGMol12/Try08/Temp_SimuTypeQ_N01024_Vrf0064_Udc0.2000D+01V_D1.0_S1.0RFG\n",
      "['Temp_SimuType4_01_N01024_Vrf0064_Udc0.2000D+01V_D1.0_S1.0RFG2eV.dat', 'Temp_SimuTypeQ_N01024_Vrf0064_Udc0.2000D+01V_D1.0_S1.0RFG.dat', 'Temp_SimuType2_01_N01024_Vrf0064_Udc0.2000D+01V_D1.0_S1.0RFG2eV.dat']\n",
      "05 - 09  >  /home/adrian/RemoteFS/Rivendel/20210426/EGMol12/Try09/Temp_SimuTypeQ_N01024_Vrf0064_Udc0.2000D+01V_D1.0_S1.0RFG\n",
      "['Temp_SimuType4_01_N01024_Vrf0064_Udc0.2000D+01V_D1.0_S1.0RFG2eV.dat', 'Temp_SimuTypeQ_N01024_Vrf0064_Udc0.2000D+01V_D1.0_S1.0RFG.dat', 'Temp_SimuType2_01_N01024_Vrf0064_Udc0.2000D+01V_D1.0_S1.0RFG2eV.dat']\n",
      "Point n° 6\n",
      "06 - 00  >  /home/adrian/RemoteFS/Rivendel/20210426/EGMol13/Try00/Temp_SimuTypeQ_N01024_Vrf0064_Udc0.2000D+01V_D1.0_S1.0RFG\n",
      "['Temp_SimuTypeQ_N01024_Vrf0064_Udc0.2000D+01V_D1.0_S1.0RFG.dat', 'Temp_SimuType2_01_N01024_Vrf0064_Udc0.2000D+01V_D1.0_S1.0RFG1eV.dat', 'Temp_SimuType4_01_N01024_Vrf0064_Udc0.2000D+01V_D1.0_S1.0RFG1eV.dat']\n",
      "06 - 01  >  /home/adrian/RemoteFS/Rivendel/20210426/EGMol13/Try01/Temp_SimuTypeQ_N01024_Vrf0064_Udc0.2000D+01V_D1.0_S1.0RFG\n",
      "['Temp_SimuTypeQ_N01024_Vrf0064_Udc0.2000D+01V_D1.0_S1.0RFG.dat', 'Temp_SimuType2_01_N01024_Vrf0064_Udc0.2000D+01V_D1.0_S1.0RFG1eV.dat', 'Temp_SimuType4_01_N01024_Vrf0064_Udc0.2000D+01V_D1.0_S1.0RFG1eV.dat']\n",
      "06 - 02  >  /home/adrian/RemoteFS/Rivendel/20210426/EGMol13/Try02/Temp_SimuTypeQ_N01024_Vrf0064_Udc0.2000D+01V_D1.0_S1.0RFG\n",
      "['Temp_SimuTypeQ_N01024_Vrf0064_Udc0.2000D+01V_D1.0_S1.0RFG.dat', 'Temp_SimuType2_01_N01024_Vrf0064_Udc0.2000D+01V_D1.0_S1.0RFG1eV.dat', 'Temp_SimuType4_01_N01024_Vrf0064_Udc0.2000D+01V_D1.0_S1.0RFG1eV.dat']\n",
      "06 - 03  >  /home/adrian/RemoteFS/Rivendel/20210426/EGMol13/Try03/Temp_SimuTypeQ_N01024_Vrf0064_Udc0.2000D+01V_D1.0_S1.0RFG\n",
      "['Temp_SimuTypeQ_N01024_Vrf0064_Udc0.2000D+01V_D1.0_S1.0RFG.dat', 'Temp_SimuType2_01_N01024_Vrf0064_Udc0.2000D+01V_D1.0_S1.0RFG1eV.dat', 'Temp_SimuType4_01_N01024_Vrf0064_Udc0.2000D+01V_D1.0_S1.0RFG1eV.dat']\n",
      "06 - 04  >  /home/adrian/RemoteFS/Rivendel/20210426/EGMol13/Try04/Temp_SimuTypeQ_N01024_Vrf0064_Udc0.2000D+01V_D1.0_S1.0RFG\n",
      "['Temp_SimuTypeQ_N01024_Vrf0064_Udc0.2000D+01V_D1.0_S1.0RFG.dat', 'Temp_SimuType2_01_N01024_Vrf0064_Udc0.2000D+01V_D1.0_S1.0RFG1eV.dat', 'Temp_SimuType4_01_N01024_Vrf0064_Udc0.2000D+01V_D1.0_S1.0RFG1eV.dat']\n",
      "06 - 05  >  /home/adrian/RemoteFS/Rivendel/20210426/EGMol13/Try05/Temp_SimuTypeQ_N01024_Vrf0064_Udc0.2000D+01V_D1.0_S1.0RFG\n",
      "['Temp_SimuTypeQ_N01024_Vrf0064_Udc0.2000D+01V_D1.0_S1.0RFG.dat', 'Temp_SimuType2_01_N01024_Vrf0064_Udc0.2000D+01V_D1.0_S1.0RFG1eV.dat', 'Temp_SimuType4_01_N01024_Vrf0064_Udc0.2000D+01V_D1.0_S1.0RFG1eV.dat']\n",
      "06 - 06  >  /home/adrian/RemoteFS/Rivendel/20210426/EGMol13/Try06/Temp_SimuTypeQ_N01024_Vrf0064_Udc0.2000D+01V_D1.0_S1.0RFG\n",
      "['Temp_SimuTypeQ_N01024_Vrf0064_Udc0.2000D+01V_D1.0_S1.0RFG.dat', 'Temp_SimuType2_01_N01024_Vrf0064_Udc0.2000D+01V_D1.0_S1.0RFG1eV.dat', 'Temp_SimuType4_01_N01024_Vrf0064_Udc0.2000D+01V_D1.0_S1.0RFG1eV.dat']\n",
      "06 - 07  >  /home/adrian/RemoteFS/Rivendel/20210426/EGMol13/Try07/Temp_SimuTypeQ_N01024_Vrf0064_Udc0.2000D+01V_D1.0_S1.0RFG\n",
      "['Temp_SimuTypeQ_N01024_Vrf0064_Udc0.2000D+01V_D1.0_S1.0RFG.dat', 'Temp_SimuType2_01_N01024_Vrf0064_Udc0.2000D+01V_D1.0_S1.0RFG1eV.dat', 'Temp_SimuType4_01_N01024_Vrf0064_Udc0.2000D+01V_D1.0_S1.0RFG1eV.dat']\n",
      "06 - 08  >  /home/adrian/RemoteFS/Rivendel/20210426/EGMol13/Try08/Temp_SimuTypeQ_N01024_Vrf0064_Udc0.2000D+01V_D1.0_S1.0RFG\n",
      "['Temp_SimuTypeQ_N01024_Vrf0064_Udc0.2000D+01V_D1.0_S1.0RFG.dat', 'Temp_SimuType2_01_N01024_Vrf0064_Udc0.2000D+01V_D1.0_S1.0RFG1eV.dat', 'Temp_SimuType4_01_N01024_Vrf0064_Udc0.2000D+01V_D1.0_S1.0RFG1eV.dat']\n",
      "06 - 09  >  /home/adrian/RemoteFS/Rivendel/20210426/EGMol13/Try09/Temp_SimuTypeQ_N01024_Vrf0064_Udc0.2000D+01V_D1.0_S1.0RFG\n",
      "['Temp_SimuTypeQ_N01024_Vrf0064_Udc0.2000D+01V_D1.0_S1.0RFG.dat', 'Temp_SimuType2_01_N01024_Vrf0064_Udc0.2000D+01V_D1.0_S1.0RFG1eV.dat', 'Temp_SimuType4_01_N01024_Vrf0064_Udc0.2000D+01V_D1.0_S1.0RFG1eV.dat']\n",
      "Time elapsed:  24.554132000000003 s\n",
      "Time elapsed:  0.4092355333333334 m\n"
     ]
    }
   ],
   "source": [
    "## Data loading (1D arrays)\n",
    "data_name, num_runs, PMandT, Gmol_data, r_LC_clip, dim_nu \\\n",
    "= data_retrieve(all_subdir, points_and_coord,condition_parameters,slash_cfg,mode='stopping_power') \n",
    "\n",
    "data0 = data_name[0]\n",
    "data2 = data_name[1]\n",
    "data4 = data_name[2]\n",
    "\n",
    "PMvar = PMandT[0]\n",
    "Tvar = PMandT[1]\n",
    "\n",
    "deltaEc = Gmol_data[0]\n",
    "deltaEcRel = Gmol_data[1]\n",
    "t_c = Gmol_data[2]"
   ]
  },
  {
   "cell_type": "code",
   "execution_count": 22,
   "metadata": {},
   "outputs": [
    {
     "name": "stdout",
     "output_type": "stream",
     "text": [
      "[0. 0. 0. 0. 0. 0. 0.]\n",
      "7\n",
      "1.0\n"
     ]
    }
   ],
   "source": [
    "# Where SNR for each try in each  are compared to a threshold\n",
    "# If SNR > some_threshold , we count it as a detection\n",
    "# Then for each point the ratio number_of_detection/number_of_try is calculated\n",
    "# This detection efficiency \n",
    "\n",
    "SNR_trig_threshold = 1\n",
    "shapevar = ((len(points_and_coord), len(num_runs)))\n",
    "trig_detection = np.zeros((shapevar))\n",
    "for i in range(len(points_and_coord)):\n",
    "    SNR = Gmol_data[2][i]\n",
    "    for k,m in enumerate(SNR):\n",
    "        if m > SNR_trig_threshold:\n",
    "            trig_detection[i,k] = 1\n",
    "\n",
    "print(mean(trig_detection,axis=1))\n",
    "\n",
    "print(len(trig_detection))\n",
    "\n",
    "# Where is written Detuning and how much it is\n",
    "temp_pos = filename.find('0RFG')\n",
    "Detuning = filename[temp_pos-7:temp_pos-4]\n",
    "print(Detuning)"
   ]
  },
  {
   "cell_type": "code",
   "execution_count": 23,
   "metadata": {},
   "outputs": [
    {
     "data": {
      "text/plain": [
       "(20, 21)"
      ]
     },
     "execution_count": 23,
     "metadata": {},
     "output_type": "execute_result"
    }
   ],
   "source": [
    "# Voltages associated with each condition\n",
    "# In names and files each voltage is associated with numbers\n",
    "# For instance on epoint is labeled DC03_RF18\n",
    "# You need to know which voltage is DC03 and RF18\n",
    "\n",
    "# You have to look on the Fortran code, example :\n",
    "#    !dec$ elseif defined(Vrf18)\n",
    "#    double precision  , parameter :: V_rf  = 7.179d1\n",
    "#    character(len=100), parameter :: str_extra3 = 'q=0.666'\n",
    "# Here RF18 is 71.79 V, q = 0.666\n",
    "\n",
    "Udc = [0.5, 1, 1.5, 2, 2.5, 3, 3.5, 4, 4.5, 5, 6, 7, 7.5, 3.33, 3.66, 4.5, 5.33, 5.66, 6, 6.5]\n",
    "Urf = [10.77, 16.15, 21.54, 26.92, 32.31, 37.69, 43.08, 48.46, 53.85, 59.23, 64.61,\n",
    "       70.00, 75.38, 80.77, 61.02, 62.82, 66.41, 68.20, 71.79, 55.64, 57.43]\n",
    "len(Udc),len(Urf)"
   ]
  },
  {
   "cell_type": "code",
   "execution_count": 13,
   "metadata": {
    "scrolled": true
   },
   "outputs": [
    {
     "ename": "IndexError",
     "evalue": "list index out of range",
     "output_type": "error",
     "traceback": [
      "\u001b[1;31m---------------------------------------------------------------------------\u001b[0m",
      "\u001b[1;31mIndexError\u001b[0m                                Traceback (most recent call last)",
      "\u001b[1;32m<ipython-input-13-40b9c8b4932f>\u001b[0m in \u001b[0;36m<module>\u001b[1;34m\u001b[0m\n\u001b[0;32m      9\u001b[0m \u001b[0mpoint_numb\u001b[0m \u001b[1;33m=\u001b[0m \u001b[1;36m3\u001b[0m\u001b[1;33m\u001b[0m\u001b[1;33m\u001b[0m\u001b[0m\n\u001b[0;32m     10\u001b[0m \u001b[0mpoint_try\u001b[0m \u001b[1;33m=\u001b[0m \u001b[1;36m0\u001b[0m\u001b[1;33m\u001b[0m\u001b[1;33m\u001b[0m\u001b[0m\n\u001b[1;32m---> 11\u001b[1;33m \u001b[0mplot_subdir\u001b[0m \u001b[1;33m=\u001b[0m \u001b[0mall_subdir\u001b[0m\u001b[1;33m[\u001b[0m\u001b[0mpoint_numb\u001b[0m\u001b[1;33m*\u001b[0m\u001b[1;36m13\u001b[0m\u001b[1;33m+\u001b[0m\u001b[0mpoint_try\u001b[0m\u001b[1;33m%\u001b[0m\u001b[1;36m13\u001b[0m\u001b[1;33m]\u001b[0m \u001b[1;31m# point address\u001b[0m\u001b[1;33m\u001b[0m\u001b[1;33m\u001b[0m\u001b[0m\n\u001b[0m\u001b[0;32m     12\u001b[0m \u001b[0monlyfiles\u001b[0m \u001b[1;33m=\u001b[0m \u001b[1;33m[\u001b[0m\u001b[0mf\u001b[0m \u001b[1;32mfor\u001b[0m \u001b[0mf\u001b[0m \u001b[1;32min\u001b[0m \u001b[0mlistdir\u001b[0m\u001b[1;33m(\u001b[0m\u001b[0mplot_subdir\u001b[0m\u001b[1;33m)\u001b[0m \u001b[1;32mif\u001b[0m \u001b[0misfile\u001b[0m\u001b[1;33m(\u001b[0m\u001b[0mjoin\u001b[0m\u001b[1;33m(\u001b[0m\u001b[0mplot_subdir\u001b[0m\u001b[1;33m,\u001b[0m \u001b[0mf\u001b[0m\u001b[1;33m)\u001b[0m\u001b[1;33m)\u001b[0m \u001b[1;32mand\u001b[0m \u001b[1;32mnot\u001b[0m \u001b[1;34m\"xva\"\u001b[0m \u001b[1;32min\u001b[0m \u001b[0mf\u001b[0m \u001b[1;32mand\u001b[0m \u001b[1;34m\".dat\"\u001b[0m \u001b[1;32min\u001b[0m \u001b[0mf\u001b[0m\u001b[1;33m]\u001b[0m\u001b[1;33m\u001b[0m\u001b[1;33m\u001b[0m\u001b[0m\n\u001b[0;32m     13\u001b[0m \u001b[1;33m\u001b[0m\u001b[0m\n",
      "\u001b[1;31mIndexError\u001b[0m: list index out of range"
     ]
    }
   ],
   "source": [
    "# recovery temperature\n",
    "# calculate T final SimuType0\n",
    "# Determination error on temperature\n",
    "# with measurement of the variation in the simulations\n",
    "\n",
    "my_order = [0,2,1]\n",
    "\n",
    "# retrieve time array\n",
    "point_numb = 3\n",
    "point_try = 0\n",
    "plot_subdir = all_subdir[point_numb*13+point_try%13] # point address\n",
    "onlyfiles = [f for f in listdir(plot_subdir) if isfile(join(plot_subdir, f)) and not \"xva\" in f and \".dat\" in f]\n",
    "\n",
    "total_len = 0\n",
    "cut_pts = [0]\n",
    "simu_time = []\n",
    "for j,k in enumerate(my_order):\n",
    "    ta, te, ti, to = load_T_and_PM_simu(plot_subdir+'/'+'Temp'+sort(onlyfiles)[k].strip('.dat')[4:])\n",
    "    total_len += len(ta)\n",
    "    # print(len(ta))\n",
    "    cut_pts.append(total_len)\n",
    "    simu_time.extend(ta)\n",
    "print(temp_pts)\n",
    "\n",
    "# retrieve temperatures\n",
    "T_aux_all = np.zeros((len(points_and_coord),13,total_len,3))\n",
    "for point_numb,point_name in enumerate(points_and_coord): # DCxx_RFyy [xx,yy]\n",
    "    for point_try in range(13):\n",
    "        plot_subdir = all_subdir[point_numb*13+point_try%13] # point address\n",
    "        onlyfiles = [f for f in listdir(plot_subdir) if isfile(join(plot_subdir, f)) and not \"xva\" in f and \".dat\" in f]\n",
    "        for j,k in enumerate(my_order):\n",
    "            ta, te, ti, to = load_T_and_PM_simu(plot_subdir+'/'+'Temp'+sort(onlyfiles)[k].strip('.dat')[4:])\n",
    "            T_aux_all[point_numb,point_try,cut_pts[j]:cut_pts[j+1],:] = ti\n",
    "    print(point_numb)\n",
    "        # tt, T_CM, T_aux, PM"
   ]
  },
  {
   "cell_type": "markdown",
   "metadata": {},
   "source": [
    "# Plots\n",
    "Nuage d'ions (XYZ) et température"
   ]
  },
  {
   "cell_type": "markdown",
   "metadata": {},
   "source": [
    "## Visualise one specific point, and one case"
   ]
  },
  {
   "cell_type": "markdown",
   "metadata": {},
   "source": [
    "# One try study"
   ]
  },
  {
   "cell_type": "code",
   "execution_count": 24,
   "metadata": {},
   "outputs": [
    {
     "ename": "NameError",
     "evalue": "name 'plot_subdir' is not defined",
     "output_type": "error",
     "traceback": [
      "\u001b[0;31m---------------------------------------------------------------------------\u001b[0m",
      "\u001b[0;31mNameError\u001b[0m                                 Traceback (most recent call last)",
      "\u001b[0;32m<ipython-input-24-bac4c2426a09>\u001b[0m in \u001b[0;36m<module>\u001b[0;34m()\u001b[0m\n\u001b[1;32m      1\u001b[0m \u001b[0;31m# plot ion cloud XYZ\u001b[0m\u001b[0;34m\u001b[0m\u001b[0;34m\u001b[0m\u001b[0;34m\u001b[0m\u001b[0m\n\u001b[1;32m      2\u001b[0m \u001b[0;34m\u001b[0m\u001b[0m\n\u001b[0;32m----> 3\u001b[0;31m \u001b[0mprint\u001b[0m\u001b[0;34m(\u001b[0m\u001b[0mplot_subdir\u001b[0m\u001b[0;34m)\u001b[0m\u001b[0;34m\u001b[0m\u001b[0;34m\u001b[0m\u001b[0m\n\u001b[0m\u001b[1;32m      4\u001b[0m \u001b[0;31m# pick the right xyz files\u001b[0m\u001b[0;34m\u001b[0m\u001b[0;34m\u001b[0m\u001b[0;34m\u001b[0m\u001b[0m\n\u001b[1;32m      5\u001b[0m \u001b[0monlyfiles\u001b[0m \u001b[0;34m=\u001b[0m \u001b[0;34m[\u001b[0m\u001b[0mf\u001b[0m \u001b[0;32mfor\u001b[0m \u001b[0mf\u001b[0m \u001b[0;32min\u001b[0m \u001b[0mlistdir\u001b[0m\u001b[0;34m(\u001b[0m\u001b[0mplot_subdir\u001b[0m\u001b[0;34m)\u001b[0m \u001b[0;32mif\u001b[0m \u001b[0misfile\u001b[0m\u001b[0;34m(\u001b[0m\u001b[0mjoin\u001b[0m\u001b[0;34m(\u001b[0m\u001b[0mplot_subdir\u001b[0m\u001b[0;34m,\u001b[0m \u001b[0mf\u001b[0m\u001b[0;34m)\u001b[0m\u001b[0;34m)\u001b[0m \u001b[0;32mand\u001b[0m \u001b[0;32mnot\u001b[0m \u001b[0;34m\"xva\"\u001b[0m \u001b[0;32min\u001b[0m \u001b[0mf\u001b[0m \u001b[0;32mand\u001b[0m \u001b[0;34m\".dat\"\u001b[0m \u001b[0;32min\u001b[0m \u001b[0mf\u001b[0m\u001b[0;34m]\u001b[0m\u001b[0;34m\u001b[0m\u001b[0;34m\u001b[0m\u001b[0m\n",
      "\u001b[0;31mNameError\u001b[0m: name 'plot_subdir' is not defined"
     ]
    }
   ],
   "source": [
    "# plot ion cloud XYZ\n",
    "\n",
    "print(plot_subdir)\n",
    "# pick the right xyz files\n",
    "onlyfiles = [f for f in listdir(plot_subdir) if isfile(join(plot_subdir, f)) and not \"xva\" in f and \".dat\" in f]\n",
    "file_name = '{}/xva{}'.format(plot_subdir,sort(onlyfiles)[0].strip('.dat')[4:])\n",
    "plot_XYZ(file_name,fig_name='XYZ_point'+str(plot_point)+'_try'+str(plot_try),fig_title='XYZ')\n",
    "auxr_LC,auxv_LC,auxa_LC = load_xyz_init_bin_DP(file_name)\n",
    "len(auxr_LC[0])"
   ]
  },
  {
   "cell_type": "code",
   "execution_count": 25,
   "metadata": {},
   "outputs": [],
   "source": [
    "N_ions = 1024\n",
    "n_dt = 500"
   ]
  },
  {
   "cell_type": "code",
   "execution_count": 33,
   "metadata": {},
   "outputs": [
    {
     "name": "stdout",
     "output_type": "stream",
     "text": [
      "/home/adrian/RemoteFS/Rivendel/20210426/EGMol08/Try00/\n",
      "/home/adrian/RemoteFS/Rivendel/20210426/EGMol08/Try00/Temp_SimuTypeQ_N01024_Vrf0064_Udc0.2000D+01V_nt100\n"
     ]
    }
   ],
   "source": [
    "# rep_name = 'K:/Universite_Simus/20210426/EGMol08/Try00/'\n",
    "rep_name = '/home/adrian/RemoteFS/Rivendel/20210426/EGMol08/Try00/'\n",
    "cond_name = 'Vrf0064_Udc0.2000D+01V'\n",
    "# cond_name = 'Vrf0010_Udc0.5000D+02V'\n",
    "print(rep_name)\n",
    "\n",
    "# file = rep_name + 'Temp_SimuType0_N00128_Vrf0010_Udc0.5000D+00V_nt100'\n",
    "file_SimuType0 = rep_name + f'Temp_SimuTypeQ_N{N_ions:05d}_' + cond_name + '_nt100'\n",
    "print(file_SimuType0)\n",
    "# time, T_CM, T_aux, samp_dE_dt, S_heating = load_T_and_dE_S_simu(file_SimuType0)\n",
    "# print(samp_dE_dt)\n",
    "# file_energies = rep_name + 'Energies_ndt100_vdt2'\n",
    "# j_save_E, size_Energy_array, dE_dt = load_energies(file_energies,flag_print=1)\n",
    "# full_dE_dt = reshape(dE_dt,(int(size_Energy_array),6),order='F')[:,3]\n",
    "# print(full_dE_dt)"
   ]
  },
  {
   "cell_type": "code",
   "execution_count": 34,
   "metadata": {},
   "outputs": [
    {
     "name": "stdout",
     "output_type": "stream",
     "text": [
      "/home/adrian/RemoteFS/Rivendel/20210426/EGMol08/Try00/xva_3D_Harmo_N1024_T500uK_F0.10D-19Kg_s_5\n",
      "/home/adrian/RemoteFS/Rivendel/20210426/EGMol08/Try00/Langevin_cooling.info\n",
      "/home/adrian/RemoteFS/Rivendel/20210426/EGMol08/Try00/xva_3D_Harmo_N1024_T500uK_F0.10D-19Kg_s_5.bin\n",
      "1024\n",
      "b'xva_3D_Harmo_N1024_T500uK_F0.10D-19Kg_s_5'\n"
     ]
    },
    {
     "name": "stderr",
     "output_type": "stream",
     "text": [
      "/home/adrian/Documents/Programmes/Python/GiantMol/Functions/210426_stopping_power.py:165: VisibleDeprecationWarning: Reading unicode strings without specifying the encoding argument is deprecated. Set the encoding, use None for the system default.\n",
      "  aux_info = genfromtxt(str_load[:xva_pos]+'Langevin_cooling'+'.info',comments='%',dtype=None)\n"
     ]
    }
   ],
   "source": [
    "str_load_Lan = rep_name + f'xva_3D_Harmo_N{N_ions:04d}_T500uK_F0.10D-19Kg_s_5'\n",
    "print(str_load_Lan)\n",
    "xva_pos = str_load_Lan.find('xva')\n",
    "print(str_load_Lan[:xva_pos]+'Langevin_cooling'+'.info')\n",
    "print(str_load_Lan+'.bin')\n",
    "plot_XYZ_Lan(str_load_Lan)"
   ]
  },
  {
   "cell_type": "code",
   "execution_count": 35,
   "metadata": {},
   "outputs": [
    {
     "name": "stdout",
     "output_type": "stream",
     "text": [
      "/home/adrian/RemoteFS/Rivendel/20210426/EGMol08/Try00/xva_SimuTypeQ_N01024_Vrf0064_Udc0.2000D+01V_D1.0_S1.0RFG\n",
      "/home/adrian/RemoteFS/Rivendel/20210426/EGMol08/Try00/Langevin_cooling.info\n",
      "/home/adrian/RemoteFS/Rivendel/20210426/EGMol08/Try00/xva_SimuTypeQ_N01024_Vrf0064_Udc0.2000D+01V_D1.0_S1.0RFG.bin\n"
     ]
    }
   ],
   "source": [
    "str_load_Ver = rep_name + f'xva_SimuTypeQ_N{N_ions:05d}_' + cond_name + '_D1.0_S1.0RFG'\n",
    "print(str_load_Ver)\n",
    "xva_pos = str_load_Ver.find('xva')\n",
    "print(str_load_Ver[:xva_pos]+'Langevin_cooling'+'.info')\n",
    "print(str_load_Ver+'.bin')\n",
    "plot_XYZ(str_load_Ver)"
   ]
  },
  {
   "cell_type": "code",
   "execution_count": null,
   "metadata": {},
   "outputs": [],
   "source": []
  },
  {
   "cell_type": "code",
   "execution_count": 36,
   "metadata": {},
   "outputs": [
    {
     "name": "stdout",
     "output_type": "stream",
     "text": [
      "/home/adrian/RemoteFS/Rivendel/20210426/EGMol07/Try00/\n",
      "Temp_3D_Harmo_N1024_T500uK_F0.15D-18Kg_s_5\n"
     ]
    }
   ],
   "source": [
    "## Data loading with hardcode names\n",
    "eta = 1.5e-19\n",
    "\n",
    "plot_point = 0\n",
    "plot_try = 0\n",
    "# str_eta_chiffre    = float(f'{eta[plot_point]:1.2e}'[:4])/10\n",
    "# str_eta_puissance  = int(re.sub('e','D',f'{eta[plot_point]:1.2e}'[6:]))-1\n",
    "# str_eta = f'{str_eta_chiffre:1.2f}'+'D-'+str(str_eta_puissance)\n",
    "str_eta = '0.15D-18'\n",
    "dirname_hc = str(data0[plot_point][plot_try])+'/'\n",
    "datainit_hc = 'Temp_3D_Harmo_N1024_T500uK_F'+str(str_eta)+'Kg_s_5'\n",
    "data0_hc    = '/Temp_SimuTypeQ_N01024_Vrf0064_Udc0.2000D+01V_D1.0_S1.0RFG'\n",
    "data4_hc    = '/Temp_SimuType4_01_N01024_Vrf0064_Udc0.2000D+01V_D1.0_S1.0RFG'\n",
    "data2_hc    = '/Temp_SimuType2_01_N01024_Vrf0064_Udc0.2000D+01V_D1.0_S1.0RFG'\n",
    "\n",
    "print(dirname_hc)\n",
    "print(datainit_hc)"
   ]
  },
  {
   "cell_type": "code",
   "execution_count": 41,
   "metadata": {},
   "outputs": [
    {
     "name": "stdout",
     "output_type": "stream",
     "text": [
      "['Temp_SimuType2_01_N01024_Vrf0064_Udc0.2000D+01V_D1.0_S1.0RFG10eV.dat'\n",
      " 'Temp_SimuType4_01_N01024_Vrf0064_Udc0.2000D+01V_D1.0_S1.0RFG10eV.dat'\n",
      " 'Temp_SimuTypeQ_N01024_Vrf0064_Udc0.2000D+01V_D1.0_S1.0RFG.dat'\n",
      " 'xva_SimuType4_01_N01024_Vrf0064_Udc0.2000D+01V_D1.0_S1.0RFG10eV.dat']\n"
     ]
    }
   ],
   "source": [
    "# Get T and fluo PM  All SimuType\n",
    "onlyfiles = [f for f in listdir(rep_name) if isfile(join(rep_name, f)) and \"SimuType\" in f and \".dat\" in f]\n",
    "print(sort(onlyfiles))\n",
    "only_init = [f for f in onlyfiles if \"SimuTypeQ\" in f]"
   ]
  },
  {
   "cell_type": "code",
   "execution_count": null,
   "metadata": {},
   "outputs": [],
   "source": []
  },
  {
   "cell_type": "code",
   "execution_count": 46,
   "metadata": {},
   "outputs": [],
   "source": [
    "coucou = 'abCD123efGH'"
   ]
  },
  {
   "cell_type": "code",
   "execution_count": 63,
   "metadata": {},
   "outputs": [
    {
     "name": "stdout",
     "output_type": "stream",
     "text": [
      "123\n"
     ]
    }
   ],
   "source": [
    "j_EGMol = re.sub('\\D','', coucou )\n",
    "print(j_EGMol)"
   ]
  },
  {
   "cell_type": "code",
   "execution_count": 70,
   "metadata": {},
   "outputs": [
    {
     "name": "stdout",
     "output_type": "stream",
     "text": [
      "coucou\n",
      "len save_T [55440]\n",
      "[5.05000000e-07 5.14176543e-05 7.38793448e-04 2.10273990e-05\n",
      " 4.61211460e+01 1.50677356e+00 7.06664375e+01]\n"
     ]
    },
    {
     "ename": "OSError",
     "evalue": "/home/adrian/RemoteFS/Rivendel/20210426/EGMol08/Try00/Temp_SimuTypeQ_N01024_Vrf0064_Udc0.2000D+01V_D1.0_S1.0RFG10eV.dat not found.",
     "output_type": "error",
     "traceback": [
      "\u001b[0;31m---------------------------------------------------------------------------\u001b[0m",
      "\u001b[0;31mOSError\u001b[0m                                   Traceback (most recent call last)",
      "\u001b[0;32m<ipython-input-70-684aeffd7246>\u001b[0m in \u001b[0;36m<module>\u001b[0;34m()\u001b[0m\n\u001b[1;32m      3\u001b[0m temps, temperature, fluo = plot_T_and_PM_Init_Inje_Evol(rep_name,onlyfiles[2].strip('.dat'),flag_plot=1,\n\u001b[1;32m      4\u001b[0m                                     \u001b[0mfig_name\u001b[0m\u001b[0;34m=\u001b[0m\u001b[0;34m'popopo'\u001b[0m\u001b[0;34m,\u001b[0m\u001b[0;34m\u001b[0m\u001b[0;34m\u001b[0m\u001b[0m\n\u001b[0;32m----> 5\u001b[0;31m                                     xlim1=(-2,52),ylim1=(1e-5,8e4)) # ,ylim2=(-5e-12,5e-12)\n\u001b[0m\u001b[1;32m      6\u001b[0m \u001b[0;31m# print(min(dE))\u001b[0m\u001b[0;34m\u001b[0m\u001b[0;34m\u001b[0m\u001b[0;34m\u001b[0m\u001b[0m\n\u001b[1;32m      7\u001b[0m \u001b[0;31m# savefig(rep_name+'T_dE')\u001b[0m\u001b[0;34m\u001b[0m\u001b[0;34m\u001b[0m\u001b[0;34m\u001b[0m\u001b[0m\n",
      "\u001b[0;32m~/Documents/Programmes/Python/GiantMol/Functions/210426_stopping_power.py\u001b[0m in \u001b[0;36mplot_T_and_PM_Init_Inje_Evol\u001b[0;34m(file_dir2, file_name, flag_plot, fig_name, **kwargs)\u001b[0m\n\u001b[1;32m    270\u001b[0m     \u001b[0mT_aux0\u001b[0m \u001b[0;34m=\u001b[0m \u001b[0msave_T\u001b[0m\u001b[0;34m[\u001b[0m\u001b[0;34m:\u001b[0m\u001b[0;34m,\u001b[0m\u001b[0;36m4\u001b[0m\u001b[0;34m:\u001b[0m\u001b[0;36m7\u001b[0m\u001b[0;34m]\u001b[0m\u001b[0;34m\u001b[0m\u001b[0;34m\u001b[0m\u001b[0m\n\u001b[1;32m    271\u001b[0m     \u001b[0;31m# tt0, T_CM0, T_aux0, PM0 = load_T_and_PM_simu(file_dir2+file0)\u001b[0m\u001b[0;34m\u001b[0m\u001b[0;34m\u001b[0m\u001b[0;34m\u001b[0m\u001b[0m\n\u001b[0;32m--> 272\u001b[0;31m     \u001b[0mtt1\u001b[0m\u001b[0;34m,\u001b[0m \u001b[0mT_CM1\u001b[0m\u001b[0;34m,\u001b[0m \u001b[0mT_aux1\u001b[0m\u001b[0;34m,\u001b[0m \u001b[0mPM1\u001b[0m \u001b[0;34m=\u001b[0m \u001b[0mload_T_and_PM_simu\u001b[0m\u001b[0;34m(\u001b[0m\u001b[0mfile_dir2\u001b[0m\u001b[0;34m+\u001b[0m\u001b[0;34m'Temp_'\u001b[0m\u001b[0;34m+\u001b[0m\u001b[0mfile1\u001b[0m\u001b[0;34m)\u001b[0m\u001b[0;34m\u001b[0m\u001b[0;34m\u001b[0m\u001b[0m\n\u001b[0m\u001b[1;32m    273\u001b[0m     \u001b[0mtt2\u001b[0m\u001b[0;34m,\u001b[0m \u001b[0mT_CM2\u001b[0m\u001b[0;34m,\u001b[0m \u001b[0mT_aux2\u001b[0m\u001b[0;34m,\u001b[0m \u001b[0mPM2\u001b[0m \u001b[0;34m=\u001b[0m \u001b[0mload_T_and_PM_simu\u001b[0m\u001b[0;34m(\u001b[0m\u001b[0mfile_dir2\u001b[0m\u001b[0;34m+\u001b[0m\u001b[0;34m'Temp_'\u001b[0m\u001b[0;34m+\u001b[0m\u001b[0mfile2\u001b[0m\u001b[0;34m+\u001b[0m\u001b[0mj_EGMol\u001b[0m\u001b[0;34m+\u001b[0m\u001b[0;34m'eV'\u001b[0m\u001b[0;34m)\u001b[0m\u001b[0;34m\u001b[0m\u001b[0;34m\u001b[0m\u001b[0m\n\u001b[1;32m    274\u001b[0m     \u001b[0mtt3\u001b[0m\u001b[0;34m,\u001b[0m \u001b[0mT_CM3\u001b[0m\u001b[0;34m,\u001b[0m \u001b[0mT_aux3\u001b[0m\u001b[0;34m,\u001b[0m \u001b[0mPM3\u001b[0m \u001b[0;34m=\u001b[0m \u001b[0mload_T_and_PM_simu\u001b[0m\u001b[0;34m(\u001b[0m\u001b[0mfile_dir2\u001b[0m\u001b[0;34m+\u001b[0m\u001b[0;34m'Temp_'\u001b[0m\u001b[0;34m+\u001b[0m\u001b[0mfile3\u001b[0m\u001b[0;34m+\u001b[0m\u001b[0mj_EGMol\u001b[0m\u001b[0;34m+\u001b[0m\u001b[0;34m'eV'\u001b[0m\u001b[0;34m)\u001b[0m\u001b[0;34m\u001b[0m\u001b[0;34m\u001b[0m\u001b[0m\n",
      "\u001b[0;32m~/Documents/Programmes/Python/GiantMol/Functions/210426_stopping_power.py\u001b[0m in \u001b[0;36mload_T_and_PM_simu\u001b[0;34m(str_load)\u001b[0m\n\u001b[1;32m     83\u001b[0m \u001b[0;34m\u001b[0m\u001b[0m\n\u001b[1;32m     84\u001b[0m \u001b[0;32mdef\u001b[0m \u001b[0mload_T_and_PM_simu\u001b[0m\u001b[0;34m(\u001b[0m\u001b[0mstr_load\u001b[0m\u001b[0;34m)\u001b[0m\u001b[0;34m:\u001b[0m\u001b[0;34m\u001b[0m\u001b[0;34m\u001b[0m\u001b[0m\n\u001b[0;32m---> 85\u001b[0;31m     \u001b[0mdata\u001b[0m \u001b[0;34m=\u001b[0m \u001b[0mloadtxt\u001b[0m\u001b[0;34m(\u001b[0m\u001b[0;34m'{}.dat'\u001b[0m\u001b[0;34m.\u001b[0m\u001b[0mformat\u001b[0m\u001b[0;34m(\u001b[0m\u001b[0mstr_load\u001b[0m\u001b[0;34m)\u001b[0m\u001b[0;34m,\u001b[0m\u001b[0mcomments\u001b[0m\u001b[0;34m=\u001b[0m\u001b[0;34m'%'\u001b[0m\u001b[0;34m)\u001b[0m\u001b[0;34m;\u001b[0m\u001b[0;34m\u001b[0m\u001b[0;34m\u001b[0m\u001b[0m\n\u001b[0m\u001b[1;32m     86\u001b[0m     \u001b[0;32mreturn\u001b[0m \u001b[0mdata\u001b[0m\u001b[0;34m[\u001b[0m\u001b[0;34m:\u001b[0m\u001b[0;34m,\u001b[0m\u001b[0;36m0\u001b[0m\u001b[0;34m]\u001b[0m\u001b[0;34m,\u001b[0m\u001b[0mdata\u001b[0m\u001b[0;34m[\u001b[0m\u001b[0;34m:\u001b[0m\u001b[0;34m,\u001b[0m\u001b[0;36m1\u001b[0m\u001b[0;34m:\u001b[0m\u001b[0;36m4\u001b[0m\u001b[0;34m]\u001b[0m\u001b[0;34m,\u001b[0m \u001b[0mdata\u001b[0m\u001b[0;34m[\u001b[0m\u001b[0;34m:\u001b[0m\u001b[0;34m,\u001b[0m\u001b[0;36m4\u001b[0m\u001b[0;34m:\u001b[0m\u001b[0;36m7\u001b[0m\u001b[0;34m]\u001b[0m\u001b[0;34m,\u001b[0m \u001b[0mdata\u001b[0m\u001b[0;34m[\u001b[0m\u001b[0;34m:\u001b[0m\u001b[0;34m,\u001b[0m\u001b[0;36m7\u001b[0m\u001b[0;34m]\u001b[0m \u001b[0;31m# tt, T_CM, T_aux, PM\u001b[0m\u001b[0;34m\u001b[0m\u001b[0;34m\u001b[0m\u001b[0m\n\u001b[1;32m     87\u001b[0m \u001b[0;34m\u001b[0m\u001b[0m\n",
      "\u001b[0;32m~/.local/lib/python3.6/site-packages/numpy/lib/npyio.py\u001b[0m in \u001b[0;36mloadtxt\u001b[0;34m(fname, dtype, comments, delimiter, converters, skiprows, usecols, unpack, ndmin, encoding)\u001b[0m\n\u001b[1;32m    915\u001b[0m             \u001b[0mfname\u001b[0m \u001b[0;34m=\u001b[0m \u001b[0mstr\u001b[0m\u001b[0;34m(\u001b[0m\u001b[0mfname\u001b[0m\u001b[0;34m)\u001b[0m\u001b[0;34m\u001b[0m\u001b[0;34m\u001b[0m\u001b[0m\n\u001b[1;32m    916\u001b[0m         \u001b[0;32mif\u001b[0m \u001b[0m_is_string_like\u001b[0m\u001b[0;34m(\u001b[0m\u001b[0mfname\u001b[0m\u001b[0;34m)\u001b[0m\u001b[0;34m:\u001b[0m\u001b[0;34m\u001b[0m\u001b[0;34m\u001b[0m\u001b[0m\n\u001b[0;32m--> 917\u001b[0;31m             \u001b[0mfh\u001b[0m \u001b[0;34m=\u001b[0m \u001b[0mnp\u001b[0m\u001b[0;34m.\u001b[0m\u001b[0mlib\u001b[0m\u001b[0;34m.\u001b[0m\u001b[0m_datasource\u001b[0m\u001b[0;34m.\u001b[0m\u001b[0mopen\u001b[0m\u001b[0;34m(\u001b[0m\u001b[0mfname\u001b[0m\u001b[0;34m,\u001b[0m \u001b[0;34m'rt'\u001b[0m\u001b[0;34m,\u001b[0m \u001b[0mencoding\u001b[0m\u001b[0;34m=\u001b[0m\u001b[0mencoding\u001b[0m\u001b[0;34m)\u001b[0m\u001b[0;34m\u001b[0m\u001b[0;34m\u001b[0m\u001b[0m\n\u001b[0m\u001b[1;32m    918\u001b[0m             \u001b[0mfencoding\u001b[0m \u001b[0;34m=\u001b[0m \u001b[0mgetattr\u001b[0m\u001b[0;34m(\u001b[0m\u001b[0mfh\u001b[0m\u001b[0;34m,\u001b[0m \u001b[0;34m'encoding'\u001b[0m\u001b[0;34m,\u001b[0m \u001b[0;34m'latin1'\u001b[0m\u001b[0;34m)\u001b[0m\u001b[0;34m\u001b[0m\u001b[0;34m\u001b[0m\u001b[0m\n\u001b[1;32m    919\u001b[0m             \u001b[0mfh\u001b[0m \u001b[0;34m=\u001b[0m \u001b[0miter\u001b[0m\u001b[0;34m(\u001b[0m\u001b[0mfh\u001b[0m\u001b[0;34m)\u001b[0m\u001b[0;34m\u001b[0m\u001b[0;34m\u001b[0m\u001b[0m\n",
      "\u001b[0;32m~/.local/lib/python3.6/site-packages/numpy/lib/_datasource.py\u001b[0m in \u001b[0;36mopen\u001b[0;34m(path, mode, destpath, encoding, newline)\u001b[0m\n\u001b[1;32m    258\u001b[0m \u001b[0;34m\u001b[0m\u001b[0m\n\u001b[1;32m    259\u001b[0m     \u001b[0mds\u001b[0m \u001b[0;34m=\u001b[0m \u001b[0mDataSource\u001b[0m\u001b[0;34m(\u001b[0m\u001b[0mdestpath\u001b[0m\u001b[0;34m)\u001b[0m\u001b[0;34m\u001b[0m\u001b[0;34m\u001b[0m\u001b[0m\n\u001b[0;32m--> 260\u001b[0;31m     \u001b[0;32mreturn\u001b[0m \u001b[0mds\u001b[0m\u001b[0;34m.\u001b[0m\u001b[0mopen\u001b[0m\u001b[0;34m(\u001b[0m\u001b[0mpath\u001b[0m\u001b[0;34m,\u001b[0m \u001b[0mmode\u001b[0m\u001b[0;34m,\u001b[0m \u001b[0mencoding\u001b[0m\u001b[0;34m=\u001b[0m\u001b[0mencoding\u001b[0m\u001b[0;34m,\u001b[0m \u001b[0mnewline\u001b[0m\u001b[0;34m=\u001b[0m\u001b[0mnewline\u001b[0m\u001b[0;34m)\u001b[0m\u001b[0;34m\u001b[0m\u001b[0;34m\u001b[0m\u001b[0m\n\u001b[0m\u001b[1;32m    261\u001b[0m \u001b[0;34m\u001b[0m\u001b[0m\n\u001b[1;32m    262\u001b[0m \u001b[0;34m\u001b[0m\u001b[0m\n",
      "\u001b[0;32m~/.local/lib/python3.6/site-packages/numpy/lib/_datasource.py\u001b[0m in \u001b[0;36mopen\u001b[0;34m(self, path, mode, encoding, newline)\u001b[0m\n\u001b[1;32m    614\u001b[0m                                       encoding=encoding, newline=newline)\n\u001b[1;32m    615\u001b[0m         \u001b[0;32melse\u001b[0m\u001b[0;34m:\u001b[0m\u001b[0;34m\u001b[0m\u001b[0;34m\u001b[0m\u001b[0m\n\u001b[0;32m--> 616\u001b[0;31m             \u001b[0;32mraise\u001b[0m \u001b[0mIOError\u001b[0m\u001b[0;34m(\u001b[0m\u001b[0;34m\"%s not found.\"\u001b[0m \u001b[0;34m%\u001b[0m \u001b[0mpath\u001b[0m\u001b[0;34m)\u001b[0m\u001b[0;34m\u001b[0m\u001b[0;34m\u001b[0m\u001b[0m\n\u001b[0m\u001b[1;32m    617\u001b[0m \u001b[0;34m\u001b[0m\u001b[0m\n\u001b[1;32m    618\u001b[0m \u001b[0;34m\u001b[0m\u001b[0m\n",
      "\u001b[0;31mOSError\u001b[0m: /home/adrian/RemoteFS/Rivendel/20210426/EGMol08/Try00/Temp_SimuTypeQ_N01024_Vrf0064_Udc0.2000D+01V_D1.0_S1.0RFG10eV.dat not found."
     ]
    }
   ],
   "source": [
    "# Temperature and dE/dt\n",
    "\n",
    "temps, temperature, fluo = plot_T_and_PM_Init_Inje_Evol(rep_name,onlyfiles[2].strip('.dat'),flag_plot=1,\n",
    "                                    fig_name='popopo',\n",
    "                                    xlim1=(-2,52),ylim1=(1e-5,8e4)) # ,ylim2=(-5e-12,5e-12)\n",
    "# print(min(dE))\n",
    "# savefig(rep_name+'T_dE')\n",
    "# tt[1980],tt1[0]"
   ]
  },
  {
   "cell_type": "code",
   "execution_count": null,
   "metadata": {},
   "outputs": [],
   "source": []
  },
  {
   "cell_type": "code",
   "execution_count": null,
   "metadata": {},
   "outputs": [],
   "source": []
  }
 ],
 "metadata": {
  "kernelspec": {
   "display_name": "Python 3",
   "language": "python",
   "name": "python3"
  },
  "language_info": {
   "codemirror_mode": {
    "name": "ipython",
    "version": 3
   },
   "file_extension": ".py",
   "mimetype": "text/x-python",
   "name": "python",
   "nbconvert_exporter": "python",
   "pygments_lexer": "ipython3",
   "version": "3.6.7"
  }
 },
 "nbformat": 4,
 "nbformat_minor": 4
}
